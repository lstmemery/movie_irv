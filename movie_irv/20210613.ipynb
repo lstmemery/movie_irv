{
 "cells": [
  {
   "cell_type": "code",
   "execution_count": 25,
   "metadata": {},
   "outputs": [],
   "source": [
    "import pandas as pd\n",
    "import pyrankvote\n",
    "from pathlib import Path\n",
    "from random import seed\n",
    "seed(252)"
   ]
  },
  {
   "cell_type": "code",
   "execution_count": 26,
   "metadata": {},
   "outputs": [
    {
     "data": {
      "text/plain": "             Timestamp  \\\n0  08/06/2021 19:56:51   \n1  08/06/2021 20:10:00   \n2  08/06/2021 20:46:38   \n3  09/06/2021 05:35:49   \n4  09/06/2021 06:06:15   \n5  09/06/2021 06:06:56   \n\n  Rank your movie choices. You don't have to do a full ranking. [First Choice]  \\\n0                                  Metropolis (2001)                             \n1                                   Mind Game (2004)                             \n2                            Vampire Hunter D (1985)                             \n3                                     Redline (2009)                             \n4                                     Redline (2009)                             \n5                      Grave of the Fireflies (1988)                             \n\n  Rank your movie choices. You don't have to do a full ranking. [Second Choice]  \\\n0                      Grave of the Fireflies (1988)                              \n1                      Grave of the Fireflies (1988)                              \n2                                  Metropolis (2001)                              \n3                                   Mind Game (2004)                              \n4                      Grave of the Fireflies (1988)                              \n5                                     Redline (2009)                              \n\n  Rank your movie choices. You don't have to do a full ranking. [Third Choice]  \\\n0                                Perfect Blue (1997)                             \n1                            Vampire Hunter D (1985)                             \n2                                Perfect Blue (1997)                             \n3                            Vampire Hunter D (1985)                             \n4                            Vampire Hunter D (1985)                             \n5                                Perfect Blue (1997)                             \n\n  Rank your movie choices. You don't have to do a full ranking. [Fourth Choice]  \\\n0                                     Redline (2009)                              \n1                                  Metropolis (2001)                              \n2                                     Redline (2009)                              \n3                                  Metropolis (2001)                              \n4                                   Mind Game (2004)                              \n5                                   Mind Game (2004)                              \n\n  Rank your movie choices. You don't have to do a full ranking. [Fifth Choice]  \\\n0                            Vampire Hunter D (1985)                             \n1                                                NaN                             \n2                                   Mind Game (2004)                             \n3                                Perfect Blue (1997)                             \n4                                Perfect Blue (1997)                             \n5                                  Metropolis (2001)                             \n\n  Rank your movie choices. You don't have to do a full ranking. [Sixth Choice]  \\\n0                                   Mind Game (2004)                             \n1                                                NaN                             \n2                      Grave of the Fireflies (1988)                             \n3                      Grave of the Fireflies (1988)                             \n4                                                NaN                             \n5                            Vampire Hunter D (1985)                             \n\n  What theme should we explore next week? [First Choice]  \\\n0                                   HONEY, I'M GAAAY       \n1                                   HONEY, I'M GAAAY       \n2                                        BUNGA BUNGA       \n3                                    GUNS GUNS GUNS!       \n4                        MURDER MYSTERY DINNER PARTY       \n5                                       ONE LAST JOB       \n\n  What theme should we explore next week? [Second Choice]  \\\n0                                            ICELAND        \n1                                       ONE LAST JOB        \n2                                    GUNS GUNS GUNS!        \n3                                   HONEY, I'M GAAAY        \n4                                       ONE LAST JOB        \n5                        MURDER MYSTERY DINNER PARTY        \n\n  What theme should we explore next week? [Third Choice]  \\\n0                        MURDER MYSTERY DINNER PARTY       \n1                                        BUNGA BUNGA       \n2                                       ONE LAST JOB       \n3                                       ONE LAST JOB       \n4                                    GUNS GUNS GUNS!       \n5                                        BUNGA BUNGA       \n\n  What theme should we explore next week? [Fourth Choice]  \\\n0                                       ONE LAST JOB        \n1                                    GUNS GUNS GUNS!        \n2                        MURDER MYSTERY DINNER PARTY        \n3                                        BUNGA BUNGA        \n4                                        BUNGA BUNGA        \n5                                            ICELAND        \n\n  What theme should we explore next week? [Fifth Choice]  \\\n0                          [Default to Nicolas Cage]       \n1                          [Default to Nicolas Cage]       \n2                                   HONEY, I'M GAAAY       \n3                          [Default to Nicolas Cage]       \n4                          [Default to Nicolas Cage]       \n5                                   HONEY, I'M GAAAY       \n\n  What theme should we explore next week? [Sixth Choice]  \\\n0                                    GUNS GUNS GUNS!       \n1                        MURDER MYSTERY DINNER PARTY       \n2                                            ICELAND       \n3                        MURDER MYSTERY DINNER PARTY       \n4                                                NaN       \n5                                    GUNS GUNS GUNS!       \n\n  What theme should we explore next week? [Seventh Choice]  \n0                                        BUNGA BUNGA        \n1                                            ICELAND        \n2                          [Default to Nicolas Cage]        \n3                                            ICELAND        \n4                                                NaN        \n5                          [Default to Nicolas Cage]        ",
      "text/html": "<div>\n<style scoped>\n    .dataframe tbody tr th:only-of-type {\n        vertical-align: middle;\n    }\n\n    .dataframe tbody tr th {\n        vertical-align: top;\n    }\n\n    .dataframe thead th {\n        text-align: right;\n    }\n</style>\n<table border=\"1\" class=\"dataframe\">\n  <thead>\n    <tr style=\"text-align: right;\">\n      <th></th>\n      <th>Timestamp</th>\n      <th>Rank your movie choices. You don't have to do a full ranking. [First Choice]</th>\n      <th>Rank your movie choices. You don't have to do a full ranking. [Second Choice]</th>\n      <th>Rank your movie choices. You don't have to do a full ranking. [Third Choice]</th>\n      <th>Rank your movie choices. You don't have to do a full ranking. [Fourth Choice]</th>\n      <th>Rank your movie choices. You don't have to do a full ranking. [Fifth Choice]</th>\n      <th>Rank your movie choices. You don't have to do a full ranking. [Sixth Choice]</th>\n      <th>What theme should we explore next week? [First Choice]</th>\n      <th>What theme should we explore next week? [Second Choice]</th>\n      <th>What theme should we explore next week? [Third Choice]</th>\n      <th>What theme should we explore next week? [Fourth Choice]</th>\n      <th>What theme should we explore next week? [Fifth Choice]</th>\n      <th>What theme should we explore next week? [Sixth Choice]</th>\n      <th>What theme should we explore next week? [Seventh Choice]</th>\n    </tr>\n  </thead>\n  <tbody>\n    <tr>\n      <th>0</th>\n      <td>08/06/2021 19:56:51</td>\n      <td>Metropolis (2001)</td>\n      <td>Grave of the Fireflies (1988)</td>\n      <td>Perfect Blue (1997)</td>\n      <td>Redline (2009)</td>\n      <td>Vampire Hunter D (1985)</td>\n      <td>Mind Game (2004)</td>\n      <td>HONEY, I'M GAAAY</td>\n      <td>ICELAND</td>\n      <td>MURDER MYSTERY DINNER PARTY</td>\n      <td>ONE LAST JOB</td>\n      <td>[Default to Nicolas Cage]</td>\n      <td>GUNS GUNS GUNS!</td>\n      <td>BUNGA BUNGA</td>\n    </tr>\n    <tr>\n      <th>1</th>\n      <td>08/06/2021 20:10:00</td>\n      <td>Mind Game (2004)</td>\n      <td>Grave of the Fireflies (1988)</td>\n      <td>Vampire Hunter D (1985)</td>\n      <td>Metropolis (2001)</td>\n      <td>NaN</td>\n      <td>NaN</td>\n      <td>HONEY, I'M GAAAY</td>\n      <td>ONE LAST JOB</td>\n      <td>BUNGA BUNGA</td>\n      <td>GUNS GUNS GUNS!</td>\n      <td>[Default to Nicolas Cage]</td>\n      <td>MURDER MYSTERY DINNER PARTY</td>\n      <td>ICELAND</td>\n    </tr>\n    <tr>\n      <th>2</th>\n      <td>08/06/2021 20:46:38</td>\n      <td>Vampire Hunter D (1985)</td>\n      <td>Metropolis (2001)</td>\n      <td>Perfect Blue (1997)</td>\n      <td>Redline (2009)</td>\n      <td>Mind Game (2004)</td>\n      <td>Grave of the Fireflies (1988)</td>\n      <td>BUNGA BUNGA</td>\n      <td>GUNS GUNS GUNS!</td>\n      <td>ONE LAST JOB</td>\n      <td>MURDER MYSTERY DINNER PARTY</td>\n      <td>HONEY, I'M GAAAY</td>\n      <td>ICELAND</td>\n      <td>[Default to Nicolas Cage]</td>\n    </tr>\n    <tr>\n      <th>3</th>\n      <td>09/06/2021 05:35:49</td>\n      <td>Redline (2009)</td>\n      <td>Mind Game (2004)</td>\n      <td>Vampire Hunter D (1985)</td>\n      <td>Metropolis (2001)</td>\n      <td>Perfect Blue (1997)</td>\n      <td>Grave of the Fireflies (1988)</td>\n      <td>GUNS GUNS GUNS!</td>\n      <td>HONEY, I'M GAAAY</td>\n      <td>ONE LAST JOB</td>\n      <td>BUNGA BUNGA</td>\n      <td>[Default to Nicolas Cage]</td>\n      <td>MURDER MYSTERY DINNER PARTY</td>\n      <td>ICELAND</td>\n    </tr>\n    <tr>\n      <th>4</th>\n      <td>09/06/2021 06:06:15</td>\n      <td>Redline (2009)</td>\n      <td>Grave of the Fireflies (1988)</td>\n      <td>Vampire Hunter D (1985)</td>\n      <td>Mind Game (2004)</td>\n      <td>Perfect Blue (1997)</td>\n      <td>NaN</td>\n      <td>MURDER MYSTERY DINNER PARTY</td>\n      <td>ONE LAST JOB</td>\n      <td>GUNS GUNS GUNS!</td>\n      <td>BUNGA BUNGA</td>\n      <td>[Default to Nicolas Cage]</td>\n      <td>NaN</td>\n      <td>NaN</td>\n    </tr>\n    <tr>\n      <th>5</th>\n      <td>09/06/2021 06:06:56</td>\n      <td>Grave of the Fireflies (1988)</td>\n      <td>Redline (2009)</td>\n      <td>Perfect Blue (1997)</td>\n      <td>Mind Game (2004)</td>\n      <td>Metropolis (2001)</td>\n      <td>Vampire Hunter D (1985)</td>\n      <td>ONE LAST JOB</td>\n      <td>MURDER MYSTERY DINNER PARTY</td>\n      <td>BUNGA BUNGA</td>\n      <td>ICELAND</td>\n      <td>HONEY, I'M GAAAY</td>\n      <td>GUNS GUNS GUNS!</td>\n      <td>[Default to Nicolas Cage]</td>\n    </tr>\n  </tbody>\n</table>\n</div>"
     },
     "execution_count": 26,
     "metadata": {},
     "output_type": "execute_result"
    }
   ],
   "source": [
    "df = pd.read_csv(Path('./data/20210613.csv').resolve())\n",
    "df"
   ]
  },
  {
   "cell_type": "code",
   "execution_count": 27,
   "metadata": {},
   "outputs": [],
   "source": [
    "just_ballots = df.loc[:, df.columns.str.startswith('Rank')]\n",
    "next_week = df.loc[:, df.columns.str.startswith('What')]"
   ]
  },
  {
   "cell_type": "code",
   "execution_count": 28,
   "metadata": {},
   "outputs": [
    {
     "data": {
      "text/plain": "array(['Metropolis (2001)', 'Grave of the Fireflies (1988)',\n       'Perfect Blue (1997)', 'Redline (2009)', 'Vampire Hunter D (1985)',\n       'Mind Game (2004)'], dtype=object)"
     },
     "execution_count": 28,
     "metadata": {},
     "output_type": "execute_result"
    }
   ],
   "source": [
    "submissions = just_ballots.loc[just_ballots.notna().all(axis=1).idxmax(),:].values\n",
    "submissions"
   ]
  },
  {
   "cell_type": "code",
   "execution_count": 29,
   "metadata": {},
   "outputs": [],
   "source": [
    "submission_dict = {submission: pyrankvote.Candidate(submission) for submission in submissions}"
   ]
  },
  {
   "cell_type": "code",
   "execution_count": 30,
   "metadata": {},
   "outputs": [],
   "source": [
    "balloted = just_ballots.applymap(lambda x: submission_dict[x] if isinstance(x, str) else x)"
   ]
  },
  {
   "cell_type": "code",
   "execution_count": 31,
   "metadata": {},
   "outputs": [
    {
     "data": {
      "text/plain": "{'Metropolis (2001)': <Candidate('Metropolis (2001)')>,\n 'Grave of the Fireflies (1988)': <Candidate('Grave of the Fireflies (1988)')>,\n 'Perfect Blue (1997)': <Candidate('Perfect Blue (1997)')>,\n 'Redline (2009)': <Candidate('Redline (2009)')>,\n 'Vampire Hunter D (1985)': <Candidate('Vampire Hunter D (1985)')>,\n 'Mind Game (2004)': <Candidate('Mind Game (2004)')>}"
     },
     "execution_count": 31,
     "metadata": {},
     "output_type": "execute_result"
    }
   ],
   "source": [
    "submission_dict"
   ]
  },
  {
   "cell_type": "code",
   "execution_count": 32,
   "metadata": {},
   "outputs": [],
   "source": [
    "ballots = []\n",
    "for ballot in balloted.itertuples():\n",
    "    ballots.append(pyrankvote.Ballot(ranked_candidates=[b for b in ballot if isinstance(b, pyrankvote.Candidate)]))"
   ]
  },
  {
   "cell_type": "code",
   "execution_count": 33,
   "metadata": {},
   "outputs": [
    {
     "data": {
      "text/plain": "[<Ballot(Metropolis (2001), Grave of the Fireflies (1988), Perfect Blue (1997), Redline (2009), Vampire Hunter D (1985), Mind Game (2004))>,\n <Ballot(Mind Game (2004), Grave of the Fireflies (1988), Vampire Hunter D (1985), Metropolis (2001))>,\n <Ballot(Vampire Hunter D (1985), Metropolis (2001), Perfect Blue (1997), Redline (2009), Mind Game (2004), Grave of the Fireflies (1988))>,\n <Ballot(Redline (2009), Mind Game (2004), Vampire Hunter D (1985), Metropolis (2001), Perfect Blue (1997), Grave of the Fireflies (1988))>,\n <Ballot(Redline (2009), Grave of the Fireflies (1988), Vampire Hunter D (1985), Mind Game (2004), Perfect Blue (1997))>,\n <Ballot(Grave of the Fireflies (1988), Redline (2009), Perfect Blue (1997), Mind Game (2004), Metropolis (2001), Vampire Hunter D (1985))>]"
     },
     "execution_count": 33,
     "metadata": {},
     "output_type": "execute_result"
    }
   ],
   "source": [
    "ballots"
   ]
  },
  {
   "cell_type": "code",
   "execution_count": 34,
   "metadata": {},
   "outputs": [],
   "source": [
    "election_result = pyrankvote.instant_runoff_voting(submission_dict.values(), ballots,)"
   ]
  },
  {
   "cell_type": "code",
   "execution_count": 35,
   "metadata": {},
   "outputs": [
    {
     "name": "stdout",
     "output_type": "stream",
     "text": [
      "ROUND 1\n",
      "Candidate                        Votes  Status\n",
      "-----------------------------  -------  --------\n",
      "Redline (2009)                       2  Hopeful\n",
      "Grave of the Fireflies (1988)        1  Hopeful\n",
      "Mind Game (2004)                     1  Hopeful\n",
      "Metropolis (2001)                    1  Hopeful\n",
      "Vampire Hunter D (1985)              1  Rejected\n",
      "Perfect Blue (1997)                  0  Rejected\n",
      "\n",
      "ROUND 2\n",
      "Candidate                        Votes  Status\n",
      "-----------------------------  -------  --------\n",
      "Redline (2009)                       2  Hopeful\n",
      "Metropolis (2001)                    2  Hopeful\n",
      "Grave of the Fireflies (1988)        1  Rejected\n",
      "Mind Game (2004)                     1  Rejected\n",
      "Vampire Hunter D (1985)              0  Rejected\n",
      "Perfect Blue (1997)                  0  Rejected\n",
      "\n",
      "FINAL RESULT\n",
      "Candidate                        Votes  Status\n",
      "-----------------------------  -------  --------\n",
      "Metropolis (2001)                    3  Elected\n",
      "Redline (2009)                       3  Rejected\n",
      "Grave of the Fireflies (1988)        0  Rejected\n",
      "Mind Game (2004)                     0  Rejected\n",
      "Vampire Hunter D (1985)              0  Rejected\n",
      "Perfect Blue (1997)                  0  Rejected\n",
      "\n"
     ]
    }
   ],
   "source": [
    "print(election_result)"
   ]
  },
  {
   "cell_type": "code",
   "execution_count": 36,
   "metadata": {},
   "outputs": [
    {
     "name": "stdout",
     "output_type": "stream",
     "text": [
      "ROUND 1\n",
      "Candidate                      Votes  Status\n",
      "---------------------------  -------  --------\n",
      "HONEY, I'M GAAAY                   2  Hopeful\n",
      "ONE LAST JOB                       1  Hopeful\n",
      "MURDER MYSTERY DINNER PARTY        1  Hopeful\n",
      "GUNS GUNS GUNS!                    1  Hopeful\n",
      "BUNGA BUNGA                        1  Rejected\n",
      "ICELAND                            0  Rejected\n",
      "[Default to Nicolas Cage]          0  Rejected\n",
      "\n",
      "ROUND 2\n",
      "Candidate                      Votes  Status\n",
      "---------------------------  -------  --------\n",
      "HONEY, I'M GAAAY                   2  Hopeful\n",
      "GUNS GUNS GUNS!                    2  Hopeful\n",
      "ONE LAST JOB                       1  Rejected\n",
      "MURDER MYSTERY DINNER PARTY        1  Rejected\n",
      "BUNGA BUNGA                        0  Rejected\n",
      "ICELAND                            0  Rejected\n",
      "[Default to Nicolas Cage]          0  Rejected\n",
      "\n",
      "FINAL RESULT\n",
      "Candidate                      Votes  Status\n",
      "---------------------------  -------  --------\n",
      "GUNS GUNS GUNS!                    3  Elected\n",
      "HONEY, I'M GAAAY                   3  Rejected\n",
      "ONE LAST JOB                       0  Rejected\n",
      "MURDER MYSTERY DINNER PARTY        0  Rejected\n",
      "BUNGA BUNGA                        0  Rejected\n",
      "ICELAND                            0  Rejected\n",
      "[Default to Nicolas Cage]          0  Rejected\n",
      "\n"
     ]
    }
   ],
   "source": [
    "submissions = next_week.loc[next_week.notna().all(axis=1).idxmax(),:].values\n",
    "submission_dict = {submission: pyrankvote.Candidate(submission) for submission in submissions}\n",
    "balloted = next_week.applymap(lambda x: submission_dict[x] if isinstance(x, str) else x)\n",
    "ballots = []\n",
    "for ballot in balloted.itertuples():\n",
    "    ballots.append(pyrankvote.Ballot(ranked_candidates=[b for b in ballot if isinstance(b, pyrankvote.Candidate)]))\n",
    "print(pyrankvote.instant_runoff_voting(submission_dict.values(), ballots,))"
   ]
  }
 ],
 "metadata": {
  "kernelspec": {
   "display_name": "Python 3",
   "language": "python",
   "name": "python3"
  },
  "language_info": {
   "codemirror_mode": {
    "name": "ipython",
    "version": 3
   },
   "file_extension": ".py",
   "mimetype": "text/x-python",
   "name": "python",
   "nbconvert_exporter": "python",
   "pygments_lexer": "ipython3",
   "version": "3.7.4"
  }
 },
 "nbformat": 4,
 "nbformat_minor": 2
}