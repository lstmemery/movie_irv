{
 "cells": [
  {
   "cell_type": "code",
   "execution_count": 1,
   "metadata": {},
   "outputs": [],
   "source": [
    "import pandas as pd\n",
    "import pyrankvote\n",
    "from pathlib import Path"
   ]
  },
  {
   "cell_type": "code",
   "execution_count": 2,
   "metadata": {},
   "outputs": [
    {
     "data": {
      "text/plain": "           Timestamp  \\\n0   9/8/2020 8:04:20   \n1   9/8/2020 8:30:18   \n2  9/8/2020 10:03:19   \n3  9/8/2020 10:12:09   \n4  9/8/2020 20:45:46   \n5   9/9/2020 8:43:53   \n6  9/9/2020 10:16:41   \n\n  Rank your movie choices. You don't have to do a full ranking. [First Choice]  \\\n0                                    Killer of Sheep                             \n1                                  Edge of the Knife                             \n2                                   Bury The Hatchet                             \n3                                   Bury The Hatchet                             \n4                                     Poetic Justice                             \n5                                     Poetic Justice                             \n6                                           Basquiat                             \n\n  Rank your movie choices. You don't have to do a full ranking. [Second Choice]  \\\n0                                  Edge of the Knife                              \n1                                    Killer of Sheep                              \n2                                     Poetic Justice                              \n3                                  Edge of the Knife                              \n4                                  Edge of the Knife                              \n5                                Sorry to Bother You                              \n6                                  Edge of the Knife                              \n\n  Rank your movie choices. You don't have to do a full ranking. [Third Choice]  \\\n0                                      Losing Ground                             \n1                                     Poetic Justice                             \n2                                Sorry to Bother You                             \n3                                Sorry to Bother You                             \n4                                   Bury The Hatchet                             \n5                                   Bury The Hatchet                             \n6                                Sorry to Bother You                             \n\n  Rank your movie choices. You don't have to do a full ranking. [Fourth Choice]  \\\n0                                   Bury The Hatchet                              \n1                                           Basquiat                              \n2                                      Losing Ground                              \n3                                     Poetic Justice                              \n4                                           Basquiat                              \n5                                    Killer of Sheep                              \n6                                   Bury The Hatchet                              \n\n  Rank your movie choices. You don't have to do a full ranking. [Fifth Choice]  \\\n0                                           Basquiat                             \n1                                Sorry to Bother You                             \n2                                  Edge of the Knife                             \n3                                      Losing Ground                             \n4                                    Killer of Sheep                             \n5                                  Edge of the Knife                             \n6                                    Killer of Sheep                             \n\n  Rank your movie choices. You don't have to do a full ranking. [Sixth Choice]  \\\n0                                     Poetic Justice                             \n1                                   Bury The Hatchet                             \n2                                    Killer of Sheep                             \n3                                                NaN                             \n4                                Sorry to Bother You                             \n5                                           Basquiat                             \n6                                      Losing Ground                             \n\n  Rank your movie choices. You don't have to do a full ranking. [Seventh Choice]  \\\n0                                                NaN                               \n1                                      Losing Ground                               \n2                                           Basquiat                               \n3                                                NaN                               \n4                                      Losing Ground                               \n5                                      Losing Ground                               \n6                                     Poetic Justice                               \n\n  What theme should we explore next week? [First Choice]  \\\n0                                COLOUR IN THE TITLE       \n1                                               FOOD       \n2                         PROTESTANTS: FRIEND OR FOE       \n3                                      TOTALLY SPIES       \n4                                COLOUR IN THE TITLE       \n5                             PLANTS: FRIEND OR FOE?       \n6                         PROTESTANTS: FRIEND OR FOE       \n\n  What theme should we explore next week? [Second Choice]  \\\n0                         PROTESTANTS: FRIEND OR FOE        \n1                             PLANTS: FRIEND OR FOE?        \n2                                      TOTALLY SPIES        \n3                                COLOUR IN THE TITLE        \n4                                               FOOD        \n5                               FEAR OF THE FEMININE        \n6                   MARIJUANO IS AN ILLEGAL NARCOTIC        \n\n  What theme should we explore next week? [Third Choice]  \\\n0                               FEAR OF THE FEMININE       \n1                         PROTESTANTS: FRIEND OR FOE       \n2                             PLANTS: FRIEND OR FOE?       \n3                         PROTESTANTS: FRIEND OR FOE       \n4                               FEAR OF THE FEMININE       \n5                   MARIJUANO IS AN ILLEGAL NARCOTIC       \n6                               FEAR OF THE FEMININE       \n\n  What theme should we explore next week? [Fourth Choice]  \\\n0                                               FOOD        \n1                                      TOTALLY SPIES        \n2                   MARIJUANO IS AN ILLEGAL NARCOTIC        \n3                               FEAR OF THE FEMININE        \n4                         PROTESTANTS: FRIEND OR FOE        \n5                                               FOOD        \n6                                COLOUR IN THE TITLE        \n\n  What theme should we explore next week? [Fifth Choice]  \\\n0                                      TOTALLY SPIES       \n1                                COLOUR IN THE TITLE       \n2                                               FOOD       \n3                                               FOOD       \n4                                      TOTALLY SPIES       \n5                                      TOTALLY SPIES       \n6                                               FOOD       \n\n  What theme should we explore next week? [Sixth Choice]  \\\n0                   MARIJUANO IS AN ILLEGAL NARCOTIC       \n1                               FEAR OF THE FEMININE       \n2                               FEAR OF THE FEMININE       \n3                             PLANTS: FRIEND OR FOE?       \n4                             PLANTS: FRIEND OR FOE?       \n5                         PROTESTANTS: FRIEND OR FOE       \n6                             PLANTS: FRIEND OR FOE?       \n\n  What theme should we explore next week? [Seventh Choice]  \\\n0                             PLANTS: FRIEND OR FOE?         \n1                   MARIJUANO IS AN ILLEGAL NARCOTIC         \n2                                COLOUR IN THE TITLE         \n3                   MARIJUANO IS AN ILLEGAL NARCOTIC         \n4                   MARIJUANO IS AN ILLEGAL NARCOTIC         \n5                                COLOUR IN THE TITLE         \n6                                      TOTALLY SPIES         \n\n  What theme should we explore next week? [Eighth Choice]  \n0                              No Theme/Free-for-all       \n1                                                NaN       \n2                              No Theme/Free-for-all       \n3                                                NaN       \n4                              No Theme/Free-for-all       \n5                              No Theme/Free-for-all       \n6                              No Theme/Free-for-all       ",
      "text/html": "<div>\n<style scoped>\n    .dataframe tbody tr th:only-of-type {\n        vertical-align: middle;\n    }\n\n    .dataframe tbody tr th {\n        vertical-align: top;\n    }\n\n    .dataframe thead th {\n        text-align: right;\n    }\n</style>\n<table border=\"1\" class=\"dataframe\">\n  <thead>\n    <tr style=\"text-align: right;\">\n      <th></th>\n      <th>Timestamp</th>\n      <th>Rank your movie choices. You don't have to do a full ranking. [First Choice]</th>\n      <th>Rank your movie choices. You don't have to do a full ranking. [Second Choice]</th>\n      <th>Rank your movie choices. You don't have to do a full ranking. [Third Choice]</th>\n      <th>Rank your movie choices. You don't have to do a full ranking. [Fourth Choice]</th>\n      <th>Rank your movie choices. You don't have to do a full ranking. [Fifth Choice]</th>\n      <th>Rank your movie choices. You don't have to do a full ranking. [Sixth Choice]</th>\n      <th>Rank your movie choices. You don't have to do a full ranking. [Seventh Choice]</th>\n      <th>What theme should we explore next week? [First Choice]</th>\n      <th>What theme should we explore next week? [Second Choice]</th>\n      <th>What theme should we explore next week? [Third Choice]</th>\n      <th>What theme should we explore next week? [Fourth Choice]</th>\n      <th>What theme should we explore next week? [Fifth Choice]</th>\n      <th>What theme should we explore next week? [Sixth Choice]</th>\n      <th>What theme should we explore next week? [Seventh Choice]</th>\n      <th>What theme should we explore next week? [Eighth Choice]</th>\n    </tr>\n  </thead>\n  <tbody>\n    <tr>\n      <th>0</th>\n      <td>9/8/2020 8:04:20</td>\n      <td>Killer of Sheep</td>\n      <td>Edge of the Knife</td>\n      <td>Losing Ground</td>\n      <td>Bury The Hatchet</td>\n      <td>Basquiat</td>\n      <td>Poetic Justice</td>\n      <td>NaN</td>\n      <td>COLOUR IN THE TITLE</td>\n      <td>PROTESTANTS: FRIEND OR FOE</td>\n      <td>FEAR OF THE FEMININE</td>\n      <td>FOOD</td>\n      <td>TOTALLY SPIES</td>\n      <td>MARIJUANO IS AN ILLEGAL NARCOTIC</td>\n      <td>PLANTS: FRIEND OR FOE?</td>\n      <td>No Theme/Free-for-all</td>\n    </tr>\n    <tr>\n      <th>1</th>\n      <td>9/8/2020 8:30:18</td>\n      <td>Edge of the Knife</td>\n      <td>Killer of Sheep</td>\n      <td>Poetic Justice</td>\n      <td>Basquiat</td>\n      <td>Sorry to Bother You</td>\n      <td>Bury The Hatchet</td>\n      <td>Losing Ground</td>\n      <td>FOOD</td>\n      <td>PLANTS: FRIEND OR FOE?</td>\n      <td>PROTESTANTS: FRIEND OR FOE</td>\n      <td>TOTALLY SPIES</td>\n      <td>COLOUR IN THE TITLE</td>\n      <td>FEAR OF THE FEMININE</td>\n      <td>MARIJUANO IS AN ILLEGAL NARCOTIC</td>\n      <td>NaN</td>\n    </tr>\n    <tr>\n      <th>2</th>\n      <td>9/8/2020 10:03:19</td>\n      <td>Bury The Hatchet</td>\n      <td>Poetic Justice</td>\n      <td>Sorry to Bother You</td>\n      <td>Losing Ground</td>\n      <td>Edge of the Knife</td>\n      <td>Killer of Sheep</td>\n      <td>Basquiat</td>\n      <td>PROTESTANTS: FRIEND OR FOE</td>\n      <td>TOTALLY SPIES</td>\n      <td>PLANTS: FRIEND OR FOE?</td>\n      <td>MARIJUANO IS AN ILLEGAL NARCOTIC</td>\n      <td>FOOD</td>\n      <td>FEAR OF THE FEMININE</td>\n      <td>COLOUR IN THE TITLE</td>\n      <td>No Theme/Free-for-all</td>\n    </tr>\n    <tr>\n      <th>3</th>\n      <td>9/8/2020 10:12:09</td>\n      <td>Bury The Hatchet</td>\n      <td>Edge of the Knife</td>\n      <td>Sorry to Bother You</td>\n      <td>Poetic Justice</td>\n      <td>Losing Ground</td>\n      <td>NaN</td>\n      <td>NaN</td>\n      <td>TOTALLY SPIES</td>\n      <td>COLOUR IN THE TITLE</td>\n      <td>PROTESTANTS: FRIEND OR FOE</td>\n      <td>FEAR OF THE FEMININE</td>\n      <td>FOOD</td>\n      <td>PLANTS: FRIEND OR FOE?</td>\n      <td>MARIJUANO IS AN ILLEGAL NARCOTIC</td>\n      <td>NaN</td>\n    </tr>\n    <tr>\n      <th>4</th>\n      <td>9/8/2020 20:45:46</td>\n      <td>Poetic Justice</td>\n      <td>Edge of the Knife</td>\n      <td>Bury The Hatchet</td>\n      <td>Basquiat</td>\n      <td>Killer of Sheep</td>\n      <td>Sorry to Bother You</td>\n      <td>Losing Ground</td>\n      <td>COLOUR IN THE TITLE</td>\n      <td>FOOD</td>\n      <td>FEAR OF THE FEMININE</td>\n      <td>PROTESTANTS: FRIEND OR FOE</td>\n      <td>TOTALLY SPIES</td>\n      <td>PLANTS: FRIEND OR FOE?</td>\n      <td>MARIJUANO IS AN ILLEGAL NARCOTIC</td>\n      <td>No Theme/Free-for-all</td>\n    </tr>\n    <tr>\n      <th>5</th>\n      <td>9/9/2020 8:43:53</td>\n      <td>Poetic Justice</td>\n      <td>Sorry to Bother You</td>\n      <td>Bury The Hatchet</td>\n      <td>Killer of Sheep</td>\n      <td>Edge of the Knife</td>\n      <td>Basquiat</td>\n      <td>Losing Ground</td>\n      <td>PLANTS: FRIEND OR FOE?</td>\n      <td>FEAR OF THE FEMININE</td>\n      <td>MARIJUANO IS AN ILLEGAL NARCOTIC</td>\n      <td>FOOD</td>\n      <td>TOTALLY SPIES</td>\n      <td>PROTESTANTS: FRIEND OR FOE</td>\n      <td>COLOUR IN THE TITLE</td>\n      <td>No Theme/Free-for-all</td>\n    </tr>\n    <tr>\n      <th>6</th>\n      <td>9/9/2020 10:16:41</td>\n      <td>Basquiat</td>\n      <td>Edge of the Knife</td>\n      <td>Sorry to Bother You</td>\n      <td>Bury The Hatchet</td>\n      <td>Killer of Sheep</td>\n      <td>Losing Ground</td>\n      <td>Poetic Justice</td>\n      <td>PROTESTANTS: FRIEND OR FOE</td>\n      <td>MARIJUANO IS AN ILLEGAL NARCOTIC</td>\n      <td>FEAR OF THE FEMININE</td>\n      <td>COLOUR IN THE TITLE</td>\n      <td>FOOD</td>\n      <td>PLANTS: FRIEND OR FOE?</td>\n      <td>TOTALLY SPIES</td>\n      <td>No Theme/Free-for-all</td>\n    </tr>\n  </tbody>\n</table>\n</div>"
     },
     "execution_count": 2,
     "metadata": {},
     "output_type": "execute_result"
    }
   ],
   "source": [
    "df = pd.read_csv(Path('./data/20200913.csv').resolve())\n",
    "df"
   ]
  },
  {
   "cell_type": "code",
   "execution_count": 3,
   "metadata": {},
   "outputs": [],
   "source": [
    "just_ballots = df.loc[:, df.columns.str.startswith('Rank')]\n",
    "next_week = df.loc[:, df.columns.str.startswith('What')]"
   ]
  },
  {
   "cell_type": "code",
   "execution_count": 4,
   "metadata": {},
   "outputs": [
    {
     "data": {
      "text/plain": "array(['Edge of the Knife', 'Killer of Sheep', 'Poetic Justice',\n       'Basquiat', 'Sorry to Bother You', 'Bury The Hatchet',\n       'Losing Ground'], dtype=object)"
     },
     "execution_count": 4,
     "metadata": {},
     "output_type": "execute_result"
    }
   ],
   "source": [
    "submissions = just_ballots.loc[just_ballots.notna().all(axis=1).idxmax(),:].values\n",
    "submissions"
   ]
  },
  {
   "cell_type": "code",
   "execution_count": 5,
   "metadata": {},
   "outputs": [],
   "source": [
    "submission_dict = {submission: pyrankvote.Candidate(submission) for submission in submissions}"
   ]
  },
  {
   "cell_type": "code",
   "execution_count": 6,
   "metadata": {},
   "outputs": [],
   "source": [
    "balloted = just_ballots.applymap(lambda x: submission_dict[x] if isinstance(x, str) else x)"
   ]
  },
  {
   "cell_type": "code",
   "execution_count": 7,
   "metadata": {},
   "outputs": [
    {
     "data": {
      "text/plain": "{'Edge of the Knife': <Candidate('Edge of the Knife')>,\n 'Killer of Sheep': <Candidate('Killer of Sheep')>,\n 'Poetic Justice': <Candidate('Poetic Justice')>,\n 'Basquiat': <Candidate('Basquiat')>,\n 'Sorry to Bother You': <Candidate('Sorry to Bother You')>,\n 'Bury The Hatchet': <Candidate('Bury The Hatchet')>,\n 'Losing Ground': <Candidate('Losing Ground')>}"
     },
     "execution_count": 7,
     "metadata": {},
     "output_type": "execute_result"
    }
   ],
   "source": [
    "submission_dict"
   ]
  },
  {
   "cell_type": "code",
   "execution_count": 8,
   "metadata": {},
   "outputs": [],
   "source": [
    "ballots = []\n",
    "for ballot in balloted.itertuples():\n",
    "    ballots.append(pyrankvote.Ballot(ranked_candidates=[b for b in ballot if isinstance(b, pyrankvote.Candidate)]))"
   ]
  },
  {
   "cell_type": "code",
   "execution_count": 9,
   "metadata": {},
   "outputs": [
    {
     "data": {
      "text/plain": "[<Ballot(Killer of Sheep, Edge of the Knife, Losing Ground, Bury The Hatchet, Basquiat, Poetic Justice)>,\n <Ballot(Edge of the Knife, Killer of Sheep, Poetic Justice, Basquiat, Sorry to Bother You, Bury The Hatchet, Losing Ground)>,\n <Ballot(Bury The Hatchet, Poetic Justice, Sorry to Bother You, Losing Ground, Edge of the Knife, Killer of Sheep, Basquiat)>,\n <Ballot(Bury The Hatchet, Edge of the Knife, Sorry to Bother You, Poetic Justice, Losing Ground)>,\n <Ballot(Poetic Justice, Edge of the Knife, Bury The Hatchet, Basquiat, Killer of Sheep, Sorry to Bother You, Losing Ground)>,\n <Ballot(Poetic Justice, Sorry to Bother You, Bury The Hatchet, Killer of Sheep, Edge of the Knife, Basquiat, Losing Ground)>,\n <Ballot(Basquiat, Edge of the Knife, Sorry to Bother You, Bury The Hatchet, Killer of Sheep, Losing Ground, Poetic Justice)>]"
     },
     "execution_count": 9,
     "metadata": {},
     "output_type": "execute_result"
    }
   ],
   "source": [
    "ballots"
   ]
  },
  {
   "cell_type": "code",
   "execution_count": 10,
   "metadata": {},
   "outputs": [],
   "source": [
    "election_result = pyrankvote.instant_runoff_voting(submission_dict.values(), ballots,)"
   ]
  },
  {
   "cell_type": "code",
   "execution_count": 11,
   "metadata": {},
   "outputs": [
    {
     "name": "stdout",
     "output_type": "stream",
     "text": [
      "ROUND 1\n",
      "Candidate              Votes  Status\n",
      "-------------------  -------  --------\n",
      "Poetic Justice             2  Hopeful\n",
      "Bury The Hatchet           2  Hopeful\n",
      "Edge of the Knife          1  Hopeful\n",
      "Killer of Sheep            1  Hopeful\n",
      "Basquiat                   1  Rejected\n",
      "Sorry to Bother You        0  Rejected\n",
      "Losing Ground              0  Rejected\n",
      "\n",
      "ROUND 2\n",
      "Candidate              Votes  Status\n",
      "-------------------  -------  --------\n",
      "Edge of the Knife          2  Hopeful\n",
      "Bury The Hatchet           2  Hopeful\n",
      "Poetic Justice             2  Hopeful\n",
      "Killer of Sheep            1  Rejected\n",
      "Basquiat                   0  Rejected\n",
      "Sorry to Bother You        0  Rejected\n",
      "Losing Ground              0  Rejected\n",
      "\n",
      "ROUND 3\n",
      "Candidate              Votes  Status\n",
      "-------------------  -------  --------\n",
      "Edge of the Knife          3  Hopeful\n",
      "Bury The Hatchet           2  Hopeful\n",
      "Poetic Justice             2  Rejected\n",
      "Killer of Sheep            0  Rejected\n",
      "Basquiat                   0  Rejected\n",
      "Sorry to Bother You        0  Rejected\n",
      "Losing Ground              0  Rejected\n",
      "\n",
      "FINAL RESULT\n",
      "Candidate              Votes  Status\n",
      "-------------------  -------  --------\n",
      "Edge of the Knife          4  Elected\n",
      "Bury The Hatchet           3  Rejected\n",
      "Poetic Justice             0  Rejected\n",
      "Killer of Sheep            0  Rejected\n",
      "Basquiat                   0  Rejected\n",
      "Sorry to Bother You        0  Rejected\n",
      "Losing Ground              0  Rejected\n",
      "\n"
     ]
    }
   ],
   "source": [
    "print(election_result)"
   ]
  },
  {
   "cell_type": "code",
   "execution_count": 12,
   "metadata": {},
   "outputs": [
    {
     "name": "stdout",
     "output_type": "stream",
     "text": [
      "ROUND 1\n",
      "Candidate                           Votes  Status\n",
      "--------------------------------  -------  --------\n",
      "PROTESTANTS: FRIEND OR FOE              2  Hopeful\n",
      "COLOUR IN THE TITLE                     2  Hopeful\n",
      "PLANTS: FRIEND OR FOE?                  1  Hopeful\n",
      "FOOD                                    1  Hopeful\n",
      "TOTALLY SPIES                           1  Rejected\n",
      "FEAR OF THE FEMININE                    0  Rejected\n",
      "MARIJUANO IS AN ILLEGAL NARCOTIC        0  Rejected\n",
      "No Theme/Free-for-all                   0  Rejected\n",
      "\n",
      "ROUND 2\n",
      "Candidate                           Votes  Status\n",
      "--------------------------------  -------  --------\n",
      "COLOUR IN THE TITLE                     3  Hopeful\n",
      "PROTESTANTS: FRIEND OR FOE              2  Hopeful\n",
      "FOOD                                    1  Rejected\n",
      "PLANTS: FRIEND OR FOE?                  1  Rejected\n",
      "TOTALLY SPIES                           0  Rejected\n",
      "FEAR OF THE FEMININE                    0  Rejected\n",
      "MARIJUANO IS AN ILLEGAL NARCOTIC        0  Rejected\n",
      "No Theme/Free-for-all                   0  Rejected\n",
      "\n",
      "FINAL RESULT\n",
      "Candidate                           Votes  Status\n",
      "--------------------------------  -------  --------\n",
      "PROTESTANTS: FRIEND OR FOE              4  Elected\n",
      "COLOUR IN THE TITLE                     3  Rejected\n",
      "FOOD                                    0  Rejected\n",
      "PLANTS: FRIEND OR FOE?                  0  Rejected\n",
      "TOTALLY SPIES                           0  Rejected\n",
      "FEAR OF THE FEMININE                    0  Rejected\n",
      "MARIJUANO IS AN ILLEGAL NARCOTIC        0  Rejected\n",
      "No Theme/Free-for-all                   0  Rejected\n",
      "\n"
     ]
    }
   ],
   "source": [
    "submissions = next_week.loc[next_week.notna().all(axis=1).idxmax(),:].values\n",
    "submission_dict = {submission: pyrankvote.Candidate(submission) for submission in submissions}\n",
    "balloted = next_week.applymap(lambda x: submission_dict[x] if isinstance(x, str) else x)\n",
    "ballots = []\n",
    "for ballot in balloted.itertuples():\n",
    "    ballots.append(pyrankvote.Ballot(ranked_candidates=[b for b in ballot if isinstance(b, pyrankvote.Candidate)]))\n",
    "print(pyrankvote.instant_runoff_voting(submission_dict.values(), ballots,))"
   ]
  }
 ],
 "metadata": {
  "kernelspec": {
   "display_name": "Python 3",
   "language": "python",
   "name": "python3"
  },
  "language_info": {
   "codemirror_mode": {
    "name": "ipython",
    "version": 3
   },
   "file_extension": ".py",
   "mimetype": "text/x-python",
   "name": "python",
   "nbconvert_exporter": "python",
   "pygments_lexer": "ipython3",
   "version": "3.7.4"
  }
 },
 "nbformat": 4,
 "nbformat_minor": 2
}