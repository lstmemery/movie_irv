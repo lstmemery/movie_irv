{
 "cells": [
  {
   "cell_type": "code",
   "execution_count": 1,
   "metadata": {},
   "outputs": [],
   "source": [
    "import pandas as pd\n",
    "import pyrankvote\n",
    "from pathlib import Path\n",
    "from random import seed\n",
    "seed(252)"
   ]
  },
  {
   "cell_type": "code",
   "execution_count": 2,
   "metadata": {},
   "outputs": [
    {
     "data": {
      "text/plain": "             Timestamp  \\\n0  03/08/2021 22:21:39   \n1  03/08/2021 22:34:41   \n2  04/08/2021 06:41:54   \n3  04/08/2021 09:46:56   \n4  05/08/2021 10:56:02   \n5  05/08/2021 13:26:25   \n\n  Rank your movie choices. You don't have to do a full ranking. [First Choice]  \\\n0                              Black Mexicans (2018)                             \n1                    The Young and the Damned (1950)                             \n2                                       Museo (2018)                             \n3                                       Museo (2018)                             \n4                               The Challenge (2003)                             \n5                    The Young and the Damned (1950)                             \n\n  Rank your movie choices. You don't have to do a full ranking. [Second Choice]  \\\n0                               The Challenge (2003)                              \n1                    Misterio en las Bermudas (1970)                              \n2                              Black Mexicans (2018)                              \n3                              Black Mexicans (2018)                              \n4                    The Young and the Damned (1950)                              \n5                    Misterio en las Bermudas (1970)                              \n\n  Rank your movie choices. You don't have to do a full ranking. [Third Choice]  \\\n0                                       Museo (2018)                             \n1                              Black Mexicans (2018)                             \n2                                                NaN                             \n3                               The Challenge (2003)                             \n4                                       Museo (2018)                             \n5                              Black Mexicans (2018)                             \n\n  Rank your movie choices. You don't have to do a full ranking. [Fourth Choice]  \\\n0                    Misterio en las Bermudas (1970)                              \n1                                       Museo (2018)                              \n2                                                NaN                              \n3                    The Young and the Damned (1950)                              \n4                              Black Mexicans (2018)                              \n5                                       Museo (2018)                              \n\n  Rank your movie choices. You don't have to do a full ranking. [Fifth Choice]  \\\n0                    The Young and the Damned (1950)                             \n1                               The Challenge (2003)                             \n2                                                NaN                             \n3                    Misterio en las Bermudas (1970)                             \n4                    Misterio en las Bermudas (1970)                             \n5                               The Challenge (2003)                             \n\n  What theme should we explore next week? [First Choice]  \\\n0                                  ROMANTIC COMEDIES       \n1              \"SCORSESE ONLY MAKES GANGSTER FLICKS\"       \n2                                             SPACE.       \n3                                  ROMANTIC COMEDIES       \n4                                              JAPAN       \n5                                              JAPAN       \n\n  What theme should we explore next week? [Second Choice]  \\\n0                                             SPACE.        \n1                                              JAPAN        \n2                                              JAPAN        \n3                                             SPACE.        \n4                                  ROMANTIC COMEDIES        \n5              \"SCORSESE ONLY MAKES GANGSTER FLICKS\"        \n\n  What theme should we explore next week? [Third Choice]  \\\n0                          [Default to Nicolas Cage]       \n1                                             SPACE.       \n2              \"SCORSESE ONLY MAKES GANGSTER FLICKS\"       \n3                                              JAPAN       \n4                          [Default to Nicolas Cage]       \n5                                             SPACE.       \n\n  What theme should we explore next week? [Fourth Choice]  \\\n0                                              JAPAN        \n1                                  ROMANTIC COMEDIES        \n2                          [Default to Nicolas Cage]        \n3              \"SCORSESE ONLY MAKES GANGSTER FLICKS\"        \n4              \"SCORSESE ONLY MAKES GANGSTER FLICKS\"        \n5                          [Default to Nicolas Cage]        \n\n  What theme should we explore next week? [Fifth Choice]  \n0              \"SCORSESE ONLY MAKES GANGSTER FLICKS\"      \n1                          [Default to Nicolas Cage]      \n2                                  ROMANTIC COMEDIES      \n3                          [Default to Nicolas Cage]      \n4                                             SPACE.      \n5                                  ROMANTIC COMEDIES      ",
      "text/html": "<div>\n<style scoped>\n    .dataframe tbody tr th:only-of-type {\n        vertical-align: middle;\n    }\n\n    .dataframe tbody tr th {\n        vertical-align: top;\n    }\n\n    .dataframe thead th {\n        text-align: right;\n    }\n</style>\n<table border=\"1\" class=\"dataframe\">\n  <thead>\n    <tr style=\"text-align: right;\">\n      <th></th>\n      <th>Timestamp</th>\n      <th>Rank your movie choices. You don't have to do a full ranking. [First Choice]</th>\n      <th>Rank your movie choices. You don't have to do a full ranking. [Second Choice]</th>\n      <th>Rank your movie choices. You don't have to do a full ranking. [Third Choice]</th>\n      <th>Rank your movie choices. You don't have to do a full ranking. [Fourth Choice]</th>\n      <th>Rank your movie choices. You don't have to do a full ranking. [Fifth Choice]</th>\n      <th>What theme should we explore next week? [First Choice]</th>\n      <th>What theme should we explore next week? [Second Choice]</th>\n      <th>What theme should we explore next week? [Third Choice]</th>\n      <th>What theme should we explore next week? [Fourth Choice]</th>\n      <th>What theme should we explore next week? [Fifth Choice]</th>\n    </tr>\n  </thead>\n  <tbody>\n    <tr>\n      <th>0</th>\n      <td>03/08/2021 22:21:39</td>\n      <td>Black Mexicans (2018)</td>\n      <td>The Challenge (2003)</td>\n      <td>Museo (2018)</td>\n      <td>Misterio en las Bermudas (1970)</td>\n      <td>The Young and the Damned (1950)</td>\n      <td>ROMANTIC COMEDIES</td>\n      <td>SPACE.</td>\n      <td>[Default to Nicolas Cage]</td>\n      <td>JAPAN</td>\n      <td>\"SCORSESE ONLY MAKES GANGSTER FLICKS\"</td>\n    </tr>\n    <tr>\n      <th>1</th>\n      <td>03/08/2021 22:34:41</td>\n      <td>The Young and the Damned (1950)</td>\n      <td>Misterio en las Bermudas (1970)</td>\n      <td>Black Mexicans (2018)</td>\n      <td>Museo (2018)</td>\n      <td>The Challenge (2003)</td>\n      <td>\"SCORSESE ONLY MAKES GANGSTER FLICKS\"</td>\n      <td>JAPAN</td>\n      <td>SPACE.</td>\n      <td>ROMANTIC COMEDIES</td>\n      <td>[Default to Nicolas Cage]</td>\n    </tr>\n    <tr>\n      <th>2</th>\n      <td>04/08/2021 06:41:54</td>\n      <td>Museo (2018)</td>\n      <td>Black Mexicans (2018)</td>\n      <td>NaN</td>\n      <td>NaN</td>\n      <td>NaN</td>\n      <td>SPACE.</td>\n      <td>JAPAN</td>\n      <td>\"SCORSESE ONLY MAKES GANGSTER FLICKS\"</td>\n      <td>[Default to Nicolas Cage]</td>\n      <td>ROMANTIC COMEDIES</td>\n    </tr>\n    <tr>\n      <th>3</th>\n      <td>04/08/2021 09:46:56</td>\n      <td>Museo (2018)</td>\n      <td>Black Mexicans (2018)</td>\n      <td>The Challenge (2003)</td>\n      <td>The Young and the Damned (1950)</td>\n      <td>Misterio en las Bermudas (1970)</td>\n      <td>ROMANTIC COMEDIES</td>\n      <td>SPACE.</td>\n      <td>JAPAN</td>\n      <td>\"SCORSESE ONLY MAKES GANGSTER FLICKS\"</td>\n      <td>[Default to Nicolas Cage]</td>\n    </tr>\n    <tr>\n      <th>4</th>\n      <td>05/08/2021 10:56:02</td>\n      <td>The Challenge (2003)</td>\n      <td>The Young and the Damned (1950)</td>\n      <td>Museo (2018)</td>\n      <td>Black Mexicans (2018)</td>\n      <td>Misterio en las Bermudas (1970)</td>\n      <td>JAPAN</td>\n      <td>ROMANTIC COMEDIES</td>\n      <td>[Default to Nicolas Cage]</td>\n      <td>\"SCORSESE ONLY MAKES GANGSTER FLICKS\"</td>\n      <td>SPACE.</td>\n    </tr>\n    <tr>\n      <th>5</th>\n      <td>05/08/2021 13:26:25</td>\n      <td>The Young and the Damned (1950)</td>\n      <td>Misterio en las Bermudas (1970)</td>\n      <td>Black Mexicans (2018)</td>\n      <td>Museo (2018)</td>\n      <td>The Challenge (2003)</td>\n      <td>JAPAN</td>\n      <td>\"SCORSESE ONLY MAKES GANGSTER FLICKS\"</td>\n      <td>SPACE.</td>\n      <td>[Default to Nicolas Cage]</td>\n      <td>ROMANTIC COMEDIES</td>\n    </tr>\n  </tbody>\n</table>\n</div>"
     },
     "execution_count": 2,
     "metadata": {},
     "output_type": "execute_result"
    }
   ],
   "source": [
    "df = pd.read_csv(Path('./data/20210808.csv').resolve())\n",
    "df"
   ]
  },
  {
   "cell_type": "code",
   "execution_count": 3,
   "metadata": {},
   "outputs": [],
   "source": [
    "just_ballots = df.loc[:, df.columns.str.startswith('Rank')]\n",
    "next_week = df.loc[:, df.columns.str.startswith('What')]"
   ]
  },
  {
   "cell_type": "code",
   "execution_count": 4,
   "metadata": {},
   "outputs": [
    {
     "data": {
      "text/plain": "array(['Black Mexicans (2018)', 'The Challenge (2003)', 'Museo (2018)',\n       'Misterio en las Bermudas (1970)',\n       'The Young and the Damned (1950)'], dtype=object)"
     },
     "execution_count": 4,
     "metadata": {},
     "output_type": "execute_result"
    }
   ],
   "source": [
    "submissions = just_ballots.loc[just_ballots.notna().all(axis=1).idxmax(),:].values\n",
    "submissions"
   ]
  },
  {
   "cell_type": "code",
   "execution_count": 5,
   "metadata": {},
   "outputs": [],
   "source": [
    "submission_dict = {submission: pyrankvote.Candidate(submission) for submission in submissions}"
   ]
  },
  {
   "cell_type": "code",
   "execution_count": 6,
   "metadata": {},
   "outputs": [],
   "source": [
    "balloted = just_ballots.applymap(lambda x: submission_dict[x] if isinstance(x, str) else x)"
   ]
  },
  {
   "cell_type": "code",
   "execution_count": 7,
   "metadata": {},
   "outputs": [
    {
     "data": {
      "text/plain": "{'Black Mexicans (2018)': <Candidate('Black Mexicans (2018)')>,\n 'The Challenge (2003)': <Candidate('The Challenge (2003)')>,\n 'Museo (2018)': <Candidate('Museo (2018)')>,\n 'Misterio en las Bermudas (1970)': <Candidate('Misterio en las Bermudas (1970)')>,\n 'The Young and the Damned (1950)': <Candidate('The Young and the Damned (1950)')>}"
     },
     "execution_count": 7,
     "metadata": {},
     "output_type": "execute_result"
    }
   ],
   "source": [
    "submission_dict"
   ]
  },
  {
   "cell_type": "code",
   "execution_count": 8,
   "metadata": {},
   "outputs": [],
   "source": [
    "ballots = []\n",
    "for ballot in balloted.itertuples():\n",
    "    ballots.append(pyrankvote.Ballot(ranked_candidates=[b for b in ballot if isinstance(b, pyrankvote.Candidate)]))"
   ]
  },
  {
   "cell_type": "code",
   "execution_count": 9,
   "metadata": {},
   "outputs": [
    {
     "data": {
      "text/plain": "[<Ballot(Black Mexicans (2018), The Challenge (2003), Museo (2018), Misterio en las Bermudas (1970), The Young and the Damned (1950))>,\n <Ballot(The Young and the Damned (1950), Misterio en las Bermudas (1970), Black Mexicans (2018), Museo (2018), The Challenge (2003))>,\n <Ballot(Museo (2018), Black Mexicans (2018))>,\n <Ballot(Museo (2018), Black Mexicans (2018), The Challenge (2003), The Young and the Damned (1950), Misterio en las Bermudas (1970))>,\n <Ballot(The Challenge (2003), The Young and the Damned (1950), Museo (2018), Black Mexicans (2018), Misterio en las Bermudas (1970))>,\n <Ballot(The Young and the Damned (1950), Misterio en las Bermudas (1970), Black Mexicans (2018), Museo (2018), The Challenge (2003))>]"
     },
     "execution_count": 9,
     "metadata": {},
     "output_type": "execute_result"
    }
   ],
   "source": [
    "ballots"
   ]
  },
  {
   "cell_type": "code",
   "execution_count": 10,
   "metadata": {},
   "outputs": [],
   "source": [
    "election_result = pyrankvote.instant_runoff_voting(submission_dict.values(), ballots,)"
   ]
  },
  {
   "cell_type": "code",
   "execution_count": 11,
   "metadata": {},
   "outputs": [
    {
     "name": "stdout",
     "output_type": "stream",
     "text": [
      "ROUND 1\n",
      "Candidate                          Votes  Status\n",
      "-------------------------------  -------  --------\n",
      "The Young and the Damned (1950)        2  Hopeful\n",
      "Museo (2018)                           2  Hopeful\n",
      "Black Mexicans (2018)                  1  Rejected\n",
      "The Challenge (2003)                   1  Rejected\n",
      "Misterio en las Bermudas (1970)        0  Rejected\n",
      "\n",
      "FINAL RESULT\n",
      "Candidate                          Votes  Status\n",
      "-------------------------------  -------  --------\n",
      "Museo (2018)                           3  Elected\n",
      "The Young and the Damned (1950)        3  Rejected\n",
      "Black Mexicans (2018)                  0  Rejected\n",
      "The Challenge (2003)                   0  Rejected\n",
      "Misterio en las Bermudas (1970)        0  Rejected\n",
      "\n"
     ]
    }
   ],
   "source": [
    "print(election_result)"
   ]
  },
  {
   "cell_type": "code",
   "execution_count": 12,
   "metadata": {},
   "outputs": [
    {
     "name": "stdout",
     "output_type": "stream",
     "text": [
      "ROUND 1\n",
      "Candidate                                Votes  Status\n",
      "-------------------------------------  -------  --------\n",
      "JAPAN                                        2  Hopeful\n",
      "ROMANTIC COMEDIES                            2  Hopeful\n",
      "SPACE.                                       1  Rejected\n",
      "\"SCORSESE ONLY MAKES GANGSTER FLICKS\"        1  Rejected\n",
      "[Default to Nicolas Cage]                    0  Rejected\n",
      "\n",
      "FINAL RESULT\n",
      "Candidate                                Votes  Status\n",
      "-------------------------------------  -------  --------\n",
      "JAPAN                                        4  Elected\n",
      "ROMANTIC COMEDIES                            2  Rejected\n",
      "SPACE.                                       0  Rejected\n",
      "\"SCORSESE ONLY MAKES GANGSTER FLICKS\"        0  Rejected\n",
      "[Default to Nicolas Cage]                    0  Rejected\n",
      "\n"
     ]
    }
   ],
   "source": [
    "submissions = next_week.loc[next_week.notna().all(axis=1).idxmax(),:].values\n",
    "submission_dict = {submission: pyrankvote.Candidate(submission) for submission in submissions}\n",
    "balloted = next_week.applymap(lambda x: submission_dict[x] if isinstance(x, str) else x)\n",
    "ballots = []\n",
    "for ballot in balloted.itertuples():\n",
    "    ballots.append(pyrankvote.Ballot(ranked_candidates=[b for b in ballot if isinstance(b, pyrankvote.Candidate)]))\n",
    "print(pyrankvote.instant_runoff_voting(submission_dict.values(), ballots,))"
   ]
  }
 ],
 "metadata": {
  "kernelspec": {
   "display_name": "Python 3",
   "language": "python",
   "name": "python3"
  },
  "language_info": {
   "codemirror_mode": {
    "name": "ipython",
    "version": 3
   },
   "file_extension": ".py",
   "mimetype": "text/x-python",
   "name": "python",
   "nbconvert_exporter": "python",
   "pygments_lexer": "ipython3",
   "version": "3.7.4"
  }
 },
 "nbformat": 4,
 "nbformat_minor": 2
}