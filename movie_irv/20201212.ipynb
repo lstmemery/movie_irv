{
 "cells": [
  {
   "cell_type": "code",
   "execution_count": 1,
   "metadata": {},
   "outputs": [],
   "source": [
    "import pandas as pd\n",
    "import pyrankvote\n",
    "from pathlib import Path\n",
    "from random import seed\n",
    "seed(252)"
   ]
  },
  {
   "cell_type": "code",
   "execution_count": 2,
   "metadata": {},
   "outputs": [
    {
     "data": {
      "text/plain": "            Timestamp  \\\n0  12/8/2020 17:37:11   \n1  12/8/2020 17:42:14   \n2  12/8/2020 18:52:17   \n3  12/8/2020 20:50:28   \n4  12/9/2020 20:35:46   \n5  12/10/2020 8:51:20   \n\n  Rank your movie choices. You don't have to do a full ranking. [First Choice]  \\\n0                                   Fireworks (1997)                             \n1                  You Were Never Really Here (2017)                             \n2                         The Wild Goose Lake (2019)                             \n3                                  Tykho Moon (1996)                             \n4                  You Were Never Really Here (2017)                             \n5                  You Were Never Really Here (2017)                             \n\n  Rank your movie choices. You don't have to do a full ranking. [Second Choice]  \\\n0                         The Wild Goose Lake (2019)                              \n1                                   Fireworks (1997)                              \n2                  You Were Never Really Here (2017)                              \n3                  You Were Never Really Here (2017)                              \n4                         The Wild Goose Lake (2019)                              \n5                                  Dick Tracy (1990)                              \n\n  Rank your movie choices. You don't have to do a full ranking. [Third Choice]  \\\n0                                  Tykho Moon (1996)                             \n1                         The Wild Goose Lake (2019)                             \n2                                   Fireworks (1997)                             \n3                                  Dick Tracy (1990)                             \n4                                  Tykho Moon (1996)                             \n5                         The Wild Goose Lake (2019)                             \n\n  Rank your movie choices. You don't have to do a full ranking. [Fourth Choice]  \\\n0                                  Dick Tracy (1990)                              \n1                                  Tykho Moon (1996)                              \n2                                  Tykho Moon (1996)                              \n3                                   Fireworks (1997)                              \n4                                   Fireworks (1997)                              \n5                                   Fireworks (1997)                              \n\n  Rank your movie choices. You don't have to do a full ranking. [Fifth Choice]  \\\n0                                                NaN                             \n1                                  Dick Tracy (1990)                             \n2                                                NaN                             \n3                         The Wild Goose Lake (2019)                             \n4                                  Dick Tracy (1990)                             \n5                                  Tykho Moon (1996)                             \n\n  What theme should we explore next week? [First Choice]  \\\n0                                               ZERO       \n1                BEAUTIFUL FILM, UGLY SUBJECT MATTER       \n2                                        DIRTY SOUTH       \n3                                           PORTUGAL       \n4                BEAUTIFUL FILM, UGLY SUBJECT MATTER       \n5                                        DIRTY SOUTH       \n\n  What theme should we explore next week? [Second Choice]  \\\n0                BEAUTIFUL FILM, UGLY SUBJECT MATTER        \n1                                   DAD, I'M IN JAIL        \n2                                           PORTUGAL        \n3                                        DIRTY SOUTH        \n4                                        DIRTY SOUTH        \n5                                   DAD, I'M IN JAIL        \n\n  What theme should we explore next week? [Third Choice]  \\\n0                                   DAD, I'M IN JAIL       \n1                                               ZERO       \n2                                               ZERO       \n3                          [Default to Nicolas Cage]       \n4                                           PORTUGAL       \n5                BEAUTIFUL FILM, UGLY SUBJECT MATTER       \n\n  What theme should we explore next week? [Fourth Choice]  \\\n0                                           PORTUGAL        \n1                                           PORTUGAL        \n2                                   DAD, I'M IN JAIL        \n3                BEAUTIFUL FILM, UGLY SUBJECT MATTER        \n4                                               ZERO        \n5                          [Default to Nicolas Cage]        \n\n  What theme should we explore next week? [Fifth Choice]  \\\n0                          [Default to Nicolas Cage]       \n1                                        DIRTY SOUTH       \n2                          [Default to Nicolas Cage]       \n3                                   DAD, I'M IN JAIL       \n4                                   DAD, I'M IN JAIL       \n5                                               ZERO       \n\n  What theme should we explore next week? [Sixth Choice]  \n0                                        DIRTY SOUTH      \n1                          [Default to Nicolas Cage]      \n2                                                NaN      \n3                                               ZERO      \n4                          [Default to Nicolas Cage]      \n5                                           PORTUGAL      ",
      "text/html": "<div>\n<style scoped>\n    .dataframe tbody tr th:only-of-type {\n        vertical-align: middle;\n    }\n\n    .dataframe tbody tr th {\n        vertical-align: top;\n    }\n\n    .dataframe thead th {\n        text-align: right;\n    }\n</style>\n<table border=\"1\" class=\"dataframe\">\n  <thead>\n    <tr style=\"text-align: right;\">\n      <th></th>\n      <th>Timestamp</th>\n      <th>Rank your movie choices. You don't have to do a full ranking. [First Choice]</th>\n      <th>Rank your movie choices. You don't have to do a full ranking. [Second Choice]</th>\n      <th>Rank your movie choices. You don't have to do a full ranking. [Third Choice]</th>\n      <th>Rank your movie choices. You don't have to do a full ranking. [Fourth Choice]</th>\n      <th>Rank your movie choices. You don't have to do a full ranking. [Fifth Choice]</th>\n      <th>What theme should we explore next week? [First Choice]</th>\n      <th>What theme should we explore next week? [Second Choice]</th>\n      <th>What theme should we explore next week? [Third Choice]</th>\n      <th>What theme should we explore next week? [Fourth Choice]</th>\n      <th>What theme should we explore next week? [Fifth Choice]</th>\n      <th>What theme should we explore next week? [Sixth Choice]</th>\n    </tr>\n  </thead>\n  <tbody>\n    <tr>\n      <th>0</th>\n      <td>12/8/2020 17:37:11</td>\n      <td>Fireworks (1997)</td>\n      <td>The Wild Goose Lake (2019)</td>\n      <td>Tykho Moon (1996)</td>\n      <td>Dick Tracy (1990)</td>\n      <td>NaN</td>\n      <td>ZERO</td>\n      <td>BEAUTIFUL FILM, UGLY SUBJECT MATTER</td>\n      <td>DAD, I'M IN JAIL</td>\n      <td>PORTUGAL</td>\n      <td>[Default to Nicolas Cage]</td>\n      <td>DIRTY SOUTH</td>\n    </tr>\n    <tr>\n      <th>1</th>\n      <td>12/8/2020 17:42:14</td>\n      <td>You Were Never Really Here (2017)</td>\n      <td>Fireworks (1997)</td>\n      <td>The Wild Goose Lake (2019)</td>\n      <td>Tykho Moon (1996)</td>\n      <td>Dick Tracy (1990)</td>\n      <td>BEAUTIFUL FILM, UGLY SUBJECT MATTER</td>\n      <td>DAD, I'M IN JAIL</td>\n      <td>ZERO</td>\n      <td>PORTUGAL</td>\n      <td>DIRTY SOUTH</td>\n      <td>[Default to Nicolas Cage]</td>\n    </tr>\n    <tr>\n      <th>2</th>\n      <td>12/8/2020 18:52:17</td>\n      <td>The Wild Goose Lake (2019)</td>\n      <td>You Were Never Really Here (2017)</td>\n      <td>Fireworks (1997)</td>\n      <td>Tykho Moon (1996)</td>\n      <td>NaN</td>\n      <td>DIRTY SOUTH</td>\n      <td>PORTUGAL</td>\n      <td>ZERO</td>\n      <td>DAD, I'M IN JAIL</td>\n      <td>[Default to Nicolas Cage]</td>\n      <td>NaN</td>\n    </tr>\n    <tr>\n      <th>3</th>\n      <td>12/8/2020 20:50:28</td>\n      <td>Tykho Moon (1996)</td>\n      <td>You Were Never Really Here (2017)</td>\n      <td>Dick Tracy (1990)</td>\n      <td>Fireworks (1997)</td>\n      <td>The Wild Goose Lake (2019)</td>\n      <td>PORTUGAL</td>\n      <td>DIRTY SOUTH</td>\n      <td>[Default to Nicolas Cage]</td>\n      <td>BEAUTIFUL FILM, UGLY SUBJECT MATTER</td>\n      <td>DAD, I'M IN JAIL</td>\n      <td>ZERO</td>\n    </tr>\n    <tr>\n      <th>4</th>\n      <td>12/9/2020 20:35:46</td>\n      <td>You Were Never Really Here (2017)</td>\n      <td>The Wild Goose Lake (2019)</td>\n      <td>Tykho Moon (1996)</td>\n      <td>Fireworks (1997)</td>\n      <td>Dick Tracy (1990)</td>\n      <td>BEAUTIFUL FILM, UGLY SUBJECT MATTER</td>\n      <td>DIRTY SOUTH</td>\n      <td>PORTUGAL</td>\n      <td>ZERO</td>\n      <td>DAD, I'M IN JAIL</td>\n      <td>[Default to Nicolas Cage]</td>\n    </tr>\n    <tr>\n      <th>5</th>\n      <td>12/10/2020 8:51:20</td>\n      <td>You Were Never Really Here (2017)</td>\n      <td>Dick Tracy (1990)</td>\n      <td>The Wild Goose Lake (2019)</td>\n      <td>Fireworks (1997)</td>\n      <td>Tykho Moon (1996)</td>\n      <td>DIRTY SOUTH</td>\n      <td>DAD, I'M IN JAIL</td>\n      <td>BEAUTIFUL FILM, UGLY SUBJECT MATTER</td>\n      <td>[Default to Nicolas Cage]</td>\n      <td>ZERO</td>\n      <td>PORTUGAL</td>\n    </tr>\n  </tbody>\n</table>\n</div>"
     },
     "execution_count": 2,
     "metadata": {},
     "output_type": "execute_result"
    }
   ],
   "source": [
    "df = pd.read_csv(Path('./data/20201212.csv').resolve())\n",
    "df"
   ]
  },
  {
   "cell_type": "code",
   "execution_count": 3,
   "metadata": {},
   "outputs": [],
   "source": [
    "just_ballots = df.loc[:, df.columns.str.startswith('Rank')]\n",
    "next_week = df.loc[:, df.columns.str.startswith('What')]"
   ]
  },
  {
   "cell_type": "code",
   "execution_count": 4,
   "metadata": {},
   "outputs": [
    {
     "data": {
      "text/plain": "array(['You Were Never Really Here (2017)', 'Fireworks (1997)',\n       'The Wild Goose Lake (2019)', 'Tykho Moon (1996)',\n       'Dick Tracy (1990)'], dtype=object)"
     },
     "execution_count": 4,
     "metadata": {},
     "output_type": "execute_result"
    }
   ],
   "source": [
    "submissions = just_ballots.loc[just_ballots.notna().all(axis=1).idxmax(),:].values\n",
    "submissions"
   ]
  },
  {
   "cell_type": "code",
   "execution_count": 5,
   "metadata": {},
   "outputs": [],
   "source": [
    "submission_dict = {submission: pyrankvote.Candidate(submission) for submission in submissions}"
   ]
  },
  {
   "cell_type": "code",
   "execution_count": 6,
   "metadata": {},
   "outputs": [],
   "source": [
    "balloted = just_ballots.applymap(lambda x: submission_dict[x] if isinstance(x, str) else x)"
   ]
  },
  {
   "cell_type": "code",
   "execution_count": 7,
   "metadata": {},
   "outputs": [
    {
     "data": {
      "text/plain": "{'You Were Never Really Here (2017)': <Candidate('You Were Never Really Here (2017)')>,\n 'Fireworks (1997)': <Candidate('Fireworks (1997)')>,\n 'The Wild Goose Lake (2019)': <Candidate('The Wild Goose Lake (2019)')>,\n 'Tykho Moon (1996)': <Candidate('Tykho Moon (1996)')>,\n 'Dick Tracy (1990)': <Candidate('Dick Tracy (1990)')>}"
     },
     "execution_count": 7,
     "metadata": {},
     "output_type": "execute_result"
    }
   ],
   "source": [
    "submission_dict"
   ]
  },
  {
   "cell_type": "code",
   "execution_count": 8,
   "metadata": {},
   "outputs": [],
   "source": [
    "ballots = []\n",
    "for ballot in balloted.itertuples():\n",
    "    ballots.append(pyrankvote.Ballot(ranked_candidates=[b for b in ballot if isinstance(b, pyrankvote.Candidate)]))"
   ]
  },
  {
   "cell_type": "code",
   "execution_count": 9,
   "metadata": {},
   "outputs": [
    {
     "data": {
      "text/plain": "[<Ballot(Fireworks (1997), The Wild Goose Lake (2019), Tykho Moon (1996), Dick Tracy (1990))>,\n <Ballot(You Were Never Really Here (2017), Fireworks (1997), The Wild Goose Lake (2019), Tykho Moon (1996), Dick Tracy (1990))>,\n <Ballot(The Wild Goose Lake (2019), You Were Never Really Here (2017), Fireworks (1997), Tykho Moon (1996))>,\n <Ballot(Tykho Moon (1996), You Were Never Really Here (2017), Dick Tracy (1990), Fireworks (1997), The Wild Goose Lake (2019))>,\n <Ballot(You Were Never Really Here (2017), The Wild Goose Lake (2019), Tykho Moon (1996), Fireworks (1997), Dick Tracy (1990))>,\n <Ballot(You Were Never Really Here (2017), Dick Tracy (1990), The Wild Goose Lake (2019), Fireworks (1997), Tykho Moon (1996))>]"
     },
     "execution_count": 9,
     "metadata": {},
     "output_type": "execute_result"
    }
   ],
   "source": [
    "ballots"
   ]
  },
  {
   "cell_type": "code",
   "execution_count": 10,
   "metadata": {},
   "outputs": [],
   "source": [
    "election_result = pyrankvote.instant_runoff_voting(submission_dict.values(), ballots,)"
   ]
  },
  {
   "cell_type": "code",
   "execution_count": 11,
   "metadata": {},
   "outputs": [
    {
     "name": "stdout",
     "output_type": "stream",
     "text": [
      "ROUND 1\n",
      "Candidate                            Votes  Status\n",
      "---------------------------------  -------  --------\n",
      "You Were Never Really Here (2017)        3  Hopeful\n",
      "Fireworks (1997)                         1  Hopeful\n",
      "The Wild Goose Lake (2019)               1  Rejected\n",
      "Tykho Moon (1996)                        1  Rejected\n",
      "Dick Tracy (1990)                        0  Rejected\n",
      "\n",
      "FINAL RESULT\n",
      "Candidate                            Votes  Status\n",
      "---------------------------------  -------  --------\n",
      "You Were Never Really Here (2017)        5  Elected\n",
      "Fireworks (1997)                         1  Rejected\n",
      "The Wild Goose Lake (2019)               0  Rejected\n",
      "Tykho Moon (1996)                        0  Rejected\n",
      "Dick Tracy (1990)                        0  Rejected\n",
      "\n"
     ]
    }
   ],
   "source": [
    "print(election_result)"
   ]
  },
  {
   "cell_type": "code",
   "execution_count": 12,
   "metadata": {},
   "outputs": [
    {
     "name": "stdout",
     "output_type": "stream",
     "text": [
      "ROUND 1\n",
      "Candidate                              Votes  Status\n",
      "-----------------------------------  -------  --------\n",
      "DIRTY SOUTH                                2  Hopeful\n",
      "BEAUTIFUL FILM, UGLY SUBJECT MATTER        2  Hopeful\n",
      "PORTUGAL                                   1  Rejected\n",
      "ZERO                                       1  Rejected\n",
      "DAD, I'M IN JAIL                           0  Rejected\n",
      "[Default to Nicolas Cage]                  0  Rejected\n",
      "\n",
      "FINAL RESULT\n",
      "Candidate                              Votes  Status\n",
      "-----------------------------------  -------  --------\n",
      "DIRTY SOUTH                                3  Elected\n",
      "BEAUTIFUL FILM, UGLY SUBJECT MATTER        3  Rejected\n",
      "PORTUGAL                                   0  Rejected\n",
      "ZERO                                       0  Rejected\n",
      "DAD, I'M IN JAIL                           0  Rejected\n",
      "[Default to Nicolas Cage]                  0  Rejected\n",
      "\n"
     ]
    }
   ],
   "source": [
    "submissions = next_week.loc[next_week.notna().all(axis=1).idxmax(),:].values\n",
    "submission_dict = {submission: pyrankvote.Candidate(submission) for submission in submissions}\n",
    "balloted = next_week.applymap(lambda x: submission_dict[x] if isinstance(x, str) else x)\n",
    "ballots = []\n",
    "for ballot in balloted.itertuples():\n",
    "    ballots.append(pyrankvote.Ballot(ranked_candidates=[b for b in ballot if isinstance(b, pyrankvote.Candidate)]))\n",
    "print(pyrankvote.instant_runoff_voting(submission_dict.values(), ballots,))"
   ]
  }
 ],
 "metadata": {
  "kernelspec": {
   "display_name": "Python 3",
   "language": "python",
   "name": "python3"
  },
  "language_info": {
   "codemirror_mode": {
    "name": "ipython",
    "version": 3
   },
   "file_extension": ".py",
   "mimetype": "text/x-python",
   "name": "python",
   "nbconvert_exporter": "python",
   "pygments_lexer": "ipython3",
   "version": "3.7.4"
  }
 },
 "nbformat": 4,
 "nbformat_minor": 2
}