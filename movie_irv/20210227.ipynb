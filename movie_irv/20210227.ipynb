{
 "cells": [
  {
   "cell_type": "code",
   "execution_count": 13,
   "metadata": {},
   "outputs": [],
   "source": [
    "import pandas as pd\n",
    "import pyrankvote\n",
    "from pathlib import Path\n",
    "from random import seed\n",
    "seed(252)"
   ]
  },
  {
   "cell_type": "code",
   "execution_count": 14,
   "metadata": {},
   "outputs": [
    {
     "data": {
      "text/plain": "             Timestamp  \\\n0   2/23/2021 18:54:04   \n1   2/23/2021 19:05:09   \n2    2/25/2021 9:20:31   \n3   2/23/2021 21:43:42   \n4   2/23/2021 21:43:56   \n5   2/23/2021 21:53:44   \n6   2/23/2021 22:10:04   \n7    2/24/2021 4:50:51   \n8    2/24/2021 7:26:15   \n9    2/24/2021 8:42:06   \n10  2/24/2021 19:48:28   \n\n   Rank your movie choices. You don't have to do a full ranking. [First Choice]  \\\n0                                  Miami Blues (1990)                             \n1                           Step Up Revolution (2012)                             \n2                                  Miami Blues (1990)                             \n3                           Step Up Revolution (2012)                             \n4                               Lady in Cement (1968)                             \n5                           Step Up Revolution (2012)                             \n6                                  Miami Blues (1990)                             \n7                           Step Up Revolution (2012)                             \n8                           Step Up Revolution (2012)                             \n9                             Miami Connection (1987)                             \n10                            Miami Connection (1987)                             \n\n   Rank your movie choices. You don't have to do a full ranking. [Second Choice]  \\\n0                             Miami Connection (1987)                              \n1                             Miami Connection (1987)                              \n2                           Step Up Revolution (2012)                              \n3                                  Miami Blues (1990)                              \n4                                  Miami Blues (1990)                              \n5                                  Miami Blues (1990)                              \n6                               Lady in Cement (1968)                              \n7                             Miami Connection (1987)                              \n8                                  Miami Blues (1990)                              \n9                                                 NaN                              \n10                                 Miami Blues (1990)                              \n\n   Rank your movie choices. You don't have to do a full ranking. [Third Choice]  \\\n0                               Lady in Cement (1968)                             \n1                                  Miami Blues (1990)                             \n2                             Miami Connection (1987)                             \n3                             Miami Connection (1987)                             \n4                             Miami Connection (1987)                             \n5                               Lady in Cement (1968)                             \n6                                                 NaN                             \n7                                  Miami Blues (1990)                             \n8                             Miami Connection (1987)                             \n9                                                 NaN                             \n10                              Lady in Cement (1968)                             \n\n   Rank your movie choices. You don't have to do a full ranking. [Fourth Choice]  \\\n0                           Step Up Revolution (2012)                              \n1                               Lady in Cement (1968)                              \n2                               Lady in Cement (1968)                              \n3                               Lady in Cement (1968)                              \n4                           Step Up Revolution (2012)                              \n5                             Miami Connection (1987)                              \n6                                                 NaN                              \n7                               Lady in Cement (1968)                              \n8                               Lady in Cement (1968)                              \n9                                                 NaN                              \n10                          Step Up Revolution (2012)                              \n\n   What theme should we explore next week? [First Choice]  \\\n0                      DAMN, THAT'S SOME SLEAZY SHIT!       \n1                     WATCH A DOCUMENTARY YOU COWARDS       \n2                     WATCH A DOCUMENTARY YOU COWARDS       \n3                     WATCH A DOCUMENTARY YOU COWARDS       \n4                     WATCH A DOCUMENTARY YOU COWARDS       \n5                                 ANIMALS THAT /TALK/       \n6                                       DE PALMA-RAMA       \n7                     WATCH A DOCUMENTARY YOU COWARDS       \n8                                 ANIMALS THAT /TALK/       \n9                      DAMN, THAT'S SOME SLEAZY SHIT!       \n10                     DAMN, THAT'S SOME SLEAZY SHIT!       \n\n   What theme should we explore next week? [Second Choice]  \\\n0                     WATCH A DOCUMENTARY YOU COWARDS        \n1                                       DE PALMA-RAMA        \n2                           [Default to Nicolas Cage]        \n3                                       DE PALMA-RAMA        \n4                      DAMN, THAT'S SOME SLEAZY SHIT!        \n5                      DAMN, THAT'S SOME SLEAZY SHIT!        \n6                     WATCH A DOCUMENTARY YOU COWARDS        \n7                                       DE PALMA-RAMA        \n8                      DAMN, THAT'S SOME SLEAZY SHIT!        \n9                                 ANIMALS THAT /TALK/        \n10                    WATCH A DOCUMENTARY YOU COWARDS        \n\n   What theme should we explore next week? [Third Choice]  \\\n0                                       DE PALMA-RAMA       \n1                      DAMN, THAT'S SOME SLEAZY SHIT!       \n2                                 ANIMALS THAT /TALK/       \n3                                 ANIMALS THAT /TALK/       \n4                                       DE PALMA-RAMA       \n5                     WATCH A DOCUMENTARY YOU COWARDS       \n6                      DAMN, THAT'S SOME SLEAZY SHIT!       \n7                           [Default to Nicolas Cage]       \n8                                       DE PALMA-RAMA       \n9                                                 NaN       \n10                                      DE PALMA-RAMA       \n\n   What theme should we explore next week? [Fourth Choice]  \\\n0                                 ANIMALS THAT /TALK/        \n1                                 ANIMALS THAT /TALK/        \n2                                       DE PALMA-RAMA        \n3                      DAMN, THAT'S SOME SLEAZY SHIT!        \n4                                 ANIMALS THAT /TALK/        \n5                                       DE PALMA-RAMA        \n6                           [Default to Nicolas Cage]        \n7                      DAMN, THAT'S SOME SLEAZY SHIT!        \n8                     WATCH A DOCUMENTARY YOU COWARDS        \n9                                                 NaN        \n10                                ANIMALS THAT /TALK/        \n\n   What theme should we explore next week? [Fifth Choice]  \n0                           [Default to Nicolas Cage]      \n1                           [Default to Nicolas Cage]      \n2                      DAMN, THAT'S SOME SLEAZY SHIT!      \n3                           [Default to Nicolas Cage]      \n4                           [Default to Nicolas Cage]      \n5                           [Default to Nicolas Cage]      \n6                                 ANIMALS THAT /TALK/      \n7                                 ANIMALS THAT /TALK/      \n8                           [Default to Nicolas Cage]      \n9                                                 NaN      \n10                          [Default to Nicolas Cage]      ",
      "text/html": "<div>\n<style scoped>\n    .dataframe tbody tr th:only-of-type {\n        vertical-align: middle;\n    }\n\n    .dataframe tbody tr th {\n        vertical-align: top;\n    }\n\n    .dataframe thead th {\n        text-align: right;\n    }\n</style>\n<table border=\"1\" class=\"dataframe\">\n  <thead>\n    <tr style=\"text-align: right;\">\n      <th></th>\n      <th>Timestamp</th>\n      <th>Rank your movie choices. You don't have to do a full ranking. [First Choice]</th>\n      <th>Rank your movie choices. You don't have to do a full ranking. [Second Choice]</th>\n      <th>Rank your movie choices. You don't have to do a full ranking. [Third Choice]</th>\n      <th>Rank your movie choices. You don't have to do a full ranking. [Fourth Choice]</th>\n      <th>What theme should we explore next week? [First Choice]</th>\n      <th>What theme should we explore next week? [Second Choice]</th>\n      <th>What theme should we explore next week? [Third Choice]</th>\n      <th>What theme should we explore next week? [Fourth Choice]</th>\n      <th>What theme should we explore next week? [Fifth Choice]</th>\n    </tr>\n  </thead>\n  <tbody>\n    <tr>\n      <th>0</th>\n      <td>2/23/2021 18:54:04</td>\n      <td>Miami Blues (1990)</td>\n      <td>Miami Connection (1987)</td>\n      <td>Lady in Cement (1968)</td>\n      <td>Step Up Revolution (2012)</td>\n      <td>DAMN, THAT'S SOME SLEAZY SHIT!</td>\n      <td>WATCH A DOCUMENTARY YOU COWARDS</td>\n      <td>DE PALMA-RAMA</td>\n      <td>ANIMALS THAT /TALK/</td>\n      <td>[Default to Nicolas Cage]</td>\n    </tr>\n    <tr>\n      <th>1</th>\n      <td>2/23/2021 19:05:09</td>\n      <td>Step Up Revolution (2012)</td>\n      <td>Miami Connection (1987)</td>\n      <td>Miami Blues (1990)</td>\n      <td>Lady in Cement (1968)</td>\n      <td>WATCH A DOCUMENTARY YOU COWARDS</td>\n      <td>DE PALMA-RAMA</td>\n      <td>DAMN, THAT'S SOME SLEAZY SHIT!</td>\n      <td>ANIMALS THAT /TALK/</td>\n      <td>[Default to Nicolas Cage]</td>\n    </tr>\n    <tr>\n      <th>2</th>\n      <td>2/25/2021 9:20:31</td>\n      <td>Miami Blues (1990)</td>\n      <td>Step Up Revolution (2012)</td>\n      <td>Miami Connection (1987)</td>\n      <td>Lady in Cement (1968)</td>\n      <td>WATCH A DOCUMENTARY YOU COWARDS</td>\n      <td>[Default to Nicolas Cage]</td>\n      <td>ANIMALS THAT /TALK/</td>\n      <td>DE PALMA-RAMA</td>\n      <td>DAMN, THAT'S SOME SLEAZY SHIT!</td>\n    </tr>\n    <tr>\n      <th>3</th>\n      <td>2/23/2021 21:43:42</td>\n      <td>Step Up Revolution (2012)</td>\n      <td>Miami Blues (1990)</td>\n      <td>Miami Connection (1987)</td>\n      <td>Lady in Cement (1968)</td>\n      <td>WATCH A DOCUMENTARY YOU COWARDS</td>\n      <td>DE PALMA-RAMA</td>\n      <td>ANIMALS THAT /TALK/</td>\n      <td>DAMN, THAT'S SOME SLEAZY SHIT!</td>\n      <td>[Default to Nicolas Cage]</td>\n    </tr>\n    <tr>\n      <th>4</th>\n      <td>2/23/2021 21:43:56</td>\n      <td>Lady in Cement (1968)</td>\n      <td>Miami Blues (1990)</td>\n      <td>Miami Connection (1987)</td>\n      <td>Step Up Revolution (2012)</td>\n      <td>WATCH A DOCUMENTARY YOU COWARDS</td>\n      <td>DAMN, THAT'S SOME SLEAZY SHIT!</td>\n      <td>DE PALMA-RAMA</td>\n      <td>ANIMALS THAT /TALK/</td>\n      <td>[Default to Nicolas Cage]</td>\n    </tr>\n    <tr>\n      <th>5</th>\n      <td>2/23/2021 21:53:44</td>\n      <td>Step Up Revolution (2012)</td>\n      <td>Miami Blues (1990)</td>\n      <td>Lady in Cement (1968)</td>\n      <td>Miami Connection (1987)</td>\n      <td>ANIMALS THAT /TALK/</td>\n      <td>DAMN, THAT'S SOME SLEAZY SHIT!</td>\n      <td>WATCH A DOCUMENTARY YOU COWARDS</td>\n      <td>DE PALMA-RAMA</td>\n      <td>[Default to Nicolas Cage]</td>\n    </tr>\n    <tr>\n      <th>6</th>\n      <td>2/23/2021 22:10:04</td>\n      <td>Miami Blues (1990)</td>\n      <td>Lady in Cement (1968)</td>\n      <td>NaN</td>\n      <td>NaN</td>\n      <td>DE PALMA-RAMA</td>\n      <td>WATCH A DOCUMENTARY YOU COWARDS</td>\n      <td>DAMN, THAT'S SOME SLEAZY SHIT!</td>\n      <td>[Default to Nicolas Cage]</td>\n      <td>ANIMALS THAT /TALK/</td>\n    </tr>\n    <tr>\n      <th>7</th>\n      <td>2/24/2021 4:50:51</td>\n      <td>Step Up Revolution (2012)</td>\n      <td>Miami Connection (1987)</td>\n      <td>Miami Blues (1990)</td>\n      <td>Lady in Cement (1968)</td>\n      <td>WATCH A DOCUMENTARY YOU COWARDS</td>\n      <td>DE PALMA-RAMA</td>\n      <td>[Default to Nicolas Cage]</td>\n      <td>DAMN, THAT'S SOME SLEAZY SHIT!</td>\n      <td>ANIMALS THAT /TALK/</td>\n    </tr>\n    <tr>\n      <th>8</th>\n      <td>2/24/2021 7:26:15</td>\n      <td>Step Up Revolution (2012)</td>\n      <td>Miami Blues (1990)</td>\n      <td>Miami Connection (1987)</td>\n      <td>Lady in Cement (1968)</td>\n      <td>ANIMALS THAT /TALK/</td>\n      <td>DAMN, THAT'S SOME SLEAZY SHIT!</td>\n      <td>DE PALMA-RAMA</td>\n      <td>WATCH A DOCUMENTARY YOU COWARDS</td>\n      <td>[Default to Nicolas Cage]</td>\n    </tr>\n    <tr>\n      <th>9</th>\n      <td>2/24/2021 8:42:06</td>\n      <td>Miami Connection (1987)</td>\n      <td>NaN</td>\n      <td>NaN</td>\n      <td>NaN</td>\n      <td>DAMN, THAT'S SOME SLEAZY SHIT!</td>\n      <td>ANIMALS THAT /TALK/</td>\n      <td>NaN</td>\n      <td>NaN</td>\n      <td>NaN</td>\n    </tr>\n    <tr>\n      <th>10</th>\n      <td>2/24/2021 19:48:28</td>\n      <td>Miami Connection (1987)</td>\n      <td>Miami Blues (1990)</td>\n      <td>Lady in Cement (1968)</td>\n      <td>Step Up Revolution (2012)</td>\n      <td>DAMN, THAT'S SOME SLEAZY SHIT!</td>\n      <td>WATCH A DOCUMENTARY YOU COWARDS</td>\n      <td>DE PALMA-RAMA</td>\n      <td>ANIMALS THAT /TALK/</td>\n      <td>[Default to Nicolas Cage]</td>\n    </tr>\n  </tbody>\n</table>\n</div>"
     },
     "execution_count": 14,
     "metadata": {},
     "output_type": "execute_result"
    }
   ],
   "source": [
    "df = pd.read_csv(Path('./data/20210227.csv').resolve())\n",
    "df"
   ]
  },
  {
   "cell_type": "code",
   "execution_count": 15,
   "metadata": {},
   "outputs": [],
   "source": [
    "just_ballots = df.loc[:, df.columns.str.startswith('Rank')]\n",
    "next_week = df.loc[:, df.columns.str.startswith('What')]"
   ]
  },
  {
   "cell_type": "code",
   "execution_count": 16,
   "metadata": {},
   "outputs": [
    {
     "data": {
      "text/plain": "array(['Miami Blues (1990)', 'Miami Connection (1987)',\n       'Lady in Cement (1968)', 'Step Up Revolution (2012)'], dtype=object)"
     },
     "execution_count": 16,
     "metadata": {},
     "output_type": "execute_result"
    }
   ],
   "source": [
    "submissions = just_ballots.loc[just_ballots.notna().all(axis=1).idxmax(),:].values\n",
    "submissions"
   ]
  },
  {
   "cell_type": "code",
   "execution_count": 17,
   "metadata": {},
   "outputs": [],
   "source": [
    "submission_dict = {submission: pyrankvote.Candidate(submission) for submission in submissions}"
   ]
  },
  {
   "cell_type": "code",
   "execution_count": 18,
   "metadata": {},
   "outputs": [],
   "source": [
    "balloted = just_ballots.applymap(lambda x: submission_dict[x] if isinstance(x, str) else x)"
   ]
  },
  {
   "cell_type": "code",
   "execution_count": 19,
   "metadata": {},
   "outputs": [
    {
     "data": {
      "text/plain": "{'Miami Blues (1990)': <Candidate('Miami Blues (1990)')>,\n 'Miami Connection (1987)': <Candidate('Miami Connection (1987)')>,\n 'Lady in Cement (1968)': <Candidate('Lady in Cement (1968)')>,\n 'Step Up Revolution (2012)': <Candidate('Step Up Revolution (2012)')>}"
     },
     "execution_count": 19,
     "metadata": {},
     "output_type": "execute_result"
    }
   ],
   "source": [
    "submission_dict"
   ]
  },
  {
   "cell_type": "code",
   "execution_count": 20,
   "metadata": {},
   "outputs": [],
   "source": [
    "ballots = []\n",
    "for ballot in balloted.itertuples():\n",
    "    ballots.append(pyrankvote.Ballot(ranked_candidates=[b for b in ballot if isinstance(b, pyrankvote.Candidate)]))"
   ]
  },
  {
   "cell_type": "code",
   "execution_count": 21,
   "metadata": {},
   "outputs": [
    {
     "data": {
      "text/plain": "[<Ballot(Miami Blues (1990), Miami Connection (1987), Lady in Cement (1968), Step Up Revolution (2012))>,\n <Ballot(Step Up Revolution (2012), Miami Connection (1987), Miami Blues (1990), Lady in Cement (1968))>,\n <Ballot(Miami Blues (1990), Step Up Revolution (2012), Miami Connection (1987), Lady in Cement (1968))>,\n <Ballot(Step Up Revolution (2012), Miami Blues (1990), Miami Connection (1987), Lady in Cement (1968))>,\n <Ballot(Lady in Cement (1968), Miami Blues (1990), Miami Connection (1987), Step Up Revolution (2012))>,\n <Ballot(Step Up Revolution (2012), Miami Blues (1990), Lady in Cement (1968), Miami Connection (1987))>,\n <Ballot(Miami Blues (1990), Lady in Cement (1968))>,\n <Ballot(Step Up Revolution (2012), Miami Connection (1987), Miami Blues (1990), Lady in Cement (1968))>,\n <Ballot(Step Up Revolution (2012), Miami Blues (1990), Miami Connection (1987), Lady in Cement (1968))>,\n <Ballot(Miami Connection (1987))>,\n <Ballot(Miami Connection (1987), Miami Blues (1990), Lady in Cement (1968), Step Up Revolution (2012))>]"
     },
     "execution_count": 21,
     "metadata": {},
     "output_type": "execute_result"
    }
   ],
   "source": [
    "ballots"
   ]
  },
  {
   "cell_type": "code",
   "execution_count": 22,
   "metadata": {},
   "outputs": [],
   "source": [
    "election_result = pyrankvote.instant_runoff_voting(submission_dict.values(), ballots,)"
   ]
  },
  {
   "cell_type": "code",
   "execution_count": 23,
   "metadata": {},
   "outputs": [
    {
     "name": "stdout",
     "output_type": "stream",
     "text": [
      "ROUND 1\n",
      "Candidate                    Votes  Status\n",
      "-------------------------  -------  --------\n",
      "Step Up Revolution (2012)        5  Hopeful\n",
      "Miami Blues (1990)               3  Hopeful\n",
      "Miami Connection (1987)          2  Rejected\n",
      "Lady in Cement (1968)            1  Rejected\n",
      "\n",
      "FINAL RESULT\n",
      "Candidate                    Votes  Status\n",
      "-------------------------  -------  --------\n",
      "Miami Blues (1990)               5  Elected\n",
      "Step Up Revolution (2012)        5  Rejected\n",
      "Miami Connection (1987)          0  Rejected\n",
      "Lady in Cement (1968)            0  Rejected\n",
      "Blank votes                      1  Rejected\n",
      "\n"
     ]
    }
   ],
   "source": [
    "print(election_result)"
   ]
  },
  {
   "cell_type": "code",
   "execution_count": 24,
   "metadata": {},
   "outputs": [
    {
     "name": "stdout",
     "output_type": "stream",
     "text": [
      "ROUND 1\n",
      "Candidate                          Votes  Status\n",
      "-------------------------------  -------  --------\n",
      "WATCH A DOCUMENTARY YOU COWARDS        5  Hopeful\n",
      "DAMN, THAT'S SOME SLEAZY SHIT!         3  Hopeful\n",
      "ANIMALS THAT /TALK/                    2  Rejected\n",
      "DE PALMA-RAMA                          1  Rejected\n",
      "[Default to Nicolas Cage]              0  Rejected\n",
      "\n",
      "FINAL RESULT\n",
      "Candidate                          Votes  Status\n",
      "-------------------------------  -------  --------\n",
      "WATCH A DOCUMENTARY YOU COWARDS        6  Elected\n",
      "DAMN, THAT'S SOME SLEAZY SHIT!         5  Rejected\n",
      "ANIMALS THAT /TALK/                    0  Rejected\n",
      "DE PALMA-RAMA                          0  Rejected\n",
      "[Default to Nicolas Cage]              0  Rejected\n",
      "\n"
     ]
    }
   ],
   "source": [
    "submissions = next_week.loc[next_week.notna().all(axis=1).idxmax(),:].values\n",
    "submission_dict = {submission: pyrankvote.Candidate(submission) for submission in submissions}\n",
    "balloted = next_week.applymap(lambda x: submission_dict[x] if isinstance(x, str) else x)\n",
    "ballots = []\n",
    "for ballot in balloted.itertuples():\n",
    "    ballots.append(pyrankvote.Ballot(ranked_candidates=[b for b in ballot if isinstance(b, pyrankvote.Candidate)]))\n",
    "print(pyrankvote.instant_runoff_voting(submission_dict.values(), ballots,))"
   ]
  }
 ],
 "metadata": {
  "kernelspec": {
   "display_name": "Python 3",
   "language": "python",
   "name": "python3"
  },
  "language_info": {
   "codemirror_mode": {
    "name": "ipython",
    "version": 3
   },
   "file_extension": ".py",
   "mimetype": "text/x-python",
   "name": "python",
   "nbconvert_exporter": "python",
   "pygments_lexer": "ipython3",
   "version": "3.7.4"
  }
 },
 "nbformat": 4,
 "nbformat_minor": 2
}