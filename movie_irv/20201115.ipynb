{
 "cells": [
  {
   "cell_type": "code",
   "execution_count": 1,
   "metadata": {},
   "outputs": [],
   "source": [
    "import pandas as pd\n",
    "import pyrankvote\n",
    "from pathlib import Path\n",
    "from random import seed\n",
    "seed(252)"
   ]
  },
  {
   "cell_type": "code",
   "execution_count": 2,
   "metadata": {},
   "outputs": [
    {
     "data": {
      "text/plain": "             Timestamp  \\\n0  11/10/2020 17:48:40   \n1  11/10/2020 17:50:45   \n2  11/10/2020 17:51:17   \n3  11/10/2020 18:23:15   \n4  11/10/2020 18:32:15   \n5  11/10/2020 18:40:24   \n6  11/10/2020 18:50:39   \n7  11/10/2020 18:54:47   \n8  11/10/2020 19:02:31   \n9  11/10/2020 21:00:14   \n\n  Rank your movie choices. You don't have to do a full ranking. [First Choice]  \\\n0                                    Face/Off (1997)                             \n1                                    Face/Off (1997)                             \n2                                    Face/Off (1997)                             \n3                                    Face/Off (1997)                             \n4                                  Snake Eyes (1998)                             \n5                               Wild at Heart (1990)                             \n6                                    Face/Off (1997)                             \n7                          Color Out of Space (2019)                             \n8                                    Face/Off (1997)                             \n9                               Wild at Heart (1990)                             \n\n  Rank your movie choices. You don't have to do a full ranking. [Second Choice]  \\\n0                                  Snake Eyes (1998)                              \n1                              The Wicker Man (2006)                              \n2                              The Wicker Man (2006)                              \n3                              The Wicker Man (2006)                              \n4                                    Face/Off (1997)                              \n5                                  Snake Eyes (1998)                              \n6                                  Snake Eyes (1998)                              \n7                               Wild at Heart (1990)                              \n8                          Color Out of Space (2019)                              \n9                          Color Out of Space (2019)                              \n\n  Rank your movie choices. You don't have to do a full ranking. [Third Choice]  \\\n0                               Wild at Heart (1990)                             \n1                                  Snake Eyes (1998)                             \n2                                  Snake Eyes (1998)                             \n3                               Wild at Heart (1990)                             \n4                              The Wicker Man (2006)                             \n5                                    Face/Off (1997)                             \n6                               Wild at Heart (1990)                             \n7                                    Face/Off (1997)                             \n8                               Wild at Heart (1990)                             \n9                                  Snake Eyes (1998)                             \n\n  Rank your movie choices. You don't have to do a full ranking. [Fourth Choice]  \\\n0                          Color Out of Space (2019)                              \n1                               Wild at Heart (1990)                              \n2                          Color Out of Space (2019)                              \n3                                  Snake Eyes (1998)                              \n4                               Wild at Heart (1990)                              \n5                              The Wicker Man (2006)                              \n6                              The Wicker Man (2006)                              \n7                                                NaN                              \n8                              The Wicker Man (2006)                              \n9                                                NaN                              \n\n  Rank your movie choices. You don't have to do a full ranking. [Fifth Choice]  \\\n0                              The Wicker Man (2006)                             \n1                          Color Out of Space (2019)                             \n2                               Wild at Heart (1990)                             \n3                          Color Out of Space (2019)                             \n4                          Color Out of Space (2019)                             \n5                          Color Out of Space (2019)                             \n6                          Color Out of Space (2019)                             \n7                                                NaN                             \n8                                  Snake Eyes (1998)                             \n9                                                NaN                             \n\n  What theme should we explore next week? [First Choice]  \\\n0  CLOWNS, CARNIVALS, AND FREAKSHOWS: THE SEEDY A...       \n1                                      HERZOGPALOOZA       \n2                                      HERZOGPALOOZA       \n3                      LESS FAMOUS THAN THEIR REMAKE       \n4                              WHAT IS BEST IN LIFE?       \n5  CLOWNS, CARNIVALS, AND FREAKSHOWS: THE SEEDY A...       \n6                                   HIGHSCHOOL CRIME       \n7                              WHAT IS BEST IN LIFE?       \n8                                   HIGHSCHOOL CRIME       \n9                      LESS FAMOUS THAN THEIR REMAKE       \n\n  What theme should we explore next week? [Second Choice]  \\\n0                                   HIGHSCHOOL CRIME        \n1                          [Default to Nicolas Cage]        \n2                          [Default to Nicolas Cage]        \n3                                      HERZOGPALOOZA        \n4                      LESS FAMOUS THAN THEIR REMAKE        \n5                                   HIGHSCHOOL CRIME        \n6                      LESS FAMOUS THAN THEIR REMAKE        \n7                                   HIGHSCHOOL CRIME        \n8                              WHAT IS BEST IN LIFE?        \n9                              WHAT IS BEST IN LIFE?        \n\n  What theme should we explore next week? [Third Choice]  \\\n0                          [Default to Nicolas Cage]       \n1  CLOWNS, CARNIVALS, AND FREAKSHOWS: THE SEEDY A...       \n2                              WHAT IS BEST IN LIFE?       \n3                                   HIGHSCHOOL CRIME       \n4                                   HIGHSCHOOL CRIME       \n5                          [Default to Nicolas Cage]       \n6  CLOWNS, CARNIVALS, AND FREAKSHOWS: THE SEEDY A...       \n7                      LESS FAMOUS THAN THEIR REMAKE       \n8                      LESS FAMOUS THAN THEIR REMAKE       \n9                                      HERZOGPALOOZA       \n\n  What theme should we explore next week? [Fourth Choice]  \\\n0                                      HERZOGPALOOZA        \n1                                   HIGHSCHOOL CRIME        \n2                      LESS FAMOUS THAN THEIR REMAKE        \n3                              WHAT IS BEST IN LIFE?        \n4  CLOWNS, CARNIVALS, AND FREAKSHOWS: THE SEEDY A...        \n5                                      HERZOGPALOOZA        \n6                          [Default to Nicolas Cage]        \n7                                      HERZOGPALOOZA        \n8                                      HERZOGPALOOZA        \n9  CLOWNS, CARNIVALS, AND FREAKSHOWS: THE SEEDY A...        \n\n  What theme should we explore next week? [Fifth Choice]  \\\n0                      LESS FAMOUS THAN THEIR REMAKE       \n1                      LESS FAMOUS THAN THEIR REMAKE       \n2                                   HIGHSCHOOL CRIME       \n3                          [Default to Nicolas Cage]       \n4                                      HERZOGPALOOZA       \n5                      LESS FAMOUS THAN THEIR REMAKE       \n6                                      HERZOGPALOOZA       \n7  CLOWNS, CARNIVALS, AND FREAKSHOWS: THE SEEDY A...       \n8  CLOWNS, CARNIVALS, AND FREAKSHOWS: THE SEEDY A...       \n9                                   HIGHSCHOOL CRIME       \n\n  What theme should we explore next week? [Sixth Choice]  \n0                              WHAT IS BEST IN LIFE?      \n1                              WHAT IS BEST IN LIFE?      \n2  CLOWNS, CARNIVALS, AND FREAKSHOWS: THE SEEDY A...      \n3  CLOWNS, CARNIVALS, AND FREAKSHOWS: THE SEEDY A...      \n4                          [Default to Nicolas Cage]      \n5                              WHAT IS BEST IN LIFE?      \n6                              WHAT IS BEST IN LIFE?      \n7                          [Default to Nicolas Cage]      \n8                          [Default to Nicolas Cage]      \n9                          [Default to Nicolas Cage]      ",
      "text/html": "<div>\n<style scoped>\n    .dataframe tbody tr th:only-of-type {\n        vertical-align: middle;\n    }\n\n    .dataframe tbody tr th {\n        vertical-align: top;\n    }\n\n    .dataframe thead th {\n        text-align: right;\n    }\n</style>\n<table border=\"1\" class=\"dataframe\">\n  <thead>\n    <tr style=\"text-align: right;\">\n      <th></th>\n      <th>Timestamp</th>\n      <th>Rank your movie choices. You don't have to do a full ranking. [First Choice]</th>\n      <th>Rank your movie choices. You don't have to do a full ranking. [Second Choice]</th>\n      <th>Rank your movie choices. You don't have to do a full ranking. [Third Choice]</th>\n      <th>Rank your movie choices. You don't have to do a full ranking. [Fourth Choice]</th>\n      <th>Rank your movie choices. You don't have to do a full ranking. [Fifth Choice]</th>\n      <th>What theme should we explore next week? [First Choice]</th>\n      <th>What theme should we explore next week? [Second Choice]</th>\n      <th>What theme should we explore next week? [Third Choice]</th>\n      <th>What theme should we explore next week? [Fourth Choice]</th>\n      <th>What theme should we explore next week? [Fifth Choice]</th>\n      <th>What theme should we explore next week? [Sixth Choice]</th>\n    </tr>\n  </thead>\n  <tbody>\n    <tr>\n      <th>0</th>\n      <td>11/10/2020 17:48:40</td>\n      <td>Face/Off (1997)</td>\n      <td>Snake Eyes (1998)</td>\n      <td>Wild at Heart (1990)</td>\n      <td>Color Out of Space (2019)</td>\n      <td>The Wicker Man (2006)</td>\n      <td>CLOWNS, CARNIVALS, AND FREAKSHOWS: THE SEEDY A...</td>\n      <td>HIGHSCHOOL CRIME</td>\n      <td>[Default to Nicolas Cage]</td>\n      <td>HERZOGPALOOZA</td>\n      <td>LESS FAMOUS THAN THEIR REMAKE</td>\n      <td>WHAT IS BEST IN LIFE?</td>\n    </tr>\n    <tr>\n      <th>1</th>\n      <td>11/10/2020 17:50:45</td>\n      <td>Face/Off (1997)</td>\n      <td>The Wicker Man (2006)</td>\n      <td>Snake Eyes (1998)</td>\n      <td>Wild at Heart (1990)</td>\n      <td>Color Out of Space (2019)</td>\n      <td>HERZOGPALOOZA</td>\n      <td>[Default to Nicolas Cage]</td>\n      <td>CLOWNS, CARNIVALS, AND FREAKSHOWS: THE SEEDY A...</td>\n      <td>HIGHSCHOOL CRIME</td>\n      <td>LESS FAMOUS THAN THEIR REMAKE</td>\n      <td>WHAT IS BEST IN LIFE?</td>\n    </tr>\n    <tr>\n      <th>2</th>\n      <td>11/10/2020 17:51:17</td>\n      <td>Face/Off (1997)</td>\n      <td>The Wicker Man (2006)</td>\n      <td>Snake Eyes (1998)</td>\n      <td>Color Out of Space (2019)</td>\n      <td>Wild at Heart (1990)</td>\n      <td>HERZOGPALOOZA</td>\n      <td>[Default to Nicolas Cage]</td>\n      <td>WHAT IS BEST IN LIFE?</td>\n      <td>LESS FAMOUS THAN THEIR REMAKE</td>\n      <td>HIGHSCHOOL CRIME</td>\n      <td>CLOWNS, CARNIVALS, AND FREAKSHOWS: THE SEEDY A...</td>\n    </tr>\n    <tr>\n      <th>3</th>\n      <td>11/10/2020 18:23:15</td>\n      <td>Face/Off (1997)</td>\n      <td>The Wicker Man (2006)</td>\n      <td>Wild at Heart (1990)</td>\n      <td>Snake Eyes (1998)</td>\n      <td>Color Out of Space (2019)</td>\n      <td>LESS FAMOUS THAN THEIR REMAKE</td>\n      <td>HERZOGPALOOZA</td>\n      <td>HIGHSCHOOL CRIME</td>\n      <td>WHAT IS BEST IN LIFE?</td>\n      <td>[Default to Nicolas Cage]</td>\n      <td>CLOWNS, CARNIVALS, AND FREAKSHOWS: THE SEEDY A...</td>\n    </tr>\n    <tr>\n      <th>4</th>\n      <td>11/10/2020 18:32:15</td>\n      <td>Snake Eyes (1998)</td>\n      <td>Face/Off (1997)</td>\n      <td>The Wicker Man (2006)</td>\n      <td>Wild at Heart (1990)</td>\n      <td>Color Out of Space (2019)</td>\n      <td>WHAT IS BEST IN LIFE?</td>\n      <td>LESS FAMOUS THAN THEIR REMAKE</td>\n      <td>HIGHSCHOOL CRIME</td>\n      <td>CLOWNS, CARNIVALS, AND FREAKSHOWS: THE SEEDY A...</td>\n      <td>HERZOGPALOOZA</td>\n      <td>[Default to Nicolas Cage]</td>\n    </tr>\n    <tr>\n      <th>5</th>\n      <td>11/10/2020 18:40:24</td>\n      <td>Wild at Heart (1990)</td>\n      <td>Snake Eyes (1998)</td>\n      <td>Face/Off (1997)</td>\n      <td>The Wicker Man (2006)</td>\n      <td>Color Out of Space (2019)</td>\n      <td>CLOWNS, CARNIVALS, AND FREAKSHOWS: THE SEEDY A...</td>\n      <td>HIGHSCHOOL CRIME</td>\n      <td>[Default to Nicolas Cage]</td>\n      <td>HERZOGPALOOZA</td>\n      <td>LESS FAMOUS THAN THEIR REMAKE</td>\n      <td>WHAT IS BEST IN LIFE?</td>\n    </tr>\n    <tr>\n      <th>6</th>\n      <td>11/10/2020 18:50:39</td>\n      <td>Face/Off (1997)</td>\n      <td>Snake Eyes (1998)</td>\n      <td>Wild at Heart (1990)</td>\n      <td>The Wicker Man (2006)</td>\n      <td>Color Out of Space (2019)</td>\n      <td>HIGHSCHOOL CRIME</td>\n      <td>LESS FAMOUS THAN THEIR REMAKE</td>\n      <td>CLOWNS, CARNIVALS, AND FREAKSHOWS: THE SEEDY A...</td>\n      <td>[Default to Nicolas Cage]</td>\n      <td>HERZOGPALOOZA</td>\n      <td>WHAT IS BEST IN LIFE?</td>\n    </tr>\n    <tr>\n      <th>7</th>\n      <td>11/10/2020 18:54:47</td>\n      <td>Color Out of Space (2019)</td>\n      <td>Wild at Heart (1990)</td>\n      <td>Face/Off (1997)</td>\n      <td>NaN</td>\n      <td>NaN</td>\n      <td>WHAT IS BEST IN LIFE?</td>\n      <td>HIGHSCHOOL CRIME</td>\n      <td>LESS FAMOUS THAN THEIR REMAKE</td>\n      <td>HERZOGPALOOZA</td>\n      <td>CLOWNS, CARNIVALS, AND FREAKSHOWS: THE SEEDY A...</td>\n      <td>[Default to Nicolas Cage]</td>\n    </tr>\n    <tr>\n      <th>8</th>\n      <td>11/10/2020 19:02:31</td>\n      <td>Face/Off (1997)</td>\n      <td>Color Out of Space (2019)</td>\n      <td>Wild at Heart (1990)</td>\n      <td>The Wicker Man (2006)</td>\n      <td>Snake Eyes (1998)</td>\n      <td>HIGHSCHOOL CRIME</td>\n      <td>WHAT IS BEST IN LIFE?</td>\n      <td>LESS FAMOUS THAN THEIR REMAKE</td>\n      <td>HERZOGPALOOZA</td>\n      <td>CLOWNS, CARNIVALS, AND FREAKSHOWS: THE SEEDY A...</td>\n      <td>[Default to Nicolas Cage]</td>\n    </tr>\n    <tr>\n      <th>9</th>\n      <td>11/10/2020 21:00:14</td>\n      <td>Wild at Heart (1990)</td>\n      <td>Color Out of Space (2019)</td>\n      <td>Snake Eyes (1998)</td>\n      <td>NaN</td>\n      <td>NaN</td>\n      <td>LESS FAMOUS THAN THEIR REMAKE</td>\n      <td>WHAT IS BEST IN LIFE?</td>\n      <td>HERZOGPALOOZA</td>\n      <td>CLOWNS, CARNIVALS, AND FREAKSHOWS: THE SEEDY A...</td>\n      <td>HIGHSCHOOL CRIME</td>\n      <td>[Default to Nicolas Cage]</td>\n    </tr>\n  </tbody>\n</table>\n</div>"
     },
     "execution_count": 2,
     "metadata": {},
     "output_type": "execute_result"
    }
   ],
   "source": [
    "df = pd.read_csv(Path('./data/20201115.csv').resolve())\n",
    "df"
   ]
  },
  {
   "cell_type": "code",
   "execution_count": 3,
   "metadata": {},
   "outputs": [],
   "source": [
    "just_ballots = df.loc[:, df.columns.str.startswith('Rank')]\n",
    "next_week = df.loc[:, df.columns.str.startswith('What')]"
   ]
  },
  {
   "cell_type": "code",
   "execution_count": 4,
   "metadata": {},
   "outputs": [
    {
     "data": {
      "text/plain": "array(['Face/Off (1997)', 'Snake Eyes (1998)', 'Wild at Heart (1990)',\n       'Color Out of Space (2019)', 'The Wicker Man (2006)'], dtype=object)"
     },
     "execution_count": 4,
     "metadata": {},
     "output_type": "execute_result"
    }
   ],
   "source": [
    "submissions = just_ballots.loc[just_ballots.notna().all(axis=1).idxmax(),:].values\n",
    "submissions"
   ]
  },
  {
   "cell_type": "code",
   "execution_count": 5,
   "metadata": {},
   "outputs": [],
   "source": [
    "submission_dict = {submission: pyrankvote.Candidate(submission) for submission in submissions}"
   ]
  },
  {
   "cell_type": "code",
   "execution_count": 6,
   "metadata": {},
   "outputs": [],
   "source": [
    "balloted = just_ballots.applymap(lambda x: submission_dict[x] if isinstance(x, str) else x)"
   ]
  },
  {
   "cell_type": "code",
   "execution_count": 7,
   "metadata": {},
   "outputs": [
    {
     "data": {
      "text/plain": "{'Face/Off (1997)': <Candidate('Face/Off (1997)')>,\n 'Snake Eyes (1998)': <Candidate('Snake Eyes (1998)')>,\n 'Wild at Heart (1990)': <Candidate('Wild at Heart (1990)')>,\n 'Color Out of Space (2019)': <Candidate('Color Out of Space (2019)')>,\n 'The Wicker Man (2006)': <Candidate('The Wicker Man (2006)')>}"
     },
     "execution_count": 7,
     "metadata": {},
     "output_type": "execute_result"
    }
   ],
   "source": [
    "submission_dict"
   ]
  },
  {
   "cell_type": "code",
   "execution_count": 8,
   "metadata": {},
   "outputs": [],
   "source": [
    "ballots = []\n",
    "for ballot in balloted.itertuples():\n",
    "    ballots.append(pyrankvote.Ballot(ranked_candidates=[b for b in ballot if isinstance(b, pyrankvote.Candidate)]))"
   ]
  },
  {
   "cell_type": "code",
   "execution_count": 9,
   "metadata": {},
   "outputs": [
    {
     "data": {
      "text/plain": "[<Ballot(Face/Off (1997), Snake Eyes (1998), Wild at Heart (1990), Color Out of Space (2019), The Wicker Man (2006))>,\n <Ballot(Face/Off (1997), The Wicker Man (2006), Snake Eyes (1998), Wild at Heart (1990), Color Out of Space (2019))>,\n <Ballot(Face/Off (1997), The Wicker Man (2006), Snake Eyes (1998), Color Out of Space (2019), Wild at Heart (1990))>,\n <Ballot(Face/Off (1997), The Wicker Man (2006), Wild at Heart (1990), Snake Eyes (1998), Color Out of Space (2019))>,\n <Ballot(Snake Eyes (1998), Face/Off (1997), The Wicker Man (2006), Wild at Heart (1990), Color Out of Space (2019))>,\n <Ballot(Wild at Heart (1990), Snake Eyes (1998), Face/Off (1997), The Wicker Man (2006), Color Out of Space (2019))>,\n <Ballot(Face/Off (1997), Snake Eyes (1998), Wild at Heart (1990), The Wicker Man (2006), Color Out of Space (2019))>,\n <Ballot(Color Out of Space (2019), Wild at Heart (1990), Face/Off (1997))>,\n <Ballot(Face/Off (1997), Color Out of Space (2019), Wild at Heart (1990), The Wicker Man (2006), Snake Eyes (1998))>,\n <Ballot(Wild at Heart (1990), Color Out of Space (2019), Snake Eyes (1998))>]"
     },
     "execution_count": 9,
     "metadata": {},
     "output_type": "execute_result"
    }
   ],
   "source": [
    "ballots"
   ]
  },
  {
   "cell_type": "code",
   "execution_count": 10,
   "metadata": {},
   "outputs": [],
   "source": [
    "election_result = pyrankvote.instant_runoff_voting(submission_dict.values(), ballots,)"
   ]
  },
  {
   "cell_type": "code",
   "execution_count": 11,
   "metadata": {},
   "outputs": [
    {
     "name": "stdout",
     "output_type": "stream",
     "text": [
      "FINAL RESULT\n",
      "Candidate                    Votes  Status\n",
      "-------------------------  -------  --------\n",
      "Face/Off (1997)                  6  Elected\n",
      "Wild at Heart (1990)             2  Rejected\n",
      "Snake Eyes (1998)                1  Rejected\n",
      "Color Out of Space (2019)        1  Rejected\n",
      "The Wicker Man (2006)            0  Rejected\n",
      "\n"
     ]
    }
   ],
   "source": [
    "print(election_result)"
   ]
  },
  {
   "cell_type": "code",
   "execution_count": 12,
   "metadata": {},
   "outputs": [
    {
     "name": "stdout",
     "output_type": "stream",
     "text": [
      "ROUND 1\n",
      "Candidate                                                                    Votes  Status\n",
      "-------------------------------------------------------------------------  -------  --------\n",
      "HIGHSCHOOL CRIME                                                                 2  Hopeful\n",
      "LESS FAMOUS THAN THEIR REMAKE                                                    2  Hopeful\n",
      "WHAT IS BEST IN LIFE?                                                            2  Hopeful\n",
      "HERZOGPALOOZA                                                                    2  Hopeful\n",
      "CLOWNS, CARNIVALS, AND FREAKSHOWS: THE SEEDY AND SINISTER SIDE OF SHOWBIZ        2  Rejected\n",
      "[Default to Nicolas Cage]                                                        0  Rejected\n",
      "\n",
      "ROUND 2\n",
      "Candidate                                                                    Votes  Status\n",
      "-------------------------------------------------------------------------  -------  --------\n",
      "HIGHSCHOOL CRIME                                                                 4  Hopeful\n",
      "HERZOGPALOOZA                                                                    2  Hopeful\n",
      "WHAT IS BEST IN LIFE?                                                            2  Hopeful\n",
      "LESS FAMOUS THAN THEIR REMAKE                                                    2  Rejected\n",
      "CLOWNS, CARNIVALS, AND FREAKSHOWS: THE SEEDY AND SINISTER SIDE OF SHOWBIZ        0  Rejected\n",
      "[Default to Nicolas Cage]                                                        0  Rejected\n",
      "\n",
      "ROUND 3\n",
      "Candidate                                                                    Votes  Status\n",
      "-------------------------------------------------------------------------  -------  --------\n",
      "HIGHSCHOOL CRIME                                                                 4  Hopeful\n",
      "HERZOGPALOOZA                                                                    3  Hopeful\n",
      "WHAT IS BEST IN LIFE?                                                            3  Rejected\n",
      "LESS FAMOUS THAN THEIR REMAKE                                                    0  Rejected\n",
      "CLOWNS, CARNIVALS, AND FREAKSHOWS: THE SEEDY AND SINISTER SIDE OF SHOWBIZ        0  Rejected\n",
      "[Default to Nicolas Cage]                                                        0  Rejected\n",
      "\n",
      "FINAL RESULT\n",
      "Candidate                                                                    Votes  Status\n",
      "-------------------------------------------------------------------------  -------  --------\n",
      "HIGHSCHOOL CRIME                                                                 6  Elected\n",
      "HERZOGPALOOZA                                                                    4  Rejected\n",
      "WHAT IS BEST IN LIFE?                                                            0  Rejected\n",
      "LESS FAMOUS THAN THEIR REMAKE                                                    0  Rejected\n",
      "CLOWNS, CARNIVALS, AND FREAKSHOWS: THE SEEDY AND SINISTER SIDE OF SHOWBIZ        0  Rejected\n",
      "[Default to Nicolas Cage]                                                        0  Rejected\n",
      "\n"
     ]
    }
   ],
   "source": [
    "submissions = next_week.loc[next_week.notna().all(axis=1).idxmax(),:].values\n",
    "submission_dict = {submission: pyrankvote.Candidate(submission) for submission in submissions}\n",
    "balloted = next_week.applymap(lambda x: submission_dict[x] if isinstance(x, str) else x)\n",
    "ballots = []\n",
    "for ballot in balloted.itertuples():\n",
    "    ballots.append(pyrankvote.Ballot(ranked_candidates=[b for b in ballot if isinstance(b, pyrankvote.Candidate)]))\n",
    "print(pyrankvote.instant_runoff_voting(submission_dict.values(), ballots,))"
   ]
  }
 ],
 "metadata": {
  "kernelspec": {
   "display_name": "Python 3",
   "language": "python",
   "name": "python3"
  },
  "language_info": {
   "codemirror_mode": {
    "name": "ipython",
    "version": 3
   },
   "file_extension": ".py",
   "mimetype": "text/x-python",
   "name": "python",
   "nbconvert_exporter": "python",
   "pygments_lexer": "ipython3",
   "version": "3.7.4"
  }
 },
 "nbformat": 4,
 "nbformat_minor": 2
}