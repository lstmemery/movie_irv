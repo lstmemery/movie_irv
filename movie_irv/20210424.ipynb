{
 "cells": [
  {
   "cell_type": "code",
   "execution_count": 1,
   "metadata": {},
   "outputs": [],
   "source": [
    "import pandas as pd\n",
    "import pyrankvote\n",
    "from pathlib import Path\n",
    "from random import seed\n",
    "seed(252)"
   ]
  },
  {
   "cell_type": "code",
   "execution_count": 2,
   "metadata": {},
   "outputs": [
    {
     "data": {
      "text/plain": "             Timestamp  \\\n0  20/04/2021 17:48:06   \n1  20/04/2021 17:52:18   \n2  20/04/2021 18:42:07   \n3  21/04/2021 05:27:13   \n4  21/04/2021 17:59:19   \n5  22/04/2021 07:25:04   \n6  22/04/2021 08:13:22   \n7  22/04/2021 09:23:23   \n\n  Rank your movie choices. You don't have to do a full ranking. [First Choice]  \\\n0                                  Breathless (1960)                             \n1                               The Red Shoes (1948)                             \n2                  The Umbrellas of Cherbourg (1964)                             \n3                                  Breathless (1960)                             \n4                  The Umbrellas of Cherbourg (1964)                             \n5                                  Breathless (1960)                             \n6                  The Umbrellas of Cherbourg (1964)                             \n7                                  Breathless (1960)                             \n\n  Rank your movie choices. You don't have to do a full ranking. [Second Choice]  \\\n0                  The Umbrellas of Cherbourg (1964)                              \n1                                                NaN                              \n2                                  Breathless (1960)                              \n3                               The Red Shoes (1948)                              \n4                               The Red Shoes (1948)                              \n5                               The Red Shoes (1948)                              \n6                               The Red Shoes (1948)                              \n7                  The Umbrellas of Cherbourg (1964)                              \n\n  Rank your movie choices. You don't have to do a full ranking. [Third Choice]  \\\n0                               The Red Shoes (1948)                             \n1                                                NaN                             \n2                               The Red Shoes (1948)                             \n3                  The Umbrellas of Cherbourg (1964)                             \n4                                  Breathless (1960)                             \n5                  The Umbrellas of Cherbourg (1964)                             \n6                                  Breathless (1960)                             \n7                               The Red Shoes (1948)                             \n\n  What theme should we explore next week? [First Choice]  \\\n0                            [italian hand gestures]       \n1                                 GONE IN 90 MINUTES       \n2                            [italian hand gestures]       \n3                                   DEVIL'S ADVOCATE       \n4                            [italian hand gestures]       \n5                                 GONE IN 90 MINUTES       \n6                                   DEVIL'S ADVOCATE       \n7                                   DEVIL'S ADVOCATE       \n\n  What theme should we explore next week? [Second Choice]  \\\n0                                 GONE IN 90 MINUTES        \n1                            [italian hand gestures]        \n2                                 GONE IN 90 MINUTES        \n3                                 GONE IN 90 MINUTES        \n4                          [Default to Nicolas Cage]        \n5                                   DEVIL'S ADVOCATE        \n6                            [italian hand gestures]        \n7                          [Default to Nicolas Cage]        \n\n  What theme should we explore next week? [Third Choice]  \\\n0                          [Default to Nicolas Cage]       \n1                          [Default to Nicolas Cage]       \n2                                   DEVIL'S ADVOCATE       \n3                            [italian hand gestures]       \n4                                 GONE IN 90 MINUTES       \n5                            [italian hand gestures]       \n6                                 GONE IN 90 MINUTES       \n7                            [italian hand gestures]       \n\n  What theme should we explore next week? [Fourth Choice]  \n0                                                NaN       \n1                                   DEVIL'S ADVOCATE       \n2                          [Default to Nicolas Cage]       \n3                          [Default to Nicolas Cage]       \n4                                   DEVIL'S ADVOCATE       \n5                          [Default to Nicolas Cage]       \n6                          [Default to Nicolas Cage]       \n7                                 GONE IN 90 MINUTES       ",
      "text/html": "<div>\n<style scoped>\n    .dataframe tbody tr th:only-of-type {\n        vertical-align: middle;\n    }\n\n    .dataframe tbody tr th {\n        vertical-align: top;\n    }\n\n    .dataframe thead th {\n        text-align: right;\n    }\n</style>\n<table border=\"1\" class=\"dataframe\">\n  <thead>\n    <tr style=\"text-align: right;\">\n      <th></th>\n      <th>Timestamp</th>\n      <th>Rank your movie choices. You don't have to do a full ranking. [First Choice]</th>\n      <th>Rank your movie choices. You don't have to do a full ranking. [Second Choice]</th>\n      <th>Rank your movie choices. You don't have to do a full ranking. [Third Choice]</th>\n      <th>What theme should we explore next week? [First Choice]</th>\n      <th>What theme should we explore next week? [Second Choice]</th>\n      <th>What theme should we explore next week? [Third Choice]</th>\n      <th>What theme should we explore next week? [Fourth Choice]</th>\n    </tr>\n  </thead>\n  <tbody>\n    <tr>\n      <th>0</th>\n      <td>20/04/2021 17:48:06</td>\n      <td>Breathless (1960)</td>\n      <td>The Umbrellas of Cherbourg (1964)</td>\n      <td>The Red Shoes (1948)</td>\n      <td>[italian hand gestures]</td>\n      <td>GONE IN 90 MINUTES</td>\n      <td>[Default to Nicolas Cage]</td>\n      <td>NaN</td>\n    </tr>\n    <tr>\n      <th>1</th>\n      <td>20/04/2021 17:52:18</td>\n      <td>The Red Shoes (1948)</td>\n      <td>NaN</td>\n      <td>NaN</td>\n      <td>GONE IN 90 MINUTES</td>\n      <td>[italian hand gestures]</td>\n      <td>[Default to Nicolas Cage]</td>\n      <td>DEVIL'S ADVOCATE</td>\n    </tr>\n    <tr>\n      <th>2</th>\n      <td>20/04/2021 18:42:07</td>\n      <td>The Umbrellas of Cherbourg (1964)</td>\n      <td>Breathless (1960)</td>\n      <td>The Red Shoes (1948)</td>\n      <td>[italian hand gestures]</td>\n      <td>GONE IN 90 MINUTES</td>\n      <td>DEVIL'S ADVOCATE</td>\n      <td>[Default to Nicolas Cage]</td>\n    </tr>\n    <tr>\n      <th>3</th>\n      <td>21/04/2021 05:27:13</td>\n      <td>Breathless (1960)</td>\n      <td>The Red Shoes (1948)</td>\n      <td>The Umbrellas of Cherbourg (1964)</td>\n      <td>DEVIL'S ADVOCATE</td>\n      <td>GONE IN 90 MINUTES</td>\n      <td>[italian hand gestures]</td>\n      <td>[Default to Nicolas Cage]</td>\n    </tr>\n    <tr>\n      <th>4</th>\n      <td>21/04/2021 17:59:19</td>\n      <td>The Umbrellas of Cherbourg (1964)</td>\n      <td>The Red Shoes (1948)</td>\n      <td>Breathless (1960)</td>\n      <td>[italian hand gestures]</td>\n      <td>[Default to Nicolas Cage]</td>\n      <td>GONE IN 90 MINUTES</td>\n      <td>DEVIL'S ADVOCATE</td>\n    </tr>\n    <tr>\n      <th>5</th>\n      <td>22/04/2021 07:25:04</td>\n      <td>Breathless (1960)</td>\n      <td>The Red Shoes (1948)</td>\n      <td>The Umbrellas of Cherbourg (1964)</td>\n      <td>GONE IN 90 MINUTES</td>\n      <td>DEVIL'S ADVOCATE</td>\n      <td>[italian hand gestures]</td>\n      <td>[Default to Nicolas Cage]</td>\n    </tr>\n    <tr>\n      <th>6</th>\n      <td>22/04/2021 08:13:22</td>\n      <td>The Umbrellas of Cherbourg (1964)</td>\n      <td>The Red Shoes (1948)</td>\n      <td>Breathless (1960)</td>\n      <td>DEVIL'S ADVOCATE</td>\n      <td>[italian hand gestures]</td>\n      <td>GONE IN 90 MINUTES</td>\n      <td>[Default to Nicolas Cage]</td>\n    </tr>\n    <tr>\n      <th>7</th>\n      <td>22/04/2021 09:23:23</td>\n      <td>Breathless (1960)</td>\n      <td>The Umbrellas of Cherbourg (1964)</td>\n      <td>The Red Shoes (1948)</td>\n      <td>DEVIL'S ADVOCATE</td>\n      <td>[Default to Nicolas Cage]</td>\n      <td>[italian hand gestures]</td>\n      <td>GONE IN 90 MINUTES</td>\n    </tr>\n  </tbody>\n</table>\n</div>"
     },
     "execution_count": 2,
     "metadata": {},
     "output_type": "execute_result"
    }
   ],
   "source": [
    "df = pd.read_csv(Path('./data/20210424.csv').resolve())\n",
    "df"
   ]
  },
  {
   "cell_type": "code",
   "execution_count": 3,
   "metadata": {},
   "outputs": [],
   "source": [
    "just_ballots = df.loc[:, df.columns.str.startswith('Rank')]\n",
    "next_week = df.loc[:, df.columns.str.startswith('What')]"
   ]
  },
  {
   "cell_type": "code",
   "execution_count": 4,
   "metadata": {},
   "outputs": [
    {
     "data": {
      "text/plain": "array(['Breathless (1960)', 'The Umbrellas of Cherbourg (1964)',\n       'The Red Shoes (1948)'], dtype=object)"
     },
     "execution_count": 4,
     "metadata": {},
     "output_type": "execute_result"
    }
   ],
   "source": [
    "submissions = just_ballots.loc[just_ballots.notna().all(axis=1).idxmax(),:].values\n",
    "submissions"
   ]
  },
  {
   "cell_type": "code",
   "execution_count": 5,
   "metadata": {},
   "outputs": [],
   "source": [
    "submission_dict = {submission: pyrankvote.Candidate(submission) for submission in submissions}"
   ]
  },
  {
   "cell_type": "code",
   "execution_count": 6,
   "metadata": {},
   "outputs": [],
   "source": [
    "balloted = just_ballots.applymap(lambda x: submission_dict[x] if isinstance(x, str) else x)"
   ]
  },
  {
   "cell_type": "code",
   "execution_count": 7,
   "metadata": {},
   "outputs": [
    {
     "data": {
      "text/plain": "{'Breathless (1960)': <Candidate('Breathless (1960)')>,\n 'The Umbrellas of Cherbourg (1964)': <Candidate('The Umbrellas of Cherbourg (1964)')>,\n 'The Red Shoes (1948)': <Candidate('The Red Shoes (1948)')>}"
     },
     "execution_count": 7,
     "metadata": {},
     "output_type": "execute_result"
    }
   ],
   "source": [
    "submission_dict"
   ]
  },
  {
   "cell_type": "code",
   "execution_count": 8,
   "metadata": {},
   "outputs": [],
   "source": [
    "ballots = []\n",
    "for ballot in balloted.itertuples():\n",
    "    ballots.append(pyrankvote.Ballot(ranked_candidates=[b for b in ballot if isinstance(b, pyrankvote.Candidate)]))"
   ]
  },
  {
   "cell_type": "code",
   "execution_count": 9,
   "metadata": {},
   "outputs": [
    {
     "data": {
      "text/plain": "[<Ballot(Breathless (1960), The Umbrellas of Cherbourg (1964), The Red Shoes (1948))>,\n <Ballot(The Red Shoes (1948))>,\n <Ballot(The Umbrellas of Cherbourg (1964), Breathless (1960), The Red Shoes (1948))>,\n <Ballot(Breathless (1960), The Red Shoes (1948), The Umbrellas of Cherbourg (1964))>,\n <Ballot(The Umbrellas of Cherbourg (1964), The Red Shoes (1948), Breathless (1960))>,\n <Ballot(Breathless (1960), The Red Shoes (1948), The Umbrellas of Cherbourg (1964))>,\n <Ballot(The Umbrellas of Cherbourg (1964), The Red Shoes (1948), Breathless (1960))>,\n <Ballot(Breathless (1960), The Umbrellas of Cherbourg (1964), The Red Shoes (1948))>]"
     },
     "execution_count": 9,
     "metadata": {},
     "output_type": "execute_result"
    }
   ],
   "source": [
    "ballots"
   ]
  },
  {
   "cell_type": "code",
   "execution_count": 10,
   "metadata": {},
   "outputs": [],
   "source": [
    "election_result = pyrankvote.instant_runoff_voting(submission_dict.values(), ballots,)"
   ]
  },
  {
   "cell_type": "code",
   "execution_count": 11,
   "metadata": {},
   "outputs": [
    {
     "name": "stdout",
     "output_type": "stream",
     "text": [
      "FINAL RESULT\n",
      "Candidate                            Votes  Status\n",
      "---------------------------------  -------  --------\n",
      "Breathless (1960)                        4  Elected\n",
      "The Umbrellas of Cherbourg (1964)        3  Rejected\n",
      "The Red Shoes (1948)                     1  Rejected\n",
      "\n"
     ]
    }
   ],
   "source": [
    "print(election_result)"
   ]
  },
  {
   "cell_type": "code",
   "execution_count": 12,
   "metadata": {},
   "outputs": [
    {
     "name": "stdout",
     "output_type": "stream",
     "text": [
      "ROUND 1\n",
      "Candidate                    Votes  Status\n",
      "-------------------------  -------  --------\n",
      "[italian hand gestures]          3  Hopeful\n",
      "DEVIL'S ADVOCATE                 3  Hopeful\n",
      "GONE IN 90 MINUTES               2  Rejected\n",
      "[Default to Nicolas Cage]        0  Rejected\n",
      "\n",
      "FINAL RESULT\n",
      "Candidate                    Votes  Status\n",
      "-------------------------  -------  --------\n",
      "[italian hand gestures]          4  Elected\n",
      "DEVIL'S ADVOCATE                 4  Rejected\n",
      "GONE IN 90 MINUTES               0  Rejected\n",
      "[Default to Nicolas Cage]        0  Rejected\n",
      "\n"
     ]
    }
   ],
   "source": [
    "submissions = next_week.loc[next_week.notna().all(axis=1).idxmax(),:].values\n",
    "submission_dict = {submission: pyrankvote.Candidate(submission) for submission in submissions}\n",
    "balloted = next_week.applymap(lambda x: submission_dict[x] if isinstance(x, str) else x)\n",
    "ballots = []\n",
    "for ballot in balloted.itertuples():\n",
    "    ballots.append(pyrankvote.Ballot(ranked_candidates=[b for b in ballot if isinstance(b, pyrankvote.Candidate)]))\n",
    "print(pyrankvote.instant_runoff_voting(submission_dict.values(), ballots,))"
   ]
  }
 ],
 "metadata": {
  "kernelspec": {
   "display_name": "Python 3",
   "language": "python",
   "name": "python3"
  },
  "language_info": {
   "codemirror_mode": {
    "name": "ipython",
    "version": 3
   },
   "file_extension": ".py",
   "mimetype": "text/x-python",
   "name": "python",
   "nbconvert_exporter": "python",
   "pygments_lexer": "ipython3",
   "version": "3.7.4"
  }
 },
 "nbformat": 4,
 "nbformat_minor": 2
}