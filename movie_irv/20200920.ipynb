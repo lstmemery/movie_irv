{
 "cells": [
  {
   "cell_type": "code",
   "execution_count": 13,
   "metadata": {},
   "outputs": [],
   "source": [
    "import pandas as pd\n",
    "import pyrankvote\n",
    "from pathlib import Path"
   ]
  },
  {
   "cell_type": "code",
   "execution_count": 14,
   "metadata": {},
   "outputs": [
    {
     "data": {
      "text/plain": "            Timestamp  \\\n0  9/15/2020 21:15:50   \n1  9/15/2020 21:20:27   \n2   9/16/2020 8:34:17   \n3  9/16/2020 17:22:55   \n4  9/16/2020 17:24:15   \n5  9/17/2020 10:32:14   \n\n  Rank your movie choices. You don't have to do a full ranking. [First Choice]  \\\n0                                      Hunger (2008)                             \n1                                       Ordet (1955)                             \n2                                Winter Light (1963)                             \n3                                Time Changer (2002)                             \n4                                Winter Light (1963)                             \n5                            Resurrection Man (1998)                             \n\n  Rank your movie choices. You don't have to do a full ranking. [Second Choice]  \\\n0                              First Reformed (2017)                              \n1                                Winter Light (1963)                              \n2                                       Ordet (1955)                              \n3                              First Reformed (2017)                              \n4                                Time Changer (2002)                              \n5                                      Hunger (2008)                              \n\n  Rank your movie choices. You don't have to do a full ranking. [Third Choice]  \\\n0                            Resurrection Man (1998)                             \n1                            Resurrection Man (1998)                             \n2                              First Reformed (2017)                             \n3                                      Hunger (2008)                             \n4                              First Reformed (2017)                             \n5                                Winter Light (1963)                             \n\n  Rank your movie choices. You don't have to do a full ranking. [Fourth Choice]  \\\n0                                Time Changer (2002)                              \n1                                Time Changer (2002)                              \n2                                      Hunger (2008)                              \n3                                Winter Light (1963)                              \n4                                      Hunger (2008)                              \n5                              First Reformed (2017)                              \n\n  Rank your movie choices. You don't have to do a full ranking. [Fifth Choice]  \\\n0                                       Ordet (1955)                             \n1                                                NaN                             \n2                            Resurrection Man (1998)                             \n3                                                NaN                             \n4                                       Ordet (1955)                             \n5                                       Ordet (1955)                             \n\n  Rank your movie choices. You don't have to do a full ranking. [Sixth Choice]  \\\n0                                Winter Light (1963)                             \n1                                                NaN                             \n2                                Time Changer (2002)                             \n3                                                NaN                             \n4                            Resurrection Man (1998)                             \n5                                Time Changer (2002)                             \n\n  What theme should we explore next week? [First Choice]  \\\n0                            THE KIDS AREN'T ALRIGHT       \n1                       BREAKING THE IRANIAN EMBARGO       \n2                          CATHOLICS: FRIEND OR FOE?       \n3                                  NON-WESTERN SCIFI       \n4                                     STRICTLY ROMPS       \n5                            THE KIDS AREN'T ALRIGHT       \n\n  What theme should we explore next week? [Second Choice]  \\\n0                                    CLASSIC KUNG FU        \n1                          CATHOLICS: FRIEND OR FOE?        \n2                                     STRICTLY ROMPS        \n3                                    CLASSIC KUNG FU        \n4                       BREAKING THE IRANIAN EMBARGO        \n5                                    CLASSIC KUNG FU        \n\n  What theme should we explore next week? [Third Choice]  \\\n0                                     STRICTLY ROMPS       \n1                            THE KIDS AREN'T ALRIGHT       \n2                            THE KIDS AREN'T ALRIGHT       \n3                       BREAKING THE IRANIAN EMBARGO       \n4                            THE KIDS AREN'T ALRIGHT       \n5                                     STRICTLY ROMPS       \n\n  What theme should we explore next week? [Fourth Choice]  \\\n0                       BREAKING THE IRANIAN EMBARGO        \n1                                  NON-WESTERN SCIFI        \n2                                  NON-WESTERN SCIFI        \n3                          CATHOLICS: FRIEND OR FOE?        \n4                          CATHOLICS: FRIEND OR FOE?        \n5                                  NON-WESTERN SCIFI        \n\n  What theme should we explore next week? [Fifth Choice]  \\\n0                          CATHOLICS: FRIEND OR FOE?       \n1                                     STRICTLY ROMPS       \n2                                    CLASSIC KUNG FU       \n3                                     STRICTLY ROMPS       \n4                                    CLASSIC KUNG FU       \n5                       BREAKING THE IRANIAN EMBARGO       \n\n  What theme should we explore next week? [Sixth Choice]  \\\n0                                  NON-WESTERN SCIFI       \n1                                    CLASSIC KUNG FU       \n2                       BREAKING THE IRANIAN EMBARGO       \n3                                                NaN       \n4                                  NON-WESTERN SCIFI       \n5                          CATHOLICS: FRIEND OR FOE?       \n\n  What theme should we explore next week? [Seventh Choice]  \n0                              No Theme/Free-for-all        \n1                              No Theme/Free-for-all        \n2                                                NaN        \n3                                                NaN        \n4                              No Theme/Free-for-all        \n5                              No Theme/Free-for-all        ",
      "text/html": "<div>\n<style scoped>\n    .dataframe tbody tr th:only-of-type {\n        vertical-align: middle;\n    }\n\n    .dataframe tbody tr th {\n        vertical-align: top;\n    }\n\n    .dataframe thead th {\n        text-align: right;\n    }\n</style>\n<table border=\"1\" class=\"dataframe\">\n  <thead>\n    <tr style=\"text-align: right;\">\n      <th></th>\n      <th>Timestamp</th>\n      <th>Rank your movie choices. You don't have to do a full ranking. [First Choice]</th>\n      <th>Rank your movie choices. You don't have to do a full ranking. [Second Choice]</th>\n      <th>Rank your movie choices. You don't have to do a full ranking. [Third Choice]</th>\n      <th>Rank your movie choices. You don't have to do a full ranking. [Fourth Choice]</th>\n      <th>Rank your movie choices. You don't have to do a full ranking. [Fifth Choice]</th>\n      <th>Rank your movie choices. You don't have to do a full ranking. [Sixth Choice]</th>\n      <th>What theme should we explore next week? [First Choice]</th>\n      <th>What theme should we explore next week? [Second Choice]</th>\n      <th>What theme should we explore next week? [Third Choice]</th>\n      <th>What theme should we explore next week? [Fourth Choice]</th>\n      <th>What theme should we explore next week? [Fifth Choice]</th>\n      <th>What theme should we explore next week? [Sixth Choice]</th>\n      <th>What theme should we explore next week? [Seventh Choice]</th>\n    </tr>\n  </thead>\n  <tbody>\n    <tr>\n      <th>0</th>\n      <td>9/15/2020 21:15:50</td>\n      <td>Hunger (2008)</td>\n      <td>First Reformed (2017)</td>\n      <td>Resurrection Man (1998)</td>\n      <td>Time Changer (2002)</td>\n      <td>Ordet (1955)</td>\n      <td>Winter Light (1963)</td>\n      <td>THE KIDS AREN'T ALRIGHT</td>\n      <td>CLASSIC KUNG FU</td>\n      <td>STRICTLY ROMPS</td>\n      <td>BREAKING THE IRANIAN EMBARGO</td>\n      <td>CATHOLICS: FRIEND OR FOE?</td>\n      <td>NON-WESTERN SCIFI</td>\n      <td>No Theme/Free-for-all</td>\n    </tr>\n    <tr>\n      <th>1</th>\n      <td>9/15/2020 21:20:27</td>\n      <td>Ordet (1955)</td>\n      <td>Winter Light (1963)</td>\n      <td>Resurrection Man (1998)</td>\n      <td>Time Changer (2002)</td>\n      <td>NaN</td>\n      <td>NaN</td>\n      <td>BREAKING THE IRANIAN EMBARGO</td>\n      <td>CATHOLICS: FRIEND OR FOE?</td>\n      <td>THE KIDS AREN'T ALRIGHT</td>\n      <td>NON-WESTERN SCIFI</td>\n      <td>STRICTLY ROMPS</td>\n      <td>CLASSIC KUNG FU</td>\n      <td>No Theme/Free-for-all</td>\n    </tr>\n    <tr>\n      <th>2</th>\n      <td>9/16/2020 8:34:17</td>\n      <td>Winter Light (1963)</td>\n      <td>Ordet (1955)</td>\n      <td>First Reformed (2017)</td>\n      <td>Hunger (2008)</td>\n      <td>Resurrection Man (1998)</td>\n      <td>Time Changer (2002)</td>\n      <td>CATHOLICS: FRIEND OR FOE?</td>\n      <td>STRICTLY ROMPS</td>\n      <td>THE KIDS AREN'T ALRIGHT</td>\n      <td>NON-WESTERN SCIFI</td>\n      <td>CLASSIC KUNG FU</td>\n      <td>BREAKING THE IRANIAN EMBARGO</td>\n      <td>NaN</td>\n    </tr>\n    <tr>\n      <th>3</th>\n      <td>9/16/2020 17:22:55</td>\n      <td>Time Changer (2002)</td>\n      <td>First Reformed (2017)</td>\n      <td>Hunger (2008)</td>\n      <td>Winter Light (1963)</td>\n      <td>NaN</td>\n      <td>NaN</td>\n      <td>NON-WESTERN SCIFI</td>\n      <td>CLASSIC KUNG FU</td>\n      <td>BREAKING THE IRANIAN EMBARGO</td>\n      <td>CATHOLICS: FRIEND OR FOE?</td>\n      <td>STRICTLY ROMPS</td>\n      <td>NaN</td>\n      <td>NaN</td>\n    </tr>\n    <tr>\n      <th>4</th>\n      <td>9/16/2020 17:24:15</td>\n      <td>Winter Light (1963)</td>\n      <td>Time Changer (2002)</td>\n      <td>First Reformed (2017)</td>\n      <td>Hunger (2008)</td>\n      <td>Ordet (1955)</td>\n      <td>Resurrection Man (1998)</td>\n      <td>STRICTLY ROMPS</td>\n      <td>BREAKING THE IRANIAN EMBARGO</td>\n      <td>THE KIDS AREN'T ALRIGHT</td>\n      <td>CATHOLICS: FRIEND OR FOE?</td>\n      <td>CLASSIC KUNG FU</td>\n      <td>NON-WESTERN SCIFI</td>\n      <td>No Theme/Free-for-all</td>\n    </tr>\n    <tr>\n      <th>5</th>\n      <td>9/17/2020 10:32:14</td>\n      <td>Resurrection Man (1998)</td>\n      <td>Hunger (2008)</td>\n      <td>Winter Light (1963)</td>\n      <td>First Reformed (2017)</td>\n      <td>Ordet (1955)</td>\n      <td>Time Changer (2002)</td>\n      <td>THE KIDS AREN'T ALRIGHT</td>\n      <td>CLASSIC KUNG FU</td>\n      <td>STRICTLY ROMPS</td>\n      <td>NON-WESTERN SCIFI</td>\n      <td>BREAKING THE IRANIAN EMBARGO</td>\n      <td>CATHOLICS: FRIEND OR FOE?</td>\n      <td>No Theme/Free-for-all</td>\n    </tr>\n  </tbody>\n</table>\n</div>"
     },
     "execution_count": 14,
     "metadata": {},
     "output_type": "execute_result"
    }
   ],
   "source": [
    "df = pd.read_csv(Path('./data/20200920.csv').resolve())\n",
    "df"
   ]
  },
  {
   "cell_type": "code",
   "execution_count": 15,
   "metadata": {},
   "outputs": [],
   "source": [
    "just_ballots = df.loc[:, df.columns.str.startswith('Rank')]\n",
    "next_week = df.loc[:, df.columns.str.startswith('What')]"
   ]
  },
  {
   "cell_type": "code",
   "execution_count": 16,
   "metadata": {},
   "outputs": [
    {
     "data": {
      "text/plain": "array(['Hunger (2008)', 'First Reformed (2017)',\n       'Resurrection Man (1998)', 'Time Changer (2002)', 'Ordet (1955)',\n       'Winter Light (1963)'], dtype=object)"
     },
     "execution_count": 16,
     "metadata": {},
     "output_type": "execute_result"
    }
   ],
   "source": [
    "submissions = just_ballots.loc[just_ballots.notna().all(axis=1).idxmax(),:].values\n",
    "submissions"
   ]
  },
  {
   "cell_type": "code",
   "execution_count": 17,
   "metadata": {},
   "outputs": [],
   "source": [
    "submission_dict = {submission: pyrankvote.Candidate(submission) for submission in submissions}"
   ]
  },
  {
   "cell_type": "code",
   "execution_count": 18,
   "metadata": {},
   "outputs": [],
   "source": [
    "balloted = just_ballots.applymap(lambda x: submission_dict[x] if isinstance(x, str) else x)"
   ]
  },
  {
   "cell_type": "code",
   "execution_count": 19,
   "metadata": {},
   "outputs": [
    {
     "data": {
      "text/plain": "{'Hunger (2008)': <Candidate('Hunger (2008)')>,\n 'First Reformed (2017)': <Candidate('First Reformed (2017)')>,\n 'Resurrection Man (1998)': <Candidate('Resurrection Man (1998)')>,\n 'Time Changer (2002)': <Candidate('Time Changer (2002)')>,\n 'Ordet (1955)': <Candidate('Ordet (1955)')>,\n 'Winter Light (1963)': <Candidate('Winter Light (1963)')>}"
     },
     "execution_count": 19,
     "metadata": {},
     "output_type": "execute_result"
    }
   ],
   "source": [
    "submission_dict"
   ]
  },
  {
   "cell_type": "code",
   "execution_count": 20,
   "metadata": {},
   "outputs": [],
   "source": [
    "ballots = []\n",
    "for ballot in balloted.itertuples():\n",
    "    ballots.append(pyrankvote.Ballot(ranked_candidates=[b for b in ballot if isinstance(b, pyrankvote.Candidate)]))"
   ]
  },
  {
   "cell_type": "code",
   "execution_count": 21,
   "metadata": {},
   "outputs": [
    {
     "data": {
      "text/plain": "[<Ballot(Hunger (2008), First Reformed (2017), Resurrection Man (1998), Time Changer (2002), Ordet (1955), Winter Light (1963))>,\n <Ballot(Ordet (1955), Winter Light (1963), Resurrection Man (1998), Time Changer (2002))>,\n <Ballot(Winter Light (1963), Ordet (1955), First Reformed (2017), Hunger (2008), Resurrection Man (1998), Time Changer (2002))>,\n <Ballot(Time Changer (2002), First Reformed (2017), Hunger (2008), Winter Light (1963))>,\n <Ballot(Winter Light (1963), Time Changer (2002), First Reformed (2017), Hunger (2008), Ordet (1955), Resurrection Man (1998))>,\n <Ballot(Resurrection Man (1998), Hunger (2008), Winter Light (1963), First Reformed (2017), Ordet (1955), Time Changer (2002))>]"
     },
     "execution_count": 21,
     "metadata": {},
     "output_type": "execute_result"
    }
   ],
   "source": [
    "ballots"
   ]
  },
  {
   "cell_type": "code",
   "execution_count": 22,
   "metadata": {},
   "outputs": [],
   "source": [
    "election_result = pyrankvote.instant_runoff_voting(submission_dict.values(), ballots,)"
   ]
  },
  {
   "cell_type": "code",
   "execution_count": 23,
   "metadata": {},
   "outputs": [
    {
     "name": "stdout",
     "output_type": "stream",
     "text": [
      "ROUND 1\n",
      "Candidate                  Votes  Status\n",
      "-----------------------  -------  --------\n",
      "Winter Light (1963)            2  Hopeful\n",
      "Hunger (2008)                  1  Hopeful\n",
      "Time Changer (2002)            1  Hopeful\n",
      "Ordet (1955)                   1  Hopeful\n",
      "Resurrection Man (1998)        1  Rejected\n",
      "First Reformed (2017)          0  Rejected\n",
      "\n",
      "ROUND 2\n",
      "Candidate                  Votes  Status\n",
      "-----------------------  -------  --------\n",
      "Winter Light (1963)            2  Hopeful\n",
      "Hunger (2008)                  2  Hopeful\n",
      "Time Changer (2002)            1  Rejected\n",
      "Ordet (1955)                   1  Rejected\n",
      "Resurrection Man (1998)        0  Rejected\n",
      "First Reformed (2017)          0  Rejected\n",
      "\n",
      "FINAL RESULT\n",
      "Candidate                  Votes  Status\n",
      "-----------------------  -------  --------\n",
      "Winter Light (1963)            3  Elected\n",
      "Hunger (2008)                  3  Rejected\n",
      "Time Changer (2002)            0  Rejected\n",
      "Ordet (1955)                   0  Rejected\n",
      "Resurrection Man (1998)        0  Rejected\n",
      "First Reformed (2017)          0  Rejected\n",
      "\n"
     ]
    }
   ],
   "source": [
    "print(election_result)"
   ]
  },
  {
   "cell_type": "code",
   "execution_count": 24,
   "metadata": {},
   "outputs": [
    {
     "name": "stdout",
     "output_type": "stream",
     "text": [
      "ROUND 1\n",
      "Candidate                       Votes  Status\n",
      "----------------------------  -------  --------\n",
      "THE KIDS AREN'T ALRIGHT             2  Hopeful\n",
      "STRICTLY ROMPS                      1  Hopeful\n",
      "BREAKING THE IRANIAN EMBARGO        1  Hopeful\n",
      "CATHOLICS: FRIEND OR FOE?           1  Hopeful\n",
      "NON-WESTERN SCIFI                   1  Rejected\n",
      "CLASSIC KUNG FU                     0  Rejected\n",
      "No Theme/Free-for-all               0  Rejected\n",
      "\n",
      "ROUND 2\n",
      "Candidate                       Votes  Status\n",
      "----------------------------  -------  --------\n",
      "BREAKING THE IRANIAN EMBARGO        2  Hopeful\n",
      "THE KIDS AREN'T ALRIGHT             2  Hopeful\n",
      "STRICTLY ROMPS                      1  Rejected\n",
      "CATHOLICS: FRIEND OR FOE?           1  Rejected\n",
      "NON-WESTERN SCIFI                   0  Rejected\n",
      "CLASSIC KUNG FU                     0  Rejected\n",
      "No Theme/Free-for-all               0  Rejected\n",
      "\n",
      "FINAL RESULT\n",
      "Candidate                       Votes  Status\n",
      "----------------------------  -------  --------\n",
      "BREAKING THE IRANIAN EMBARGO        3  Elected\n",
      "THE KIDS AREN'T ALRIGHT             3  Rejected\n",
      "STRICTLY ROMPS                      0  Rejected\n",
      "CATHOLICS: FRIEND OR FOE?           0  Rejected\n",
      "NON-WESTERN SCIFI                   0  Rejected\n",
      "CLASSIC KUNG FU                     0  Rejected\n",
      "No Theme/Free-for-all               0  Rejected\n",
      "\n"
     ]
    }
   ],
   "source": [
    "submissions = next_week.loc[next_week.notna().all(axis=1).idxmax(),:].values\n",
    "submission_dict = {submission: pyrankvote.Candidate(submission) for submission in submissions}\n",
    "balloted = next_week.applymap(lambda x: submission_dict[x] if isinstance(x, str) else x)\n",
    "ballots = []\n",
    "for ballot in balloted.itertuples():\n",
    "    ballots.append(pyrankvote.Ballot(ranked_candidates=[b for b in ballot if isinstance(b, pyrankvote.Candidate)]))\n",
    "print(pyrankvote.instant_runoff_voting(submission_dict.values(), ballots,))"
   ]
  }
 ],
 "metadata": {
  "kernelspec": {
   "display_name": "Python 3",
   "language": "python",
   "name": "python3"
  },
  "language_info": {
   "codemirror_mode": {
    "name": "ipython",
    "version": 3
   },
   "file_extension": ".py",
   "mimetype": "text/x-python",
   "name": "python",
   "nbconvert_exporter": "python",
   "pygments_lexer": "ipython3",
   "version": "3.7.4"
  }
 },
 "nbformat": 4,
 "nbformat_minor": 2
}