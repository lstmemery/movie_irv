{
 "cells": [
  {
   "cell_type": "code",
   "execution_count": 1,
   "metadata": {},
   "outputs": [],
   "source": [
    "import pandas as pd\n",
    "import pyrankvote\n",
    "from pathlib import Path\n",
    "from random import seed\n",
    "seed(252)"
   ]
  },
  {
   "cell_type": "code",
   "execution_count": 2,
   "metadata": {},
   "outputs": [
    {
     "data": {
      "text/plain": "             Timestamp  \\\n0  17/03/2021 10:22:47   \n1  17/03/2021 10:30:10   \n2  17/03/2021 10:42:03   \n3  17/03/2021 10:49:18   \n4  17/03/2021 10:55:10   \n5  17/03/2021 14:52:20   \n6  17/03/2021 14:55:01   \n\n  Rank your movie choices. You don't have to do a full ranking. [First Choice]  \\\n0                      Beauty is Embarrassing (2012)                             \n1                              Beyond the Mat (1999)                             \n2                              American Movie (1999)                             \n3                       Harlan County, U.S.A. (1976)                             \n4                       Harlan County, U.S.A. (1976)                             \n5                            Bury the Hatchet (2010)                             \n6                            Bury the Hatchet (2010)                             \n\n  Rank your movie choices. You don't have to do a full ranking. [Second Choice]  \\\n0                            Bury the Hatchet (2010)                              \n1                     Rodents of Unusual Size (2017)                              \n2                       Harlan County, U.S.A. (1976)                              \n3                              American Movie (1999)                              \n4                              American Movie (1999)                              \n5                     Rodents of Unusual Size (2017)                              \n6                              American Movie (1999)                              \n\n  Rank your movie choices. You don't have to do a full ranking. [Third Choice]  \\\n0                       Harlan County, U.S.A. (1976)                             \n1                      Beauty is Embarrassing (2012)                             \n2                            Bury the Hatchet (2010)                             \n3                     Rodents of Unusual Size (2017)                             \n4                            Bury the Hatchet (2010)                             \n5                       Harlan County, U.S.A. (1976)                             \n6                      Beauty is Embarrassing (2012)                             \n\n  Rank your movie choices. You don't have to do a full ranking. [Fourth Choice]  \\\n0                     Rodents of Unusual Size (2017)                              \n1                            Bury the Hatchet (2010)                              \n2                     Rodents of Unusual Size (2017)                              \n3                              Beyond the Mat (1999)                              \n4                     Rodents of Unusual Size (2017)                              \n5                      Beauty is Embarrassing (2012)                              \n6                     Rodents of Unusual Size (2017)                              \n\n  Rank your movie choices. You don't have to do a full ranking. [Fifth Choice]  \\\n0                              Beyond the Mat (1999)                             \n1                                                NaN                             \n2                              Beyond the Mat (1999)                             \n3                      Beauty is Embarrassing (2012)                             \n4                              Beyond the Mat (1999)                             \n5                                                NaN                             \n6                       Harlan County, U.S.A. (1976)                             \n\n  Rank your movie choices. You don't have to do a full ranking. [Sixth Choice]  \\\n0                              American Movie (1999)                             \n1                                                NaN                             \n2                      Beauty is Embarrassing (2012)                             \n3                            Bury the Hatchet (2010)                             \n4                      Beauty is Embarrassing (2012)                             \n5                                                NaN                             \n6                              Beyond the Mat (1999)                             \n\n  What theme should we explore next week? [First Choice]  \\\n0                          [Default to Nicolas Cage]       \n1                                  IT'S A CONSPIRACY       \n2                                               1982       \n3                          [Default to Nicolas Cage]       \n4                                ARE WE THE BADDIES?       \n5                                               1982       \n6                                ARE WE THE BADDIES?       \n\n  What theme should we explore next week? [Second Choice]  \\\n0                            IT'S IN BLACK AND WHITE        \n1                            IT'S IN BLACK AND WHITE        \n2                                ARE WE THE BADDIES?        \n3                                        VIDEO GAMES        \n4                                  IT'S A CONSPIRACY        \n5                               THE VERY NEAR FUTURE        \n6                                               1982        \n\n  What theme should we explore next week? [Third Choice]  \\\n0                                ARE WE THE BADDIES?       \n1                                               1982       \n2                                  IT'S A CONSPIRACY       \n3                                ARE WE THE BADDIES?       \n4                                        VIDEO GAMES       \n5                                ARE WE THE BADDIES?       \n6                                  IT'S A CONSPIRACY       \n\n  What theme should we explore next week? [Fourth Choice]  \\\n0                                  IT'S A CONSPIRACY        \n1                               THE VERY NEAR FUTURE        \n2                               THE VERY NEAR FUTURE        \n3                               THE VERY NEAR FUTURE        \n4                            IT'S IN BLACK AND WHITE        \n5                                  IT'S A CONSPIRACY        \n6                               THE VERY NEAR FUTURE        \n\n  What theme should we explore next week? [Fifth Choice]  \\\n0                                               1982       \n1                                ARE WE THE BADDIES?       \n2                            IT'S IN BLACK AND WHITE       \n3                                  IT'S A CONSPIRACY       \n4                               THE VERY NEAR FUTURE       \n5                                        VIDEO GAMES       \n6                            IT'S IN BLACK AND WHITE       \n\n  What theme should we explore next week? [Sixth Choice]  \\\n0                               THE VERY NEAR FUTURE       \n1                          [Default to Nicolas Cage]       \n2                          [Default to Nicolas Cage]       \n3                                               1982       \n4                                               1982       \n5                          [Default to Nicolas Cage]       \n6                                        VIDEO GAMES       \n\n  What theme should we explore next week? [Seventh Choice]  \n0                                        VIDEO GAMES        \n1                                        VIDEO GAMES        \n2                                        VIDEO GAMES        \n3                            IT'S IN BLACK AND WHITE        \n4                          [Default to Nicolas Cage]        \n5                            IT'S IN BLACK AND WHITE        \n6                          [Default to Nicolas Cage]        ",
      "text/html": "<div>\n<style scoped>\n    .dataframe tbody tr th:only-of-type {\n        vertical-align: middle;\n    }\n\n    .dataframe tbody tr th {\n        vertical-align: top;\n    }\n\n    .dataframe thead th {\n        text-align: right;\n    }\n</style>\n<table border=\"1\" class=\"dataframe\">\n  <thead>\n    <tr style=\"text-align: right;\">\n      <th></th>\n      <th>Timestamp</th>\n      <th>Rank your movie choices. You don't have to do a full ranking. [First Choice]</th>\n      <th>Rank your movie choices. You don't have to do a full ranking. [Second Choice]</th>\n      <th>Rank your movie choices. You don't have to do a full ranking. [Third Choice]</th>\n      <th>Rank your movie choices. You don't have to do a full ranking. [Fourth Choice]</th>\n      <th>Rank your movie choices. You don't have to do a full ranking. [Fifth Choice]</th>\n      <th>Rank your movie choices. You don't have to do a full ranking. [Sixth Choice]</th>\n      <th>What theme should we explore next week? [First Choice]</th>\n      <th>What theme should we explore next week? [Second Choice]</th>\n      <th>What theme should we explore next week? [Third Choice]</th>\n      <th>What theme should we explore next week? [Fourth Choice]</th>\n      <th>What theme should we explore next week? [Fifth Choice]</th>\n      <th>What theme should we explore next week? [Sixth Choice]</th>\n      <th>What theme should we explore next week? [Seventh Choice]</th>\n    </tr>\n  </thead>\n  <tbody>\n    <tr>\n      <th>0</th>\n      <td>17/03/2021 10:22:47</td>\n      <td>Beauty is Embarrassing (2012)</td>\n      <td>Bury the Hatchet (2010)</td>\n      <td>Harlan County, U.S.A. (1976)</td>\n      <td>Rodents of Unusual Size (2017)</td>\n      <td>Beyond the Mat (1999)</td>\n      <td>American Movie (1999)</td>\n      <td>[Default to Nicolas Cage]</td>\n      <td>IT'S IN BLACK AND WHITE</td>\n      <td>ARE WE THE BADDIES?</td>\n      <td>IT'S A CONSPIRACY</td>\n      <td>1982</td>\n      <td>THE VERY NEAR FUTURE</td>\n      <td>VIDEO GAMES</td>\n    </tr>\n    <tr>\n      <th>1</th>\n      <td>17/03/2021 10:30:10</td>\n      <td>Beyond the Mat (1999)</td>\n      <td>Rodents of Unusual Size (2017)</td>\n      <td>Beauty is Embarrassing (2012)</td>\n      <td>Bury the Hatchet (2010)</td>\n      <td>NaN</td>\n      <td>NaN</td>\n      <td>IT'S A CONSPIRACY</td>\n      <td>IT'S IN BLACK AND WHITE</td>\n      <td>1982</td>\n      <td>THE VERY NEAR FUTURE</td>\n      <td>ARE WE THE BADDIES?</td>\n      <td>[Default to Nicolas Cage]</td>\n      <td>VIDEO GAMES</td>\n    </tr>\n    <tr>\n      <th>2</th>\n      <td>17/03/2021 10:42:03</td>\n      <td>American Movie (1999)</td>\n      <td>Harlan County, U.S.A. (1976)</td>\n      <td>Bury the Hatchet (2010)</td>\n      <td>Rodents of Unusual Size (2017)</td>\n      <td>Beyond the Mat (1999)</td>\n      <td>Beauty is Embarrassing (2012)</td>\n      <td>1982</td>\n      <td>ARE WE THE BADDIES?</td>\n      <td>IT'S A CONSPIRACY</td>\n      <td>THE VERY NEAR FUTURE</td>\n      <td>IT'S IN BLACK AND WHITE</td>\n      <td>[Default to Nicolas Cage]</td>\n      <td>VIDEO GAMES</td>\n    </tr>\n    <tr>\n      <th>3</th>\n      <td>17/03/2021 10:49:18</td>\n      <td>Harlan County, U.S.A. (1976)</td>\n      <td>American Movie (1999)</td>\n      <td>Rodents of Unusual Size (2017)</td>\n      <td>Beyond the Mat (1999)</td>\n      <td>Beauty is Embarrassing (2012)</td>\n      <td>Bury the Hatchet (2010)</td>\n      <td>[Default to Nicolas Cage]</td>\n      <td>VIDEO GAMES</td>\n      <td>ARE WE THE BADDIES?</td>\n      <td>THE VERY NEAR FUTURE</td>\n      <td>IT'S A CONSPIRACY</td>\n      <td>1982</td>\n      <td>IT'S IN BLACK AND WHITE</td>\n    </tr>\n    <tr>\n      <th>4</th>\n      <td>17/03/2021 10:55:10</td>\n      <td>Harlan County, U.S.A. (1976)</td>\n      <td>American Movie (1999)</td>\n      <td>Bury the Hatchet (2010)</td>\n      <td>Rodents of Unusual Size (2017)</td>\n      <td>Beyond the Mat (1999)</td>\n      <td>Beauty is Embarrassing (2012)</td>\n      <td>ARE WE THE BADDIES?</td>\n      <td>IT'S A CONSPIRACY</td>\n      <td>VIDEO GAMES</td>\n      <td>IT'S IN BLACK AND WHITE</td>\n      <td>THE VERY NEAR FUTURE</td>\n      <td>1982</td>\n      <td>[Default to Nicolas Cage]</td>\n    </tr>\n    <tr>\n      <th>5</th>\n      <td>17/03/2021 14:52:20</td>\n      <td>Bury the Hatchet (2010)</td>\n      <td>Rodents of Unusual Size (2017)</td>\n      <td>Harlan County, U.S.A. (1976)</td>\n      <td>Beauty is Embarrassing (2012)</td>\n      <td>NaN</td>\n      <td>NaN</td>\n      <td>1982</td>\n      <td>THE VERY NEAR FUTURE</td>\n      <td>ARE WE THE BADDIES?</td>\n      <td>IT'S A CONSPIRACY</td>\n      <td>VIDEO GAMES</td>\n      <td>[Default to Nicolas Cage]</td>\n      <td>IT'S IN BLACK AND WHITE</td>\n    </tr>\n    <tr>\n      <th>6</th>\n      <td>17/03/2021 14:55:01</td>\n      <td>Bury the Hatchet (2010)</td>\n      <td>American Movie (1999)</td>\n      <td>Beauty is Embarrassing (2012)</td>\n      <td>Rodents of Unusual Size (2017)</td>\n      <td>Harlan County, U.S.A. (1976)</td>\n      <td>Beyond the Mat (1999)</td>\n      <td>ARE WE THE BADDIES?</td>\n      <td>1982</td>\n      <td>IT'S A CONSPIRACY</td>\n      <td>THE VERY NEAR FUTURE</td>\n      <td>IT'S IN BLACK AND WHITE</td>\n      <td>VIDEO GAMES</td>\n      <td>[Default to Nicolas Cage]</td>\n    </tr>\n  </tbody>\n</table>\n</div>"
     },
     "execution_count": 2,
     "metadata": {},
     "output_type": "execute_result"
    }
   ],
   "source": [
    "df = pd.read_csv(Path('./data/20210320.csv').resolve())\n",
    "df"
   ]
  },
  {
   "cell_type": "code",
   "execution_count": 3,
   "metadata": {},
   "outputs": [],
   "source": [
    "just_ballots = df.loc[:, df.columns.str.startswith('Rank')]\n",
    "next_week = df.loc[:, df.columns.str.startswith('What')]"
   ]
  },
  {
   "cell_type": "code",
   "execution_count": 4,
   "metadata": {},
   "outputs": [
    {
     "data": {
      "text/plain": "array(['Beauty is Embarrassing (2012)', 'Bury the Hatchet (2010)',\n       'Harlan County, U.S.A. (1976)', 'Rodents of Unusual Size (2017)',\n       'Beyond the Mat (1999)', 'American Movie (1999)'], dtype=object)"
     },
     "execution_count": 4,
     "metadata": {},
     "output_type": "execute_result"
    }
   ],
   "source": [
    "submissions = just_ballots.loc[just_ballots.notna().all(axis=1).idxmax(),:].values\n",
    "submissions"
   ]
  },
  {
   "cell_type": "code",
   "execution_count": 5,
   "metadata": {},
   "outputs": [],
   "source": [
    "submission_dict = {submission: pyrankvote.Candidate(submission) for submission in submissions}"
   ]
  },
  {
   "cell_type": "code",
   "execution_count": 6,
   "metadata": {},
   "outputs": [],
   "source": [
    "balloted = just_ballots.applymap(lambda x: submission_dict[x] if isinstance(x, str) else x)"
   ]
  },
  {
   "cell_type": "code",
   "execution_count": 7,
   "metadata": {},
   "outputs": [
    {
     "data": {
      "text/plain": "{'Beauty is Embarrassing (2012)': <Candidate('Beauty is Embarrassing (2012)')>,\n 'Bury the Hatchet (2010)': <Candidate('Bury the Hatchet (2010)')>,\n 'Harlan County, U.S.A. (1976)': <Candidate('Harlan County, U.S.A. (1976)')>,\n 'Rodents of Unusual Size (2017)': <Candidate('Rodents of Unusual Size (2017)')>,\n 'Beyond the Mat (1999)': <Candidate('Beyond the Mat (1999)')>,\n 'American Movie (1999)': <Candidate('American Movie (1999)')>}"
     },
     "execution_count": 7,
     "metadata": {},
     "output_type": "execute_result"
    }
   ],
   "source": [
    "submission_dict"
   ]
  },
  {
   "cell_type": "code",
   "execution_count": 8,
   "metadata": {},
   "outputs": [],
   "source": [
    "ballots = []\n",
    "for ballot in balloted.itertuples():\n",
    "    ballots.append(pyrankvote.Ballot(ranked_candidates=[b for b in ballot if isinstance(b, pyrankvote.Candidate)]))"
   ]
  },
  {
   "cell_type": "code",
   "execution_count": 9,
   "metadata": {},
   "outputs": [
    {
     "data": {
      "text/plain": "[<Ballot(Beauty is Embarrassing (2012), Bury the Hatchet (2010), Harlan County, U.S.A. (1976), Rodents of Unusual Size (2017), Beyond the Mat (1999), American Movie (1999))>,\n <Ballot(Beyond the Mat (1999), Rodents of Unusual Size (2017), Beauty is Embarrassing (2012), Bury the Hatchet (2010))>,\n <Ballot(American Movie (1999), Harlan County, U.S.A. (1976), Bury the Hatchet (2010), Rodents of Unusual Size (2017), Beyond the Mat (1999), Beauty is Embarrassing (2012))>,\n <Ballot(Harlan County, U.S.A. (1976), American Movie (1999), Rodents of Unusual Size (2017), Beyond the Mat (1999), Beauty is Embarrassing (2012), Bury the Hatchet (2010))>,\n <Ballot(Harlan County, U.S.A. (1976), American Movie (1999), Bury the Hatchet (2010), Rodents of Unusual Size (2017), Beyond the Mat (1999), Beauty is Embarrassing (2012))>,\n <Ballot(Bury the Hatchet (2010), Rodents of Unusual Size (2017), Harlan County, U.S.A. (1976), Beauty is Embarrassing (2012))>,\n <Ballot(Bury the Hatchet (2010), American Movie (1999), Beauty is Embarrassing (2012), Rodents of Unusual Size (2017), Harlan County, U.S.A. (1976), Beyond the Mat (1999))>]"
     },
     "execution_count": 9,
     "metadata": {},
     "output_type": "execute_result"
    }
   ],
   "source": [
    "ballots"
   ]
  },
  {
   "cell_type": "code",
   "execution_count": 10,
   "metadata": {},
   "outputs": [],
   "source": [
    "election_result = pyrankvote.instant_runoff_voting(submission_dict.values(), ballots,)"
   ]
  },
  {
   "cell_type": "code",
   "execution_count": 11,
   "metadata": {},
   "outputs": [
    {
     "name": "stdout",
     "output_type": "stream",
     "text": [
      "ROUND 1\n",
      "Candidate                         Votes  Status\n",
      "------------------------------  -------  --------\n",
      "Bury the Hatchet (2010)               2  Hopeful\n",
      "Harlan County, U.S.A. (1976)          2  Hopeful\n",
      "American Movie (1999)                 1  Hopeful\n",
      "Beauty is Embarrassing (2012)         1  Hopeful\n",
      "Beyond the Mat (1999)                 1  Rejected\n",
      "Rodents of Unusual Size (2017)        0  Rejected\n",
      "\n",
      "ROUND 2\n",
      "Candidate                         Votes  Status\n",
      "------------------------------  -------  --------\n",
      "Bury the Hatchet (2010)               2  Hopeful\n",
      "Harlan County, U.S.A. (1976)          2  Hopeful\n",
      "Beauty is Embarrassing (2012)         2  Hopeful\n",
      "American Movie (1999)                 1  Rejected\n",
      "Beyond the Mat (1999)                 0  Rejected\n",
      "Rodents of Unusual Size (2017)        0  Rejected\n",
      "\n",
      "ROUND 3\n",
      "Candidate                         Votes  Status\n",
      "------------------------------  -------  --------\n",
      "Harlan County, U.S.A. (1976)          3  Hopeful\n",
      "Bury the Hatchet (2010)               2  Hopeful\n",
      "Beauty is Embarrassing (2012)         2  Rejected\n",
      "American Movie (1999)                 0  Rejected\n",
      "Beyond the Mat (1999)                 0  Rejected\n",
      "Rodents of Unusual Size (2017)        0  Rejected\n",
      "\n",
      "FINAL RESULT\n",
      "Candidate                         Votes  Status\n",
      "------------------------------  -------  --------\n",
      "Bury the Hatchet (2010)               4  Elected\n",
      "Harlan County, U.S.A. (1976)          3  Rejected\n",
      "Beauty is Embarrassing (2012)         0  Rejected\n",
      "American Movie (1999)                 0  Rejected\n",
      "Beyond the Mat (1999)                 0  Rejected\n",
      "Rodents of Unusual Size (2017)        0  Rejected\n",
      "\n"
     ]
    }
   ],
   "source": [
    "print(election_result)"
   ]
  },
  {
   "cell_type": "code",
   "execution_count": 12,
   "metadata": {},
   "outputs": [
    {
     "name": "stdout",
     "output_type": "stream",
     "text": [
      "ROUND 1\n",
      "Candidate                    Votes  Status\n",
      "-------------------------  -------  --------\n",
      "ARE WE THE BADDIES?              2  Hopeful\n",
      "1982                             2  Hopeful\n",
      "[Default to Nicolas Cage]        2  Hopeful\n",
      "IT'S A CONSPIRACY                1  Rejected\n",
      "IT'S IN BLACK AND WHITE          0  Rejected\n",
      "VIDEO GAMES                      0  Rejected\n",
      "THE VERY NEAR FUTURE             0  Rejected\n",
      "\n",
      "ROUND 2\n",
      "Candidate                    Votes  Status\n",
      "-------------------------  -------  --------\n",
      "1982                             3  Hopeful\n",
      "ARE WE THE BADDIES?              2  Hopeful\n",
      "[Default to Nicolas Cage]        2  Rejected\n",
      "IT'S A CONSPIRACY                0  Rejected\n",
      "IT'S IN BLACK AND WHITE          0  Rejected\n",
      "VIDEO GAMES                      0  Rejected\n",
      "THE VERY NEAR FUTURE             0  Rejected\n",
      "\n",
      "FINAL RESULT\n",
      "Candidate                    Votes  Status\n",
      "-------------------------  -------  --------\n",
      "ARE WE THE BADDIES?              4  Elected\n",
      "1982                             3  Rejected\n",
      "[Default to Nicolas Cage]        0  Rejected\n",
      "IT'S A CONSPIRACY                0  Rejected\n",
      "IT'S IN BLACK AND WHITE          0  Rejected\n",
      "VIDEO GAMES                      0  Rejected\n",
      "THE VERY NEAR FUTURE             0  Rejected\n",
      "\n"
     ]
    }
   ],
   "source": [
    "submissions = next_week.loc[next_week.notna().all(axis=1).idxmax(),:].values\n",
    "submission_dict = {submission: pyrankvote.Candidate(submission) for submission in submissions}\n",
    "balloted = next_week.applymap(lambda x: submission_dict[x] if isinstance(x, str) else x)\n",
    "ballots = []\n",
    "for ballot in balloted.itertuples():\n",
    "    ballots.append(pyrankvote.Ballot(ranked_candidates=[b for b in ballot if isinstance(b, pyrankvote.Candidate)]))\n",
    "print(pyrankvote.instant_runoff_voting(submission_dict.values(), ballots,))"
   ]
  }
 ],
 "metadata": {
  "kernelspec": {
   "display_name": "Python 3",
   "language": "python",
   "name": "python3"
  },
  "language_info": {
   "codemirror_mode": {
    "name": "ipython",
    "version": 3
   },
   "file_extension": ".py",
   "mimetype": "text/x-python",
   "name": "python",
   "nbconvert_exporter": "python",
   "pygments_lexer": "ipython3",
   "version": "3.7.4"
  }
 },
 "nbformat": 4,
 "nbformat_minor": 2
}