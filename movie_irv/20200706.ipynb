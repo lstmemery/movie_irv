{
 "cells": [
  {
   "cell_type": "code",
   "execution_count": 1,
   "metadata": {},
   "outputs": [],
   "source": [
    "import pandas as pd\n",
    "import pyrankvote\n",
    "from pathlib import Path"
   ]
  },
  {
   "cell_type": "code",
   "execution_count": 2,
   "metadata": {},
   "outputs": [
    {
     "data": {
      "text/plain": "           Timestamp  \\\n0  7/1/2020 17:01:52   \n1  7/1/2020 17:07:10   \n2  7/1/2020 17:19:44   \n3  7/1/2020 17:22:43   \n4  7/1/2020 17:25:58   \n5  7/1/2020 17:29:55   \n6  7/1/2020 17:40:26   \n7  7/1/2020 17:47:25   \n8  7/1/2020 19:03:24   \n9  7/1/2020 23:28:26   \n\n  Rank your movie choices. You don't have to do a full ranking. [First Choice]  \\\n0                                       River's Edge                             \n1                        Ten Things I Hate About You                             \n2                                           Girlhood                             \n3                                       River's Edge                             \n4                                    Spring Breakers                             \n5                                           Girlhood                             \n6                                           Heathers                             \n7                                           Girlhood                             \n8                                   Cruel Intentions                             \n9                                           Heathers                             \n\n  Rank your movie choices. You don't have to do a full ranking. [Second Choice]  \\\n0                                           Heathers                              \n1                                           Eighteen                              \n2                                       Water Lilies                              \n3                                   Cruel Intentions                              \n4                                   Cruel Intentions                              \n5                                       Water Lilies                              \n6                                   Cruel Intentions                              \n7                                   Cruel Intentions                              \n8                        Ten Things I Hate About You                              \n9                                       River's Edge                              \n\n  Rank your movie choices. You don't have to do a full ranking. [Third Choice]  \\\n0                                           Girlhood                             \n1                                   Cruel Intentions                             \n2                                       River's Edge                             \n3                                       Water Lilies                             \n4                                                NaN                             \n5                                           Eighteen                             \n6                                           Girlhood                             \n7                                           Heathers                             \n8                                           Heathers                             \n9                                           Girlhood                             \n\n  Rank your movie choices. You don't have to do a full ranking. [Fourth Choice]  \\\n0                                           Eighteen                              \n1                                           Heathers                              \n2                                           Eighteen                              \n3                                           Girlhood                              \n4                                                NaN                              \n5                                   Cruel Intentions                              \n6                                       River's Edge                              \n7                        Ten Things I Hate About You                              \n8                                           Girlhood                              \n9                                   Cruel Intentions                              \n\n  Rank your movie choices. You don't have to do a full ranking. [Fifth Choice]  \\\n0                                       Water Lilies                             \n1                                       Water Lilies                             \n2                                   Cruel Intentions                             \n3                                           Eighteen                             \n4                                                NaN                             \n5                                                NaN                             \n6                                    Spring Breakers                             \n7                                       River's Edge                             \n8                                                NaN                             \n9                                           Eighteen                             \n\n  Rank your movie choices. You don't have to do a full ranking. [Sixth Choice]  \\\n0                                    Spring Breakers                             \n1                                                NaN                             \n2                                                NaN                             \n3                                           Heathers                             \n4                                                NaN                             \n5                                                NaN                             \n6                        Ten Things I Hate About You                             \n7                                    Spring Breakers                             \n8                                                NaN                             \n9                        Ten Things I Hate About You                             \n\n  Rank your movie choices. You don't have to do a full ranking. [Seventh Choice]  \\\n0                        Ten Things I Hate About You                               \n1                                                NaN                               \n2                                                NaN                               \n3                                    Spring Breakers                               \n4                                                NaN                               \n5                                                NaN                               \n6                                                NaN                               \n7                                       Water Lilies                               \n8                                                NaN                               \n9                                       Water Lilies                               \n\n  Rank your movie choices. You don't have to do a full ranking. [Eighth Choice]  \\\n0                                   Cruel Intentions                              \n1                                                NaN                              \n2                                                NaN                              \n3                        Ten Things I Hate About You                              \n4                                                NaN                              \n5                                                NaN                              \n6                                                NaN                              \n7                                           Eighteen                              \n8                                                NaN                              \n9                                    Spring Breakers                              \n\n  What theme should we explore next week? [First Choice]  \\\n0                            International Gangsters       \n1                    Extremely Loud & Incredibly Gay       \n2                              No Theme/Free-for-all       \n3                                      Cult Classics       \n4                                      Muscle men!!!       \n5                    Extremely Loud & Incredibly Gay       \n6                            Budget under $1 million       \n7                    Extremely Loud & Incredibly Gay       \n8                             Classic stories retold       \n9                          Previously Nominated Film       \n\n  What theme should we explore next week? [Second Choice]  \\\n0                              Director’s first film        \n1                                      Muscle men!!!        \n2                            International Gangsters        \n3                                      Muscle men!!!        \n4                                      Cult Classics        \n5                          Previously Nominated Film        \n6                              Director’s first film        \n7                          Previously Nominated Film        \n8                                                NaN        \n9                                      Muscle men!!!        \n\n  What theme should we explore next week? [Third Choice]  \\\n0                          Previously Nominated Film       \n1                            International Gangsters       \n2                                      Muscle men!!!       \n3                            International Gangsters       \n4                            Budget under $1 million       \n5                              Director’s first film       \n6                          Previously Nominated Film       \n7                                      Cult Classics       \n8                                                NaN       \n9                    Extremely Loud & Incredibly Gay       \n\n  What theme should we explore next week? [Fourth Choice]  \\\n0                                      Muscle men!!!        \n1                                                NaN        \n2                          Previously Nominated Film        \n3                    Extremely Loud & Incredibly Gay        \n4                              No Theme/Free-for-all        \n5                                      Cult Classics        \n6                             Classic stories retold        \n7                              Director’s first film        \n8                                                NaN        \n9                            International Gangsters        \n\n  What theme should we explore next week? [Fifth Choice]  \\\n0                    Extremely Loud & Incredibly Gay       \n1                                                NaN       \n2                                      Cult Classics       \n3                              Director’s first film       \n4                                                NaN       \n5                             Classic stories retold       \n6                                      Cult Classics       \n7                             Classic stories retold       \n8                                                NaN       \n9                              Director’s first film       \n\n  What theme should we explore next week? [Sixth Choice]  \\\n0                                      Cult Classics       \n1                                                NaN       \n2                              Director’s first film       \n3                            Budget under $1 million       \n4                                                NaN       \n5                                                NaN       \n6                            International Gangsters       \n7                            Budget under $1 million       \n8                                                NaN       \n9                                      Cult Classics       \n\n  What theme should we explore next week? [Seventh Choice]  \\\n0                              No Theme/Free-for-all         \n1                                                NaN         \n2                    Extremely Loud & Incredibly Gay         \n3                          Previously Nominated Film         \n4                                                NaN         \n5                                                NaN         \n6                                      Muscle men!!!         \n7                                      Muscle men!!!         \n8                                                NaN         \n9                             Classic stories retold         \n\n  What theme should we explore next week? [Eighth Choice]  \\\n0                             Classic stories retold        \n1                                                NaN        \n2                            Budget under $1 million        \n3                             Classic stories retold        \n4                                                NaN        \n5                                                NaN        \n6                    Extremely Loud & Incredibly Gay        \n7                            International Gangsters        \n8                                                NaN        \n9                            Budget under $1 million        \n\n  What theme should we explore next week? [Nineth Choice]  \n0                            Budget under $1 million       \n1                                                NaN       \n2                             Classic stories retold       \n3                              No Theme/Free-for-all       \n4                                                NaN       \n5                                                NaN       \n6                                                NaN       \n7                              No Theme/Free-for-all       \n8                                                NaN       \n9                              No Theme/Free-for-all       ",
      "text/html": "<div>\n<style scoped>\n    .dataframe tbody tr th:only-of-type {\n        vertical-align: middle;\n    }\n\n    .dataframe tbody tr th {\n        vertical-align: top;\n    }\n\n    .dataframe thead th {\n        text-align: right;\n    }\n</style>\n<table border=\"1\" class=\"dataframe\">\n  <thead>\n    <tr style=\"text-align: right;\">\n      <th></th>\n      <th>Timestamp</th>\n      <th>Rank your movie choices. You don't have to do a full ranking. [First Choice]</th>\n      <th>Rank your movie choices. You don't have to do a full ranking. [Second Choice]</th>\n      <th>Rank your movie choices. You don't have to do a full ranking. [Third Choice]</th>\n      <th>Rank your movie choices. You don't have to do a full ranking. [Fourth Choice]</th>\n      <th>Rank your movie choices. You don't have to do a full ranking. [Fifth Choice]</th>\n      <th>Rank your movie choices. You don't have to do a full ranking. [Sixth Choice]</th>\n      <th>Rank your movie choices. You don't have to do a full ranking. [Seventh Choice]</th>\n      <th>Rank your movie choices. You don't have to do a full ranking. [Eighth Choice]</th>\n      <th>What theme should we explore next week? [First Choice]</th>\n      <th>What theme should we explore next week? [Second Choice]</th>\n      <th>What theme should we explore next week? [Third Choice]</th>\n      <th>What theme should we explore next week? [Fourth Choice]</th>\n      <th>What theme should we explore next week? [Fifth Choice]</th>\n      <th>What theme should we explore next week? [Sixth Choice]</th>\n      <th>What theme should we explore next week? [Seventh Choice]</th>\n      <th>What theme should we explore next week? [Eighth Choice]</th>\n      <th>What theme should we explore next week? [Nineth Choice]</th>\n    </tr>\n  </thead>\n  <tbody>\n    <tr>\n      <th>0</th>\n      <td>7/1/2020 17:01:52</td>\n      <td>River's Edge</td>\n      <td>Heathers</td>\n      <td>Girlhood</td>\n      <td>Eighteen</td>\n      <td>Water Lilies</td>\n      <td>Spring Breakers</td>\n      <td>Ten Things I Hate About You</td>\n      <td>Cruel Intentions</td>\n      <td>International Gangsters</td>\n      <td>Director’s first film</td>\n      <td>Previously Nominated Film</td>\n      <td>Muscle men!!!</td>\n      <td>Extremely Loud &amp; Incredibly Gay</td>\n      <td>Cult Classics</td>\n      <td>No Theme/Free-for-all</td>\n      <td>Classic stories retold</td>\n      <td>Budget under $1 million</td>\n    </tr>\n    <tr>\n      <th>1</th>\n      <td>7/1/2020 17:07:10</td>\n      <td>Ten Things I Hate About You</td>\n      <td>Eighteen</td>\n      <td>Cruel Intentions</td>\n      <td>Heathers</td>\n      <td>Water Lilies</td>\n      <td>NaN</td>\n      <td>NaN</td>\n      <td>NaN</td>\n      <td>Extremely Loud &amp; Incredibly Gay</td>\n      <td>Muscle men!!!</td>\n      <td>International Gangsters</td>\n      <td>NaN</td>\n      <td>NaN</td>\n      <td>NaN</td>\n      <td>NaN</td>\n      <td>NaN</td>\n      <td>NaN</td>\n    </tr>\n    <tr>\n      <th>2</th>\n      <td>7/1/2020 17:19:44</td>\n      <td>Girlhood</td>\n      <td>Water Lilies</td>\n      <td>River's Edge</td>\n      <td>Eighteen</td>\n      <td>Cruel Intentions</td>\n      <td>NaN</td>\n      <td>NaN</td>\n      <td>NaN</td>\n      <td>No Theme/Free-for-all</td>\n      <td>International Gangsters</td>\n      <td>Muscle men!!!</td>\n      <td>Previously Nominated Film</td>\n      <td>Cult Classics</td>\n      <td>Director’s first film</td>\n      <td>Extremely Loud &amp; Incredibly Gay</td>\n      <td>Budget under $1 million</td>\n      <td>Classic stories retold</td>\n    </tr>\n    <tr>\n      <th>3</th>\n      <td>7/1/2020 17:22:43</td>\n      <td>River's Edge</td>\n      <td>Cruel Intentions</td>\n      <td>Water Lilies</td>\n      <td>Girlhood</td>\n      <td>Eighteen</td>\n      <td>Heathers</td>\n      <td>Spring Breakers</td>\n      <td>Ten Things I Hate About You</td>\n      <td>Cult Classics</td>\n      <td>Muscle men!!!</td>\n      <td>International Gangsters</td>\n      <td>Extremely Loud &amp; Incredibly Gay</td>\n      <td>Director’s first film</td>\n      <td>Budget under $1 million</td>\n      <td>Previously Nominated Film</td>\n      <td>Classic stories retold</td>\n      <td>No Theme/Free-for-all</td>\n    </tr>\n    <tr>\n      <th>4</th>\n      <td>7/1/2020 17:25:58</td>\n      <td>Spring Breakers</td>\n      <td>Cruel Intentions</td>\n      <td>NaN</td>\n      <td>NaN</td>\n      <td>NaN</td>\n      <td>NaN</td>\n      <td>NaN</td>\n      <td>NaN</td>\n      <td>Muscle men!!!</td>\n      <td>Cult Classics</td>\n      <td>Budget under $1 million</td>\n      <td>No Theme/Free-for-all</td>\n      <td>NaN</td>\n      <td>NaN</td>\n      <td>NaN</td>\n      <td>NaN</td>\n      <td>NaN</td>\n    </tr>\n    <tr>\n      <th>5</th>\n      <td>7/1/2020 17:29:55</td>\n      <td>Girlhood</td>\n      <td>Water Lilies</td>\n      <td>Eighteen</td>\n      <td>Cruel Intentions</td>\n      <td>NaN</td>\n      <td>NaN</td>\n      <td>NaN</td>\n      <td>NaN</td>\n      <td>Extremely Loud &amp; Incredibly Gay</td>\n      <td>Previously Nominated Film</td>\n      <td>Director’s first film</td>\n      <td>Cult Classics</td>\n      <td>Classic stories retold</td>\n      <td>NaN</td>\n      <td>NaN</td>\n      <td>NaN</td>\n      <td>NaN</td>\n    </tr>\n    <tr>\n      <th>6</th>\n      <td>7/1/2020 17:40:26</td>\n      <td>Heathers</td>\n      <td>Cruel Intentions</td>\n      <td>Girlhood</td>\n      <td>River's Edge</td>\n      <td>Spring Breakers</td>\n      <td>Ten Things I Hate About You</td>\n      <td>NaN</td>\n      <td>NaN</td>\n      <td>Budget under $1 million</td>\n      <td>Director’s first film</td>\n      <td>Previously Nominated Film</td>\n      <td>Classic stories retold</td>\n      <td>Cult Classics</td>\n      <td>International Gangsters</td>\n      <td>Muscle men!!!</td>\n      <td>Extremely Loud &amp; Incredibly Gay</td>\n      <td>NaN</td>\n    </tr>\n    <tr>\n      <th>7</th>\n      <td>7/1/2020 17:47:25</td>\n      <td>Girlhood</td>\n      <td>Cruel Intentions</td>\n      <td>Heathers</td>\n      <td>Ten Things I Hate About You</td>\n      <td>River's Edge</td>\n      <td>Spring Breakers</td>\n      <td>Water Lilies</td>\n      <td>Eighteen</td>\n      <td>Extremely Loud &amp; Incredibly Gay</td>\n      <td>Previously Nominated Film</td>\n      <td>Cult Classics</td>\n      <td>Director’s first film</td>\n      <td>Classic stories retold</td>\n      <td>Budget under $1 million</td>\n      <td>Muscle men!!!</td>\n      <td>International Gangsters</td>\n      <td>No Theme/Free-for-all</td>\n    </tr>\n    <tr>\n      <th>8</th>\n      <td>7/1/2020 19:03:24</td>\n      <td>Cruel Intentions</td>\n      <td>Ten Things I Hate About You</td>\n      <td>Heathers</td>\n      <td>Girlhood</td>\n      <td>NaN</td>\n      <td>NaN</td>\n      <td>NaN</td>\n      <td>NaN</td>\n      <td>Classic stories retold</td>\n      <td>NaN</td>\n      <td>NaN</td>\n      <td>NaN</td>\n      <td>NaN</td>\n      <td>NaN</td>\n      <td>NaN</td>\n      <td>NaN</td>\n      <td>NaN</td>\n    </tr>\n    <tr>\n      <th>9</th>\n      <td>7/1/2020 23:28:26</td>\n      <td>Heathers</td>\n      <td>River's Edge</td>\n      <td>Girlhood</td>\n      <td>Cruel Intentions</td>\n      <td>Eighteen</td>\n      <td>Ten Things I Hate About You</td>\n      <td>Water Lilies</td>\n      <td>Spring Breakers</td>\n      <td>Previously Nominated Film</td>\n      <td>Muscle men!!!</td>\n      <td>Extremely Loud &amp; Incredibly Gay</td>\n      <td>International Gangsters</td>\n      <td>Director’s first film</td>\n      <td>Cult Classics</td>\n      <td>Classic stories retold</td>\n      <td>Budget under $1 million</td>\n      <td>No Theme/Free-for-all</td>\n    </tr>\n  </tbody>\n</table>\n</div>"
     },
     "execution_count": 2,
     "metadata": {},
     "output_type": "execute_result"
    }
   ],
   "source": [
    "df = pd.read_csv(Path('./data/20200706.csv').resolve())\n",
    "df"
   ]
  },
  {
   "cell_type": "code",
   "execution_count": 3,
   "metadata": {},
   "outputs": [],
   "source": [
    "just_ballots = df.loc[:, df.columns.str.startswith('Rank')]\n",
    "next_week = df.loc[:, df.columns.str.startswith('What')]"
   ]
  },
  {
   "cell_type": "code",
   "execution_count": 4,
   "metadata": {},
   "outputs": [
    {
     "data": {
      "text/plain": "array([\"River's Edge\", 'Heathers', 'Girlhood', 'Eighteen', 'Water Lilies',\n       'Spring Breakers', 'Ten Things I Hate About You',\n       'Cruel Intentions'], dtype=object)"
     },
     "execution_count": 4,
     "metadata": {},
     "output_type": "execute_result"
    }
   ],
   "source": [
    "submissions = just_ballots.loc[just_ballots.notna().all(axis=1).idxmax(),:].values\n",
    "submissions"
   ]
  },
  {
   "cell_type": "code",
   "execution_count": 5,
   "metadata": {},
   "outputs": [],
   "source": [
    "submission_dict = {submission: pyrankvote.Candidate(submission) for submission in submissions}"
   ]
  },
  {
   "cell_type": "code",
   "execution_count": 6,
   "metadata": {},
   "outputs": [],
   "source": [
    "balloted = just_ballots.applymap(lambda x: submission_dict[x] if isinstance(x, str) else x)"
   ]
  },
  {
   "cell_type": "code",
   "execution_count": 7,
   "metadata": {},
   "outputs": [
    {
     "data": {
      "text/plain": "{\"River's Edge\": <Candidate('River's Edge')>,\n 'Heathers': <Candidate('Heathers')>,\n 'Girlhood': <Candidate('Girlhood')>,\n 'Eighteen': <Candidate('Eighteen')>,\n 'Water Lilies': <Candidate('Water Lilies')>,\n 'Spring Breakers': <Candidate('Spring Breakers')>,\n 'Ten Things I Hate About You': <Candidate('Ten Things I Hate About You')>,\n 'Cruel Intentions': <Candidate('Cruel Intentions')>}"
     },
     "execution_count": 7,
     "metadata": {},
     "output_type": "execute_result"
    }
   ],
   "source": [
    "submission_dict"
   ]
  },
  {
   "cell_type": "code",
   "execution_count": 8,
   "metadata": {},
   "outputs": [],
   "source": [
    "ballots = []\n",
    "for ballot in balloted.itertuples():\n",
    "    ballots.append(pyrankvote.Ballot(ranked_candidates=[b for b in ballot if isinstance(b, pyrankvote.Candidate)]))"
   ]
  },
  {
   "cell_type": "code",
   "execution_count": 9,
   "metadata": {},
   "outputs": [
    {
     "data": {
      "text/plain": "[<Ballot(River's Edge, Heathers, Girlhood, Eighteen, Water Lilies, Spring Breakers, Ten Things I Hate About You, Cruel Intentions)>,\n <Ballot(Ten Things I Hate About You, Eighteen, Cruel Intentions, Heathers, Water Lilies)>,\n <Ballot(Girlhood, Water Lilies, River's Edge, Eighteen, Cruel Intentions)>,\n <Ballot(River's Edge, Cruel Intentions, Water Lilies, Girlhood, Eighteen, Heathers, Spring Breakers, Ten Things I Hate About You)>,\n <Ballot(Spring Breakers, Cruel Intentions)>,\n <Ballot(Girlhood, Water Lilies, Eighteen, Cruel Intentions)>,\n <Ballot(Heathers, Cruel Intentions, Girlhood, River's Edge, Spring Breakers, Ten Things I Hate About You)>,\n <Ballot(Girlhood, Cruel Intentions, Heathers, Ten Things I Hate About You, River's Edge, Spring Breakers, Water Lilies, Eighteen)>,\n <Ballot(Cruel Intentions, Ten Things I Hate About You, Heathers, Girlhood)>,\n <Ballot(Heathers, River's Edge, Girlhood, Cruel Intentions, Eighteen, Ten Things I Hate About You, Water Lilies, Spring Breakers)>]"
     },
     "execution_count": 9,
     "metadata": {},
     "output_type": "execute_result"
    }
   ],
   "source": [
    "ballots"
   ]
  },
  {
   "cell_type": "code",
   "execution_count": 10,
   "metadata": {},
   "outputs": [],
   "source": [
    "election_result = pyrankvote.instant_runoff_voting(submission_dict.values(), ballots,)"
   ]
  },
  {
   "cell_type": "code",
   "execution_count": 11,
   "metadata": {},
   "outputs": [
    {
     "name": "stdout",
     "output_type": "stream",
     "text": [
      "ROUND 1\n",
      "Candidate                      Votes  Status\n",
      "---------------------------  -------  --------\n",
      "Girlhood                           3  Hopeful\n",
      "Heathers                           2  Hopeful\n",
      "River's Edge                       2  Hopeful\n",
      "Cruel Intentions                   1  Hopeful\n",
      "Ten Things I Hate About You        1  Hopeful\n",
      "Spring Breakers                    1  Rejected\n",
      "Water Lilies                       0  Rejected\n",
      "Eighteen                           0  Rejected\n",
      "\n",
      "ROUND 2\n",
      "Candidate                      Votes  Status\n",
      "---------------------------  -------  --------\n",
      "Girlhood                           3  Hopeful\n",
      "Cruel Intentions                   2  Hopeful\n",
      "River's Edge                       2  Hopeful\n",
      "Heathers                           2  Hopeful\n",
      "Ten Things I Hate About You        1  Rejected\n",
      "Spring Breakers                    0  Rejected\n",
      "Water Lilies                       0  Rejected\n",
      "Eighteen                           0  Rejected\n",
      "\n",
      "ROUND 3\n",
      "Candidate                      Votes  Status\n",
      "---------------------------  -------  --------\n",
      "Cruel Intentions                   3  Hopeful\n",
      "Girlhood                           3  Hopeful\n",
      "Heathers                           2  Hopeful\n",
      "River's Edge                       2  Rejected\n",
      "Ten Things I Hate About You        0  Rejected\n",
      "Spring Breakers                    0  Rejected\n",
      "Water Lilies                       0  Rejected\n",
      "Eighteen                           0  Rejected\n",
      "\n",
      "ROUND 4\n",
      "Candidate                      Votes  Status\n",
      "---------------------------  -------  --------\n",
      "Cruel Intentions                   4  Hopeful\n",
      "Girlhood                           3  Hopeful\n",
      "Heathers                           3  Rejected\n",
      "River's Edge                       0  Rejected\n",
      "Ten Things I Hate About You        0  Rejected\n",
      "Spring Breakers                    0  Rejected\n",
      "Water Lilies                       0  Rejected\n",
      "Eighteen                           0  Rejected\n",
      "\n",
      "FINAL RESULT\n",
      "Candidate                      Votes  Status\n",
      "---------------------------  -------  --------\n",
      "Cruel Intentions                   5  Elected\n",
      "Girlhood                           5  Rejected\n",
      "Heathers                           0  Rejected\n",
      "River's Edge                       0  Rejected\n",
      "Ten Things I Hate About You        0  Rejected\n",
      "Spring Breakers                    0  Rejected\n",
      "Water Lilies                       0  Rejected\n",
      "Eighteen                           0  Rejected\n",
      "\n"
     ]
    }
   ],
   "source": [
    "print(election_result)"
   ]
  },
  {
   "cell_type": "code",
   "execution_count": 12,
   "metadata": {},
   "outputs": [
    {
     "name": "stdout",
     "output_type": "stream",
     "text": [
      "ROUND 1\n",
      "Candidate                          Votes  Status\n",
      "-------------------------------  -------  --------\n",
      "Extremely Loud & Incredibly Gay        3  Hopeful\n",
      "Muscle men!!!                          1  Hopeful\n",
      "Previously Nominated Film              1  Hopeful\n",
      "International Gangsters                1  Hopeful\n",
      "Cult Classics                          1  Hopeful\n",
      "Budget under $1 million                1  Hopeful\n",
      "Classic stories retold                 1  Hopeful\n",
      "No Theme/Free-for-all                  1  Rejected\n",
      "Director’s first film                  0  Rejected\n",
      "\n",
      "ROUND 2\n",
      "Candidate                          Votes  Status\n",
      "-------------------------------  -------  --------\n",
      "Extremely Loud & Incredibly Gay        3  Hopeful\n",
      "International Gangsters                2  Hopeful\n",
      "Muscle men!!!                          1  Hopeful\n",
      "Previously Nominated Film              1  Hopeful\n",
      "Cult Classics                          1  Hopeful\n",
      "Classic stories retold                 1  Hopeful\n",
      "Budget under $1 million                1  Rejected\n",
      "No Theme/Free-for-all                  0  Rejected\n",
      "Director’s first film                  0  Rejected\n",
      "\n",
      "ROUND 3\n",
      "Candidate                          Votes  Status\n",
      "-------------------------------  -------  --------\n",
      "Extremely Loud & Incredibly Gay        3  Hopeful\n",
      "Previously Nominated Film              2  Hopeful\n",
      "International Gangsters                2  Hopeful\n",
      "Muscle men!!!                          1  Hopeful\n",
      "Cult Classics                          1  Hopeful\n",
      "Classic stories retold                 1  Rejected\n",
      "Budget under $1 million                0  Rejected\n",
      "No Theme/Free-for-all                  0  Rejected\n",
      "Director’s first film                  0  Rejected\n",
      "\n",
      "ROUND 4\n",
      "Candidate                          Votes  Status\n",
      "-------------------------------  -------  --------\n",
      "Extremely Loud & Incredibly Gay        3  Hopeful\n",
      "Previously Nominated Film              2  Hopeful\n",
      "International Gangsters                2  Hopeful\n",
      "Muscle men!!!                          1  Rejected\n",
      "Cult Classics                          1  Rejected\n",
      "Classic stories retold                 0  Rejected\n",
      "Budget under $1 million                0  Rejected\n",
      "No Theme/Free-for-all                  0  Rejected\n",
      "Director’s first film                  0  Rejected\n",
      "Blank votes                            1  Rejected\n",
      "\n",
      "ROUND 5\n",
      "Candidate                          Votes  Status\n",
      "-------------------------------  -------  --------\n",
      "Extremely Loud & Incredibly Gay        3  Hopeful\n",
      "International Gangsters                3  Hopeful\n",
      "Previously Nominated Film              2  Rejected\n",
      "Muscle men!!!                          0  Rejected\n",
      "Cult Classics                          0  Rejected\n",
      "Classic stories retold                 0  Rejected\n",
      "Budget under $1 million                0  Rejected\n",
      "No Theme/Free-for-all                  0  Rejected\n",
      "Director’s first film                  0  Rejected\n",
      "Blank votes                            2  Rejected\n",
      "\n",
      "FINAL RESULT\n",
      "Candidate                          Votes  Status\n",
      "-------------------------------  -------  --------\n",
      "Extremely Loud & Incredibly Gay        4  Elected\n",
      "International Gangsters                4  Rejected\n",
      "Previously Nominated Film              0  Rejected\n",
      "Muscle men!!!                          0  Rejected\n",
      "Cult Classics                          0  Rejected\n",
      "Classic stories retold                 0  Rejected\n",
      "Budget under $1 million                0  Rejected\n",
      "No Theme/Free-for-all                  0  Rejected\n",
      "Director’s first film                  0  Rejected\n",
      "Blank votes                            2  Rejected\n",
      "\n"
     ]
    }
   ],
   "source": [
    "submissions = next_week.loc[next_week.notna().all(axis=1).idxmax(),:].values\n",
    "submission_dict = {submission: pyrankvote.Candidate(submission) for submission in submissions}\n",
    "balloted = next_week.applymap(lambda x: submission_dict[x] if isinstance(x, str) else x)\n",
    "ballots = []\n",
    "for ballot in balloted.itertuples():\n",
    "    ballots.append(pyrankvote.Ballot(ranked_candidates=[b for b in ballot if isinstance(b, pyrankvote.Candidate)]))\n",
    "print(pyrankvote.instant_runoff_voting(submission_dict.values(), ballots,))"
   ]
  }
 ],
 "metadata": {
  "kernelspec": {
   "display_name": "Python 3",
   "language": "python",
   "name": "python3"
  },
  "language_info": {
   "codemirror_mode": {
    "name": "ipython",
    "version": 3
   },
   "file_extension": ".py",
   "mimetype": "text/x-python",
   "name": "python",
   "nbconvert_exporter": "python",
   "pygments_lexer": "ipython3",
   "version": "3.7.4"
  }
 },
 "nbformat": 4,
 "nbformat_minor": 2
}