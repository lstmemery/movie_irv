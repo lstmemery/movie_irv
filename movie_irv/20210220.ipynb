{
 "cells": [
  {
   "cell_type": "code",
   "execution_count": 1,
   "metadata": {},
   "outputs": [],
   "source": [
    "import pandas as pd\n",
    "import pyrankvote\n",
    "from pathlib import Path\n",
    "from random import seed\n",
    "seed(252)"
   ]
  },
  {
   "cell_type": "code",
   "execution_count": 2,
   "metadata": {},
   "outputs": [
    {
     "data": {
      "text/plain": "            Timestamp  \\\n0  2/16/2021 18:50:14   \n1  2/16/2021 18:50:34   \n2  2/16/2021 18:54:13   \n3  2/16/2021 19:02:49   \n4  2/16/2021 19:09:07   \n5  2/16/2021 20:22:14   \n6   2/17/2021 5:52:14   \n7  2/17/2021 11:10:41   \n8  2/17/2021 14:51:16   \n\n  Rank your movie choices. You don't have to do a full ranking. [First Choice]  \\\n0                       Raise the Red Lantern (1991)                             \n1                Murder on the Orient Express (1974)                             \n2                               The Favourite (2018)                             \n3                                    Waterloo (1970)                             \n4                 The Enigma of Kaspar Hauser (1974)                             \n5                                Black Knight (2001)                             \n6                               The Favourite (2018)                             \n7                                The Tin Drum (1979)                             \n8                       Raise the Red Lantern (1991)                             \n\n  Rank your movie choices. You don't have to do a full ranking. [Second Choice]  \\\n0                                      Quills (2000)                              \n1                               The Favourite (2018)                              \n2                Murder on the Orient Express (1974)                              \n3                                      Quills (2000)                              \n4                       Raise the Red Lantern (1991)                              \n5                               The Favourite (2018)                              \n6                                    Waterloo (1970)                              \n7                                    Waterloo (1970)                              \n8                                      Quills (2000)                              \n\n  Rank your movie choices. You don't have to do a full ranking. [Third Choice]  \\\n0                 The Enigma of Kaspar Hauser (1974)                             \n1                       Raise the Red Lantern (1991)                             \n2                       Raise the Red Lantern (1991)                             \n3                 The Enigma of Kaspar Hauser (1974)                             \n4                                The Tin Drum (1979)                             \n5                                    Waterloo (1970)                             \n6                Murder on the Orient Express (1974)                             \n7                       Raise the Red Lantern (1991)                             \n8                                The Tin Drum (1979)                             \n\n  Rank your movie choices. You don't have to do a full ranking. [Fourth Choice]  \\\n0                                Black Knight (2001)                              \n1                                      Quills (2000)                              \n2                                    Waterloo (1970)                              \n3                       Raise the Red Lantern (1991)                              \n4                                    Waterloo (1970)                              \n5                                                NaN                              \n6                                Black Knight (2001)                              \n7                 The Enigma of Kaspar Hauser (1974)                              \n8                                    Waterloo (1970)                              \n\n  Rank your movie choices. You don't have to do a full ranking. [Fifth Choice]  \\\n0                                    Waterloo (1970)                             \n1                                Black Knight (2001)                             \n2                                Black Knight (2001)                             \n3                                The Tin Drum (1979)                             \n4                Murder on the Orient Express (1974)                             \n5                                                NaN                             \n6                       Raise the Red Lantern (1991)                             \n7                                Black Knight (2001)                             \n8                 The Enigma of Kaspar Hauser (1974)                             \n\n  Rank your movie choices. You don't have to do a full ranking. [Sixth Choice]  \\\n0                                The Tin Drum (1979)                             \n1                 The Enigma of Kaspar Hauser (1974)                             \n2                                                NaN                             \n3                Murder on the Orient Express (1974)                             \n4                                                NaN                             \n5                                                NaN                             \n6                                      Quills (2000)                             \n7                               The Favourite (2018)                             \n8                                Black Knight (2001)                             \n\n  Rank your movie choices. You don't have to do a full ranking. [Seventh Choice ]  \\\n0                Murder on the Orient Express (1974)                                \n1                                The Tin Drum (1979)                                \n2                                                NaN                                \n3                               The Favourite (2018)                                \n4                                                NaN                                \n5                                                NaN                                \n6                                The Tin Drum (1979)                                \n7                Murder on the Orient Express (1974)                                \n8                Murder on the Orient Express (1974)                                \n\n  Rank your movie choices. You don't have to do a full ranking. [Eighth ]  \\\n0                               The Favourite (2018)                        \n1                                    Waterloo (1970)                        \n2                                                NaN                        \n3                                Black Knight (2001)                        \n4                                                NaN                        \n5                                                NaN                        \n6                 The Enigma of Kaspar Hauser (1974)                        \n7                                      Quills (2000)                        \n8                               The Favourite (2018)                        \n\n  What theme should we explore next week? [First Choice]  \\\n0                                           ROM COMS       \n1                                           ROM COMS       \n2                                       1980S ACTION       \n3                          [Default to Nicolas Cage]       \n4                                        EURO-CRIMES       \n5                        ANIMALS/CREATURES THAT TALK       \n6                        ANIMALS/CREATURES THAT TALK       \n7                                 SEX PERVERT MOVIES       \n8                                              MIAMI       \n\n  What theme should we explore next week? [Second Choice]  \\\n0                             OOPS ALL STEVE BUSCEMI        \n1                                        EURO-CRIMES        \n2                                        EURO-CRIMES        \n3                                       1980S ACTION        \n4                                 SEX PERVERT MOVIES        \n5                                              MIAMI        \n6                                  I'M WITH THE BAND        \n7                                              MIAMI        \n8                                 SEX PERVERT MOVIES        \n\n  What theme should we explore next week? [Third Choice]  \\\n0                          [Default to Nicolas Cage]       \n1                                              MIAMI       \n2                                              MIAMI       \n3                                              MIAMI       \n4                                  I'M WITH THE BAND       \n5                             OOPS ALL STEVE BUSCEMI       \n6                                           ROM COMS       \n7                                        EURO-CRIMES       \n8                             OOPS ALL STEVE BUSCEMI       \n\n  What theme should we explore next week? [Fourth Choice]  \\\n0                        ANIMALS/CREATURES THAT TALK        \n1                                 SEX PERVERT MOVIES        \n2                          [Default to Nicolas Cage]        \n3                             OOPS ALL STEVE BUSCEMI        \n4                                              MIAMI        \n5                                           ROM COMS        \n6                                 SEX PERVERT MOVIES        \n7                                       1980S ACTION        \n8                        ANIMALS/CREATURES THAT TALK        \n\n  What theme should we explore next week? [Fifth Choice]  \\\n0                                        EURO-CRIMES       \n1                                  I'M WITH THE BAND       \n2                             OOPS ALL STEVE BUSCEMI       \n3                                 SEX PERVERT MOVIES       \n4                                       1980S ACTION       \n5                                       1980S ACTION       \n6                                                NaN       \n7                             OOPS ALL STEVE BUSCEMI       \n8                                        EURO-CRIMES       \n\n  What theme should we explore next week? [Sixth Choice]  \\\n0                                              MIAMI       \n1                          [Default to Nicolas Cage]       \n2                                                NaN       \n3                                  I'M WITH THE BAND       \n4                                           ROM COMS       \n5                                                NaN       \n6                                                NaN       \n7                                  I'M WITH THE BAND       \n8                                  I'M WITH THE BAND       \n\n  What theme should we explore next week? [Seventh Choice]  \\\n0                                  I'M WITH THE BAND         \n1                                       1980S ACTION         \n2                                                NaN         \n3                                           ROM COMS         \n4                        ANIMALS/CREATURES THAT TALK         \n5                                                NaN         \n6                                                NaN         \n7                                           ROM COMS         \n8                                           ROM COMS         \n\n  What theme should we explore next week? [Eighth Choice]  \\\n0                                 SEX PERVERT MOVIES        \n1                             OOPS ALL STEVE BUSCEMI        \n2                                                NaN        \n3                                        EURO-CRIMES        \n4                          [Default to Nicolas Cage]        \n5                                                NaN        \n6                                                NaN        \n7                        ANIMALS/CREATURES THAT TALK        \n8                                       1980S ACTION        \n\n  What theme should we explore next week? [Ninth Choice]  \n0                                       1980S ACTION      \n1                        ANIMALS/CREATURES THAT TALK      \n2                                                NaN      \n3                        ANIMALS/CREATURES THAT TALK      \n4                             OOPS ALL STEVE BUSCEMI      \n5                                                NaN      \n6                                                NaN      \n7                          [Default to Nicolas Cage]      \n8                          [Default to Nicolas Cage]      ",
      "text/html": "<div>\n<style scoped>\n    .dataframe tbody tr th:only-of-type {\n        vertical-align: middle;\n    }\n\n    .dataframe tbody tr th {\n        vertical-align: top;\n    }\n\n    .dataframe thead th {\n        text-align: right;\n    }\n</style>\n<table border=\"1\" class=\"dataframe\">\n  <thead>\n    <tr style=\"text-align: right;\">\n      <th></th>\n      <th>Timestamp</th>\n      <th>Rank your movie choices. You don't have to do a full ranking. [First Choice]</th>\n      <th>Rank your movie choices. You don't have to do a full ranking. [Second Choice]</th>\n      <th>Rank your movie choices. You don't have to do a full ranking. [Third Choice]</th>\n      <th>Rank your movie choices. You don't have to do a full ranking. [Fourth Choice]</th>\n      <th>Rank your movie choices. You don't have to do a full ranking. [Fifth Choice]</th>\n      <th>Rank your movie choices. You don't have to do a full ranking. [Sixth Choice]</th>\n      <th>Rank your movie choices. You don't have to do a full ranking. [Seventh Choice ]</th>\n      <th>Rank your movie choices. You don't have to do a full ranking. [Eighth ]</th>\n      <th>What theme should we explore next week? [First Choice]</th>\n      <th>What theme should we explore next week? [Second Choice]</th>\n      <th>What theme should we explore next week? [Third Choice]</th>\n      <th>What theme should we explore next week? [Fourth Choice]</th>\n      <th>What theme should we explore next week? [Fifth Choice]</th>\n      <th>What theme should we explore next week? [Sixth Choice]</th>\n      <th>What theme should we explore next week? [Seventh Choice]</th>\n      <th>What theme should we explore next week? [Eighth Choice]</th>\n      <th>What theme should we explore next week? [Ninth Choice]</th>\n    </tr>\n  </thead>\n  <tbody>\n    <tr>\n      <th>0</th>\n      <td>2/16/2021 18:50:14</td>\n      <td>Raise the Red Lantern (1991)</td>\n      <td>Quills (2000)</td>\n      <td>The Enigma of Kaspar Hauser (1974)</td>\n      <td>Black Knight (2001)</td>\n      <td>Waterloo (1970)</td>\n      <td>The Tin Drum (1979)</td>\n      <td>Murder on the Orient Express (1974)</td>\n      <td>The Favourite (2018)</td>\n      <td>ROM COMS</td>\n      <td>OOPS ALL STEVE BUSCEMI</td>\n      <td>[Default to Nicolas Cage]</td>\n      <td>ANIMALS/CREATURES THAT TALK</td>\n      <td>EURO-CRIMES</td>\n      <td>MIAMI</td>\n      <td>I'M WITH THE BAND</td>\n      <td>SEX PERVERT MOVIES</td>\n      <td>1980S ACTION</td>\n    </tr>\n    <tr>\n      <th>1</th>\n      <td>2/16/2021 18:50:34</td>\n      <td>Murder on the Orient Express (1974)</td>\n      <td>The Favourite (2018)</td>\n      <td>Raise the Red Lantern (1991)</td>\n      <td>Quills (2000)</td>\n      <td>Black Knight (2001)</td>\n      <td>The Enigma of Kaspar Hauser (1974)</td>\n      <td>The Tin Drum (1979)</td>\n      <td>Waterloo (1970)</td>\n      <td>ROM COMS</td>\n      <td>EURO-CRIMES</td>\n      <td>MIAMI</td>\n      <td>SEX PERVERT MOVIES</td>\n      <td>I'M WITH THE BAND</td>\n      <td>[Default to Nicolas Cage]</td>\n      <td>1980S ACTION</td>\n      <td>OOPS ALL STEVE BUSCEMI</td>\n      <td>ANIMALS/CREATURES THAT TALK</td>\n    </tr>\n    <tr>\n      <th>2</th>\n      <td>2/16/2021 18:54:13</td>\n      <td>The Favourite (2018)</td>\n      <td>Murder on the Orient Express (1974)</td>\n      <td>Raise the Red Lantern (1991)</td>\n      <td>Waterloo (1970)</td>\n      <td>Black Knight (2001)</td>\n      <td>NaN</td>\n      <td>NaN</td>\n      <td>NaN</td>\n      <td>1980S ACTION</td>\n      <td>EURO-CRIMES</td>\n      <td>MIAMI</td>\n      <td>[Default to Nicolas Cage]</td>\n      <td>OOPS ALL STEVE BUSCEMI</td>\n      <td>NaN</td>\n      <td>NaN</td>\n      <td>NaN</td>\n      <td>NaN</td>\n    </tr>\n    <tr>\n      <th>3</th>\n      <td>2/16/2021 19:02:49</td>\n      <td>Waterloo (1970)</td>\n      <td>Quills (2000)</td>\n      <td>The Enigma of Kaspar Hauser (1974)</td>\n      <td>Raise the Red Lantern (1991)</td>\n      <td>The Tin Drum (1979)</td>\n      <td>Murder on the Orient Express (1974)</td>\n      <td>The Favourite (2018)</td>\n      <td>Black Knight (2001)</td>\n      <td>[Default to Nicolas Cage]</td>\n      <td>1980S ACTION</td>\n      <td>MIAMI</td>\n      <td>OOPS ALL STEVE BUSCEMI</td>\n      <td>SEX PERVERT MOVIES</td>\n      <td>I'M WITH THE BAND</td>\n      <td>ROM COMS</td>\n      <td>EURO-CRIMES</td>\n      <td>ANIMALS/CREATURES THAT TALK</td>\n    </tr>\n    <tr>\n      <th>4</th>\n      <td>2/16/2021 19:09:07</td>\n      <td>The Enigma of Kaspar Hauser (1974)</td>\n      <td>Raise the Red Lantern (1991)</td>\n      <td>The Tin Drum (1979)</td>\n      <td>Waterloo (1970)</td>\n      <td>Murder on the Orient Express (1974)</td>\n      <td>NaN</td>\n      <td>NaN</td>\n      <td>NaN</td>\n      <td>EURO-CRIMES</td>\n      <td>SEX PERVERT MOVIES</td>\n      <td>I'M WITH THE BAND</td>\n      <td>MIAMI</td>\n      <td>1980S ACTION</td>\n      <td>ROM COMS</td>\n      <td>ANIMALS/CREATURES THAT TALK</td>\n      <td>[Default to Nicolas Cage]</td>\n      <td>OOPS ALL STEVE BUSCEMI</td>\n    </tr>\n    <tr>\n      <th>5</th>\n      <td>2/16/2021 20:22:14</td>\n      <td>Black Knight (2001)</td>\n      <td>The Favourite (2018)</td>\n      <td>Waterloo (1970)</td>\n      <td>NaN</td>\n      <td>NaN</td>\n      <td>NaN</td>\n      <td>NaN</td>\n      <td>NaN</td>\n      <td>ANIMALS/CREATURES THAT TALK</td>\n      <td>MIAMI</td>\n      <td>OOPS ALL STEVE BUSCEMI</td>\n      <td>ROM COMS</td>\n      <td>1980S ACTION</td>\n      <td>NaN</td>\n      <td>NaN</td>\n      <td>NaN</td>\n      <td>NaN</td>\n    </tr>\n    <tr>\n      <th>6</th>\n      <td>2/17/2021 5:52:14</td>\n      <td>The Favourite (2018)</td>\n      <td>Waterloo (1970)</td>\n      <td>Murder on the Orient Express (1974)</td>\n      <td>Black Knight (2001)</td>\n      <td>Raise the Red Lantern (1991)</td>\n      <td>Quills (2000)</td>\n      <td>The Tin Drum (1979)</td>\n      <td>The Enigma of Kaspar Hauser (1974)</td>\n      <td>ANIMALS/CREATURES THAT TALK</td>\n      <td>I'M WITH THE BAND</td>\n      <td>ROM COMS</td>\n      <td>SEX PERVERT MOVIES</td>\n      <td>NaN</td>\n      <td>NaN</td>\n      <td>NaN</td>\n      <td>NaN</td>\n      <td>NaN</td>\n    </tr>\n    <tr>\n      <th>7</th>\n      <td>2/17/2021 11:10:41</td>\n      <td>The Tin Drum (1979)</td>\n      <td>Waterloo (1970)</td>\n      <td>Raise the Red Lantern (1991)</td>\n      <td>The Enigma of Kaspar Hauser (1974)</td>\n      <td>Black Knight (2001)</td>\n      <td>The Favourite (2018)</td>\n      <td>Murder on the Orient Express (1974)</td>\n      <td>Quills (2000)</td>\n      <td>SEX PERVERT MOVIES</td>\n      <td>MIAMI</td>\n      <td>EURO-CRIMES</td>\n      <td>1980S ACTION</td>\n      <td>OOPS ALL STEVE BUSCEMI</td>\n      <td>I'M WITH THE BAND</td>\n      <td>ROM COMS</td>\n      <td>ANIMALS/CREATURES THAT TALK</td>\n      <td>[Default to Nicolas Cage]</td>\n    </tr>\n    <tr>\n      <th>8</th>\n      <td>2/17/2021 14:51:16</td>\n      <td>Raise the Red Lantern (1991)</td>\n      <td>Quills (2000)</td>\n      <td>The Tin Drum (1979)</td>\n      <td>Waterloo (1970)</td>\n      <td>The Enigma of Kaspar Hauser (1974)</td>\n      <td>Black Knight (2001)</td>\n      <td>Murder on the Orient Express (1974)</td>\n      <td>The Favourite (2018)</td>\n      <td>MIAMI</td>\n      <td>SEX PERVERT MOVIES</td>\n      <td>OOPS ALL STEVE BUSCEMI</td>\n      <td>ANIMALS/CREATURES THAT TALK</td>\n      <td>EURO-CRIMES</td>\n      <td>I'M WITH THE BAND</td>\n      <td>ROM COMS</td>\n      <td>1980S ACTION</td>\n      <td>[Default to Nicolas Cage]</td>\n    </tr>\n  </tbody>\n</table>\n</div>"
     },
     "execution_count": 2,
     "metadata": {},
     "output_type": "execute_result"
    }
   ],
   "source": [
    "df = pd.read_csv(Path('./data/20210220.csv').resolve())\n",
    "df"
   ]
  },
  {
   "cell_type": "code",
   "execution_count": 3,
   "metadata": {},
   "outputs": [],
   "source": [
    "just_ballots = df.loc[:, df.columns.str.startswith('Rank')]\n",
    "next_week = df.loc[:, df.columns.str.startswith('What')]"
   ]
  },
  {
   "cell_type": "code",
   "execution_count": 4,
   "metadata": {},
   "outputs": [
    {
     "data": {
      "text/plain": "array(['Raise the Red Lantern (1991)', 'Quills (2000)',\n       'The Enigma of Kaspar Hauser (1974)', 'Black Knight (2001)',\n       'Waterloo (1970)', 'The Tin Drum (1979)',\n       'Murder on the Orient Express (1974)', 'The Favourite (2018)'],\n      dtype=object)"
     },
     "execution_count": 4,
     "metadata": {},
     "output_type": "execute_result"
    }
   ],
   "source": [
    "submissions = just_ballots.loc[just_ballots.notna().all(axis=1).idxmax(),:].values\n",
    "submissions"
   ]
  },
  {
   "cell_type": "code",
   "execution_count": 5,
   "metadata": {},
   "outputs": [],
   "source": [
    "submission_dict = {submission: pyrankvote.Candidate(submission) for submission in submissions}"
   ]
  },
  {
   "cell_type": "code",
   "execution_count": 6,
   "metadata": {},
   "outputs": [],
   "source": [
    "balloted = just_ballots.applymap(lambda x: submission_dict[x] if isinstance(x, str) else x)"
   ]
  },
  {
   "cell_type": "code",
   "execution_count": 7,
   "metadata": {},
   "outputs": [
    {
     "data": {
      "text/plain": "{'Raise the Red Lantern (1991)': <Candidate('Raise the Red Lantern (1991)')>,\n 'Quills (2000)': <Candidate('Quills (2000)')>,\n 'The Enigma of Kaspar Hauser (1974)': <Candidate('The Enigma of Kaspar Hauser (1974)')>,\n 'Black Knight (2001)': <Candidate('Black Knight (2001)')>,\n 'Waterloo (1970)': <Candidate('Waterloo (1970)')>,\n 'The Tin Drum (1979)': <Candidate('The Tin Drum (1979)')>,\n 'Murder on the Orient Express (1974)': <Candidate('Murder on the Orient Express (1974)')>,\n 'The Favourite (2018)': <Candidate('The Favourite (2018)')>}"
     },
     "execution_count": 7,
     "metadata": {},
     "output_type": "execute_result"
    }
   ],
   "source": [
    "submission_dict"
   ]
  },
  {
   "cell_type": "code",
   "execution_count": 8,
   "metadata": {},
   "outputs": [],
   "source": [
    "ballots = []\n",
    "for ballot in balloted.itertuples():\n",
    "    ballots.append(pyrankvote.Ballot(ranked_candidates=[b for b in ballot if isinstance(b, pyrankvote.Candidate)]))"
   ]
  },
  {
   "cell_type": "code",
   "execution_count": 9,
   "metadata": {},
   "outputs": [
    {
     "data": {
      "text/plain": "[<Ballot(Raise the Red Lantern (1991), Quills (2000), The Enigma of Kaspar Hauser (1974), Black Knight (2001), Waterloo (1970), The Tin Drum (1979), Murder on the Orient Express (1974), The Favourite (2018))>,\n <Ballot(Murder on the Orient Express (1974), The Favourite (2018), Raise the Red Lantern (1991), Quills (2000), Black Knight (2001), The Enigma of Kaspar Hauser (1974), The Tin Drum (1979), Waterloo (1970))>,\n <Ballot(The Favourite (2018), Murder on the Orient Express (1974), Raise the Red Lantern (1991), Waterloo (1970), Black Knight (2001))>,\n <Ballot(Waterloo (1970), Quills (2000), The Enigma of Kaspar Hauser (1974), Raise the Red Lantern (1991), The Tin Drum (1979), Murder on the Orient Express (1974), The Favourite (2018), Black Knight (2001))>,\n <Ballot(The Enigma of Kaspar Hauser (1974), Raise the Red Lantern (1991), The Tin Drum (1979), Waterloo (1970), Murder on the Orient Express (1974))>,\n <Ballot(Black Knight (2001), The Favourite (2018), Waterloo (1970))>,\n <Ballot(The Favourite (2018), Waterloo (1970), Murder on the Orient Express (1974), Black Knight (2001), Raise the Red Lantern (1991), Quills (2000), The Tin Drum (1979), The Enigma of Kaspar Hauser (1974))>,\n <Ballot(The Tin Drum (1979), Waterloo (1970), Raise the Red Lantern (1991), The Enigma of Kaspar Hauser (1974), Black Knight (2001), The Favourite (2018), Murder on the Orient Express (1974), Quills (2000))>,\n <Ballot(Raise the Red Lantern (1991), Quills (2000), The Tin Drum (1979), Waterloo (1970), The Enigma of Kaspar Hauser (1974), Black Knight (2001), Murder on the Orient Express (1974), The Favourite (2018))>]"
     },
     "execution_count": 9,
     "metadata": {},
     "output_type": "execute_result"
    }
   ],
   "source": [
    "ballots"
   ]
  },
  {
   "cell_type": "code",
   "execution_count": 10,
   "metadata": {},
   "outputs": [],
   "source": [
    "election_result = pyrankvote.instant_runoff_voting(submission_dict.values(), ballots,)"
   ]
  },
  {
   "cell_type": "code",
   "execution_count": 11,
   "metadata": {},
   "outputs": [
    {
     "name": "stdout",
     "output_type": "stream",
     "text": [
      "ROUND 1\n",
      "Candidate                              Votes  Status\n",
      "-----------------------------------  -------  --------\n",
      "The Favourite (2018)                       2  Hopeful\n",
      "Raise the Red Lantern (1991)               2  Hopeful\n",
      "Waterloo (1970)                            1  Hopeful\n",
      "Murder on the Orient Express (1974)        1  Hopeful\n",
      "The Enigma of Kaspar Hauser (1974)         1  Hopeful\n",
      "The Tin Drum (1979)                        1  Hopeful\n",
      "Black Knight (2001)                        1  Rejected\n",
      "Quills (2000)                              0  Rejected\n",
      "\n",
      "ROUND 2\n",
      "Candidate                              Votes  Status\n",
      "-----------------------------------  -------  --------\n",
      "The Favourite (2018)                       3  Hopeful\n",
      "Raise the Red Lantern (1991)               2  Hopeful\n",
      "Waterloo (1970)                            1  Hopeful\n",
      "The Enigma of Kaspar Hauser (1974)         1  Hopeful\n",
      "The Tin Drum (1979)                        1  Hopeful\n",
      "Murder on the Orient Express (1974)        1  Rejected\n",
      "Black Knight (2001)                        0  Rejected\n",
      "Quills (2000)                              0  Rejected\n",
      "\n",
      "ROUND 3\n",
      "Candidate                              Votes  Status\n",
      "-----------------------------------  -------  --------\n",
      "The Favourite (2018)                       4  Hopeful\n",
      "Raise the Red Lantern (1991)               2  Hopeful\n",
      "Waterloo (1970)                            1  Hopeful\n",
      "The Enigma of Kaspar Hauser (1974)         1  Hopeful\n",
      "The Tin Drum (1979)                        1  Rejected\n",
      "Murder on the Orient Express (1974)        0  Rejected\n",
      "Black Knight (2001)                        0  Rejected\n",
      "Quills (2000)                              0  Rejected\n",
      "\n",
      "ROUND 4\n",
      "Candidate                              Votes  Status\n",
      "-----------------------------------  -------  --------\n",
      "The Favourite (2018)                       4  Hopeful\n",
      "Raise the Red Lantern (1991)               2  Hopeful\n",
      "Waterloo (1970)                            2  Hopeful\n",
      "The Enigma of Kaspar Hauser (1974)         1  Rejected\n",
      "The Tin Drum (1979)                        0  Rejected\n",
      "Murder on the Orient Express (1974)        0  Rejected\n",
      "Black Knight (2001)                        0  Rejected\n",
      "Quills (2000)                              0  Rejected\n",
      "\n",
      "ROUND 5\n",
      "Candidate                              Votes  Status\n",
      "-----------------------------------  -------  --------\n",
      "The Favourite (2018)                       4  Hopeful\n",
      "Raise the Red Lantern (1991)               3  Hopeful\n",
      "Waterloo (1970)                            2  Rejected\n",
      "The Enigma of Kaspar Hauser (1974)         0  Rejected\n",
      "The Tin Drum (1979)                        0  Rejected\n",
      "Murder on the Orient Express (1974)        0  Rejected\n",
      "Black Knight (2001)                        0  Rejected\n",
      "Quills (2000)                              0  Rejected\n",
      "\n",
      "FINAL RESULT\n",
      "Candidate                              Votes  Status\n",
      "-----------------------------------  -------  --------\n",
      "Raise the Red Lantern (1991)               5  Elected\n",
      "The Favourite (2018)                       4  Rejected\n",
      "Waterloo (1970)                            0  Rejected\n",
      "The Enigma of Kaspar Hauser (1974)         0  Rejected\n",
      "The Tin Drum (1979)                        0  Rejected\n",
      "Murder on the Orient Express (1974)        0  Rejected\n",
      "Black Knight (2001)                        0  Rejected\n",
      "Quills (2000)                              0  Rejected\n",
      "\n"
     ]
    }
   ],
   "source": [
    "print(election_result)"
   ]
  },
  {
   "cell_type": "code",
   "execution_count": 12,
   "metadata": {},
   "outputs": [
    {
     "name": "stdout",
     "output_type": "stream",
     "text": [
      "ROUND 1\n",
      "Candidate                      Votes  Status\n",
      "---------------------------  -------  --------\n",
      "ROM COMS                           2  Hopeful\n",
      "ANIMALS/CREATURES THAT TALK        2  Hopeful\n",
      "MIAMI                              1  Hopeful\n",
      "EURO-CRIMES                        1  Hopeful\n",
      "SEX PERVERT MOVIES                 1  Hopeful\n",
      "1980S ACTION                       1  Hopeful\n",
      "[Default to Nicolas Cage]          1  Rejected\n",
      "OOPS ALL STEVE BUSCEMI             0  Rejected\n",
      "I'M WITH THE BAND                  0  Rejected\n",
      "\n",
      "ROUND 2\n",
      "Candidate                      Votes  Status\n",
      "---------------------------  -------  --------\n",
      "ROM COMS                           2  Hopeful\n",
      "ANIMALS/CREATURES THAT TALK        2  Hopeful\n",
      "1980S ACTION                       2  Hopeful\n",
      "MIAMI                              1  Hopeful\n",
      "EURO-CRIMES                        1  Hopeful\n",
      "SEX PERVERT MOVIES                 1  Rejected\n",
      "[Default to Nicolas Cage]          0  Rejected\n",
      "OOPS ALL STEVE BUSCEMI             0  Rejected\n",
      "I'M WITH THE BAND                  0  Rejected\n",
      "\n",
      "ROUND 3\n",
      "Candidate                      Votes  Status\n",
      "---------------------------  -------  --------\n",
      "MIAMI                              2  Hopeful\n",
      "ANIMALS/CREATURES THAT TALK        2  Hopeful\n",
      "ROM COMS                           2  Hopeful\n",
      "1980S ACTION                       2  Hopeful\n",
      "EURO-CRIMES                        1  Rejected\n",
      "SEX PERVERT MOVIES                 0  Rejected\n",
      "[Default to Nicolas Cage]          0  Rejected\n",
      "OOPS ALL STEVE BUSCEMI             0  Rejected\n",
      "I'M WITH THE BAND                  0  Rejected\n",
      "\n",
      "ROUND 4\n",
      "Candidate                      Votes  Status\n",
      "---------------------------  -------  --------\n",
      "MIAMI                              3  Hopeful\n",
      "1980S ACTION                       2  Hopeful\n",
      "ANIMALS/CREATURES THAT TALK        2  Hopeful\n",
      "ROM COMS                           2  Rejected\n",
      "EURO-CRIMES                        0  Rejected\n",
      "SEX PERVERT MOVIES                 0  Rejected\n",
      "[Default to Nicolas Cage]          0  Rejected\n",
      "OOPS ALL STEVE BUSCEMI             0  Rejected\n",
      "I'M WITH THE BAND                  0  Rejected\n",
      "\n",
      "ROUND 5\n",
      "Candidate                      Votes  Status\n",
      "---------------------------  -------  --------\n",
      "MIAMI                              4  Hopeful\n",
      "ANIMALS/CREATURES THAT TALK        3  Hopeful\n",
      "1980S ACTION                       2  Rejected\n",
      "ROM COMS                           0  Rejected\n",
      "EURO-CRIMES                        0  Rejected\n",
      "SEX PERVERT MOVIES                 0  Rejected\n",
      "[Default to Nicolas Cage]          0  Rejected\n",
      "OOPS ALL STEVE BUSCEMI             0  Rejected\n",
      "I'M WITH THE BAND                  0  Rejected\n",
      "\n",
      "FINAL RESULT\n",
      "Candidate                      Votes  Status\n",
      "---------------------------  -------  --------\n",
      "MIAMI                              6  Elected\n",
      "ANIMALS/CREATURES THAT TALK        3  Rejected\n",
      "1980S ACTION                       0  Rejected\n",
      "ROM COMS                           0  Rejected\n",
      "EURO-CRIMES                        0  Rejected\n",
      "SEX PERVERT MOVIES                 0  Rejected\n",
      "[Default to Nicolas Cage]          0  Rejected\n",
      "OOPS ALL STEVE BUSCEMI             0  Rejected\n",
      "I'M WITH THE BAND                  0  Rejected\n",
      "\n"
     ]
    }
   ],
   "source": [
    "submissions = next_week.loc[next_week.notna().all(axis=1).idxmax(),:].values\n",
    "submission_dict = {submission: pyrankvote.Candidate(submission) for submission in submissions}\n",
    "balloted = next_week.applymap(lambda x: submission_dict[x] if isinstance(x, str) else x)\n",
    "ballots = []\n",
    "for ballot in balloted.itertuples():\n",
    "    ballots.append(pyrankvote.Ballot(ranked_candidates=[b for b in ballot if isinstance(b, pyrankvote.Candidate)]))\n",
    "print(pyrankvote.instant_runoff_voting(submission_dict.values(), ballots,))"
   ]
  }
 ],
 "metadata": {
  "kernelspec": {
   "display_name": "Python 3",
   "language": "python",
   "name": "python3"
  },
  "language_info": {
   "codemirror_mode": {
    "name": "ipython",
    "version": 3
   },
   "file_extension": ".py",
   "mimetype": "text/x-python",
   "name": "python",
   "nbconvert_exporter": "python",
   "pygments_lexer": "ipython3",
   "version": "3.7.4"
  }
 },
 "nbformat": 4,
 "nbformat_minor": 2
}