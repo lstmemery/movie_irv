{
 "cells": [
  {
   "cell_type": "code",
   "execution_count": 1,
   "metadata": {},
   "outputs": [],
   "source": [
    "import pandas as pd\n",
    "import pyrankvote\n",
    "from pathlib import Path\n",
    "from random import seed\n",
    "seed(252)"
   ]
  },
  {
   "cell_type": "code",
   "execution_count": 2,
   "metadata": {},
   "outputs": [
    {
     "data": {
      "text/plain": "             Timestamp  \\\n0  14/07/2021 08:37:42   \n1  14/07/2021 08:42:34   \n2  14/07/2021 08:47:08   \n3  14/07/2021 09:26:41   \n\n  Rank your movie choices. You don't have to do a full ranking. [First Choice]  \\\n0                Murder on the Orient Express (1974)                             \n1                                   Umberto D (1952)                             \n2                  The Umbrellas of Cherbourg (1964)                             \n3                  The Umbrellas of Cherbourg (1964)                             \n\n  Rank your movie choices. You don't have to do a full ranking. [Second Choice]  \\\n0                  The Umbrellas of Cherbourg (1964)                              \n1                Murder on the Orient Express (1974)                              \n2                Murder on the Orient Express (1974)                              \n3                Murder on the Orient Express (1974)                              \n\n  Rank your movie choices. You don't have to do a full ranking. [Third Choice]  \\\n0                                   Umberto D (1952)                             \n1                                                NaN                             \n2                                   Umberto D (1952)                             \n3                                   Umberto D (1952)                             \n\n  What theme should we explore next week? [First Choice]  \\\n0                                         INDIGENOUS       \n1                                IT WAS ALL DREAM(?)       \n2                                         TRAIN WEEK       \n3                                IT WAS ALL DREAM(?)       \n\n  What theme should we explore next week? [Second Choice]  \\\n0                                         TRAIN WEEK        \n1                                         TRAIN WEEK        \n2                                         INDIGENOUS        \n3                                         TRAIN WEEK        \n\n  What theme should we explore next week? [Third Choice]  \\\n0                          [Default to Nicolas Cage]       \n1                          [Default to Nicolas Cage]       \n2                          [Default to Nicolas Cage]       \n3                                         INDIGENOUS       \n\n  What theme should we explore next week? [Fourth Choice]  \n0                                IT WAS ALL DREAM(?)       \n1                                         INDIGENOUS       \n2                                IT WAS ALL DREAM(?)       \n3                          [Default to Nicolas Cage]       ",
      "text/html": "<div>\n<style scoped>\n    .dataframe tbody tr th:only-of-type {\n        vertical-align: middle;\n    }\n\n    .dataframe tbody tr th {\n        vertical-align: top;\n    }\n\n    .dataframe thead th {\n        text-align: right;\n    }\n</style>\n<table border=\"1\" class=\"dataframe\">\n  <thead>\n    <tr style=\"text-align: right;\">\n      <th></th>\n      <th>Timestamp</th>\n      <th>Rank your movie choices. You don't have to do a full ranking. [First Choice]</th>\n      <th>Rank your movie choices. You don't have to do a full ranking. [Second Choice]</th>\n      <th>Rank your movie choices. You don't have to do a full ranking. [Third Choice]</th>\n      <th>What theme should we explore next week? [First Choice]</th>\n      <th>What theme should we explore next week? [Second Choice]</th>\n      <th>What theme should we explore next week? [Third Choice]</th>\n      <th>What theme should we explore next week? [Fourth Choice]</th>\n    </tr>\n  </thead>\n  <tbody>\n    <tr>\n      <th>0</th>\n      <td>14/07/2021 08:37:42</td>\n      <td>Murder on the Orient Express (1974)</td>\n      <td>The Umbrellas of Cherbourg (1964)</td>\n      <td>Umberto D (1952)</td>\n      <td>INDIGENOUS</td>\n      <td>TRAIN WEEK</td>\n      <td>[Default to Nicolas Cage]</td>\n      <td>IT WAS ALL DREAM(?)</td>\n    </tr>\n    <tr>\n      <th>1</th>\n      <td>14/07/2021 08:42:34</td>\n      <td>Umberto D (1952)</td>\n      <td>Murder on the Orient Express (1974)</td>\n      <td>NaN</td>\n      <td>IT WAS ALL DREAM(?)</td>\n      <td>TRAIN WEEK</td>\n      <td>[Default to Nicolas Cage]</td>\n      <td>INDIGENOUS</td>\n    </tr>\n    <tr>\n      <th>2</th>\n      <td>14/07/2021 08:47:08</td>\n      <td>The Umbrellas of Cherbourg (1964)</td>\n      <td>Murder on the Orient Express (1974)</td>\n      <td>Umberto D (1952)</td>\n      <td>TRAIN WEEK</td>\n      <td>INDIGENOUS</td>\n      <td>[Default to Nicolas Cage]</td>\n      <td>IT WAS ALL DREAM(?)</td>\n    </tr>\n    <tr>\n      <th>3</th>\n      <td>14/07/2021 09:26:41</td>\n      <td>The Umbrellas of Cherbourg (1964)</td>\n      <td>Murder on the Orient Express (1974)</td>\n      <td>Umberto D (1952)</td>\n      <td>IT WAS ALL DREAM(?)</td>\n      <td>TRAIN WEEK</td>\n      <td>INDIGENOUS</td>\n      <td>[Default to Nicolas Cage]</td>\n    </tr>\n  </tbody>\n</table>\n</div>"
     },
     "execution_count": 2,
     "metadata": {},
     "output_type": "execute_result"
    }
   ],
   "source": [
    "df = pd.read_csv(Path('./data/20210718.csv').resolve())\n",
    "df"
   ]
  },
  {
   "cell_type": "code",
   "execution_count": 3,
   "metadata": {},
   "outputs": [],
   "source": [
    "just_ballots = df.loc[:, df.columns.str.startswith('Rank')]\n",
    "next_week = df.loc[:, df.columns.str.startswith('What')]"
   ]
  },
  {
   "cell_type": "code",
   "execution_count": 4,
   "metadata": {},
   "outputs": [
    {
     "data": {
      "text/plain": "array(['Murder on the Orient Express (1974)',\n       'The Umbrellas of Cherbourg (1964)', 'Umberto D (1952)'],\n      dtype=object)"
     },
     "execution_count": 4,
     "metadata": {},
     "output_type": "execute_result"
    }
   ],
   "source": [
    "submissions = just_ballots.loc[just_ballots.notna().all(axis=1).idxmax(),:].values\n",
    "submissions"
   ]
  },
  {
   "cell_type": "code",
   "execution_count": 5,
   "metadata": {},
   "outputs": [],
   "source": [
    "submission_dict = {submission: pyrankvote.Candidate(submission) for submission in submissions}"
   ]
  },
  {
   "cell_type": "code",
   "execution_count": 6,
   "metadata": {},
   "outputs": [],
   "source": [
    "balloted = just_ballots.applymap(lambda x: submission_dict[x] if isinstance(x, str) else x)"
   ]
  },
  {
   "cell_type": "code",
   "execution_count": 7,
   "metadata": {},
   "outputs": [
    {
     "data": {
      "text/plain": "{'Murder on the Orient Express (1974)': <Candidate('Murder on the Orient Express (1974)')>,\n 'The Umbrellas of Cherbourg (1964)': <Candidate('The Umbrellas of Cherbourg (1964)')>,\n 'Umberto D (1952)': <Candidate('Umberto D (1952)')>}"
     },
     "execution_count": 7,
     "metadata": {},
     "output_type": "execute_result"
    }
   ],
   "source": [
    "submission_dict"
   ]
  },
  {
   "cell_type": "code",
   "execution_count": 8,
   "metadata": {},
   "outputs": [],
   "source": [
    "ballots = []\n",
    "for ballot in balloted.itertuples():\n",
    "    ballots.append(pyrankvote.Ballot(ranked_candidates=[b for b in ballot if isinstance(b, pyrankvote.Candidate)]))"
   ]
  },
  {
   "cell_type": "code",
   "execution_count": 9,
   "metadata": {},
   "outputs": [
    {
     "data": {
      "text/plain": "[<Ballot(Murder on the Orient Express (1974), The Umbrellas of Cherbourg (1964), Umberto D (1952))>,\n <Ballot(Umberto D (1952), Murder on the Orient Express (1974))>,\n <Ballot(The Umbrellas of Cherbourg (1964), Murder on the Orient Express (1974), Umberto D (1952))>,\n <Ballot(The Umbrellas of Cherbourg (1964), Murder on the Orient Express (1974), Umberto D (1952))>]"
     },
     "execution_count": 9,
     "metadata": {},
     "output_type": "execute_result"
    }
   ],
   "source": [
    "ballots"
   ]
  },
  {
   "cell_type": "code",
   "execution_count": 10,
   "metadata": {},
   "outputs": [],
   "source": [
    "election_result = pyrankvote.instant_runoff_voting(submission_dict.values(), ballots,)"
   ]
  },
  {
   "cell_type": "code",
   "execution_count": 11,
   "metadata": {},
   "outputs": [
    {
     "name": "stdout",
     "output_type": "stream",
     "text": [
      "FINAL RESULT\n",
      "Candidate                              Votes  Status\n",
      "-----------------------------------  -------  --------\n",
      "The Umbrellas of Cherbourg (1964)          2  Elected\n",
      "Murder on the Orient Express (1974)        1  Rejected\n",
      "Umberto D (1952)                           1  Rejected\n",
      "\n"
     ]
    }
   ],
   "source": [
    "print(election_result)"
   ]
  },
  {
   "cell_type": "code",
   "execution_count": 12,
   "metadata": {},
   "outputs": [
    {
     "name": "stdout",
     "output_type": "stream",
     "text": [
      "FINAL RESULT\n",
      "Candidate                    Votes  Status\n",
      "-------------------------  -------  --------\n",
      "IT WAS ALL DREAM(?)              2  Elected\n",
      "TRAIN WEEK                       1  Rejected\n",
      "INDIGENOUS                       1  Rejected\n",
      "[Default to Nicolas Cage]        0  Rejected\n",
      "\n"
     ]
    }
   ],
   "source": [
    "submissions = next_week.loc[next_week.notna().all(axis=1).idxmax(),:].values\n",
    "submission_dict = {submission: pyrankvote.Candidate(submission) for submission in submissions}\n",
    "balloted = next_week.applymap(lambda x: submission_dict[x] if isinstance(x, str) else x)\n",
    "ballots = []\n",
    "for ballot in balloted.itertuples():\n",
    "    ballots.append(pyrankvote.Ballot(ranked_candidates=[b for b in ballot if isinstance(b, pyrankvote.Candidate)]))\n",
    "print(pyrankvote.instant_runoff_voting(submission_dict.values(), ballots,))"
   ]
  }
 ],
 "metadata": {
  "kernelspec": {
   "display_name": "Python 3",
   "language": "python",
   "name": "python3"
  },
  "language_info": {
   "codemirror_mode": {
    "name": "ipython",
    "version": 3
   },
   "file_extension": ".py",
   "mimetype": "text/x-python",
   "name": "python",
   "nbconvert_exporter": "python",
   "pygments_lexer": "ipython3",
   "version": "3.7.4"
  }
 },
 "nbformat": 4,
 "nbformat_minor": 2
}