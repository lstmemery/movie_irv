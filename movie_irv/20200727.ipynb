{
 "cells": [
  {
   "cell_type": "code",
   "execution_count": 1,
   "metadata": {},
   "outputs": [],
   "source": [
    "import pandas as pd\n",
    "import pyrankvote\n",
    "from pathlib import Path"
   ]
  },
  {
   "cell_type": "code",
   "execution_count": 2,
   "metadata": {},
   "outputs": [
    {
     "data": {
      "text/plain": "            Timestamp  \\\n0  7/22/2020 19:57:36   \n1  7/22/2020 19:58:30   \n2  7/22/2020 20:12:48   \n3  7/22/2020 20:17:04   \n4  7/22/2020 20:21:11   \n5   7/23/2020 0:33:11   \n6  7/26/2020 16:46:01   \n\n  Rank your movie choices. You don't have to do a full ranking. [First Choice]  \\\n0                               A Fistful of Dollars                             \n1                                         The Beyond                             \n2                                  Nights of Cabiria                             \n3                                   Benvenuti al Sud                             \n4                                    The Italian Job                             \n5                                        Porco Rosso                             \n6                                   The Great Beauty                             \n\n  Rank your movie choices. You don't have to do a full ranking. [Second Choice]  \\\n0                                    The Italian Job                              \n1                                  Nights of Cabiria                              \n2                         Big Deal on Madonna Street                              \n3                                        Porco Rosso                              \n4                                   Benvenuti al Sud                              \n5                                    The Italian Job                              \n6                                   Benvenuti al Sud                              \n\n  Rank your movie choices. You don't have to do a full ranking. [Third Choice]  \\\n0                                         The Beyond                             \n1                                   The Great Beauty                             \n2                                        Porco Rosso                             \n3                                    The Italian Job                             \n4                                        Porco Rosso                             \n5                                                NaN                             \n6                                  Nights of Cabiria                             \n\n  Rank your movie choices. You don't have to do a full ranking. [Fourth Choice]  \\\n0                                   The Great Beauty                              \n1                         Big Deal on Madonna Street                              \n2                                         The Beyond                              \n3                                         The Beyond                              \n4                                   The Great Beauty                              \n5                                                NaN                              \n6                                         The Beyond                              \n\n  Rank your movie choices. You don't have to do a full ranking. [Fifth Choice]  \\\n0                                   Benvenuti al Sud                             \n1                                   Benvenuti al Sud                             \n2                                   Benvenuti al Sud                             \n3                               A Fistful of Dollars                             \n4                                         The Beyond                             \n5                                                NaN                             \n6                               A Fistful of Dollars                             \n\n  Rank your movie choices. You don't have to do a full ranking. [Sixth Choice]  \\\n0                         Big Deal on Madonna Street                             \n1                                    The Italian Job                             \n2                                                NaN                             \n3                         Big Deal on Madonna Street                             \n4                         Big Deal on Madonna Street                             \n5                                                NaN                             \n6                         Big Deal on Madonna Street                             \n\n  Rank your movie choices. You don't have to do a full ranking. [Seventh Choice]  \\\n0                                  Nights of Cabiria                               \n1                                        Porco Rosso                               \n2                                                NaN                               \n3                                   The Great Beauty                               \n4                               A Fistful of Dollars                               \n5                                                NaN                               \n6                                    The Italian Job                               \n\n  Rank your movie choices. You don't have to do a full ranking. [Eigth Choice]  \\\n0                                        Porco Rosso                             \n1                               A Fistful of Dollars                             \n2                                                NaN                             \n3                                  Nights of Cabiria                             \n4                                  Nights of Cabiria                             \n5                                                NaN                             \n6                                        Porco Rosso                             \n\n  What theme should we explore next week? [First Choice]  \\\n0                                CONSPIRACY THEORIES       \n1                                 MONOSYLLABIC TITLE       \n2                                 BANNED BY FASCISTS       \n3                                             ALIENS       \n4                                 BANNED BY FASCISTS       \n5                                             ALIENS       \n6                                 MONOSYLLABIC TITLE       \n\n  What theme should we explore next week? [Second Choice]  \\\n0                                             ALIENS        \n1                                 BANNED BY FASCISTS        \n2                        MAYBE WE SHOULDN'T DO A WAR        \n3                                 BANNED BY FASCISTS        \n4                                   CRITICS HATED IT        \n5                                 MONOSYLLABIC TITLE        \n6                                CONSPIRACY THEORIES        \n\n  What theme should we explore next week? [Third Choice]  \\\n0                                 BANNED BY FASCISTS       \n1                                             ALIENS       \n2                              No Theme/Free-for-all       \n3                                 MONOSYLLABIC TITLE       \n4                                          DISGUISES       \n5                                                NaN       \n6                                             ALIENS       \n\n  What theme should we explore next week? [Fourth Choice]  \\\n0                                        DIRTY COPS!        \n1                                CONSPIRACY THEORIES        \n2                                   CRITICS HATED IT        \n3                                   CRITICS HATED IT        \n4                                             ALIENS        \n5                                                NaN        \n6                                          DISGUISES        \n\n  What theme should we explore next week? [Fifth Choice]  \\\n0                        MAYBE WE SHOULDN'T DO A WAR       \n1                                          DISGUISES       \n2                                 MONOSYLLABIC TITLE       \n3                                          DISGUISES       \n4                                        DIRTY COPS!       \n5                                                NaN       \n6                                   CRITICS HATED IT       \n\n  What theme should we explore next week? [Sixth Choice]  \\\n0                                 MONOSYLLABIC TITLE       \n1                                        DIRTY COPS!       \n2                                             ALIENS       \n3                                CONSPIRACY THEORIES       \n4                        MAYBE WE SHOULDN'T DO A WAR       \n5                                                NaN       \n6                                 BANNED BY FASCISTS       \n\n  What theme should we explore next week? [Seventh Choice]  \\\n0                                   CRITICS HATED IT         \n1                                   CRITICS HATED IT         \n2                                CONSPIRACY THEORIES         \n3                                        DIRTY COPS!         \n4                                 MONOSYLLABIC TITLE         \n5                                                NaN         \n6                                        DIRTY COPS!         \n\n  What theme should we explore next week? [Eight Choice]  \\\n0                                          DISGUISES       \n1                                                NaN       \n2                                          DISGUISES       \n3                        MAYBE WE SHOULDN'T DO A WAR       \n4                                CONSPIRACY THEORIES       \n5                                                NaN       \n6                        MAYBE WE SHOULDN'T DO A WAR       \n\n  What theme should we explore next week? [Nineth Choice]  \n0                              No Theme/Free-for-all       \n1                                                NaN       \n2                                        DIRTY COPS!       \n3                              No Theme/Free-for-all       \n4                              No Theme/Free-for-all       \n5                                                NaN       \n6                                                NaN       ",
      "text/html": "<div>\n<style scoped>\n    .dataframe tbody tr th:only-of-type {\n        vertical-align: middle;\n    }\n\n    .dataframe tbody tr th {\n        vertical-align: top;\n    }\n\n    .dataframe thead th {\n        text-align: right;\n    }\n</style>\n<table border=\"1\" class=\"dataframe\">\n  <thead>\n    <tr style=\"text-align: right;\">\n      <th></th>\n      <th>Timestamp</th>\n      <th>Rank your movie choices. You don't have to do a full ranking. [First Choice]</th>\n      <th>Rank your movie choices. You don't have to do a full ranking. [Second Choice]</th>\n      <th>Rank your movie choices. You don't have to do a full ranking. [Third Choice]</th>\n      <th>Rank your movie choices. You don't have to do a full ranking. [Fourth Choice]</th>\n      <th>Rank your movie choices. You don't have to do a full ranking. [Fifth Choice]</th>\n      <th>Rank your movie choices. You don't have to do a full ranking. [Sixth Choice]</th>\n      <th>Rank your movie choices. You don't have to do a full ranking. [Seventh Choice]</th>\n      <th>Rank your movie choices. You don't have to do a full ranking. [Eigth Choice]</th>\n      <th>What theme should we explore next week? [First Choice]</th>\n      <th>What theme should we explore next week? [Second Choice]</th>\n      <th>What theme should we explore next week? [Third Choice]</th>\n      <th>What theme should we explore next week? [Fourth Choice]</th>\n      <th>What theme should we explore next week? [Fifth Choice]</th>\n      <th>What theme should we explore next week? [Sixth Choice]</th>\n      <th>What theme should we explore next week? [Seventh Choice]</th>\n      <th>What theme should we explore next week? [Eight Choice]</th>\n      <th>What theme should we explore next week? [Nineth Choice]</th>\n    </tr>\n  </thead>\n  <tbody>\n    <tr>\n      <th>0</th>\n      <td>7/22/2020 19:57:36</td>\n      <td>A Fistful of Dollars</td>\n      <td>The Italian Job</td>\n      <td>The Beyond</td>\n      <td>The Great Beauty</td>\n      <td>Benvenuti al Sud</td>\n      <td>Big Deal on Madonna Street</td>\n      <td>Nights of Cabiria</td>\n      <td>Porco Rosso</td>\n      <td>CONSPIRACY THEORIES</td>\n      <td>ALIENS</td>\n      <td>BANNED BY FASCISTS</td>\n      <td>DIRTY COPS!</td>\n      <td>MAYBE WE SHOULDN'T DO A WAR</td>\n      <td>MONOSYLLABIC TITLE</td>\n      <td>CRITICS HATED IT</td>\n      <td>DISGUISES</td>\n      <td>No Theme/Free-for-all</td>\n    </tr>\n    <tr>\n      <th>1</th>\n      <td>7/22/2020 19:58:30</td>\n      <td>The Beyond</td>\n      <td>Nights of Cabiria</td>\n      <td>The Great Beauty</td>\n      <td>Big Deal on Madonna Street</td>\n      <td>Benvenuti al Sud</td>\n      <td>The Italian Job</td>\n      <td>Porco Rosso</td>\n      <td>A Fistful of Dollars</td>\n      <td>MONOSYLLABIC TITLE</td>\n      <td>BANNED BY FASCISTS</td>\n      <td>ALIENS</td>\n      <td>CONSPIRACY THEORIES</td>\n      <td>DISGUISES</td>\n      <td>DIRTY COPS!</td>\n      <td>CRITICS HATED IT</td>\n      <td>NaN</td>\n      <td>NaN</td>\n    </tr>\n    <tr>\n      <th>2</th>\n      <td>7/22/2020 20:12:48</td>\n      <td>Nights of Cabiria</td>\n      <td>Big Deal on Madonna Street</td>\n      <td>Porco Rosso</td>\n      <td>The Beyond</td>\n      <td>Benvenuti al Sud</td>\n      <td>NaN</td>\n      <td>NaN</td>\n      <td>NaN</td>\n      <td>BANNED BY FASCISTS</td>\n      <td>MAYBE WE SHOULDN'T DO A WAR</td>\n      <td>No Theme/Free-for-all</td>\n      <td>CRITICS HATED IT</td>\n      <td>MONOSYLLABIC TITLE</td>\n      <td>ALIENS</td>\n      <td>CONSPIRACY THEORIES</td>\n      <td>DISGUISES</td>\n      <td>DIRTY COPS!</td>\n    </tr>\n    <tr>\n      <th>3</th>\n      <td>7/22/2020 20:17:04</td>\n      <td>Benvenuti al Sud</td>\n      <td>Porco Rosso</td>\n      <td>The Italian Job</td>\n      <td>The Beyond</td>\n      <td>A Fistful of Dollars</td>\n      <td>Big Deal on Madonna Street</td>\n      <td>The Great Beauty</td>\n      <td>Nights of Cabiria</td>\n      <td>ALIENS</td>\n      <td>BANNED BY FASCISTS</td>\n      <td>MONOSYLLABIC TITLE</td>\n      <td>CRITICS HATED IT</td>\n      <td>DISGUISES</td>\n      <td>CONSPIRACY THEORIES</td>\n      <td>DIRTY COPS!</td>\n      <td>MAYBE WE SHOULDN'T DO A WAR</td>\n      <td>No Theme/Free-for-all</td>\n    </tr>\n    <tr>\n      <th>4</th>\n      <td>7/22/2020 20:21:11</td>\n      <td>The Italian Job</td>\n      <td>Benvenuti al Sud</td>\n      <td>Porco Rosso</td>\n      <td>The Great Beauty</td>\n      <td>The Beyond</td>\n      <td>Big Deal on Madonna Street</td>\n      <td>A Fistful of Dollars</td>\n      <td>Nights of Cabiria</td>\n      <td>BANNED BY FASCISTS</td>\n      <td>CRITICS HATED IT</td>\n      <td>DISGUISES</td>\n      <td>ALIENS</td>\n      <td>DIRTY COPS!</td>\n      <td>MAYBE WE SHOULDN'T DO A WAR</td>\n      <td>MONOSYLLABIC TITLE</td>\n      <td>CONSPIRACY THEORIES</td>\n      <td>No Theme/Free-for-all</td>\n    </tr>\n    <tr>\n      <th>5</th>\n      <td>7/23/2020 0:33:11</td>\n      <td>Porco Rosso</td>\n      <td>The Italian Job</td>\n      <td>NaN</td>\n      <td>NaN</td>\n      <td>NaN</td>\n      <td>NaN</td>\n      <td>NaN</td>\n      <td>NaN</td>\n      <td>ALIENS</td>\n      <td>MONOSYLLABIC TITLE</td>\n      <td>NaN</td>\n      <td>NaN</td>\n      <td>NaN</td>\n      <td>NaN</td>\n      <td>NaN</td>\n      <td>NaN</td>\n      <td>NaN</td>\n    </tr>\n    <tr>\n      <th>6</th>\n      <td>7/26/2020 16:46:01</td>\n      <td>The Great Beauty</td>\n      <td>Benvenuti al Sud</td>\n      <td>Nights of Cabiria</td>\n      <td>The Beyond</td>\n      <td>A Fistful of Dollars</td>\n      <td>Big Deal on Madonna Street</td>\n      <td>The Italian Job</td>\n      <td>Porco Rosso</td>\n      <td>MONOSYLLABIC TITLE</td>\n      <td>CONSPIRACY THEORIES</td>\n      <td>ALIENS</td>\n      <td>DISGUISES</td>\n      <td>CRITICS HATED IT</td>\n      <td>BANNED BY FASCISTS</td>\n      <td>DIRTY COPS!</td>\n      <td>MAYBE WE SHOULDN'T DO A WAR</td>\n      <td>NaN</td>\n    </tr>\n  </tbody>\n</table>\n</div>"
     },
     "execution_count": 2,
     "metadata": {},
     "output_type": "execute_result"
    }
   ],
   "source": [
    "df = pd.read_csv(Path('./data/20200727.csv').resolve())\n",
    "df"
   ]
  },
  {
   "cell_type": "code",
   "execution_count": 3,
   "metadata": {},
   "outputs": [],
   "source": [
    "just_ballots = df.loc[:, df.columns.str.startswith('Rank')]\n",
    "next_week = df.loc[:, df.columns.str.startswith('What')]"
   ]
  },
  {
   "cell_type": "code",
   "execution_count": 4,
   "metadata": {},
   "outputs": [
    {
     "data": {
      "text/plain": "array(['A Fistful of Dollars', 'The Italian Job', 'The Beyond',\n       'The Great Beauty', 'Benvenuti al Sud',\n       'Big Deal on Madonna Street', 'Nights of Cabiria', 'Porco Rosso'],\n      dtype=object)"
     },
     "execution_count": 4,
     "metadata": {},
     "output_type": "execute_result"
    }
   ],
   "source": [
    "submissions = just_ballots.loc[just_ballots.notna().all(axis=1).idxmax(),:].values\n",
    "submissions"
   ]
  },
  {
   "cell_type": "code",
   "execution_count": 5,
   "metadata": {},
   "outputs": [],
   "source": [
    "submission_dict = {submission: pyrankvote.Candidate(submission) for submission in submissions}"
   ]
  },
  {
   "cell_type": "code",
   "execution_count": 6,
   "metadata": {},
   "outputs": [],
   "source": [
    "balloted = just_ballots.applymap(lambda x: submission_dict[x] if isinstance(x, str) else x)"
   ]
  },
  {
   "cell_type": "code",
   "execution_count": 7,
   "metadata": {},
   "outputs": [
    {
     "data": {
      "text/plain": "{'A Fistful of Dollars': <Candidate('A Fistful of Dollars')>,\n 'The Italian Job': <Candidate('The Italian Job')>,\n 'The Beyond': <Candidate('The Beyond')>,\n 'The Great Beauty': <Candidate('The Great Beauty')>,\n 'Benvenuti al Sud': <Candidate('Benvenuti al Sud')>,\n 'Big Deal on Madonna Street': <Candidate('Big Deal on Madonna Street')>,\n 'Nights of Cabiria': <Candidate('Nights of Cabiria')>,\n 'Porco Rosso': <Candidate('Porco Rosso')>}"
     },
     "execution_count": 7,
     "metadata": {},
     "output_type": "execute_result"
    }
   ],
   "source": [
    "submission_dict"
   ]
  },
  {
   "cell_type": "code",
   "execution_count": 8,
   "metadata": {},
   "outputs": [],
   "source": [
    "ballots = []\n",
    "for ballot in balloted.itertuples():\n",
    "    ballots.append(pyrankvote.Ballot(ranked_candidates=[b for b in ballot if isinstance(b, pyrankvote.Candidate)]))"
   ]
  },
  {
   "cell_type": "code",
   "execution_count": 9,
   "metadata": {},
   "outputs": [
    {
     "data": {
      "text/plain": "[<Ballot(A Fistful of Dollars, The Italian Job, The Beyond, The Great Beauty, Benvenuti al Sud, Big Deal on Madonna Street, Nights of Cabiria, Porco Rosso)>,\n <Ballot(The Beyond, Nights of Cabiria, The Great Beauty, Big Deal on Madonna Street, Benvenuti al Sud, The Italian Job, Porco Rosso, A Fistful of Dollars)>,\n <Ballot(Nights of Cabiria, Big Deal on Madonna Street, Porco Rosso, The Beyond, Benvenuti al Sud)>,\n <Ballot(Benvenuti al Sud, Porco Rosso, The Italian Job, The Beyond, A Fistful of Dollars, Big Deal on Madonna Street, The Great Beauty, Nights of Cabiria)>,\n <Ballot(The Italian Job, Benvenuti al Sud, Porco Rosso, The Great Beauty, The Beyond, Big Deal on Madonna Street, A Fistful of Dollars, Nights of Cabiria)>,\n <Ballot(Porco Rosso, The Italian Job)>,\n <Ballot(The Great Beauty, Benvenuti al Sud, Nights of Cabiria, The Beyond, A Fistful of Dollars, Big Deal on Madonna Street, The Italian Job, Porco Rosso)>]"
     },
     "execution_count": 9,
     "metadata": {},
     "output_type": "execute_result"
    }
   ],
   "source": [
    "ballots"
   ]
  },
  {
   "cell_type": "code",
   "execution_count": 10,
   "metadata": {},
   "outputs": [],
   "source": [
    "election_result = pyrankvote.instant_runoff_voting(submission_dict.values(), ballots,)"
   ]
  },
  {
   "cell_type": "code",
   "execution_count": 11,
   "metadata": {},
   "outputs": [
    {
     "name": "stdout",
     "output_type": "stream",
     "text": [
      "ROUND 1\n",
      "Candidate                     Votes  Status\n",
      "--------------------------  -------  --------\n",
      "The Italian Job                   1  Hopeful\n",
      "Benvenuti al Sud                  1  Hopeful\n",
      "Porco Rosso                       1  Hopeful\n",
      "Nights of Cabiria                 1  Hopeful\n",
      "The Beyond                        1  Hopeful\n",
      "The Great Beauty                  1  Hopeful\n",
      "A Fistful of Dollars              1  Rejected\n",
      "Big Deal on Madonna Street        0  Rejected\n",
      "\n",
      "ROUND 2\n",
      "Candidate                     Votes  Status\n",
      "--------------------------  -------  --------\n",
      "The Italian Job                   2  Hopeful\n",
      "Porco Rosso                       1  Hopeful\n",
      "Benvenuti al Sud                  1  Hopeful\n",
      "The Beyond                        1  Hopeful\n",
      "Nights of Cabiria                 1  Hopeful\n",
      "The Great Beauty                  1  Rejected\n",
      "A Fistful of Dollars              0  Rejected\n",
      "Big Deal on Madonna Street        0  Rejected\n",
      "\n",
      "ROUND 3\n",
      "Candidate                     Votes  Status\n",
      "--------------------------  -------  --------\n",
      "Benvenuti al Sud                  2  Hopeful\n",
      "The Italian Job                   2  Hopeful\n",
      "Porco Rosso                       1  Hopeful\n",
      "Nights of Cabiria                 1  Hopeful\n",
      "The Beyond                        1  Rejected\n",
      "The Great Beauty                  0  Rejected\n",
      "A Fistful of Dollars              0  Rejected\n",
      "Big Deal on Madonna Street        0  Rejected\n",
      "\n",
      "ROUND 4\n",
      "Candidate                     Votes  Status\n",
      "--------------------------  -------  --------\n",
      "Benvenuti al Sud                  2  Hopeful\n",
      "The Italian Job                   2  Hopeful\n",
      "Nights of Cabiria                 2  Hopeful\n",
      "Porco Rosso                       1  Rejected\n",
      "The Beyond                        0  Rejected\n",
      "The Great Beauty                  0  Rejected\n",
      "A Fistful of Dollars              0  Rejected\n",
      "Big Deal on Madonna Street        0  Rejected\n",
      "\n",
      "ROUND 5\n",
      "Candidate                     Votes  Status\n",
      "--------------------------  -------  --------\n",
      "The Italian Job                   3  Hopeful\n",
      "Benvenuti al Sud                  2  Hopeful\n",
      "Nights of Cabiria                 2  Rejected\n",
      "Porco Rosso                       0  Rejected\n",
      "The Beyond                        0  Rejected\n",
      "The Great Beauty                  0  Rejected\n",
      "A Fistful of Dollars              0  Rejected\n",
      "Big Deal on Madonna Street        0  Rejected\n",
      "\n",
      "FINAL RESULT\n",
      "Candidate                     Votes  Status\n",
      "--------------------------  -------  --------\n",
      "Benvenuti al Sud                  4  Elected\n",
      "The Italian Job                   3  Rejected\n",
      "Nights of Cabiria                 0  Rejected\n",
      "Porco Rosso                       0  Rejected\n",
      "The Beyond                        0  Rejected\n",
      "The Great Beauty                  0  Rejected\n",
      "A Fistful of Dollars              0  Rejected\n",
      "Big Deal on Madonna Street        0  Rejected\n",
      "\n"
     ]
    }
   ],
   "source": [
    "print(election_result)"
   ]
  },
  {
   "cell_type": "code",
   "execution_count": 12,
   "metadata": {},
   "outputs": [
    {
     "name": "stdout",
     "output_type": "stream",
     "text": [
      "ROUND 1\n",
      "Candidate                      Votes  Status\n",
      "---------------------------  -------  --------\n",
      "BANNED BY FASCISTS                 2  Hopeful\n",
      "ALIENS                             2  Hopeful\n",
      "MONOSYLLABIC TITLE                 2  Hopeful\n",
      "CONSPIRACY THEORIES                1  Rejected\n",
      "CRITICS HATED IT                   0  Rejected\n",
      "MAYBE WE SHOULDN'T DO A WAR        0  Rejected\n",
      "DISGUISES                          0  Rejected\n",
      "No Theme/Free-for-all              0  Rejected\n",
      "DIRTY COPS!                        0  Rejected\n",
      "\n",
      "ROUND 2\n",
      "Candidate                      Votes  Status\n",
      "---------------------------  -------  --------\n",
      "ALIENS                             3  Hopeful\n",
      "BANNED BY FASCISTS                 2  Hopeful\n",
      "MONOSYLLABIC TITLE                 2  Rejected\n",
      "CONSPIRACY THEORIES                0  Rejected\n",
      "CRITICS HATED IT                   0  Rejected\n",
      "MAYBE WE SHOULDN'T DO A WAR        0  Rejected\n",
      "DISGUISES                          0  Rejected\n",
      "No Theme/Free-for-all              0  Rejected\n",
      "DIRTY COPS!                        0  Rejected\n",
      "\n",
      "FINAL RESULT\n",
      "Candidate                      Votes  Status\n",
      "---------------------------  -------  --------\n",
      "ALIENS                             4  Elected\n",
      "BANNED BY FASCISTS                 3  Rejected\n",
      "MONOSYLLABIC TITLE                 0  Rejected\n",
      "CONSPIRACY THEORIES                0  Rejected\n",
      "CRITICS HATED IT                   0  Rejected\n",
      "MAYBE WE SHOULDN'T DO A WAR        0  Rejected\n",
      "DISGUISES                          0  Rejected\n",
      "No Theme/Free-for-all              0  Rejected\n",
      "DIRTY COPS!                        0  Rejected\n",
      "\n"
     ]
    }
   ],
   "source": [
    "submissions = next_week.loc[next_week.notna().all(axis=1).idxmax(),:].values\n",
    "submission_dict = {submission: pyrankvote.Candidate(submission) for submission in submissions}\n",
    "balloted = next_week.applymap(lambda x: submission_dict[x] if isinstance(x, str) else x)\n",
    "ballots = []\n",
    "for ballot in balloted.itertuples():\n",
    "    ballots.append(pyrankvote.Ballot(ranked_candidates=[b for b in ballot if isinstance(b, pyrankvote.Candidate)]))\n",
    "print(pyrankvote.instant_runoff_voting(submission_dict.values(), ballots,))"
   ]
  }
 ],
 "metadata": {
  "kernelspec": {
   "display_name": "Python 3",
   "language": "python",
   "name": "python3"
  },
  "language_info": {
   "codemirror_mode": {
    "name": "ipython",
    "version": 3
   },
   "file_extension": ".py",
   "mimetype": "text/x-python",
   "name": "python",
   "nbconvert_exporter": "python",
   "pygments_lexer": "ipython3",
   "version": "3.7.4"
  }
 },
 "nbformat": 4,
 "nbformat_minor": 2
}