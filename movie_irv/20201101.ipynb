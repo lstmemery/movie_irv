{
 "cells": [
  {
   "cell_type": "code",
   "execution_count": 1,
   "metadata": {},
   "outputs": [],
   "source": [
    "import pandas as pd\n",
    "import pyrankvote\n",
    "from pathlib import Path\n",
    "from random import seed\n",
    "seed(252)"
   ]
  },
  {
   "cell_type": "code",
   "execution_count": 2,
   "metadata": {},
   "outputs": [
    {
     "data": {
      "text/plain": "             Timestamp  \\\n0  10/27/2020 17:47:09   \n1  10/27/2020 17:57:11   \n2  10/27/2020 18:39:51   \n3  10/27/2020 18:39:57   \n4  10/27/2020 18:42:00   \n5  10/27/2020 19:24:18   \n6  10/27/2020 19:29:52   \n7  10/27/2020 19:31:23   \n8  10/27/2020 19:42:51   \n9  10/27/2020 21:00:12   \n\n  Rank your movie choices. You don't have to do a full ranking. [First Choice]  \\\n0    Bad Lieutenant: Port of Call New Orleans (2009)                             \n1                              Vampire's Kiss (1988)                             \n2                       Bringing Out The Dead (1999)                             \n3                       Bringing Out The Dead (1999)                             \n4                               Wild at Heart (1990)                             \n5                               Red Rock West (1993)                             \n6                              Vampire's Kiss (1988)                             \n7                             Raising Arizona (1987)                             \n8                               Amos & Andrew (1993)                             \n9                               Wild at Heart (1990)                             \n\n  Rank your movie choices. You don't have to do a full ranking. [Second Choice]  \\\n0                             Raising Arizona (1987)                              \n1                       Bringing Out The Dead (1999)                              \n2                             Raising Arizona (1987)                              \n3                               Red Rock West (1993)                              \n4                                  Adaptation (2002)                              \n5                             Raising Arizona (1987)                              \n6                             Raising Arizona (1987)                              \n7                                  Adaptation (2002)                              \n8    Bad Lieutenant: Port of Call New Orleans (2009)                              \n9                               Red Rock West (1993)                              \n\n  Rank your movie choices. You don't have to do a full ranking. [Third Choice]  \\\n0                           Leaving Las Vegas (1995)                             \n1    Bad Lieutenant: Port of Call New Orleans (2009)                             \n2                               Red Rock West (1993)                             \n3                               Wild at Heart (1990)                             \n4                               Red Rock West (1993)                             \n5    Bad Lieutenant: Port of Call New Orleans (2009)                             \n6                           Leaving Las Vegas (1995)                             \n7                              Vampire's Kiss (1988)                             \n8                       Bringing Out The Dead (1999)                             \n9                       Bringing Out The Dead (1999)                             \n\n  Rank your movie choices. You don't have to do a full ranking. [Fourth Choice]  \\\n0                                  Adaptation (2002)                              \n1                                  Adaptation (2002)                              \n2                              Vampire's Kiss (1988)                              \n3                              Vampire's Kiss (1988)                              \n4                              Vampire's Kiss (1988)                              \n5                               Wild at Heart (1990)                              \n6                               Wild at Heart (1990)                              \n7                               Wild at Heart (1990)                              \n8                               Red Rock West (1993)                              \n9                           Leaving Las Vegas (1995)                              \n\n  Rank your movie choices. You don't have to do a full ranking. [Fifth Choice]  \\\n0                              Vampire's Kiss (1988)                             \n1                           Leaving Las Vegas (1995)                             \n2    Bad Lieutenant: Port of Call New Orleans (2009)                             \n3                             Raising Arizona (1987)                             \n4                               Amos & Andrew (1993)                             \n5                              Vampire's Kiss (1988)                             \n6                               Red Rock West (1993)                             \n7                           Leaving Las Vegas (1995)                             \n8                                                NaN                             \n9                               Amos & Andrew (1993)                             \n\n  Rank your movie choices. You don't have to do a full ranking. [Sixth Choice]  \\\n0                               Wild at Heart (1990)                             \n1                               Wild at Heart (1990)                             \n2                               Wild at Heart (1990)                             \n3                               Amos & Andrew (1993)                             \n4                           Leaving Las Vegas (1995)                             \n5                           Leaving Las Vegas (1995)                             \n6    Bad Lieutenant: Port of Call New Orleans (2009)                             \n7                       Bringing Out The Dead (1999)                             \n8                                                NaN                             \n9                                                NaN                             \n\n  Rank your movie choices. You don't have to do a full ranking. [Seventh Choice]  \\\n0                               Red Rock West (1993)                               \n1                               Red Rock West (1993)                               \n2                           Leaving Las Vegas (1995)                               \n3                                  Adaptation (2002)                               \n4                       Bringing Out The Dead (1999)                               \n5                               Amos & Andrew (1993)                               \n6                       Bringing Out The Dead (1999)                               \n7    Bad Lieutenant: Port of Call New Orleans (2009)                               \n8                                                NaN                               \n9                                                NaN                               \n\n  Rank your movie choices. You don't have to do a full ranking. [Eighth Choice]  \\\n0                       Bringing Out The Dead (1999)                              \n1                             Raising Arizona (1987)                              \n2                                  Adaptation (2002)                              \n3    Bad Lieutenant: Port of Call New Orleans (2009)                              \n4    Bad Lieutenant: Port of Call New Orleans (2009)                              \n5                       Bringing Out The Dead (1999)                              \n6                                  Adaptation (2002)                              \n7                               Amos & Andrew (1993)                              \n8                                                NaN                              \n9                                                NaN                              \n\n  Rank your movie choices. You don't have to do a full ranking. [Ninth Choice]  \\\n0                               Amos & Andrew (1993)                             \n1                               Amos & Andrew (1993)                             \n2                               Amos & Andrew (1993)                             \n3                           Leaving Las Vegas (1995)                             \n4                             Raising Arizona (1987)                             \n5                                  Adaptation (2002)                             \n6                               Amos & Andrew (1993)                             \n7                               Red Rock West (1993)                             \n8                                                NaN                             \n9                                                NaN                             \n\n  What theme should we explore next week? [First Choice]  \\\n0                      THIS HITMAN IS VERY DEPRESSED       \n1                                      1970'S SCI-FI       \n2                               POLITICAL THRILLRIDE       \n3                    MAYBE THE 90’S WERE PROBLEMATIC       \n4                                      1970'S SCI-FI       \n5                                      1970'S SCI-FI       \n6                                   HEIST HEIST BABY       \n7                                   HEIST HEIST BABY       \n8                                      1970'S SCI-FI       \n9                      THIS HITMAN IS VERY DEPRESSED       \n\n  What theme should we explore next week? [Second Choice]  \\\n0                    MAYBE THE 90’S WERE PROBLEMATIC        \n1                    MAYBE THE 90’S WERE PROBLEMATIC        \n2                      THIS HITMAN IS VERY DEPRESSED        \n3                   SEXUAL AWAKENING: FRIEND OR FOE?        \n4                      THIS HITMAN IS VERY DEPRESSED        \n5                      THIS HITMAN IS VERY DEPRESSED        \n6                       EMILIO ESTEVEZ FILM FESTIVEZ        \n7                       EMILIO ESTEVEZ FILM FESTIVEZ        \n8                    MAYBE THE 90’S WERE PROBLEMATIC        \n9                   SEXUAL AWAKENING: FRIEND OR FOE?        \n\n  What theme should we explore next week? [Third Choice]  \\\n0                                   HEIST HEIST BABY       \n1                      THIS HITMAN IS VERY DEPRESSED       \n2                          THE MONSTER IS A METAPHOR       \n3                      THIS HITMAN IS VERY DEPRESSED       \n4                   SEXUAL AWAKENING: FRIEND OR FOE?       \n5                                   HEIST HEIST BABY       \n6                                      1970'S SCI-FI       \n7                    MAYBE THE 90’S WERE PROBLEMATIC       \n8                               POLITICAL THRILLRIDE       \n9                          THE MONSTER IS A METAPHOR       \n\n  What theme should we explore next week? [Fourth Choice]  \\\n0                          THE MONSTER IS A METAPHOR        \n1                               POLITICAL THRILLRIDE        \n2                                            GADGETS        \n3                                      1970'S SCI-FI        \n4                               POLITICAL THRILLRIDE        \n5                       EMILIO ESTEVEZ FILM FESTIVEZ        \n6                    MAYBE THE 90’S WERE PROBLEMATIC        \n7                               POLITICAL THRILLRIDE        \n8                   SEXUAL AWAKENING: FRIEND OR FOE?        \n9                    MAYBE THE 90’S WERE PROBLEMATIC        \n\n  What theme should we explore next week? [Fifth Choice]  \\\n0                                      1970'S SCI-FI       \n1                          THE MONSTER IS A METAPHOR       \n2                                   HEIST HEIST BABY       \n3                       EMILIO ESTEVEZ FILM FESTIVEZ       \n4                          THE MONSTER IS A METAPHOR       \n5                                            GADGETS       \n6                          THE MONSTER IS A METAPHOR       \n7                   SEXUAL AWAKENING: FRIEND OR FOE?       \n8                                                NaN       \n9                                   HEIST HEIST BABY       \n\n  What theme should we explore next week? [Sixth Choice]  \\\n0                   SEXUAL AWAKENING: FRIEND OR FOE?       \n1                                   HEIST HEIST BABY       \n2                       EMILIO ESTEVEZ FILM FESTIVEZ       \n3                                            GADGETS       \n4                    MAYBE THE 90’S WERE PROBLEMATIC       \n5                               POLITICAL THRILLRIDE       \n6                   SEXUAL AWAKENING: FRIEND OR FOE?       \n7                                      1970'S SCI-FI       \n8                                                NaN       \n9                                      1970'S SCI-FI       \n\n  What theme should we explore next week? [Seventh Choice]  \\\n0                                            GADGETS         \n1                                            GADGETS         \n2                                      1970'S SCI-FI         \n3                                   HEIST HEIST BABY         \n4                                   HEIST HEIST BABY         \n5                          THE MONSTER IS A METAPHOR         \n6                      THIS HITMAN IS VERY DEPRESSED         \n7                      THIS HITMAN IS VERY DEPRESSED         \n8                                                NaN         \n9                               POLITICAL THRILLRIDE         \n\n  What theme should we explore next week? [Eighth Choice]  \\\n0                       EMILIO ESTEVEZ FILM FESTIVEZ        \n1                       EMILIO ESTEVEZ FILM FESTIVEZ        \n2                    MAYBE THE 90’S WERE PROBLEMATIC        \n3                          THE MONSTER IS A METAPHOR        \n4                                            GADGETS        \n5                    MAYBE THE 90’S WERE PROBLEMATIC        \n6                                            GADGETS        \n7                          THE MONSTER IS A METAPHOR        \n8                                                NaN        \n9                                            GADGETS        \n\n  What theme should we explore next week? [Ninth Choice]  \\\n0                               POLITICAL THRILLRIDE       \n1                   SEXUAL AWAKENING: FRIEND OR FOE?       \n2                   SEXUAL AWAKENING: FRIEND OR FOE?       \n3                               POLITICAL THRILLRIDE       \n4                       EMILIO ESTEVEZ FILM FESTIVEZ       \n5                   SEXUAL AWAKENING: FRIEND OR FOE?       \n6                               POLITICAL THRILLRIDE       \n7                                            GADGETS       \n8                                                NaN       \n9                       EMILIO ESTEVEZ FILM FESTIVEZ       \n\n  What theme should we explore next week? [Tenth Choice]  \n0                              No Theme/Free-for-all      \n1                              No Theme/Free-for-all      \n2                              No Theme/Free-for-all      \n3                              No Theme/Free-for-all      \n4                              No Theme/Free-for-all      \n5                                                NaN      \n6                              No Theme/Free-for-all      \n7                                                NaN      \n8                                                NaN      \n9                              No Theme/Free-for-all      ",
      "text/html": "<div>\n<style scoped>\n    .dataframe tbody tr th:only-of-type {\n        vertical-align: middle;\n    }\n\n    .dataframe tbody tr th {\n        vertical-align: top;\n    }\n\n    .dataframe thead th {\n        text-align: right;\n    }\n</style>\n<table border=\"1\" class=\"dataframe\">\n  <thead>\n    <tr style=\"text-align: right;\">\n      <th></th>\n      <th>Timestamp</th>\n      <th>Rank your movie choices. You don't have to do a full ranking. [First Choice]</th>\n      <th>Rank your movie choices. You don't have to do a full ranking. [Second Choice]</th>\n      <th>Rank your movie choices. You don't have to do a full ranking. [Third Choice]</th>\n      <th>Rank your movie choices. You don't have to do a full ranking. [Fourth Choice]</th>\n      <th>Rank your movie choices. You don't have to do a full ranking. [Fifth Choice]</th>\n      <th>Rank your movie choices. You don't have to do a full ranking. [Sixth Choice]</th>\n      <th>Rank your movie choices. You don't have to do a full ranking. [Seventh Choice]</th>\n      <th>Rank your movie choices. You don't have to do a full ranking. [Eighth Choice]</th>\n      <th>Rank your movie choices. You don't have to do a full ranking. [Ninth Choice]</th>\n      <th>What theme should we explore next week? [First Choice]</th>\n      <th>What theme should we explore next week? [Second Choice]</th>\n      <th>What theme should we explore next week? [Third Choice]</th>\n      <th>What theme should we explore next week? [Fourth Choice]</th>\n      <th>What theme should we explore next week? [Fifth Choice]</th>\n      <th>What theme should we explore next week? [Sixth Choice]</th>\n      <th>What theme should we explore next week? [Seventh Choice]</th>\n      <th>What theme should we explore next week? [Eighth Choice]</th>\n      <th>What theme should we explore next week? [Ninth Choice]</th>\n      <th>What theme should we explore next week? [Tenth Choice]</th>\n    </tr>\n  </thead>\n  <tbody>\n    <tr>\n      <th>0</th>\n      <td>10/27/2020 17:47:09</td>\n      <td>Bad Lieutenant: Port of Call New Orleans (2009)</td>\n      <td>Raising Arizona (1987)</td>\n      <td>Leaving Las Vegas (1995)</td>\n      <td>Adaptation (2002)</td>\n      <td>Vampire's Kiss (1988)</td>\n      <td>Wild at Heart (1990)</td>\n      <td>Red Rock West (1993)</td>\n      <td>Bringing Out The Dead (1999)</td>\n      <td>Amos &amp; Andrew (1993)</td>\n      <td>THIS HITMAN IS VERY DEPRESSED</td>\n      <td>MAYBE THE 90’S WERE PROBLEMATIC</td>\n      <td>HEIST HEIST BABY</td>\n      <td>THE MONSTER IS A METAPHOR</td>\n      <td>1970'S SCI-FI</td>\n      <td>SEXUAL AWAKENING: FRIEND OR FOE?</td>\n      <td>GADGETS</td>\n      <td>EMILIO ESTEVEZ FILM FESTIVEZ</td>\n      <td>POLITICAL THRILLRIDE</td>\n      <td>No Theme/Free-for-all</td>\n    </tr>\n    <tr>\n      <th>1</th>\n      <td>10/27/2020 17:57:11</td>\n      <td>Vampire's Kiss (1988)</td>\n      <td>Bringing Out The Dead (1999)</td>\n      <td>Bad Lieutenant: Port of Call New Orleans (2009)</td>\n      <td>Adaptation (2002)</td>\n      <td>Leaving Las Vegas (1995)</td>\n      <td>Wild at Heart (1990)</td>\n      <td>Red Rock West (1993)</td>\n      <td>Raising Arizona (1987)</td>\n      <td>Amos &amp; Andrew (1993)</td>\n      <td>1970'S SCI-FI</td>\n      <td>MAYBE THE 90’S WERE PROBLEMATIC</td>\n      <td>THIS HITMAN IS VERY DEPRESSED</td>\n      <td>POLITICAL THRILLRIDE</td>\n      <td>THE MONSTER IS A METAPHOR</td>\n      <td>HEIST HEIST BABY</td>\n      <td>GADGETS</td>\n      <td>EMILIO ESTEVEZ FILM FESTIVEZ</td>\n      <td>SEXUAL AWAKENING: FRIEND OR FOE?</td>\n      <td>No Theme/Free-for-all</td>\n    </tr>\n    <tr>\n      <th>2</th>\n      <td>10/27/2020 18:39:51</td>\n      <td>Bringing Out The Dead (1999)</td>\n      <td>Raising Arizona (1987)</td>\n      <td>Red Rock West (1993)</td>\n      <td>Vampire's Kiss (1988)</td>\n      <td>Bad Lieutenant: Port of Call New Orleans (2009)</td>\n      <td>Wild at Heart (1990)</td>\n      <td>Leaving Las Vegas (1995)</td>\n      <td>Adaptation (2002)</td>\n      <td>Amos &amp; Andrew (1993)</td>\n      <td>POLITICAL THRILLRIDE</td>\n      <td>THIS HITMAN IS VERY DEPRESSED</td>\n      <td>THE MONSTER IS A METAPHOR</td>\n      <td>GADGETS</td>\n      <td>HEIST HEIST BABY</td>\n      <td>EMILIO ESTEVEZ FILM FESTIVEZ</td>\n      <td>1970'S SCI-FI</td>\n      <td>MAYBE THE 90’S WERE PROBLEMATIC</td>\n      <td>SEXUAL AWAKENING: FRIEND OR FOE?</td>\n      <td>No Theme/Free-for-all</td>\n    </tr>\n    <tr>\n      <th>3</th>\n      <td>10/27/2020 18:39:57</td>\n      <td>Bringing Out The Dead (1999)</td>\n      <td>Red Rock West (1993)</td>\n      <td>Wild at Heart (1990)</td>\n      <td>Vampire's Kiss (1988)</td>\n      <td>Raising Arizona (1987)</td>\n      <td>Amos &amp; Andrew (1993)</td>\n      <td>Adaptation (2002)</td>\n      <td>Bad Lieutenant: Port of Call New Orleans (2009)</td>\n      <td>Leaving Las Vegas (1995)</td>\n      <td>MAYBE THE 90’S WERE PROBLEMATIC</td>\n      <td>SEXUAL AWAKENING: FRIEND OR FOE?</td>\n      <td>THIS HITMAN IS VERY DEPRESSED</td>\n      <td>1970'S SCI-FI</td>\n      <td>EMILIO ESTEVEZ FILM FESTIVEZ</td>\n      <td>GADGETS</td>\n      <td>HEIST HEIST BABY</td>\n      <td>THE MONSTER IS A METAPHOR</td>\n      <td>POLITICAL THRILLRIDE</td>\n      <td>No Theme/Free-for-all</td>\n    </tr>\n    <tr>\n      <th>4</th>\n      <td>10/27/2020 18:42:00</td>\n      <td>Wild at Heart (1990)</td>\n      <td>Adaptation (2002)</td>\n      <td>Red Rock West (1993)</td>\n      <td>Vampire's Kiss (1988)</td>\n      <td>Amos &amp; Andrew (1993)</td>\n      <td>Leaving Las Vegas (1995)</td>\n      <td>Bringing Out The Dead (1999)</td>\n      <td>Bad Lieutenant: Port of Call New Orleans (2009)</td>\n      <td>Raising Arizona (1987)</td>\n      <td>1970'S SCI-FI</td>\n      <td>THIS HITMAN IS VERY DEPRESSED</td>\n      <td>SEXUAL AWAKENING: FRIEND OR FOE?</td>\n      <td>POLITICAL THRILLRIDE</td>\n      <td>THE MONSTER IS A METAPHOR</td>\n      <td>MAYBE THE 90’S WERE PROBLEMATIC</td>\n      <td>HEIST HEIST BABY</td>\n      <td>GADGETS</td>\n      <td>EMILIO ESTEVEZ FILM FESTIVEZ</td>\n      <td>No Theme/Free-for-all</td>\n    </tr>\n    <tr>\n      <th>5</th>\n      <td>10/27/2020 19:24:18</td>\n      <td>Red Rock West (1993)</td>\n      <td>Raising Arizona (1987)</td>\n      <td>Bad Lieutenant: Port of Call New Orleans (2009)</td>\n      <td>Wild at Heart (1990)</td>\n      <td>Vampire's Kiss (1988)</td>\n      <td>Leaving Las Vegas (1995)</td>\n      <td>Amos &amp; Andrew (1993)</td>\n      <td>Bringing Out The Dead (1999)</td>\n      <td>Adaptation (2002)</td>\n      <td>1970'S SCI-FI</td>\n      <td>THIS HITMAN IS VERY DEPRESSED</td>\n      <td>HEIST HEIST BABY</td>\n      <td>EMILIO ESTEVEZ FILM FESTIVEZ</td>\n      <td>GADGETS</td>\n      <td>POLITICAL THRILLRIDE</td>\n      <td>THE MONSTER IS A METAPHOR</td>\n      <td>MAYBE THE 90’S WERE PROBLEMATIC</td>\n      <td>SEXUAL AWAKENING: FRIEND OR FOE?</td>\n      <td>NaN</td>\n    </tr>\n    <tr>\n      <th>6</th>\n      <td>10/27/2020 19:29:52</td>\n      <td>Vampire's Kiss (1988)</td>\n      <td>Raising Arizona (1987)</td>\n      <td>Leaving Las Vegas (1995)</td>\n      <td>Wild at Heart (1990)</td>\n      <td>Red Rock West (1993)</td>\n      <td>Bad Lieutenant: Port of Call New Orleans (2009)</td>\n      <td>Bringing Out The Dead (1999)</td>\n      <td>Adaptation (2002)</td>\n      <td>Amos &amp; Andrew (1993)</td>\n      <td>HEIST HEIST BABY</td>\n      <td>EMILIO ESTEVEZ FILM FESTIVEZ</td>\n      <td>1970'S SCI-FI</td>\n      <td>MAYBE THE 90’S WERE PROBLEMATIC</td>\n      <td>THE MONSTER IS A METAPHOR</td>\n      <td>SEXUAL AWAKENING: FRIEND OR FOE?</td>\n      <td>THIS HITMAN IS VERY DEPRESSED</td>\n      <td>GADGETS</td>\n      <td>POLITICAL THRILLRIDE</td>\n      <td>No Theme/Free-for-all</td>\n    </tr>\n    <tr>\n      <th>7</th>\n      <td>10/27/2020 19:31:23</td>\n      <td>Raising Arizona (1987)</td>\n      <td>Adaptation (2002)</td>\n      <td>Vampire's Kiss (1988)</td>\n      <td>Wild at Heart (1990)</td>\n      <td>Leaving Las Vegas (1995)</td>\n      <td>Bringing Out The Dead (1999)</td>\n      <td>Bad Lieutenant: Port of Call New Orleans (2009)</td>\n      <td>Amos &amp; Andrew (1993)</td>\n      <td>Red Rock West (1993)</td>\n      <td>HEIST HEIST BABY</td>\n      <td>EMILIO ESTEVEZ FILM FESTIVEZ</td>\n      <td>MAYBE THE 90’S WERE PROBLEMATIC</td>\n      <td>POLITICAL THRILLRIDE</td>\n      <td>SEXUAL AWAKENING: FRIEND OR FOE?</td>\n      <td>1970'S SCI-FI</td>\n      <td>THIS HITMAN IS VERY DEPRESSED</td>\n      <td>THE MONSTER IS A METAPHOR</td>\n      <td>GADGETS</td>\n      <td>NaN</td>\n    </tr>\n    <tr>\n      <th>8</th>\n      <td>10/27/2020 19:42:51</td>\n      <td>Amos &amp; Andrew (1993)</td>\n      <td>Bad Lieutenant: Port of Call New Orleans (2009)</td>\n      <td>Bringing Out The Dead (1999)</td>\n      <td>Red Rock West (1993)</td>\n      <td>NaN</td>\n      <td>NaN</td>\n      <td>NaN</td>\n      <td>NaN</td>\n      <td>NaN</td>\n      <td>1970'S SCI-FI</td>\n      <td>MAYBE THE 90’S WERE PROBLEMATIC</td>\n      <td>POLITICAL THRILLRIDE</td>\n      <td>SEXUAL AWAKENING: FRIEND OR FOE?</td>\n      <td>NaN</td>\n      <td>NaN</td>\n      <td>NaN</td>\n      <td>NaN</td>\n      <td>NaN</td>\n      <td>NaN</td>\n    </tr>\n    <tr>\n      <th>9</th>\n      <td>10/27/2020 21:00:12</td>\n      <td>Wild at Heart (1990)</td>\n      <td>Red Rock West (1993)</td>\n      <td>Bringing Out The Dead (1999)</td>\n      <td>Leaving Las Vegas (1995)</td>\n      <td>Amos &amp; Andrew (1993)</td>\n      <td>NaN</td>\n      <td>NaN</td>\n      <td>NaN</td>\n      <td>NaN</td>\n      <td>THIS HITMAN IS VERY DEPRESSED</td>\n      <td>SEXUAL AWAKENING: FRIEND OR FOE?</td>\n      <td>THE MONSTER IS A METAPHOR</td>\n      <td>MAYBE THE 90’S WERE PROBLEMATIC</td>\n      <td>HEIST HEIST BABY</td>\n      <td>1970'S SCI-FI</td>\n      <td>POLITICAL THRILLRIDE</td>\n      <td>GADGETS</td>\n      <td>EMILIO ESTEVEZ FILM FESTIVEZ</td>\n      <td>No Theme/Free-for-all</td>\n    </tr>\n  </tbody>\n</table>\n</div>"
     },
     "execution_count": 2,
     "metadata": {},
     "output_type": "execute_result"
    }
   ],
   "source": [
    "df = pd.read_csv(Path('./data/20201101.csv').resolve())\n",
    "df"
   ]
  },
  {
   "cell_type": "code",
   "execution_count": 3,
   "metadata": {},
   "outputs": [],
   "source": [
    "just_ballots = df.loc[:, df.columns.str.startswith('Rank')]\n",
    "next_week = df.loc[:, df.columns.str.startswith('What')]"
   ]
  },
  {
   "cell_type": "code",
   "execution_count": 4,
   "metadata": {},
   "outputs": [
    {
     "data": {
      "text/plain": "array(['Bad Lieutenant: Port of Call New Orleans (2009)',\n       'Raising Arizona (1987)', 'Leaving Las Vegas (1995)',\n       'Adaptation (2002)', \"Vampire's Kiss (1988)\",\n       'Wild at Heart (1990)', 'Red Rock West (1993)',\n       'Bringing Out The Dead (1999)', 'Amos & Andrew (1993)'],\n      dtype=object)"
     },
     "execution_count": 4,
     "metadata": {},
     "output_type": "execute_result"
    }
   ],
   "source": [
    "submissions = just_ballots.loc[just_ballots.notna().all(axis=1).idxmax(),:].values\n",
    "submissions"
   ]
  },
  {
   "cell_type": "code",
   "execution_count": 5,
   "metadata": {},
   "outputs": [],
   "source": [
    "submission_dict = {submission: pyrankvote.Candidate(submission) for submission in submissions}"
   ]
  },
  {
   "cell_type": "code",
   "execution_count": 6,
   "metadata": {},
   "outputs": [],
   "source": [
    "balloted = just_ballots.applymap(lambda x: submission_dict[x] if isinstance(x, str) else x)"
   ]
  },
  {
   "cell_type": "code",
   "execution_count": 7,
   "metadata": {},
   "outputs": [
    {
     "data": {
      "text/plain": "{'Bad Lieutenant: Port of Call New Orleans (2009)': <Candidate('Bad Lieutenant: Port of Call New Orleans (2009)')>,\n 'Raising Arizona (1987)': <Candidate('Raising Arizona (1987)')>,\n 'Leaving Las Vegas (1995)': <Candidate('Leaving Las Vegas (1995)')>,\n 'Adaptation (2002)': <Candidate('Adaptation (2002)')>,\n \"Vampire's Kiss (1988)\": <Candidate('Vampire's Kiss (1988)')>,\n 'Wild at Heart (1990)': <Candidate('Wild at Heart (1990)')>,\n 'Red Rock West (1993)': <Candidate('Red Rock West (1993)')>,\n 'Bringing Out The Dead (1999)': <Candidate('Bringing Out The Dead (1999)')>,\n 'Amos & Andrew (1993)': <Candidate('Amos & Andrew (1993)')>}"
     },
     "execution_count": 7,
     "metadata": {},
     "output_type": "execute_result"
    }
   ],
   "source": [
    "submission_dict"
   ]
  },
  {
   "cell_type": "code",
   "execution_count": 8,
   "metadata": {},
   "outputs": [],
   "source": [
    "ballots = []\n",
    "for ballot in balloted.itertuples():\n",
    "    ballots.append(pyrankvote.Ballot(ranked_candidates=[b for b in ballot if isinstance(b, pyrankvote.Candidate)]))"
   ]
  },
  {
   "cell_type": "code",
   "execution_count": 9,
   "metadata": {},
   "outputs": [
    {
     "data": {
      "text/plain": "[<Ballot(Bad Lieutenant: Port of Call New Orleans (2009), Raising Arizona (1987), Leaving Las Vegas (1995), Adaptation (2002), Vampire's Kiss (1988), Wild at Heart (1990), Red Rock West (1993), Bringing Out The Dead (1999), Amos & Andrew (1993))>,\n <Ballot(Vampire's Kiss (1988), Bringing Out The Dead (1999), Bad Lieutenant: Port of Call New Orleans (2009), Adaptation (2002), Leaving Las Vegas (1995), Wild at Heart (1990), Red Rock West (1993), Raising Arizona (1987), Amos & Andrew (1993))>,\n <Ballot(Bringing Out The Dead (1999), Raising Arizona (1987), Red Rock West (1993), Vampire's Kiss (1988), Bad Lieutenant: Port of Call New Orleans (2009), Wild at Heart (1990), Leaving Las Vegas (1995), Adaptation (2002), Amos & Andrew (1993))>,\n <Ballot(Bringing Out The Dead (1999), Red Rock West (1993), Wild at Heart (1990), Vampire's Kiss (1988), Raising Arizona (1987), Amos & Andrew (1993), Adaptation (2002), Bad Lieutenant: Port of Call New Orleans (2009), Leaving Las Vegas (1995))>,\n <Ballot(Wild at Heart (1990), Adaptation (2002), Red Rock West (1993), Vampire's Kiss (1988), Amos & Andrew (1993), Leaving Las Vegas (1995), Bringing Out The Dead (1999), Bad Lieutenant: Port of Call New Orleans (2009), Raising Arizona (1987))>,\n <Ballot(Red Rock West (1993), Raising Arizona (1987), Bad Lieutenant: Port of Call New Orleans (2009), Wild at Heart (1990), Vampire's Kiss (1988), Leaving Las Vegas (1995), Amos & Andrew (1993), Bringing Out The Dead (1999), Adaptation (2002))>,\n <Ballot(Vampire's Kiss (1988), Raising Arizona (1987), Leaving Las Vegas (1995), Wild at Heart (1990), Red Rock West (1993), Bad Lieutenant: Port of Call New Orleans (2009), Bringing Out The Dead (1999), Adaptation (2002), Amos & Andrew (1993))>,\n <Ballot(Raising Arizona (1987), Adaptation (2002), Vampire's Kiss (1988), Wild at Heart (1990), Leaving Las Vegas (1995), Bringing Out The Dead (1999), Bad Lieutenant: Port of Call New Orleans (2009), Amos & Andrew (1993), Red Rock West (1993))>,\n <Ballot(Amos & Andrew (1993), Bad Lieutenant: Port of Call New Orleans (2009), Bringing Out The Dead (1999), Red Rock West (1993))>,\n <Ballot(Wild at Heart (1990), Red Rock West (1993), Bringing Out The Dead (1999), Leaving Las Vegas (1995), Amos & Andrew (1993))>]"
     },
     "execution_count": 9,
     "metadata": {},
     "output_type": "execute_result"
    }
   ],
   "source": [
    "ballots"
   ]
  },
  {
   "cell_type": "code",
   "execution_count": 10,
   "metadata": {},
   "outputs": [],
   "source": [
    "election_result = pyrankvote.instant_runoff_voting(submission_dict.values(), ballots,)"
   ]
  },
  {
   "cell_type": "code",
   "execution_count": 11,
   "metadata": {},
   "outputs": [
    {
     "name": "stdout",
     "output_type": "stream",
     "text": [
      "ROUND 1\n",
      "Candidate                                          Votes  Status\n",
      "-----------------------------------------------  -------  --------\n",
      "Bringing Out The Dead (1999)                           2  Hopeful\n",
      "Vampire's Kiss (1988)                                  2  Hopeful\n",
      "Wild at Heart (1990)                                   2  Hopeful\n",
      "Raising Arizona (1987)                                 1  Hopeful\n",
      "Red Rock West (1993)                                   1  Hopeful\n",
      "Bad Lieutenant: Port of Call New Orleans (2009)        1  Hopeful\n",
      "Amos & Andrew (1993)                                   1  Rejected\n",
      "Adaptation (2002)                                      0  Rejected\n",
      "Leaving Las Vegas (1995)                               0  Rejected\n",
      "\n",
      "ROUND 2\n",
      "Candidate                                          Votes  Status\n",
      "-----------------------------------------------  -------  --------\n",
      "Bringing Out The Dead (1999)                           2  Hopeful\n",
      "Vampire's Kiss (1988)                                  2  Hopeful\n",
      "Wild at Heart (1990)                                   2  Hopeful\n",
      "Bad Lieutenant: Port of Call New Orleans (2009)        2  Hopeful\n",
      "Raising Arizona (1987)                                 1  Rejected\n",
      "Red Rock West (1993)                                   1  Rejected\n",
      "Amos & Andrew (1993)                                   0  Rejected\n",
      "Adaptation (2002)                                      0  Rejected\n",
      "Leaving Las Vegas (1995)                               0  Rejected\n",
      "\n",
      "ROUND 3\n",
      "Candidate                                          Votes  Status\n",
      "-----------------------------------------------  -------  --------\n",
      "Vampire's Kiss (1988)                                  3  Hopeful\n",
      "Bad Lieutenant: Port of Call New Orleans (2009)        3  Hopeful\n",
      "Wild at Heart (1990)                                   2  Hopeful\n",
      "Bringing Out The Dead (1999)                           2  Rejected\n",
      "Raising Arizona (1987)                                 0  Rejected\n",
      "Red Rock West (1993)                                   0  Rejected\n",
      "Amos & Andrew (1993)                                   0  Rejected\n",
      "Adaptation (2002)                                      0  Rejected\n",
      "Leaving Las Vegas (1995)                               0  Rejected\n",
      "\n",
      "ROUND 4\n",
      "Candidate                                          Votes  Status\n",
      "-----------------------------------------------  -------  --------\n",
      "Vampire's Kiss (1988)                                  4  Hopeful\n",
      "Wild at Heart (1990)                                   3  Hopeful\n",
      "Bad Lieutenant: Port of Call New Orleans (2009)        3  Rejected\n",
      "Bringing Out The Dead (1999)                           0  Rejected\n",
      "Raising Arizona (1987)                                 0  Rejected\n",
      "Red Rock West (1993)                                   0  Rejected\n",
      "Amos & Andrew (1993)                                   0  Rejected\n",
      "Adaptation (2002)                                      0  Rejected\n",
      "Leaving Las Vegas (1995)                               0  Rejected\n",
      "\n",
      "FINAL RESULT\n",
      "Candidate                                          Votes  Status\n",
      "-----------------------------------------------  -------  --------\n",
      "Vampire's Kiss (1988)                                  5  Elected\n",
      "Wild at Heart (1990)                                   4  Rejected\n",
      "Bad Lieutenant: Port of Call New Orleans (2009)        0  Rejected\n",
      "Bringing Out The Dead (1999)                           0  Rejected\n",
      "Raising Arizona (1987)                                 0  Rejected\n",
      "Red Rock West (1993)                                   0  Rejected\n",
      "Amos & Andrew (1993)                                   0  Rejected\n",
      "Adaptation (2002)                                      0  Rejected\n",
      "Leaving Las Vegas (1995)                               0  Rejected\n",
      "Blank votes                                            1  Rejected\n",
      "\n"
     ]
    }
   ],
   "source": [
    "print(election_result)"
   ]
  },
  {
   "cell_type": "code",
   "execution_count": 12,
   "metadata": {},
   "outputs": [
    {
     "name": "stdout",
     "output_type": "stream",
     "text": [
      "ROUND 1\n",
      "Candidate                           Votes  Status\n",
      "--------------------------------  -------  --------\n",
      "1970'S SCI-FI                           4  Hopeful\n",
      "THIS HITMAN IS VERY DEPRESSED           2  Hopeful\n",
      "HEIST HEIST BABY                        2  Hopeful\n",
      "MAYBE THE 90’S WERE PROBLEMATIC         1  Rejected\n",
      "POLITICAL THRILLRIDE                    1  Rejected\n",
      "SEXUAL AWAKENING: FRIEND OR FOE?        0  Rejected\n",
      "EMILIO ESTEVEZ FILM FESTIVEZ            0  Rejected\n",
      "THE MONSTER IS A METAPHOR               0  Rejected\n",
      "GADGETS                                 0  Rejected\n",
      "No Theme/Free-for-all                   0  Rejected\n",
      "\n",
      "ROUND 2\n",
      "Candidate                           Votes  Status\n",
      "--------------------------------  -------  --------\n",
      "1970'S SCI-FI                           4  Hopeful\n",
      "THIS HITMAN IS VERY DEPRESSED           4  Hopeful\n",
      "HEIST HEIST BABY                        2  Rejected\n",
      "MAYBE THE 90’S WERE PROBLEMATIC         0  Rejected\n",
      "POLITICAL THRILLRIDE                    0  Rejected\n",
      "SEXUAL AWAKENING: FRIEND OR FOE?        0  Rejected\n",
      "EMILIO ESTEVEZ FILM FESTIVEZ            0  Rejected\n",
      "THE MONSTER IS A METAPHOR               0  Rejected\n",
      "GADGETS                                 0  Rejected\n",
      "No Theme/Free-for-all                   0  Rejected\n",
      "\n",
      "FINAL RESULT\n",
      "Candidate                           Votes  Status\n",
      "--------------------------------  -------  --------\n",
      "1970'S SCI-FI                           6  Elected\n",
      "THIS HITMAN IS VERY DEPRESSED           4  Rejected\n",
      "HEIST HEIST BABY                        0  Rejected\n",
      "MAYBE THE 90’S WERE PROBLEMATIC         0  Rejected\n",
      "POLITICAL THRILLRIDE                    0  Rejected\n",
      "SEXUAL AWAKENING: FRIEND OR FOE?        0  Rejected\n",
      "EMILIO ESTEVEZ FILM FESTIVEZ            0  Rejected\n",
      "THE MONSTER IS A METAPHOR               0  Rejected\n",
      "GADGETS                                 0  Rejected\n",
      "No Theme/Free-for-all                   0  Rejected\n",
      "\n"
     ]
    }
   ],
   "source": [
    "submissions = next_week.loc[next_week.notna().all(axis=1).idxmax(),:].values\n",
    "submission_dict = {submission: pyrankvote.Candidate(submission) for submission in submissions}\n",
    "balloted = next_week.applymap(lambda x: submission_dict[x] if isinstance(x, str) else x)\n",
    "ballots = []\n",
    "for ballot in balloted.itertuples():\n",
    "    ballots.append(pyrankvote.Ballot(ranked_candidates=[b for b in ballot if isinstance(b, pyrankvote.Candidate)]))\n",
    "print(pyrankvote.instant_runoff_voting(submission_dict.values(), ballots,))"
   ]
  }
 ],
 "metadata": {
  "kernelspec": {
   "display_name": "Python 3",
   "language": "python",
   "name": "python3"
  },
  "language_info": {
   "codemirror_mode": {
    "name": "ipython",
    "version": 3
   },
   "file_extension": ".py",
   "mimetype": "text/x-python",
   "name": "python",
   "nbconvert_exporter": "python",
   "pygments_lexer": "ipython3",
   "version": "3.7.4"
  }
 },
 "nbformat": 4,
 "nbformat_minor": 2
}