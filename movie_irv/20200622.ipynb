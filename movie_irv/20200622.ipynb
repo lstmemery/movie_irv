{
 "cells": [
  {
   "cell_type": "code",
   "execution_count": 1,
   "metadata": {},
   "outputs": [],
   "source": [
    "import pandas as pd\n",
    "import pyrankvote\n",
    "from pathlib import Path"
   ]
  },
  {
   "cell_type": "code",
   "execution_count": 2,
   "metadata": {},
   "outputs": [
    {
     "data": {
      "text/plain": "            Timestamp  \\\n0  6/17/2020 19:26:45   \n1  6/17/2020 19:41:28   \n2  6/17/2020 20:22:27   \n3  6/17/2020 20:24:24   \n4  6/17/2020 20:38:12   \n5   6/18/2020 4:44:55   \n6  6/20/2020 11:13:29   \n7  6/20/2020 11:16:26   \n\n  Rank your movie choices. You don't have to do a full ranking. [First Choice]  \\\n0                       Colossus: The Forbin Project                             \n1                                             Arcade                             \n2                                     Computer Chess                             \n3                       Colossus: The Forbin Project                             \n4                       Colossus: The Forbin Project                             \n5                                    Electric Dreams                             \n6                                             Arcade                             \n7                                             Arcade                             \n\n  Rank your movie choices. You don't have to do a full ranking. [Second Choice]  \\\n0                                     Computer Chess                              \n1                                    Electric Dreams                              \n2                       Colossus: The Forbin Project                              \n3                                     Computer Chess                              \n4                                             Arcade                              \n5                                             Arcade                              \n6                                     Computer Chess                              \n7                                    Electric Dreams                              \n\n  Rank your movie choices. You don't have to do a full ranking. [Third Choice]  \\\n0                                             Arcade                             \n1                                  The Lawnmower Man                             \n2                                    Electric Dreams                             \n3                                  The Lawnmower Man                             \n4                                     Computer Chess                             \n5                                    Johnny Mnemonic                             \n6                                    Johnny Mnemonic                             \n7                                     Computer Chess                             \n\n  Rank your movie choices. You don't have to do a full ranking. [Fourth Choice]  \\\n0                                  The Lawnmower Man                              \n1                                     Computer Chess                              \n2                                             Arcade                              \n3                                    Electric Dreams                              \n4                                    Electric Dreams                              \n5                       Colossus: The Forbin Project                              \n6                       Colossus: The Forbin Project                              \n7                       Colossus: The Forbin Project                              \n\n  Rank your movie choices. You don't have to do a full ranking. [Fifth Choice]  \\\n0                                    Johnny Mnemonic                             \n1                                    Johnny Mnemonic                             \n2                                  The Lawnmower Man                             \n3                                    Johnny Mnemonic                             \n4                                                NaN                             \n5                                     Computer Chess                             \n6                                    Electric Dreams                             \n7                                    Johnny Mnemonic                             \n\n  Rank your movie choices. You don't have to do a full ranking. [Sixth Choice]  \\\n0                                    Electric Dreams                             \n1                       Colossus: The Forbin Project                             \n2                                                NaN                             \n3                                             Arcade                             \n4                                                NaN                             \n5                                  The Lawnmower Man                             \n6                                  The Lawnmower Man                             \n7                                  The Lawnmower Man                             \n\n  What theme should we explore next week? [First Choice]  \\\n0                                   Spike Lee Joints       \n1                               Rapper in major role       \n2                              No Theme/Free-for-all       \n3                                Oh shit, its Satan!       \n4                                   Spike Lee Joints       \n5                                   Makeover Montage       \n6                                Oh shit, its Satan!       \n7                                   Makeover Montage       \n\n  What theme should we explore next week? [Second Choice]  \\\n0                                Oh shit, its Satan!        \n1                                       Dance Battle        \n2                       Films adapted from the stage        \n3                               Rapper in major role        \n4                               Rapper in major role        \n5                               Rapper in major role        \n6                       Films adapted from the stage        \n7                                Oh shit, its Satan!        \n\n  What theme should we explore next week? [Third Choice]  \\\n0                               Rapper in major role       \n1                                   Spike Lee Joints       \n2                                Oh shit, its Satan!       \n3                                   Makeover Montage       \n4                                       Dance Battle       \n5                                       Dance Battle       \n6                               Rapper in major role       \n7                                   Spike Lee Joints       \n\n  What theme should we explore next week? [Fourth Choice]  \\\n0                       Films adapted from the stage        \n1                                Oh shit, its Satan!        \n2                                       Dance Battle        \n3                       Films adapted from the stage        \n4                       Films adapted from the stage        \n5                       Films adapted from the stage        \n6                                   Spike Lee Joints        \n7                              No Theme/Free-for-all        \n\n  What theme should we explore next week? [Fifth Choice]  \\\n0                                       Dance Battle       \n1                       Films adapted from the stage       \n2                               Rapper in major role       \n3                                       Dance Battle       \n4                                   Makeover Montage       \n5                                Oh shit, its Satan!       \n6                                   Makeover Montage       \n7                               Rapper in major role       \n\n  What theme should we explore next week? [Sixth Choice]  \\\n0                                   Makeover Montage       \n1                                   Makeover Montage       \n2                                   Makeover Montage       \n3                                   Spike Lee Joints       \n4                                Oh shit, its Satan!       \n5                                   Spike Lee Joints       \n6                                       Dance Battle       \n7                       Films adapted from the stage       \n\n  What theme should we explore next week? [Seventh Choice]  \n0                              No Theme/Free-for-all        \n1                              No Theme/Free-for-all        \n2                                   Spike Lee Joints        \n3                              No Theme/Free-for-all        \n4                                                NaN        \n5                              No Theme/Free-for-all        \n6                              No Theme/Free-for-all        \n7                                       Dance Battle        ",
      "text/html": "<div>\n<style scoped>\n    .dataframe tbody tr th:only-of-type {\n        vertical-align: middle;\n    }\n\n    .dataframe tbody tr th {\n        vertical-align: top;\n    }\n\n    .dataframe thead th {\n        text-align: right;\n    }\n</style>\n<table border=\"1\" class=\"dataframe\">\n  <thead>\n    <tr style=\"text-align: right;\">\n      <th></th>\n      <th>Timestamp</th>\n      <th>Rank your movie choices. You don't have to do a full ranking. [First Choice]</th>\n      <th>Rank your movie choices. You don't have to do a full ranking. [Second Choice]</th>\n      <th>Rank your movie choices. You don't have to do a full ranking. [Third Choice]</th>\n      <th>Rank your movie choices. You don't have to do a full ranking. [Fourth Choice]</th>\n      <th>Rank your movie choices. You don't have to do a full ranking. [Fifth Choice]</th>\n      <th>Rank your movie choices. You don't have to do a full ranking. [Sixth Choice]</th>\n      <th>What theme should we explore next week? [First Choice]</th>\n      <th>What theme should we explore next week? [Second Choice]</th>\n      <th>What theme should we explore next week? [Third Choice]</th>\n      <th>What theme should we explore next week? [Fourth Choice]</th>\n      <th>What theme should we explore next week? [Fifth Choice]</th>\n      <th>What theme should we explore next week? [Sixth Choice]</th>\n      <th>What theme should we explore next week? [Seventh Choice]</th>\n    </tr>\n  </thead>\n  <tbody>\n    <tr>\n      <th>0</th>\n      <td>6/17/2020 19:26:45</td>\n      <td>Colossus: The Forbin Project</td>\n      <td>Computer Chess</td>\n      <td>Arcade</td>\n      <td>The Lawnmower Man</td>\n      <td>Johnny Mnemonic</td>\n      <td>Electric Dreams</td>\n      <td>Spike Lee Joints</td>\n      <td>Oh shit, its Satan!</td>\n      <td>Rapper in major role</td>\n      <td>Films adapted from the stage</td>\n      <td>Dance Battle</td>\n      <td>Makeover Montage</td>\n      <td>No Theme/Free-for-all</td>\n    </tr>\n    <tr>\n      <th>1</th>\n      <td>6/17/2020 19:41:28</td>\n      <td>Arcade</td>\n      <td>Electric Dreams</td>\n      <td>The Lawnmower Man</td>\n      <td>Computer Chess</td>\n      <td>Johnny Mnemonic</td>\n      <td>Colossus: The Forbin Project</td>\n      <td>Rapper in major role</td>\n      <td>Dance Battle</td>\n      <td>Spike Lee Joints</td>\n      <td>Oh shit, its Satan!</td>\n      <td>Films adapted from the stage</td>\n      <td>Makeover Montage</td>\n      <td>No Theme/Free-for-all</td>\n    </tr>\n    <tr>\n      <th>2</th>\n      <td>6/17/2020 20:22:27</td>\n      <td>Computer Chess</td>\n      <td>Colossus: The Forbin Project</td>\n      <td>Electric Dreams</td>\n      <td>Arcade</td>\n      <td>The Lawnmower Man</td>\n      <td>NaN</td>\n      <td>No Theme/Free-for-all</td>\n      <td>Films adapted from the stage</td>\n      <td>Oh shit, its Satan!</td>\n      <td>Dance Battle</td>\n      <td>Rapper in major role</td>\n      <td>Makeover Montage</td>\n      <td>Spike Lee Joints</td>\n    </tr>\n    <tr>\n      <th>3</th>\n      <td>6/17/2020 20:24:24</td>\n      <td>Colossus: The Forbin Project</td>\n      <td>Computer Chess</td>\n      <td>The Lawnmower Man</td>\n      <td>Electric Dreams</td>\n      <td>Johnny Mnemonic</td>\n      <td>Arcade</td>\n      <td>Oh shit, its Satan!</td>\n      <td>Rapper in major role</td>\n      <td>Makeover Montage</td>\n      <td>Films adapted from the stage</td>\n      <td>Dance Battle</td>\n      <td>Spike Lee Joints</td>\n      <td>No Theme/Free-for-all</td>\n    </tr>\n    <tr>\n      <th>4</th>\n      <td>6/17/2020 20:38:12</td>\n      <td>Colossus: The Forbin Project</td>\n      <td>Arcade</td>\n      <td>Computer Chess</td>\n      <td>Electric Dreams</td>\n      <td>NaN</td>\n      <td>NaN</td>\n      <td>Spike Lee Joints</td>\n      <td>Rapper in major role</td>\n      <td>Dance Battle</td>\n      <td>Films adapted from the stage</td>\n      <td>Makeover Montage</td>\n      <td>Oh shit, its Satan!</td>\n      <td>NaN</td>\n    </tr>\n    <tr>\n      <th>5</th>\n      <td>6/18/2020 4:44:55</td>\n      <td>Electric Dreams</td>\n      <td>Arcade</td>\n      <td>Johnny Mnemonic</td>\n      <td>Colossus: The Forbin Project</td>\n      <td>Computer Chess</td>\n      <td>The Lawnmower Man</td>\n      <td>Makeover Montage</td>\n      <td>Rapper in major role</td>\n      <td>Dance Battle</td>\n      <td>Films adapted from the stage</td>\n      <td>Oh shit, its Satan!</td>\n      <td>Spike Lee Joints</td>\n      <td>No Theme/Free-for-all</td>\n    </tr>\n    <tr>\n      <th>6</th>\n      <td>6/20/2020 11:13:29</td>\n      <td>Arcade</td>\n      <td>Computer Chess</td>\n      <td>Johnny Mnemonic</td>\n      <td>Colossus: The Forbin Project</td>\n      <td>Electric Dreams</td>\n      <td>The Lawnmower Man</td>\n      <td>Oh shit, its Satan!</td>\n      <td>Films adapted from the stage</td>\n      <td>Rapper in major role</td>\n      <td>Spike Lee Joints</td>\n      <td>Makeover Montage</td>\n      <td>Dance Battle</td>\n      <td>No Theme/Free-for-all</td>\n    </tr>\n    <tr>\n      <th>7</th>\n      <td>6/20/2020 11:16:26</td>\n      <td>Arcade</td>\n      <td>Electric Dreams</td>\n      <td>Computer Chess</td>\n      <td>Colossus: The Forbin Project</td>\n      <td>Johnny Mnemonic</td>\n      <td>The Lawnmower Man</td>\n      <td>Makeover Montage</td>\n      <td>Oh shit, its Satan!</td>\n      <td>Spike Lee Joints</td>\n      <td>No Theme/Free-for-all</td>\n      <td>Rapper in major role</td>\n      <td>Films adapted from the stage</td>\n      <td>Dance Battle</td>\n    </tr>\n  </tbody>\n</table>\n</div>"
     },
     "execution_count": 2,
     "metadata": {},
     "output_type": "execute_result"
    }
   ],
   "source": [
    "df = pd.read_csv(Path('./data/20200622.csv').resolve())\n",
    "df"
   ]
  },
  {
   "cell_type": "code",
   "execution_count": 3,
   "metadata": {},
   "outputs": [],
   "source": [
    "just_ballots = df.loc[:, df.columns.str.startswith('Rank')]\n",
    "next_week = df.loc[:, df.columns.str.startswith('What')]"
   ]
  },
  {
   "cell_type": "code",
   "execution_count": 4,
   "metadata": {},
   "outputs": [
    {
     "data": {
      "text/plain": "array(['Colossus: The Forbin Project', 'Computer Chess', 'Arcade',\n       'The Lawnmower Man', 'Johnny Mnemonic', 'Electric Dreams'],\n      dtype=object)"
     },
     "execution_count": 4,
     "metadata": {},
     "output_type": "execute_result"
    }
   ],
   "source": [
    "submissions = just_ballots.loc[just_ballots.notna().all(axis=1).idxmax(),:].values\n",
    "submissions"
   ]
  },
  {
   "cell_type": "code",
   "execution_count": 5,
   "metadata": {},
   "outputs": [],
   "source": [
    "submission_dict = {submission: pyrankvote.Candidate(submission) for submission in submissions}"
   ]
  },
  {
   "cell_type": "code",
   "execution_count": 6,
   "metadata": {},
   "outputs": [],
   "source": [
    "balloted = just_ballots.applymap(lambda x: submission_dict[x] if isinstance(x, str) else x)"
   ]
  },
  {
   "cell_type": "code",
   "execution_count": 7,
   "metadata": {},
   "outputs": [
    {
     "data": {
      "text/plain": "{'Colossus: The Forbin Project': <Candidate('Colossus: The Forbin Project')>,\n 'Computer Chess': <Candidate('Computer Chess')>,\n 'Arcade': <Candidate('Arcade')>,\n 'The Lawnmower Man': <Candidate('The Lawnmower Man')>,\n 'Johnny Mnemonic': <Candidate('Johnny Mnemonic')>,\n 'Electric Dreams': <Candidate('Electric Dreams')>}"
     },
     "execution_count": 7,
     "metadata": {},
     "output_type": "execute_result"
    }
   ],
   "source": [
    "submission_dict"
   ]
  },
  {
   "cell_type": "code",
   "execution_count": 8,
   "metadata": {},
   "outputs": [],
   "source": [
    "ballots = []\n",
    "for ballot in balloted.itertuples():\n",
    "    ballots.append(pyrankvote.Ballot(ranked_candidates=[b for b in ballot if isinstance(b, pyrankvote.Candidate)]))"
   ]
  },
  {
   "cell_type": "code",
   "execution_count": 9,
   "metadata": {},
   "outputs": [
    {
     "data": {
      "text/plain": "[<Ballot(Colossus: The Forbin Project, Computer Chess, Arcade, The Lawnmower Man, Johnny Mnemonic, Electric Dreams)>,\n <Ballot(Arcade, Electric Dreams, The Lawnmower Man, Computer Chess, Johnny Mnemonic, Colossus: The Forbin Project)>,\n <Ballot(Computer Chess, Colossus: The Forbin Project, Electric Dreams, Arcade, The Lawnmower Man)>,\n <Ballot(Colossus: The Forbin Project, Computer Chess, The Lawnmower Man, Electric Dreams, Johnny Mnemonic, Arcade)>,\n <Ballot(Colossus: The Forbin Project, Arcade, Computer Chess, Electric Dreams)>,\n <Ballot(Electric Dreams, Arcade, Johnny Mnemonic, Colossus: The Forbin Project, Computer Chess, The Lawnmower Man)>,\n <Ballot(Arcade, Computer Chess, Johnny Mnemonic, Colossus: The Forbin Project, Electric Dreams, The Lawnmower Man)>,\n <Ballot(Arcade, Electric Dreams, Computer Chess, Colossus: The Forbin Project, Johnny Mnemonic, The Lawnmower Man)>]"
     },
     "execution_count": 9,
     "metadata": {},
     "output_type": "execute_result"
    }
   ],
   "source": [
    "ballots"
   ]
  },
  {
   "cell_type": "code",
   "execution_count": 10,
   "metadata": {},
   "outputs": [],
   "source": [
    "election_result = pyrankvote.instant_runoff_voting(submission_dict.values(), ballots,)"
   ]
  },
  {
   "cell_type": "code",
   "execution_count": 11,
   "metadata": {},
   "outputs": [
    {
     "name": "stdout",
     "output_type": "stream",
     "text": [
      "ROUND 1\n",
      "Candidate                       Votes  Status\n",
      "----------------------------  -------  --------\n",
      "Arcade                              3  Hopeful\n",
      "Colossus: The Forbin Project        3  Hopeful\n",
      "Computer Chess                      1  Rejected\n",
      "Electric Dreams                     1  Rejected\n",
      "The Lawnmower Man                   0  Rejected\n",
      "Johnny Mnemonic                     0  Rejected\n",
      "\n",
      "FINAL RESULT\n",
      "Candidate                       Votes  Status\n",
      "----------------------------  -------  --------\n",
      "Colossus: The Forbin Project        4  Elected\n",
      "Arcade                              4  Rejected\n",
      "Computer Chess                      0  Rejected\n",
      "Electric Dreams                     0  Rejected\n",
      "The Lawnmower Man                   0  Rejected\n",
      "Johnny Mnemonic                     0  Rejected\n",
      "\n"
     ]
    }
   ],
   "source": [
    "print(election_result)"
   ]
  },
  {
   "cell_type": "code",
   "execution_count": 12,
   "metadata": {},
   "outputs": [
    {
     "name": "stdout",
     "output_type": "stream",
     "text": [
      "ROUND 1\n",
      "Candidate                       Votes  Status\n",
      "----------------------------  -------  --------\n",
      "Oh shit, its Satan!                 2  Hopeful\n",
      "Spike Lee Joints                    2  Hopeful\n",
      "Makeover Montage                    2  Hopeful\n",
      "Rapper in major role                1  Rejected\n",
      "No Theme/Free-for-all               1  Rejected\n",
      "Films adapted from the stage        0  Rejected\n",
      "Dance Battle                        0  Rejected\n",
      "\n",
      "ROUND 2\n",
      "Candidate                       Votes  Status\n",
      "----------------------------  -------  --------\n",
      "Oh shit, its Satan!                 3  Hopeful\n",
      "Spike Lee Joints                    3  Hopeful\n",
      "Makeover Montage                    2  Rejected\n",
      "Rapper in major role                0  Rejected\n",
      "No Theme/Free-for-all               0  Rejected\n",
      "Films adapted from the stage        0  Rejected\n",
      "Dance Battle                        0  Rejected\n",
      "\n",
      "FINAL RESULT\n",
      "Candidate                       Votes  Status\n",
      "----------------------------  -------  --------\n",
      "Oh shit, its Satan!                 5  Elected\n",
      "Spike Lee Joints                    3  Rejected\n",
      "Makeover Montage                    0  Rejected\n",
      "Rapper in major role                0  Rejected\n",
      "No Theme/Free-for-all               0  Rejected\n",
      "Films adapted from the stage        0  Rejected\n",
      "Dance Battle                        0  Rejected\n",
      "\n"
     ]
    }
   ],
   "source": [
    "submissions = next_week.loc[next_week.notna().all(axis=1).idxmax(),:].values\n",
    "submission_dict = {submission: pyrankvote.Candidate(submission) for submission in submissions}\n",
    "balloted = next_week.applymap(lambda x: submission_dict[x] if isinstance(x, str) else x)\n",
    "ballots = []\n",
    "for ballot in balloted.itertuples():\n",
    "    ballots.append(pyrankvote.Ballot(ranked_candidates=[b for b in ballot if isinstance(b, pyrankvote.Candidate)]))\n",
    "print(pyrankvote.instant_runoff_voting(submission_dict.values(), ballots,))"
   ]
  }
 ],
 "metadata": {
  "kernelspec": {
   "display_name": "Python 3",
   "language": "python",
   "name": "python3"
  },
  "language_info": {
   "codemirror_mode": {
    "name": "ipython",
    "version": 3
   },
   "file_extension": ".py",
   "mimetype": "text/x-python",
   "name": "python",
   "nbconvert_exporter": "python",
   "pygments_lexer": "ipython3",
   "version": "3.7.4"
  }
 },
 "nbformat": 4,
 "nbformat_minor": 2
}