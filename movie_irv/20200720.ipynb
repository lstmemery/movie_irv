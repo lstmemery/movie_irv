{
 "cells": [
  {
   "cell_type": "code",
   "execution_count": 13,
   "metadata": {},
   "outputs": [],
   "source": [
    "import pandas as pd\n",
    "import pyrankvote\n",
    "from pathlib import Path"
   ]
  },
  {
   "cell_type": "code",
   "execution_count": 14,
   "metadata": {},
   "outputs": [
    {
     "data": {
      "text/plain": "            Timestamp  \\\n0  7/15/2020 18:08:51   \n1  7/15/2020 18:23:44   \n2  7/15/2020 18:42:25   \n3  7/15/2020 18:43:05   \n4  7/15/2020 19:13:59   \n5  7/15/2020 19:19:59   \n6  7/15/2020 19:25:54   \n7  7/15/2020 20:55:03   \n8  7/15/2020 23:30:40   \n9  7/16/2020 11:32:53   \n\n  Rank your movie choices. You don't have to do a full ranking. [First Choice]  \\\n0                                         Your Name.                             \n1                          The Spirit of the Beehive                             \n2                                                UHF                             \n3                                         Your Name.                             \n4                                         Your Name.                             \n5                            The Night of the Hunter                             \n6                            The Night of the Hunter                             \n7                                         Your Name.                             \n8                            The Night of the Hunter                             \n9                                         Your Name.                             \n\n  Rank your movie choices. You don't have to do a full ranking. [Second Choice]  \\\n0                                                UHF                              \n1                                         Your Name.                              \n2                          The Spirit of the Beehive                              \n3                                                UHF                              \n4                                                UHF                              \n5                                                UHF                              \n6                                         Your Name.                              \n7                                                UHF                              \n8                          The Spirit of the Beehive                              \n9                            The Night of the Hunter                              \n\n  Rank your movie choices. You don't have to do a full ranking. [Third Choice]  \\\n0                            The Night of the Hunter                             \n1                                                UHF                             \n2                                         Your Name.                             \n3                            The Night of the Hunter                             \n4                                  The Secret Garden                             \n5                                                NaN                             \n6                                                UHF                             \n7                                  The Secret Garden                             \n8                                  The Secret Garden                             \n9                                                UHF                             \n\n  Rank your movie choices. You don't have to do a full ranking. [Fourth Choice]  \\\n0                          The Spirit of the Beehive                              \n1                                  The Secret Garden                              \n2                            The Night of the Hunter                              \n3                          The Spirit of the Beehive                              \n4                                                NaN                              \n5                                                NaN                              \n6                                  The Secret Garden                              \n7                                                NaN                              \n8                                                UHF                              \n9                                  The Secret Garden                              \n\n  Rank your movie choices. You don't have to do a full ranking. [Fifth Choice]  \\\n0                                  The Secret Garden                             \n1                                                NaN                             \n2                                  The Secret Garden                             \n3                                  The Secret Garden                             \n4                                                NaN                             \n5                                                NaN                             \n6                          The Spirit of the Beehive                             \n7                                                NaN                             \n8                                         Your Name.                             \n9                          The Spirit of the Beehive                             \n\n  What theme should we explore next week? [First Choice]  \\\n0                                          EUROTRASH       \n1                      I'M FUCKING ITALIAN OVER HERE       \n2                                            SPORTS!       \n3                                        TIME TRAVEL       \n4                                        TIME TRAVEL       \n5                                          EUROTRASH       \n6                                UNRELIABLE NARRATOR       \n7                                UNRELIABLE NARRATOR       \n8                      I'M FUCKING ITALIAN OVER HERE       \n9                      I'M FUCKING ITALIAN OVER HERE       \n\n  What theme should we explore next week? [Second Choice]  \\\n0                      I'M FUCKING ITALIAN OVER HERE        \n1                              No Theme/Free-for-all        \n2                                        TIME TRAVEL        \n3                                UNRELIABLE NARRATOR        \n4                                            SPORTS!        \n5                                        TIME TRAVEL        \n6                      I'M FUCKING ITALIAN OVER HERE        \n7                      I'M FUCKING ITALIAN OVER HERE        \n8                                          EUROTRASH        \n9                                        TIME TRAVEL        \n\n  What theme should we explore next week? [Third Choice]  \\\n0                                        TIME TRAVEL       \n1                                UNRELIABLE NARRATOR       \n2                              No Theme/Free-for-all       \n3                      I'M FUCKING ITALIAN OVER HERE       \n4                      I'M FUCKING ITALIAN OVER HERE       \n5                                UNRELIABLE NARRATOR       \n6                                        TIME TRAVEL       \n7                                            SPORTS!       \n8                                UNRELIABLE NARRATOR       \n9                                          EUROTRASH       \n\n  What theme should we explore next week? [Fourth Choice]  \\\n0                                UNRELIABLE NARRATOR        \n1                                            SPORTS!        \n2                                UNRELIABLE NARRATOR        \n3                                            SPORTS!        \n4                                          EUROTRASH        \n5                                            SPORTS!        \n6                                            SPORTS!        \n7                                                NaN        \n8                                            SPORTS!        \n9                                UNRELIABLE NARRATOR        \n\n  What theme should we explore next week? [Fifth Choice]  \\\n0                                            SPORTS!       \n1                                          EUROTRASH       \n2                                          EUROTRASH       \n3                                          EUROTRASH       \n4                              No Theme/Free-for-all       \n5                      I'M FUCKING ITALIAN OVER HERE       \n6                                          EUROTRASH       \n7                                                NaN       \n8                                        TIME TRAVEL       \n9                                                NaN       \n\n  What theme should we explore next week? [Sixth Choice]  \n0                              No Theme/Free-for-all      \n1                                        TIME TRAVEL      \n2                      I'M FUCKING ITALIAN OVER HERE      \n3                              No Theme/Free-for-all      \n4                                UNRELIABLE NARRATOR      \n5                                                NaN      \n6                              No Theme/Free-for-all      \n7                                                NaN      \n8                              No Theme/Free-for-all      \n9                                                NaN      ",
      "text/html": "<div>\n<style scoped>\n    .dataframe tbody tr th:only-of-type {\n        vertical-align: middle;\n    }\n\n    .dataframe tbody tr th {\n        vertical-align: top;\n    }\n\n    .dataframe thead th {\n        text-align: right;\n    }\n</style>\n<table border=\"1\" class=\"dataframe\">\n  <thead>\n    <tr style=\"text-align: right;\">\n      <th></th>\n      <th>Timestamp</th>\n      <th>Rank your movie choices. You don't have to do a full ranking. [First Choice]</th>\n      <th>Rank your movie choices. You don't have to do a full ranking. [Second Choice]</th>\n      <th>Rank your movie choices. You don't have to do a full ranking. [Third Choice]</th>\n      <th>Rank your movie choices. You don't have to do a full ranking. [Fourth Choice]</th>\n      <th>Rank your movie choices. You don't have to do a full ranking. [Fifth Choice]</th>\n      <th>What theme should we explore next week? [First Choice]</th>\n      <th>What theme should we explore next week? [Second Choice]</th>\n      <th>What theme should we explore next week? [Third Choice]</th>\n      <th>What theme should we explore next week? [Fourth Choice]</th>\n      <th>What theme should we explore next week? [Fifth Choice]</th>\n      <th>What theme should we explore next week? [Sixth Choice]</th>\n    </tr>\n  </thead>\n  <tbody>\n    <tr>\n      <th>0</th>\n      <td>7/15/2020 18:08:51</td>\n      <td>Your Name.</td>\n      <td>UHF</td>\n      <td>The Night of the Hunter</td>\n      <td>The Spirit of the Beehive</td>\n      <td>The Secret Garden</td>\n      <td>EUROTRASH</td>\n      <td>I'M FUCKING ITALIAN OVER HERE</td>\n      <td>TIME TRAVEL</td>\n      <td>UNRELIABLE NARRATOR</td>\n      <td>SPORTS!</td>\n      <td>No Theme/Free-for-all</td>\n    </tr>\n    <tr>\n      <th>1</th>\n      <td>7/15/2020 18:23:44</td>\n      <td>The Spirit of the Beehive</td>\n      <td>Your Name.</td>\n      <td>UHF</td>\n      <td>The Secret Garden</td>\n      <td>NaN</td>\n      <td>I'M FUCKING ITALIAN OVER HERE</td>\n      <td>No Theme/Free-for-all</td>\n      <td>UNRELIABLE NARRATOR</td>\n      <td>SPORTS!</td>\n      <td>EUROTRASH</td>\n      <td>TIME TRAVEL</td>\n    </tr>\n    <tr>\n      <th>2</th>\n      <td>7/15/2020 18:42:25</td>\n      <td>UHF</td>\n      <td>The Spirit of the Beehive</td>\n      <td>Your Name.</td>\n      <td>The Night of the Hunter</td>\n      <td>The Secret Garden</td>\n      <td>SPORTS!</td>\n      <td>TIME TRAVEL</td>\n      <td>No Theme/Free-for-all</td>\n      <td>UNRELIABLE NARRATOR</td>\n      <td>EUROTRASH</td>\n      <td>I'M FUCKING ITALIAN OVER HERE</td>\n    </tr>\n    <tr>\n      <th>3</th>\n      <td>7/15/2020 18:43:05</td>\n      <td>Your Name.</td>\n      <td>UHF</td>\n      <td>The Night of the Hunter</td>\n      <td>The Spirit of the Beehive</td>\n      <td>The Secret Garden</td>\n      <td>TIME TRAVEL</td>\n      <td>UNRELIABLE NARRATOR</td>\n      <td>I'M FUCKING ITALIAN OVER HERE</td>\n      <td>SPORTS!</td>\n      <td>EUROTRASH</td>\n      <td>No Theme/Free-for-all</td>\n    </tr>\n    <tr>\n      <th>4</th>\n      <td>7/15/2020 19:13:59</td>\n      <td>Your Name.</td>\n      <td>UHF</td>\n      <td>The Secret Garden</td>\n      <td>NaN</td>\n      <td>NaN</td>\n      <td>TIME TRAVEL</td>\n      <td>SPORTS!</td>\n      <td>I'M FUCKING ITALIAN OVER HERE</td>\n      <td>EUROTRASH</td>\n      <td>No Theme/Free-for-all</td>\n      <td>UNRELIABLE NARRATOR</td>\n    </tr>\n    <tr>\n      <th>5</th>\n      <td>7/15/2020 19:19:59</td>\n      <td>The Night of the Hunter</td>\n      <td>UHF</td>\n      <td>NaN</td>\n      <td>NaN</td>\n      <td>NaN</td>\n      <td>EUROTRASH</td>\n      <td>TIME TRAVEL</td>\n      <td>UNRELIABLE NARRATOR</td>\n      <td>SPORTS!</td>\n      <td>I'M FUCKING ITALIAN OVER HERE</td>\n      <td>NaN</td>\n    </tr>\n    <tr>\n      <th>6</th>\n      <td>7/15/2020 19:25:54</td>\n      <td>The Night of the Hunter</td>\n      <td>Your Name.</td>\n      <td>UHF</td>\n      <td>The Secret Garden</td>\n      <td>The Spirit of the Beehive</td>\n      <td>UNRELIABLE NARRATOR</td>\n      <td>I'M FUCKING ITALIAN OVER HERE</td>\n      <td>TIME TRAVEL</td>\n      <td>SPORTS!</td>\n      <td>EUROTRASH</td>\n      <td>No Theme/Free-for-all</td>\n    </tr>\n    <tr>\n      <th>7</th>\n      <td>7/15/2020 20:55:03</td>\n      <td>Your Name.</td>\n      <td>UHF</td>\n      <td>The Secret Garden</td>\n      <td>NaN</td>\n      <td>NaN</td>\n      <td>UNRELIABLE NARRATOR</td>\n      <td>I'M FUCKING ITALIAN OVER HERE</td>\n      <td>SPORTS!</td>\n      <td>NaN</td>\n      <td>NaN</td>\n      <td>NaN</td>\n    </tr>\n    <tr>\n      <th>8</th>\n      <td>7/15/2020 23:30:40</td>\n      <td>The Night of the Hunter</td>\n      <td>The Spirit of the Beehive</td>\n      <td>The Secret Garden</td>\n      <td>UHF</td>\n      <td>Your Name.</td>\n      <td>I'M FUCKING ITALIAN OVER HERE</td>\n      <td>EUROTRASH</td>\n      <td>UNRELIABLE NARRATOR</td>\n      <td>SPORTS!</td>\n      <td>TIME TRAVEL</td>\n      <td>No Theme/Free-for-all</td>\n    </tr>\n    <tr>\n      <th>9</th>\n      <td>7/16/2020 11:32:53</td>\n      <td>Your Name.</td>\n      <td>The Night of the Hunter</td>\n      <td>UHF</td>\n      <td>The Secret Garden</td>\n      <td>The Spirit of the Beehive</td>\n      <td>I'M FUCKING ITALIAN OVER HERE</td>\n      <td>TIME TRAVEL</td>\n      <td>EUROTRASH</td>\n      <td>UNRELIABLE NARRATOR</td>\n      <td>NaN</td>\n      <td>NaN</td>\n    </tr>\n  </tbody>\n</table>\n</div>"
     },
     "execution_count": 14,
     "metadata": {},
     "output_type": "execute_result"
    }
   ],
   "source": [
    "df = pd.read_csv(Path('./data/20200720.csv').resolve())\n",
    "df"
   ]
  },
  {
   "cell_type": "code",
   "execution_count": 15,
   "metadata": {},
   "outputs": [],
   "source": [
    "just_ballots = df.loc[:, df.columns.str.startswith('Rank')]\n",
    "next_week = df.loc[:, df.columns.str.startswith('What')]"
   ]
  },
  {
   "cell_type": "code",
   "execution_count": 16,
   "metadata": {},
   "outputs": [
    {
     "data": {
      "text/plain": "array(['Your Name.', 'UHF', 'The Night of the Hunter',\n       'The Spirit of the Beehive', 'The Secret Garden'], dtype=object)"
     },
     "execution_count": 16,
     "metadata": {},
     "output_type": "execute_result"
    }
   ],
   "source": [
    "submissions = just_ballots.loc[just_ballots.notna().all(axis=1).idxmax(),:].values\n",
    "submissions"
   ]
  },
  {
   "cell_type": "code",
   "execution_count": 17,
   "metadata": {},
   "outputs": [],
   "source": [
    "submission_dict = {submission: pyrankvote.Candidate(submission) for submission in submissions}"
   ]
  },
  {
   "cell_type": "code",
   "execution_count": 18,
   "metadata": {},
   "outputs": [],
   "source": [
    "balloted = just_ballots.applymap(lambda x: submission_dict[x] if isinstance(x, str) else x)"
   ]
  },
  {
   "cell_type": "code",
   "execution_count": 19,
   "metadata": {},
   "outputs": [
    {
     "data": {
      "text/plain": "{'Your Name.': <Candidate('Your Name.')>,\n 'UHF': <Candidate('UHF')>,\n 'The Night of the Hunter': <Candidate('The Night of the Hunter')>,\n 'The Spirit of the Beehive': <Candidate('The Spirit of the Beehive')>,\n 'The Secret Garden': <Candidate('The Secret Garden')>}"
     },
     "execution_count": 19,
     "metadata": {},
     "output_type": "execute_result"
    }
   ],
   "source": [
    "submission_dict"
   ]
  },
  {
   "cell_type": "code",
   "execution_count": 20,
   "metadata": {},
   "outputs": [],
   "source": [
    "ballots = []\n",
    "for ballot in balloted.itertuples():\n",
    "    ballots.append(pyrankvote.Ballot(ranked_candidates=[b for b in ballot if isinstance(b, pyrankvote.Candidate)]))"
   ]
  },
  {
   "cell_type": "code",
   "execution_count": 21,
   "metadata": {},
   "outputs": [
    {
     "data": {
      "text/plain": "[<Ballot(Your Name., UHF, The Night of the Hunter, The Spirit of the Beehive, The Secret Garden)>,\n <Ballot(The Spirit of the Beehive, Your Name., UHF, The Secret Garden)>,\n <Ballot(UHF, The Spirit of the Beehive, Your Name., The Night of the Hunter, The Secret Garden)>,\n <Ballot(Your Name., UHF, The Night of the Hunter, The Spirit of the Beehive, The Secret Garden)>,\n <Ballot(Your Name., UHF, The Secret Garden)>,\n <Ballot(The Night of the Hunter, UHF)>,\n <Ballot(The Night of the Hunter, Your Name., UHF, The Secret Garden, The Spirit of the Beehive)>,\n <Ballot(Your Name., UHF, The Secret Garden)>,\n <Ballot(The Night of the Hunter, The Spirit of the Beehive, The Secret Garden, UHF, Your Name.)>,\n <Ballot(Your Name., The Night of the Hunter, UHF, The Secret Garden, The Spirit of the Beehive)>]"
     },
     "execution_count": 21,
     "metadata": {},
     "output_type": "execute_result"
    }
   ],
   "source": [
    "ballots"
   ]
  },
  {
   "cell_type": "code",
   "execution_count": 22,
   "metadata": {},
   "outputs": [],
   "source": [
    "election_result = pyrankvote.instant_runoff_voting(submission_dict.values(), ballots,)"
   ]
  },
  {
   "cell_type": "code",
   "execution_count": 23,
   "metadata": {},
   "outputs": [
    {
     "name": "stdout",
     "output_type": "stream",
     "text": [
      "FINAL RESULT\n",
      "Candidate                    Votes  Status\n",
      "-------------------------  -------  --------\n",
      "Your Name.                       5  Elected\n",
      "The Night of the Hunter          3  Rejected\n",
      "UHF                              1  Rejected\n",
      "The Spirit of the Beehive        1  Rejected\n",
      "The Secret Garden                0  Rejected\n",
      "\n"
     ]
    }
   ],
   "source": [
    "print(election_result)"
   ]
  },
  {
   "cell_type": "code",
   "execution_count": 24,
   "metadata": {},
   "outputs": [
    {
     "name": "stdout",
     "output_type": "stream",
     "text": [
      "ROUND 1\n",
      "Candidate                        Votes  Status\n",
      "-----------------------------  -------  --------\n",
      "I'M FUCKING ITALIAN OVER HERE        3  Hopeful\n",
      "TIME TRAVEL                          2  Hopeful\n",
      "UNRELIABLE NARRATOR                  2  Hopeful\n",
      "EUROTRASH                            2  Hopeful\n",
      "SPORTS!                              1  Rejected\n",
      "No Theme/Free-for-all                0  Rejected\n",
      "\n",
      "ROUND 2\n",
      "Candidate                        Votes  Status\n",
      "-----------------------------  -------  --------\n",
      "I'M FUCKING ITALIAN OVER HERE        3  Hopeful\n",
      "TIME TRAVEL                          3  Hopeful\n",
      "UNRELIABLE NARRATOR                  2  Hopeful\n",
      "EUROTRASH                            2  Rejected\n",
      "SPORTS!                              0  Rejected\n",
      "No Theme/Free-for-all                0  Rejected\n",
      "\n",
      "ROUND 3\n",
      "Candidate                        Votes  Status\n",
      "-----------------------------  -------  --------\n",
      "I'M FUCKING ITALIAN OVER HERE        4  Hopeful\n",
      "TIME TRAVEL                          4  Hopeful\n",
      "UNRELIABLE NARRATOR                  2  Rejected\n",
      "EUROTRASH                            0  Rejected\n",
      "SPORTS!                              0  Rejected\n",
      "No Theme/Free-for-all                0  Rejected\n",
      "\n",
      "FINAL RESULT\n",
      "Candidate                        Votes  Status\n",
      "-----------------------------  -------  --------\n",
      "I'M FUCKING ITALIAN OVER HERE        6  Elected\n",
      "TIME TRAVEL                          4  Rejected\n",
      "UNRELIABLE NARRATOR                  0  Rejected\n",
      "EUROTRASH                            0  Rejected\n",
      "SPORTS!                              0  Rejected\n",
      "No Theme/Free-for-all                0  Rejected\n",
      "\n"
     ]
    }
   ],
   "source": [
    "submissions = next_week.loc[next_week.notna().all(axis=1).idxmax(),:].values\n",
    "submission_dict = {submission: pyrankvote.Candidate(submission) for submission in submissions}\n",
    "balloted = next_week.applymap(lambda x: submission_dict[x] if isinstance(x, str) else x)\n",
    "ballots = []\n",
    "for ballot in balloted.itertuples():\n",
    "    ballots.append(pyrankvote.Ballot(ranked_candidates=[b for b in ballot if isinstance(b, pyrankvote.Candidate)]))\n",
    "print(pyrankvote.instant_runoff_voting(submission_dict.values(), ballots,))"
   ]
  }
 ],
 "metadata": {
  "kernelspec": {
   "display_name": "Python 3",
   "language": "python",
   "name": "python3"
  },
  "language_info": {
   "codemirror_mode": {
    "name": "ipython",
    "version": 3
   },
   "file_extension": ".py",
   "mimetype": "text/x-python",
   "name": "python",
   "nbconvert_exporter": "python",
   "pygments_lexer": "ipython3",
   "version": "3.7.4"
  }
 },
 "nbformat": 4,
 "nbformat_minor": 2
}