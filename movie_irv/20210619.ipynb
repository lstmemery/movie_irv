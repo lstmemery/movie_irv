{
 "cells": [
  {
   "cell_type": "code",
   "execution_count": 1,
   "metadata": {},
   "outputs": [],
   "source": [
    "import pandas as pd\n",
    "import pyrankvote\n",
    "from pathlib import Path\n",
    "from random import seed\n",
    "seed(252)"
   ]
  },
  {
   "cell_type": "code",
   "execution_count": 2,
   "metadata": {},
   "outputs": [
    {
     "data": {
      "text/plain": "             Timestamp  \\\n0  15/06/2021 20:22:01   \n1  15/06/2021 20:38:32   \n2  17/06/2021 04:58:40   \n3  17/06/2021 05:00:18   \n4  17/06/2021 14:18:29   \n\n  Rank your movie choices. You don't have to do a full ranking. [First Choice]  \\\n0                                A Generation (1955)                             \n1                                A Generation (1955)                             \n2                                    Drug War (2012)                             \n3                                    Drug War (2012)                             \n4                                   Stray Dog (1949)                             \n\n  Rank your movie choices. You don't have to do a full ranking. [Second Choice]  \\\n0                                   Stray Dog (1949)                              \n1                                       Shiri (1999)                              \n2                             The Long Riders (1980)                              \n3                                 Guns Akimbo (2019)                              \n4                                A Generation (1955)                              \n\n  Rank your movie choices. You don't have to do a full ranking. [Third Choice]  \\\n0                                       Shiri (1999)                             \n1                                 Guns Akimbo (2019)                             \n2                                   Stray Dog (1949)                             \n3                                A Generation (1955)                             \n4                             The Long Riders (1980)                             \n\n  Rank your movie choices. You don't have to do a full ranking. [Fourth Choice]  \\\n0                                    Drug War (2012)                              \n1                                   Stray Dog (1949)                              \n2                                 Guns Akimbo (2019)                              \n3                                   Stray Dog (1949)                              \n4                                    Drug War (2012)                              \n\n  Rank your movie choices. You don't have to do a full ranking. [Fifth Choice]  \\\n0                             The Long Riders (1980)                             \n1                                    Drug War (2012)                             \n2                                       Shiri (1999)                             \n3                                       Shiri (1999)                             \n4                                 Guns Akimbo (2019)                             \n\n  Rank your movie choices. You don't have to do a full ranking. [Sixth Choice]  \\\n0                                 Guns Akimbo (2019)                             \n1                             The Long Riders (1980)                             \n2                                A Generation (1955)                             \n3                             The Long Riders (1980)                             \n4                                       Shiri (1999)                             \n\n  What theme should we explore next week? [First Choice]  \\\n0                                   THE GLOBAL SOUTH       \n1                                          BOLLYWOOD       \n2                                   THE GLOBAL SOUTH       \n3                              LET'S PUT ON A SHOW!!       \n4                 BOXING IS THE GREATEST MOVIE SPORT       \n\n  What theme should we explore next week? [Second Choice]  \\\n0                                MOVIE ABOUT A PARTY        \n1                                MOVIE ABOUT A PARTY        \n2                                          BOLLYWOOD        \n3                     LOW EXPECTATIONS, DECENT MOVIE        \n4                     LOW EXPECTATIONS, DECENT MOVIE        \n\n  What theme should we explore next week? [Third Choice]  \\\n0                 BOXING IS THE GREATEST MOVIE SPORT       \n1                          [Default to Nicolas Cage]       \n2                          [Default to Nicolas Cage]       \n3                 BOXING IS THE GREATEST MOVIE SPORT       \n4                              LET'S PUT ON A SHOW!!       \n\n  What theme should we explore next week? [Fourth Choice]  \\\n0                                          BOLLYWOOD        \n1                              LET'S PUT ON A SHOW!!        \n2                                MOVIE ABOUT A PARTY        \n3                                          BOLLYWOOD        \n4                                MOVIE ABOUT A PARTY        \n\n  What theme should we explore next week? [Fifth Choice]  \\\n0                          [Default to Nicolas Cage]       \n1                     LOW EXPECTATIONS, DECENT MOVIE       \n2                     LOW EXPECTATIONS, DECENT MOVIE       \n3                                MOVIE ABOUT A PARTY       \n4                          [Default to Nicolas Cage]       \n\n  What theme should we explore next week? [Sixth Choice]  \\\n0                              LET'S PUT ON A SHOW!!       \n1                                   THE GLOBAL SOUTH       \n2                 BOXING IS THE GREATEST MOVIE SPORT       \n3                                   THE GLOBAL SOUTH       \n4                                   THE GLOBAL SOUTH       \n\n  What theme should we explore next week? [Seventh Choice]  \n0                     LOW EXPECTATIONS, DECENT MOVIE        \n1                 BOXING IS THE GREATEST MOVIE SPORT        \n2                              LET'S PUT ON A SHOW!!        \n3                          [Default to Nicolas Cage]        \n4                                          BOLLYWOOD        ",
      "text/html": "<div>\n<style scoped>\n    .dataframe tbody tr th:only-of-type {\n        vertical-align: middle;\n    }\n\n    .dataframe tbody tr th {\n        vertical-align: top;\n    }\n\n    .dataframe thead th {\n        text-align: right;\n    }\n</style>\n<table border=\"1\" class=\"dataframe\">\n  <thead>\n    <tr style=\"text-align: right;\">\n      <th></th>\n      <th>Timestamp</th>\n      <th>Rank your movie choices. You don't have to do a full ranking. [First Choice]</th>\n      <th>Rank your movie choices. You don't have to do a full ranking. [Second Choice]</th>\n      <th>Rank your movie choices. You don't have to do a full ranking. [Third Choice]</th>\n      <th>Rank your movie choices. You don't have to do a full ranking. [Fourth Choice]</th>\n      <th>Rank your movie choices. You don't have to do a full ranking. [Fifth Choice]</th>\n      <th>Rank your movie choices. You don't have to do a full ranking. [Sixth Choice]</th>\n      <th>What theme should we explore next week? [First Choice]</th>\n      <th>What theme should we explore next week? [Second Choice]</th>\n      <th>What theme should we explore next week? [Third Choice]</th>\n      <th>What theme should we explore next week? [Fourth Choice]</th>\n      <th>What theme should we explore next week? [Fifth Choice]</th>\n      <th>What theme should we explore next week? [Sixth Choice]</th>\n      <th>What theme should we explore next week? [Seventh Choice]</th>\n    </tr>\n  </thead>\n  <tbody>\n    <tr>\n      <th>0</th>\n      <td>15/06/2021 20:22:01</td>\n      <td>A Generation (1955)</td>\n      <td>Stray Dog (1949)</td>\n      <td>Shiri (1999)</td>\n      <td>Drug War (2012)</td>\n      <td>The Long Riders (1980)</td>\n      <td>Guns Akimbo (2019)</td>\n      <td>THE GLOBAL SOUTH</td>\n      <td>MOVIE ABOUT A PARTY</td>\n      <td>BOXING IS THE GREATEST MOVIE SPORT</td>\n      <td>BOLLYWOOD</td>\n      <td>[Default to Nicolas Cage]</td>\n      <td>LET'S PUT ON A SHOW!!</td>\n      <td>LOW EXPECTATIONS, DECENT MOVIE</td>\n    </tr>\n    <tr>\n      <th>1</th>\n      <td>15/06/2021 20:38:32</td>\n      <td>A Generation (1955)</td>\n      <td>Shiri (1999)</td>\n      <td>Guns Akimbo (2019)</td>\n      <td>Stray Dog (1949)</td>\n      <td>Drug War (2012)</td>\n      <td>The Long Riders (1980)</td>\n      <td>BOLLYWOOD</td>\n      <td>MOVIE ABOUT A PARTY</td>\n      <td>[Default to Nicolas Cage]</td>\n      <td>LET'S PUT ON A SHOW!!</td>\n      <td>LOW EXPECTATIONS, DECENT MOVIE</td>\n      <td>THE GLOBAL SOUTH</td>\n      <td>BOXING IS THE GREATEST MOVIE SPORT</td>\n    </tr>\n    <tr>\n      <th>2</th>\n      <td>17/06/2021 04:58:40</td>\n      <td>Drug War (2012)</td>\n      <td>The Long Riders (1980)</td>\n      <td>Stray Dog (1949)</td>\n      <td>Guns Akimbo (2019)</td>\n      <td>Shiri (1999)</td>\n      <td>A Generation (1955)</td>\n      <td>THE GLOBAL SOUTH</td>\n      <td>BOLLYWOOD</td>\n      <td>[Default to Nicolas Cage]</td>\n      <td>MOVIE ABOUT A PARTY</td>\n      <td>LOW EXPECTATIONS, DECENT MOVIE</td>\n      <td>BOXING IS THE GREATEST MOVIE SPORT</td>\n      <td>LET'S PUT ON A SHOW!!</td>\n    </tr>\n    <tr>\n      <th>3</th>\n      <td>17/06/2021 05:00:18</td>\n      <td>Drug War (2012)</td>\n      <td>Guns Akimbo (2019)</td>\n      <td>A Generation (1955)</td>\n      <td>Stray Dog (1949)</td>\n      <td>Shiri (1999)</td>\n      <td>The Long Riders (1980)</td>\n      <td>LET'S PUT ON A SHOW!!</td>\n      <td>LOW EXPECTATIONS, DECENT MOVIE</td>\n      <td>BOXING IS THE GREATEST MOVIE SPORT</td>\n      <td>BOLLYWOOD</td>\n      <td>MOVIE ABOUT A PARTY</td>\n      <td>THE GLOBAL SOUTH</td>\n      <td>[Default to Nicolas Cage]</td>\n    </tr>\n    <tr>\n      <th>4</th>\n      <td>17/06/2021 14:18:29</td>\n      <td>Stray Dog (1949)</td>\n      <td>A Generation (1955)</td>\n      <td>The Long Riders (1980)</td>\n      <td>Drug War (2012)</td>\n      <td>Guns Akimbo (2019)</td>\n      <td>Shiri (1999)</td>\n      <td>BOXING IS THE GREATEST MOVIE SPORT</td>\n      <td>LOW EXPECTATIONS, DECENT MOVIE</td>\n      <td>LET'S PUT ON A SHOW!!</td>\n      <td>MOVIE ABOUT A PARTY</td>\n      <td>[Default to Nicolas Cage]</td>\n      <td>THE GLOBAL SOUTH</td>\n      <td>BOLLYWOOD</td>\n    </tr>\n  </tbody>\n</table>\n</div>"
     },
     "execution_count": 2,
     "metadata": {},
     "output_type": "execute_result"
    }
   ],
   "source": [
    "df = pd.read_csv(Path('./data/20210619.csv').resolve())\n",
    "df"
   ]
  },
  {
   "cell_type": "code",
   "execution_count": 3,
   "metadata": {},
   "outputs": [],
   "source": [
    "just_ballots = df.loc[:, df.columns.str.startswith('Rank')]\n",
    "next_week = df.loc[:, df.columns.str.startswith('What')]"
   ]
  },
  {
   "cell_type": "code",
   "execution_count": 4,
   "metadata": {},
   "outputs": [
    {
     "data": {
      "text/plain": "array(['A Generation (1955)', 'Stray Dog (1949)', 'Shiri (1999)',\n       'Drug War (2012)', 'The Long Riders (1980)', 'Guns Akimbo (2019)'],\n      dtype=object)"
     },
     "execution_count": 4,
     "metadata": {},
     "output_type": "execute_result"
    }
   ],
   "source": [
    "submissions = just_ballots.loc[just_ballots.notna().all(axis=1).idxmax(),:].values\n",
    "submissions"
   ]
  },
  {
   "cell_type": "code",
   "execution_count": 5,
   "metadata": {},
   "outputs": [],
   "source": [
    "submission_dict = {submission: pyrankvote.Candidate(submission) for submission in submissions}"
   ]
  },
  {
   "cell_type": "code",
   "execution_count": 6,
   "metadata": {},
   "outputs": [],
   "source": [
    "balloted = just_ballots.applymap(lambda x: submission_dict[x] if isinstance(x, str) else x)"
   ]
  },
  {
   "cell_type": "code",
   "execution_count": 7,
   "metadata": {},
   "outputs": [
    {
     "data": {
      "text/plain": "{'A Generation (1955)': <Candidate('A Generation (1955)')>,\n 'Stray Dog (1949)': <Candidate('Stray Dog (1949)')>,\n 'Shiri (1999)': <Candidate('Shiri (1999)')>,\n 'Drug War (2012)': <Candidate('Drug War (2012)')>,\n 'The Long Riders (1980)': <Candidate('The Long Riders (1980)')>,\n 'Guns Akimbo (2019)': <Candidate('Guns Akimbo (2019)')>}"
     },
     "execution_count": 7,
     "metadata": {},
     "output_type": "execute_result"
    }
   ],
   "source": [
    "submission_dict"
   ]
  },
  {
   "cell_type": "code",
   "execution_count": 8,
   "metadata": {},
   "outputs": [],
   "source": [
    "ballots = []\n",
    "for ballot in balloted.itertuples():\n",
    "    ballots.append(pyrankvote.Ballot(ranked_candidates=[b for b in ballot if isinstance(b, pyrankvote.Candidate)]))"
   ]
  },
  {
   "cell_type": "code",
   "execution_count": 9,
   "metadata": {},
   "outputs": [
    {
     "data": {
      "text/plain": "[<Ballot(A Generation (1955), Stray Dog (1949), Shiri (1999), Drug War (2012), The Long Riders (1980), Guns Akimbo (2019))>,\n <Ballot(A Generation (1955), Shiri (1999), Guns Akimbo (2019), Stray Dog (1949), Drug War (2012), The Long Riders (1980))>,\n <Ballot(Drug War (2012), The Long Riders (1980), Stray Dog (1949), Guns Akimbo (2019), Shiri (1999), A Generation (1955))>,\n <Ballot(Drug War (2012), Guns Akimbo (2019), A Generation (1955), Stray Dog (1949), Shiri (1999), The Long Riders (1980))>,\n <Ballot(Stray Dog (1949), A Generation (1955), The Long Riders (1980), Drug War (2012), Guns Akimbo (2019), Shiri (1999))>]"
     },
     "execution_count": 9,
     "metadata": {},
     "output_type": "execute_result"
    }
   ],
   "source": [
    "ballots"
   ]
  },
  {
   "cell_type": "code",
   "execution_count": 10,
   "metadata": {},
   "outputs": [],
   "source": [
    "election_result = pyrankvote.instant_runoff_voting(submission_dict.values(), ballots,)"
   ]
  },
  {
   "cell_type": "code",
   "execution_count": 11,
   "metadata": {},
   "outputs": [
    {
     "name": "stdout",
     "output_type": "stream",
     "text": [
      "ROUND 1\n",
      "Candidate                 Votes  Status\n",
      "----------------------  -------  --------\n",
      "A Generation (1955)           2  Hopeful\n",
      "Drug War (2012)               2  Hopeful\n",
      "Stray Dog (1949)              1  Rejected\n",
      "Guns Akimbo (2019)            0  Rejected\n",
      "Shiri (1999)                  0  Rejected\n",
      "The Long Riders (1980)        0  Rejected\n",
      "\n",
      "FINAL RESULT\n",
      "Candidate                 Votes  Status\n",
      "----------------------  -------  --------\n",
      "A Generation (1955)           3  Elected\n",
      "Drug War (2012)               2  Rejected\n",
      "Stray Dog (1949)              0  Rejected\n",
      "Guns Akimbo (2019)            0  Rejected\n",
      "Shiri (1999)                  0  Rejected\n",
      "The Long Riders (1980)        0  Rejected\n",
      "\n"
     ]
    }
   ],
   "source": [
    "print(election_result)"
   ]
  },
  {
   "cell_type": "code",
   "execution_count": 12,
   "metadata": {},
   "outputs": [
    {
     "name": "stdout",
     "output_type": "stream",
     "text": [
      "ROUND 1\n",
      "Candidate                             Votes  Status\n",
      "----------------------------------  -------  --------\n",
      "THE GLOBAL SOUTH                          2  Hopeful\n",
      "BOLLYWOOD                                 1  Hopeful\n",
      "BOXING IS THE GREATEST MOVIE SPORT        1  Hopeful\n",
      "LET'S PUT ON A SHOW!!                     1  Rejected\n",
      "MOVIE ABOUT A PARTY                       0  Rejected\n",
      "LOW EXPECTATIONS, DECENT MOVIE            0  Rejected\n",
      "[Default to Nicolas Cage]                 0  Rejected\n",
      "\n",
      "ROUND 2\n",
      "Candidate                             Votes  Status\n",
      "----------------------------------  -------  --------\n",
      "THE GLOBAL SOUTH                          2  Hopeful\n",
      "BOXING IS THE GREATEST MOVIE SPORT        2  Hopeful\n",
      "BOLLYWOOD                                 1  Rejected\n",
      "LET'S PUT ON A SHOW!!                     0  Rejected\n",
      "MOVIE ABOUT A PARTY                       0  Rejected\n",
      "LOW EXPECTATIONS, DECENT MOVIE            0  Rejected\n",
      "[Default to Nicolas Cage]                 0  Rejected\n",
      "\n",
      "FINAL RESULT\n",
      "Candidate                             Votes  Status\n",
      "----------------------------------  -------  --------\n",
      "THE GLOBAL SOUTH                          3  Elected\n",
      "BOXING IS THE GREATEST MOVIE SPORT        2  Rejected\n",
      "BOLLYWOOD                                 0  Rejected\n",
      "LET'S PUT ON A SHOW!!                     0  Rejected\n",
      "MOVIE ABOUT A PARTY                       0  Rejected\n",
      "LOW EXPECTATIONS, DECENT MOVIE            0  Rejected\n",
      "[Default to Nicolas Cage]                 0  Rejected\n",
      "\n"
     ]
    }
   ],
   "source": [
    "submissions = next_week.loc[next_week.notna().all(axis=1).idxmax(),:].values\n",
    "submission_dict = {submission: pyrankvote.Candidate(submission) for submission in submissions}\n",
    "balloted = next_week.applymap(lambda x: submission_dict[x] if isinstance(x, str) else x)\n",
    "ballots = []\n",
    "for ballot in balloted.itertuples():\n",
    "    ballots.append(pyrankvote.Ballot(ranked_candidates=[b for b in ballot if isinstance(b, pyrankvote.Candidate)]))\n",
    "print(pyrankvote.instant_runoff_voting(submission_dict.values(), ballots,))"
   ]
  }
 ],
 "metadata": {
  "kernelspec": {
   "display_name": "Python 3",
   "language": "python",
   "name": "python3"
  },
  "language_info": {
   "codemirror_mode": {
    "name": "ipython",
    "version": 3
   },
   "file_extension": ".py",
   "mimetype": "text/x-python",
   "name": "python",
   "nbconvert_exporter": "python",
   "pygments_lexer": "ipython3",
   "version": "3.7.4"
  }
 },
 "nbformat": 4,
 "nbformat_minor": 2
}