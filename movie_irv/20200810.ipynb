{
 "cells": [
  {
   "cell_type": "code",
   "execution_count": 1,
   "metadata": {},
   "outputs": [],
   "source": [
    "import pandas as pd\n",
    "import pyrankvote\n",
    "from pathlib import Path"
   ]
  },
  {
   "cell_type": "code",
   "execution_count": 2,
   "metadata": {},
   "outputs": [
    {
     "data": {
      "text/plain": "           Timestamp  \\\n0  8/5/2020 17:49:40   \n1  8/5/2020 17:55:52   \n2  8/5/2020 18:12:21   \n3  8/5/2020 20:14:18   \n4  8/5/2020 21:34:40   \n5   8/6/2020 8:03:24   \n6   8/8/2020 9:07:21   \n7   8/8/2020 9:36:13   \n8  8/8/2020 16:05:13   \n\n  Rank your movie choices. You don't have to do a full ranking. [First Choice]  \\\n0                                  The Great Silence                             \n1                                  The Great Silence                             \n2                                  The Great Silence                             \n3                                  The Great Silence                             \n4                             Meathead Goes Hog Wild                             \n5                                  The Great Silence                             \n6                             Meathead Goes Hog Wild                             \n7                             Meathead Goes Hog Wild                             \n8                                    West Side Story                             \n\n  Rank your movie choices. You don't have to do a full ranking. [Second Choice]  \\\n0                                Hands Off the Loot!                              \n1                                Hands Off the Loot!                              \n2                                       Pumping Iron                              \n3                                       Pumping Iron                              \n4                                  The Great Silence                              \n5                                Hands Off the Loot!                              \n6                                  The Great Silence                              \n7                                  The Great Silence                              \n8                                  The Great Silence                              \n\n  Rank your movie choices. You don't have to do a full ranking. [Third Choice]  \\\n0                         Pumping Iron II: The Women                             \n1                             Meathead Goes Hog Wild                             \n2                             Meathead Goes Hog Wild                             \n3                             Meathead Goes Hog Wild                             \n4                                Hands Off the Loot!                             \n5                             Meathead Goes Hog Wild                             \n6                                Hands Off the Loot!                             \n7                                       Pumping Iron                             \n8                             Meathead Goes Hog Wild                             \n\n  Rank your movie choices. You don't have to do a full ranking. [Fourth Choice]  \\\n0                             Meathead Goes Hog Wild                              \n1                                       Pumping Iron                              \n2                         Pumping Iron II: The Women                              \n3                                Hands Off the Loot!                              \n4                                       Pumping Iron                              \n5                         Pumping Iron II: The Women                              \n6                         Pumping Iron II: The Women                              \n7                                    West Side Story                              \n8                         Pumping Iron II: The Women                              \n\n  Rank your movie choices. You don't have to do a full ranking. [Fifth Choice]  \\\n0                                    West Side Story                             \n1                         Pumping Iron II: The Women                             \n2                                Hands Off the Loot!                             \n3                                                NaN                             \n4                         Pumping Iron II: The Women                             \n5                                       Pumping Iron                             \n6                                       Pumping Iron                             \n7                         Pumping Iron II: The Women                             \n8                                                NaN                             \n\n  Rank your movie choices. You don't have to do a full ranking. [Sixth Choice]  \\\n0                                                NaN                             \n1                                    West Side Story                             \n2                                    West Side Story                             \n3                                                NaN                             \n4                                    West Side Story                             \n5                                    West Side Story                             \n6                                    West Side Story                             \n7                                Hands Off the Loot!                             \n8                                                NaN                             \n\n  What theme should we explore next week? [First Choice]  \\\n0                                 CATHOLIC SEX GUILT       \n1                             SET PRIMARILY ON WATER       \n2                                PARTYING GONE WRONG       \n3                                          DISGUISES       \n4                        OOPS, ALL CHRISOPHER MELONI       \n5                                 CATHOLIC SEX GUILT       \n6                                 CATHOLIC SEX GUILT       \n7                        OOPS, ALL CHRISOPHER MELONI       \n8                        OOPS, ALL CHRISOPHER MELONI       \n\n  What theme should we explore next week? [Second Choice]  \\\n0                              No Theme/Free-for-all        \n1                        OOPS, ALL CHRISOPHER MELONI        \n2                                 CATHOLIC SEX GUILT        \n3                                PARTYING GONE WRONG        \n4                                PARTYING GONE WRONG        \n5                                PARTYING GONE WRONG        \n6                        OOPS, ALL CHRISOPHER MELONI        \n7                                          DISGUISES        \n8                                    DUDE HANGS DONG        \n\n  What theme should we explore next week? [Third Choice]  \\\n0                                PARTYING GONE WRONG       \n1                                PARTYING GONE WRONG       \n2                                          DISGUISES       \n3                             SET PRIMARILY ON WATER       \n4                             SET PRIMARILY ON WATER       \n5                             SET PRIMARILY ON WATER       \n6                             SET PRIMARILY ON WATER       \n7                             SET PRIMARILY ON WATER       \n8                                 CATHOLIC SEX GUILT       \n\n  What theme should we explore next week? [Fourth Choice]  \\\n0                             SET PRIMARILY ON WATER        \n1                                    DUDE HANGS DONG        \n2                              No Theme/Free-for-all        \n3                                    DUDE HANGS DONG        \n4                                 CATHOLIC SEX GUILT        \n5                                          DISGUISES        \n6                                    DUDE HANGS DONG        \n7                                PARTYING GONE WRONG        \n8                                                NaN        \n\n  What theme should we explore next week? [Fifth Choice]  \\\n0                                    DUDE HANGS DONG       \n1                                          DISGUISES       \n2                        OOPS, ALL CHRISOPHER MELONI       \n3                        OOPS, ALL CHRISOPHER MELONI       \n4                                          DISGUISES       \n5                                    DUDE HANGS DONG       \n6                                          DISGUISES       \n7                                    DUDE HANGS DONG       \n8                                                NaN       \n\n  What theme should we explore next week? [Sixth Choice]  \\\n0                        OOPS, ALL CHRISOPHER MELONI       \n1                                 CATHOLIC SEX GUILT       \n2                             SET PRIMARILY ON WATER       \n3                                 CATHOLIC SEX GUILT       \n4                                    DUDE HANGS DONG       \n5                        OOPS, ALL CHRISOPHER MELONI       \n6                                PARTYING GONE WRONG       \n7                                 CATHOLIC SEX GUILT       \n8                                                NaN       \n\n  What theme should we explore next week? [Seventh Choice]  \n0                                          DISGUISES        \n1                              No Theme/Free-for-all        \n2                                    DUDE HANGS DONG        \n3                                                NaN        \n4                              No Theme/Free-for-all        \n5                              No Theme/Free-for-all        \n6                              No Theme/Free-for-all        \n7                              No Theme/Free-for-all        \n8                                                NaN        ",
      "text/html": "<div>\n<style scoped>\n    .dataframe tbody tr th:only-of-type {\n        vertical-align: middle;\n    }\n\n    .dataframe tbody tr th {\n        vertical-align: top;\n    }\n\n    .dataframe thead th {\n        text-align: right;\n    }\n</style>\n<table border=\"1\" class=\"dataframe\">\n  <thead>\n    <tr style=\"text-align: right;\">\n      <th></th>\n      <th>Timestamp</th>\n      <th>Rank your movie choices. You don't have to do a full ranking. [First Choice]</th>\n      <th>Rank your movie choices. You don't have to do a full ranking. [Second Choice]</th>\n      <th>Rank your movie choices. You don't have to do a full ranking. [Third Choice]</th>\n      <th>Rank your movie choices. You don't have to do a full ranking. [Fourth Choice]</th>\n      <th>Rank your movie choices. You don't have to do a full ranking. [Fifth Choice]</th>\n      <th>Rank your movie choices. You don't have to do a full ranking. [Sixth Choice]</th>\n      <th>What theme should we explore next week? [First Choice]</th>\n      <th>What theme should we explore next week? [Second Choice]</th>\n      <th>What theme should we explore next week? [Third Choice]</th>\n      <th>What theme should we explore next week? [Fourth Choice]</th>\n      <th>What theme should we explore next week? [Fifth Choice]</th>\n      <th>What theme should we explore next week? [Sixth Choice]</th>\n      <th>What theme should we explore next week? [Seventh Choice]</th>\n    </tr>\n  </thead>\n  <tbody>\n    <tr>\n      <th>0</th>\n      <td>8/5/2020 17:49:40</td>\n      <td>The Great Silence</td>\n      <td>Hands Off the Loot!</td>\n      <td>Pumping Iron II: The Women</td>\n      <td>Meathead Goes Hog Wild</td>\n      <td>West Side Story</td>\n      <td>NaN</td>\n      <td>CATHOLIC SEX GUILT</td>\n      <td>No Theme/Free-for-all</td>\n      <td>PARTYING GONE WRONG</td>\n      <td>SET PRIMARILY ON WATER</td>\n      <td>DUDE HANGS DONG</td>\n      <td>OOPS, ALL CHRISOPHER MELONI</td>\n      <td>DISGUISES</td>\n    </tr>\n    <tr>\n      <th>1</th>\n      <td>8/5/2020 17:55:52</td>\n      <td>The Great Silence</td>\n      <td>Hands Off the Loot!</td>\n      <td>Meathead Goes Hog Wild</td>\n      <td>Pumping Iron</td>\n      <td>Pumping Iron II: The Women</td>\n      <td>West Side Story</td>\n      <td>SET PRIMARILY ON WATER</td>\n      <td>OOPS, ALL CHRISOPHER MELONI</td>\n      <td>PARTYING GONE WRONG</td>\n      <td>DUDE HANGS DONG</td>\n      <td>DISGUISES</td>\n      <td>CATHOLIC SEX GUILT</td>\n      <td>No Theme/Free-for-all</td>\n    </tr>\n    <tr>\n      <th>2</th>\n      <td>8/5/2020 18:12:21</td>\n      <td>The Great Silence</td>\n      <td>Pumping Iron</td>\n      <td>Meathead Goes Hog Wild</td>\n      <td>Pumping Iron II: The Women</td>\n      <td>Hands Off the Loot!</td>\n      <td>West Side Story</td>\n      <td>PARTYING GONE WRONG</td>\n      <td>CATHOLIC SEX GUILT</td>\n      <td>DISGUISES</td>\n      <td>No Theme/Free-for-all</td>\n      <td>OOPS, ALL CHRISOPHER MELONI</td>\n      <td>SET PRIMARILY ON WATER</td>\n      <td>DUDE HANGS DONG</td>\n    </tr>\n    <tr>\n      <th>3</th>\n      <td>8/5/2020 20:14:18</td>\n      <td>The Great Silence</td>\n      <td>Pumping Iron</td>\n      <td>Meathead Goes Hog Wild</td>\n      <td>Hands Off the Loot!</td>\n      <td>NaN</td>\n      <td>NaN</td>\n      <td>DISGUISES</td>\n      <td>PARTYING GONE WRONG</td>\n      <td>SET PRIMARILY ON WATER</td>\n      <td>DUDE HANGS DONG</td>\n      <td>OOPS, ALL CHRISOPHER MELONI</td>\n      <td>CATHOLIC SEX GUILT</td>\n      <td>NaN</td>\n    </tr>\n    <tr>\n      <th>4</th>\n      <td>8/5/2020 21:34:40</td>\n      <td>Meathead Goes Hog Wild</td>\n      <td>The Great Silence</td>\n      <td>Hands Off the Loot!</td>\n      <td>Pumping Iron</td>\n      <td>Pumping Iron II: The Women</td>\n      <td>West Side Story</td>\n      <td>OOPS, ALL CHRISOPHER MELONI</td>\n      <td>PARTYING GONE WRONG</td>\n      <td>SET PRIMARILY ON WATER</td>\n      <td>CATHOLIC SEX GUILT</td>\n      <td>DISGUISES</td>\n      <td>DUDE HANGS DONG</td>\n      <td>No Theme/Free-for-all</td>\n    </tr>\n    <tr>\n      <th>5</th>\n      <td>8/6/2020 8:03:24</td>\n      <td>The Great Silence</td>\n      <td>Hands Off the Loot!</td>\n      <td>Meathead Goes Hog Wild</td>\n      <td>Pumping Iron II: The Women</td>\n      <td>Pumping Iron</td>\n      <td>West Side Story</td>\n      <td>CATHOLIC SEX GUILT</td>\n      <td>PARTYING GONE WRONG</td>\n      <td>SET PRIMARILY ON WATER</td>\n      <td>DISGUISES</td>\n      <td>DUDE HANGS DONG</td>\n      <td>OOPS, ALL CHRISOPHER MELONI</td>\n      <td>No Theme/Free-for-all</td>\n    </tr>\n    <tr>\n      <th>6</th>\n      <td>8/8/2020 9:07:21</td>\n      <td>Meathead Goes Hog Wild</td>\n      <td>The Great Silence</td>\n      <td>Hands Off the Loot!</td>\n      <td>Pumping Iron II: The Women</td>\n      <td>Pumping Iron</td>\n      <td>West Side Story</td>\n      <td>CATHOLIC SEX GUILT</td>\n      <td>OOPS, ALL CHRISOPHER MELONI</td>\n      <td>SET PRIMARILY ON WATER</td>\n      <td>DUDE HANGS DONG</td>\n      <td>DISGUISES</td>\n      <td>PARTYING GONE WRONG</td>\n      <td>No Theme/Free-for-all</td>\n    </tr>\n    <tr>\n      <th>7</th>\n      <td>8/8/2020 9:36:13</td>\n      <td>Meathead Goes Hog Wild</td>\n      <td>The Great Silence</td>\n      <td>Pumping Iron</td>\n      <td>West Side Story</td>\n      <td>Pumping Iron II: The Women</td>\n      <td>Hands Off the Loot!</td>\n      <td>OOPS, ALL CHRISOPHER MELONI</td>\n      <td>DISGUISES</td>\n      <td>SET PRIMARILY ON WATER</td>\n      <td>PARTYING GONE WRONG</td>\n      <td>DUDE HANGS DONG</td>\n      <td>CATHOLIC SEX GUILT</td>\n      <td>No Theme/Free-for-all</td>\n    </tr>\n    <tr>\n      <th>8</th>\n      <td>8/8/2020 16:05:13</td>\n      <td>West Side Story</td>\n      <td>The Great Silence</td>\n      <td>Meathead Goes Hog Wild</td>\n      <td>Pumping Iron II: The Women</td>\n      <td>NaN</td>\n      <td>NaN</td>\n      <td>OOPS, ALL CHRISOPHER MELONI</td>\n      <td>DUDE HANGS DONG</td>\n      <td>CATHOLIC SEX GUILT</td>\n      <td>NaN</td>\n      <td>NaN</td>\n      <td>NaN</td>\n      <td>NaN</td>\n    </tr>\n  </tbody>\n</table>\n</div>"
     },
     "execution_count": 2,
     "metadata": {},
     "output_type": "execute_result"
    }
   ],
   "source": [
    "df = pd.read_csv(Path('./data/20200810.csv').resolve())\n",
    "df"
   ]
  },
  {
   "cell_type": "code",
   "execution_count": 3,
   "metadata": {},
   "outputs": [],
   "source": [
    "just_ballots = df.loc[:, df.columns.str.startswith('Rank')]\n",
    "next_week = df.loc[:, df.columns.str.startswith('What')]"
   ]
  },
  {
   "cell_type": "code",
   "execution_count": 4,
   "metadata": {},
   "outputs": [
    {
     "data": {
      "text/plain": "array(['The Great Silence', 'Hands Off the Loot!',\n       'Meathead Goes Hog Wild', 'Pumping Iron',\n       'Pumping Iron II: The Women', 'West Side Story'], dtype=object)"
     },
     "execution_count": 4,
     "metadata": {},
     "output_type": "execute_result"
    }
   ],
   "source": [
    "submissions = just_ballots.loc[just_ballots.notna().all(axis=1).idxmax(),:].values\n",
    "submissions"
   ]
  },
  {
   "cell_type": "code",
   "execution_count": 5,
   "metadata": {},
   "outputs": [],
   "source": [
    "submission_dict = {submission: pyrankvote.Candidate(submission) for submission in submissions}"
   ]
  },
  {
   "cell_type": "code",
   "execution_count": 6,
   "metadata": {},
   "outputs": [],
   "source": [
    "balloted = just_ballots.applymap(lambda x: submission_dict[x] if isinstance(x, str) else x)"
   ]
  },
  {
   "cell_type": "code",
   "execution_count": 7,
   "metadata": {},
   "outputs": [
    {
     "data": {
      "text/plain": "{'The Great Silence': <Candidate('The Great Silence')>,\n 'Hands Off the Loot!': <Candidate('Hands Off the Loot!')>,\n 'Meathead Goes Hog Wild': <Candidate('Meathead Goes Hog Wild')>,\n 'Pumping Iron': <Candidate('Pumping Iron')>,\n 'Pumping Iron II: The Women': <Candidate('Pumping Iron II: The Women')>,\n 'West Side Story': <Candidate('West Side Story')>}"
     },
     "execution_count": 7,
     "metadata": {},
     "output_type": "execute_result"
    }
   ],
   "source": [
    "submission_dict"
   ]
  },
  {
   "cell_type": "code",
   "execution_count": 8,
   "metadata": {},
   "outputs": [],
   "source": [
    "ballots = []\n",
    "for ballot in balloted.itertuples():\n",
    "    ballots.append(pyrankvote.Ballot(ranked_candidates=[b for b in ballot if isinstance(b, pyrankvote.Candidate)]))"
   ]
  },
  {
   "cell_type": "code",
   "execution_count": 9,
   "metadata": {},
   "outputs": [
    {
     "data": {
      "text/plain": "[<Ballot(The Great Silence, Hands Off the Loot!, Pumping Iron II: The Women, Meathead Goes Hog Wild, West Side Story)>,\n <Ballot(The Great Silence, Hands Off the Loot!, Meathead Goes Hog Wild, Pumping Iron, Pumping Iron II: The Women, West Side Story)>,\n <Ballot(The Great Silence, Pumping Iron, Meathead Goes Hog Wild, Pumping Iron II: The Women, Hands Off the Loot!, West Side Story)>,\n <Ballot(The Great Silence, Pumping Iron, Meathead Goes Hog Wild, Hands Off the Loot!)>,\n <Ballot(Meathead Goes Hog Wild, The Great Silence, Hands Off the Loot!, Pumping Iron, Pumping Iron II: The Women, West Side Story)>,\n <Ballot(The Great Silence, Hands Off the Loot!, Meathead Goes Hog Wild, Pumping Iron II: The Women, Pumping Iron, West Side Story)>,\n <Ballot(Meathead Goes Hog Wild, The Great Silence, Hands Off the Loot!, Pumping Iron II: The Women, Pumping Iron, West Side Story)>,\n <Ballot(Meathead Goes Hog Wild, The Great Silence, Pumping Iron, West Side Story, Pumping Iron II: The Women, Hands Off the Loot!)>,\n <Ballot(West Side Story, The Great Silence, Meathead Goes Hog Wild, Pumping Iron II: The Women)>]"
     },
     "execution_count": 9,
     "metadata": {},
     "output_type": "execute_result"
    }
   ],
   "source": [
    "ballots"
   ]
  },
  {
   "cell_type": "code",
   "execution_count": 10,
   "metadata": {},
   "outputs": [],
   "source": [
    "election_result = pyrankvote.instant_runoff_voting(submission_dict.values(), ballots,)"
   ]
  },
  {
   "cell_type": "code",
   "execution_count": 11,
   "metadata": {},
   "outputs": [
    {
     "name": "stdout",
     "output_type": "stream",
     "text": [
      "FINAL RESULT\n",
      "Candidate                     Votes  Status\n",
      "--------------------------  -------  --------\n",
      "The Great Silence                 5  Elected\n",
      "Meathead Goes Hog Wild            3  Rejected\n",
      "West Side Story                   1  Rejected\n",
      "Hands Off the Loot!               0  Rejected\n",
      "Pumping Iron                      0  Rejected\n",
      "Pumping Iron II: The Women        0  Rejected\n",
      "\n"
     ]
    }
   ],
   "source": [
    "print(election_result)"
   ]
  },
  {
   "cell_type": "code",
   "execution_count": 12,
   "metadata": {},
   "outputs": [
    {
     "name": "stdout",
     "output_type": "stream",
     "text": [
      "ROUND 1\n",
      "Candidate                      Votes  Status\n",
      "---------------------------  -------  --------\n",
      "OOPS, ALL CHRISOPHER MELONI        3  Hopeful\n",
      "CATHOLIC SEX GUILT                 3  Hopeful\n",
      "DISGUISES                          1  Hopeful\n",
      "PARTYING GONE WRONG                1  Rejected\n",
      "SET PRIMARILY ON WATER             1  Rejected\n",
      "DUDE HANGS DONG                    0  Rejected\n",
      "No Theme/Free-for-all              0  Rejected\n",
      "\n",
      "ROUND 2\n",
      "Candidate                      Votes  Status\n",
      "---------------------------  -------  --------\n",
      "OOPS, ALL CHRISOPHER MELONI        4  Hopeful\n",
      "CATHOLIC SEX GUILT                 4  Hopeful\n",
      "DISGUISES                          1  Rejected\n",
      "PARTYING GONE WRONG                0  Rejected\n",
      "SET PRIMARILY ON WATER             0  Rejected\n",
      "DUDE HANGS DONG                    0  Rejected\n",
      "No Theme/Free-for-all              0  Rejected\n",
      "\n",
      "FINAL RESULT\n",
      "Candidate                      Votes  Status\n",
      "---------------------------  -------  --------\n",
      "OOPS, ALL CHRISOPHER MELONI        5  Elected\n",
      "CATHOLIC SEX GUILT                 4  Rejected\n",
      "DISGUISES                          0  Rejected\n",
      "PARTYING GONE WRONG                0  Rejected\n",
      "SET PRIMARILY ON WATER             0  Rejected\n",
      "DUDE HANGS DONG                    0  Rejected\n",
      "No Theme/Free-for-all              0  Rejected\n",
      "\n"
     ]
    }
   ],
   "source": [
    "submissions = next_week.loc[next_week.notna().all(axis=1).idxmax(),:].values\n",
    "submission_dict = {submission: pyrankvote.Candidate(submission) for submission in submissions}\n",
    "balloted = next_week.applymap(lambda x: submission_dict[x] if isinstance(x, str) else x)\n",
    "ballots = []\n",
    "for ballot in balloted.itertuples():\n",
    "    ballots.append(pyrankvote.Ballot(ranked_candidates=[b for b in ballot if isinstance(b, pyrankvote.Candidate)]))\n",
    "print(pyrankvote.instant_runoff_voting(submission_dict.values(), ballots,))"
   ]
  }
 ],
 "metadata": {
  "kernelspec": {
   "display_name": "Python 3",
   "language": "python",
   "name": "python3"
  },
  "language_info": {
   "codemirror_mode": {
    "name": "ipython",
    "version": 3
   },
   "file_extension": ".py",
   "mimetype": "text/x-python",
   "name": "python",
   "nbconvert_exporter": "python",
   "pygments_lexer": "ipython3",
   "version": "3.7.4"
  }
 },
 "nbformat": 4,
 "nbformat_minor": 2
}