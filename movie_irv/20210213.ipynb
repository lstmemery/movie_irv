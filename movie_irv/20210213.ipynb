{
 "cells": [
  {
   "cell_type": "code",
   "execution_count": 1,
   "metadata": {},
   "outputs": [],
   "source": [
    "import pandas as pd\n",
    "import pyrankvote\n",
    "from pathlib import Path\n",
    "from random import seed\n",
    "seed(252)"
   ]
  },
  {
   "cell_type": "code",
   "execution_count": 2,
   "metadata": {},
   "outputs": [
    {
     "data": {
      "text/plain": "            Timestamp  \\\n0   2/9/2021 19:09:39   \n1   2/9/2021 19:15:49   \n2   2/9/2021 19:30:22   \n3   2/9/2021 20:29:18   \n4   2/9/2021 21:41:32   \n5  2/10/2021 15:29:02   \n6   2/11/2021 5:27:18   \n7   2/11/2021 5:28:20   \n8  2/11/2021 11:04:02   \n\n  Rank your movie choices. You don't have to do a full ranking. [First Choice]  \\\n0                                     Solaris (1972)                             \n1                                 Trollhunter (2010)                             \n2                                     Solaris (1972)                             \n3                                     Solaris (1972)                             \n4                            Attack the Block (2011)                             \n5                            Violence Voyager (2018)                             \n6                            Attack the Block (2011)                             \n7                            Attack the Block (2011)                             \n8                            Violence Voyager (2018)                             \n\n  Rank your movie choices. You don't have to do a full ranking. [Second Choice]  \\\n0                                        2046 (2004)                              \n1                                      Aniara (2019)                              \n2                                 Trollhunter (2010)                              \n3                                        2046 (2004)                              \n4                                      Aniara (2019)                              \n5                                      Aniara (2019)                              \n6                                      Aniara (2019)                              \n7                                 Trollhunter (2010)                              \n8                                     Solaris (1972)                              \n\n  Rank your movie choices. You don't have to do a full ranking. [Third Choice]  \\\n0                                 Trollhunter (2010)                             \n1                            Violence Voyager (2018)                             \n2                                      Aniara (2019)                             \n3                                      Aniara (2019)                             \n4                                        2046 (2004)                             \n5                            Attack the Block (2011)                             \n6                   The City of Lost Children (1995)                             \n7                                      Aniara (2019)                             \n8                   The City of Lost Children (1995)                             \n\n  Rank your movie choices. You don't have to do a full ranking. [Fourth Choice]  \\\n0                                      Aniara (2019)                              \n1                                     Solaris (1972)                              \n2                                        2046 (2004)                              \n3                                 Trollhunter (2010)                              \n4                                 Trollhunter (2010)                              \n5                                     Solaris (1972)                              \n6                                        2046 (2004)                              \n7                                        2046 (2004)                              \n8                            Attack the Block (2011)                              \n\n  Rank your movie choices. You don't have to do a full ranking. [Fifth Choice]  \\\n0                            Attack the Block (2011)                             \n1                            Attack the Block (2011)                             \n2                            Violence Voyager (2018)                             \n3                   The City of Lost Children (1995)                             \n4                   The City of Lost Children (1995)                             \n5                   The City of Lost Children (1995)                             \n6                                                NaN                             \n7                                                NaN                             \n8                                      Aniara (2019)                             \n\n  Rank your movie choices. You don't have to do a full ranking. [Sixth Choice]  \\\n0                   The City of Lost Children (1995)                             \n1                                        2046 (2004)                             \n2                            Attack the Block (2011)                             \n3                            Violence Voyager (2018)                             \n4                                     Solaris (1972)                             \n5                                        2046 (2004)                             \n6                                                NaN                             \n7                                                NaN                             \n8                                        2046 (2004)                             \n\n  Rank your movie choices. You don't have to do a full ranking. [Seventh Choice]  \\\n0                            Violence Voyager (2018)                               \n1                   The City of Lost Children (1995)                               \n2                   The City of Lost Children (1995)                               \n3                                                NaN                               \n4                            Violence Voyager (2018)                               \n5                                 Trollhunter (2010)                               \n6                                                NaN                               \n7                                                NaN                               \n8                                 Trollhunter (2010)                               \n\n  What theme should we explore next week? [First Choice]  \\\n0                IT'S TRUE I SAW IT IN A DOCUMENTARY       \n1                          [Default to Nicolas Cage]       \n2                                      CINEMA ANTIFA       \n3                                      CINEMA ANTIFA       \n4           SEMI HISTORICALLY ACCURATE PERIOD PIECES       \n5           SEMI HISTORICALLY ACCURATE PERIOD PIECES       \n6           SEMI HISTORICALLY ACCURATE PERIOD PIECES       \n7           SEMI HISTORICALLY ACCURATE PERIOD PIECES       \n8           SEMI HISTORICALLY ACCURATE PERIOD PIECES       \n\n  What theme should we explore next week? [Second Choice]  \\\n0           SEMI HISTORICALLY ACCURATE PERIOD PIECES        \n1           SEMI HISTORICALLY ACCURATE PERIOD PIECES        \n2                      BRO, THIS MOVIE IS FUCKED UP!        \n3                BETTER THAN THE BOOK IT IS BASED ON        \n4                      BRO, THIS MOVIE IS FUCKED UP!        \n5                BETTER THAN THE BOOK IT IS BASED ON        \n6                IT'S TRUE I SAW IT IN A DOCUMENTARY        \n7                IT'S TRUE I SAW IT IN A DOCUMENTARY        \n8                      BRO, THIS MOVIE IS FUCKED UP!        \n\n  What theme should we explore next week? [Third Choice]  \\\n0                          [Default to Nicolas Cage]       \n1                      BRO, THIS MOVIE IS FUCKED UP!       \n2                IT'S TRUE I SAW IT IN A DOCUMENTARY       \n3                      BRO, THIS MOVIE IS FUCKED UP!       \n4                IT'S TRUE I SAW IT IN A DOCUMENTARY       \n5                      BRO, THIS MOVIE IS FUCKED UP!       \n6                BETTER THAN THE BOOK IT IS BASED ON       \n7                                      CINEMA ANTIFA       \n8                BETTER THAN THE BOOK IT IS BASED ON       \n\n  What theme should we explore next week? [Fourth Choice]  \\\n0                BETTER THAN THE BOOK IT IS BASED ON        \n1                                      CINEMA ANTIFA        \n2           SEMI HISTORICALLY ACCURATE PERIOD PIECES        \n3           SEMI HISTORICALLY ACCURATE PERIOD PIECES        \n4                BETTER THAN THE BOOK IT IS BASED ON        \n5                                      CINEMA ANTIFA        \n6                                      CINEMA ANTIFA        \n7                          [Default to Nicolas Cage]        \n8                IT'S TRUE I SAW IT IN A DOCUMENTARY        \n\n  What theme should we explore next week? [Fifth Choice]  \\\n0                      BRO, THIS MOVIE IS FUCKED UP!       \n1                                                NaN       \n2                                                NaN       \n3                IT'S TRUE I SAW IT IN A DOCUMENTARY       \n4                                      CINEMA ANTIFA       \n5                IT'S TRUE I SAW IT IN A DOCUMENTARY       \n6                      BRO, THIS MOVIE IS FUCKED UP!       \n7                                                NaN       \n8                                      CINEMA ANTIFA       \n\n  What theme should we explore next week? [Sixth Choice]  \n0                                      CINEMA ANTIFA      \n1                IT'S TRUE I SAW IT IN A DOCUMENTARY      \n2                BETTER THAN THE BOOK IT IS BASED ON      \n3                          [Default to Nicolas Cage]      \n4                          [Default to Nicolas Cage]      \n5                          [Default to Nicolas Cage]      \n6                                                NaN      \n7                                                NaN      \n8                          [Default to Nicolas Cage]      ",
      "text/html": "<div>\n<style scoped>\n    .dataframe tbody tr th:only-of-type {\n        vertical-align: middle;\n    }\n\n    .dataframe tbody tr th {\n        vertical-align: top;\n    }\n\n    .dataframe thead th {\n        text-align: right;\n    }\n</style>\n<table border=\"1\" class=\"dataframe\">\n  <thead>\n    <tr style=\"text-align: right;\">\n      <th></th>\n      <th>Timestamp</th>\n      <th>Rank your movie choices. You don't have to do a full ranking. [First Choice]</th>\n      <th>Rank your movie choices. You don't have to do a full ranking. [Second Choice]</th>\n      <th>Rank your movie choices. You don't have to do a full ranking. [Third Choice]</th>\n      <th>Rank your movie choices. You don't have to do a full ranking. [Fourth Choice]</th>\n      <th>Rank your movie choices. You don't have to do a full ranking. [Fifth Choice]</th>\n      <th>Rank your movie choices. You don't have to do a full ranking. [Sixth Choice]</th>\n      <th>Rank your movie choices. You don't have to do a full ranking. [Seventh Choice]</th>\n      <th>What theme should we explore next week? [First Choice]</th>\n      <th>What theme should we explore next week? [Second Choice]</th>\n      <th>What theme should we explore next week? [Third Choice]</th>\n      <th>What theme should we explore next week? [Fourth Choice]</th>\n      <th>What theme should we explore next week? [Fifth Choice]</th>\n      <th>What theme should we explore next week? [Sixth Choice]</th>\n    </tr>\n  </thead>\n  <tbody>\n    <tr>\n      <th>0</th>\n      <td>2/9/2021 19:09:39</td>\n      <td>Solaris (1972)</td>\n      <td>2046 (2004)</td>\n      <td>Trollhunter (2010)</td>\n      <td>Aniara (2019)</td>\n      <td>Attack the Block (2011)</td>\n      <td>The City of Lost Children (1995)</td>\n      <td>Violence Voyager (2018)</td>\n      <td>IT'S TRUE I SAW IT IN A DOCUMENTARY</td>\n      <td>SEMI HISTORICALLY ACCURATE PERIOD PIECES</td>\n      <td>[Default to Nicolas Cage]</td>\n      <td>BETTER THAN THE BOOK IT IS BASED ON</td>\n      <td>BRO, THIS MOVIE IS FUCKED UP!</td>\n      <td>CINEMA ANTIFA</td>\n    </tr>\n    <tr>\n      <th>1</th>\n      <td>2/9/2021 19:15:49</td>\n      <td>Trollhunter (2010)</td>\n      <td>Aniara (2019)</td>\n      <td>Violence Voyager (2018)</td>\n      <td>Solaris (1972)</td>\n      <td>Attack the Block (2011)</td>\n      <td>2046 (2004)</td>\n      <td>The City of Lost Children (1995)</td>\n      <td>[Default to Nicolas Cage]</td>\n      <td>SEMI HISTORICALLY ACCURATE PERIOD PIECES</td>\n      <td>BRO, THIS MOVIE IS FUCKED UP!</td>\n      <td>CINEMA ANTIFA</td>\n      <td>NaN</td>\n      <td>IT'S TRUE I SAW IT IN A DOCUMENTARY</td>\n    </tr>\n    <tr>\n      <th>2</th>\n      <td>2/9/2021 19:30:22</td>\n      <td>Solaris (1972)</td>\n      <td>Trollhunter (2010)</td>\n      <td>Aniara (2019)</td>\n      <td>2046 (2004)</td>\n      <td>Violence Voyager (2018)</td>\n      <td>Attack the Block (2011)</td>\n      <td>The City of Lost Children (1995)</td>\n      <td>CINEMA ANTIFA</td>\n      <td>BRO, THIS MOVIE IS FUCKED UP!</td>\n      <td>IT'S TRUE I SAW IT IN A DOCUMENTARY</td>\n      <td>SEMI HISTORICALLY ACCURATE PERIOD PIECES</td>\n      <td>NaN</td>\n      <td>BETTER THAN THE BOOK IT IS BASED ON</td>\n    </tr>\n    <tr>\n      <th>3</th>\n      <td>2/9/2021 20:29:18</td>\n      <td>Solaris (1972)</td>\n      <td>2046 (2004)</td>\n      <td>Aniara (2019)</td>\n      <td>Trollhunter (2010)</td>\n      <td>The City of Lost Children (1995)</td>\n      <td>Violence Voyager (2018)</td>\n      <td>NaN</td>\n      <td>CINEMA ANTIFA</td>\n      <td>BETTER THAN THE BOOK IT IS BASED ON</td>\n      <td>BRO, THIS MOVIE IS FUCKED UP!</td>\n      <td>SEMI HISTORICALLY ACCURATE PERIOD PIECES</td>\n      <td>IT'S TRUE I SAW IT IN A DOCUMENTARY</td>\n      <td>[Default to Nicolas Cage]</td>\n    </tr>\n    <tr>\n      <th>4</th>\n      <td>2/9/2021 21:41:32</td>\n      <td>Attack the Block (2011)</td>\n      <td>Aniara (2019)</td>\n      <td>2046 (2004)</td>\n      <td>Trollhunter (2010)</td>\n      <td>The City of Lost Children (1995)</td>\n      <td>Solaris (1972)</td>\n      <td>Violence Voyager (2018)</td>\n      <td>SEMI HISTORICALLY ACCURATE PERIOD PIECES</td>\n      <td>BRO, THIS MOVIE IS FUCKED UP!</td>\n      <td>IT'S TRUE I SAW IT IN A DOCUMENTARY</td>\n      <td>BETTER THAN THE BOOK IT IS BASED ON</td>\n      <td>CINEMA ANTIFA</td>\n      <td>[Default to Nicolas Cage]</td>\n    </tr>\n    <tr>\n      <th>5</th>\n      <td>2/10/2021 15:29:02</td>\n      <td>Violence Voyager (2018)</td>\n      <td>Aniara (2019)</td>\n      <td>Attack the Block (2011)</td>\n      <td>Solaris (1972)</td>\n      <td>The City of Lost Children (1995)</td>\n      <td>2046 (2004)</td>\n      <td>Trollhunter (2010)</td>\n      <td>SEMI HISTORICALLY ACCURATE PERIOD PIECES</td>\n      <td>BETTER THAN THE BOOK IT IS BASED ON</td>\n      <td>BRO, THIS MOVIE IS FUCKED UP!</td>\n      <td>CINEMA ANTIFA</td>\n      <td>IT'S TRUE I SAW IT IN A DOCUMENTARY</td>\n      <td>[Default to Nicolas Cage]</td>\n    </tr>\n    <tr>\n      <th>6</th>\n      <td>2/11/2021 5:27:18</td>\n      <td>Attack the Block (2011)</td>\n      <td>Aniara (2019)</td>\n      <td>The City of Lost Children (1995)</td>\n      <td>2046 (2004)</td>\n      <td>NaN</td>\n      <td>NaN</td>\n      <td>NaN</td>\n      <td>SEMI HISTORICALLY ACCURATE PERIOD PIECES</td>\n      <td>IT'S TRUE I SAW IT IN A DOCUMENTARY</td>\n      <td>BETTER THAN THE BOOK IT IS BASED ON</td>\n      <td>CINEMA ANTIFA</td>\n      <td>BRO, THIS MOVIE IS FUCKED UP!</td>\n      <td>NaN</td>\n    </tr>\n    <tr>\n      <th>7</th>\n      <td>2/11/2021 5:28:20</td>\n      <td>Attack the Block (2011)</td>\n      <td>Trollhunter (2010)</td>\n      <td>Aniara (2019)</td>\n      <td>2046 (2004)</td>\n      <td>NaN</td>\n      <td>NaN</td>\n      <td>NaN</td>\n      <td>SEMI HISTORICALLY ACCURATE PERIOD PIECES</td>\n      <td>IT'S TRUE I SAW IT IN A DOCUMENTARY</td>\n      <td>CINEMA ANTIFA</td>\n      <td>[Default to Nicolas Cage]</td>\n      <td>NaN</td>\n      <td>NaN</td>\n    </tr>\n    <tr>\n      <th>8</th>\n      <td>2/11/2021 11:04:02</td>\n      <td>Violence Voyager (2018)</td>\n      <td>Solaris (1972)</td>\n      <td>The City of Lost Children (1995)</td>\n      <td>Attack the Block (2011)</td>\n      <td>Aniara (2019)</td>\n      <td>2046 (2004)</td>\n      <td>Trollhunter (2010)</td>\n      <td>SEMI HISTORICALLY ACCURATE PERIOD PIECES</td>\n      <td>BRO, THIS MOVIE IS FUCKED UP!</td>\n      <td>BETTER THAN THE BOOK IT IS BASED ON</td>\n      <td>IT'S TRUE I SAW IT IN A DOCUMENTARY</td>\n      <td>CINEMA ANTIFA</td>\n      <td>[Default to Nicolas Cage]</td>\n    </tr>\n  </tbody>\n</table>\n</div>"
     },
     "execution_count": 2,
     "metadata": {},
     "output_type": "execute_result"
    }
   ],
   "source": [
    "df = pd.read_csv(Path('./data/20210213.csv').resolve())\n",
    "df"
   ]
  },
  {
   "cell_type": "code",
   "execution_count": 3,
   "metadata": {},
   "outputs": [],
   "source": [
    "just_ballots = df.loc[:, df.columns.str.startswith('Rank')]\n",
    "next_week = df.loc[:, df.columns.str.startswith('What')]"
   ]
  },
  {
   "cell_type": "code",
   "execution_count": 4,
   "metadata": {},
   "outputs": [
    {
     "data": {
      "text/plain": "array(['Solaris (1972)', '2046 (2004)', 'Trollhunter (2010)',\n       'Aniara (2019)', 'Attack the Block (2011)',\n       'The City of Lost Children (1995)', 'Violence Voyager (2018)'],\n      dtype=object)"
     },
     "execution_count": 4,
     "metadata": {},
     "output_type": "execute_result"
    }
   ],
   "source": [
    "submissions = just_ballots.loc[just_ballots.notna().all(axis=1).idxmax(),:].values\n",
    "submissions"
   ]
  },
  {
   "cell_type": "code",
   "execution_count": 5,
   "metadata": {},
   "outputs": [],
   "source": [
    "submission_dict = {submission: pyrankvote.Candidate(submission) for submission in submissions}"
   ]
  },
  {
   "cell_type": "code",
   "execution_count": 6,
   "metadata": {},
   "outputs": [],
   "source": [
    "balloted = just_ballots.applymap(lambda x: submission_dict[x] if isinstance(x, str) else x)"
   ]
  },
  {
   "cell_type": "code",
   "execution_count": 7,
   "metadata": {},
   "outputs": [
    {
     "data": {
      "text/plain": "{'Solaris (1972)': <Candidate('Solaris (1972)')>,\n '2046 (2004)': <Candidate('2046 (2004)')>,\n 'Trollhunter (2010)': <Candidate('Trollhunter (2010)')>,\n 'Aniara (2019)': <Candidate('Aniara (2019)')>,\n 'Attack the Block (2011)': <Candidate('Attack the Block (2011)')>,\n 'The City of Lost Children (1995)': <Candidate('The City of Lost Children (1995)')>,\n 'Violence Voyager (2018)': <Candidate('Violence Voyager (2018)')>}"
     },
     "execution_count": 7,
     "metadata": {},
     "output_type": "execute_result"
    }
   ],
   "source": [
    "submission_dict"
   ]
  },
  {
   "cell_type": "code",
   "execution_count": 8,
   "metadata": {},
   "outputs": [],
   "source": [
    "ballots = []\n",
    "for ballot in balloted.itertuples():\n",
    "    ballots.append(pyrankvote.Ballot(ranked_candidates=[b for b in ballot if isinstance(b, pyrankvote.Candidate)]))"
   ]
  },
  {
   "cell_type": "code",
   "execution_count": 9,
   "metadata": {},
   "outputs": [
    {
     "data": {
      "text/plain": "[<Ballot(Solaris (1972), 2046 (2004), Trollhunter (2010), Aniara (2019), Attack the Block (2011), The City of Lost Children (1995), Violence Voyager (2018))>,\n <Ballot(Trollhunter (2010), Aniara (2019), Violence Voyager (2018), Solaris (1972), Attack the Block (2011), 2046 (2004), The City of Lost Children (1995))>,\n <Ballot(Solaris (1972), Trollhunter (2010), Aniara (2019), 2046 (2004), Violence Voyager (2018), Attack the Block (2011), The City of Lost Children (1995))>,\n <Ballot(Solaris (1972), 2046 (2004), Aniara (2019), Trollhunter (2010), The City of Lost Children (1995), Violence Voyager (2018))>,\n <Ballot(Attack the Block (2011), Aniara (2019), 2046 (2004), Trollhunter (2010), The City of Lost Children (1995), Solaris (1972), Violence Voyager (2018))>,\n <Ballot(Violence Voyager (2018), Aniara (2019), Attack the Block (2011), Solaris (1972), The City of Lost Children (1995), 2046 (2004), Trollhunter (2010))>,\n <Ballot(Attack the Block (2011), Aniara (2019), The City of Lost Children (1995), 2046 (2004))>,\n <Ballot(Attack the Block (2011), Trollhunter (2010), Aniara (2019), 2046 (2004))>,\n <Ballot(Violence Voyager (2018), Solaris (1972), The City of Lost Children (1995), Attack the Block (2011), Aniara (2019), 2046 (2004), Trollhunter (2010))>]"
     },
     "execution_count": 9,
     "metadata": {},
     "output_type": "execute_result"
    }
   ],
   "source": [
    "ballots"
   ]
  },
  {
   "cell_type": "code",
   "execution_count": 10,
   "metadata": {},
   "outputs": [],
   "source": [
    "election_result = pyrankvote.instant_runoff_voting(submission_dict.values(), ballots,)"
   ]
  },
  {
   "cell_type": "code",
   "execution_count": 11,
   "metadata": {},
   "outputs": [
    {
     "name": "stdout",
     "output_type": "stream",
     "text": [
      "ROUND 1\n",
      "Candidate                           Votes  Status\n",
      "--------------------------------  -------  --------\n",
      "Solaris (1972)                          3  Hopeful\n",
      "Attack the Block (2011)                 3  Hopeful\n",
      "Violence Voyager (2018)                 2  Rejected\n",
      "Trollhunter (2010)                      1  Rejected\n",
      "Aniara (2019)                           0  Rejected\n",
      "2046 (2004)                             0  Rejected\n",
      "The City of Lost Children (1995)        0  Rejected\n",
      "\n",
      "FINAL RESULT\n",
      "Candidate                           Votes  Status\n",
      "--------------------------------  -------  --------\n",
      "Solaris (1972)                          5  Elected\n",
      "Attack the Block (2011)                 4  Rejected\n",
      "Violence Voyager (2018)                 0  Rejected\n",
      "Trollhunter (2010)                      0  Rejected\n",
      "Aniara (2019)                           0  Rejected\n",
      "2046 (2004)                             0  Rejected\n",
      "The City of Lost Children (1995)        0  Rejected\n",
      "\n"
     ]
    }
   ],
   "source": [
    "print(election_result)"
   ]
  },
  {
   "cell_type": "code",
   "execution_count": 12,
   "metadata": {},
   "outputs": [
    {
     "name": "stdout",
     "output_type": "stream",
     "text": [
      "FINAL RESULT\n",
      "Candidate                                   Votes  Status\n",
      "----------------------------------------  -------  --------\n",
      "SEMI HISTORICALLY ACCURATE PERIOD PIECES        5  Elected\n",
      "CINEMA ANTIFA                                   2  Rejected\n",
      "IT'S TRUE I SAW IT IN A DOCUMENTARY             1  Rejected\n",
      "[Default to Nicolas Cage]                       1  Rejected\n",
      "BRO, THIS MOVIE IS FUCKED UP!                   0  Rejected\n",
      "BETTER THAN THE BOOK IT IS BASED ON             0  Rejected\n",
      "\n"
     ]
    }
   ],
   "source": [
    "submissions = next_week.loc[next_week.notna().all(axis=1).idxmax(),:].values\n",
    "submission_dict = {submission: pyrankvote.Candidate(submission) for submission in submissions}\n",
    "balloted = next_week.applymap(lambda x: submission_dict[x] if isinstance(x, str) else x)\n",
    "ballots = []\n",
    "for ballot in balloted.itertuples():\n",
    "    ballots.append(pyrankvote.Ballot(ranked_candidates=[b for b in ballot if isinstance(b, pyrankvote.Candidate)]))\n",
    "print(pyrankvote.instant_runoff_voting(submission_dict.values(), ballots,))"
   ]
  }
 ],
 "metadata": {
  "kernelspec": {
   "display_name": "Python 3",
   "language": "python",
   "name": "python3"
  },
  "language_info": {
   "codemirror_mode": {
    "name": "ipython",
    "version": 3
   },
   "file_extension": ".py",
   "mimetype": "text/x-python",
   "name": "python",
   "nbconvert_exporter": "python",
   "pygments_lexer": "ipython3",
   "version": "3.7.4"
  }
 },
 "nbformat": 4,
 "nbformat_minor": 2
}