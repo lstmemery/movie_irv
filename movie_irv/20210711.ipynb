{
 "cells": [
  {
   "cell_type": "code",
   "execution_count": 1,
   "metadata": {},
   "outputs": [],
   "source": [
    "import pandas as pd\n",
    "import pyrankvote\n",
    "from pathlib import Path\n",
    "from random import seed\n",
    "seed(252)"
   ]
  },
  {
   "cell_type": "code",
   "execution_count": 2,
   "metadata": {},
   "outputs": [
    {
     "data": {
      "text/plain": "             Timestamp  \\\n0  06/07/2021 17:38:31   \n1  06/07/2021 18:04:19   \n2  06/07/2021 18:08:27   \n3  07/07/2021 14:12:56   \n\n  Rank your movie choices. You don't have to do a full ranking. [First Choice]  \\\n0                                     Exotica (1994)                             \n1                                    Airborne (1993)                             \n2                               Man Bites Dog (1992)                             \n3                                    La Haine (1995)                             \n\n  Rank your movie choices. You don't have to do a full ranking. [Second Choice]  \\\n0                                    La Haine (1995)                              \n1                                    La Haine (1995)                              \n2                                     Exotica (1994)                              \n3                                    Airborne (1993)                              \n\n  Rank your movie choices. You don't have to do a full ranking. [Third Choice]  \\\n0                               Man Bites Dog (1992)                             \n1                                                NaN                             \n2                                    La Haine (1995)                             \n3                                     Exotica (1994)                             \n\n  Rank your movie choices. You don't have to do a full ranking. [Fourth Choice]  \\\n0                                    Airborne (1993)                              \n1                                                NaN                              \n2                                    Airborne (1993)                              \n3                               Man Bites Dog (1992)                              \n\n  What theme should we explore next week? [First Choice]  \\\n0                         OOPS ALL DONALD SUTHERLAND       \n1                               PREVIOUSLY SUBMITTED       \n2                               PREVIOUSLY SUBMITTED       \n3                               PREVIOUSLY SUBMITTED       \n\n  What theme should we explore next week? [Second Choice]  \\\n0                                 THE FUCKIN' POLICE        \n1                                          DISGUISES        \n2                                 THE FUCKIN' POLICE        \n3                                 THE FUCKIN' POLICE        \n\n  What theme should we explore next week? [Third Choice]  \\\n0                               PREVIOUSLY SUBMITTED       \n1                                 THE FUCKIN' POLICE       \n2                         OOPS ALL DONALD SUTHERLAND       \n3                                          DISGUISES       \n\n  What theme should we explore next week? [Fourth Choice]  \\\n0                                          DISGUISES        \n1                         OOPS ALL DONALD SUTHERLAND        \n2                                          DISGUISES        \n3                         OOPS ALL DONALD SUTHERLAND        \n\n  What theme should we explore next week? [Fifth Choice]  \n0                          [Default to Nicolas Cage]      \n1                          [Default to Nicolas Cage]      \n2                          [Default to Nicolas Cage]      \n3                          [Default to Nicolas Cage]      ",
      "text/html": "<div>\n<style scoped>\n    .dataframe tbody tr th:only-of-type {\n        vertical-align: middle;\n    }\n\n    .dataframe tbody tr th {\n        vertical-align: top;\n    }\n\n    .dataframe thead th {\n        text-align: right;\n    }\n</style>\n<table border=\"1\" class=\"dataframe\">\n  <thead>\n    <tr style=\"text-align: right;\">\n      <th></th>\n      <th>Timestamp</th>\n      <th>Rank your movie choices. You don't have to do a full ranking. [First Choice]</th>\n      <th>Rank your movie choices. You don't have to do a full ranking. [Second Choice]</th>\n      <th>Rank your movie choices. You don't have to do a full ranking. [Third Choice]</th>\n      <th>Rank your movie choices. You don't have to do a full ranking. [Fourth Choice]</th>\n      <th>What theme should we explore next week? [First Choice]</th>\n      <th>What theme should we explore next week? [Second Choice]</th>\n      <th>What theme should we explore next week? [Third Choice]</th>\n      <th>What theme should we explore next week? [Fourth Choice]</th>\n      <th>What theme should we explore next week? [Fifth Choice]</th>\n    </tr>\n  </thead>\n  <tbody>\n    <tr>\n      <th>0</th>\n      <td>06/07/2021 17:38:31</td>\n      <td>Exotica (1994)</td>\n      <td>La Haine (1995)</td>\n      <td>Man Bites Dog (1992)</td>\n      <td>Airborne (1993)</td>\n      <td>OOPS ALL DONALD SUTHERLAND</td>\n      <td>THE FUCKIN' POLICE</td>\n      <td>PREVIOUSLY SUBMITTED</td>\n      <td>DISGUISES</td>\n      <td>[Default to Nicolas Cage]</td>\n    </tr>\n    <tr>\n      <th>1</th>\n      <td>06/07/2021 18:04:19</td>\n      <td>Airborne (1993)</td>\n      <td>La Haine (1995)</td>\n      <td>NaN</td>\n      <td>NaN</td>\n      <td>PREVIOUSLY SUBMITTED</td>\n      <td>DISGUISES</td>\n      <td>THE FUCKIN' POLICE</td>\n      <td>OOPS ALL DONALD SUTHERLAND</td>\n      <td>[Default to Nicolas Cage]</td>\n    </tr>\n    <tr>\n      <th>2</th>\n      <td>06/07/2021 18:08:27</td>\n      <td>Man Bites Dog (1992)</td>\n      <td>Exotica (1994)</td>\n      <td>La Haine (1995)</td>\n      <td>Airborne (1993)</td>\n      <td>PREVIOUSLY SUBMITTED</td>\n      <td>THE FUCKIN' POLICE</td>\n      <td>OOPS ALL DONALD SUTHERLAND</td>\n      <td>DISGUISES</td>\n      <td>[Default to Nicolas Cage]</td>\n    </tr>\n    <tr>\n      <th>3</th>\n      <td>07/07/2021 14:12:56</td>\n      <td>La Haine (1995)</td>\n      <td>Airborne (1993)</td>\n      <td>Exotica (1994)</td>\n      <td>Man Bites Dog (1992)</td>\n      <td>PREVIOUSLY SUBMITTED</td>\n      <td>THE FUCKIN' POLICE</td>\n      <td>DISGUISES</td>\n      <td>OOPS ALL DONALD SUTHERLAND</td>\n      <td>[Default to Nicolas Cage]</td>\n    </tr>\n  </tbody>\n</table>\n</div>"
     },
     "execution_count": 2,
     "metadata": {},
     "output_type": "execute_result"
    }
   ],
   "source": [
    "df = pd.read_csv(Path('./data/20210711.csv').resolve())\n",
    "df"
   ]
  },
  {
   "cell_type": "code",
   "execution_count": 3,
   "metadata": {},
   "outputs": [],
   "source": [
    "just_ballots = df.loc[:, df.columns.str.startswith('Rank')]\n",
    "next_week = df.loc[:, df.columns.str.startswith('What')]"
   ]
  },
  {
   "cell_type": "code",
   "execution_count": 4,
   "metadata": {},
   "outputs": [
    {
     "data": {
      "text/plain": "array(['Exotica (1994)', 'La Haine (1995)', 'Man Bites Dog (1992)',\n       'Airborne (1993)'], dtype=object)"
     },
     "execution_count": 4,
     "metadata": {},
     "output_type": "execute_result"
    }
   ],
   "source": [
    "submissions = just_ballots.loc[just_ballots.notna().all(axis=1).idxmax(),:].values\n",
    "submissions"
   ]
  },
  {
   "cell_type": "code",
   "execution_count": 5,
   "metadata": {},
   "outputs": [],
   "source": [
    "submission_dict = {submission: pyrankvote.Candidate(submission) for submission in submissions}"
   ]
  },
  {
   "cell_type": "code",
   "execution_count": 6,
   "metadata": {},
   "outputs": [],
   "source": [
    "balloted = just_ballots.applymap(lambda x: submission_dict[x] if isinstance(x, str) else x)"
   ]
  },
  {
   "cell_type": "code",
   "execution_count": 7,
   "metadata": {},
   "outputs": [
    {
     "data": {
      "text/plain": "{'Exotica (1994)': <Candidate('Exotica (1994)')>,\n 'La Haine (1995)': <Candidate('La Haine (1995)')>,\n 'Man Bites Dog (1992)': <Candidate('Man Bites Dog (1992)')>,\n 'Airborne (1993)': <Candidate('Airborne (1993)')>}"
     },
     "execution_count": 7,
     "metadata": {},
     "output_type": "execute_result"
    }
   ],
   "source": [
    "submission_dict"
   ]
  },
  {
   "cell_type": "code",
   "execution_count": 8,
   "metadata": {},
   "outputs": [],
   "source": [
    "ballots = []\n",
    "for ballot in balloted.itertuples():\n",
    "    ballots.append(pyrankvote.Ballot(ranked_candidates=[b for b in ballot if isinstance(b, pyrankvote.Candidate)]))"
   ]
  },
  {
   "cell_type": "code",
   "execution_count": 9,
   "metadata": {},
   "outputs": [
    {
     "data": {
      "text/plain": "[<Ballot(Exotica (1994), La Haine (1995), Man Bites Dog (1992), Airborne (1993))>,\n <Ballot(Airborne (1993), La Haine (1995))>,\n <Ballot(Man Bites Dog (1992), Exotica (1994), La Haine (1995), Airborne (1993))>,\n <Ballot(La Haine (1995), Airborne (1993), Exotica (1994), Man Bites Dog (1992))>]"
     },
     "execution_count": 9,
     "metadata": {},
     "output_type": "execute_result"
    }
   ],
   "source": [
    "ballots"
   ]
  },
  {
   "cell_type": "code",
   "execution_count": 10,
   "metadata": {},
   "outputs": [],
   "source": [
    "election_result = pyrankvote.instant_runoff_voting(submission_dict.values(), ballots,)"
   ]
  },
  {
   "cell_type": "code",
   "execution_count": 11,
   "metadata": {},
   "outputs": [
    {
     "name": "stdout",
     "output_type": "stream",
     "text": [
      "ROUND 1\n",
      "Candidate               Votes  Status\n",
      "--------------------  -------  --------\n",
      "La Haine (1995)             1  Hopeful\n",
      "Exotica (1994)              1  Hopeful\n",
      "Airborne (1993)             1  Hopeful\n",
      "Man Bites Dog (1992)        1  Rejected\n",
      "\n",
      "FINAL RESULT\n",
      "Candidate               Votes  Status\n",
      "--------------------  -------  --------\n",
      "Exotica (1994)              2  Elected\n",
      "La Haine (1995)             1  Rejected\n",
      "Airborne (1993)             1  Rejected\n",
      "Man Bites Dog (1992)        0  Rejected\n",
      "\n"
     ]
    }
   ],
   "source": [
    "print(election_result)"
   ]
  },
  {
   "cell_type": "code",
   "execution_count": 12,
   "metadata": {},
   "outputs": [
    {
     "name": "stdout",
     "output_type": "stream",
     "text": [
      "FINAL RESULT\n",
      "Candidate                     Votes  Status\n",
      "--------------------------  -------  --------\n",
      "PREVIOUSLY SUBMITTED              3  Elected\n",
      "OOPS ALL DONALD SUTHERLAND        1  Rejected\n",
      "THE FUCKIN' POLICE                0  Rejected\n",
      "DISGUISES                         0  Rejected\n",
      "[Default to Nicolas Cage]         0  Rejected\n",
      "\n"
     ]
    }
   ],
   "source": [
    "submissions = next_week.loc[next_week.notna().all(axis=1).idxmax(),:].values\n",
    "submission_dict = {submission: pyrankvote.Candidate(submission) for submission in submissions}\n",
    "balloted = next_week.applymap(lambda x: submission_dict[x] if isinstance(x, str) else x)\n",
    "ballots = []\n",
    "for ballot in balloted.itertuples():\n",
    "    ballots.append(pyrankvote.Ballot(ranked_candidates=[b for b in ballot if isinstance(b, pyrankvote.Candidate)]))\n",
    "print(pyrankvote.instant_runoff_voting(submission_dict.values(), ballots,))"
   ]
  }
 ],
 "metadata": {
  "kernelspec": {
   "display_name": "Python 3",
   "language": "python",
   "name": "python3"
  },
  "language_info": {
   "codemirror_mode": {
    "name": "ipython",
    "version": 3
   },
   "file_extension": ".py",
   "mimetype": "text/x-python",
   "name": "python",
   "nbconvert_exporter": "python",
   "pygments_lexer": "ipython3",
   "version": "3.7.4"
  }
 },
 "nbformat": 4,
 "nbformat_minor": 2
}