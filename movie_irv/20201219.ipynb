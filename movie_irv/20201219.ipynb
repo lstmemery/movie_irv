{
 "cells": [
  {
   "cell_type": "code",
   "execution_count": 1,
   "metadata": {},
   "outputs": [],
   "source": [
    "import pandas as pd\n",
    "import pyrankvote\n",
    "from pathlib import Path\n",
    "from random import seed\n",
    "seed(252)"
   ]
  },
  {
   "cell_type": "code",
   "execution_count": 2,
   "metadata": {},
   "outputs": [
    {
     "data": {
      "text/plain": "             Timestamp  \\\n0  12/15/2020 19:08:24   \n1   12/16/2020 6:35:32   \n2   12/16/2020 9:05:36   \n3  12/16/2020 17:42:00   \n4  12/16/2020 17:42:34   \n5   12/17/2020 9:22:40   \n\n  Rank your movie choices. You don't have to do a full ranking. [First Choice]  \\\n0                       Daughters of the Dust (1991)                             \n1                            The Little Foxes (1941)                             \n2                                Cold in July (2014)                             \n3                                Cold in July (2014)                             \n4                               Pass the Ammo (1988)                             \n5                               Pass the Ammo (1988)                             \n\n  Rank your movie choices. You don't have to do a full ranking. [Second Choice]  \\\n0                       Cat On A Hot Tin Roof (1958)                              \n1                                Cold in July (2014)                              \n2                                         Mud (2013)                              \n3                               Pass the Ammo (1988)                              \n4                                Cold in July (2014)                              \n5                       Cat On A Hot Tin Roof (1958)                              \n\n  Rank your movie choices. You don't have to do a full ranking. [Third Choice]  \\\n0                                Cold in July (2014)                             \n1                       Cat On A Hot Tin Roof (1958)                             \n2                               Pass the Ammo (1988)                             \n3                                         Mud (2013)                             \n4                       Daughters of the Dust (1991)                             \n5                                Cold in July (2014)                             \n\n  Rank your movie choices. You don't have to do a full ranking. [Fourth Choice]  \\\n0                            The Little Foxes (1941)                              \n1                               Pass the Ammo (1988)                              \n2                       Daughters of the Dust (1991)                              \n3                       Daughters of the Dust (1991)                              \n4                                         Mud (2013)                              \n5                       Daughters of the Dust (1991)                              \n\n  Rank your movie choices. You don't have to do a full ranking. [Fifth Choice]  \\\n0                                         Mud (2013)                             \n1                       Daughters of the Dust (1991)                             \n2                       Cat On A Hot Tin Roof (1958)                             \n3                                                NaN                             \n4                            The Little Foxes (1941)                             \n5                            The Little Foxes (1941)                             \n\n  Rank your movie choices. You don't have to do a full ranking. [Sixth Choice]  \\\n0                               Pass the Ammo (1988)                             \n1                                                NaN                             \n2                            The Little Foxes (1941)                             \n3                                                NaN                             \n4                       Cat On A Hot Tin Roof (1958)                             \n5                                         Mud (2013)                             \n\n  What theme should we explore next week? [First Choice]  \\\n0  YOU MIGHT SAY THE CITY IS A CHARACTER IN THE M...       \n1                               SAD MAN DOES HIS JOB       \n2  RIPPED FROM THE BREADLINES: GREAT DEPRESSION-S...       \n3       WHILE YOU WERE PARTYING, I STUDIED THE BLADE       \n4  YOU MIGHT SAY THE CITY IS A CHARACTER IN THE M...       \n5                          [Default to Nicolas Cage]       \n\n  What theme should we explore next week? [Second Choice]  \\\n0                    THE BEST OF MALE FRONTAL NUDITY        \n1       WHILE YOU WERE PARTYING, I STUDIED THE BLADE        \n2       WHILE YOU WERE PARTYING, I STUDIED THE BLADE        \n3  YOU MIGHT SAY THE CITY IS A CHARACTER IN THE M...        \n4                    THE BEST OF MALE FRONTAL NUDITY        \n5       WHILE YOU WERE PARTYING, I STUDIED THE BLADE        \n\n  What theme should we explore next week? [Third Choice]  \\\n0                               SAD MAN DOES HIS JOB       \n1                    THE BEST OF MALE FRONTAL NUDITY       \n2                               SAD MAN DOES HIS JOB       \n3  RIPPED FROM THE BREADLINES: GREAT DEPRESSION-S...       \n4       WHILE YOU WERE PARTYING, I STUDIED THE BLADE       \n5  YOU MIGHT SAY THE CITY IS A CHARACTER IN THE M...       \n\n  What theme should we explore next week? [Fourth Choice]  \\\n0                          [Default to Nicolas Cage]        \n1  RIPPED FROM THE BREADLINES: GREAT DEPRESSION-S...        \n2                                          ROOMMATES        \n3                               SAD MAN DOES HIS JOB        \n4                               SAD MAN DOES HIS JOB        \n5                               SAD MAN DOES HIS JOB        \n\n  What theme should we explore next week? [Fifth Choice]  \\\n0       WHILE YOU WERE PARTYING, I STUDIED THE BLADE       \n1                          [Default to Nicolas Cage]       \n2                    THE BEST OF MALE FRONTAL NUDITY       \n3                          [Default to Nicolas Cage]       \n4                          [Default to Nicolas Cage]       \n5  RIPPED FROM THE BREADLINES: GREAT DEPRESSION-S...       \n\n  What theme should we explore next week? [Sixth Choice]  \\\n0  RIPPED FROM THE BREADLINES: GREAT DEPRESSION-S...       \n1                                          ROOMMATES       \n2  YOU MIGHT SAY THE CITY IS A CHARACTER IN THE M...       \n3                                                NaN       \n4                                          ROOMMATES       \n5                                          ROOMMATES       \n\n  What theme should we explore next week? [Seventh Choice]  \n0                                          ROOMMATES        \n1  YOU MIGHT SAY THE CITY IS A CHARACTER IN THE M...        \n2                          [Default to Nicolas Cage]        \n3                                                NaN        \n4  RIPPED FROM THE BREADLINES: GREAT DEPRESSION-S...        \n5                    THE BEST OF MALE FRONTAL NUDITY        ",
      "text/html": "<div>\n<style scoped>\n    .dataframe tbody tr th:only-of-type {\n        vertical-align: middle;\n    }\n\n    .dataframe tbody tr th {\n        vertical-align: top;\n    }\n\n    .dataframe thead th {\n        text-align: right;\n    }\n</style>\n<table border=\"1\" class=\"dataframe\">\n  <thead>\n    <tr style=\"text-align: right;\">\n      <th></th>\n      <th>Timestamp</th>\n      <th>Rank your movie choices. You don't have to do a full ranking. [First Choice]</th>\n      <th>Rank your movie choices. You don't have to do a full ranking. [Second Choice]</th>\n      <th>Rank your movie choices. You don't have to do a full ranking. [Third Choice]</th>\n      <th>Rank your movie choices. You don't have to do a full ranking. [Fourth Choice]</th>\n      <th>Rank your movie choices. You don't have to do a full ranking. [Fifth Choice]</th>\n      <th>Rank your movie choices. You don't have to do a full ranking. [Sixth Choice]</th>\n      <th>What theme should we explore next week? [First Choice]</th>\n      <th>What theme should we explore next week? [Second Choice]</th>\n      <th>What theme should we explore next week? [Third Choice]</th>\n      <th>What theme should we explore next week? [Fourth Choice]</th>\n      <th>What theme should we explore next week? [Fifth Choice]</th>\n      <th>What theme should we explore next week? [Sixth Choice]</th>\n      <th>What theme should we explore next week? [Seventh Choice]</th>\n    </tr>\n  </thead>\n  <tbody>\n    <tr>\n      <th>0</th>\n      <td>12/15/2020 19:08:24</td>\n      <td>Daughters of the Dust (1991)</td>\n      <td>Cat On A Hot Tin Roof (1958)</td>\n      <td>Cold in July (2014)</td>\n      <td>The Little Foxes (1941)</td>\n      <td>Mud (2013)</td>\n      <td>Pass the Ammo (1988)</td>\n      <td>YOU MIGHT SAY THE CITY IS A CHARACTER IN THE M...</td>\n      <td>THE BEST OF MALE FRONTAL NUDITY</td>\n      <td>SAD MAN DOES HIS JOB</td>\n      <td>[Default to Nicolas Cage]</td>\n      <td>WHILE YOU WERE PARTYING, I STUDIED THE BLADE</td>\n      <td>RIPPED FROM THE BREADLINES: GREAT DEPRESSION-S...</td>\n      <td>ROOMMATES</td>\n    </tr>\n    <tr>\n      <th>1</th>\n      <td>12/16/2020 6:35:32</td>\n      <td>The Little Foxes (1941)</td>\n      <td>Cold in July (2014)</td>\n      <td>Cat On A Hot Tin Roof (1958)</td>\n      <td>Pass the Ammo (1988)</td>\n      <td>Daughters of the Dust (1991)</td>\n      <td>NaN</td>\n      <td>SAD MAN DOES HIS JOB</td>\n      <td>WHILE YOU WERE PARTYING, I STUDIED THE BLADE</td>\n      <td>THE BEST OF MALE FRONTAL NUDITY</td>\n      <td>RIPPED FROM THE BREADLINES: GREAT DEPRESSION-S...</td>\n      <td>[Default to Nicolas Cage]</td>\n      <td>ROOMMATES</td>\n      <td>YOU MIGHT SAY THE CITY IS A CHARACTER IN THE M...</td>\n    </tr>\n    <tr>\n      <th>2</th>\n      <td>12/16/2020 9:05:36</td>\n      <td>Cold in July (2014)</td>\n      <td>Mud (2013)</td>\n      <td>Pass the Ammo (1988)</td>\n      <td>Daughters of the Dust (1991)</td>\n      <td>Cat On A Hot Tin Roof (1958)</td>\n      <td>The Little Foxes (1941)</td>\n      <td>RIPPED FROM THE BREADLINES: GREAT DEPRESSION-S...</td>\n      <td>WHILE YOU WERE PARTYING, I STUDIED THE BLADE</td>\n      <td>SAD MAN DOES HIS JOB</td>\n      <td>ROOMMATES</td>\n      <td>THE BEST OF MALE FRONTAL NUDITY</td>\n      <td>YOU MIGHT SAY THE CITY IS A CHARACTER IN THE M...</td>\n      <td>[Default to Nicolas Cage]</td>\n    </tr>\n    <tr>\n      <th>3</th>\n      <td>12/16/2020 17:42:00</td>\n      <td>Cold in July (2014)</td>\n      <td>Pass the Ammo (1988)</td>\n      <td>Mud (2013)</td>\n      <td>Daughters of the Dust (1991)</td>\n      <td>NaN</td>\n      <td>NaN</td>\n      <td>WHILE YOU WERE PARTYING, I STUDIED THE BLADE</td>\n      <td>YOU MIGHT SAY THE CITY IS A CHARACTER IN THE M...</td>\n      <td>RIPPED FROM THE BREADLINES: GREAT DEPRESSION-S...</td>\n      <td>SAD MAN DOES HIS JOB</td>\n      <td>[Default to Nicolas Cage]</td>\n      <td>NaN</td>\n      <td>NaN</td>\n    </tr>\n    <tr>\n      <th>4</th>\n      <td>12/16/2020 17:42:34</td>\n      <td>Pass the Ammo (1988)</td>\n      <td>Cold in July (2014)</td>\n      <td>Daughters of the Dust (1991)</td>\n      <td>Mud (2013)</td>\n      <td>The Little Foxes (1941)</td>\n      <td>Cat On A Hot Tin Roof (1958)</td>\n      <td>YOU MIGHT SAY THE CITY IS A CHARACTER IN THE M...</td>\n      <td>THE BEST OF MALE FRONTAL NUDITY</td>\n      <td>WHILE YOU WERE PARTYING, I STUDIED THE BLADE</td>\n      <td>SAD MAN DOES HIS JOB</td>\n      <td>[Default to Nicolas Cage]</td>\n      <td>ROOMMATES</td>\n      <td>RIPPED FROM THE BREADLINES: GREAT DEPRESSION-S...</td>\n    </tr>\n    <tr>\n      <th>5</th>\n      <td>12/17/2020 9:22:40</td>\n      <td>Pass the Ammo (1988)</td>\n      <td>Cat On A Hot Tin Roof (1958)</td>\n      <td>Cold in July (2014)</td>\n      <td>Daughters of the Dust (1991)</td>\n      <td>The Little Foxes (1941)</td>\n      <td>Mud (2013)</td>\n      <td>[Default to Nicolas Cage]</td>\n      <td>WHILE YOU WERE PARTYING, I STUDIED THE BLADE</td>\n      <td>YOU MIGHT SAY THE CITY IS A CHARACTER IN THE M...</td>\n      <td>SAD MAN DOES HIS JOB</td>\n      <td>RIPPED FROM THE BREADLINES: GREAT DEPRESSION-S...</td>\n      <td>ROOMMATES</td>\n      <td>THE BEST OF MALE FRONTAL NUDITY</td>\n    </tr>\n  </tbody>\n</table>\n</div>"
     },
     "execution_count": 2,
     "metadata": {},
     "output_type": "execute_result"
    }
   ],
   "source": [
    "df = pd.read_csv(Path('./data/20201219.csv').resolve())\n",
    "df"
   ]
  },
  {
   "cell_type": "code",
   "execution_count": 3,
   "metadata": {},
   "outputs": [],
   "source": [
    "just_ballots = df.loc[:, df.columns.str.startswith('Rank')]\n",
    "next_week = df.loc[:, df.columns.str.startswith('What')]"
   ]
  },
  {
   "cell_type": "code",
   "execution_count": 4,
   "metadata": {},
   "outputs": [
    {
     "data": {
      "text/plain": "array(['Daughters of the Dust (1991)', 'Cat On A Hot Tin Roof (1958)',\n       'Cold in July (2014)', 'The Little Foxes (1941)', 'Mud (2013)',\n       'Pass the Ammo (1988)'], dtype=object)"
     },
     "execution_count": 4,
     "metadata": {},
     "output_type": "execute_result"
    }
   ],
   "source": [
    "submissions = just_ballots.loc[just_ballots.notna().all(axis=1).idxmax(),:].values\n",
    "submissions"
   ]
  },
  {
   "cell_type": "code",
   "execution_count": 5,
   "metadata": {},
   "outputs": [],
   "source": [
    "submission_dict = {submission: pyrankvote.Candidate(submission) for submission in submissions}"
   ]
  },
  {
   "cell_type": "code",
   "execution_count": 6,
   "metadata": {},
   "outputs": [],
   "source": [
    "balloted = just_ballots.applymap(lambda x: submission_dict[x] if isinstance(x, str) else x)"
   ]
  },
  {
   "cell_type": "code",
   "execution_count": 7,
   "metadata": {},
   "outputs": [
    {
     "data": {
      "text/plain": "{'Daughters of the Dust (1991)': <Candidate('Daughters of the Dust (1991)')>,\n 'Cat On A Hot Tin Roof (1958)': <Candidate('Cat On A Hot Tin Roof (1958)')>,\n 'Cold in July (2014)': <Candidate('Cold in July (2014)')>,\n 'The Little Foxes (1941)': <Candidate('The Little Foxes (1941)')>,\n 'Mud (2013)': <Candidate('Mud (2013)')>,\n 'Pass the Ammo (1988)': <Candidate('Pass the Ammo (1988)')>}"
     },
     "execution_count": 7,
     "metadata": {},
     "output_type": "execute_result"
    }
   ],
   "source": [
    "submission_dict"
   ]
  },
  {
   "cell_type": "code",
   "execution_count": 8,
   "metadata": {},
   "outputs": [],
   "source": [
    "ballots = []\n",
    "for ballot in balloted.itertuples():\n",
    "    ballots.append(pyrankvote.Ballot(ranked_candidates=[b for b in ballot if isinstance(b, pyrankvote.Candidate)]))"
   ]
  },
  {
   "cell_type": "code",
   "execution_count": 9,
   "metadata": {},
   "outputs": [
    {
     "data": {
      "text/plain": "[<Ballot(Daughters of the Dust (1991), Cat On A Hot Tin Roof (1958), Cold in July (2014), The Little Foxes (1941), Mud (2013), Pass the Ammo (1988))>,\n <Ballot(The Little Foxes (1941), Cold in July (2014), Cat On A Hot Tin Roof (1958), Pass the Ammo (1988), Daughters of the Dust (1991))>,\n <Ballot(Cold in July (2014), Mud (2013), Pass the Ammo (1988), Daughters of the Dust (1991), Cat On A Hot Tin Roof (1958), The Little Foxes (1941))>,\n <Ballot(Cold in July (2014), Pass the Ammo (1988), Mud (2013), Daughters of the Dust (1991))>,\n <Ballot(Pass the Ammo (1988), Cold in July (2014), Daughters of the Dust (1991), Mud (2013), The Little Foxes (1941), Cat On A Hot Tin Roof (1958))>,\n <Ballot(Pass the Ammo (1988), Cat On A Hot Tin Roof (1958), Cold in July (2014), Daughters of the Dust (1991), The Little Foxes (1941), Mud (2013))>]"
     },
     "execution_count": 9,
     "metadata": {},
     "output_type": "execute_result"
    }
   ],
   "source": [
    "ballots"
   ]
  },
  {
   "cell_type": "code",
   "execution_count": 10,
   "metadata": {},
   "outputs": [],
   "source": [
    "election_result = pyrankvote.instant_runoff_voting(submission_dict.values(), ballots,)"
   ]
  },
  {
   "cell_type": "code",
   "execution_count": 11,
   "metadata": {},
   "outputs": [
    {
     "name": "stdout",
     "output_type": "stream",
     "text": [
      "ROUND 1\n",
      "Candidate                       Votes  Status\n",
      "----------------------------  -------  --------\n",
      "Cold in July (2014)                 2  Hopeful\n",
      "Pass the Ammo (1988)                2  Hopeful\n",
      "Daughters of the Dust (1991)        1  Rejected\n",
      "The Little Foxes (1941)             1  Rejected\n",
      "Cat On A Hot Tin Roof (1958)        0  Rejected\n",
      "Mud (2013)                          0  Rejected\n",
      "\n",
      "FINAL RESULT\n",
      "Candidate                       Votes  Status\n",
      "----------------------------  -------  --------\n",
      "Cold in July (2014)                 4  Elected\n",
      "Pass the Ammo (1988)                2  Rejected\n",
      "Daughters of the Dust (1991)        0  Rejected\n",
      "The Little Foxes (1941)             0  Rejected\n",
      "Cat On A Hot Tin Roof (1958)        0  Rejected\n",
      "Mud (2013)                          0  Rejected\n",
      "\n"
     ]
    }
   ],
   "source": [
    "print(election_result)"
   ]
  },
  {
   "cell_type": "code",
   "execution_count": 12,
   "metadata": {},
   "outputs": [
    {
     "name": "stdout",
     "output_type": "stream",
     "text": [
      "ROUND 1\n",
      "Candidate                                                   Votes  Status\n",
      "--------------------------------------------------------  -------  --------\n",
      "YOU MIGHT SAY THE CITY IS A CHARACTER IN THE MOVIE              2  Hopeful\n",
      "WHILE YOU WERE PARTYING, I STUDIED THE BLADE                    1  Hopeful\n",
      "SAD MAN DOES HIS JOB                                            1  Hopeful\n",
      "RIPPED FROM THE BREADLINES: GREAT DEPRESSION-SPLOITATION        1  Hopeful\n",
      "[Default to Nicolas Cage]                                       1  Rejected\n",
      "THE BEST OF MALE FRONTAL NUDITY                                 0  Rejected\n",
      "ROOMMATES                                                       0  Rejected\n",
      "\n",
      "ROUND 2\n",
      "Candidate                                                   Votes  Status\n",
      "--------------------------------------------------------  -------  --------\n",
      "WHILE YOU WERE PARTYING, I STUDIED THE BLADE                    2  Hopeful\n",
      "YOU MIGHT SAY THE CITY IS A CHARACTER IN THE MOVIE              2  Hopeful\n",
      "SAD MAN DOES HIS JOB                                            1  Rejected\n",
      "RIPPED FROM THE BREADLINES: GREAT DEPRESSION-SPLOITATION        1  Rejected\n",
      "[Default to Nicolas Cage]                                       0  Rejected\n",
      "THE BEST OF MALE FRONTAL NUDITY                                 0  Rejected\n",
      "ROOMMATES                                                       0  Rejected\n",
      "\n",
      "FINAL RESULT\n",
      "Candidate                                                   Votes  Status\n",
      "--------------------------------------------------------  -------  --------\n",
      "WHILE YOU WERE PARTYING, I STUDIED THE BLADE                    4  Elected\n",
      "YOU MIGHT SAY THE CITY IS A CHARACTER IN THE MOVIE              2  Rejected\n",
      "SAD MAN DOES HIS JOB                                            0  Rejected\n",
      "RIPPED FROM THE BREADLINES: GREAT DEPRESSION-SPLOITATION        0  Rejected\n",
      "[Default to Nicolas Cage]                                       0  Rejected\n",
      "THE BEST OF MALE FRONTAL NUDITY                                 0  Rejected\n",
      "ROOMMATES                                                       0  Rejected\n",
      "\n"
     ]
    }
   ],
   "source": [
    "submissions = next_week.loc[next_week.notna().all(axis=1).idxmax(),:].values\n",
    "submission_dict = {submission: pyrankvote.Candidate(submission) for submission in submissions}\n",
    "balloted = next_week.applymap(lambda x: submission_dict[x] if isinstance(x, str) else x)\n",
    "ballots = []\n",
    "for ballot in balloted.itertuples():\n",
    "    ballots.append(pyrankvote.Ballot(ranked_candidates=[b for b in ballot if isinstance(b, pyrankvote.Candidate)]))\n",
    "print(pyrankvote.instant_runoff_voting(submission_dict.values(), ballots,))"
   ]
  }
 ],
 "metadata": {
  "kernelspec": {
   "display_name": "Python 3",
   "language": "python",
   "name": "python3"
  },
  "language_info": {
   "codemirror_mode": {
    "name": "ipython",
    "version": 3
   },
   "file_extension": ".py",
   "mimetype": "text/x-python",
   "name": "python",
   "nbconvert_exporter": "python",
   "pygments_lexer": "ipython3",
   "version": "3.7.4"
  }
 },
 "nbformat": 4,
 "nbformat_minor": 2
}