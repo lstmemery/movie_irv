{
 "cells": [
  {
   "cell_type": "code",
   "execution_count": 1,
   "metadata": {},
   "outputs": [],
   "source": [
    "import pandas as pd\n",
    "import pyrankvote\n",
    "from pathlib import Path\n",
    "from random import seed\n",
    "seed(252)"
   ]
  },
  {
   "cell_type": "code",
   "execution_count": 2,
   "metadata": {},
   "outputs": [
    {
     "data": {
      "text/plain": "             Timestamp  \\\n0  25/05/2021 17:40:43   \n1  25/05/2021 18:08:59   \n2  26/05/2021 05:37:39   \n3  26/05/2021 21:57:49   \n4  26/05/2021 22:26:58   \n5  27/05/2021 10:32:09   \n\n  Rank your movie choices. You don't have to do a full ranking. [First Choice]  \\\n0                     Elevator to the Gallows (1958)                             \n1                                 Purple Rain (1984)                             \n2                             Streets of Fire (1984)                             \n3                                 Purple Rain (1984)                             \n4                     Elevator to the Gallows (1958)                             \n5                             Streets of Fire (1984)                             \n\n  Rank your movie choices. You don't have to do a full ranking. [Second Choice]  \\\n0                             Streets of Fire (1984)                              \n1                                    Repo Man (1984)                              \n2                                    Repo Man (1984)                              \n3                                                NaN                              \n4                             Streets of Fire (1984)                              \n5                                    Repo Man (1984)                              \n\n  Rank your movie choices. You don't have to do a full ranking. [Third Choice]  \\\n0                                 Purple Rain (1984)                             \n1                     Elevator to the Gallows (1958)                             \n2                                 Purple Rain (1984)                             \n3                                                NaN                             \n4                                    Repo Man (1984)                             \n5                     Elevator to the Gallows (1958)                             \n\n  Rank your movie choices. You don't have to do a full ranking. [Fourth Choice]  \\\n0                                                NaN                              \n1                             Streets of Fire (1984)                              \n2                     Elevator to the Gallows (1958)                              \n3                                                NaN                              \n4                                 Purple Rain (1984)                              \n5                                 Purple Rain (1984)                              \n\n  What theme should we explore next week? [First Choice]  \\\n0                                       BOTCHED HITS       \n1                                        EARLY 2000s       \n2                                        EARLY 2000s       \n3                                 THE BOYS OF SUMMER       \n4                                         FILM NOIRE       \n5                                        EARLY 2000s       \n\n  What theme should we explore next week? [Second Choice]  \\\n0                                 THE BOYS OF SUMMER        \n1                                 THE BOYS OF SUMMER        \n2                                       BOTCHED HITS        \n3                                        EARLY 2000s        \n4                                 THE BOYS OF SUMMER        \n5                                 THE BOYS OF SUMMER        \n\n  What theme should we explore next week? [Third Choice]  \\\n0                                         FILM NOIRE       \n1                                         FILM NOIRE       \n2                                 THE BOYS OF SUMMER       \n3                                       BOTCHED HITS       \n4                                       BOTCHED HITS       \n5                                       BOTCHED HITS       \n\n  What theme should we explore next week? [Fourth Choice]  \\\n0                                        EARLY 2000s        \n1                          [Default to Nicolas Cage]        \n2                                         FILM NOIRE        \n3                          [Default to Nicolas Cage]        \n4                                        EARLY 2000s        \n5                                         FILM NOIRE        \n\n  What theme should we explore next week? [Fifth Choice]  \n0                          [Default to Nicolas Cage]      \n1                                       BOTCHED HITS      \n2                          [Default to Nicolas Cage]      \n3                                         FILM NOIRE      \n4                          [Default to Nicolas Cage]      \n5                          [Default to Nicolas Cage]      ",
      "text/html": "<div>\n<style scoped>\n    .dataframe tbody tr th:only-of-type {\n        vertical-align: middle;\n    }\n\n    .dataframe tbody tr th {\n        vertical-align: top;\n    }\n\n    .dataframe thead th {\n        text-align: right;\n    }\n</style>\n<table border=\"1\" class=\"dataframe\">\n  <thead>\n    <tr style=\"text-align: right;\">\n      <th></th>\n      <th>Timestamp</th>\n      <th>Rank your movie choices. You don't have to do a full ranking. [First Choice]</th>\n      <th>Rank your movie choices. You don't have to do a full ranking. [Second Choice]</th>\n      <th>Rank your movie choices. You don't have to do a full ranking. [Third Choice]</th>\n      <th>Rank your movie choices. You don't have to do a full ranking. [Fourth Choice]</th>\n      <th>What theme should we explore next week? [First Choice]</th>\n      <th>What theme should we explore next week? [Second Choice]</th>\n      <th>What theme should we explore next week? [Third Choice]</th>\n      <th>What theme should we explore next week? [Fourth Choice]</th>\n      <th>What theme should we explore next week? [Fifth Choice]</th>\n    </tr>\n  </thead>\n  <tbody>\n    <tr>\n      <th>0</th>\n      <td>25/05/2021 17:40:43</td>\n      <td>Elevator to the Gallows (1958)</td>\n      <td>Streets of Fire (1984)</td>\n      <td>Purple Rain (1984)</td>\n      <td>NaN</td>\n      <td>BOTCHED HITS</td>\n      <td>THE BOYS OF SUMMER</td>\n      <td>FILM NOIRE</td>\n      <td>EARLY 2000s</td>\n      <td>[Default to Nicolas Cage]</td>\n    </tr>\n    <tr>\n      <th>1</th>\n      <td>25/05/2021 18:08:59</td>\n      <td>Purple Rain (1984)</td>\n      <td>Repo Man (1984)</td>\n      <td>Elevator to the Gallows (1958)</td>\n      <td>Streets of Fire (1984)</td>\n      <td>EARLY 2000s</td>\n      <td>THE BOYS OF SUMMER</td>\n      <td>FILM NOIRE</td>\n      <td>[Default to Nicolas Cage]</td>\n      <td>BOTCHED HITS</td>\n    </tr>\n    <tr>\n      <th>2</th>\n      <td>26/05/2021 05:37:39</td>\n      <td>Streets of Fire (1984)</td>\n      <td>Repo Man (1984)</td>\n      <td>Purple Rain (1984)</td>\n      <td>Elevator to the Gallows (1958)</td>\n      <td>EARLY 2000s</td>\n      <td>BOTCHED HITS</td>\n      <td>THE BOYS OF SUMMER</td>\n      <td>FILM NOIRE</td>\n      <td>[Default to Nicolas Cage]</td>\n    </tr>\n    <tr>\n      <th>3</th>\n      <td>26/05/2021 21:57:49</td>\n      <td>Purple Rain (1984)</td>\n      <td>NaN</td>\n      <td>NaN</td>\n      <td>NaN</td>\n      <td>THE BOYS OF SUMMER</td>\n      <td>EARLY 2000s</td>\n      <td>BOTCHED HITS</td>\n      <td>[Default to Nicolas Cage]</td>\n      <td>FILM NOIRE</td>\n    </tr>\n    <tr>\n      <th>4</th>\n      <td>26/05/2021 22:26:58</td>\n      <td>Elevator to the Gallows (1958)</td>\n      <td>Streets of Fire (1984)</td>\n      <td>Repo Man (1984)</td>\n      <td>Purple Rain (1984)</td>\n      <td>FILM NOIRE</td>\n      <td>THE BOYS OF SUMMER</td>\n      <td>BOTCHED HITS</td>\n      <td>EARLY 2000s</td>\n      <td>[Default to Nicolas Cage]</td>\n    </tr>\n    <tr>\n      <th>5</th>\n      <td>27/05/2021 10:32:09</td>\n      <td>Streets of Fire (1984)</td>\n      <td>Repo Man (1984)</td>\n      <td>Elevator to the Gallows (1958)</td>\n      <td>Purple Rain (1984)</td>\n      <td>EARLY 2000s</td>\n      <td>THE BOYS OF SUMMER</td>\n      <td>BOTCHED HITS</td>\n      <td>FILM NOIRE</td>\n      <td>[Default to Nicolas Cage]</td>\n    </tr>\n  </tbody>\n</table>\n</div>"
     },
     "execution_count": 2,
     "metadata": {},
     "output_type": "execute_result"
    }
   ],
   "source": [
    "df = pd.read_csv(Path('./data/20210529.csv').resolve())\n",
    "df"
   ]
  },
  {
   "cell_type": "code",
   "execution_count": 3,
   "metadata": {},
   "outputs": [],
   "source": [
    "just_ballots = df.loc[:, df.columns.str.startswith('Rank')]\n",
    "next_week = df.loc[:, df.columns.str.startswith('What')]"
   ]
  },
  {
   "cell_type": "code",
   "execution_count": 4,
   "metadata": {},
   "outputs": [
    {
     "data": {
      "text/plain": "array(['Purple Rain (1984)', 'Repo Man (1984)',\n       'Elevator to the Gallows (1958)', 'Streets of Fire (1984)'],\n      dtype=object)"
     },
     "execution_count": 4,
     "metadata": {},
     "output_type": "execute_result"
    }
   ],
   "source": [
    "submissions = just_ballots.loc[just_ballots.notna().all(axis=1).idxmax(),:].values\n",
    "submissions"
   ]
  },
  {
   "cell_type": "code",
   "execution_count": 5,
   "metadata": {},
   "outputs": [],
   "source": [
    "submission_dict = {submission: pyrankvote.Candidate(submission) for submission in submissions}"
   ]
  },
  {
   "cell_type": "code",
   "execution_count": 6,
   "metadata": {},
   "outputs": [],
   "source": [
    "balloted = just_ballots.applymap(lambda x: submission_dict[x] if isinstance(x, str) else x)"
   ]
  },
  {
   "cell_type": "code",
   "execution_count": 7,
   "metadata": {},
   "outputs": [
    {
     "data": {
      "text/plain": "{'Purple Rain (1984)': <Candidate('Purple Rain (1984)')>,\n 'Repo Man (1984)': <Candidate('Repo Man (1984)')>,\n 'Elevator to the Gallows (1958)': <Candidate('Elevator to the Gallows (1958)')>,\n 'Streets of Fire (1984)': <Candidate('Streets of Fire (1984)')>}"
     },
     "execution_count": 7,
     "metadata": {},
     "output_type": "execute_result"
    }
   ],
   "source": [
    "submission_dict"
   ]
  },
  {
   "cell_type": "code",
   "execution_count": 8,
   "metadata": {},
   "outputs": [],
   "source": [
    "ballots = []\n",
    "for ballot in balloted.itertuples():\n",
    "    ballots.append(pyrankvote.Ballot(ranked_candidates=[b for b in ballot if isinstance(b, pyrankvote.Candidate)]))"
   ]
  },
  {
   "cell_type": "code",
   "execution_count": 9,
   "metadata": {},
   "outputs": [
    {
     "data": {
      "text/plain": "[<Ballot(Elevator to the Gallows (1958), Streets of Fire (1984), Purple Rain (1984))>,\n <Ballot(Purple Rain (1984), Repo Man (1984), Elevator to the Gallows (1958), Streets of Fire (1984))>,\n <Ballot(Streets of Fire (1984), Repo Man (1984), Purple Rain (1984), Elevator to the Gallows (1958))>,\n <Ballot(Purple Rain (1984))>,\n <Ballot(Elevator to the Gallows (1958), Streets of Fire (1984), Repo Man (1984), Purple Rain (1984))>,\n <Ballot(Streets of Fire (1984), Repo Man (1984), Elevator to the Gallows (1958), Purple Rain (1984))>]"
     },
     "execution_count": 9,
     "metadata": {},
     "output_type": "execute_result"
    }
   ],
   "source": [
    "ballots"
   ]
  },
  {
   "cell_type": "code",
   "execution_count": 10,
   "metadata": {},
   "outputs": [],
   "source": [
    "election_result = pyrankvote.instant_runoff_voting(submission_dict.values(), ballots,)"
   ]
  },
  {
   "cell_type": "code",
   "execution_count": 11,
   "metadata": {},
   "outputs": [
    {
     "name": "stdout",
     "output_type": "stream",
     "text": [
      "ROUND 1\n",
      "Candidate                         Votes  Status\n",
      "------------------------------  -------  --------\n",
      "Streets of Fire (1984)                2  Hopeful\n",
      "Purple Rain (1984)                    2  Hopeful\n",
      "Elevator to the Gallows (1958)        2  Rejected\n",
      "Repo Man (1984)                       0  Rejected\n",
      "\n",
      "FINAL RESULT\n",
      "Candidate                         Votes  Status\n",
      "------------------------------  -------  --------\n",
      "Streets of Fire (1984)                4  Elected\n",
      "Purple Rain (1984)                    2  Rejected\n",
      "Elevator to the Gallows (1958)        0  Rejected\n",
      "Repo Man (1984)                       0  Rejected\n",
      "\n"
     ]
    }
   ],
   "source": [
    "print(election_result)"
   ]
  },
  {
   "cell_type": "code",
   "execution_count": 12,
   "metadata": {},
   "outputs": [
    {
     "name": "stdout",
     "output_type": "stream",
     "text": [
      "ROUND 1\n",
      "Candidate                    Votes  Status\n",
      "-------------------------  -------  --------\n",
      "EARLY 2000s                      3  Hopeful\n",
      "BOTCHED HITS                     1  Hopeful\n",
      "THE BOYS OF SUMMER               1  Rejected\n",
      "FILM NOIRE                       1  Rejected\n",
      "[Default to Nicolas Cage]        0  Rejected\n",
      "\n",
      "FINAL RESULT\n",
      "Candidate                    Votes  Status\n",
      "-------------------------  -------  --------\n",
      "EARLY 2000s                      4  Elected\n",
      "BOTCHED HITS                     2  Rejected\n",
      "THE BOYS OF SUMMER               0  Rejected\n",
      "FILM NOIRE                       0  Rejected\n",
      "[Default to Nicolas Cage]        0  Rejected\n",
      "\n"
     ]
    }
   ],
   "source": [
    "submissions = next_week.loc[next_week.notna().all(axis=1).idxmax(),:].values\n",
    "submission_dict = {submission: pyrankvote.Candidate(submission) for submission in submissions}\n",
    "balloted = next_week.applymap(lambda x: submission_dict[x] if isinstance(x, str) else x)\n",
    "ballots = []\n",
    "for ballot in balloted.itertuples():\n",
    "    ballots.append(pyrankvote.Ballot(ranked_candidates=[b for b in ballot if isinstance(b, pyrankvote.Candidate)]))\n",
    "print(pyrankvote.instant_runoff_voting(submission_dict.values(), ballots,))"
   ]
  }
 ],
 "metadata": {
  "kernelspec": {
   "display_name": "Python 3",
   "language": "python",
   "name": "python3"
  },
  "language_info": {
   "codemirror_mode": {
    "name": "ipython",
    "version": 3
   },
   "file_extension": ".py",
   "mimetype": "text/x-python",
   "name": "python",
   "nbconvert_exporter": "python",
   "pygments_lexer": "ipython3",
   "version": "3.7.4"
  }
 },
 "nbformat": 4,
 "nbformat_minor": 2
}