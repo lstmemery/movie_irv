{
 "cells": [
  {
   "cell_type": "code",
   "execution_count": 1,
   "metadata": {},
   "outputs": [],
   "source": [
    "import pandas as pd\n",
    "import pyrankvote\n",
    "from pathlib import Path"
   ]
  },
  {
   "cell_type": "code",
   "execution_count": 2,
   "metadata": {},
   "outputs": [
    {
     "data": {
      "text/plain": "           Timestamp  \\\n0  9/1/2020 18:34:35   \n1  9/1/2020 18:36:30   \n2  9/1/2020 18:40:52   \n3  9/1/2020 19:05:47   \n4  9/1/2020 20:36:00   \n5  9/2/2020 13:37:14   \n6  9/2/2020 16:00:38   \n7  9/2/2020 16:04:46   \n8  9/2/2020 17:21:34   \n9  9/2/2020 19:28:21   \n\n  Rank your movie choices. You don't have to do a full ranking. [First Choice]  \\\n0                               McCabe & Mrs. Miller                             \n1                          Aguirre, the Wrath of God                             \n2                                           Badlands                             \n3                                           Badlands                             \n4                          Aguirre, the Wrath of God                             \n5                                           Badlands                             \n6                                         Get Carter                             \n7                                         Get Carter                             \n8                              Belladonna of Sadness                             \n9   Jeanne Dielman, 23 Commerce Quay, 1080 Bruxelles                             \n\n  Rank your movie choices. You don't have to do a full ranking. [Second Choice]  \\\n0   Jeanne Dielman, 23 Commerce Quay, 1080 Bruxelles                              \n1                               McCabe & Mrs. Miller                              \n2                          Aguirre, the Wrath of God                              \n3                              Belladonna of Sadness                              \n4                                           Badlands                              \n5                                         Get Carter                              \n6                                           Badlands                              \n7                                           Badlands                              \n8                          Aguirre, the Wrath of God                              \n9                                         Get Carter                              \n\n  Rank your movie choices. You don't have to do a full ranking. [Third Choice]  \\\n0                              Belladonna of Sadness                             \n1                                           Badlands                             \n2                                         Get Carter                             \n3                                         Get Carter                             \n4                                   The Terminal Man                             \n5                          Aguirre, the Wrath of God                             \n6                                   The Terminal Man                             \n7   Jeanne Dielman, 23 Commerce Quay, 1080 Bruxelles                             \n8                                           Badlands                             \n9                               McCabe & Mrs. Miller                             \n\n  Rank your movie choices. You don't have to do a full ranking. [Fourth Choice]  \\\n0                                   The Terminal Man                              \n1                              Belladonna of Sadness                              \n2                                   The Terminal Man                              \n3                          Aguirre, the Wrath of God                              \n4                                         Get Carter                              \n5                                   The Terminal Man                              \n6                          Aguirre, the Wrath of God                              \n7                          Aguirre, the Wrath of God                              \n8   Jeanne Dielman, 23 Commerce Quay, 1080 Bruxelles                              \n9                                   The Terminal Man                              \n\n  Rank your movie choices. You don't have to do a full ranking. [Fifth Choice]  \\\n0                                                NaN                             \n1                                         Get Carter                             \n2   Jeanne Dielman, 23 Commerce Quay, 1080 Bruxelles                             \n3   Jeanne Dielman, 23 Commerce Quay, 1080 Bruxelles                             \n4   Jeanne Dielman, 23 Commerce Quay, 1080 Bruxelles                             \n5                               McCabe & Mrs. Miller                             \n6                               McCabe & Mrs. Miller                             \n7                               McCabe & Mrs. Miller                             \n8                               McCabe & Mrs. Miller                             \n9                              Belladonna of Sadness                             \n\n  Rank your movie choices. You don't have to do a full ranking. [Sixth Choice]  \\\n0                                                NaN                             \n1                                   The Terminal Man                             \n2                               McCabe & Mrs. Miller                             \n3                               McCabe & Mrs. Miller                             \n4                               McCabe & Mrs. Miller                             \n5                              Belladonna of Sadness                             \n6                                                NaN                             \n7                                   The Terminal Man                             \n8                                         Get Carter                             \n9                          Aguirre, the Wrath of God                             \n\n  Rank your movie choices. You don't have to do a full ranking. [Seventh Choice]  \\\n0                                                NaN                               \n1   Jeanne Dielman, 23 Commerce Quay, 1080 Bruxelles                               \n2                              Belladonna of Sadness                               \n3                                   The Terminal Man                               \n4                              Belladonna of Sadness                               \n5   Jeanne Dielman, 23 Commerce Quay, 1080 Bruxelles                               \n6                                                NaN                               \n7                              Belladonna of Sadness                               \n8                                   The Terminal Man                               \n9                                           Badlands                               \n\n  What theme should we explore next week? [First Choice]  \\\n0                                  A GODDAMNED GHOST       \n1                                     JOHN LEGUIZAMO       \n2                                  A GODDAMNED GHOST       \n3                                           PRUPPETS       \n4                                      PERIOD PIECES       \n5                                           PRUPPETS       \n6  POST-9/11, PRE-DEATH OF WHITNEY HOUSTON TYPE BEAT       \n7                                      LADY DIRECTOR       \n8                                BIPOC WRITERS/POETS       \n9                                      LADY DIRECTOR       \n\n  What theme should we explore next week? [Second Choice]  \\\n0                                      LADY DIRECTOR        \n1                                BIPOC WRITERS/POETS        \n2                                BIPOC WRITERS/POETS        \n3                                BIPOC WRITERS/POETS        \n4                                  A GODDAMNED GHOST        \n5  POST-9/11, PRE-DEATH OF WHITNEY HOUSTON TYPE BEAT        \n6                                      LADY DIRECTOR        \n7  POST-9/11, PRE-DEATH OF WHITNEY HOUSTON TYPE BEAT        \n8                                     JOHN LEGUIZAMO        \n9                                      PERIOD PIECES        \n\n  What theme should we explore next week? [Third Choice]  \\\n0  POST-9/11, PRE-DEATH OF WHITNEY HOUSTON TYPE BEAT       \n1                                  A GODDAMNED GHOST       \n2                                      LADY DIRECTOR       \n3                                  A GODDAMNED GHOST       \n4                                BIPOC WRITERS/POETS       \n5                                      LADY DIRECTOR       \n6                                      PERIOD PIECES       \n7                                BIPOC WRITERS/POETS       \n8  POST-9/11, PRE-DEATH OF WHITNEY HOUSTON TYPE BEAT       \n9                                BIPOC WRITERS/POETS       \n\n  What theme should we explore next week? [Fourth Choice]  \\\n0                                      PERIOD PIECES        \n1                                      LADY DIRECTOR        \n2                                     JOHN LEGUIZAMO        \n3                                      LADY DIRECTOR        \n4                                      LADY DIRECTOR        \n5                                      PERIOD PIECES        \n6                                BIPOC WRITERS/POETS        \n7                                  A GODDAMNED GHOST        \n8                                      LADY DIRECTOR        \n9                                  A GODDAMNED GHOST        \n\n  What theme should we explore next week? [Fifth Choice]  \\\n0                                BIPOC WRITERS/POETS       \n1                                      PERIOD PIECES       \n2                                      PERIOD PIECES       \n3                                     JOHN LEGUIZAMO       \n4                                     JOHN LEGUIZAMO       \n5                                BIPOC WRITERS/POETS       \n6                                  A GODDAMNED GHOST       \n7                                      PERIOD PIECES       \n8                                      PERIOD PIECES       \n9  POST-9/11, PRE-DEATH OF WHITNEY HOUSTON TYPE BEAT       \n\n  What theme should we explore next week? [Sixth Choice]  \\\n0                                     JOHN LEGUIZAMO       \n1                                           PRUPPETS       \n2  POST-9/11, PRE-DEATH OF WHITNEY HOUSTON TYPE BEAT       \n3                                      PERIOD PIECES       \n4  POST-9/11, PRE-DEATH OF WHITNEY HOUSTON TYPE BEAT       \n5                                  A GODDAMNED GHOST       \n6                                           PRUPPETS       \n7                                           PRUPPETS       \n8                                           PRUPPETS       \n9                                           PRUPPETS       \n\n  What theme should we explore next week? [Seventh Choice]  \\\n0                                           PRUPPETS         \n1  POST-9/11, PRE-DEATH OF WHITNEY HOUSTON TYPE BEAT         \n2                                           PRUPPETS         \n3  POST-9/11, PRE-DEATH OF WHITNEY HOUSTON TYPE BEAT         \n4                                           PRUPPETS         \n5                                     JOHN LEGUIZAMO         \n6                                     JOHN LEGUIZAMO         \n7                                     JOHN LEGUIZAMO         \n8                                  A GODDAMNED GHOST         \n9                                     JOHN LEGUIZAMO         \n\n  What theme should we explore next week? [Eighth Choice]  \n0                              No Theme/Free-for-all       \n1                              No Theme/Free-for-all       \n2                              No Theme/Free-for-all       \n3                              No Theme/Free-for-all       \n4                              No Theme/Free-for-all       \n5                              No Theme/Free-for-all       \n6                                                NaN       \n7                              No Theme/Free-for-all       \n8                              No Theme/Free-for-all       \n9                                                NaN       ",
      "text/html": "<div>\n<style scoped>\n    .dataframe tbody tr th:only-of-type {\n        vertical-align: middle;\n    }\n\n    .dataframe tbody tr th {\n        vertical-align: top;\n    }\n\n    .dataframe thead th {\n        text-align: right;\n    }\n</style>\n<table border=\"1\" class=\"dataframe\">\n  <thead>\n    <tr style=\"text-align: right;\">\n      <th></th>\n      <th>Timestamp</th>\n      <th>Rank your movie choices. You don't have to do a full ranking. [First Choice]</th>\n      <th>Rank your movie choices. You don't have to do a full ranking. [Second Choice]</th>\n      <th>Rank your movie choices. You don't have to do a full ranking. [Third Choice]</th>\n      <th>Rank your movie choices. You don't have to do a full ranking. [Fourth Choice]</th>\n      <th>Rank your movie choices. You don't have to do a full ranking. [Fifth Choice]</th>\n      <th>Rank your movie choices. You don't have to do a full ranking. [Sixth Choice]</th>\n      <th>Rank your movie choices. You don't have to do a full ranking. [Seventh Choice]</th>\n      <th>What theme should we explore next week? [First Choice]</th>\n      <th>What theme should we explore next week? [Second Choice]</th>\n      <th>What theme should we explore next week? [Third Choice]</th>\n      <th>What theme should we explore next week? [Fourth Choice]</th>\n      <th>What theme should we explore next week? [Fifth Choice]</th>\n      <th>What theme should we explore next week? [Sixth Choice]</th>\n      <th>What theme should we explore next week? [Seventh Choice]</th>\n      <th>What theme should we explore next week? [Eighth Choice]</th>\n    </tr>\n  </thead>\n  <tbody>\n    <tr>\n      <th>0</th>\n      <td>9/1/2020 18:34:35</td>\n      <td>McCabe &amp; Mrs. Miller</td>\n      <td>Jeanne Dielman, 23 Commerce Quay, 1080 Bruxelles</td>\n      <td>Belladonna of Sadness</td>\n      <td>The Terminal Man</td>\n      <td>NaN</td>\n      <td>NaN</td>\n      <td>NaN</td>\n      <td>A GODDAMNED GHOST</td>\n      <td>LADY DIRECTOR</td>\n      <td>POST-9/11, PRE-DEATH OF WHITNEY HOUSTON TYPE BEAT</td>\n      <td>PERIOD PIECES</td>\n      <td>BIPOC WRITERS/POETS</td>\n      <td>JOHN LEGUIZAMO</td>\n      <td>PRUPPETS</td>\n      <td>No Theme/Free-for-all</td>\n    </tr>\n    <tr>\n      <th>1</th>\n      <td>9/1/2020 18:36:30</td>\n      <td>Aguirre, the Wrath of God</td>\n      <td>McCabe &amp; Mrs. Miller</td>\n      <td>Badlands</td>\n      <td>Belladonna of Sadness</td>\n      <td>Get Carter</td>\n      <td>The Terminal Man</td>\n      <td>Jeanne Dielman, 23 Commerce Quay, 1080 Bruxelles</td>\n      <td>JOHN LEGUIZAMO</td>\n      <td>BIPOC WRITERS/POETS</td>\n      <td>A GODDAMNED GHOST</td>\n      <td>LADY DIRECTOR</td>\n      <td>PERIOD PIECES</td>\n      <td>PRUPPETS</td>\n      <td>POST-9/11, PRE-DEATH OF WHITNEY HOUSTON TYPE BEAT</td>\n      <td>No Theme/Free-for-all</td>\n    </tr>\n    <tr>\n      <th>2</th>\n      <td>9/1/2020 18:40:52</td>\n      <td>Badlands</td>\n      <td>Aguirre, the Wrath of God</td>\n      <td>Get Carter</td>\n      <td>The Terminal Man</td>\n      <td>Jeanne Dielman, 23 Commerce Quay, 1080 Bruxelles</td>\n      <td>McCabe &amp; Mrs. Miller</td>\n      <td>Belladonna of Sadness</td>\n      <td>A GODDAMNED GHOST</td>\n      <td>BIPOC WRITERS/POETS</td>\n      <td>LADY DIRECTOR</td>\n      <td>JOHN LEGUIZAMO</td>\n      <td>PERIOD PIECES</td>\n      <td>POST-9/11, PRE-DEATH OF WHITNEY HOUSTON TYPE BEAT</td>\n      <td>PRUPPETS</td>\n      <td>No Theme/Free-for-all</td>\n    </tr>\n    <tr>\n      <th>3</th>\n      <td>9/1/2020 19:05:47</td>\n      <td>Badlands</td>\n      <td>Belladonna of Sadness</td>\n      <td>Get Carter</td>\n      <td>Aguirre, the Wrath of God</td>\n      <td>Jeanne Dielman, 23 Commerce Quay, 1080 Bruxelles</td>\n      <td>McCabe &amp; Mrs. Miller</td>\n      <td>The Terminal Man</td>\n      <td>PRUPPETS</td>\n      <td>BIPOC WRITERS/POETS</td>\n      <td>A GODDAMNED GHOST</td>\n      <td>LADY DIRECTOR</td>\n      <td>JOHN LEGUIZAMO</td>\n      <td>PERIOD PIECES</td>\n      <td>POST-9/11, PRE-DEATH OF WHITNEY HOUSTON TYPE BEAT</td>\n      <td>No Theme/Free-for-all</td>\n    </tr>\n    <tr>\n      <th>4</th>\n      <td>9/1/2020 20:36:00</td>\n      <td>Aguirre, the Wrath of God</td>\n      <td>Badlands</td>\n      <td>The Terminal Man</td>\n      <td>Get Carter</td>\n      <td>Jeanne Dielman, 23 Commerce Quay, 1080 Bruxelles</td>\n      <td>McCabe &amp; Mrs. Miller</td>\n      <td>Belladonna of Sadness</td>\n      <td>PERIOD PIECES</td>\n      <td>A GODDAMNED GHOST</td>\n      <td>BIPOC WRITERS/POETS</td>\n      <td>LADY DIRECTOR</td>\n      <td>JOHN LEGUIZAMO</td>\n      <td>POST-9/11, PRE-DEATH OF WHITNEY HOUSTON TYPE BEAT</td>\n      <td>PRUPPETS</td>\n      <td>No Theme/Free-for-all</td>\n    </tr>\n    <tr>\n      <th>5</th>\n      <td>9/2/2020 13:37:14</td>\n      <td>Badlands</td>\n      <td>Get Carter</td>\n      <td>Aguirre, the Wrath of God</td>\n      <td>The Terminal Man</td>\n      <td>McCabe &amp; Mrs. Miller</td>\n      <td>Belladonna of Sadness</td>\n      <td>Jeanne Dielman, 23 Commerce Quay, 1080 Bruxelles</td>\n      <td>PRUPPETS</td>\n      <td>POST-9/11, PRE-DEATH OF WHITNEY HOUSTON TYPE BEAT</td>\n      <td>LADY DIRECTOR</td>\n      <td>PERIOD PIECES</td>\n      <td>BIPOC WRITERS/POETS</td>\n      <td>A GODDAMNED GHOST</td>\n      <td>JOHN LEGUIZAMO</td>\n      <td>No Theme/Free-for-all</td>\n    </tr>\n    <tr>\n      <th>6</th>\n      <td>9/2/2020 16:00:38</td>\n      <td>Get Carter</td>\n      <td>Badlands</td>\n      <td>The Terminal Man</td>\n      <td>Aguirre, the Wrath of God</td>\n      <td>McCabe &amp; Mrs. Miller</td>\n      <td>NaN</td>\n      <td>NaN</td>\n      <td>POST-9/11, PRE-DEATH OF WHITNEY HOUSTON TYPE BEAT</td>\n      <td>LADY DIRECTOR</td>\n      <td>PERIOD PIECES</td>\n      <td>BIPOC WRITERS/POETS</td>\n      <td>A GODDAMNED GHOST</td>\n      <td>PRUPPETS</td>\n      <td>JOHN LEGUIZAMO</td>\n      <td>NaN</td>\n    </tr>\n    <tr>\n      <th>7</th>\n      <td>9/2/2020 16:04:46</td>\n      <td>Get Carter</td>\n      <td>Badlands</td>\n      <td>Jeanne Dielman, 23 Commerce Quay, 1080 Bruxelles</td>\n      <td>Aguirre, the Wrath of God</td>\n      <td>McCabe &amp; Mrs. Miller</td>\n      <td>The Terminal Man</td>\n      <td>Belladonna of Sadness</td>\n      <td>LADY DIRECTOR</td>\n      <td>POST-9/11, PRE-DEATH OF WHITNEY HOUSTON TYPE BEAT</td>\n      <td>BIPOC WRITERS/POETS</td>\n      <td>A GODDAMNED GHOST</td>\n      <td>PERIOD PIECES</td>\n      <td>PRUPPETS</td>\n      <td>JOHN LEGUIZAMO</td>\n      <td>No Theme/Free-for-all</td>\n    </tr>\n    <tr>\n      <th>8</th>\n      <td>9/2/2020 17:21:34</td>\n      <td>Belladonna of Sadness</td>\n      <td>Aguirre, the Wrath of God</td>\n      <td>Badlands</td>\n      <td>Jeanne Dielman, 23 Commerce Quay, 1080 Bruxelles</td>\n      <td>McCabe &amp; Mrs. Miller</td>\n      <td>Get Carter</td>\n      <td>The Terminal Man</td>\n      <td>BIPOC WRITERS/POETS</td>\n      <td>JOHN LEGUIZAMO</td>\n      <td>POST-9/11, PRE-DEATH OF WHITNEY HOUSTON TYPE BEAT</td>\n      <td>LADY DIRECTOR</td>\n      <td>PERIOD PIECES</td>\n      <td>PRUPPETS</td>\n      <td>A GODDAMNED GHOST</td>\n      <td>No Theme/Free-for-all</td>\n    </tr>\n    <tr>\n      <th>9</th>\n      <td>9/2/2020 19:28:21</td>\n      <td>Jeanne Dielman, 23 Commerce Quay, 1080 Bruxelles</td>\n      <td>Get Carter</td>\n      <td>McCabe &amp; Mrs. Miller</td>\n      <td>The Terminal Man</td>\n      <td>Belladonna of Sadness</td>\n      <td>Aguirre, the Wrath of God</td>\n      <td>Badlands</td>\n      <td>LADY DIRECTOR</td>\n      <td>PERIOD PIECES</td>\n      <td>BIPOC WRITERS/POETS</td>\n      <td>A GODDAMNED GHOST</td>\n      <td>POST-9/11, PRE-DEATH OF WHITNEY HOUSTON TYPE BEAT</td>\n      <td>PRUPPETS</td>\n      <td>JOHN LEGUIZAMO</td>\n      <td>NaN</td>\n    </tr>\n  </tbody>\n</table>\n</div>"
     },
     "execution_count": 2,
     "metadata": {},
     "output_type": "execute_result"
    }
   ],
   "source": [
    "df = pd.read_csv(Path('./data/20200906.csv').resolve())\n",
    "df"
   ]
  },
  {
   "cell_type": "code",
   "execution_count": 3,
   "metadata": {},
   "outputs": [],
   "source": [
    "just_ballots = df.loc[:, df.columns.str.startswith('Rank')]\n",
    "next_week = df.loc[:, df.columns.str.startswith('What')]"
   ]
  },
  {
   "cell_type": "code",
   "execution_count": 4,
   "metadata": {},
   "outputs": [
    {
     "data": {
      "text/plain": "array(['Aguirre, the Wrath of God', 'McCabe & Mrs. Miller', 'Badlands',\n       'Belladonna of Sadness', 'Get Carter', 'The Terminal Man',\n       'Jeanne Dielman, 23 Commerce Quay, 1080 Bruxelles'], dtype=object)"
     },
     "execution_count": 4,
     "metadata": {},
     "output_type": "execute_result"
    }
   ],
   "source": [
    "submissions = just_ballots.loc[just_ballots.notna().all(axis=1).idxmax(),:].values\n",
    "submissions"
   ]
  },
  {
   "cell_type": "code",
   "execution_count": 5,
   "metadata": {},
   "outputs": [],
   "source": [
    "submission_dict = {submission: pyrankvote.Candidate(submission) for submission in submissions}"
   ]
  },
  {
   "cell_type": "code",
   "execution_count": 6,
   "metadata": {},
   "outputs": [],
   "source": [
    "balloted = just_ballots.applymap(lambda x: submission_dict[x] if isinstance(x, str) else x)"
   ]
  },
  {
   "cell_type": "code",
   "execution_count": 7,
   "metadata": {},
   "outputs": [
    {
     "data": {
      "text/plain": "{'Aguirre, the Wrath of God': <Candidate('Aguirre, the Wrath of God')>,\n 'McCabe & Mrs. Miller': <Candidate('McCabe & Mrs. Miller')>,\n 'Badlands': <Candidate('Badlands')>,\n 'Belladonna of Sadness': <Candidate('Belladonna of Sadness')>,\n 'Get Carter': <Candidate('Get Carter')>,\n 'The Terminal Man': <Candidate('The Terminal Man')>,\n 'Jeanne Dielman, 23 Commerce Quay, 1080 Bruxelles': <Candidate('Jeanne Dielman, 23 Commerce Quay, 1080 Bruxelles')>}"
     },
     "execution_count": 7,
     "metadata": {},
     "output_type": "execute_result"
    }
   ],
   "source": [
    "submission_dict"
   ]
  },
  {
   "cell_type": "code",
   "execution_count": 8,
   "metadata": {},
   "outputs": [],
   "source": [
    "ballots = []\n",
    "for ballot in balloted.itertuples():\n",
    "    ballots.append(pyrankvote.Ballot(ranked_candidates=[b for b in ballot if isinstance(b, pyrankvote.Candidate)]))"
   ]
  },
  {
   "cell_type": "code",
   "execution_count": 9,
   "metadata": {},
   "outputs": [
    {
     "data": {
      "text/plain": "[<Ballot(McCabe & Mrs. Miller, Jeanne Dielman, 23 Commerce Quay, 1080 Bruxelles, Belladonna of Sadness, The Terminal Man)>,\n <Ballot(Aguirre, the Wrath of God, McCabe & Mrs. Miller, Badlands, Belladonna of Sadness, Get Carter, The Terminal Man, Jeanne Dielman, 23 Commerce Quay, 1080 Bruxelles)>,\n <Ballot(Badlands, Aguirre, the Wrath of God, Get Carter, The Terminal Man, Jeanne Dielman, 23 Commerce Quay, 1080 Bruxelles, McCabe & Mrs. Miller, Belladonna of Sadness)>,\n <Ballot(Badlands, Belladonna of Sadness, Get Carter, Aguirre, the Wrath of God, Jeanne Dielman, 23 Commerce Quay, 1080 Bruxelles, McCabe & Mrs. Miller, The Terminal Man)>,\n <Ballot(Aguirre, the Wrath of God, Badlands, The Terminal Man, Get Carter, Jeanne Dielman, 23 Commerce Quay, 1080 Bruxelles, McCabe & Mrs. Miller, Belladonna of Sadness)>,\n <Ballot(Badlands, Get Carter, Aguirre, the Wrath of God, The Terminal Man, McCabe & Mrs. Miller, Belladonna of Sadness, Jeanne Dielman, 23 Commerce Quay, 1080 Bruxelles)>,\n <Ballot(Get Carter, Badlands, The Terminal Man, Aguirre, the Wrath of God, McCabe & Mrs. Miller)>,\n <Ballot(Get Carter, Badlands, Jeanne Dielman, 23 Commerce Quay, 1080 Bruxelles, Aguirre, the Wrath of God, McCabe & Mrs. Miller, The Terminal Man, Belladonna of Sadness)>,\n <Ballot(Belladonna of Sadness, Aguirre, the Wrath of God, Badlands, Jeanne Dielman, 23 Commerce Quay, 1080 Bruxelles, McCabe & Mrs. Miller, Get Carter, The Terminal Man)>,\n <Ballot(Jeanne Dielman, 23 Commerce Quay, 1080 Bruxelles, Get Carter, McCabe & Mrs. Miller, The Terminal Man, Belladonna of Sadness, Aguirre, the Wrath of God, Badlands)>]"
     },
     "execution_count": 9,
     "metadata": {},
     "output_type": "execute_result"
    }
   ],
   "source": [
    "ballots"
   ]
  },
  {
   "cell_type": "code",
   "execution_count": 10,
   "metadata": {},
   "outputs": [],
   "source": [
    "election_result = pyrankvote.instant_runoff_voting(submission_dict.values(), ballots,)"
   ]
  },
  {
   "cell_type": "code",
   "execution_count": 11,
   "metadata": {},
   "outputs": [
    {
     "name": "stdout",
     "output_type": "stream",
     "text": [
      "ROUND 1\n",
      "Candidate                                           Votes  Status\n",
      "------------------------------------------------  -------  --------\n",
      "Badlands                                                3  Hopeful\n",
      "Get Carter                                              2  Hopeful\n",
      "Aguirre, the Wrath of God                               2  Hopeful\n",
      "Jeanne Dielman, 23 Commerce Quay, 1080 Bruxelles        1  Hopeful\n",
      "Belladonna of Sadness                                   1  Hopeful\n",
      "McCabe & Mrs. Miller                                    1  Rejected\n",
      "The Terminal Man                                        0  Rejected\n",
      "\n",
      "ROUND 2\n",
      "Candidate                                           Votes  Status\n",
      "------------------------------------------------  -------  --------\n",
      "Badlands                                                3  Hopeful\n",
      "Get Carter                                              2  Hopeful\n",
      "Aguirre, the Wrath of God                               2  Hopeful\n",
      "Jeanne Dielman, 23 Commerce Quay, 1080 Bruxelles        2  Hopeful\n",
      "Belladonna of Sadness                                   1  Rejected\n",
      "McCabe & Mrs. Miller                                    0  Rejected\n",
      "The Terminal Man                                        0  Rejected\n",
      "\n",
      "ROUND 3\n",
      "Candidate                                           Votes  Status\n",
      "------------------------------------------------  -------  --------\n",
      "Badlands                                                3  Hopeful\n",
      "Aguirre, the Wrath of God                               3  Hopeful\n",
      "Get Carter                                              2  Hopeful\n",
      "Jeanne Dielman, 23 Commerce Quay, 1080 Bruxelles        2  Rejected\n",
      "Belladonna of Sadness                                   0  Rejected\n",
      "McCabe & Mrs. Miller                                    0  Rejected\n",
      "The Terminal Man                                        0  Rejected\n",
      "\n",
      "ROUND 4\n",
      "Candidate                                           Votes  Status\n",
      "------------------------------------------------  -------  --------\n",
      "Badlands                                                3  Hopeful\n",
      "Aguirre, the Wrath of God                               3  Hopeful\n",
      "Get Carter                                              3  Rejected\n",
      "Jeanne Dielman, 23 Commerce Quay, 1080 Bruxelles        0  Rejected\n",
      "Belladonna of Sadness                                   0  Rejected\n",
      "McCabe & Mrs. Miller                                    0  Rejected\n",
      "The Terminal Man                                        0  Rejected\n",
      "Blank votes                                             1  Rejected\n",
      "\n",
      "FINAL RESULT\n",
      "Candidate                                           Votes  Status\n",
      "------------------------------------------------  -------  --------\n",
      "Badlands                                                5  Elected\n",
      "Aguirre, the Wrath of God                               4  Rejected\n",
      "Get Carter                                              0  Rejected\n",
      "Jeanne Dielman, 23 Commerce Quay, 1080 Bruxelles        0  Rejected\n",
      "Belladonna of Sadness                                   0  Rejected\n",
      "McCabe & Mrs. Miller                                    0  Rejected\n",
      "The Terminal Man                                        0  Rejected\n",
      "Blank votes                                             1  Rejected\n",
      "\n"
     ]
    }
   ],
   "source": [
    "print(election_result)"
   ]
  },
  {
   "cell_type": "code",
   "execution_count": 12,
   "metadata": {},
   "outputs": [
    {
     "name": "stdout",
     "output_type": "stream",
     "text": [
      "ROUND 1\n",
      "Candidate                                            Votes  Status\n",
      "-------------------------------------------------  -------  --------\n",
      "LADY DIRECTOR                                            2  Hopeful\n",
      "A GODDAMNED GHOST                                        2  Hopeful\n",
      "PRUPPETS                                                 2  Hopeful\n",
      "BIPOC WRITERS/POETS                                      1  Hopeful\n",
      "POST-9/11, PRE-DEATH OF WHITNEY HOUSTON TYPE BEAT        1  Hopeful\n",
      "PERIOD PIECES                                            1  Hopeful\n",
      "JOHN LEGUIZAMO                                           1  Rejected\n",
      "No Theme/Free-for-all                                    0  Rejected\n",
      "\n",
      "ROUND 2\n",
      "Candidate                                            Votes  Status\n",
      "-------------------------------------------------  -------  --------\n",
      "LADY DIRECTOR                                            2  Hopeful\n",
      "BIPOC WRITERS/POETS                                      2  Hopeful\n",
      "A GODDAMNED GHOST                                        2  Hopeful\n",
      "PRUPPETS                                                 2  Hopeful\n",
      "POST-9/11, PRE-DEATH OF WHITNEY HOUSTON TYPE BEAT        1  Rejected\n",
      "PERIOD PIECES                                            1  Rejected\n",
      "JOHN LEGUIZAMO                                           0  Rejected\n",
      "No Theme/Free-for-all                                    0  Rejected\n",
      "\n",
      "ROUND 3\n",
      "Candidate                                            Votes  Status\n",
      "-------------------------------------------------  -------  --------\n",
      "LADY DIRECTOR                                            3  Hopeful\n",
      "A GODDAMNED GHOST                                        3  Hopeful\n",
      "BIPOC WRITERS/POETS                                      2  Hopeful\n",
      "PRUPPETS                                                 2  Rejected\n",
      "POST-9/11, PRE-DEATH OF WHITNEY HOUSTON TYPE BEAT        0  Rejected\n",
      "PERIOD PIECES                                            0  Rejected\n",
      "JOHN LEGUIZAMO                                           0  Rejected\n",
      "No Theme/Free-for-all                                    0  Rejected\n",
      "\n",
      "ROUND 4\n",
      "Candidate                                            Votes  Status\n",
      "-------------------------------------------------  -------  --------\n",
      "LADY DIRECTOR                                            4  Hopeful\n",
      "BIPOC WRITERS/POETS                                      3  Hopeful\n",
      "A GODDAMNED GHOST                                        3  Rejected\n",
      "PRUPPETS                                                 0  Rejected\n",
      "POST-9/11, PRE-DEATH OF WHITNEY HOUSTON TYPE BEAT        0  Rejected\n",
      "PERIOD PIECES                                            0  Rejected\n",
      "JOHN LEGUIZAMO                                           0  Rejected\n",
      "No Theme/Free-for-all                                    0  Rejected\n",
      "\n",
      "FINAL RESULT\n",
      "Candidate                                            Votes  Status\n",
      "-------------------------------------------------  -------  --------\n",
      "BIPOC WRITERS/POETS                                      5  Elected\n",
      "LADY DIRECTOR                                            5  Rejected\n",
      "A GODDAMNED GHOST                                        0  Rejected\n",
      "PRUPPETS                                                 0  Rejected\n",
      "POST-9/11, PRE-DEATH OF WHITNEY HOUSTON TYPE BEAT        0  Rejected\n",
      "PERIOD PIECES                                            0  Rejected\n",
      "JOHN LEGUIZAMO                                           0  Rejected\n",
      "No Theme/Free-for-all                                    0  Rejected\n",
      "\n"
     ]
    }
   ],
   "source": [
    "submissions = next_week.loc[next_week.notna().all(axis=1).idxmax(),:].values\n",
    "submission_dict = {submission: pyrankvote.Candidate(submission) for submission in submissions}\n",
    "balloted = next_week.applymap(lambda x: submission_dict[x] if isinstance(x, str) else x)\n",
    "ballots = []\n",
    "for ballot in balloted.itertuples():\n",
    "    ballots.append(pyrankvote.Ballot(ranked_candidates=[b for b in ballot if isinstance(b, pyrankvote.Candidate)]))\n",
    "print(pyrankvote.instant_runoff_voting(submission_dict.values(), ballots,))"
   ]
  }
 ],
 "metadata": {
  "kernelspec": {
   "display_name": "Python 3",
   "language": "python",
   "name": "python3"
  },
  "language_info": {
   "codemirror_mode": {
    "name": "ipython",
    "version": 3
   },
   "file_extension": ".py",
   "mimetype": "text/x-python",
   "name": "python",
   "nbconvert_exporter": "python",
   "pygments_lexer": "ipython3",
   "version": "3.7.4"
  }
 },
 "nbformat": 4,
 "nbformat_minor": 2
}