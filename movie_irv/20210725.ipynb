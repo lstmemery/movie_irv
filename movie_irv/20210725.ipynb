{
 "cells": [
  {
   "cell_type": "code",
   "execution_count": 1,
   "metadata": {},
   "outputs": [],
   "source": [
    "import pandas as pd\n",
    "import pyrankvote\n",
    "from pathlib import Path\n",
    "from random import seed\n",
    "seed(252)"
   ]
  },
  {
   "cell_type": "code",
   "execution_count": 2,
   "metadata": {},
   "outputs": [
    {
     "data": {
      "text/plain": "             Timestamp  \\\n0  20/07/2021 22:12:55   \n1  20/07/2021 22:15:32   \n2  21/07/2021 05:58:45   \n3  21/07/2021 13:22:49   \n\n  Rank your movie choices. You don't have to do a full ranking. [First Choice]  \\\n0                                 Three Women (1977)                             \n1                                 Three Women (1977)                             \n2                                Total Recall (1990)                             \n3                                 Three Women (1977)                             \n\n  Rank your movie choices. You don't have to do a full ranking. [Second Choice]  \\\n0                               Dead of Night (1945)                              \n1                               Dead of Night (1945)                              \n2                                 Three Women (1977)                              \n3                                Total Recall (1990)                              \n\n  Rank your movie choices. You don't have to do a full ranking. [Third Choice]  \\\n0                                      Dreams (1990)                             \n1                                      Dreams (1990)                             \n2                               Dead of Night (1945)                             \n3                               Dead of Night (1945)                             \n\n  Rank your movie choices. You don't have to do a full ranking. [Fourth Choice]  \\\n0                                Total Recall (1990)                              \n1                                                NaN                              \n2                                                NaN                              \n3                                      Dreams (1990)                              \n\n  What theme should we explore next week? [First Choice]  \\\n0                               NOT THE BEST PARENTS       \n1                                           NEO-NOIR       \n2                               NOT THE BEST PARENTS       \n3                               NOT THE BEST PARENTS       \n\n  What theme should we explore next week? [Second Choice]  \\\n0                          [Default to Nicolas Cage]        \n1                                MALE FRONTAL NUDITY        \n2                                           NEO-NOIR        \n3                                  SIGNATURE VEHICLE        \n\n  What theme should we explore next week? [Third Choice]  \\\n0                                MALE FRONTAL NUDITY       \n1                                  SIGNATURE VEHICLE       \n2                                  SIGNATURE VEHICLE       \n3                                           NEO-NOIR       \n\n  What theme should we explore next week? [Fourth Choice]  \\\n0                                  SIGNATURE VEHICLE        \n1                               NOT THE BEST PARENTS        \n2                                                NaN        \n3                                MALE FRONTAL NUDITY        \n\n  What theme should we explore next week? [Fifth Choice]  \n0                                           NEO-NOIR      \n1                          [Default to Nicolas Cage]      \n2                                                NaN      \n3                          [Default to Nicolas Cage]      ",
      "text/html": "<div>\n<style scoped>\n    .dataframe tbody tr th:only-of-type {\n        vertical-align: middle;\n    }\n\n    .dataframe tbody tr th {\n        vertical-align: top;\n    }\n\n    .dataframe thead th {\n        text-align: right;\n    }\n</style>\n<table border=\"1\" class=\"dataframe\">\n  <thead>\n    <tr style=\"text-align: right;\">\n      <th></th>\n      <th>Timestamp</th>\n      <th>Rank your movie choices. You don't have to do a full ranking. [First Choice]</th>\n      <th>Rank your movie choices. You don't have to do a full ranking. [Second Choice]</th>\n      <th>Rank your movie choices. You don't have to do a full ranking. [Third Choice]</th>\n      <th>Rank your movie choices. You don't have to do a full ranking. [Fourth Choice]</th>\n      <th>What theme should we explore next week? [First Choice]</th>\n      <th>What theme should we explore next week? [Second Choice]</th>\n      <th>What theme should we explore next week? [Third Choice]</th>\n      <th>What theme should we explore next week? [Fourth Choice]</th>\n      <th>What theme should we explore next week? [Fifth Choice]</th>\n    </tr>\n  </thead>\n  <tbody>\n    <tr>\n      <th>0</th>\n      <td>20/07/2021 22:12:55</td>\n      <td>Three Women (1977)</td>\n      <td>Dead of Night (1945)</td>\n      <td>Dreams (1990)</td>\n      <td>Total Recall (1990)</td>\n      <td>NOT THE BEST PARENTS</td>\n      <td>[Default to Nicolas Cage]</td>\n      <td>MALE FRONTAL NUDITY</td>\n      <td>SIGNATURE VEHICLE</td>\n      <td>NEO-NOIR</td>\n    </tr>\n    <tr>\n      <th>1</th>\n      <td>20/07/2021 22:15:32</td>\n      <td>Three Women (1977)</td>\n      <td>Dead of Night (1945)</td>\n      <td>Dreams (1990)</td>\n      <td>NaN</td>\n      <td>NEO-NOIR</td>\n      <td>MALE FRONTAL NUDITY</td>\n      <td>SIGNATURE VEHICLE</td>\n      <td>NOT THE BEST PARENTS</td>\n      <td>[Default to Nicolas Cage]</td>\n    </tr>\n    <tr>\n      <th>2</th>\n      <td>21/07/2021 05:58:45</td>\n      <td>Total Recall (1990)</td>\n      <td>Three Women (1977)</td>\n      <td>Dead of Night (1945)</td>\n      <td>NaN</td>\n      <td>NOT THE BEST PARENTS</td>\n      <td>NEO-NOIR</td>\n      <td>SIGNATURE VEHICLE</td>\n      <td>NaN</td>\n      <td>NaN</td>\n    </tr>\n    <tr>\n      <th>3</th>\n      <td>21/07/2021 13:22:49</td>\n      <td>Three Women (1977)</td>\n      <td>Total Recall (1990)</td>\n      <td>Dead of Night (1945)</td>\n      <td>Dreams (1990)</td>\n      <td>NOT THE BEST PARENTS</td>\n      <td>SIGNATURE VEHICLE</td>\n      <td>NEO-NOIR</td>\n      <td>MALE FRONTAL NUDITY</td>\n      <td>[Default to Nicolas Cage]</td>\n    </tr>\n  </tbody>\n</table>\n</div>"
     },
     "execution_count": 2,
     "metadata": {},
     "output_type": "execute_result"
    }
   ],
   "source": [
    "df = pd.read_csv(Path('./data/20210725.csv').resolve())\n",
    "df"
   ]
  },
  {
   "cell_type": "code",
   "execution_count": 3,
   "metadata": {},
   "outputs": [],
   "source": [
    "just_ballots = df.loc[:, df.columns.str.startswith('Rank')]\n",
    "next_week = df.loc[:, df.columns.str.startswith('What')]"
   ]
  },
  {
   "cell_type": "code",
   "execution_count": 4,
   "metadata": {},
   "outputs": [
    {
     "data": {
      "text/plain": "array(['Three Women (1977)', 'Dead of Night (1945)', 'Dreams (1990)',\n       'Total Recall (1990)'], dtype=object)"
     },
     "execution_count": 4,
     "metadata": {},
     "output_type": "execute_result"
    }
   ],
   "source": [
    "submissions = just_ballots.loc[just_ballots.notna().all(axis=1).idxmax(),:].values\n",
    "submissions"
   ]
  },
  {
   "cell_type": "code",
   "execution_count": 5,
   "metadata": {},
   "outputs": [],
   "source": [
    "submission_dict = {submission: pyrankvote.Candidate(submission) for submission in submissions}"
   ]
  },
  {
   "cell_type": "code",
   "execution_count": 6,
   "metadata": {},
   "outputs": [],
   "source": [
    "balloted = just_ballots.applymap(lambda x: submission_dict[x] if isinstance(x, str) else x)"
   ]
  },
  {
   "cell_type": "code",
   "execution_count": 7,
   "metadata": {},
   "outputs": [
    {
     "data": {
      "text/plain": "{'Three Women (1977)': <Candidate('Three Women (1977)')>,\n 'Dead of Night (1945)': <Candidate('Dead of Night (1945)')>,\n 'Dreams (1990)': <Candidate('Dreams (1990)')>,\n 'Total Recall (1990)': <Candidate('Total Recall (1990)')>}"
     },
     "execution_count": 7,
     "metadata": {},
     "output_type": "execute_result"
    }
   ],
   "source": [
    "submission_dict"
   ]
  },
  {
   "cell_type": "code",
   "execution_count": 8,
   "metadata": {},
   "outputs": [],
   "source": [
    "ballots = []\n",
    "for ballot in balloted.itertuples():\n",
    "    ballots.append(pyrankvote.Ballot(ranked_candidates=[b for b in ballot if isinstance(b, pyrankvote.Candidate)]))"
   ]
  },
  {
   "cell_type": "code",
   "execution_count": 9,
   "metadata": {},
   "outputs": [
    {
     "data": {
      "text/plain": "[<Ballot(Three Women (1977), Dead of Night (1945), Dreams (1990), Total Recall (1990))>,\n <Ballot(Three Women (1977), Dead of Night (1945), Dreams (1990))>,\n <Ballot(Total Recall (1990), Three Women (1977), Dead of Night (1945))>,\n <Ballot(Three Women (1977), Total Recall (1990), Dead of Night (1945), Dreams (1990))>]"
     },
     "execution_count": 9,
     "metadata": {},
     "output_type": "execute_result"
    }
   ],
   "source": [
    "ballots"
   ]
  },
  {
   "cell_type": "code",
   "execution_count": 10,
   "metadata": {},
   "outputs": [],
   "source": [
    "election_result = pyrankvote.instant_runoff_voting(submission_dict.values(), ballots,)"
   ]
  },
  {
   "cell_type": "code",
   "execution_count": 11,
   "metadata": {},
   "outputs": [
    {
     "name": "stdout",
     "output_type": "stream",
     "text": [
      "FINAL RESULT\n",
      "Candidate               Votes  Status\n",
      "--------------------  -------  --------\n",
      "Three Women (1977)          3  Elected\n",
      "Total Recall (1990)         1  Rejected\n",
      "Dead of Night (1945)        0  Rejected\n",
      "Dreams (1990)               0  Rejected\n",
      "\n"
     ]
    }
   ],
   "source": [
    "print(election_result)"
   ]
  },
  {
   "cell_type": "code",
   "execution_count": 12,
   "metadata": {},
   "outputs": [
    {
     "name": "stdout",
     "output_type": "stream",
     "text": [
      "FINAL RESULT\n",
      "Candidate                    Votes  Status\n",
      "-------------------------  -------  --------\n",
      "NOT THE BEST PARENTS             3  Elected\n",
      "NEO-NOIR                         1  Rejected\n",
      "SIGNATURE VEHICLE                0  Rejected\n",
      "MALE FRONTAL NUDITY              0  Rejected\n",
      "[Default to Nicolas Cage]        0  Rejected\n",
      "\n"
     ]
    }
   ],
   "source": [
    "submissions = next_week.loc[next_week.notna().all(axis=1).idxmax(),:].values\n",
    "submission_dict = {submission: pyrankvote.Candidate(submission) for submission in submissions}\n",
    "balloted = next_week.applymap(lambda x: submission_dict[x] if isinstance(x, str) else x)\n",
    "ballots = []\n",
    "for ballot in balloted.itertuples():\n",
    "    ballots.append(pyrankvote.Ballot(ranked_candidates=[b for b in ballot if isinstance(b, pyrankvote.Candidate)]))\n",
    "print(pyrankvote.instant_runoff_voting(submission_dict.values(), ballots,))"
   ]
  }
 ],
 "metadata": {
  "kernelspec": {
   "display_name": "Python 3",
   "language": "python",
   "name": "python3"
  },
  "language_info": {
   "codemirror_mode": {
    "name": "ipython",
    "version": 3
   },
   "file_extension": ".py",
   "mimetype": "text/x-python",
   "name": "python",
   "nbconvert_exporter": "python",
   "pygments_lexer": "ipython3",
   "version": "3.7.4"
  }
 },
 "nbformat": 4,
 "nbformat_minor": 2
}