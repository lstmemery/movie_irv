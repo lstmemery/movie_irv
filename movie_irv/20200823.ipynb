{
 "cells": [
  {
   "cell_type": "code",
   "execution_count": 1,
   "metadata": {},
   "outputs": [],
   "source": [
    "import pandas as pd\n",
    "import pyrankvote\n",
    "from pathlib import Path"
   ]
  },
  {
   "cell_type": "code",
   "execution_count": 2,
   "metadata": {},
   "outputs": [
    {
     "data": {
      "text/plain": "            Timestamp  \\\n0  8/19/2020 20:32:37   \n1  8/19/2020 20:35:16   \n2  8/19/2020 20:41:40   \n3   8/20/2020 9:04:58   \n4   8/20/2020 9:05:44   \n5  8/20/2020 19:53:03   \n6   8/21/2020 9:24:55   \n7   8/21/2020 9:40:53   \n8  8/21/2020 15:58:14   \n\n  Rank your movie choices. You don't have to do a full ranking. [First Choice]  \\\n0                                Spanking the Monkey                             \n1                                  Samurai Rebellion                             \n2                                      The Sacrifice                             \n3                                  Samurai Rebellion                             \n4                                             Festen                             \n5                                  Samurai Rebellion                             \n6                                      The Sacrifice                             \n7                                  Samurai Rebellion                             \n8                               The Royal Tenenbaums                             \n\n  Rank your movie choices. You don't have to do a full ranking. [Second Choice]  \\\n0                               The Royal Tenenbaums                              \n1                                Spanking the Monkey                              \n2                                  Samurai Rebellion                              \n3                               The Royal Tenenbaums                              \n4                                      The Sacrifice                              \n5                               The Royal Tenenbaums                              \n6                                  Samurai Rebellion                              \n7                                      The Sacrifice                              \n8                                      The Sacrifice                              \n\n  Rank your movie choices. You don't have to do a full ranking. [Third Choice]  \\\n0                                  Samurai Rebellion                             \n1                                      The Sacrifice                             \n2                                             Festen                             \n3                                Spanking the Monkey                             \n4                               The Royal Tenenbaums                             \n5                                             Festen                             \n6                                Spanking the Monkey                             \n7                                Spanking the Monkey                             \n8                                Spanking the Monkey                             \n\n  Rank your movie choices. You don't have to do a full ranking. [Fourth Choice]  \\\n0                                                NaN                              \n1                               The Royal Tenenbaums                              \n2                                Spanking the Monkey                              \n3                                      The Sacrifice                              \n4                                  Samurai Rebellion                              \n5                                Spanking the Monkey                              \n6                                             Festen                              \n7                                             Festen                              \n8                                  Samurai Rebellion                              \n\n  Rank your movie choices. You don't have to do a full ranking. [Fifth Choice]  \\\n0                                                NaN                             \n1                                             Festen                             \n2                                                NaN                             \n3                                             Festen                             \n4                                Spanking the Monkey                             \n5                                                NaN                             \n6                               The Royal Tenenbaums                             \n7                               The Royal Tenenbaums                             \n8                                             Festen                             \n\n  What theme should we explore next week? [First Choice]  \\\n0                             THIS JOB IS KILLING ME       \n1                             THIS JOB IS KILLING ME       \n2                                   SURREALITY BITES       \n3                             THIS JOB IS KILLING ME       \n4                                   EASTERN EUROPEAN       \n5                                   SURREALITY BITES       \n6                             THIS JOB IS KILLING ME       \n7                             THIS JOB IS KILLING ME       \n8                                        BAD HISTORY       \n\n  What theme should we explore next week? [Second Choice]  \\\n0                                        BAD HISTORY        \n1                                        BAD HISTORY        \n2                                   EASTERN EUROPEAN        \n3                                        BAD HISTORY        \n4                             THIS JOB IS KILLING ME        \n5                                        BAD HISTORY        \n6                        THRILLER? I BARELY KNOW 'ER        \n7                                   EASTERN EUROPEAN        \n8                             THIS JOB IS KILLING ME        \n\n  What theme should we explore next week? [Third Choice]  \\\n0                                   SURREALITY BITES       \n1                                   EASTERN EUROPEAN       \n2                        THRILLER? I BARELY KNOW 'ER       \n3                                   EASTERN EUROPEAN       \n4                        THRILLER? I BARELY KNOW 'ER       \n5                                   EASTERN EUROPEAN       \n6                                   EASTERN EUROPEAN       \n7                                   SURREALITY BITES       \n8                        THRILLER? I BARELY KNOW 'ER       \n\n  What theme should we explore next week? [Fourth Choice]  \\\n0                                   EASTERN EUROPEAN        \n1                                   SURREALITY BITES        \n2                             THIS JOB IS KILLING ME        \n3                        THRILLER? I BARELY KNOW 'ER        \n4                                   SURREALITY BITES        \n5                        THRILLER? I BARELY KNOW 'ER        \n6                                        BAD HISTORY        \n7                        THRILLER? I BARELY KNOW 'ER        \n8                                   SURREALITY BITES        \n\n  What theme should we explore next week? [Fifth Choice]  \\\n0                                                NaN       \n1                        THRILLER? I BARELY KNOW 'ER       \n2                                        BAD HISTORY       \n3                                   SURREALITY BITES       \n4                                        BAD HISTORY       \n5                             THIS JOB IS KILLING ME       \n6                                   SURREALITY BITES       \n7                                        BAD HISTORY       \n8                                   EASTERN EUROPEAN       \n\n  What theme should we explore next week? [Sixth Choice]  \n0                                                NaN      \n1                              No Theme/Free-for-all      \n2                              No Theme/Free-for-all      \n3                              No Theme/Free-for-all      \n4                                                NaN      \n5                                                NaN      \n6                                                NaN      \n7                              No Theme/Free-for-all      \n8                              No Theme/Free-for-all      ",
      "text/html": "<div>\n<style scoped>\n    .dataframe tbody tr th:only-of-type {\n        vertical-align: middle;\n    }\n\n    .dataframe tbody tr th {\n        vertical-align: top;\n    }\n\n    .dataframe thead th {\n        text-align: right;\n    }\n</style>\n<table border=\"1\" class=\"dataframe\">\n  <thead>\n    <tr style=\"text-align: right;\">\n      <th></th>\n      <th>Timestamp</th>\n      <th>Rank your movie choices. You don't have to do a full ranking. [First Choice]</th>\n      <th>Rank your movie choices. You don't have to do a full ranking. [Second Choice]</th>\n      <th>Rank your movie choices. You don't have to do a full ranking. [Third Choice]</th>\n      <th>Rank your movie choices. You don't have to do a full ranking. [Fourth Choice]</th>\n      <th>Rank your movie choices. You don't have to do a full ranking. [Fifth Choice]</th>\n      <th>What theme should we explore next week? [First Choice]</th>\n      <th>What theme should we explore next week? [Second Choice]</th>\n      <th>What theme should we explore next week? [Third Choice]</th>\n      <th>What theme should we explore next week? [Fourth Choice]</th>\n      <th>What theme should we explore next week? [Fifth Choice]</th>\n      <th>What theme should we explore next week? [Sixth Choice]</th>\n    </tr>\n  </thead>\n  <tbody>\n    <tr>\n      <th>0</th>\n      <td>8/19/2020 20:32:37</td>\n      <td>Spanking the Monkey</td>\n      <td>The Royal Tenenbaums</td>\n      <td>Samurai Rebellion</td>\n      <td>NaN</td>\n      <td>NaN</td>\n      <td>THIS JOB IS KILLING ME</td>\n      <td>BAD HISTORY</td>\n      <td>SURREALITY BITES</td>\n      <td>EASTERN EUROPEAN</td>\n      <td>NaN</td>\n      <td>NaN</td>\n    </tr>\n    <tr>\n      <th>1</th>\n      <td>8/19/2020 20:35:16</td>\n      <td>Samurai Rebellion</td>\n      <td>Spanking the Monkey</td>\n      <td>The Sacrifice</td>\n      <td>The Royal Tenenbaums</td>\n      <td>Festen</td>\n      <td>THIS JOB IS KILLING ME</td>\n      <td>BAD HISTORY</td>\n      <td>EASTERN EUROPEAN</td>\n      <td>SURREALITY BITES</td>\n      <td>THRILLER? I BARELY KNOW 'ER</td>\n      <td>No Theme/Free-for-all</td>\n    </tr>\n    <tr>\n      <th>2</th>\n      <td>8/19/2020 20:41:40</td>\n      <td>The Sacrifice</td>\n      <td>Samurai Rebellion</td>\n      <td>Festen</td>\n      <td>Spanking the Monkey</td>\n      <td>NaN</td>\n      <td>SURREALITY BITES</td>\n      <td>EASTERN EUROPEAN</td>\n      <td>THRILLER? I BARELY KNOW 'ER</td>\n      <td>THIS JOB IS KILLING ME</td>\n      <td>BAD HISTORY</td>\n      <td>No Theme/Free-for-all</td>\n    </tr>\n    <tr>\n      <th>3</th>\n      <td>8/20/2020 9:04:58</td>\n      <td>Samurai Rebellion</td>\n      <td>The Royal Tenenbaums</td>\n      <td>Spanking the Monkey</td>\n      <td>The Sacrifice</td>\n      <td>Festen</td>\n      <td>THIS JOB IS KILLING ME</td>\n      <td>BAD HISTORY</td>\n      <td>EASTERN EUROPEAN</td>\n      <td>THRILLER? I BARELY KNOW 'ER</td>\n      <td>SURREALITY BITES</td>\n      <td>No Theme/Free-for-all</td>\n    </tr>\n    <tr>\n      <th>4</th>\n      <td>8/20/2020 9:05:44</td>\n      <td>Festen</td>\n      <td>The Sacrifice</td>\n      <td>The Royal Tenenbaums</td>\n      <td>Samurai Rebellion</td>\n      <td>Spanking the Monkey</td>\n      <td>EASTERN EUROPEAN</td>\n      <td>THIS JOB IS KILLING ME</td>\n      <td>THRILLER? I BARELY KNOW 'ER</td>\n      <td>SURREALITY BITES</td>\n      <td>BAD HISTORY</td>\n      <td>NaN</td>\n    </tr>\n    <tr>\n      <th>5</th>\n      <td>8/20/2020 19:53:03</td>\n      <td>Samurai Rebellion</td>\n      <td>The Royal Tenenbaums</td>\n      <td>Festen</td>\n      <td>Spanking the Monkey</td>\n      <td>NaN</td>\n      <td>SURREALITY BITES</td>\n      <td>BAD HISTORY</td>\n      <td>EASTERN EUROPEAN</td>\n      <td>THRILLER? I BARELY KNOW 'ER</td>\n      <td>THIS JOB IS KILLING ME</td>\n      <td>NaN</td>\n    </tr>\n    <tr>\n      <th>6</th>\n      <td>8/21/2020 9:24:55</td>\n      <td>The Sacrifice</td>\n      <td>Samurai Rebellion</td>\n      <td>Spanking the Monkey</td>\n      <td>Festen</td>\n      <td>The Royal Tenenbaums</td>\n      <td>THIS JOB IS KILLING ME</td>\n      <td>THRILLER? I BARELY KNOW 'ER</td>\n      <td>EASTERN EUROPEAN</td>\n      <td>BAD HISTORY</td>\n      <td>SURREALITY BITES</td>\n      <td>NaN</td>\n    </tr>\n    <tr>\n      <th>7</th>\n      <td>8/21/2020 9:40:53</td>\n      <td>Samurai Rebellion</td>\n      <td>The Sacrifice</td>\n      <td>Spanking the Monkey</td>\n      <td>Festen</td>\n      <td>The Royal Tenenbaums</td>\n      <td>THIS JOB IS KILLING ME</td>\n      <td>EASTERN EUROPEAN</td>\n      <td>SURREALITY BITES</td>\n      <td>THRILLER? I BARELY KNOW 'ER</td>\n      <td>BAD HISTORY</td>\n      <td>No Theme/Free-for-all</td>\n    </tr>\n    <tr>\n      <th>8</th>\n      <td>8/21/2020 15:58:14</td>\n      <td>The Royal Tenenbaums</td>\n      <td>The Sacrifice</td>\n      <td>Spanking the Monkey</td>\n      <td>Samurai Rebellion</td>\n      <td>Festen</td>\n      <td>BAD HISTORY</td>\n      <td>THIS JOB IS KILLING ME</td>\n      <td>THRILLER? I BARELY KNOW 'ER</td>\n      <td>SURREALITY BITES</td>\n      <td>EASTERN EUROPEAN</td>\n      <td>No Theme/Free-for-all</td>\n    </tr>\n  </tbody>\n</table>\n</div>"
     },
     "execution_count": 2,
     "metadata": {},
     "output_type": "execute_result"
    }
   ],
   "source": [
    "df = pd.read_csv(Path('./data/20200823.csv').resolve())\n",
    "df"
   ]
  },
  {
   "cell_type": "code",
   "execution_count": 3,
   "metadata": {},
   "outputs": [],
   "source": [
    "just_ballots = df.loc[:, df.columns.str.startswith('Rank')]\n",
    "next_week = df.loc[:, df.columns.str.startswith('What')]"
   ]
  },
  {
   "cell_type": "code",
   "execution_count": 4,
   "metadata": {},
   "outputs": [
    {
     "data": {
      "text/plain": "array(['Samurai Rebellion', 'Spanking the Monkey', 'The Sacrifice',\n       'The Royal Tenenbaums', 'Festen'], dtype=object)"
     },
     "execution_count": 4,
     "metadata": {},
     "output_type": "execute_result"
    }
   ],
   "source": [
    "submissions = just_ballots.loc[just_ballots.notna().all(axis=1).idxmax(),:].values\n",
    "submissions"
   ]
  },
  {
   "cell_type": "code",
   "execution_count": 5,
   "metadata": {},
   "outputs": [],
   "source": [
    "submission_dict = {submission: pyrankvote.Candidate(submission) for submission in submissions}"
   ]
  },
  {
   "cell_type": "code",
   "execution_count": 6,
   "metadata": {},
   "outputs": [],
   "source": [
    "balloted = just_ballots.applymap(lambda x: submission_dict[x] if isinstance(x, str) else x)"
   ]
  },
  {
   "cell_type": "code",
   "execution_count": 7,
   "metadata": {},
   "outputs": [
    {
     "data": {
      "text/plain": "{'Samurai Rebellion': <Candidate('Samurai Rebellion')>,\n 'Spanking the Monkey': <Candidate('Spanking the Monkey')>,\n 'The Sacrifice': <Candidate('The Sacrifice')>,\n 'The Royal Tenenbaums': <Candidate('The Royal Tenenbaums')>,\n 'Festen': <Candidate('Festen')>}"
     },
     "execution_count": 7,
     "metadata": {},
     "output_type": "execute_result"
    }
   ],
   "source": [
    "submission_dict"
   ]
  },
  {
   "cell_type": "code",
   "execution_count": 8,
   "metadata": {},
   "outputs": [],
   "source": [
    "ballots = []\n",
    "for ballot in balloted.itertuples():\n",
    "    ballots.append(pyrankvote.Ballot(ranked_candidates=[b for b in ballot if isinstance(b, pyrankvote.Candidate)]))"
   ]
  },
  {
   "cell_type": "code",
   "execution_count": 9,
   "metadata": {},
   "outputs": [
    {
     "data": {
      "text/plain": "[<Ballot(Spanking the Monkey, The Royal Tenenbaums, Samurai Rebellion)>,\n <Ballot(Samurai Rebellion, Spanking the Monkey, The Sacrifice, The Royal Tenenbaums, Festen)>,\n <Ballot(The Sacrifice, Samurai Rebellion, Festen, Spanking the Monkey)>,\n <Ballot(Samurai Rebellion, The Royal Tenenbaums, Spanking the Monkey, The Sacrifice, Festen)>,\n <Ballot(Festen, The Sacrifice, The Royal Tenenbaums, Samurai Rebellion, Spanking the Monkey)>,\n <Ballot(Samurai Rebellion, The Royal Tenenbaums, Festen, Spanking the Monkey)>,\n <Ballot(The Sacrifice, Samurai Rebellion, Spanking the Monkey, Festen, The Royal Tenenbaums)>,\n <Ballot(Samurai Rebellion, The Sacrifice, Spanking the Monkey, Festen, The Royal Tenenbaums)>,\n <Ballot(The Royal Tenenbaums, The Sacrifice, Spanking the Monkey, Samurai Rebellion, Festen)>]"
     },
     "execution_count": 9,
     "metadata": {},
     "output_type": "execute_result"
    }
   ],
   "source": [
    "ballots"
   ]
  },
  {
   "cell_type": "code",
   "execution_count": 10,
   "metadata": {},
   "outputs": [],
   "source": [
    "election_result = pyrankvote.instant_runoff_voting(submission_dict.values(), ballots,)"
   ]
  },
  {
   "cell_type": "code",
   "execution_count": 11,
   "metadata": {},
   "outputs": [
    {
     "name": "stdout",
     "output_type": "stream",
     "text": [
      "ROUND 1\n",
      "Candidate               Votes  Status\n",
      "--------------------  -------  --------\n",
      "Samurai Rebellion           4  Hopeful\n",
      "The Sacrifice               2  Hopeful\n",
      "The Royal Tenenbaums        1  Hopeful\n",
      "Spanking the Monkey         1  Hopeful\n",
      "Festen                      1  Rejected\n",
      "\n",
      "ROUND 2\n",
      "Candidate               Votes  Status\n",
      "--------------------  -------  --------\n",
      "Samurai Rebellion           4  Hopeful\n",
      "The Sacrifice               3  Hopeful\n",
      "The Royal Tenenbaums        1  Rejected\n",
      "Spanking the Monkey         1  Rejected\n",
      "Festen                      0  Rejected\n",
      "\n",
      "FINAL RESULT\n",
      "Candidate               Votes  Status\n",
      "--------------------  -------  --------\n",
      "Samurai Rebellion           5  Elected\n",
      "The Sacrifice               4  Rejected\n",
      "The Royal Tenenbaums        0  Rejected\n",
      "Spanking the Monkey         0  Rejected\n",
      "Festen                      0  Rejected\n",
      "\n"
     ]
    }
   ],
   "source": [
    "print(election_result)"
   ]
  },
  {
   "cell_type": "code",
   "execution_count": 12,
   "metadata": {},
   "outputs": [
    {
     "name": "stdout",
     "output_type": "stream",
     "text": [
      "FINAL RESULT\n",
      "Candidate                      Votes  Status\n",
      "---------------------------  -------  --------\n",
      "THIS JOB IS KILLING ME             5  Elected\n",
      "SURREALITY BITES                   2  Rejected\n",
      "BAD HISTORY                        1  Rejected\n",
      "EASTERN EUROPEAN                   1  Rejected\n",
      "THRILLER? I BARELY KNOW 'ER        0  Rejected\n",
      "No Theme/Free-for-all              0  Rejected\n",
      "\n"
     ]
    }
   ],
   "source": [
    "submissions = next_week.loc[next_week.notna().all(axis=1).idxmax(),:].values\n",
    "submission_dict = {submission: pyrankvote.Candidate(submission) for submission in submissions}\n",
    "balloted = next_week.applymap(lambda x: submission_dict[x] if isinstance(x, str) else x)\n",
    "ballots = []\n",
    "for ballot in balloted.itertuples():\n",
    "    ballots.append(pyrankvote.Ballot(ranked_candidates=[b for b in ballot if isinstance(b, pyrankvote.Candidate)]))\n",
    "print(pyrankvote.instant_runoff_voting(submission_dict.values(), ballots,))"
   ]
  }
 ],
 "metadata": {
  "kernelspec": {
   "display_name": "Python 3",
   "language": "python",
   "name": "python3"
  },
  "language_info": {
   "codemirror_mode": {
    "name": "ipython",
    "version": 3
   },
   "file_extension": ".py",
   "mimetype": "text/x-python",
   "name": "python",
   "nbconvert_exporter": "python",
   "pygments_lexer": "ipython3",
   "version": "3.7.4"
  }
 },
 "nbformat": 4,
 "nbformat_minor": 2
}