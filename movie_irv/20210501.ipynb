{
 "cells": [
  {
   "cell_type": "code",
   "execution_count": 1,
   "metadata": {},
   "outputs": [],
   "source": [
    "import pandas as pd\n",
    "import pyrankvote\n",
    "from pathlib import Path\n",
    "from random import seed\n",
    "seed(252)"
   ]
  },
  {
   "cell_type": "code",
   "execution_count": 2,
   "metadata": {},
   "outputs": [
    {
     "data": {
      "text/plain": "             Timestamp  \\\n0  27/04/2021 17:39:51   \n1  27/04/2021 17:50:24   \n2  27/04/2021 17:56:13   \n3  27/04/2021 18:26:34   \n4  27/04/2021 18:31:27   \n5  29/04/2021 08:20:14   \n6  29/04/2021 12:01:27   \n\n  Rank your movie choices. You don't have to do a full ranking. [First Choice]  \\\n0                                  Moonstruck (1987)                             \n1                                    Amarcord (1973)                             \n2                                  Moonstruck (1987)                             \n3                                    Amarcord (1973)                             \n4                        L'armata Brancaleone (1966)                             \n5                                    Amarcord (1973)                             \n6           The Bird with the Crystal Plumage (1970)                             \n\n  Rank your movie choices. You don't have to do a full ranking. [Second Choice]  \\\n0                                    Amarcord (1973)                              \n1           The Bird with the Crystal Plumage (1970)                              \n2                        L'armata Brancaleone (1966)                              \n3           The Bird with the Crystal Plumage (1970)                              \n4                                  Moonstruck (1987)                              \n5           The Bird with the Crystal Plumage (1970)                              \n6                                    Amarcord (1973)                              \n\n  Rank your movie choices. You don't have to do a full ranking. [Third Choice]  \\\n0           The Bird with the Crystal Plumage (1970)                             \n1                        L'armata Brancaleone (1966)                             \n2           The Bird with the Crystal Plumage (1970)                             \n3                        L'armata Brancaleone (1966)                             \n4           The Bird with the Crystal Plumage (1970)                             \n5                                  Moonstruck (1987)                             \n6                        L'armata Brancaleone (1966)                             \n\n  Rank your movie choices. You don't have to do a full ranking. [Fourth Choice]  \\\n0                        L'armata Brancaleone (1966)                              \n1                                  Moonstruck (1987)                              \n2                                    Amarcord (1973)                              \n3                                  Moonstruck (1987)                              \n4                                                NaN                              \n5                        L'armata Brancaleone (1966)                              \n6                                  Moonstruck (1987)                              \n\n  What theme should we explore next week? [First Choice]  \\\n0                                    PHYSICAL COMEDY       \n1                                          PET FANCY       \n2                                 INDIGENOUS STORIES       \n3                                  PROBLEMATIC FAVES       \n4                                 INDIGENOUS STORIES       \n5                                  PROBLEMATIC FAVES       \n6                                  PROBLEMATIC FAVES       \n\n  What theme should we explore next week? [Second Choice]  \\\n0                                 INDIGENOUS STORIES        \n1                                  PROBLEMATIC FAVES        \n2                                  PROBLEMATIC FAVES        \n3                                 INDIGENOUS STORIES        \n4                                    PHYSICAL COMEDY        \n5                                    PHYSICAL COMEDY        \n6                                    PHYSICAL COMEDY        \n\n  What theme should we explore next week? [Third Choice]  \\\n0                          [Default to Nicolas Cage]       \n1                                    PHYSICAL COMEDY       \n2                          [Default to Nicolas Cage]       \n3                                    PHYSICAL COMEDY       \n4                                  PROBLEMATIC FAVES       \n5                                          PET FANCY       \n6                                 INDIGENOUS STORIES       \n\n  What theme should we explore next week? [Fourth Choice]  \\\n0                                  PROBLEMATIC FAVES        \n1                          [Default to Nicolas Cage]        \n2                                    PHYSICAL COMEDY        \n3                                          PET FANCY        \n4                          [Default to Nicolas Cage]        \n5                                 INDIGENOUS STORIES        \n6                                          PET FANCY        \n\n  What theme should we explore next week? [Fifth Choice]  \n0                                          PET FANCY      \n1                                 INDIGENOUS STORIES      \n2                                          PET FANCY      \n3                          [Default to Nicolas Cage]      \n4                                                NaN      \n5                          [Default to Nicolas Cage]      \n6                          [Default to Nicolas Cage]      ",
      "text/html": "<div>\n<style scoped>\n    .dataframe tbody tr th:only-of-type {\n        vertical-align: middle;\n    }\n\n    .dataframe tbody tr th {\n        vertical-align: top;\n    }\n\n    .dataframe thead th {\n        text-align: right;\n    }\n</style>\n<table border=\"1\" class=\"dataframe\">\n  <thead>\n    <tr style=\"text-align: right;\">\n      <th></th>\n      <th>Timestamp</th>\n      <th>Rank your movie choices. You don't have to do a full ranking. [First Choice]</th>\n      <th>Rank your movie choices. You don't have to do a full ranking. [Second Choice]</th>\n      <th>Rank your movie choices. You don't have to do a full ranking. [Third Choice]</th>\n      <th>Rank your movie choices. You don't have to do a full ranking. [Fourth Choice]</th>\n      <th>What theme should we explore next week? [First Choice]</th>\n      <th>What theme should we explore next week? [Second Choice]</th>\n      <th>What theme should we explore next week? [Third Choice]</th>\n      <th>What theme should we explore next week? [Fourth Choice]</th>\n      <th>What theme should we explore next week? [Fifth Choice]</th>\n    </tr>\n  </thead>\n  <tbody>\n    <tr>\n      <th>0</th>\n      <td>27/04/2021 17:39:51</td>\n      <td>Moonstruck (1987)</td>\n      <td>Amarcord (1973)</td>\n      <td>The Bird with the Crystal Plumage (1970)</td>\n      <td>L'armata Brancaleone (1966)</td>\n      <td>PHYSICAL COMEDY</td>\n      <td>INDIGENOUS STORIES</td>\n      <td>[Default to Nicolas Cage]</td>\n      <td>PROBLEMATIC FAVES</td>\n      <td>PET FANCY</td>\n    </tr>\n    <tr>\n      <th>1</th>\n      <td>27/04/2021 17:50:24</td>\n      <td>Amarcord (1973)</td>\n      <td>The Bird with the Crystal Plumage (1970)</td>\n      <td>L'armata Brancaleone (1966)</td>\n      <td>Moonstruck (1987)</td>\n      <td>PET FANCY</td>\n      <td>PROBLEMATIC FAVES</td>\n      <td>PHYSICAL COMEDY</td>\n      <td>[Default to Nicolas Cage]</td>\n      <td>INDIGENOUS STORIES</td>\n    </tr>\n    <tr>\n      <th>2</th>\n      <td>27/04/2021 17:56:13</td>\n      <td>Moonstruck (1987)</td>\n      <td>L'armata Brancaleone (1966)</td>\n      <td>The Bird with the Crystal Plumage (1970)</td>\n      <td>Amarcord (1973)</td>\n      <td>INDIGENOUS STORIES</td>\n      <td>PROBLEMATIC FAVES</td>\n      <td>[Default to Nicolas Cage]</td>\n      <td>PHYSICAL COMEDY</td>\n      <td>PET FANCY</td>\n    </tr>\n    <tr>\n      <th>3</th>\n      <td>27/04/2021 18:26:34</td>\n      <td>Amarcord (1973)</td>\n      <td>The Bird with the Crystal Plumage (1970)</td>\n      <td>L'armata Brancaleone (1966)</td>\n      <td>Moonstruck (1987)</td>\n      <td>PROBLEMATIC FAVES</td>\n      <td>INDIGENOUS STORIES</td>\n      <td>PHYSICAL COMEDY</td>\n      <td>PET FANCY</td>\n      <td>[Default to Nicolas Cage]</td>\n    </tr>\n    <tr>\n      <th>4</th>\n      <td>27/04/2021 18:31:27</td>\n      <td>L'armata Brancaleone (1966)</td>\n      <td>Moonstruck (1987)</td>\n      <td>The Bird with the Crystal Plumage (1970)</td>\n      <td>NaN</td>\n      <td>INDIGENOUS STORIES</td>\n      <td>PHYSICAL COMEDY</td>\n      <td>PROBLEMATIC FAVES</td>\n      <td>[Default to Nicolas Cage]</td>\n      <td>NaN</td>\n    </tr>\n    <tr>\n      <th>5</th>\n      <td>29/04/2021 08:20:14</td>\n      <td>Amarcord (1973)</td>\n      <td>The Bird with the Crystal Plumage (1970)</td>\n      <td>Moonstruck (1987)</td>\n      <td>L'armata Brancaleone (1966)</td>\n      <td>PROBLEMATIC FAVES</td>\n      <td>PHYSICAL COMEDY</td>\n      <td>PET FANCY</td>\n      <td>INDIGENOUS STORIES</td>\n      <td>[Default to Nicolas Cage]</td>\n    </tr>\n    <tr>\n      <th>6</th>\n      <td>29/04/2021 12:01:27</td>\n      <td>The Bird with the Crystal Plumage (1970)</td>\n      <td>Amarcord (1973)</td>\n      <td>L'armata Brancaleone (1966)</td>\n      <td>Moonstruck (1987)</td>\n      <td>PROBLEMATIC FAVES</td>\n      <td>PHYSICAL COMEDY</td>\n      <td>INDIGENOUS STORIES</td>\n      <td>PET FANCY</td>\n      <td>[Default to Nicolas Cage]</td>\n    </tr>\n  </tbody>\n</table>\n</div>"
     },
     "execution_count": 2,
     "metadata": {},
     "output_type": "execute_result"
    }
   ],
   "source": [
    "df = pd.read_csv(Path('./data/20210501.csv').resolve())\n",
    "df"
   ]
  },
  {
   "cell_type": "code",
   "execution_count": 3,
   "metadata": {},
   "outputs": [],
   "source": [
    "just_ballots = df.loc[:, df.columns.str.startswith('Rank')]\n",
    "next_week = df.loc[:, df.columns.str.startswith('What')]"
   ]
  },
  {
   "cell_type": "code",
   "execution_count": 4,
   "metadata": {},
   "outputs": [
    {
     "data": {
      "text/plain": "array(['Moonstruck (1987)', 'Amarcord (1973)',\n       'The Bird with the Crystal Plumage (1970)',\n       \"L'armata Brancaleone (1966)\"], dtype=object)"
     },
     "execution_count": 4,
     "metadata": {},
     "output_type": "execute_result"
    }
   ],
   "source": [
    "submissions = just_ballots.loc[just_ballots.notna().all(axis=1).idxmax(),:].values\n",
    "submissions"
   ]
  },
  {
   "cell_type": "code",
   "execution_count": 5,
   "metadata": {},
   "outputs": [],
   "source": [
    "submission_dict = {submission: pyrankvote.Candidate(submission) for submission in submissions}"
   ]
  },
  {
   "cell_type": "code",
   "execution_count": 6,
   "metadata": {},
   "outputs": [],
   "source": [
    "balloted = just_ballots.applymap(lambda x: submission_dict[x] if isinstance(x, str) else x)"
   ]
  },
  {
   "cell_type": "code",
   "execution_count": 7,
   "metadata": {},
   "outputs": [
    {
     "data": {
      "text/plain": "{'Moonstruck (1987)': <Candidate('Moonstruck (1987)')>,\n 'Amarcord (1973)': <Candidate('Amarcord (1973)')>,\n 'The Bird with the Crystal Plumage (1970)': <Candidate('The Bird with the Crystal Plumage (1970)')>,\n \"L'armata Brancaleone (1966)\": <Candidate('L'armata Brancaleone (1966)')>}"
     },
     "execution_count": 7,
     "metadata": {},
     "output_type": "execute_result"
    }
   ],
   "source": [
    "submission_dict"
   ]
  },
  {
   "cell_type": "code",
   "execution_count": 8,
   "metadata": {},
   "outputs": [],
   "source": [
    "ballots = []\n",
    "for ballot in balloted.itertuples():\n",
    "    ballots.append(pyrankvote.Ballot(ranked_candidates=[b for b in ballot if isinstance(b, pyrankvote.Candidate)]))"
   ]
  },
  {
   "cell_type": "code",
   "execution_count": 9,
   "metadata": {},
   "outputs": [
    {
     "data": {
      "text/plain": "[<Ballot(Moonstruck (1987), Amarcord (1973), The Bird with the Crystal Plumage (1970), L'armata Brancaleone (1966))>,\n <Ballot(Amarcord (1973), The Bird with the Crystal Plumage (1970), L'armata Brancaleone (1966), Moonstruck (1987))>,\n <Ballot(Moonstruck (1987), L'armata Brancaleone (1966), The Bird with the Crystal Plumage (1970), Amarcord (1973))>,\n <Ballot(Amarcord (1973), The Bird with the Crystal Plumage (1970), L'armata Brancaleone (1966), Moonstruck (1987))>,\n <Ballot(L'armata Brancaleone (1966), Moonstruck (1987), The Bird with the Crystal Plumage (1970))>,\n <Ballot(Amarcord (1973), The Bird with the Crystal Plumage (1970), Moonstruck (1987), L'armata Brancaleone (1966))>,\n <Ballot(The Bird with the Crystal Plumage (1970), Amarcord (1973), L'armata Brancaleone (1966), Moonstruck (1987))>]"
     },
     "execution_count": 9,
     "metadata": {},
     "output_type": "execute_result"
    }
   ],
   "source": [
    "ballots"
   ]
  },
  {
   "cell_type": "code",
   "execution_count": 10,
   "metadata": {},
   "outputs": [],
   "source": [
    "election_result = pyrankvote.instant_runoff_voting(submission_dict.values(), ballots,)"
   ]
  },
  {
   "cell_type": "code",
   "execution_count": 11,
   "metadata": {},
   "outputs": [
    {
     "name": "stdout",
     "output_type": "stream",
     "text": [
      "ROUND 1\n",
      "Candidate                                   Votes  Status\n",
      "----------------------------------------  -------  --------\n",
      "Amarcord (1973)                                 3  Hopeful\n",
      "Moonstruck (1987)                               2  Hopeful\n",
      "The Bird with the Crystal Plumage (1970)        1  Rejected\n",
      "L'armata Brancaleone (1966)                     1  Rejected\n",
      "\n",
      "FINAL RESULT\n",
      "Candidate                                   Votes  Status\n",
      "----------------------------------------  -------  --------\n",
      "Amarcord (1973)                                 4  Elected\n",
      "Moonstruck (1987)                               3  Rejected\n",
      "The Bird with the Crystal Plumage (1970)        0  Rejected\n",
      "L'armata Brancaleone (1966)                     0  Rejected\n",
      "\n"
     ]
    }
   ],
   "source": [
    "print(election_result)"
   ]
  },
  {
   "cell_type": "code",
   "execution_count": 12,
   "metadata": {},
   "outputs": [
    {
     "name": "stdout",
     "output_type": "stream",
     "text": [
      "ROUND 1\n",
      "Candidate                    Votes  Status\n",
      "-------------------------  -------  --------\n",
      "PROBLEMATIC FAVES                3  Hopeful\n",
      "INDIGENOUS STORIES               2  Hopeful\n",
      "PHYSICAL COMEDY                  1  Rejected\n",
      "PET FANCY                        1  Rejected\n",
      "[Default to Nicolas Cage]        0  Rejected\n",
      "\n",
      "FINAL RESULT\n",
      "Candidate                    Votes  Status\n",
      "-------------------------  -------  --------\n",
      "PROBLEMATIC FAVES                4  Elected\n",
      "INDIGENOUS STORIES               3  Rejected\n",
      "PHYSICAL COMEDY                  0  Rejected\n",
      "PET FANCY                        0  Rejected\n",
      "[Default to Nicolas Cage]        0  Rejected\n",
      "\n"
     ]
    }
   ],
   "source": [
    "submissions = next_week.loc[next_week.notna().all(axis=1).idxmax(),:].values\n",
    "submission_dict = {submission: pyrankvote.Candidate(submission) for submission in submissions}\n",
    "balloted = next_week.applymap(lambda x: submission_dict[x] if isinstance(x, str) else x)\n",
    "ballots = []\n",
    "for ballot in balloted.itertuples():\n",
    "    ballots.append(pyrankvote.Ballot(ranked_candidates=[b for b in ballot if isinstance(b, pyrankvote.Candidate)]))\n",
    "print(pyrankvote.instant_runoff_voting(submission_dict.values(), ballots,))"
   ]
  }
 ],
 "metadata": {
  "kernelspec": {
   "display_name": "Python 3",
   "language": "python",
   "name": "python3"
  },
  "language_info": {
   "codemirror_mode": {
    "name": "ipython",
    "version": 3
   },
   "file_extension": ".py",
   "mimetype": "text/x-python",
   "name": "python",
   "nbconvert_exporter": "python",
   "pygments_lexer": "ipython3",
   "version": "3.7.4"
  }
 },
 "nbformat": 4,
 "nbformat_minor": 2
}