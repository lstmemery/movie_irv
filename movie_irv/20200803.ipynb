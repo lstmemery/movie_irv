{
 "cells": [
  {
   "cell_type": "code",
   "execution_count": 1,
   "metadata": {},
   "outputs": [],
   "source": [
    "import pandas as pd\n",
    "import pyrankvote\n",
    "from pathlib import Path"
   ]
  },
  {
   "cell_type": "code",
   "execution_count": 2,
   "metadata": {},
   "outputs": [
    {
     "data": {
      "text/plain": "            Timestamp  \\\n0   7/30/2020 9:25:23   \n1   7/30/2020 9:30:19   \n2   7/30/2020 9:31:26   \n3   7/30/2020 9:37:16   \n4  7/30/2020 10:16:37   \n5  7/30/2020 10:25:28   \n6  7/30/2020 10:26:49   \n7  7/30/2020 10:28:21   \n8  7/30/2020 11:38:05   \n9  7/31/2020 14:19:47   \n\n  Rank your movie choices. You don't have to do a full ranking. [First Choice]  \\\n0                                  The Vast of Night                             \n1                               Earth Girls Are Easy                             \n2                                        The Untamed                             \n3                             Quatermass and the Pit                             \n4                                  The Vast of Night                             \n5                               Earth Girls Are Easy                             \n6                                  The Vast of Night                             \n7                               Earth Girls Are Easy                             \n8                                             Aliens                             \n9                                             Aliens                             \n\n  Rank your movie choices. You don't have to do a full ranking. [Second Choice]  \\\n0                                            Species                              \n1                                   The Cabbage Soup                              \n2                               Earth Girls Are Easy                              \n3                                  The Vast of Night                              \n4                                             Aliens                              \n5                                   Independence Day                              \n6                               Earth Girls Are Easy                              \n7                                             Aliens                              \n8                                                NaN                              \n9                               Earth Girls Are Easy                              \n\n  Rank your movie choices. You don't have to do a full ranking. [Third Choice]  \\\n0                                        The Untamed                             \n1                                        The Untamed                             \n2                             Quatermass and the Pit                             \n3                                        The Untamed                             \n4                             Quatermass and the Pit                             \n5                                             Aliens                             \n6                             Quatermass and the Pit                             \n7                                   Independence Day                             \n8                                                NaN                             \n9                                   The Cabbage Soup                             \n\n  Rank your movie choices. You don't have to do a full ranking. [Fourth Choice]  \\\n0                                   The Cabbage Soup                              \n1                                   Independence Day                              \n2                                            Species                              \n3                               Earth Girls Are Easy                              \n4                                            Species                              \n5                                   The Cabbage Soup                              \n6                                             Aliens                              \n7                                        The Untamed                              \n8                                                NaN                              \n9                                  The Vast of Night                              \n\n  Rank your movie choices. You don't have to do a full ranking. [Fifth Choice]  \\\n0                             Quatermass and the Pit                             \n1                                             Aliens                             \n2                                  The Vast of Night                             \n3                                   The Cabbage Soup                             \n4                                                NaN                             \n5                                  The Vast of Night                             \n6                                   The Cabbage Soup                             \n7                                   The Cabbage Soup                             \n8                                                NaN                             \n9                                        The Untamed                             \n\n  Rank your movie choices. You don't have to do a full ranking. [Sixth Choice]  \\\n0                               Earth Girls Are Easy                             \n1                             Quatermass and the Pit                             \n2                                   The Cabbage Soup                             \n3                                                NaN                             \n4                                                NaN                             \n5                                            Species                             \n6                                   Independence Day                             \n7                                                NaN                             \n8                                                NaN                             \n9                                            Species                             \n\n  Rank your movie choices. You don't have to do a full ranking. [Seventh Choice]  \\\n0                                             Aliens                               \n1                                            Species                               \n2                                             Aliens                               \n3                                                NaN                               \n4                                                NaN                               \n5                             Quatermass and the Pit                               \n6                                            Species                               \n7                                                NaN                               \n8                                                NaN                               \n9                             Quatermass and the Pit                               \n\n  Rank your movie choices. You don't have to do a full ranking. [Eigth Choice]  \\\n0                                   Independence Day                             \n1                                  The Vast of Night                             \n2                                   Independence Day                             \n3                                                NaN                             \n4                                                NaN                             \n5                                        The Untamed                             \n6                                        The Untamed                             \n7                                                NaN                             \n8                                                NaN                             \n9                                   Independence Day                             \n\n  What theme should we explore next week? [First Choice]  \\\n0                              NON-ITALIAN GANGSTERS       \n1                                  OOPS, ALL BUMMER!       \n2                           AIRCRAFT: FRIEND OR FOE?       \n3                                  OOPS, ALL BUMMER!       \n4                              NON-ITALIAN GANGSTERS       \n5                           AIRCRAFT: FRIEND OR FOE?       \n6                                               BEEF       \n7                                               BEEF       \n8                       DID WE ALREADY DO FILM NOIR?       \n9                              No Theme/Free-for-all       \n\n  What theme should we explore next week? [Second Choice]  \\\n0                           AIRCRAFT: FRIEND OR FOE?        \n1                       DID WE ALREADY DO FILM NOIR?        \n2                            FILMMAKER DOCUMENTARIES        \n3                                   PRISONERS OF WAR        \n4                                               BEEF        \n5                              No Theme/Free-for-all        \n6                           AIRCRAFT: FRIEND OR FOE?        \n7                           AIRCRAFT: FRIEND OR FOE?        \n8                              NON-ITALIAN GANGSTERS        \n9                                               BEEF        \n\n  What theme should we explore next week? [Third Choice]  \\\n0                                  OOPS, ALL BUMMER!       \n1                                               BEEF       \n2                                  OOPS, ALL BUMMER!       \n3                              No Theme/Free-for-all       \n4                       DID WE ALREADY DO FILM NOIR?       \n5                                                NaN       \n6                              NON-ITALIAN GANGSTERS       \n7                                                NaN       \n8                                               BEEF       \n9                       DID WE ALREADY DO FILM NOIR?       \n\n  What theme should we explore next week? [Fourth Choice]  \\\n0                                   PRISONERS OF WAR        \n1                            FILMMAKER DOCUMENTARIES        \n2                                   PRISONERS OF WAR        \n3                              NON-ITALIAN GANGSTERS        \n4                                   PRISONERS OF WAR        \n5                                                NaN        \n6                       DID WE ALREADY DO FILM NOIR?        \n7                                                NaN        \n8                           AIRCRAFT: FRIEND OR FOE?        \n9                              NON-ITALIAN GANGSTERS        \n\n  What theme should we explore next week? [Fifth Choice]  \\\n0                                               BEEF       \n1                              NON-ITALIAN GANGSTERS       \n2                       DID WE ALREADY DO FILM NOIR?       \n3                       DID WE ALREADY DO FILM NOIR?       \n4                            FILMMAKER DOCUMENTARIES       \n5                                                NaN       \n6                            FILMMAKER DOCUMENTARIES       \n7                                                NaN       \n8                                                NaN       \n9                            FILMMAKER DOCUMENTARIES       \n\n  What theme should we explore next week? [Sixth Choice]  \\\n0                            FILMMAKER DOCUMENTARIES       \n1                                   PRISONERS OF WAR       \n2                                               BEEF       \n3                                               BEEF       \n4                                  OOPS, ALL BUMMER!       \n5                                                NaN       \n6                                  OOPS, ALL BUMMER!       \n7                                                NaN       \n8                                                NaN       \n9                           AIRCRAFT: FRIEND OR FOE?       \n\n  What theme should we explore next week? [Seventh Choice]  \\\n0                       DID WE ALREADY DO FILM NOIR?         \n1                           AIRCRAFT: FRIEND OR FOE?         \n2                              NON-ITALIAN GANGSTERS         \n3                           AIRCRAFT: FRIEND OR FOE?         \n4                           AIRCRAFT: FRIEND OR FOE?         \n5                                                NaN         \n6                                   PRISONERS OF WAR         \n7                                                NaN         \n8                                                NaN         \n9                                  OOPS, ALL BUMMER!         \n\n  What theme should we explore next week? [Eight Choice]  \n0                              No Theme/Free-for-all      \n1                                                NaN      \n2                              No Theme/Free-for-all      \n3                            FILMMAKER DOCUMENTARIES      \n4                              No Theme/Free-for-all      \n5                                                NaN      \n6                              No Theme/Free-for-all      \n7                                                NaN      \n8                                                NaN      \n9                                   PRISONERS OF WAR      ",
      "text/html": "<div>\n<style scoped>\n    .dataframe tbody tr th:only-of-type {\n        vertical-align: middle;\n    }\n\n    .dataframe tbody tr th {\n        vertical-align: top;\n    }\n\n    .dataframe thead th {\n        text-align: right;\n    }\n</style>\n<table border=\"1\" class=\"dataframe\">\n  <thead>\n    <tr style=\"text-align: right;\">\n      <th></th>\n      <th>Timestamp</th>\n      <th>Rank your movie choices. You don't have to do a full ranking. [First Choice]</th>\n      <th>Rank your movie choices. You don't have to do a full ranking. [Second Choice]</th>\n      <th>Rank your movie choices. You don't have to do a full ranking. [Third Choice]</th>\n      <th>Rank your movie choices. You don't have to do a full ranking. [Fourth Choice]</th>\n      <th>Rank your movie choices. You don't have to do a full ranking. [Fifth Choice]</th>\n      <th>Rank your movie choices. You don't have to do a full ranking. [Sixth Choice]</th>\n      <th>Rank your movie choices. You don't have to do a full ranking. [Seventh Choice]</th>\n      <th>Rank your movie choices. You don't have to do a full ranking. [Eigth Choice]</th>\n      <th>What theme should we explore next week? [First Choice]</th>\n      <th>What theme should we explore next week? [Second Choice]</th>\n      <th>What theme should we explore next week? [Third Choice]</th>\n      <th>What theme should we explore next week? [Fourth Choice]</th>\n      <th>What theme should we explore next week? [Fifth Choice]</th>\n      <th>What theme should we explore next week? [Sixth Choice]</th>\n      <th>What theme should we explore next week? [Seventh Choice]</th>\n      <th>What theme should we explore next week? [Eight Choice]</th>\n    </tr>\n  </thead>\n  <tbody>\n    <tr>\n      <th>0</th>\n      <td>7/30/2020 9:25:23</td>\n      <td>The Vast of Night</td>\n      <td>Species</td>\n      <td>The Untamed</td>\n      <td>The Cabbage Soup</td>\n      <td>Quatermass and the Pit</td>\n      <td>Earth Girls Are Easy</td>\n      <td>Aliens</td>\n      <td>Independence Day</td>\n      <td>NON-ITALIAN GANGSTERS</td>\n      <td>AIRCRAFT: FRIEND OR FOE?</td>\n      <td>OOPS, ALL BUMMER!</td>\n      <td>PRISONERS OF WAR</td>\n      <td>BEEF</td>\n      <td>FILMMAKER DOCUMENTARIES</td>\n      <td>DID WE ALREADY DO FILM NOIR?</td>\n      <td>No Theme/Free-for-all</td>\n    </tr>\n    <tr>\n      <th>1</th>\n      <td>7/30/2020 9:30:19</td>\n      <td>Earth Girls Are Easy</td>\n      <td>The Cabbage Soup</td>\n      <td>The Untamed</td>\n      <td>Independence Day</td>\n      <td>Aliens</td>\n      <td>Quatermass and the Pit</td>\n      <td>Species</td>\n      <td>The Vast of Night</td>\n      <td>OOPS, ALL BUMMER!</td>\n      <td>DID WE ALREADY DO FILM NOIR?</td>\n      <td>BEEF</td>\n      <td>FILMMAKER DOCUMENTARIES</td>\n      <td>NON-ITALIAN GANGSTERS</td>\n      <td>PRISONERS OF WAR</td>\n      <td>AIRCRAFT: FRIEND OR FOE?</td>\n      <td>NaN</td>\n    </tr>\n    <tr>\n      <th>2</th>\n      <td>7/30/2020 9:31:26</td>\n      <td>The Untamed</td>\n      <td>Earth Girls Are Easy</td>\n      <td>Quatermass and the Pit</td>\n      <td>Species</td>\n      <td>The Vast of Night</td>\n      <td>The Cabbage Soup</td>\n      <td>Aliens</td>\n      <td>Independence Day</td>\n      <td>AIRCRAFT: FRIEND OR FOE?</td>\n      <td>FILMMAKER DOCUMENTARIES</td>\n      <td>OOPS, ALL BUMMER!</td>\n      <td>PRISONERS OF WAR</td>\n      <td>DID WE ALREADY DO FILM NOIR?</td>\n      <td>BEEF</td>\n      <td>NON-ITALIAN GANGSTERS</td>\n      <td>No Theme/Free-for-all</td>\n    </tr>\n    <tr>\n      <th>3</th>\n      <td>7/30/2020 9:37:16</td>\n      <td>Quatermass and the Pit</td>\n      <td>The Vast of Night</td>\n      <td>The Untamed</td>\n      <td>Earth Girls Are Easy</td>\n      <td>The Cabbage Soup</td>\n      <td>NaN</td>\n      <td>NaN</td>\n      <td>NaN</td>\n      <td>OOPS, ALL BUMMER!</td>\n      <td>PRISONERS OF WAR</td>\n      <td>No Theme/Free-for-all</td>\n      <td>NON-ITALIAN GANGSTERS</td>\n      <td>DID WE ALREADY DO FILM NOIR?</td>\n      <td>BEEF</td>\n      <td>AIRCRAFT: FRIEND OR FOE?</td>\n      <td>FILMMAKER DOCUMENTARIES</td>\n    </tr>\n    <tr>\n      <th>4</th>\n      <td>7/30/2020 10:16:37</td>\n      <td>The Vast of Night</td>\n      <td>Aliens</td>\n      <td>Quatermass and the Pit</td>\n      <td>Species</td>\n      <td>NaN</td>\n      <td>NaN</td>\n      <td>NaN</td>\n      <td>NaN</td>\n      <td>NON-ITALIAN GANGSTERS</td>\n      <td>BEEF</td>\n      <td>DID WE ALREADY DO FILM NOIR?</td>\n      <td>PRISONERS OF WAR</td>\n      <td>FILMMAKER DOCUMENTARIES</td>\n      <td>OOPS, ALL BUMMER!</td>\n      <td>AIRCRAFT: FRIEND OR FOE?</td>\n      <td>No Theme/Free-for-all</td>\n    </tr>\n    <tr>\n      <th>5</th>\n      <td>7/30/2020 10:25:28</td>\n      <td>Earth Girls Are Easy</td>\n      <td>Independence Day</td>\n      <td>Aliens</td>\n      <td>The Cabbage Soup</td>\n      <td>The Vast of Night</td>\n      <td>Species</td>\n      <td>Quatermass and the Pit</td>\n      <td>The Untamed</td>\n      <td>AIRCRAFT: FRIEND OR FOE?</td>\n      <td>No Theme/Free-for-all</td>\n      <td>NaN</td>\n      <td>NaN</td>\n      <td>NaN</td>\n      <td>NaN</td>\n      <td>NaN</td>\n      <td>NaN</td>\n    </tr>\n    <tr>\n      <th>6</th>\n      <td>7/30/2020 10:26:49</td>\n      <td>The Vast of Night</td>\n      <td>Earth Girls Are Easy</td>\n      <td>Quatermass and the Pit</td>\n      <td>Aliens</td>\n      <td>The Cabbage Soup</td>\n      <td>Independence Day</td>\n      <td>Species</td>\n      <td>The Untamed</td>\n      <td>BEEF</td>\n      <td>AIRCRAFT: FRIEND OR FOE?</td>\n      <td>NON-ITALIAN GANGSTERS</td>\n      <td>DID WE ALREADY DO FILM NOIR?</td>\n      <td>FILMMAKER DOCUMENTARIES</td>\n      <td>OOPS, ALL BUMMER!</td>\n      <td>PRISONERS OF WAR</td>\n      <td>No Theme/Free-for-all</td>\n    </tr>\n    <tr>\n      <th>7</th>\n      <td>7/30/2020 10:28:21</td>\n      <td>Earth Girls Are Easy</td>\n      <td>Aliens</td>\n      <td>Independence Day</td>\n      <td>The Untamed</td>\n      <td>The Cabbage Soup</td>\n      <td>NaN</td>\n      <td>NaN</td>\n      <td>NaN</td>\n      <td>BEEF</td>\n      <td>AIRCRAFT: FRIEND OR FOE?</td>\n      <td>NaN</td>\n      <td>NaN</td>\n      <td>NaN</td>\n      <td>NaN</td>\n      <td>NaN</td>\n      <td>NaN</td>\n    </tr>\n    <tr>\n      <th>8</th>\n      <td>7/30/2020 11:38:05</td>\n      <td>Aliens</td>\n      <td>NaN</td>\n      <td>NaN</td>\n      <td>NaN</td>\n      <td>NaN</td>\n      <td>NaN</td>\n      <td>NaN</td>\n      <td>NaN</td>\n      <td>DID WE ALREADY DO FILM NOIR?</td>\n      <td>NON-ITALIAN GANGSTERS</td>\n      <td>BEEF</td>\n      <td>AIRCRAFT: FRIEND OR FOE?</td>\n      <td>NaN</td>\n      <td>NaN</td>\n      <td>NaN</td>\n      <td>NaN</td>\n    </tr>\n    <tr>\n      <th>9</th>\n      <td>7/31/2020 14:19:47</td>\n      <td>Aliens</td>\n      <td>Earth Girls Are Easy</td>\n      <td>The Cabbage Soup</td>\n      <td>The Vast of Night</td>\n      <td>The Untamed</td>\n      <td>Species</td>\n      <td>Quatermass and the Pit</td>\n      <td>Independence Day</td>\n      <td>No Theme/Free-for-all</td>\n      <td>BEEF</td>\n      <td>DID WE ALREADY DO FILM NOIR?</td>\n      <td>NON-ITALIAN GANGSTERS</td>\n      <td>FILMMAKER DOCUMENTARIES</td>\n      <td>AIRCRAFT: FRIEND OR FOE?</td>\n      <td>OOPS, ALL BUMMER!</td>\n      <td>PRISONERS OF WAR</td>\n    </tr>\n  </tbody>\n</table>\n</div>"
     },
     "execution_count": 2,
     "metadata": {},
     "output_type": "execute_result"
    }
   ],
   "source": [
    "df = pd.read_csv(Path('./data/20200803.csv').resolve())\n",
    "df"
   ]
  },
  {
   "cell_type": "code",
   "execution_count": 3,
   "metadata": {},
   "outputs": [],
   "source": [
    "just_ballots = df.loc[:, df.columns.str.startswith('Rank')]\n",
    "next_week = df.loc[:, df.columns.str.startswith('What')]"
   ]
  },
  {
   "cell_type": "code",
   "execution_count": 4,
   "metadata": {},
   "outputs": [
    {
     "data": {
      "text/plain": "array(['The Vast of Night', 'Species', 'The Untamed', 'The Cabbage Soup',\n       'Quatermass and the Pit', 'Earth Girls Are Easy', 'Aliens',\n       'Independence Day'], dtype=object)"
     },
     "execution_count": 4,
     "metadata": {},
     "output_type": "execute_result"
    }
   ],
   "source": [
    "submissions = just_ballots.loc[just_ballots.notna().all(axis=1).idxmax(),:].values\n",
    "submissions"
   ]
  },
  {
   "cell_type": "code",
   "execution_count": 5,
   "metadata": {},
   "outputs": [],
   "source": [
    "submission_dict = {submission: pyrankvote.Candidate(submission) for submission in submissions}"
   ]
  },
  {
   "cell_type": "code",
   "execution_count": 6,
   "metadata": {},
   "outputs": [],
   "source": [
    "balloted = just_ballots.applymap(lambda x: submission_dict[x] if isinstance(x, str) else x)"
   ]
  },
  {
   "cell_type": "code",
   "execution_count": 7,
   "metadata": {},
   "outputs": [
    {
     "data": {
      "text/plain": "{'The Vast of Night': <Candidate('The Vast of Night')>,\n 'Species': <Candidate('Species')>,\n 'The Untamed': <Candidate('The Untamed')>,\n 'The Cabbage Soup': <Candidate('The Cabbage Soup')>,\n 'Quatermass and the Pit': <Candidate('Quatermass and the Pit')>,\n 'Earth Girls Are Easy': <Candidate('Earth Girls Are Easy')>,\n 'Aliens': <Candidate('Aliens')>,\n 'Independence Day': <Candidate('Independence Day')>}"
     },
     "execution_count": 7,
     "metadata": {},
     "output_type": "execute_result"
    }
   ],
   "source": [
    "submission_dict"
   ]
  },
  {
   "cell_type": "code",
   "execution_count": 8,
   "metadata": {},
   "outputs": [],
   "source": [
    "ballots = []\n",
    "for ballot in balloted.itertuples():\n",
    "    ballots.append(pyrankvote.Ballot(ranked_candidates=[b for b in ballot if isinstance(b, pyrankvote.Candidate)]))"
   ]
  },
  {
   "cell_type": "code",
   "execution_count": 9,
   "metadata": {},
   "outputs": [
    {
     "data": {
      "text/plain": "[<Ballot(The Vast of Night, Species, The Untamed, The Cabbage Soup, Quatermass and the Pit, Earth Girls Are Easy, Aliens, Independence Day)>,\n <Ballot(Earth Girls Are Easy, The Cabbage Soup, The Untamed, Independence Day, Aliens, Quatermass and the Pit, Species, The Vast of Night)>,\n <Ballot(The Untamed, Earth Girls Are Easy, Quatermass and the Pit, Species, The Vast of Night, The Cabbage Soup, Aliens, Independence Day)>,\n <Ballot(Quatermass and the Pit, The Vast of Night, The Untamed, Earth Girls Are Easy, The Cabbage Soup)>,\n <Ballot(The Vast of Night, Aliens, Quatermass and the Pit, Species)>,\n <Ballot(Earth Girls Are Easy, Independence Day, Aliens, The Cabbage Soup, The Vast of Night, Species, Quatermass and the Pit, The Untamed)>,\n <Ballot(The Vast of Night, Earth Girls Are Easy, Quatermass and the Pit, Aliens, The Cabbage Soup, Independence Day, Species, The Untamed)>,\n <Ballot(Earth Girls Are Easy, Aliens, Independence Day, The Untamed, The Cabbage Soup)>,\n <Ballot(Aliens)>,\n <Ballot(Aliens, Earth Girls Are Easy, The Cabbage Soup, The Vast of Night, The Untamed, Species, Quatermass and the Pit, Independence Day)>]"
     },
     "execution_count": 9,
     "metadata": {},
     "output_type": "execute_result"
    }
   ],
   "source": [
    "ballots"
   ]
  },
  {
   "cell_type": "code",
   "execution_count": 10,
   "metadata": {},
   "outputs": [],
   "source": [
    "election_result = pyrankvote.instant_runoff_voting(submission_dict.values(), ballots,)"
   ]
  },
  {
   "cell_type": "code",
   "execution_count": 11,
   "metadata": {},
   "outputs": [
    {
     "name": "stdout",
     "output_type": "stream",
     "text": [
      "ROUND 1\n",
      "Candidate                 Votes  Status\n",
      "----------------------  -------  --------\n",
      "Earth Girls Are Easy          3  Hopeful\n",
      "The Vast of Night             3  Hopeful\n",
      "Aliens                        2  Hopeful\n",
      "The Untamed                   1  Rejected\n",
      "Quatermass and the Pit        1  Rejected\n",
      "The Cabbage Soup              0  Rejected\n",
      "Independence Day              0  Rejected\n",
      "Species                       0  Rejected\n",
      "\n",
      "ROUND 2\n",
      "Candidate                 Votes  Status\n",
      "----------------------  -------  --------\n",
      "Earth Girls Are Easy          4  Hopeful\n",
      "The Vast of Night             4  Hopeful\n",
      "Aliens                        2  Rejected\n",
      "The Untamed                   0  Rejected\n",
      "Quatermass and the Pit        0  Rejected\n",
      "The Cabbage Soup              0  Rejected\n",
      "Independence Day              0  Rejected\n",
      "Species                       0  Rejected\n",
      "\n",
      "FINAL RESULT\n",
      "Candidate                 Votes  Status\n",
      "----------------------  -------  --------\n",
      "Earth Girls Are Easy          5  Elected\n",
      "The Vast of Night             4  Rejected\n",
      "Aliens                        0  Rejected\n",
      "The Untamed                   0  Rejected\n",
      "Quatermass and the Pit        0  Rejected\n",
      "The Cabbage Soup              0  Rejected\n",
      "Independence Day              0  Rejected\n",
      "Species                       0  Rejected\n",
      "Blank votes                   1  Rejected\n",
      "\n"
     ]
    }
   ],
   "source": [
    "print(election_result)"
   ]
  },
  {
   "cell_type": "code",
   "execution_count": 12,
   "metadata": {},
   "outputs": [
    {
     "name": "stdout",
     "output_type": "stream",
     "text": [
      "ROUND 1\n",
      "Candidate                       Votes  Status\n",
      "----------------------------  -------  --------\n",
      "AIRCRAFT: FRIEND OR FOE?            2  Hopeful\n",
      "BEEF                                2  Hopeful\n",
      "NON-ITALIAN GANGSTERS               2  Hopeful\n",
      "OOPS, ALL BUMMER!                   2  Hopeful\n",
      "DID WE ALREADY DO FILM NOIR?        1  Rejected\n",
      "No Theme/Free-for-all               1  Rejected\n",
      "PRISONERS OF WAR                    0  Rejected\n",
      "FILMMAKER DOCUMENTARIES             0  Rejected\n",
      "\n",
      "ROUND 2\n",
      "Candidate                       Votes  Status\n",
      "----------------------------  -------  --------\n",
      "BEEF                                3  Hopeful\n",
      "NON-ITALIAN GANGSTERS               3  Hopeful\n",
      "AIRCRAFT: FRIEND OR FOE?            2  Hopeful\n",
      "OOPS, ALL BUMMER!                   2  Rejected\n",
      "DID WE ALREADY DO FILM NOIR?        0  Rejected\n",
      "No Theme/Free-for-all               0  Rejected\n",
      "PRISONERS OF WAR                    0  Rejected\n",
      "FILMMAKER DOCUMENTARIES             0  Rejected\n",
      "\n",
      "ROUND 3\n",
      "Candidate                       Votes  Status\n",
      "----------------------------  -------  --------\n",
      "BEEF                                4  Hopeful\n",
      "NON-ITALIAN GANGSTERS               4  Hopeful\n",
      "AIRCRAFT: FRIEND OR FOE?            2  Rejected\n",
      "OOPS, ALL BUMMER!                   0  Rejected\n",
      "DID WE ALREADY DO FILM NOIR?        0  Rejected\n",
      "No Theme/Free-for-all               0  Rejected\n",
      "PRISONERS OF WAR                    0  Rejected\n",
      "FILMMAKER DOCUMENTARIES             0  Rejected\n",
      "\n",
      "FINAL RESULT\n",
      "Candidate                       Votes  Status\n",
      "----------------------------  -------  --------\n",
      "BEEF                                5  Elected\n",
      "NON-ITALIAN GANGSTERS               4  Rejected\n",
      "AIRCRAFT: FRIEND OR FOE?            0  Rejected\n",
      "OOPS, ALL BUMMER!                   0  Rejected\n",
      "DID WE ALREADY DO FILM NOIR?        0  Rejected\n",
      "No Theme/Free-for-all               0  Rejected\n",
      "PRISONERS OF WAR                    0  Rejected\n",
      "FILMMAKER DOCUMENTARIES             0  Rejected\n",
      "Blank votes                         1  Rejected\n",
      "\n"
     ]
    }
   ],
   "source": [
    "submissions = next_week.loc[next_week.notna().all(axis=1).idxmax(),:].values\n",
    "submission_dict = {submission: pyrankvote.Candidate(submission) for submission in submissions}\n",
    "balloted = next_week.applymap(lambda x: submission_dict[x] if isinstance(x, str) else x)\n",
    "ballots = []\n",
    "for ballot in balloted.itertuples():\n",
    "    ballots.append(pyrankvote.Ballot(ranked_candidates=[b for b in ballot if isinstance(b, pyrankvote.Candidate)]))\n",
    "print(pyrankvote.instant_runoff_voting(submission_dict.values(), ballots,))"
   ]
  }
 ],
 "metadata": {
  "kernelspec": {
   "display_name": "Python 3",
   "language": "python",
   "name": "python3"
  },
  "language_info": {
   "codemirror_mode": {
    "name": "ipython",
    "version": 3
   },
   "file_extension": ".py",
   "mimetype": "text/x-python",
   "name": "python",
   "nbconvert_exporter": "python",
   "pygments_lexer": "ipython3",
   "version": "3.7.4"
  }
 },
 "nbformat": 4,
 "nbformat_minor": 2
}