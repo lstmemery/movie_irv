{
 "cells": [
  {
   "cell_type": "code",
   "execution_count": 1,
   "metadata": {},
   "outputs": [],
   "source": [
    "import pandas as pd\n",
    "import pyrankvote\n",
    "from pathlib import Path\n",
    "from random import seed\n",
    "seed(252)"
   ]
  },
  {
   "cell_type": "code",
   "execution_count": 2,
   "metadata": {},
   "outputs": [
    {
     "data": {
      "text/plain": "             Timestamp  \\\n0  11/05/2021 17:45:46   \n1  11/05/2021 18:02:27   \n2  11/05/2021 19:32:33   \n3  11/05/2021 19:40:43   \n4  11/05/2021 20:43:41   \n5  12/05/2021 05:23:36   \n\n  Rank your movie choices. You don't have to do a full ranking. [First Choice]  \\\n0                              Breaker Morant (1980)                             \n1                        The Browning Version (1951)                             \n2                        The Browning Version (1951)                             \n3             Who’s Afraid of Virginia Woolf? (1966)                             \n4             How To Get Ahead In Advertising (1989)                             \n5                        The Browning Version (1951)                             \n\n  Rank your movie choices. You don't have to do a full ranking. [Second Choice]  \\\n0                        The Browning Version (1951)                              \n1                              Breaker Morant (1980)                              \n2             How To Get Ahead In Advertising (1989)                              \n3                              Breaker Morant (1980)                              \n4                        The Browning Version (1951)                              \n5             Who’s Afraid of Virginia Woolf? (1966)                              \n\n  Rank your movie choices. You don't have to do a full ranking. [Third Choice]  \\\n0             How To Get Ahead In Advertising (1989)                             \n1             How To Get Ahead In Advertising (1989)                             \n2             Who’s Afraid of Virginia Woolf? (1966)                             \n3                                                NaN                             \n4             Who’s Afraid of Virginia Woolf? (1966)                             \n5             How To Get Ahead In Advertising (1989)                             \n\n  Rank your movie choices. You don't have to do a full ranking. [Fourth Choice]  \\\n0             Who’s Afraid of Virginia Woolf? (1966)                              \n1                                                NaN                              \n2                              Breaker Morant (1980)                              \n3                                                NaN                              \n4                              Breaker Morant (1980)                              \n5                              Breaker Morant (1980)                              \n\n  What theme should we explore next week? [First Choice]  \\\n0                                       HIGH FANTASY       \n1                                   FAMOUS ELEVATORS       \n2                              FOOD: FRIEND OR FOE?!       \n3                                      LADIES’ NIGHT       \n4                          [Default to Nicolas Cage]       \n5                                      LADIES’ NIGHT       \n\n  What theme should we explore next week? [Second Choice]  \\\n0                          [Default to Nicolas Cage]        \n1                                      LADIES’ NIGHT        \n2                                       HIGH FANTASY        \n3                          [Default to Nicolas Cage]        \n4                                      LADIES’ NIGHT        \n5                                   FAMOUS ELEVATORS        \n\n  What theme should we explore next week? [Third Choice]  \\\n0                                   FAMOUS ELEVATORS       \n1                                       HIGH FANTASY       \n2                                      LADIES’ NIGHT       \n3                                                NaN       \n4                                                NaN       \n5                              FOOD: FRIEND OR FOE?!       \n\n  What theme should we explore next week? [Fourth Choice]  \\\n0                              FOOD: FRIEND OR FOE?!        \n1                          [Default to Nicolas Cage]        \n2                                   FAMOUS ELEVATORS        \n3                                                NaN        \n4                              FOOD: FRIEND OR FOE?!        \n5                                       HIGH FANTASY        \n\n  What theme should we explore next week? [Fifth Choice]  \n0                                      LADIES’ NIGHT      \n1                              FOOD: FRIEND OR FOE?!      \n2                          [Default to Nicolas Cage]      \n3                                                NaN      \n4                                       HIGH FANTASY      \n5                          [Default to Nicolas Cage]      ",
      "text/html": "<div>\n<style scoped>\n    .dataframe tbody tr th:only-of-type {\n        vertical-align: middle;\n    }\n\n    .dataframe tbody tr th {\n        vertical-align: top;\n    }\n\n    .dataframe thead th {\n        text-align: right;\n    }\n</style>\n<table border=\"1\" class=\"dataframe\">\n  <thead>\n    <tr style=\"text-align: right;\">\n      <th></th>\n      <th>Timestamp</th>\n      <th>Rank your movie choices. You don't have to do a full ranking. [First Choice]</th>\n      <th>Rank your movie choices. You don't have to do a full ranking. [Second Choice]</th>\n      <th>Rank your movie choices. You don't have to do a full ranking. [Third Choice]</th>\n      <th>Rank your movie choices. You don't have to do a full ranking. [Fourth Choice]</th>\n      <th>What theme should we explore next week? [First Choice]</th>\n      <th>What theme should we explore next week? [Second Choice]</th>\n      <th>What theme should we explore next week? [Third Choice]</th>\n      <th>What theme should we explore next week? [Fourth Choice]</th>\n      <th>What theme should we explore next week? [Fifth Choice]</th>\n    </tr>\n  </thead>\n  <tbody>\n    <tr>\n      <th>0</th>\n      <td>11/05/2021 17:45:46</td>\n      <td>Breaker Morant (1980)</td>\n      <td>The Browning Version (1951)</td>\n      <td>How To Get Ahead In Advertising (1989)</td>\n      <td>Who’s Afraid of Virginia Woolf? (1966)</td>\n      <td>HIGH FANTASY</td>\n      <td>[Default to Nicolas Cage]</td>\n      <td>FAMOUS ELEVATORS</td>\n      <td>FOOD: FRIEND OR FOE?!</td>\n      <td>LADIES’ NIGHT</td>\n    </tr>\n    <tr>\n      <th>1</th>\n      <td>11/05/2021 18:02:27</td>\n      <td>The Browning Version (1951)</td>\n      <td>Breaker Morant (1980)</td>\n      <td>How To Get Ahead In Advertising (1989)</td>\n      <td>NaN</td>\n      <td>FAMOUS ELEVATORS</td>\n      <td>LADIES’ NIGHT</td>\n      <td>HIGH FANTASY</td>\n      <td>[Default to Nicolas Cage]</td>\n      <td>FOOD: FRIEND OR FOE?!</td>\n    </tr>\n    <tr>\n      <th>2</th>\n      <td>11/05/2021 19:32:33</td>\n      <td>The Browning Version (1951)</td>\n      <td>How To Get Ahead In Advertising (1989)</td>\n      <td>Who’s Afraid of Virginia Woolf? (1966)</td>\n      <td>Breaker Morant (1980)</td>\n      <td>FOOD: FRIEND OR FOE?!</td>\n      <td>HIGH FANTASY</td>\n      <td>LADIES’ NIGHT</td>\n      <td>FAMOUS ELEVATORS</td>\n      <td>[Default to Nicolas Cage]</td>\n    </tr>\n    <tr>\n      <th>3</th>\n      <td>11/05/2021 19:40:43</td>\n      <td>Who’s Afraid of Virginia Woolf? (1966)</td>\n      <td>Breaker Morant (1980)</td>\n      <td>NaN</td>\n      <td>NaN</td>\n      <td>LADIES’ NIGHT</td>\n      <td>[Default to Nicolas Cage]</td>\n      <td>NaN</td>\n      <td>NaN</td>\n      <td>NaN</td>\n    </tr>\n    <tr>\n      <th>4</th>\n      <td>11/05/2021 20:43:41</td>\n      <td>How To Get Ahead In Advertising (1989)</td>\n      <td>The Browning Version (1951)</td>\n      <td>Who’s Afraid of Virginia Woolf? (1966)</td>\n      <td>Breaker Morant (1980)</td>\n      <td>[Default to Nicolas Cage]</td>\n      <td>LADIES’ NIGHT</td>\n      <td>NaN</td>\n      <td>FOOD: FRIEND OR FOE?!</td>\n      <td>HIGH FANTASY</td>\n    </tr>\n    <tr>\n      <th>5</th>\n      <td>12/05/2021 05:23:36</td>\n      <td>The Browning Version (1951)</td>\n      <td>Who’s Afraid of Virginia Woolf? (1966)</td>\n      <td>How To Get Ahead In Advertising (1989)</td>\n      <td>Breaker Morant (1980)</td>\n      <td>LADIES’ NIGHT</td>\n      <td>FAMOUS ELEVATORS</td>\n      <td>FOOD: FRIEND OR FOE?!</td>\n      <td>HIGH FANTASY</td>\n      <td>[Default to Nicolas Cage]</td>\n    </tr>\n  </tbody>\n</table>\n</div>"
     },
     "execution_count": 2,
     "metadata": {},
     "output_type": "execute_result"
    }
   ],
   "source": [
    "df = pd.read_csv(Path('./data/20210515.csv').resolve())\n",
    "df"
   ]
  },
  {
   "cell_type": "code",
   "execution_count": 3,
   "metadata": {},
   "outputs": [],
   "source": [
    "just_ballots = df.loc[:, df.columns.str.startswith('Rank')]\n",
    "next_week = df.loc[:, df.columns.str.startswith('What')]"
   ]
  },
  {
   "cell_type": "code",
   "execution_count": 4,
   "metadata": {},
   "outputs": [
    {
     "data": {
      "text/plain": "array(['Breaker Morant (1980)', 'The Browning Version (1951)',\n       'How To Get Ahead In Advertising (1989)',\n       'Who’s Afraid of Virginia Woolf? (1966)'], dtype=object)"
     },
     "execution_count": 4,
     "metadata": {},
     "output_type": "execute_result"
    }
   ],
   "source": [
    "submissions = just_ballots.loc[just_ballots.notna().all(axis=1).idxmax(),:].values\n",
    "submissions"
   ]
  },
  {
   "cell_type": "code",
   "execution_count": 5,
   "metadata": {},
   "outputs": [],
   "source": [
    "submission_dict = {submission: pyrankvote.Candidate(submission) for submission in submissions}"
   ]
  },
  {
   "cell_type": "code",
   "execution_count": 6,
   "metadata": {},
   "outputs": [],
   "source": [
    "balloted = just_ballots.applymap(lambda x: submission_dict[x] if isinstance(x, str) else x)"
   ]
  },
  {
   "cell_type": "code",
   "execution_count": 7,
   "metadata": {},
   "outputs": [
    {
     "data": {
      "text/plain": "{'Breaker Morant (1980)': <Candidate('Breaker Morant (1980)')>,\n 'The Browning Version (1951)': <Candidate('The Browning Version (1951)')>,\n 'How To Get Ahead In Advertising (1989)': <Candidate('How To Get Ahead In Advertising (1989)')>,\n 'Who’s Afraid of Virginia Woolf? (1966)': <Candidate('Who’s Afraid of Virginia Woolf? (1966)')>}"
     },
     "execution_count": 7,
     "metadata": {},
     "output_type": "execute_result"
    }
   ],
   "source": [
    "submission_dict"
   ]
  },
  {
   "cell_type": "code",
   "execution_count": 8,
   "metadata": {},
   "outputs": [],
   "source": [
    "ballots = []\n",
    "for ballot in balloted.itertuples():\n",
    "    ballots.append(pyrankvote.Ballot(ranked_candidates=[b for b in ballot if isinstance(b, pyrankvote.Candidate)]))"
   ]
  },
  {
   "cell_type": "code",
   "execution_count": 9,
   "metadata": {},
   "outputs": [
    {
     "data": {
      "text/plain": "[<Ballot(Breaker Morant (1980), The Browning Version (1951), How To Get Ahead In Advertising (1989), Who’s Afraid of Virginia Woolf? (1966))>,\n <Ballot(The Browning Version (1951), Breaker Morant (1980), How To Get Ahead In Advertising (1989))>,\n <Ballot(The Browning Version (1951), How To Get Ahead In Advertising (1989), Who’s Afraid of Virginia Woolf? (1966), Breaker Morant (1980))>,\n <Ballot(Who’s Afraid of Virginia Woolf? (1966), Breaker Morant (1980))>,\n <Ballot(How To Get Ahead In Advertising (1989), The Browning Version (1951), Who’s Afraid of Virginia Woolf? (1966), Breaker Morant (1980))>,\n <Ballot(The Browning Version (1951), Who’s Afraid of Virginia Woolf? (1966), How To Get Ahead In Advertising (1989), Breaker Morant (1980))>]"
     },
     "execution_count": 9,
     "metadata": {},
     "output_type": "execute_result"
    }
   ],
   "source": [
    "ballots"
   ]
  },
  {
   "cell_type": "code",
   "execution_count": 10,
   "metadata": {},
   "outputs": [],
   "source": [
    "election_result = pyrankvote.instant_runoff_voting(submission_dict.values(), ballots,)"
   ]
  },
  {
   "cell_type": "code",
   "execution_count": 11,
   "metadata": {},
   "outputs": [
    {
     "name": "stdout",
     "output_type": "stream",
     "text": [
      "ROUND 1\n",
      "Candidate                                 Votes  Status\n",
      "--------------------------------------  -------  --------\n",
      "The Browning Version (1951)                   3  Hopeful\n",
      "How To Get Ahead In Advertising (1989)        1  Hopeful\n",
      "Breaker Morant (1980)                         1  Rejected\n",
      "Who’s Afraid of Virginia Woolf? (1966)        1  Rejected\n",
      "\n",
      "FINAL RESULT\n",
      "Candidate                                 Votes  Status\n",
      "--------------------------------------  -------  --------\n",
      "The Browning Version (1951)                   4  Elected\n",
      "How To Get Ahead In Advertising (1989)        1  Rejected\n",
      "Breaker Morant (1980)                         0  Rejected\n",
      "Who’s Afraid of Virginia Woolf? (1966)        0  Rejected\n",
      "Blank votes                                   1  Rejected\n",
      "\n"
     ]
    }
   ],
   "source": [
    "print(election_result)"
   ]
  },
  {
   "cell_type": "code",
   "execution_count": 12,
   "metadata": {},
   "outputs": [
    {
     "name": "stdout",
     "output_type": "stream",
     "text": [
      "ROUND 1\n",
      "Candidate                    Votes  Status\n",
      "-------------------------  -------  --------\n",
      "LADIES’ NIGHT                    2  Hopeful\n",
      "[Default to Nicolas Cage]        1  Hopeful\n",
      "HIGH FANTASY                     1  Hopeful\n",
      "FAMOUS ELEVATORS                 1  Hopeful\n",
      "FOOD: FRIEND OR FOE?!            1  Rejected\n",
      "\n",
      "ROUND 2\n",
      "Candidate                    Votes  Status\n",
      "-------------------------  -------  --------\n",
      "LADIES’ NIGHT                    2  Hopeful\n",
      "HIGH FANTASY                     2  Hopeful\n",
      "[Default to Nicolas Cage]        1  Rejected\n",
      "FAMOUS ELEVATORS                 1  Rejected\n",
      "FOOD: FRIEND OR FOE?!            0  Rejected\n",
      "\n",
      "FINAL RESULT\n",
      "Candidate                    Votes  Status\n",
      "-------------------------  -------  --------\n",
      "LADIES’ NIGHT                    4  Elected\n",
      "HIGH FANTASY                     2  Rejected\n",
      "[Default to Nicolas Cage]        0  Rejected\n",
      "FAMOUS ELEVATORS                 0  Rejected\n",
      "FOOD: FRIEND OR FOE?!            0  Rejected\n",
      "\n"
     ]
    }
   ],
   "source": [
    "submissions = next_week.loc[next_week.notna().all(axis=1).idxmax(),:].values\n",
    "submission_dict = {submission: pyrankvote.Candidate(submission) for submission in submissions}\n",
    "balloted = next_week.applymap(lambda x: submission_dict[x] if isinstance(x, str) else x)\n",
    "ballots = []\n",
    "for ballot in balloted.itertuples():\n",
    "    ballots.append(pyrankvote.Ballot(ranked_candidates=[b for b in ballot if isinstance(b, pyrankvote.Candidate)]))\n",
    "print(pyrankvote.instant_runoff_voting(submission_dict.values(), ballots,))"
   ]
  }
 ],
 "metadata": {
  "kernelspec": {
   "display_name": "Python 3",
   "language": "python",
   "name": "python3"
  },
  "language_info": {
   "codemirror_mode": {
    "name": "ipython",
    "version": 3
   },
   "file_extension": ".py",
   "mimetype": "text/x-python",
   "name": "python",
   "nbconvert_exporter": "python",
   "pygments_lexer": "ipython3",
   "version": "3.7.4"
  }
 },
 "nbformat": 4,
 "nbformat_minor": 2
}