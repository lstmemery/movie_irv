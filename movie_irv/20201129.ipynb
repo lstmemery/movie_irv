{
 "cells": [
  {
   "cell_type": "code",
   "execution_count": 1,
   "metadata": {},
   "outputs": [],
   "source": [
    "import pandas as pd\n",
    "import pyrankvote\n",
    "from pathlib import Path\n",
    "from random import seed\n",
    "seed(252)"
   ]
  },
  {
   "cell_type": "code",
   "execution_count": 2,
   "metadata": {},
   "outputs": [
    {
     "data": {
      "text/plain": "             Timestamp  \\\n0  11/24/2020 22:06:25   \n1  11/24/2020 22:16:04   \n2  11/24/2020 23:17:11   \n3  11/24/2020 23:26:42   \n4   11/25/2020 5:37:13   \n5   11/25/2020 7:04:10   \n6   11/25/2020 7:51:55   \n7  11/25/2020 17:15:45   \n8   11/26/2020 9:12:01   \n\n  Rank your movie choices. You don't have to do a full ranking. [First Choice]  \\\n0                                    The Blob (1958)                             \n1                                       Them! (1954)                             \n2                               Force Majeure (2014)                             \n3             Spiderman: Into the Spiderverse (2018)                             \n4                                    The Host (2006)                             \n5                      Grave of the Fireflies (1988)                             \n6                               Force Majeure (2014)                             \n7                                    The Blob (1958)                             \n8                               Force Majeure (2014)                             \n\n  Rank your movie choices. You don't have to do a full ranking. [Second Choice]  \\\n0                                       Them! (1954)                              \n1                      Grave of the Fireflies (1988)                              \n2                      Grave of the Fireflies (1988)                              \n3                                       Them! (1954)                              \n4                                       Them! (1954)                              \n5                               Force Majeure (2014)                              \n6                                  Taxidermia (2006)                              \n7                      Grave of the Fireflies (1988)                              \n8                                    The Host (2006)                              \n\n  Rank your movie choices. You don't have to do a full ranking. [Third Choice]  \\\n0                      Grave of the Fireflies (1988)                             \n1                                  Taxidermia (2006)                             \n2                                    The Blob (1958)                             \n3                                    The Host (2006)                             \n4                      Grave of the Fireflies (1988)                             \n5                                    The Host (2006)                             \n6                                    The Host (2006)                             \n7                                    The Host (2006)                             \n8                      Grave of the Fireflies (1988)                             \n\n  Rank your movie choices. You don't have to do a full ranking. [Fourth Choice]  \\\n0                                    The Host (2006)                              \n1                                    The Blob (1958)                              \n2                                    The Host (2006)                              \n3                                    The Blob (1958)                              \n4             Spiderman: Into the Spiderverse (2018)                              \n5                                    The Blob (1958)                              \n6                                    The Blob (1958)                              \n7             Spiderman: Into the Spiderverse (2018)                              \n8             Spiderman: Into the Spiderverse (2018)                              \n\n  Rank your movie choices. You don't have to do a full ranking. [Fifth Choice]  \\\n0                                  Taxidermia (2006)                             \n1                                                NaN                             \n2                                  Taxidermia (2006)                             \n3                               Force Majeure (2014)                             \n4                               Force Majeure (2014)                             \n5                                       Them! (1954)                             \n6                      Grave of the Fireflies (1988)                             \n7                                  Taxidermia (2006)                             \n8                                    The Blob (1958)                             \n\n  Rank your movie choices. You don't have to do a full ranking. [Sixth Choice]  \\\n0                               Force Majeure (2014)                             \n1                                                NaN                             \n2                                       Them! (1954)                             \n3                      Grave of the Fireflies (1988)                             \n4                                    The Blob (1958)                             \n5             Spiderman: Into the Spiderverse (2018)                             \n6                                       Them! (1954)                             \n7                               Force Majeure (2014)                             \n8                                       Them! (1954)                             \n\n  Rank your movie choices. You don't have to do a full ranking. [Seventh Choice]  \\\n0             Spiderman: Into the Spiderverse (2018)                               \n1                                                NaN                               \n2             Spiderman: Into the Spiderverse (2018)                               \n3                                  Taxidermia (2006)                               \n4                                                NaN                               \n5                                  Taxidermia (2006)                               \n6             Spiderman: Into the Spiderverse (2018)                               \n7                                       Them! (1954)                               \n8                                  Taxidermia (2006)                               \n\n  What theme should we explore next week? [First Choice]  \\\n0  NON-TRADITIONAL CHRISTMAS MOVIES THAT AREN'T D...       \n1  NON-TRADITIONAL CHRISTMAS MOVIES THAT AREN'T D...       \n2  NON-TRADITIONAL CHRISTMAS MOVIES THAT AREN'T D...       \n3                      SORRY I AM VERY BAD AT MY JOB       \n4                                  COMEDY OF MANNERS       \n5  NON-TRADITIONAL CHRISTMAS MOVIES THAT AREN'T D...       \n6          A FINE CHEESE: MOVIES THAT RIPEN WITH AGE       \n7                      SORRY I AM VERY BAD AT MY JOB       \n8                                       DOLLY PARTON       \n\n  What theme should we explore next week? [Second Choice]  \\\n0                      SORRY I AM VERY BAD AT MY JOB        \n1                      SORRY I AM VERY BAD AT MY JOB        \n2                      SORRY I AM VERY BAD AT MY JOB        \n3                          [Default to Nicolas Cage]        \n4  NON-TRADITIONAL CHRISTMAS MOVIES THAT AREN'T D...        \n5                                  COMEDY OF MANNERS        \n6                      SORRY I AM VERY BAD AT MY JOB        \n7                                    GOOD VIBES ONLY        \n8          A FINE CHEESE: MOVIES THAT RIPEN WITH AGE        \n\n  What theme should we explore next week? [Third Choice]  \\\n0                                       DOLLY PARTON       \n1                                  COMEDY OF MANNERS       \n2                                    GOOD VIBES ONLY       \n3                               A MUSICAL (NOT CATS)       \n4          A FINE CHEESE: MOVIES THAT RIPEN WITH AGE       \n5                      SORRY I AM VERY BAD AT MY JOB       \n6                                  COMEDY OF MANNERS       \n7          A FINE CHEESE: MOVIES THAT RIPEN WITH AGE       \n8                      SORRY I AM VERY BAD AT MY JOB       \n\n  What theme should we explore next week? [Fourth Choice]  \\\n0                                    GOOD VIBES ONLY        \n1          A FINE CHEESE: MOVIES THAT RIPEN WITH AGE        \n2          A FINE CHEESE: MOVIES THAT RIPEN WITH AGE        \n3                                  COMEDY OF MANNERS        \n4                                    GOOD VIBES ONLY        \n5          A FINE CHEESE: MOVIES THAT RIPEN WITH AGE        \n6                               A MUSICAL (NOT CATS)        \n7                               A MUSICAL (NOT CATS)        \n8                                    GOOD VIBES ONLY        \n\n  What theme should we explore next week? [Fifth Choice]  \\\n0                               A MUSICAL (NOT CATS)       \n1                                    GOOD VIBES ONLY       \n2                                       DOLLY PARTON       \n3                                       DOLLY PARTON       \n4                      SORRY I AM VERY BAD AT MY JOB       \n5                                    GOOD VIBES ONLY       \n6  NON-TRADITIONAL CHRISTMAS MOVIES THAT AREN'T D...       \n7  NON-TRADITIONAL CHRISTMAS MOVIES THAT AREN'T D...       \n8  NON-TRADITIONAL CHRISTMAS MOVIES THAT AREN'T D...       \n\n  What theme should we explore next week? [Sixth Choice]  \\\n0          A FINE CHEESE: MOVIES THAT RIPEN WITH AGE       \n1                               A MUSICAL (NOT CATS)       \n2                                  COMEDY OF MANNERS       \n3          A FINE CHEESE: MOVIES THAT RIPEN WITH AGE       \n4                          [Default to Nicolas Cage]       \n5                                       DOLLY PARTON       \n6                                    GOOD VIBES ONLY       \n7                                  COMEDY OF MANNERS       \n8                                  COMEDY OF MANNERS       \n\n  What theme should we explore next week? [Seventh Choice]  \\\n0                          [Default to Nicolas Cage]         \n1                          [Default to Nicolas Cage]         \n2                          [Default to Nicolas Cage]         \n3  NON-TRADITIONAL CHRISTMAS MOVIES THAT AREN'T D...         \n4                                                NaN         \n5                               A MUSICAL (NOT CATS)         \n6                          [Default to Nicolas Cage]         \n7                                       DOLLY PARTON         \n8                          [Default to Nicolas Cage]         \n\n  What theme should we explore next week? [Eighth Choice]  \n0                                  COMEDY OF MANNERS       \n1                                       DOLLY PARTON       \n2                               A MUSICAL (NOT CATS)       \n3                                    GOOD VIBES ONLY       \n4                                                NaN       \n5                          [Default to Nicolas Cage]       \n6                                       DOLLY PARTON       \n7                          [Default to Nicolas Cage]       \n8                               A MUSICAL (NOT CATS)       ",
      "text/html": "<div>\n<style scoped>\n    .dataframe tbody tr th:only-of-type {\n        vertical-align: middle;\n    }\n\n    .dataframe tbody tr th {\n        vertical-align: top;\n    }\n\n    .dataframe thead th {\n        text-align: right;\n    }\n</style>\n<table border=\"1\" class=\"dataframe\">\n  <thead>\n    <tr style=\"text-align: right;\">\n      <th></th>\n      <th>Timestamp</th>\n      <th>Rank your movie choices. You don't have to do a full ranking. [First Choice]</th>\n      <th>Rank your movie choices. You don't have to do a full ranking. [Second Choice]</th>\n      <th>Rank your movie choices. You don't have to do a full ranking. [Third Choice]</th>\n      <th>Rank your movie choices. You don't have to do a full ranking. [Fourth Choice]</th>\n      <th>Rank your movie choices. You don't have to do a full ranking. [Fifth Choice]</th>\n      <th>Rank your movie choices. You don't have to do a full ranking. [Sixth Choice]</th>\n      <th>Rank your movie choices. You don't have to do a full ranking. [Seventh Choice]</th>\n      <th>What theme should we explore next week? [First Choice]</th>\n      <th>What theme should we explore next week? [Second Choice]</th>\n      <th>What theme should we explore next week? [Third Choice]</th>\n      <th>What theme should we explore next week? [Fourth Choice]</th>\n      <th>What theme should we explore next week? [Fifth Choice]</th>\n      <th>What theme should we explore next week? [Sixth Choice]</th>\n      <th>What theme should we explore next week? [Seventh Choice]</th>\n      <th>What theme should we explore next week? [Eighth Choice]</th>\n    </tr>\n  </thead>\n  <tbody>\n    <tr>\n      <th>0</th>\n      <td>11/24/2020 22:06:25</td>\n      <td>The Blob (1958)</td>\n      <td>Them! (1954)</td>\n      <td>Grave of the Fireflies (1988)</td>\n      <td>The Host (2006)</td>\n      <td>Taxidermia (2006)</td>\n      <td>Force Majeure (2014)</td>\n      <td>Spiderman: Into the Spiderverse (2018)</td>\n      <td>NON-TRADITIONAL CHRISTMAS MOVIES THAT AREN'T D...</td>\n      <td>SORRY I AM VERY BAD AT MY JOB</td>\n      <td>DOLLY PARTON</td>\n      <td>GOOD VIBES ONLY</td>\n      <td>A MUSICAL (NOT CATS)</td>\n      <td>A FINE CHEESE: MOVIES THAT RIPEN WITH AGE</td>\n      <td>[Default to Nicolas Cage]</td>\n      <td>COMEDY OF MANNERS</td>\n    </tr>\n    <tr>\n      <th>1</th>\n      <td>11/24/2020 22:16:04</td>\n      <td>Them! (1954)</td>\n      <td>Grave of the Fireflies (1988)</td>\n      <td>Taxidermia (2006)</td>\n      <td>The Blob (1958)</td>\n      <td>NaN</td>\n      <td>NaN</td>\n      <td>NaN</td>\n      <td>NON-TRADITIONAL CHRISTMAS MOVIES THAT AREN'T D...</td>\n      <td>SORRY I AM VERY BAD AT MY JOB</td>\n      <td>COMEDY OF MANNERS</td>\n      <td>A FINE CHEESE: MOVIES THAT RIPEN WITH AGE</td>\n      <td>GOOD VIBES ONLY</td>\n      <td>A MUSICAL (NOT CATS)</td>\n      <td>[Default to Nicolas Cage]</td>\n      <td>DOLLY PARTON</td>\n    </tr>\n    <tr>\n      <th>2</th>\n      <td>11/24/2020 23:17:11</td>\n      <td>Force Majeure (2014)</td>\n      <td>Grave of the Fireflies (1988)</td>\n      <td>The Blob (1958)</td>\n      <td>The Host (2006)</td>\n      <td>Taxidermia (2006)</td>\n      <td>Them! (1954)</td>\n      <td>Spiderman: Into the Spiderverse (2018)</td>\n      <td>NON-TRADITIONAL CHRISTMAS MOVIES THAT AREN'T D...</td>\n      <td>SORRY I AM VERY BAD AT MY JOB</td>\n      <td>GOOD VIBES ONLY</td>\n      <td>A FINE CHEESE: MOVIES THAT RIPEN WITH AGE</td>\n      <td>DOLLY PARTON</td>\n      <td>COMEDY OF MANNERS</td>\n      <td>[Default to Nicolas Cage]</td>\n      <td>A MUSICAL (NOT CATS)</td>\n    </tr>\n    <tr>\n      <th>3</th>\n      <td>11/24/2020 23:26:42</td>\n      <td>Spiderman: Into the Spiderverse (2018)</td>\n      <td>Them! (1954)</td>\n      <td>The Host (2006)</td>\n      <td>The Blob (1958)</td>\n      <td>Force Majeure (2014)</td>\n      <td>Grave of the Fireflies (1988)</td>\n      <td>Taxidermia (2006)</td>\n      <td>SORRY I AM VERY BAD AT MY JOB</td>\n      <td>[Default to Nicolas Cage]</td>\n      <td>A MUSICAL (NOT CATS)</td>\n      <td>COMEDY OF MANNERS</td>\n      <td>DOLLY PARTON</td>\n      <td>A FINE CHEESE: MOVIES THAT RIPEN WITH AGE</td>\n      <td>NON-TRADITIONAL CHRISTMAS MOVIES THAT AREN'T D...</td>\n      <td>GOOD VIBES ONLY</td>\n    </tr>\n    <tr>\n      <th>4</th>\n      <td>11/25/2020 5:37:13</td>\n      <td>The Host (2006)</td>\n      <td>Them! (1954)</td>\n      <td>Grave of the Fireflies (1988)</td>\n      <td>Spiderman: Into the Spiderverse (2018)</td>\n      <td>Force Majeure (2014)</td>\n      <td>The Blob (1958)</td>\n      <td>NaN</td>\n      <td>COMEDY OF MANNERS</td>\n      <td>NON-TRADITIONAL CHRISTMAS MOVIES THAT AREN'T D...</td>\n      <td>A FINE CHEESE: MOVIES THAT RIPEN WITH AGE</td>\n      <td>GOOD VIBES ONLY</td>\n      <td>SORRY I AM VERY BAD AT MY JOB</td>\n      <td>[Default to Nicolas Cage]</td>\n      <td>NaN</td>\n      <td>NaN</td>\n    </tr>\n    <tr>\n      <th>5</th>\n      <td>11/25/2020 7:04:10</td>\n      <td>Grave of the Fireflies (1988)</td>\n      <td>Force Majeure (2014)</td>\n      <td>The Host (2006)</td>\n      <td>The Blob (1958)</td>\n      <td>Them! (1954)</td>\n      <td>Spiderman: Into the Spiderverse (2018)</td>\n      <td>Taxidermia (2006)</td>\n      <td>NON-TRADITIONAL CHRISTMAS MOVIES THAT AREN'T D...</td>\n      <td>COMEDY OF MANNERS</td>\n      <td>SORRY I AM VERY BAD AT MY JOB</td>\n      <td>A FINE CHEESE: MOVIES THAT RIPEN WITH AGE</td>\n      <td>GOOD VIBES ONLY</td>\n      <td>DOLLY PARTON</td>\n      <td>A MUSICAL (NOT CATS)</td>\n      <td>[Default to Nicolas Cage]</td>\n    </tr>\n    <tr>\n      <th>6</th>\n      <td>11/25/2020 7:51:55</td>\n      <td>Force Majeure (2014)</td>\n      <td>Taxidermia (2006)</td>\n      <td>The Host (2006)</td>\n      <td>The Blob (1958)</td>\n      <td>Grave of the Fireflies (1988)</td>\n      <td>Them! (1954)</td>\n      <td>Spiderman: Into the Spiderverse (2018)</td>\n      <td>A FINE CHEESE: MOVIES THAT RIPEN WITH AGE</td>\n      <td>SORRY I AM VERY BAD AT MY JOB</td>\n      <td>COMEDY OF MANNERS</td>\n      <td>A MUSICAL (NOT CATS)</td>\n      <td>NON-TRADITIONAL CHRISTMAS MOVIES THAT AREN'T D...</td>\n      <td>GOOD VIBES ONLY</td>\n      <td>[Default to Nicolas Cage]</td>\n      <td>DOLLY PARTON</td>\n    </tr>\n    <tr>\n      <th>7</th>\n      <td>11/25/2020 17:15:45</td>\n      <td>The Blob (1958)</td>\n      <td>Grave of the Fireflies (1988)</td>\n      <td>The Host (2006)</td>\n      <td>Spiderman: Into the Spiderverse (2018)</td>\n      <td>Taxidermia (2006)</td>\n      <td>Force Majeure (2014)</td>\n      <td>Them! (1954)</td>\n      <td>SORRY I AM VERY BAD AT MY JOB</td>\n      <td>GOOD VIBES ONLY</td>\n      <td>A FINE CHEESE: MOVIES THAT RIPEN WITH AGE</td>\n      <td>A MUSICAL (NOT CATS)</td>\n      <td>NON-TRADITIONAL CHRISTMAS MOVIES THAT AREN'T D...</td>\n      <td>COMEDY OF MANNERS</td>\n      <td>DOLLY PARTON</td>\n      <td>[Default to Nicolas Cage]</td>\n    </tr>\n    <tr>\n      <th>8</th>\n      <td>11/26/2020 9:12:01</td>\n      <td>Force Majeure (2014)</td>\n      <td>The Host (2006)</td>\n      <td>Grave of the Fireflies (1988)</td>\n      <td>Spiderman: Into the Spiderverse (2018)</td>\n      <td>The Blob (1958)</td>\n      <td>Them! (1954)</td>\n      <td>Taxidermia (2006)</td>\n      <td>DOLLY PARTON</td>\n      <td>A FINE CHEESE: MOVIES THAT RIPEN WITH AGE</td>\n      <td>SORRY I AM VERY BAD AT MY JOB</td>\n      <td>GOOD VIBES ONLY</td>\n      <td>NON-TRADITIONAL CHRISTMAS MOVIES THAT AREN'T D...</td>\n      <td>COMEDY OF MANNERS</td>\n      <td>[Default to Nicolas Cage]</td>\n      <td>A MUSICAL (NOT CATS)</td>\n    </tr>\n  </tbody>\n</table>\n</div>"
     },
     "execution_count": 2,
     "metadata": {},
     "output_type": "execute_result"
    }
   ],
   "source": [
    "df = pd.read_csv(Path('./data/20201129.csv').resolve())\n",
    "df"
   ]
  },
  {
   "cell_type": "code",
   "execution_count": 3,
   "metadata": {},
   "outputs": [],
   "source": [
    "just_ballots = df.loc[:, df.columns.str.startswith('Rank')]\n",
    "next_week = df.loc[:, df.columns.str.startswith('What')]"
   ]
  },
  {
   "cell_type": "code",
   "execution_count": 4,
   "metadata": {},
   "outputs": [
    {
     "data": {
      "text/plain": "array(['The Blob (1958)', 'Them! (1954)', 'Grave of the Fireflies (1988)',\n       'The Host (2006)', 'Taxidermia (2006)', 'Force Majeure (2014)',\n       'Spiderman: Into the Spiderverse (2018)'], dtype=object)"
     },
     "execution_count": 4,
     "metadata": {},
     "output_type": "execute_result"
    }
   ],
   "source": [
    "submissions = just_ballots.loc[just_ballots.notna().all(axis=1).idxmax(),:].values\n",
    "submissions"
   ]
  },
  {
   "cell_type": "code",
   "execution_count": 5,
   "metadata": {},
   "outputs": [],
   "source": [
    "submission_dict = {submission: pyrankvote.Candidate(submission) for submission in submissions}"
   ]
  },
  {
   "cell_type": "code",
   "execution_count": 6,
   "metadata": {},
   "outputs": [],
   "source": [
    "balloted = just_ballots.applymap(lambda x: submission_dict[x] if isinstance(x, str) else x)"
   ]
  },
  {
   "cell_type": "code",
   "execution_count": 7,
   "metadata": {},
   "outputs": [
    {
     "data": {
      "text/plain": "{'The Blob (1958)': <Candidate('The Blob (1958)')>,\n 'Them! (1954)': <Candidate('Them! (1954)')>,\n 'Grave of the Fireflies (1988)': <Candidate('Grave of the Fireflies (1988)')>,\n 'The Host (2006)': <Candidate('The Host (2006)')>,\n 'Taxidermia (2006)': <Candidate('Taxidermia (2006)')>,\n 'Force Majeure (2014)': <Candidate('Force Majeure (2014)')>,\n 'Spiderman: Into the Spiderverse (2018)': <Candidate('Spiderman: Into the Spiderverse (2018)')>}"
     },
     "execution_count": 7,
     "metadata": {},
     "output_type": "execute_result"
    }
   ],
   "source": [
    "submission_dict"
   ]
  },
  {
   "cell_type": "code",
   "execution_count": 8,
   "metadata": {},
   "outputs": [],
   "source": [
    "ballots = []\n",
    "for ballot in balloted.itertuples():\n",
    "    ballots.append(pyrankvote.Ballot(ranked_candidates=[b for b in ballot if isinstance(b, pyrankvote.Candidate)]))"
   ]
  },
  {
   "cell_type": "code",
   "execution_count": 9,
   "metadata": {},
   "outputs": [
    {
     "data": {
      "text/plain": "[<Ballot(The Blob (1958), Them! (1954), Grave of the Fireflies (1988), The Host (2006), Taxidermia (2006), Force Majeure (2014), Spiderman: Into the Spiderverse (2018))>,\n <Ballot(Them! (1954), Grave of the Fireflies (1988), Taxidermia (2006), The Blob (1958))>,\n <Ballot(Force Majeure (2014), Grave of the Fireflies (1988), The Blob (1958), The Host (2006), Taxidermia (2006), Them! (1954), Spiderman: Into the Spiderverse (2018))>,\n <Ballot(Spiderman: Into the Spiderverse (2018), Them! (1954), The Host (2006), The Blob (1958), Force Majeure (2014), Grave of the Fireflies (1988), Taxidermia (2006))>,\n <Ballot(The Host (2006), Them! (1954), Grave of the Fireflies (1988), Spiderman: Into the Spiderverse (2018), Force Majeure (2014), The Blob (1958))>,\n <Ballot(Grave of the Fireflies (1988), Force Majeure (2014), The Host (2006), The Blob (1958), Them! (1954), Spiderman: Into the Spiderverse (2018), Taxidermia (2006))>,\n <Ballot(Force Majeure (2014), Taxidermia (2006), The Host (2006), The Blob (1958), Grave of the Fireflies (1988), Them! (1954), Spiderman: Into the Spiderverse (2018))>,\n <Ballot(The Blob (1958), Grave of the Fireflies (1988), The Host (2006), Spiderman: Into the Spiderverse (2018), Taxidermia (2006), Force Majeure (2014), Them! (1954))>,\n <Ballot(Force Majeure (2014), The Host (2006), Grave of the Fireflies (1988), Spiderman: Into the Spiderverse (2018), The Blob (1958), Them! (1954), Taxidermia (2006))>]"
     },
     "execution_count": 9,
     "metadata": {},
     "output_type": "execute_result"
    }
   ],
   "source": [
    "ballots"
   ]
  },
  {
   "cell_type": "code",
   "execution_count": 10,
   "metadata": {},
   "outputs": [],
   "source": [
    "election_result = pyrankvote.instant_runoff_voting(submission_dict.values(), ballots,)"
   ]
  },
  {
   "cell_type": "code",
   "execution_count": 11,
   "metadata": {},
   "outputs": [
    {
     "name": "stdout",
     "output_type": "stream",
     "text": [
      "ROUND 1\n",
      "Candidate                                 Votes  Status\n",
      "--------------------------------------  -------  --------\n",
      "Force Majeure (2014)                          3  Hopeful\n",
      "The Blob (1958)                               2  Hopeful\n",
      "Grave of the Fireflies (1988)                 1  Hopeful\n",
      "Them! (1954)                                  1  Hopeful\n",
      "The Host (2006)                               1  Hopeful\n",
      "Spiderman: Into the Spiderverse (2018)        1  Rejected\n",
      "Taxidermia (2006)                             0  Rejected\n",
      "\n",
      "ROUND 2\n",
      "Candidate                                 Votes  Status\n",
      "--------------------------------------  -------  --------\n",
      "Force Majeure (2014)                          3  Hopeful\n",
      "Them! (1954)                                  2  Hopeful\n",
      "The Blob (1958)                               2  Hopeful\n",
      "Grave of the Fireflies (1988)                 1  Rejected\n",
      "The Host (2006)                               1  Rejected\n",
      "Spiderman: Into the Spiderverse (2018)        0  Rejected\n",
      "Taxidermia (2006)                             0  Rejected\n",
      "\n",
      "ROUND 3\n",
      "Candidate                                 Votes  Status\n",
      "--------------------------------------  -------  --------\n",
      "Force Majeure (2014)                          4  Hopeful\n",
      "Them! (1954)                                  3  Hopeful\n",
      "The Blob (1958)                               2  Rejected\n",
      "Grave of the Fireflies (1988)                 0  Rejected\n",
      "The Host (2006)                               0  Rejected\n",
      "Spiderman: Into the Spiderverse (2018)        0  Rejected\n",
      "Taxidermia (2006)                             0  Rejected\n",
      "\n",
      "FINAL RESULT\n",
      "Candidate                                 Votes  Status\n",
      "--------------------------------------  -------  --------\n",
      "Force Majeure (2014)                          5  Elected\n",
      "Them! (1954)                                  4  Rejected\n",
      "The Blob (1958)                               0  Rejected\n",
      "Grave of the Fireflies (1988)                 0  Rejected\n",
      "The Host (2006)                               0  Rejected\n",
      "Spiderman: Into the Spiderverse (2018)        0  Rejected\n",
      "Taxidermia (2006)                             0  Rejected\n",
      "\n"
     ]
    }
   ],
   "source": [
    "print(election_result)"
   ]
  },
  {
   "cell_type": "code",
   "execution_count": 12,
   "metadata": {},
   "outputs": [
    {
     "name": "stdout",
     "output_type": "stream",
     "text": [
      "ROUND 1\n",
      "Candidate                                                Votes  Status\n",
      "-----------------------------------------------------  -------  --------\n",
      "NON-TRADITIONAL CHRISTMAS MOVIES THAT AREN'T DIE HARD        4  Hopeful\n",
      "SORRY I AM VERY BAD AT MY JOB                                2  Hopeful\n",
      "A FINE CHEESE: MOVIES THAT RIPEN WITH AGE                    1  Hopeful\n",
      "COMEDY OF MANNERS                                            1  Hopeful\n",
      "DOLLY PARTON                                                 1  Rejected\n",
      "GOOD VIBES ONLY                                              0  Rejected\n",
      "[Default to Nicolas Cage]                                    0  Rejected\n",
      "A MUSICAL (NOT CATS)                                         0  Rejected\n",
      "\n",
      "ROUND 2\n",
      "Candidate                                                Votes  Status\n",
      "-----------------------------------------------------  -------  --------\n",
      "NON-TRADITIONAL CHRISTMAS MOVIES THAT AREN'T DIE HARD        4  Hopeful\n",
      "SORRY I AM VERY BAD AT MY JOB                                2  Hopeful\n",
      "A FINE CHEESE: MOVIES THAT RIPEN WITH AGE                    2  Hopeful\n",
      "COMEDY OF MANNERS                                            1  Rejected\n",
      "DOLLY PARTON                                                 0  Rejected\n",
      "GOOD VIBES ONLY                                              0  Rejected\n",
      "[Default to Nicolas Cage]                                    0  Rejected\n",
      "A MUSICAL (NOT CATS)                                         0  Rejected\n",
      "\n",
      "FINAL RESULT\n",
      "Candidate                                                Votes  Status\n",
      "-----------------------------------------------------  -------  --------\n",
      "NON-TRADITIONAL CHRISTMAS MOVIES THAT AREN'T DIE HARD        5  Elected\n",
      "SORRY I AM VERY BAD AT MY JOB                                2  Rejected\n",
      "A FINE CHEESE: MOVIES THAT RIPEN WITH AGE                    2  Rejected\n",
      "COMEDY OF MANNERS                                            0  Rejected\n",
      "DOLLY PARTON                                                 0  Rejected\n",
      "GOOD VIBES ONLY                                              0  Rejected\n",
      "[Default to Nicolas Cage]                                    0  Rejected\n",
      "A MUSICAL (NOT CATS)                                         0  Rejected\n",
      "\n"
     ]
    }
   ],
   "source": [
    "submissions = next_week.loc[next_week.notna().all(axis=1).idxmax(),:].values\n",
    "submission_dict = {submission: pyrankvote.Candidate(submission) for submission in submissions}\n",
    "balloted = next_week.applymap(lambda x: submission_dict[x] if isinstance(x, str) else x)\n",
    "ballots = []\n",
    "for ballot in balloted.itertuples():\n",
    "    ballots.append(pyrankvote.Ballot(ranked_candidates=[b for b in ballot if isinstance(b, pyrankvote.Candidate)]))\n",
    "print(pyrankvote.instant_runoff_voting(submission_dict.values(), ballots,))"
   ]
  }
 ],
 "metadata": {
  "kernelspec": {
   "display_name": "Python 3",
   "language": "python",
   "name": "python3"
  },
  "language_info": {
   "codemirror_mode": {
    "name": "ipython",
    "version": 3
   },
   "file_extension": ".py",
   "mimetype": "text/x-python",
   "name": "python",
   "nbconvert_exporter": "python",
   "pygments_lexer": "ipython3",
   "version": "3.7.4"
  }
 },
 "nbformat": 4,
 "nbformat_minor": 2
}