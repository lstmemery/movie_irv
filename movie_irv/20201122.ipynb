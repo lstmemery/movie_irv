{
 "cells": [
  {
   "cell_type": "code",
   "execution_count": 1,
   "metadata": {},
   "outputs": [],
   "source": [
    "import pandas as pd\n",
    "import pyrankvote\n",
    "from pathlib import Path\n",
    "from random import seed\n",
    "seed(252)"
   ]
  },
  {
   "cell_type": "code",
   "execution_count": 2,
   "metadata": {},
   "outputs": [
    {
     "data": {
      "text/plain": "             Timestamp  \\\n0  11/17/2020 18:12:54   \n1  11/17/2020 18:15:28   \n2  11/17/2020 18:16:19   \n3  11/17/2020 18:23:49   \n4  11/17/2020 18:25:10   \n5  11/17/2020 18:33:29   \n6  11/17/2020 18:35:00   \n7   11/18/2020 8:49:55   \n\n  Rank your movie choices. You don't have to do a full ranking. [First Choice]  \\\n0                                River's Edge (1986)                             \n1                                       Brick (2005)                             \n2                    All About Lily Chou-Chou (2001)                             \n3                    All About Lily Chou-Chou (2001)                             \n4                                       Brick (2005)                             \n5                                       Brick (2005)                             \n6                                  Jawbreaker (1999)                             \n7                                  Jawbreaker (1999)                             \n\n  Rank your movie choices. You don't have to do a full ranking. [Second Choice]  \\\n0                                  Jawbreaker (1999)                              \n1                                River's Edge (1986)                              \n2                                       Brick (2005)                              \n3                                River's Edge (1986)                              \n4                                  Jawbreaker (1999)                              \n5                                 The Dirties (2013)                              \n6                                 The Dirties (2013)                              \n7                    All About Lily Chou-Chou (2001)                              \n\n  Rank your movie choices. You don't have to do a full ranking. [Third Choice]  \\\n0                                 The Dirties (2013)                             \n1                                  Jawbreaker (1999)                             \n2                                River's Edge (1986)                             \n3                                 The Dirties (2013)                             \n4                                 The Dirties (2013)                             \n5                                  Jawbreaker (1999)                             \n6                                       Brick (2005)                             \n7                                 The Dirties (2013)                             \n\n  Rank your movie choices. You don't have to do a full ranking. [Fourth Choice]  \\\n0                    All About Lily Chou-Chou (2001)                              \n1                                 The Dirties (2013)                              \n2                                 The Dirties (2013)                              \n3                                  Jawbreaker (1999)                              \n4                                River's Edge (1986)                              \n5                                River's Edge (1986)                              \n6                    All About Lily Chou-Chou (2001)                              \n7                                       Brick (2005)                              \n\n  Rank your movie choices. You don't have to do a full ranking. [Fifth Choice]  \\\n0                                       Brick (2005)                             \n1                    All About Lily Chou-Chou (2001)                             \n2                                  Jawbreaker (1999)                             \n3                                                NaN                             \n4                    All About Lily Chou-Chou (2001)                             \n5                                                NaN                             \n6                                River's Edge (1986)                             \n7                                River's Edge (1986)                             \n\n  What theme should we explore next week? [First Choice]  \\\n0                                        THE SUBURBS       \n1                                        EPIC BATTLE       \n2                              AVANT GARDE ANIMATION       \n3                              AVANT GARDE ANIMATION       \n4  \"SAY THE LINE, BART!\" (MOVIES WITH A FAMOUS LI...       \n5                              VERY LARGE ANTAGONIST       \n6                              VERY LARGE ANTAGONIST       \n7                                        EPIC BATTLE       \n\n  What theme should we explore next week? [Second Choice]  \\\n0                              VERY LARGE ANTAGONIST        \n1                          [Default to Nicolas Cage]        \n2                                        MOCKBUSTERS        \n3                              VERY LARGE ANTAGONIST        \n4                                        THE SUBURBS        \n5                                        MOCKBUSTERS        \n6  \"SAY THE LINE, BART!\" (MOVIES WITH A FAMOUS LI...        \n7                              AVANT GARDE ANIMATION        \n\n  What theme should we explore next week? [Third Choice]  \\\n0                              AVANT GARDE ANIMATION       \n1                              VERY LARGE ANTAGONIST       \n2                              VERY LARGE ANTAGONIST       \n3  \"SAY THE LINE, BART!\" (MOVIES WITH A FAMOUS LI...       \n4                              VERY LARGE ANTAGONIST       \n5  \"SAY THE LINE, BART!\" (MOVIES WITH A FAMOUS LI...       \n6                                        THE SUBURBS       \n7                              VERY LARGE ANTAGONIST       \n\n  What theme should we explore next week? [Fourth Choice]  \\\n0  \"SAY THE LINE, BART!\" (MOVIES WITH A FAMOUS LI...        \n1                                        THE SUBURBS        \n2                                        EPIC BATTLE        \n3                                        THE SUBURBS        \n4                                        MOCKBUSTERS        \n5                                        THE SUBURBS        \n6                                        MOCKBUSTERS        \n7  \"SAY THE LINE, BART!\" (MOVIES WITH A FAMOUS LI...        \n\n  What theme should we explore next week? [Fifth Choice]  \\\n0                                        EPIC BATTLE       \n1  \"SAY THE LINE, BART!\" (MOVIES WITH A FAMOUS LI...       \n2                                        THE SUBURBS       \n3                                        EPIC BATTLE       \n4                          [Default to Nicolas Cage]       \n5                                                NaN       \n6                              AVANT GARDE ANIMATION       \n7                                        THE SUBURBS       \n\n  What theme should we explore next week? [Sixth Choice]  \\\n0                                        MOCKBUSTERS       \n1                                        MOCKBUSTERS       \n2  \"SAY THE LINE, BART!\" (MOVIES WITH A FAMOUS LI...       \n3                          [Default to Nicolas Cage]       \n4                                        EPIC BATTLE       \n5                                                NaN       \n6                                        EPIC BATTLE       \n7                                        MOCKBUSTERS       \n\n  What theme should we explore next week? [Seventh Choice]  \n0                          [Default to Nicolas Cage]        \n1                              AVANT GARDE ANIMATION        \n2                                                NaN        \n3                                        MOCKBUSTERS        \n4                              AVANT GARDE ANIMATION        \n5                                                NaN        \n6                          [Default to Nicolas Cage]        \n7                          [Default to Nicolas Cage]        ",
      "text/html": "<div>\n<style scoped>\n    .dataframe tbody tr th:only-of-type {\n        vertical-align: middle;\n    }\n\n    .dataframe tbody tr th {\n        vertical-align: top;\n    }\n\n    .dataframe thead th {\n        text-align: right;\n    }\n</style>\n<table border=\"1\" class=\"dataframe\">\n  <thead>\n    <tr style=\"text-align: right;\">\n      <th></th>\n      <th>Timestamp</th>\n      <th>Rank your movie choices. You don't have to do a full ranking. [First Choice]</th>\n      <th>Rank your movie choices. You don't have to do a full ranking. [Second Choice]</th>\n      <th>Rank your movie choices. You don't have to do a full ranking. [Third Choice]</th>\n      <th>Rank your movie choices. You don't have to do a full ranking. [Fourth Choice]</th>\n      <th>Rank your movie choices. You don't have to do a full ranking. [Fifth Choice]</th>\n      <th>What theme should we explore next week? [First Choice]</th>\n      <th>What theme should we explore next week? [Second Choice]</th>\n      <th>What theme should we explore next week? [Third Choice]</th>\n      <th>What theme should we explore next week? [Fourth Choice]</th>\n      <th>What theme should we explore next week? [Fifth Choice]</th>\n      <th>What theme should we explore next week? [Sixth Choice]</th>\n      <th>What theme should we explore next week? [Seventh Choice]</th>\n    </tr>\n  </thead>\n  <tbody>\n    <tr>\n      <th>0</th>\n      <td>11/17/2020 18:12:54</td>\n      <td>River's Edge (1986)</td>\n      <td>Jawbreaker (1999)</td>\n      <td>The Dirties (2013)</td>\n      <td>All About Lily Chou-Chou (2001)</td>\n      <td>Brick (2005)</td>\n      <td>THE SUBURBS</td>\n      <td>VERY LARGE ANTAGONIST</td>\n      <td>AVANT GARDE ANIMATION</td>\n      <td>\"SAY THE LINE, BART!\" (MOVIES WITH A FAMOUS LI...</td>\n      <td>EPIC BATTLE</td>\n      <td>MOCKBUSTERS</td>\n      <td>[Default to Nicolas Cage]</td>\n    </tr>\n    <tr>\n      <th>1</th>\n      <td>11/17/2020 18:15:28</td>\n      <td>Brick (2005)</td>\n      <td>River's Edge (1986)</td>\n      <td>Jawbreaker (1999)</td>\n      <td>The Dirties (2013)</td>\n      <td>All About Lily Chou-Chou (2001)</td>\n      <td>EPIC BATTLE</td>\n      <td>[Default to Nicolas Cage]</td>\n      <td>VERY LARGE ANTAGONIST</td>\n      <td>THE SUBURBS</td>\n      <td>\"SAY THE LINE, BART!\" (MOVIES WITH A FAMOUS LI...</td>\n      <td>MOCKBUSTERS</td>\n      <td>AVANT GARDE ANIMATION</td>\n    </tr>\n    <tr>\n      <th>2</th>\n      <td>11/17/2020 18:16:19</td>\n      <td>All About Lily Chou-Chou (2001)</td>\n      <td>Brick (2005)</td>\n      <td>River's Edge (1986)</td>\n      <td>The Dirties (2013)</td>\n      <td>Jawbreaker (1999)</td>\n      <td>AVANT GARDE ANIMATION</td>\n      <td>MOCKBUSTERS</td>\n      <td>VERY LARGE ANTAGONIST</td>\n      <td>EPIC BATTLE</td>\n      <td>THE SUBURBS</td>\n      <td>\"SAY THE LINE, BART!\" (MOVIES WITH A FAMOUS LI...</td>\n      <td>NaN</td>\n    </tr>\n    <tr>\n      <th>3</th>\n      <td>11/17/2020 18:23:49</td>\n      <td>All About Lily Chou-Chou (2001)</td>\n      <td>River's Edge (1986)</td>\n      <td>The Dirties (2013)</td>\n      <td>Jawbreaker (1999)</td>\n      <td>NaN</td>\n      <td>AVANT GARDE ANIMATION</td>\n      <td>VERY LARGE ANTAGONIST</td>\n      <td>\"SAY THE LINE, BART!\" (MOVIES WITH A FAMOUS LI...</td>\n      <td>THE SUBURBS</td>\n      <td>EPIC BATTLE</td>\n      <td>[Default to Nicolas Cage]</td>\n      <td>MOCKBUSTERS</td>\n    </tr>\n    <tr>\n      <th>4</th>\n      <td>11/17/2020 18:25:10</td>\n      <td>Brick (2005)</td>\n      <td>Jawbreaker (1999)</td>\n      <td>The Dirties (2013)</td>\n      <td>River's Edge (1986)</td>\n      <td>All About Lily Chou-Chou (2001)</td>\n      <td>\"SAY THE LINE, BART!\" (MOVIES WITH A FAMOUS LI...</td>\n      <td>THE SUBURBS</td>\n      <td>VERY LARGE ANTAGONIST</td>\n      <td>MOCKBUSTERS</td>\n      <td>[Default to Nicolas Cage]</td>\n      <td>EPIC BATTLE</td>\n      <td>AVANT GARDE ANIMATION</td>\n    </tr>\n    <tr>\n      <th>5</th>\n      <td>11/17/2020 18:33:29</td>\n      <td>Brick (2005)</td>\n      <td>The Dirties (2013)</td>\n      <td>Jawbreaker (1999)</td>\n      <td>River's Edge (1986)</td>\n      <td>NaN</td>\n      <td>VERY LARGE ANTAGONIST</td>\n      <td>MOCKBUSTERS</td>\n      <td>\"SAY THE LINE, BART!\" (MOVIES WITH A FAMOUS LI...</td>\n      <td>THE SUBURBS</td>\n      <td>NaN</td>\n      <td>NaN</td>\n      <td>NaN</td>\n    </tr>\n    <tr>\n      <th>6</th>\n      <td>11/17/2020 18:35:00</td>\n      <td>Jawbreaker (1999)</td>\n      <td>The Dirties (2013)</td>\n      <td>Brick (2005)</td>\n      <td>All About Lily Chou-Chou (2001)</td>\n      <td>River's Edge (1986)</td>\n      <td>VERY LARGE ANTAGONIST</td>\n      <td>\"SAY THE LINE, BART!\" (MOVIES WITH A FAMOUS LI...</td>\n      <td>THE SUBURBS</td>\n      <td>MOCKBUSTERS</td>\n      <td>AVANT GARDE ANIMATION</td>\n      <td>EPIC BATTLE</td>\n      <td>[Default to Nicolas Cage]</td>\n    </tr>\n    <tr>\n      <th>7</th>\n      <td>11/18/2020 8:49:55</td>\n      <td>Jawbreaker (1999)</td>\n      <td>All About Lily Chou-Chou (2001)</td>\n      <td>The Dirties (2013)</td>\n      <td>Brick (2005)</td>\n      <td>River's Edge (1986)</td>\n      <td>EPIC BATTLE</td>\n      <td>AVANT GARDE ANIMATION</td>\n      <td>VERY LARGE ANTAGONIST</td>\n      <td>\"SAY THE LINE, BART!\" (MOVIES WITH A FAMOUS LI...</td>\n      <td>THE SUBURBS</td>\n      <td>MOCKBUSTERS</td>\n      <td>[Default to Nicolas Cage]</td>\n    </tr>\n  </tbody>\n</table>\n</div>"
     },
     "execution_count": 2,
     "metadata": {},
     "output_type": "execute_result"
    }
   ],
   "source": [
    "df = pd.read_csv(Path('./data/20201122.csv').resolve())\n",
    "df"
   ]
  },
  {
   "cell_type": "code",
   "execution_count": 3,
   "metadata": {},
   "outputs": [],
   "source": [
    "just_ballots = df.loc[:, df.columns.str.startswith('Rank')]\n",
    "next_week = df.loc[:, df.columns.str.startswith('What')]"
   ]
  },
  {
   "cell_type": "code",
   "execution_count": 4,
   "metadata": {},
   "outputs": [
    {
     "data": {
      "text/plain": "array([\"River's Edge (1986)\", 'Jawbreaker (1999)', 'The Dirties (2013)',\n       'All About Lily Chou-Chou (2001)', 'Brick (2005)'], dtype=object)"
     },
     "execution_count": 4,
     "metadata": {},
     "output_type": "execute_result"
    }
   ],
   "source": [
    "submissions = just_ballots.loc[just_ballots.notna().all(axis=1).idxmax(),:].values\n",
    "submissions"
   ]
  },
  {
   "cell_type": "code",
   "execution_count": 5,
   "metadata": {},
   "outputs": [],
   "source": [
    "submission_dict = {submission: pyrankvote.Candidate(submission) for submission in submissions}"
   ]
  },
  {
   "cell_type": "code",
   "execution_count": 6,
   "metadata": {},
   "outputs": [],
   "source": [
    "balloted = just_ballots.applymap(lambda x: submission_dict[x] if isinstance(x, str) else x)"
   ]
  },
  {
   "cell_type": "code",
   "execution_count": 7,
   "metadata": {},
   "outputs": [
    {
     "data": {
      "text/plain": "{\"River's Edge (1986)\": <Candidate('River's Edge (1986)')>,\n 'Jawbreaker (1999)': <Candidate('Jawbreaker (1999)')>,\n 'The Dirties (2013)': <Candidate('The Dirties (2013)')>,\n 'All About Lily Chou-Chou (2001)': <Candidate('All About Lily Chou-Chou (2001)')>,\n 'Brick (2005)': <Candidate('Brick (2005)')>}"
     },
     "execution_count": 7,
     "metadata": {},
     "output_type": "execute_result"
    }
   ],
   "source": [
    "submission_dict"
   ]
  },
  {
   "cell_type": "code",
   "execution_count": 8,
   "metadata": {},
   "outputs": [],
   "source": [
    "ballots = []\n",
    "for ballot in balloted.itertuples():\n",
    "    ballots.append(pyrankvote.Ballot(ranked_candidates=[b for b in ballot if isinstance(b, pyrankvote.Candidate)]))"
   ]
  },
  {
   "cell_type": "code",
   "execution_count": 9,
   "metadata": {},
   "outputs": [
    {
     "data": {
      "text/plain": "[<Ballot(River's Edge (1986), Jawbreaker (1999), The Dirties (2013), All About Lily Chou-Chou (2001), Brick (2005))>,\n <Ballot(Brick (2005), River's Edge (1986), Jawbreaker (1999), The Dirties (2013), All About Lily Chou-Chou (2001))>,\n <Ballot(All About Lily Chou-Chou (2001), Brick (2005), River's Edge (1986), The Dirties (2013), Jawbreaker (1999))>,\n <Ballot(All About Lily Chou-Chou (2001), River's Edge (1986), The Dirties (2013), Jawbreaker (1999))>,\n <Ballot(Brick (2005), Jawbreaker (1999), The Dirties (2013), River's Edge (1986), All About Lily Chou-Chou (2001))>,\n <Ballot(Brick (2005), The Dirties (2013), Jawbreaker (1999), River's Edge (1986))>,\n <Ballot(Jawbreaker (1999), The Dirties (2013), Brick (2005), All About Lily Chou-Chou (2001), River's Edge (1986))>,\n <Ballot(Jawbreaker (1999), All About Lily Chou-Chou (2001), The Dirties (2013), Brick (2005), River's Edge (1986))>]"
     },
     "execution_count": 9,
     "metadata": {},
     "output_type": "execute_result"
    }
   ],
   "source": [
    "ballots"
   ]
  },
  {
   "cell_type": "code",
   "execution_count": 10,
   "metadata": {},
   "outputs": [],
   "source": [
    "election_result = pyrankvote.instant_runoff_voting(submission_dict.values(), ballots,)"
   ]
  },
  {
   "cell_type": "code",
   "execution_count": 11,
   "metadata": {},
   "outputs": [
    {
     "name": "stdout",
     "output_type": "stream",
     "text": [
      "ROUND 1\n",
      "Candidate                          Votes  Status\n",
      "-------------------------------  -------  --------\n",
      "Brick (2005)                           3  Hopeful\n",
      "Jawbreaker (1999)                      2  Hopeful\n",
      "All About Lily Chou-Chou (2001)        2  Hopeful\n",
      "River's Edge (1986)                    1  Rejected\n",
      "The Dirties (2013)                     0  Rejected\n",
      "\n",
      "ROUND 2\n",
      "Candidate                          Votes  Status\n",
      "-------------------------------  -------  --------\n",
      "Jawbreaker (1999)                      3  Hopeful\n",
      "Brick (2005)                           3  Hopeful\n",
      "All About Lily Chou-Chou (2001)        2  Rejected\n",
      "River's Edge (1986)                    0  Rejected\n",
      "The Dirties (2013)                     0  Rejected\n",
      "\n",
      "FINAL RESULT\n",
      "Candidate                          Votes  Status\n",
      "-------------------------------  -------  --------\n",
      "Jawbreaker (1999)                      4  Elected\n",
      "Brick (2005)                           4  Rejected\n",
      "All About Lily Chou-Chou (2001)        0  Rejected\n",
      "River's Edge (1986)                    0  Rejected\n",
      "The Dirties (2013)                     0  Rejected\n",
      "\n"
     ]
    }
   ],
   "source": [
    "print(election_result)"
   ]
  },
  {
   "cell_type": "code",
   "execution_count": 12,
   "metadata": {},
   "outputs": [
    {
     "name": "stdout",
     "output_type": "stream",
     "text": [
      "ROUND 1\n",
      "Candidate                                             Votes  Status\n",
      "--------------------------------------------------  -------  --------\n",
      "VERY LARGE ANTAGONIST                                     2  Hopeful\n",
      "AVANT GARDE ANIMATION                                     2  Hopeful\n",
      "EPIC BATTLE                                               2  Hopeful\n",
      "\"SAY THE LINE, BART!\" (MOVIES WITH A FAMOUS LINE.)        1  Rejected\n",
      "THE SUBURBS                                               1  Rejected\n",
      "MOCKBUSTERS                                               0  Rejected\n",
      "[Default to Nicolas Cage]                                 0  Rejected\n",
      "\n",
      "FINAL RESULT\n",
      "Candidate                                             Votes  Status\n",
      "--------------------------------------------------  -------  --------\n",
      "VERY LARGE ANTAGONIST                                     4  Elected\n",
      "AVANT GARDE ANIMATION                                     2  Rejected\n",
      "EPIC BATTLE                                               2  Rejected\n",
      "\"SAY THE LINE, BART!\" (MOVIES WITH A FAMOUS LINE.)        0  Rejected\n",
      "THE SUBURBS                                               0  Rejected\n",
      "MOCKBUSTERS                                               0  Rejected\n",
      "[Default to Nicolas Cage]                                 0  Rejected\n",
      "\n"
     ]
    }
   ],
   "source": [
    "submissions = next_week.loc[next_week.notna().all(axis=1).idxmax(),:].values\n",
    "submission_dict = {submission: pyrankvote.Candidate(submission) for submission in submissions}\n",
    "balloted = next_week.applymap(lambda x: submission_dict[x] if isinstance(x, str) else x)\n",
    "ballots = []\n",
    "for ballot in balloted.itertuples():\n",
    "    ballots.append(pyrankvote.Ballot(ranked_candidates=[b for b in ballot if isinstance(b, pyrankvote.Candidate)]))\n",
    "print(pyrankvote.instant_runoff_voting(submission_dict.values(), ballots,))"
   ]
  }
 ],
 "metadata": {
  "kernelspec": {
   "display_name": "Python 3",
   "language": "python",
   "name": "python3"
  },
  "language_info": {
   "codemirror_mode": {
    "name": "ipython",
    "version": 3
   },
   "file_extension": ".py",
   "mimetype": "text/x-python",
   "name": "python",
   "nbconvert_exporter": "python",
   "pygments_lexer": "ipython3",
   "version": "3.7.4"
  }
 },
 "nbformat": 4,
 "nbformat_minor": 2
}