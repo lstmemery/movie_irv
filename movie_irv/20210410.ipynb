{
 "cells": [
  {
   "cell_type": "code",
   "execution_count": 1,
   "metadata": {},
   "outputs": [],
   "source": [
    "import pandas as pd\n",
    "import pyrankvote\n",
    "from pathlib import Path\n",
    "from random import seed\n",
    "seed(252)"
   ]
  },
  {
   "cell_type": "code",
   "execution_count": 2,
   "metadata": {},
   "outputs": [
    {
     "data": {
      "text/plain": "             Timestamp  \\\n0  06/04/2021 17:37:46   \n1  06/04/2021 17:57:43   \n2  06/04/2021 17:59:36   \n3  06/04/2021 18:16:21   \n4  06/04/2021 20:02:10   \n5  07/04/2021 05:28:34   \n\n  Rank your movie choices. You don't have to do a full ranking. [First Choice]  \\\n0                                   King Kong (1933)                             \n1                           Godzilla vs. Kong (2021)                             \n2                           Godzilla vs. Kong (2021)                             \n3                                       Congo (1995)                             \n4                           Godzilla vs. Kong (2021)                             \n5                                       Congo (1995)                             \n\n  Rank your movie choices. You don't have to do a full ranking. [Second Choice]  \\\n0                                     Nénette (2010)                              \n1                                     Nénette (2010)                              \n2                               Max Mon Amour (1986)                              \n3                  MVP: Most Vertical Primate (2001)                              \n4                  MVP: Most Vertical Primate (2001)                              \n5                           Godzilla vs. Kong (2021)                              \n\n  Rank your movie choices. You don't have to do a full ranking. [Third Choice]  \\\n0                                    Outbreak (1995)                             \n1                                    Outbreak (1995)                             \n2                                     Nénette (2010)                             \n3                                    Outbreak (1995)                             \n4                                     Nénette (2010)                             \n5                  MVP: Most Vertical Primate (2001)                             \n\n  Rank your movie choices. You don't have to do a full ranking. [Fourth Choice]  \\\n0                                       Congo (1995)                              \n1                  MVP: Most Vertical Primate (2001)                              \n2                  MVP: Most Vertical Primate (2001)                              \n3                           Godzilla vs. Kong (2021)                              \n4                                                NaN                              \n5                               Max Mon Amour (1986)                              \n\n  Rank your movie choices. You don't have to do a full ranking. [Fifth Choice]  \\\n0                               Max Mon Amour (1986)                             \n1                                   King Kong (1933)                             \n2                                    Outbreak (1995)                             \n3                                   King Kong (1933)                             \n4                                                NaN                             \n5                                    Outbreak (1995)                             \n\n  Rank your movie choices. You don't have to do a full ranking. [Sixth Choice]  \\\n0                           Godzilla vs. Kong (2021)                             \n1                                       Congo (1995)                             \n2                                       Congo (1995)                             \n3                               Max Mon Amour (1986)                             \n4                                                NaN                             \n5                                                NaN                             \n\n  Rank your movie choices. You don't have to do a full ranking. [Seventh Choice]  \\\n0                  MVP: Most Vertical Primate (2001)                               \n1                               Max Mon Amour (1986)                               \n2                                                NaN                               \n3                                     Nénette (2010)                               \n4                                                NaN                               \n5                                                NaN                               \n\n  What theme should we explore next week? [First Choice]  \\\n0                         WELCOME TO BAD PLACE, USA!       \n1                                      GOOD FOR HER.       \n2                                  OOPS ALL JOHN WOO       \n3                         WELCOME TO BAD PLACE, USA!       \n4                           I LOVE TO KISS MY HOMIES       \n5                                    NUTTY PROFESSOR       \n\n  What theme should we explore next week? [Second Choice]  \\\n0                           I LOVE TO KISS MY HOMIES        \n1                          [Default to Nicolas Cage]        \n2                         WELCOME TO BAD PLACE, USA!        \n3                           I LOVE TO KISS MY HOMIES        \n4                                     SHARK GAWR >:V        \n5                         WELCOME TO BAD PLACE, USA!        \n\n  What theme should we explore next week? [Third Choice]  \\\n0                                        BUNGA BUNGA       \n1                         WELCOME TO BAD PLACE, USA!       \n2                           I LOVE TO KISS MY HOMIES       \n3                          [Default to Nicolas Cage]       \n4                         WELCOME TO BAD PLACE, USA!       \n5                          [Default to Nicolas Cage]       \n\n  What theme should we explore next week? [Fourth Choice]  \\\n0                                  OOPS ALL JOHN WOO        \n1                                  OOPS ALL JOHN WOO        \n2                                     SHARK GAWR >:V        \n3                                        BUNGA BUNGA        \n4                                        BUNGA BUNGA        \n5                                  OOPS ALL JOHN WOO        \n\n  What theme should we explore next week? [Fifth Choice]  \\\n0                                      GOOD FOR HER.       \n1                           I LOVE TO KISS MY HOMIES       \n2                                    NUTTY PROFESSOR       \n3                                  OOPS ALL JOHN WOO       \n4                                      GOOD FOR HER.       \n5                           I LOVE TO KISS MY HOMIES       \n\n  What theme should we explore next week? [Sixth Choice]  \\\n0                                    NUTTY PROFESSOR       \n1                                    NUTTY PROFESSOR       \n2                          [Default to Nicolas Cage]       \n3                                     SHARK GAWR >:V       \n4                                    NUTTY PROFESSOR       \n5                                     SHARK GAWR >:V       \n\n  What theme should we explore next week? [Seventh Choice]  \\\n0                                     SHARK GAWR >:V         \n1                                     SHARK GAWR >:V         \n2                                      GOOD FOR HER.         \n3                                      GOOD FOR HER.         \n4                                  OOPS ALL JOHN WOO         \n5                                                NaN         \n\n  What theme should we explore next week? [Eighth Choice]  \n0                          [Default to Nicolas Cage]       \n1                                        BUNGA BUNGA       \n2                                        BUNGA BUNGA       \n3                                    NUTTY PROFESSOR       \n4                          [Default to Nicolas Cage]       \n5                                                NaN       ",
      "text/html": "<div>\n<style scoped>\n    .dataframe tbody tr th:only-of-type {\n        vertical-align: middle;\n    }\n\n    .dataframe tbody tr th {\n        vertical-align: top;\n    }\n\n    .dataframe thead th {\n        text-align: right;\n    }\n</style>\n<table border=\"1\" class=\"dataframe\">\n  <thead>\n    <tr style=\"text-align: right;\">\n      <th></th>\n      <th>Timestamp</th>\n      <th>Rank your movie choices. You don't have to do a full ranking. [First Choice]</th>\n      <th>Rank your movie choices. You don't have to do a full ranking. [Second Choice]</th>\n      <th>Rank your movie choices. You don't have to do a full ranking. [Third Choice]</th>\n      <th>Rank your movie choices. You don't have to do a full ranking. [Fourth Choice]</th>\n      <th>Rank your movie choices. You don't have to do a full ranking. [Fifth Choice]</th>\n      <th>Rank your movie choices. You don't have to do a full ranking. [Sixth Choice]</th>\n      <th>Rank your movie choices. You don't have to do a full ranking. [Seventh Choice]</th>\n      <th>What theme should we explore next week? [First Choice]</th>\n      <th>What theme should we explore next week? [Second Choice]</th>\n      <th>What theme should we explore next week? [Third Choice]</th>\n      <th>What theme should we explore next week? [Fourth Choice]</th>\n      <th>What theme should we explore next week? [Fifth Choice]</th>\n      <th>What theme should we explore next week? [Sixth Choice]</th>\n      <th>What theme should we explore next week? [Seventh Choice]</th>\n      <th>What theme should we explore next week? [Eighth Choice]</th>\n    </tr>\n  </thead>\n  <tbody>\n    <tr>\n      <th>0</th>\n      <td>06/04/2021 17:37:46</td>\n      <td>King Kong (1933)</td>\n      <td>Nénette (2010)</td>\n      <td>Outbreak (1995)</td>\n      <td>Congo (1995)</td>\n      <td>Max Mon Amour (1986)</td>\n      <td>Godzilla vs. Kong (2021)</td>\n      <td>MVP: Most Vertical Primate (2001)</td>\n      <td>WELCOME TO BAD PLACE, USA!</td>\n      <td>I LOVE TO KISS MY HOMIES</td>\n      <td>BUNGA BUNGA</td>\n      <td>OOPS ALL JOHN WOO</td>\n      <td>GOOD FOR HER.</td>\n      <td>NUTTY PROFESSOR</td>\n      <td>SHARK GAWR &gt;:V</td>\n      <td>[Default to Nicolas Cage]</td>\n    </tr>\n    <tr>\n      <th>1</th>\n      <td>06/04/2021 17:57:43</td>\n      <td>Godzilla vs. Kong (2021)</td>\n      <td>Nénette (2010)</td>\n      <td>Outbreak (1995)</td>\n      <td>MVP: Most Vertical Primate (2001)</td>\n      <td>King Kong (1933)</td>\n      <td>Congo (1995)</td>\n      <td>Max Mon Amour (1986)</td>\n      <td>GOOD FOR HER.</td>\n      <td>[Default to Nicolas Cage]</td>\n      <td>WELCOME TO BAD PLACE, USA!</td>\n      <td>OOPS ALL JOHN WOO</td>\n      <td>I LOVE TO KISS MY HOMIES</td>\n      <td>NUTTY PROFESSOR</td>\n      <td>SHARK GAWR &gt;:V</td>\n      <td>BUNGA BUNGA</td>\n    </tr>\n    <tr>\n      <th>2</th>\n      <td>06/04/2021 17:59:36</td>\n      <td>Godzilla vs. Kong (2021)</td>\n      <td>Max Mon Amour (1986)</td>\n      <td>Nénette (2010)</td>\n      <td>MVP: Most Vertical Primate (2001)</td>\n      <td>Outbreak (1995)</td>\n      <td>Congo (1995)</td>\n      <td>NaN</td>\n      <td>OOPS ALL JOHN WOO</td>\n      <td>WELCOME TO BAD PLACE, USA!</td>\n      <td>I LOVE TO KISS MY HOMIES</td>\n      <td>SHARK GAWR &gt;:V</td>\n      <td>NUTTY PROFESSOR</td>\n      <td>[Default to Nicolas Cage]</td>\n      <td>GOOD FOR HER.</td>\n      <td>BUNGA BUNGA</td>\n    </tr>\n    <tr>\n      <th>3</th>\n      <td>06/04/2021 18:16:21</td>\n      <td>Congo (1995)</td>\n      <td>MVP: Most Vertical Primate (2001)</td>\n      <td>Outbreak (1995)</td>\n      <td>Godzilla vs. Kong (2021)</td>\n      <td>King Kong (1933)</td>\n      <td>Max Mon Amour (1986)</td>\n      <td>Nénette (2010)</td>\n      <td>WELCOME TO BAD PLACE, USA!</td>\n      <td>I LOVE TO KISS MY HOMIES</td>\n      <td>[Default to Nicolas Cage]</td>\n      <td>BUNGA BUNGA</td>\n      <td>OOPS ALL JOHN WOO</td>\n      <td>SHARK GAWR &gt;:V</td>\n      <td>GOOD FOR HER.</td>\n      <td>NUTTY PROFESSOR</td>\n    </tr>\n    <tr>\n      <th>4</th>\n      <td>06/04/2021 20:02:10</td>\n      <td>Godzilla vs. Kong (2021)</td>\n      <td>MVP: Most Vertical Primate (2001)</td>\n      <td>Nénette (2010)</td>\n      <td>NaN</td>\n      <td>NaN</td>\n      <td>NaN</td>\n      <td>NaN</td>\n      <td>I LOVE TO KISS MY HOMIES</td>\n      <td>SHARK GAWR &gt;:V</td>\n      <td>WELCOME TO BAD PLACE, USA!</td>\n      <td>BUNGA BUNGA</td>\n      <td>GOOD FOR HER.</td>\n      <td>NUTTY PROFESSOR</td>\n      <td>OOPS ALL JOHN WOO</td>\n      <td>[Default to Nicolas Cage]</td>\n    </tr>\n    <tr>\n      <th>5</th>\n      <td>07/04/2021 05:28:34</td>\n      <td>Congo (1995)</td>\n      <td>Godzilla vs. Kong (2021)</td>\n      <td>MVP: Most Vertical Primate (2001)</td>\n      <td>Max Mon Amour (1986)</td>\n      <td>Outbreak (1995)</td>\n      <td>NaN</td>\n      <td>NaN</td>\n      <td>NUTTY PROFESSOR</td>\n      <td>WELCOME TO BAD PLACE, USA!</td>\n      <td>[Default to Nicolas Cage]</td>\n      <td>OOPS ALL JOHN WOO</td>\n      <td>I LOVE TO KISS MY HOMIES</td>\n      <td>SHARK GAWR &gt;:V</td>\n      <td>NaN</td>\n      <td>NaN</td>\n    </tr>\n  </tbody>\n</table>\n</div>"
     },
     "execution_count": 2,
     "metadata": {},
     "output_type": "execute_result"
    }
   ],
   "source": [
    "df = pd.read_csv(Path('./data/20210410.csv').resolve())\n",
    "df"
   ]
  },
  {
   "cell_type": "code",
   "execution_count": 3,
   "metadata": {},
   "outputs": [],
   "source": [
    "just_ballots = df.loc[:, df.columns.str.startswith('Rank')]\n",
    "next_week = df.loc[:, df.columns.str.startswith('What')]"
   ]
  },
  {
   "cell_type": "code",
   "execution_count": 4,
   "metadata": {},
   "outputs": [
    {
     "data": {
      "text/plain": "array(['King Kong (1933)', 'Nénette (2010)', 'Outbreak (1995)',\n       'Congo (1995)', 'Max Mon Amour (1986)', 'Godzilla vs. Kong (2021)',\n       'MVP: Most Vertical Primate (2001)'], dtype=object)"
     },
     "execution_count": 4,
     "metadata": {},
     "output_type": "execute_result"
    }
   ],
   "source": [
    "submissions = just_ballots.loc[just_ballots.notna().all(axis=1).idxmax(),:].values\n",
    "submissions"
   ]
  },
  {
   "cell_type": "code",
   "execution_count": 5,
   "metadata": {},
   "outputs": [],
   "source": [
    "submission_dict = {submission: pyrankvote.Candidate(submission) for submission in submissions}"
   ]
  },
  {
   "cell_type": "code",
   "execution_count": 6,
   "metadata": {},
   "outputs": [],
   "source": [
    "balloted = just_ballots.applymap(lambda x: submission_dict[x] if isinstance(x, str) else x)"
   ]
  },
  {
   "cell_type": "code",
   "execution_count": 7,
   "metadata": {},
   "outputs": [
    {
     "data": {
      "text/plain": "{'King Kong (1933)': <Candidate('King Kong (1933)')>,\n 'Nénette (2010)': <Candidate('Nénette (2010)')>,\n 'Outbreak (1995)': <Candidate('Outbreak (1995)')>,\n 'Congo (1995)': <Candidate('Congo (1995)')>,\n 'Max Mon Amour (1986)': <Candidate('Max Mon Amour (1986)')>,\n 'Godzilla vs. Kong (2021)': <Candidate('Godzilla vs. Kong (2021)')>,\n 'MVP: Most Vertical Primate (2001)': <Candidate('MVP: Most Vertical Primate (2001)')>}"
     },
     "execution_count": 7,
     "metadata": {},
     "output_type": "execute_result"
    }
   ],
   "source": [
    "submission_dict"
   ]
  },
  {
   "cell_type": "code",
   "execution_count": 8,
   "metadata": {},
   "outputs": [],
   "source": [
    "ballots = []\n",
    "for ballot in balloted.itertuples():\n",
    "    ballots.append(pyrankvote.Ballot(ranked_candidates=[b for b in ballot if isinstance(b, pyrankvote.Candidate)]))"
   ]
  },
  {
   "cell_type": "code",
   "execution_count": 9,
   "metadata": {},
   "outputs": [
    {
     "data": {
      "text/plain": "[<Ballot(King Kong (1933), Nénette (2010), Outbreak (1995), Congo (1995), Max Mon Amour (1986), Godzilla vs. Kong (2021), MVP: Most Vertical Primate (2001))>,\n <Ballot(Godzilla vs. Kong (2021), Nénette (2010), Outbreak (1995), MVP: Most Vertical Primate (2001), King Kong (1933), Congo (1995), Max Mon Amour (1986))>,\n <Ballot(Godzilla vs. Kong (2021), Max Mon Amour (1986), Nénette (2010), MVP: Most Vertical Primate (2001), Outbreak (1995), Congo (1995))>,\n <Ballot(Congo (1995), MVP: Most Vertical Primate (2001), Outbreak (1995), Godzilla vs. Kong (2021), King Kong (1933), Max Mon Amour (1986), Nénette (2010))>,\n <Ballot(Godzilla vs. Kong (2021), MVP: Most Vertical Primate (2001), Nénette (2010))>,\n <Ballot(Congo (1995), Godzilla vs. Kong (2021), MVP: Most Vertical Primate (2001), Max Mon Amour (1986), Outbreak (1995))>]"
     },
     "execution_count": 9,
     "metadata": {},
     "output_type": "execute_result"
    }
   ],
   "source": [
    "ballots"
   ]
  },
  {
   "cell_type": "code",
   "execution_count": 10,
   "metadata": {},
   "outputs": [],
   "source": [
    "election_result = pyrankvote.instant_runoff_voting(submission_dict.values(), ballots,)"
   ]
  },
  {
   "cell_type": "code",
   "execution_count": 11,
   "metadata": {},
   "outputs": [
    {
     "name": "stdout",
     "output_type": "stream",
     "text": [
      "FINAL RESULT\n",
      "Candidate                            Votes  Status\n",
      "---------------------------------  -------  --------\n",
      "Godzilla vs. Kong (2021)                 3  Elected\n",
      "Congo (1995)                             2  Rejected\n",
      "King Kong (1933)                         1  Rejected\n",
      "Nénette (2010)                           0  Rejected\n",
      "MVP: Most Vertical Primate (2001)        0  Rejected\n",
      "Max Mon Amour (1986)                     0  Rejected\n",
      "Outbreak (1995)                          0  Rejected\n",
      "\n"
     ]
    }
   ],
   "source": [
    "print(election_result)"
   ]
  },
  {
   "cell_type": "code",
   "execution_count": 12,
   "metadata": {},
   "outputs": [
    {
     "name": "stdout",
     "output_type": "stream",
     "text": [
      "ROUND 1\n",
      "Candidate                     Votes  Status\n",
      "--------------------------  -------  --------\n",
      "WELCOME TO BAD PLACE, USA!        2  Hopeful\n",
      "I LOVE TO KISS MY HOMIES          1  Hopeful\n",
      "OOPS ALL JOHN WOO                 1  Hopeful\n",
      "GOOD FOR HER.                     1  Hopeful\n",
      "NUTTY PROFESSOR                   1  Rejected\n",
      "[Default to Nicolas Cage]         0  Rejected\n",
      "SHARK GAWR >:V                    0  Rejected\n",
      "BUNGA BUNGA                       0  Rejected\n",
      "\n",
      "ROUND 2\n",
      "Candidate                     Votes  Status\n",
      "--------------------------  -------  --------\n",
      "WELCOME TO BAD PLACE, USA!        3  Hopeful\n",
      "OOPS ALL JOHN WOO                 1  Hopeful\n",
      "I LOVE TO KISS MY HOMIES          1  Rejected\n",
      "GOOD FOR HER.                     1  Rejected\n",
      "NUTTY PROFESSOR                   0  Rejected\n",
      "[Default to Nicolas Cage]         0  Rejected\n",
      "SHARK GAWR >:V                    0  Rejected\n",
      "BUNGA BUNGA                       0  Rejected\n",
      "\n",
      "FINAL RESULT\n",
      "Candidate                     Votes  Status\n",
      "--------------------------  -------  --------\n",
      "WELCOME TO BAD PLACE, USA!        5  Elected\n",
      "OOPS ALL JOHN WOO                 1  Rejected\n",
      "I LOVE TO KISS MY HOMIES          0  Rejected\n",
      "GOOD FOR HER.                     0  Rejected\n",
      "NUTTY PROFESSOR                   0  Rejected\n",
      "[Default to Nicolas Cage]         0  Rejected\n",
      "SHARK GAWR >:V                    0  Rejected\n",
      "BUNGA BUNGA                       0  Rejected\n",
      "\n"
     ]
    }
   ],
   "source": [
    "submissions = next_week.loc[next_week.notna().all(axis=1).idxmax(),:].values\n",
    "submission_dict = {submission: pyrankvote.Candidate(submission) for submission in submissions}\n",
    "balloted = next_week.applymap(lambda x: submission_dict[x] if isinstance(x, str) else x)\n",
    "ballots = []\n",
    "for ballot in balloted.itertuples():\n",
    "    ballots.append(pyrankvote.Ballot(ranked_candidates=[b for b in ballot if isinstance(b, pyrankvote.Candidate)]))\n",
    "print(pyrankvote.instant_runoff_voting(submission_dict.values(), ballots,))"
   ]
  }
 ],
 "metadata": {
  "kernelspec": {
   "display_name": "Python 3",
   "language": "python",
   "name": "python3"
  },
  "language_info": {
   "codemirror_mode": {
    "name": "ipython",
    "version": 3
   },
   "file_extension": ".py",
   "mimetype": "text/x-python",
   "name": "python",
   "nbconvert_exporter": "python",
   "pygments_lexer": "ipython3",
   "version": "3.7.4"
  }
 },
 "nbformat": 4,
 "nbformat_minor": 2
}