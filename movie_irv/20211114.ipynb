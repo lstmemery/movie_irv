{
 "cells": [
  {
   "cell_type": "code",
   "execution_count": 3,
   "metadata": {},
   "outputs": [],
   "source": [
    "import pandas as pd\n",
    "import pyrankvote\n",
    "from pathlib import Path\n",
    "from random import seed\n",
    "seed(252)"
   ]
  },
  {
   "cell_type": "code",
   "execution_count": 4,
   "metadata": {},
   "outputs": [
    {
     "data": {
      "text/plain": "             Timestamp  \\\n0  09/11/2021 19:45:32   \n1  09/11/2021 21:27:41   \n2  10/11/2021 07:01:47   \n3  10/11/2021 19:20:14   \n\n  Rank your movie choices. You don't have to do a full ranking. [First Choice]  \\\n0                                Beau Travail (1999)                             \n1                                       Shame (2011)                             \n2                           Y Tu Mamá También (2001)                             \n3                           Y Tu Mamá También (2001)                             \n\n  Rank your movie choices. You don't have to do a full ranking. [Second Choice]  \\\n0                                       Shame (2011)                              \n1                                Beau Travail (1999)                              \n2                                       Shame (2011)                              \n3                                Beau Travail (1999)                              \n\n  Rank your movie choices. You don't have to do a full ranking. [Third Choice]  \\\n0                                                NaN                             \n1                           Y Tu Mamá También (2001)                             \n2                                Beau Travail (1999)                             \n3                                       Shame (2011)                             \n\n  What theme should we explore next week? [First Choice]  \\\n0                                   SECRET SOCIETIES       \n1                                    SAD GIRL AUTUMN       \n2                                    SAD GIRL AUTUMN       \n3                                   SECRET SOCIETIES       \n\n  What theme should we explore next week? [Second Choice]  \\\n0                                    SAD GIRL AUTUMN        \n1                                        DOCUMENTARY        \n2                                   SECRET SOCIETIES        \n3                                        DOCUMENTARY        \n\n  What theme should we explore next week? [Third Choice]  \\\n0                                        DOCUMENTARY       \n1                                   SECRET SOCIETIES       \n2                             [Default to Trish Pic]       \n3                                                NaN       \n\n  What theme should we explore next week? [Fourth Choice]  \n0                             [Default to Trish Pic]       \n1                             [Default to Trish Pic]       \n2                                        DOCUMENTARY       \n3                                                NaN       ",
      "text/html": "<div>\n<style scoped>\n    .dataframe tbody tr th:only-of-type {\n        vertical-align: middle;\n    }\n\n    .dataframe tbody tr th {\n        vertical-align: top;\n    }\n\n    .dataframe thead th {\n        text-align: right;\n    }\n</style>\n<table border=\"1\" class=\"dataframe\">\n  <thead>\n    <tr style=\"text-align: right;\">\n      <th></th>\n      <th>Timestamp</th>\n      <th>Rank your movie choices. You don't have to do a full ranking. [First Choice]</th>\n      <th>Rank your movie choices. You don't have to do a full ranking. [Second Choice]</th>\n      <th>Rank your movie choices. You don't have to do a full ranking. [Third Choice]</th>\n      <th>What theme should we explore next week? [First Choice]</th>\n      <th>What theme should we explore next week? [Second Choice]</th>\n      <th>What theme should we explore next week? [Third Choice]</th>\n      <th>What theme should we explore next week? [Fourth Choice]</th>\n    </tr>\n  </thead>\n  <tbody>\n    <tr>\n      <th>0</th>\n      <td>09/11/2021 19:45:32</td>\n      <td>Beau Travail (1999)</td>\n      <td>Shame (2011)</td>\n      <td>NaN</td>\n      <td>SECRET SOCIETIES</td>\n      <td>SAD GIRL AUTUMN</td>\n      <td>DOCUMENTARY</td>\n      <td>[Default to Trish Pic]</td>\n    </tr>\n    <tr>\n      <th>1</th>\n      <td>09/11/2021 21:27:41</td>\n      <td>Shame (2011)</td>\n      <td>Beau Travail (1999)</td>\n      <td>Y Tu Mamá También (2001)</td>\n      <td>SAD GIRL AUTUMN</td>\n      <td>DOCUMENTARY</td>\n      <td>SECRET SOCIETIES</td>\n      <td>[Default to Trish Pic]</td>\n    </tr>\n    <tr>\n      <th>2</th>\n      <td>10/11/2021 07:01:47</td>\n      <td>Y Tu Mamá También (2001)</td>\n      <td>Shame (2011)</td>\n      <td>Beau Travail (1999)</td>\n      <td>SAD GIRL AUTUMN</td>\n      <td>SECRET SOCIETIES</td>\n      <td>[Default to Trish Pic]</td>\n      <td>DOCUMENTARY</td>\n    </tr>\n    <tr>\n      <th>3</th>\n      <td>10/11/2021 19:20:14</td>\n      <td>Y Tu Mamá También (2001)</td>\n      <td>Beau Travail (1999)</td>\n      <td>Shame (2011)</td>\n      <td>SECRET SOCIETIES</td>\n      <td>DOCUMENTARY</td>\n      <td>NaN</td>\n      <td>NaN</td>\n    </tr>\n  </tbody>\n</table>\n</div>"
     },
     "execution_count": 4,
     "metadata": {},
     "output_type": "execute_result"
    }
   ],
   "source": [
    "df = pd.read_csv(Path('./data/20211114.csv').resolve())\n",
    "df"
   ]
  },
  {
   "cell_type": "code",
   "execution_count": 5,
   "metadata": {},
   "outputs": [],
   "source": [
    "just_ballots = df.loc[:, df.columns.str.startswith('Rank')]\n",
    "next_week = df.loc[:, df.columns.str.startswith('What')]"
   ]
  },
  {
   "cell_type": "code",
   "execution_count": 6,
   "metadata": {},
   "outputs": [
    {
     "data": {
      "text/plain": "array(['Shame (2011)', 'Beau Travail (1999)', 'Y Tu Mamá También (2001)'],\n      dtype=object)"
     },
     "execution_count": 6,
     "metadata": {},
     "output_type": "execute_result"
    }
   ],
   "source": [
    "submissions = just_ballots.loc[just_ballots.notna().all(axis=1).idxmax(),:].values\n",
    "submissions"
   ]
  },
  {
   "cell_type": "code",
   "execution_count": 7,
   "metadata": {},
   "outputs": [],
   "source": [
    "submission_dict = {submission: pyrankvote.Candidate(submission) for submission in submissions}"
   ]
  },
  {
   "cell_type": "code",
   "execution_count": 8,
   "metadata": {},
   "outputs": [],
   "source": [
    "balloted = just_ballots.applymap(lambda x: submission_dict[x] if isinstance(x, str) else x)"
   ]
  },
  {
   "cell_type": "code",
   "execution_count": 9,
   "metadata": {},
   "outputs": [
    {
     "data": {
      "text/plain": "{'Shame (2011)': <Candidate('Shame (2011)')>,\n 'Beau Travail (1999)': <Candidate('Beau Travail (1999)')>,\n 'Y Tu Mamá También (2001)': <Candidate('Y Tu Mamá También (2001)')>}"
     },
     "execution_count": 9,
     "metadata": {},
     "output_type": "execute_result"
    }
   ],
   "source": [
    "submission_dict"
   ]
  },
  {
   "cell_type": "code",
   "execution_count": 10,
   "metadata": {},
   "outputs": [],
   "source": [
    "ballots = []\n",
    "for ballot in balloted.itertuples():\n",
    "    ballots.append(pyrankvote.Ballot(ranked_candidates=[b for b in ballot if isinstance(b, pyrankvote.Candidate)]))"
   ]
  },
  {
   "cell_type": "code",
   "execution_count": 11,
   "metadata": {},
   "outputs": [
    {
     "data": {
      "text/plain": "[<Ballot(Beau Travail (1999), Shame (2011))>,\n <Ballot(Shame (2011), Beau Travail (1999), Y Tu Mamá También (2001))>,\n <Ballot(Y Tu Mamá También (2001), Shame (2011), Beau Travail (1999))>,\n <Ballot(Y Tu Mamá También (2001), Beau Travail (1999), Shame (2011))>]"
     },
     "execution_count": 11,
     "metadata": {},
     "output_type": "execute_result"
    }
   ],
   "source": [
    "ballots"
   ]
  },
  {
   "cell_type": "code",
   "execution_count": 12,
   "metadata": {},
   "outputs": [],
   "source": [
    "election_result = pyrankvote.instant_runoff_voting(submission_dict.values(), ballots,)"
   ]
  },
  {
   "cell_type": "code",
   "execution_count": 13,
   "metadata": {},
   "outputs": [
    {
     "name": "stdout",
     "output_type": "stream",
     "text": [
      "FINAL RESULT\n",
      "Candidate                   Votes  Status\n",
      "------------------------  -------  --------\n",
      "Y Tu Mamá También (2001)        2  Elected\n",
      "Beau Travail (1999)             1  Rejected\n",
      "Shame (2011)                    1  Rejected\n",
      "\n"
     ]
    }
   ],
   "source": [
    "print(election_result)"
   ]
  },
  {
   "cell_type": "code",
   "execution_count": 14,
   "metadata": {},
   "outputs": [
    {
     "name": "stdout",
     "output_type": "stream",
     "text": [
      "FINAL RESULT\n",
      "Candidate                 Votes  Status\n",
      "----------------------  -------  --------\n",
      "SECRET SOCIETIES              2  Elected\n",
      "SAD GIRL AUTUMN               2  Rejected\n",
      "DOCUMENTARY                   0  Rejected\n",
      "[Default to Trish Pic]        0  Rejected\n",
      "\n"
     ]
    }
   ],
   "source": [
    "submissions = next_week.loc[next_week.notna().all(axis=1).idxmax(),:].values\n",
    "submission_dict = {submission: pyrankvote.Candidate(submission) for submission in submissions}\n",
    "balloted = next_week.applymap(lambda x: submission_dict[x] if isinstance(x, str) else x)\n",
    "ballots = []\n",
    "for ballot in balloted.itertuples():\n",
    "    ballots.append(pyrankvote.Ballot(ranked_candidates=[b for b in ballot if isinstance(b, pyrankvote.Candidate)]))\n",
    "print(pyrankvote.instant_runoff_voting(submission_dict.values(), ballots,))"
   ]
  }
 ],
 "metadata": {
  "kernelspec": {
   "display_name": "Python 3",
   "language": "python",
   "name": "python3"
  },
  "language_info": {
   "codemirror_mode": {
    "name": "ipython",
    "version": 3
   },
   "file_extension": ".py",
   "mimetype": "text/x-python",
   "name": "python",
   "nbconvert_exporter": "python",
   "pygments_lexer": "ipython3",
   "version": "3.7.4"
  }
 },
 "nbformat": 4,
 "nbformat_minor": 2
}