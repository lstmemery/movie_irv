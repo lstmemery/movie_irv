{
 "cells": [
  {
   "cell_type": "code",
   "execution_count": 1,
   "metadata": {},
   "outputs": [],
   "source": [
    "import pandas as pd\n",
    "import pyrankvote\n",
    "from pathlib import Path"
   ]
  },
  {
   "cell_type": "code",
   "execution_count": 2,
   "metadata": {},
   "outputs": [
    {
     "data": {
      "text/plain": "            Timestamp  \\\n0  8/26/2020 17:31:08   \n1  8/26/2020 17:33:24   \n2  8/26/2020 17:34:18   \n3  8/26/2020 18:36:06   \n4  8/26/2020 19:46:04   \n5   8/27/2020 9:21:03   \n6   8/27/2020 9:49:25   \n\n  Rank your movie choices. You don't have to do a full ranking. [First Choice]  \\\n0                                            The Job                             \n1                                           Sorcerer                             \n2                                           Sorcerer                             \n3                                           Repo Man                             \n4                                           Sorcerer                             \n5                                           Repo Man                             \n6                                           Repo Man                             \n\n  Rank your movie choices. You don't have to do a full ranking. [Second Choice]  \\\n0                                           Sorcerer                              \n1                                      The Apartment                              \n2                                           Repo Man                              \n3                                           Sorcerer                              \n4                                           Repo Man                              \n5                                         Visioneers                              \n6                                           Sorcerer                              \n\n  Rank your movie choices. You don't have to do a full ranking. [Third Choice]  \\\n0                                         Visioneers                             \n1                                            The Job                             \n2                                         Visioneers                             \n3                                         Visioneers                             \n4                                         Visioneers                             \n5                                           Sorcerer                             \n6                                      The Apartment                             \n\n  Rank your movie choices. You don't have to do a full ranking. [Fourth Choice]  \\\n0                                                NaN                              \n1                                           Repo Man                              \n2                                            The Job                              \n3                                            The Job                              \n4                                      The Apartment                              \n5                                      The Apartment                              \n6                                            The Job                              \n\n  Rank your movie choices. You don't have to do a full ranking. [Fifth Choice]  \\\n0                                                NaN                             \n1                                         Visioneers                             \n2                                      The Apartment                             \n3                                                NaN                             \n4                                            The Job                             \n5                                            The Job                             \n6                                         Visioneers                             \n\n  What theme should we explore next week? [First Choice]  \\\n0                                DEGENERATE GAMBLERS       \n1                              COCAINE STRIKES BACK!       \n2                                      I LIKE SWORDS       \n3                                          THE 1970S       \n4                                DEGENERATE GAMBLERS       \n5                                          THE 1970S       \n6                                          THE 1970S       \n\n  What theme should we explore next week? [Second Choice]  \\\n0                                          THE 1970S        \n1                                          THE 1970S        \n2                              COCAINE STRIKES BACK!        \n3                              COCAINE STRIKES BACK!        \n4                              COCAINE STRIKES BACK!        \n5                              COCAINE STRIKES BACK!        \n6         WHISTLEBLOWER?! I HARDLY WHISTLE KNOW 'ER!        \n\n  What theme should we explore next week? [Third Choice]  \\\n0                                      I LIKE SWORDS       \n1                                      I LIKE SWORDS       \n2                                          THE 1970S       \n3                                DEGENERATE GAMBLERS       \n4         WHISTLEBLOWER?! I HARDLY WHISTLE KNOW 'ER!       \n5                                      I LIKE SWORDS       \n6                              COCAINE STRIKES BACK!       \n\n  What theme should we explore next week? [Fourth Choice]  \\\n0                              COCAINE STRIKES BACK!        \n1         WHISTLEBLOWER?! I HARDLY WHISTLE KNOW 'ER!        \n2                                DEGENERATE GAMBLERS        \n3                                      I LIKE SWORDS        \n4                                      I LIKE SWORDS        \n5                              No Theme/Free-for-all        \n6                                                NaN        \n\n  What theme should we explore next week? [Fifth Choice]  \\\n0         WHISTLEBLOWER?! I HARDLY WHISTLE KNOW 'ER!       \n1                                DEGENERATE GAMBLERS       \n2         WHISTLEBLOWER?! I HARDLY WHISTLE KNOW 'ER!       \n3         WHISTLEBLOWER?! I HARDLY WHISTLE KNOW 'ER!       \n4                                          THE 1970S       \n5                                                NaN       \n6                                      I LIKE SWORDS       \n\n  What theme should we explore next week? [Sixth Choice]  \n0                              No Theme/Free-for-all      \n1                              No Theme/Free-for-all      \n2                              No Theme/Free-for-all      \n3                                                NaN      \n4                              No Theme/Free-for-all      \n5                                                NaN      \n6                                DEGENERATE GAMBLERS      ",
      "text/html": "<div>\n<style scoped>\n    .dataframe tbody tr th:only-of-type {\n        vertical-align: middle;\n    }\n\n    .dataframe tbody tr th {\n        vertical-align: top;\n    }\n\n    .dataframe thead th {\n        text-align: right;\n    }\n</style>\n<table border=\"1\" class=\"dataframe\">\n  <thead>\n    <tr style=\"text-align: right;\">\n      <th></th>\n      <th>Timestamp</th>\n      <th>Rank your movie choices. You don't have to do a full ranking. [First Choice]</th>\n      <th>Rank your movie choices. You don't have to do a full ranking. [Second Choice]</th>\n      <th>Rank your movie choices. You don't have to do a full ranking. [Third Choice]</th>\n      <th>Rank your movie choices. You don't have to do a full ranking. [Fourth Choice]</th>\n      <th>Rank your movie choices. You don't have to do a full ranking. [Fifth Choice]</th>\n      <th>What theme should we explore next week? [First Choice]</th>\n      <th>What theme should we explore next week? [Second Choice]</th>\n      <th>What theme should we explore next week? [Third Choice]</th>\n      <th>What theme should we explore next week? [Fourth Choice]</th>\n      <th>What theme should we explore next week? [Fifth Choice]</th>\n      <th>What theme should we explore next week? [Sixth Choice]</th>\n    </tr>\n  </thead>\n  <tbody>\n    <tr>\n      <th>0</th>\n      <td>8/26/2020 17:31:08</td>\n      <td>The Job</td>\n      <td>Sorcerer</td>\n      <td>Visioneers</td>\n      <td>NaN</td>\n      <td>NaN</td>\n      <td>DEGENERATE GAMBLERS</td>\n      <td>THE 1970S</td>\n      <td>I LIKE SWORDS</td>\n      <td>COCAINE STRIKES BACK!</td>\n      <td>WHISTLEBLOWER?! I HARDLY WHISTLE KNOW 'ER!</td>\n      <td>No Theme/Free-for-all</td>\n    </tr>\n    <tr>\n      <th>1</th>\n      <td>8/26/2020 17:33:24</td>\n      <td>Sorcerer</td>\n      <td>The Apartment</td>\n      <td>The Job</td>\n      <td>Repo Man</td>\n      <td>Visioneers</td>\n      <td>COCAINE STRIKES BACK!</td>\n      <td>THE 1970S</td>\n      <td>I LIKE SWORDS</td>\n      <td>WHISTLEBLOWER?! I HARDLY WHISTLE KNOW 'ER!</td>\n      <td>DEGENERATE GAMBLERS</td>\n      <td>No Theme/Free-for-all</td>\n    </tr>\n    <tr>\n      <th>2</th>\n      <td>8/26/2020 17:34:18</td>\n      <td>Sorcerer</td>\n      <td>Repo Man</td>\n      <td>Visioneers</td>\n      <td>The Job</td>\n      <td>The Apartment</td>\n      <td>I LIKE SWORDS</td>\n      <td>COCAINE STRIKES BACK!</td>\n      <td>THE 1970S</td>\n      <td>DEGENERATE GAMBLERS</td>\n      <td>WHISTLEBLOWER?! I HARDLY WHISTLE KNOW 'ER!</td>\n      <td>No Theme/Free-for-all</td>\n    </tr>\n    <tr>\n      <th>3</th>\n      <td>8/26/2020 18:36:06</td>\n      <td>Repo Man</td>\n      <td>Sorcerer</td>\n      <td>Visioneers</td>\n      <td>The Job</td>\n      <td>NaN</td>\n      <td>THE 1970S</td>\n      <td>COCAINE STRIKES BACK!</td>\n      <td>DEGENERATE GAMBLERS</td>\n      <td>I LIKE SWORDS</td>\n      <td>WHISTLEBLOWER?! I HARDLY WHISTLE KNOW 'ER!</td>\n      <td>NaN</td>\n    </tr>\n    <tr>\n      <th>4</th>\n      <td>8/26/2020 19:46:04</td>\n      <td>Sorcerer</td>\n      <td>Repo Man</td>\n      <td>Visioneers</td>\n      <td>The Apartment</td>\n      <td>The Job</td>\n      <td>DEGENERATE GAMBLERS</td>\n      <td>COCAINE STRIKES BACK!</td>\n      <td>WHISTLEBLOWER?! I HARDLY WHISTLE KNOW 'ER!</td>\n      <td>I LIKE SWORDS</td>\n      <td>THE 1970S</td>\n      <td>No Theme/Free-for-all</td>\n    </tr>\n    <tr>\n      <th>5</th>\n      <td>8/27/2020 9:21:03</td>\n      <td>Repo Man</td>\n      <td>Visioneers</td>\n      <td>Sorcerer</td>\n      <td>The Apartment</td>\n      <td>The Job</td>\n      <td>THE 1970S</td>\n      <td>COCAINE STRIKES BACK!</td>\n      <td>I LIKE SWORDS</td>\n      <td>No Theme/Free-for-all</td>\n      <td>NaN</td>\n      <td>NaN</td>\n    </tr>\n    <tr>\n      <th>6</th>\n      <td>8/27/2020 9:49:25</td>\n      <td>Repo Man</td>\n      <td>Sorcerer</td>\n      <td>The Apartment</td>\n      <td>The Job</td>\n      <td>Visioneers</td>\n      <td>THE 1970S</td>\n      <td>WHISTLEBLOWER?! I HARDLY WHISTLE KNOW 'ER!</td>\n      <td>COCAINE STRIKES BACK!</td>\n      <td>NaN</td>\n      <td>I LIKE SWORDS</td>\n      <td>DEGENERATE GAMBLERS</td>\n    </tr>\n  </tbody>\n</table>\n</div>"
     },
     "execution_count": 2,
     "metadata": {},
     "output_type": "execute_result"
    }
   ],
   "source": [
    "df = pd.read_csv(Path('./data/20200830.csv').resolve())\n",
    "df"
   ]
  },
  {
   "cell_type": "code",
   "execution_count": 3,
   "metadata": {},
   "outputs": [],
   "source": [
    "just_ballots = df.loc[:, df.columns.str.startswith('Rank')]\n",
    "next_week = df.loc[:, df.columns.str.startswith('What')]"
   ]
  },
  {
   "cell_type": "code",
   "execution_count": 4,
   "metadata": {},
   "outputs": [
    {
     "data": {
      "text/plain": "array(['Sorcerer', 'The Apartment', 'The Job', 'Repo Man', 'Visioneers'],\n      dtype=object)"
     },
     "execution_count": 4,
     "metadata": {},
     "output_type": "execute_result"
    }
   ],
   "source": [
    "submissions = just_ballots.loc[just_ballots.notna().all(axis=1).idxmax(),:].values\n",
    "submissions"
   ]
  },
  {
   "cell_type": "code",
   "execution_count": 5,
   "metadata": {},
   "outputs": [],
   "source": [
    "submission_dict = {submission: pyrankvote.Candidate(submission) for submission in submissions}"
   ]
  },
  {
   "cell_type": "code",
   "execution_count": 6,
   "metadata": {},
   "outputs": [],
   "source": [
    "balloted = just_ballots.applymap(lambda x: submission_dict[x] if isinstance(x, str) else x)"
   ]
  },
  {
   "cell_type": "code",
   "execution_count": 7,
   "metadata": {},
   "outputs": [
    {
     "data": {
      "text/plain": "{'Sorcerer': <Candidate('Sorcerer')>,\n 'The Apartment': <Candidate('The Apartment')>,\n 'The Job': <Candidate('The Job')>,\n 'Repo Man': <Candidate('Repo Man')>,\n 'Visioneers': <Candidate('Visioneers')>}"
     },
     "execution_count": 7,
     "metadata": {},
     "output_type": "execute_result"
    }
   ],
   "source": [
    "submission_dict"
   ]
  },
  {
   "cell_type": "code",
   "execution_count": 8,
   "metadata": {},
   "outputs": [],
   "source": [
    "ballots = []\n",
    "for ballot in balloted.itertuples():\n",
    "    ballots.append(pyrankvote.Ballot(ranked_candidates=[b for b in ballot if isinstance(b, pyrankvote.Candidate)]))"
   ]
  },
  {
   "cell_type": "code",
   "execution_count": 9,
   "metadata": {},
   "outputs": [
    {
     "data": {
      "text/plain": "[<Ballot(The Job, Sorcerer, Visioneers)>,\n <Ballot(Sorcerer, The Apartment, The Job, Repo Man, Visioneers)>,\n <Ballot(Sorcerer, Repo Man, Visioneers, The Job, The Apartment)>,\n <Ballot(Repo Man, Sorcerer, Visioneers, The Job)>,\n <Ballot(Sorcerer, Repo Man, Visioneers, The Apartment, The Job)>,\n <Ballot(Repo Man, Visioneers, Sorcerer, The Apartment, The Job)>,\n <Ballot(Repo Man, Sorcerer, The Apartment, The Job, Visioneers)>]"
     },
     "execution_count": 9,
     "metadata": {},
     "output_type": "execute_result"
    }
   ],
   "source": [
    "ballots"
   ]
  },
  {
   "cell_type": "code",
   "execution_count": 10,
   "metadata": {},
   "outputs": [],
   "source": [
    "election_result = pyrankvote.instant_runoff_voting(submission_dict.values(), ballots,)"
   ]
  },
  {
   "cell_type": "code",
   "execution_count": 11,
   "metadata": {},
   "outputs": [
    {
     "name": "stdout",
     "output_type": "stream",
     "text": [
      "ROUND 1\n",
      "Candidate        Votes  Status\n",
      "-------------  -------  --------\n",
      "Sorcerer             3  Hopeful\n",
      "Repo Man             3  Hopeful\n",
      "The Job              1  Rejected\n",
      "Visioneers           0  Rejected\n",
      "The Apartment        0  Rejected\n",
      "\n",
      "FINAL RESULT\n",
      "Candidate        Votes  Status\n",
      "-------------  -------  --------\n",
      "Sorcerer             4  Elected\n",
      "Repo Man             3  Rejected\n",
      "The Job              0  Rejected\n",
      "Visioneers           0  Rejected\n",
      "The Apartment        0  Rejected\n",
      "\n"
     ]
    }
   ],
   "source": [
    "print(election_result)"
   ]
  },
  {
   "cell_type": "code",
   "execution_count": 12,
   "metadata": {},
   "outputs": [
    {
     "name": "stdout",
     "output_type": "stream",
     "text": [
      "ROUND 1\n",
      "Candidate                                     Votes  Status\n",
      "------------------------------------------  -------  --------\n",
      "THE 1970S                                         3  Hopeful\n",
      "DEGENERATE GAMBLERS                               2  Hopeful\n",
      "COCAINE STRIKES BACK!                             1  Rejected\n",
      "I LIKE SWORDS                                     1  Rejected\n",
      "WHISTLEBLOWER?! I HARDLY WHISTLE KNOW 'ER!        0  Rejected\n",
      "No Theme/Free-for-all                             0  Rejected\n",
      "\n",
      "FINAL RESULT\n",
      "Candidate                                     Votes  Status\n",
      "------------------------------------------  -------  --------\n",
      "THE 1970S                                         5  Elected\n",
      "DEGENERATE GAMBLERS                               2  Rejected\n",
      "COCAINE STRIKES BACK!                             0  Rejected\n",
      "I LIKE SWORDS                                     0  Rejected\n",
      "WHISTLEBLOWER?! I HARDLY WHISTLE KNOW 'ER!        0  Rejected\n",
      "No Theme/Free-for-all                             0  Rejected\n",
      "\n"
     ]
    }
   ],
   "source": [
    "submissions = next_week.loc[next_week.notna().all(axis=1).idxmax(),:].values\n",
    "submission_dict = {submission: pyrankvote.Candidate(submission) for submission in submissions}\n",
    "balloted = next_week.applymap(lambda x: submission_dict[x] if isinstance(x, str) else x)\n",
    "ballots = []\n",
    "for ballot in balloted.itertuples():\n",
    "    ballots.append(pyrankvote.Ballot(ranked_candidates=[b for b in ballot if isinstance(b, pyrankvote.Candidate)]))\n",
    "print(pyrankvote.instant_runoff_voting(submission_dict.values(), ballots,))"
   ]
  }
 ],
 "metadata": {
  "kernelspec": {
   "display_name": "Python 3",
   "language": "python",
   "name": "python3"
  },
  "language_info": {
   "codemirror_mode": {
    "name": "ipython",
    "version": 3
   },
   "file_extension": ".py",
   "mimetype": "text/x-python",
   "name": "python",
   "nbconvert_exporter": "python",
   "pygments_lexer": "ipython3",
   "version": "3.7.4"
  }
 },
 "nbformat": 4,
 "nbformat_minor": 2
}