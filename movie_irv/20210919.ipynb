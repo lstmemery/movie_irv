{
 "cells": [
  {
   "cell_type": "code",
   "execution_count": 14,
   "metadata": {},
   "outputs": [],
   "source": [
    "import pandas as pd\n",
    "import pyrankvote\n",
    "from pathlib import Path\n",
    "from random import seed\n",
    "seed(252)"
   ]
  },
  {
   "cell_type": "code",
   "execution_count": 15,
   "metadata": {},
   "outputs": [
    {
     "data": {
      "text/plain": "             Timestamp  \\\n0  14/09/2021 17:02:49   \n1  14/09/2021 18:03:42   \n2  15/09/2021 10:57:41   \n3  15/09/2021 19:40:33   \n4  16/09/2021 11:55:01   \n\n  Rank your movie choices. You don't have to do a full ranking. [First Choice]  \\\n0                                    EuroTrip (2004)                             \n1                                    EuroTrip (2004)                             \n2  The Adventures of Priscilla, Queen of the Dese...                             \n3         Bring Me the Head of Alfredo Garcia (1974)                             \n4                               The Passenger (1975)                             \n\n  Rank your movie choices. You don't have to do a full ranking. [Second Choice]  \\\n0                                                NaN                              \n1  The Adventures of Priscilla, Queen of the Dese...                              \n2                               The Passenger (1975)                              \n3                               The Passenger (1975)                              \n4  The Adventures of Priscilla, Queen of the Dese...                              \n\n  Rank your movie choices. You don't have to do a full ranking. [Third Choice]  \\\n0                                                NaN                             \n1         Bring Me the Head of Alfredo Garcia (1974)                             \n2                                    EuroTrip (2004)                             \n3                                                NaN                             \n4                                                NaN                             \n\n  Rank your movie choices. You don't have to do a full ranking. [Fourth Choice]  \\\n0                                                NaN                              \n1                               The Passenger (1975)                              \n2         Bring Me the Head of Alfredo Garcia (1974)                              \n3                                                NaN                              \n4                                                NaN                              \n\n  What theme should we explore next week? [First Choice]  \\\n0                                               DOGS       \n1                                               DOGS       \n2          ART HOUSE (..in the middle of our street)       \n3                                        WARSAW PACT       \n4                                   DYING SMALL TOWN       \n\n  What theme should we explore next week? [Second Choice]  \\\n0                                                NaN        \n1                                   DYING SMALL TOWN        \n2                                               DOGS        \n3                                   DYING SMALL TOWN        \n4                                               DOGS        \n\n  What theme should we explore next week? [Third Choice]  \\\n0                                                NaN       \n1          ART HOUSE (..in the middle of our street)       \n2                             [Default to Trish Pic]       \n3          ART HOUSE (..in the middle of our street)       \n4          ART HOUSE (..in the middle of our street)       \n\n  What theme should we explore next week? [Fourth Choice]  \\\n0                                                NaN        \n1                             [Default to Trish Pic]        \n2                                   DYING SMALL TOWN        \n3                                                NaN        \n4                                        WARSAW PACT        \n\n  What theme should we explore next week? [Fifth Choice]  \n0                                                NaN      \n1                                        WARSAW PACT      \n2                                        WARSAW PACT      \n3                                                NaN      \n4                             [Default to Trish Pic]      ",
      "text/html": "<div>\n<style scoped>\n    .dataframe tbody tr th:only-of-type {\n        vertical-align: middle;\n    }\n\n    .dataframe tbody tr th {\n        vertical-align: top;\n    }\n\n    .dataframe thead th {\n        text-align: right;\n    }\n</style>\n<table border=\"1\" class=\"dataframe\">\n  <thead>\n    <tr style=\"text-align: right;\">\n      <th></th>\n      <th>Timestamp</th>\n      <th>Rank your movie choices. You don't have to do a full ranking. [First Choice]</th>\n      <th>Rank your movie choices. You don't have to do a full ranking. [Second Choice]</th>\n      <th>Rank your movie choices. You don't have to do a full ranking. [Third Choice]</th>\n      <th>Rank your movie choices. You don't have to do a full ranking. [Fourth Choice]</th>\n      <th>What theme should we explore next week? [First Choice]</th>\n      <th>What theme should we explore next week? [Second Choice]</th>\n      <th>What theme should we explore next week? [Third Choice]</th>\n      <th>What theme should we explore next week? [Fourth Choice]</th>\n      <th>What theme should we explore next week? [Fifth Choice]</th>\n    </tr>\n  </thead>\n  <tbody>\n    <tr>\n      <th>0</th>\n      <td>14/09/2021 17:02:49</td>\n      <td>EuroTrip (2004)</td>\n      <td>NaN</td>\n      <td>NaN</td>\n      <td>NaN</td>\n      <td>DOGS</td>\n      <td>NaN</td>\n      <td>NaN</td>\n      <td>NaN</td>\n      <td>NaN</td>\n    </tr>\n    <tr>\n      <th>1</th>\n      <td>14/09/2021 18:03:42</td>\n      <td>EuroTrip (2004)</td>\n      <td>The Adventures of Priscilla, Queen of the Dese...</td>\n      <td>Bring Me the Head of Alfredo Garcia (1974)</td>\n      <td>The Passenger (1975)</td>\n      <td>DOGS</td>\n      <td>DYING SMALL TOWN</td>\n      <td>ART HOUSE (..in the middle of our street)</td>\n      <td>[Default to Trish Pic]</td>\n      <td>WARSAW PACT</td>\n    </tr>\n    <tr>\n      <th>2</th>\n      <td>15/09/2021 10:57:41</td>\n      <td>The Adventures of Priscilla, Queen of the Dese...</td>\n      <td>The Passenger (1975)</td>\n      <td>EuroTrip (2004)</td>\n      <td>Bring Me the Head of Alfredo Garcia (1974)</td>\n      <td>ART HOUSE (..in the middle of our street)</td>\n      <td>DOGS</td>\n      <td>[Default to Trish Pic]</td>\n      <td>DYING SMALL TOWN</td>\n      <td>WARSAW PACT</td>\n    </tr>\n    <tr>\n      <th>3</th>\n      <td>15/09/2021 19:40:33</td>\n      <td>Bring Me the Head of Alfredo Garcia (1974)</td>\n      <td>The Passenger (1975)</td>\n      <td>NaN</td>\n      <td>NaN</td>\n      <td>WARSAW PACT</td>\n      <td>DYING SMALL TOWN</td>\n      <td>ART HOUSE (..in the middle of our street)</td>\n      <td>NaN</td>\n      <td>NaN</td>\n    </tr>\n    <tr>\n      <th>4</th>\n      <td>16/09/2021 11:55:01</td>\n      <td>The Passenger (1975)</td>\n      <td>The Adventures of Priscilla, Queen of the Dese...</td>\n      <td>NaN</td>\n      <td>NaN</td>\n      <td>DYING SMALL TOWN</td>\n      <td>DOGS</td>\n      <td>ART HOUSE (..in the middle of our street)</td>\n      <td>WARSAW PACT</td>\n      <td>[Default to Trish Pic]</td>\n    </tr>\n  </tbody>\n</table>\n</div>"
     },
     "execution_count": 15,
     "metadata": {},
     "output_type": "execute_result"
    }
   ],
   "source": [
    "df = pd.read_csv(Path('./data/20210919.csv').resolve())\n",
    "df"
   ]
  },
  {
   "cell_type": "code",
   "execution_count": 16,
   "metadata": {},
   "outputs": [],
   "source": [
    "just_ballots = df.loc[:, df.columns.str.startswith('Rank')]\n",
    "next_week = df.loc[:, df.columns.str.startswith('What')]"
   ]
  },
  {
   "cell_type": "code",
   "execution_count": 17,
   "metadata": {},
   "outputs": [
    {
     "data": {
      "text/plain": "array(['EuroTrip (2004)',\n       'The Adventures of Priscilla, Queen of the Desert (1994)',\n       'Bring Me the Head of Alfredo Garcia (1974)',\n       'The Passenger (1975)'], dtype=object)"
     },
     "execution_count": 17,
     "metadata": {},
     "output_type": "execute_result"
    }
   ],
   "source": [
    "submissions = just_ballots.loc[just_ballots.notna().all(axis=1).idxmax(),:].values\n",
    "submissions"
   ]
  },
  {
   "cell_type": "code",
   "execution_count": 18,
   "metadata": {},
   "outputs": [],
   "source": [
    "submission_dict = {submission: pyrankvote.Candidate(submission) for submission in submissions}"
   ]
  },
  {
   "cell_type": "code",
   "execution_count": 19,
   "metadata": {},
   "outputs": [],
   "source": [
    "balloted = just_ballots.applymap(lambda x: submission_dict[x] if isinstance(x, str) else x)"
   ]
  },
  {
   "cell_type": "code",
   "execution_count": 20,
   "metadata": {},
   "outputs": [
    {
     "data": {
      "text/plain": "{'EuroTrip (2004)': <Candidate('EuroTrip (2004)')>,\n 'The Adventures of Priscilla, Queen of the Desert (1994)': <Candidate('The Adventures of Priscilla, Queen of the Desert (1994)')>,\n 'Bring Me the Head of Alfredo Garcia (1974)': <Candidate('Bring Me the Head of Alfredo Garcia (1974)')>,\n 'The Passenger (1975)': <Candidate('The Passenger (1975)')>}"
     },
     "execution_count": 20,
     "metadata": {},
     "output_type": "execute_result"
    }
   ],
   "source": [
    "submission_dict"
   ]
  },
  {
   "cell_type": "code",
   "execution_count": 21,
   "metadata": {},
   "outputs": [],
   "source": [
    "ballots = []\n",
    "for ballot in balloted.itertuples():\n",
    "    ballots.append(pyrankvote.Ballot(ranked_candidates=[b for b in ballot if isinstance(b, pyrankvote.Candidate)]))"
   ]
  },
  {
   "cell_type": "code",
   "execution_count": 22,
   "metadata": {},
   "outputs": [
    {
     "data": {
      "text/plain": "[<Ballot(EuroTrip (2004))>,\n <Ballot(EuroTrip (2004), The Adventures of Priscilla, Queen of the Desert (1994), Bring Me the Head of Alfredo Garcia (1974), The Passenger (1975))>,\n <Ballot(The Adventures of Priscilla, Queen of the Desert (1994), The Passenger (1975), EuroTrip (2004), Bring Me the Head of Alfredo Garcia (1974))>,\n <Ballot(Bring Me the Head of Alfredo Garcia (1974), The Passenger (1975))>,\n <Ballot(The Passenger (1975), The Adventures of Priscilla, Queen of the Desert (1994))>]"
     },
     "execution_count": 22,
     "metadata": {},
     "output_type": "execute_result"
    }
   ],
   "source": [
    "ballots"
   ]
  },
  {
   "cell_type": "code",
   "execution_count": 23,
   "metadata": {},
   "outputs": [],
   "source": [
    "election_result = pyrankvote.instant_runoff_voting(submission_dict.values(), ballots,)"
   ]
  },
  {
   "cell_type": "code",
   "execution_count": 24,
   "metadata": {},
   "outputs": [
    {
     "name": "stdout",
     "output_type": "stream",
     "text": [
      "ROUND 1\n",
      "Candidate                                                  Votes  Status\n",
      "-------------------------------------------------------  -------  --------\n",
      "EuroTrip (2004)                                                2  Hopeful\n",
      "The Passenger (1975)                                           1  Hopeful\n",
      "The Adventures of Priscilla, Queen of the Desert (1994)        1  Hopeful\n",
      "Bring Me the Head of Alfredo Garcia (1974)                     1  Rejected\n",
      "\n",
      "ROUND 2\n",
      "Candidate                                                  Votes  Status\n",
      "-------------------------------------------------------  -------  --------\n",
      "The Passenger (1975)                                           2  Hopeful\n",
      "EuroTrip (2004)                                                2  Hopeful\n",
      "The Adventures of Priscilla, Queen of the Desert (1994)        1  Rejected\n",
      "Bring Me the Head of Alfredo Garcia (1974)                     0  Rejected\n",
      "\n",
      "FINAL RESULT\n",
      "Candidate                                                  Votes  Status\n",
      "-------------------------------------------------------  -------  --------\n",
      "The Passenger (1975)                                           3  Elected\n",
      "EuroTrip (2004)                                                2  Rejected\n",
      "The Adventures of Priscilla, Queen of the Desert (1994)        0  Rejected\n",
      "Bring Me the Head of Alfredo Garcia (1974)                     0  Rejected\n",
      "\n"
     ]
    }
   ],
   "source": [
    "print(election_result)"
   ]
  },
  {
   "cell_type": "code",
   "execution_count": 25,
   "metadata": {},
   "outputs": [
    {
     "name": "stdout",
     "output_type": "stream",
     "text": [
      "ROUND 1\n",
      "Candidate                                    Votes  Status\n",
      "-----------------------------------------  -------  --------\n",
      "DOGS                                             2  Hopeful\n",
      "DYING SMALL TOWN                                 1  Hopeful\n",
      "ART HOUSE (..in the middle of our street)        1  Hopeful\n",
      "WARSAW PACT                                      1  Rejected\n",
      "[Default to Trish Pic]                           0  Rejected\n",
      "\n",
      "ROUND 2\n",
      "Candidate                                    Votes  Status\n",
      "-----------------------------------------  -------  --------\n",
      "DOGS                                             2  Hopeful\n",
      "DYING SMALL TOWN                                 2  Hopeful\n",
      "ART HOUSE (..in the middle of our street)        1  Rejected\n",
      "WARSAW PACT                                      0  Rejected\n",
      "[Default to Trish Pic]                           0  Rejected\n",
      "\n",
      "FINAL RESULT\n",
      "Candidate                                    Votes  Status\n",
      "-----------------------------------------  -------  --------\n",
      "DOGS                                             3  Elected\n",
      "DYING SMALL TOWN                                 2  Rejected\n",
      "ART HOUSE (..in the middle of our street)        0  Rejected\n",
      "WARSAW PACT                                      0  Rejected\n",
      "[Default to Trish Pic]                           0  Rejected\n",
      "\n"
     ]
    }
   ],
   "source": [
    "submissions = next_week.loc[next_week.notna().all(axis=1).idxmax(),:].values\n",
    "submission_dict = {submission: pyrankvote.Candidate(submission) for submission in submissions}\n",
    "balloted = next_week.applymap(lambda x: submission_dict[x] if isinstance(x, str) else x)\n",
    "ballots = []\n",
    "for ballot in balloted.itertuples():\n",
    "    ballots.append(pyrankvote.Ballot(ranked_candidates=[b for b in ballot if isinstance(b, pyrankvote.Candidate)]))\n",
    "print(pyrankvote.instant_runoff_voting(submission_dict.values(), ballots,))"
   ]
  }
 ],
 "metadata": {
  "kernelspec": {
   "display_name": "Python 3",
   "language": "python",
   "name": "python3"
  },
  "language_info": {
   "codemirror_mode": {
    "name": "ipython",
    "version": 3
   },
   "file_extension": ".py",
   "mimetype": "text/x-python",
   "name": "python",
   "nbconvert_exporter": "python",
   "pygments_lexer": "ipython3",
   "version": "3.7.4"
  }
 },
 "nbformat": 4,
 "nbformat_minor": 2
}