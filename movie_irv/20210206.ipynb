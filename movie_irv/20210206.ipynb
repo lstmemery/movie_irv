{
 "cells": [
  {
   "cell_type": "code",
   "execution_count": 1,
   "metadata": {},
   "outputs": [],
   "source": [
    "import pandas as pd\n",
    "import pyrankvote\n",
    "from pathlib import Path\n",
    "from random import seed\n",
    "seed(252)"
   ]
  },
  {
   "cell_type": "code",
   "execution_count": 2,
   "metadata": {},
   "outputs": [
    {
     "data": {
      "text/plain": "           Timestamp  \\\n0  2/2/2021 17:05:30   \n1  2/2/2021 17:07:45   \n2  2/2/2021 17:09:00   \n3  2/2/2021 17:09:57   \n4  2/2/2021 17:26:23   \n5  2/2/2021 18:24:21   \n6  2/2/2021 18:44:19   \n7  2/2/2021 18:45:42   \n8  2/2/2021 20:17:35   \n9   2/3/2021 8:38:51   \n\n  Rank your movie choices. You don't have to do a full ranking. [First Choice]  \\\n0                                  Monkeybone (2001)                             \n1                                 School Ties (1992)                             \n2                           Gods and Monsters (1998)                             \n3                                  Monkeybone (2001)                             \n4                                  Monkeybone (2001)                             \n5                                 School Ties (1992)                             \n6                                  Monkeybone (2001)                             \n7                                  Monkeybone (2001)                             \n8                             Furry Vengeance (2010)                             \n9                                  Monkeybone (2001)                             \n\n  Rank your movie choices. You don't have to do a full ranking. [Second Choice]  \\\n0                        Pawn Shop Chronicles (2013)                              \n1                        Pawn Shop Chronicles (2013)                              \n2                        Pawn Shop Chronicles (2013)                              \n3                           Gods and Monsters (1998)                              \n4                             Furry Vengeance (2010)                              \n5                                 With Honors (1994)                              \n6                           Gods and Monsters (1998)                              \n7                        George of the Jungle (1997)                              \n8                                 School Ties (1992)                              \n9                           Gods and Monsters (1998)                              \n\n  Rank your movie choices. You don't have to do a full ranking. [Third Choice]  \\\n0                                 With Honors (1994)                             \n1                           Gods and Monsters (1998)                             \n2                             Still Breathing (1997)                             \n3                                                NaN                             \n4                        George of the Jungle (1997)                             \n5                                  Monkeybone (2001)                             \n6                        George of the Jungle (1997)                             \n7                             Furry Vengeance (2010)                             \n8                                 With Honors (1994)                             \n9                        Pawn Shop Chronicles (2013)                             \n\n  Rank your movie choices. You don't have to do a full ranking. [Fourth Choice]  \\\n0                           Gods and Monsters (1998)                              \n1                             Furry Vengeance (2010)                              \n2                                 School Ties (1992)                              \n3                                                NaN                              \n4                                                NaN                              \n5                             Still Breathing (1997)                              \n6                             Still Breathing (1997)                              \n7                           Gods and Monsters (1998)                              \n8                                  Monkeybone (2001)                              \n9                                 School Ties (1992)                              \n\n  Rank your movie choices. You don't have to do a full ranking. [Fifth Choice]  \\\n0                                 School Ties (1992)                             \n1                        George of the Jungle (1997)                             \n2                                  Monkeybone (2001)                             \n3                                                NaN                             \n4                                                NaN                             \n5                           Gods and Monsters (1998)                             \n6                                 With Honors (1994)                             \n7                                                NaN                             \n8                             Still Breathing (1997)                             \n9                                 With Honors (1994)                             \n\n  Rank your movie choices. You don't have to do a full ranking. [Sixth Choice]  \\\n0                             Furry Vengeance (2010)                             \n1                                  Monkeybone (2001)                             \n2                             Furry Vengeance (2010)                             \n3                                                NaN                             \n4                                                NaN                             \n5                        Pawn Shop Chronicles (2013)                             \n6                                 School Ties (1992)                             \n7                                                NaN                             \n8                           Gods and Monsters (1998)                             \n9                             Still Breathing (1997)                             \n\n  Rank your movie choices. You don't have to do a full ranking. [Seventh Choice]  \\\n0                             Still Breathing (1997)                               \n1                             Still Breathing (1997)                               \n2                                 With Honors (1994)                               \n3                                                NaN                               \n4                                                NaN                               \n5                        George of the Jungle (1997)                               \n6                        Pawn Shop Chronicles (2013)                               \n7                                                NaN                               \n8                        Pawn Shop Chronicles (2013)                               \n9                        George of the Jungle (1997)                               \n\n  Rank your movie choices. You don't have to do a full ranking. [Eighth Choice]  \\\n0                        George of the Jungle (1997)                              \n1                                 With Honors (1994)                              \n2                                                NaN                              \n3                                                NaN                              \n4                                                NaN                              \n5                             Furry Vengeance (2010)                              \n6                             Furry Vengeance (2010)                              \n7                                                NaN                              \n8                        George of the Jungle (1997)                              \n9                             Furry Vengeance (2010)                              \n\n  What theme should we explore next week? [First Choice]  \\\n0       GOLAN-GLOBUS A-GO-GO: THE CANNON GROUP, INC.       \n1                 MEXICAN FILMS IN MEXICAN LANGUAGES       \n2                           MICHAEL CAINE/MY COCAINE       \n3       GOLAN-GLOBUS A-GO-GO: THE CANNON GROUP, INC.       \n4                      INTERNATIONAL SCIENCE FICTION       \n5                                     D'YA LIKE DAGS       \n6                                  DOCUMENTARY! NOW!       \n7                                  DOCUMENTARY! NOW!       \n8                     WHAT IF I JUST SHOT EVERYBODY?       \n9                 MEXICAN FILMS IN MEXICAN LANGUAGES       \n\n  What theme should we explore next week? [Second Choice]  \\\n0                           MICHAEL CAINE/MY COCAINE        \n1                           MICHAEL CAINE/MY COCAINE        \n2                                     D'YA LIKE DAGS        \n3                      INTERNATIONAL SCIENCE FICTION        \n4                                  DOCUMENTARY! NOW!        \n5                 MEXICAN FILMS IN MEXICAN LANGUAGES        \n6                          [Default to Nicolas Cage]        \n7                                     D'YA LIKE DAGS        \n8                         KNOCKOFFS OF ANIMATED HITS        \n9                           MICHAEL CAINE/MY COCAINE        \n\n  What theme should we explore next week? [Third Choice]  \\\n0                      INTERNATIONAL SCIENCE FICTION       \n1                     WHAT IF I JUST SHOT EVERYBODY?       \n2       GOLAN-GLOBUS A-GO-GO: THE CANNON GROUP, INC.       \n3                 MEXICAN FILMS IN MEXICAN LANGUAGES       \n4                 MEXICAN FILMS IN MEXICAN LANGUAGES       \n5                      INTERNATIONAL SCIENCE FICTION       \n6                      INTERNATIONAL SCIENCE FICTION       \n7       GOLAN-GLOBUS A-GO-GO: THE CANNON GROUP, INC.       \n8                      INTERNATIONAL SCIENCE FICTION       \n9                     WHAT IF I JUST SHOT EVERYBODY?       \n\n  What theme should we explore next week? [Fourth Choice]  \\\n0                 MEXICAN FILMS IN MEXICAN LANGUAGES        \n1                      INTERNATIONAL SCIENCE FICTION        \n2                      INTERNATIONAL SCIENCE FICTION        \n3                     WHAT IF I JUST SHOT EVERYBODY?        \n4                     WHAT IF I JUST SHOT EVERYBODY?        \n5                           MICHAEL CAINE/MY COCAINE        \n6                 MEXICAN FILMS IN MEXICAN LANGUAGES        \n7                          [Default to Nicolas Cage]        \n8                 MEXICAN FILMS IN MEXICAN LANGUAGES        \n9                      INTERNATIONAL SCIENCE FICTION        \n\n  What theme should we explore next week? [Fifth Choice]  \\\n0                                     D'YA LIKE DAGS       \n1       GOLAN-GLOBUS A-GO-GO: THE CANNON GROUP, INC.       \n2                                  DOCUMENTARY! NOW!       \n3                                                NaN       \n4                           MICHAEL CAINE/MY COCAINE       \n5                     WHAT IF I JUST SHOT EVERYBODY?       \n6                           MICHAEL CAINE/MY COCAINE       \n7                                                NaN       \n8       GOLAN-GLOBUS A-GO-GO: THE CANNON GROUP, INC.       \n9       GOLAN-GLOBUS A-GO-GO: THE CANNON GROUP, INC.       \n\n  What theme should we explore next week? [Sixth Choice]  \\\n0                                  DOCUMENTARY! NOW!       \n1                                     D'YA LIKE DAGS       \n2                     WHAT IF I JUST SHOT EVERYBODY?       \n3                                                NaN       \n4       GOLAN-GLOBUS A-GO-GO: THE CANNON GROUP, INC.       \n5                         KNOCKOFFS OF ANIMATED HITS       \n6                     WHAT IF I JUST SHOT EVERYBODY?       \n7                                                NaN       \n8                                  DOCUMENTARY! NOW!       \n9                         KNOCKOFFS OF ANIMATED HITS       \n\n  What theme should we explore next week? [Seventh Choice]  \\\n0                     WHAT IF I JUST SHOT EVERYBODY?         \n1                                  DOCUMENTARY! NOW!         \n2                         KNOCKOFFS OF ANIMATED HITS         \n3                                                NaN         \n4                         KNOCKOFFS OF ANIMATED HITS         \n5                          [Default to Nicolas Cage]         \n6                         KNOCKOFFS OF ANIMATED HITS         \n7                                                NaN         \n8                          [Default to Nicolas Cage]         \n9                                     D'YA LIKE DAGS         \n\n  What theme should we explore next week? [Eighth Choice]  \\\n0                          [Default to Nicolas Cage]        \n1                          [Default to Nicolas Cage]        \n2                 MEXICAN FILMS IN MEXICAN LANGUAGES        \n3                                                NaN        \n4                                                NaN        \n5                                  DOCUMENTARY! NOW!        \n6                                     D'YA LIKE DAGS        \n7                                                NaN        \n8                                     D'YA LIKE DAGS        \n9                                  DOCUMENTARY! NOW!        \n\n  What theme should we explore next week? [Ninth Choice]  \n0                         KNOCKOFFS OF ANIMATED HITS      \n1                         KNOCKOFFS OF ANIMATED HITS      \n2                          [Default to Nicolas Cage]      \n3                                                NaN      \n4                                                NaN      \n5       GOLAN-GLOBUS A-GO-GO: THE CANNON GROUP, INC.      \n6       GOLAN-GLOBUS A-GO-GO: THE CANNON GROUP, INC.      \n7                                                NaN      \n8                           MICHAEL CAINE/MY COCAINE      \n9                          [Default to Nicolas Cage]      ",
      "text/html": "<div>\n<style scoped>\n    .dataframe tbody tr th:only-of-type {\n        vertical-align: middle;\n    }\n\n    .dataframe tbody tr th {\n        vertical-align: top;\n    }\n\n    .dataframe thead th {\n        text-align: right;\n    }\n</style>\n<table border=\"1\" class=\"dataframe\">\n  <thead>\n    <tr style=\"text-align: right;\">\n      <th></th>\n      <th>Timestamp</th>\n      <th>Rank your movie choices. You don't have to do a full ranking. [First Choice]</th>\n      <th>Rank your movie choices. You don't have to do a full ranking. [Second Choice]</th>\n      <th>Rank your movie choices. You don't have to do a full ranking. [Third Choice]</th>\n      <th>Rank your movie choices. You don't have to do a full ranking. [Fourth Choice]</th>\n      <th>Rank your movie choices. You don't have to do a full ranking. [Fifth Choice]</th>\n      <th>Rank your movie choices. You don't have to do a full ranking. [Sixth Choice]</th>\n      <th>Rank your movie choices. You don't have to do a full ranking. [Seventh Choice]</th>\n      <th>Rank your movie choices. You don't have to do a full ranking. [Eighth Choice]</th>\n      <th>What theme should we explore next week? [First Choice]</th>\n      <th>What theme should we explore next week? [Second Choice]</th>\n      <th>What theme should we explore next week? [Third Choice]</th>\n      <th>What theme should we explore next week? [Fourth Choice]</th>\n      <th>What theme should we explore next week? [Fifth Choice]</th>\n      <th>What theme should we explore next week? [Sixth Choice]</th>\n      <th>What theme should we explore next week? [Seventh Choice]</th>\n      <th>What theme should we explore next week? [Eighth Choice]</th>\n      <th>What theme should we explore next week? [Ninth Choice]</th>\n    </tr>\n  </thead>\n  <tbody>\n    <tr>\n      <th>0</th>\n      <td>2/2/2021 17:05:30</td>\n      <td>Monkeybone (2001)</td>\n      <td>Pawn Shop Chronicles (2013)</td>\n      <td>With Honors (1994)</td>\n      <td>Gods and Monsters (1998)</td>\n      <td>School Ties (1992)</td>\n      <td>Furry Vengeance (2010)</td>\n      <td>Still Breathing (1997)</td>\n      <td>George of the Jungle (1997)</td>\n      <td>GOLAN-GLOBUS A-GO-GO: THE CANNON GROUP, INC.</td>\n      <td>MICHAEL CAINE/MY COCAINE</td>\n      <td>INTERNATIONAL SCIENCE FICTION</td>\n      <td>MEXICAN FILMS IN MEXICAN LANGUAGES</td>\n      <td>D'YA LIKE DAGS</td>\n      <td>DOCUMENTARY! NOW!</td>\n      <td>WHAT IF I JUST SHOT EVERYBODY?</td>\n      <td>[Default to Nicolas Cage]</td>\n      <td>KNOCKOFFS OF ANIMATED HITS</td>\n    </tr>\n    <tr>\n      <th>1</th>\n      <td>2/2/2021 17:07:45</td>\n      <td>School Ties (1992)</td>\n      <td>Pawn Shop Chronicles (2013)</td>\n      <td>Gods and Monsters (1998)</td>\n      <td>Furry Vengeance (2010)</td>\n      <td>George of the Jungle (1997)</td>\n      <td>Monkeybone (2001)</td>\n      <td>Still Breathing (1997)</td>\n      <td>With Honors (1994)</td>\n      <td>MEXICAN FILMS IN MEXICAN LANGUAGES</td>\n      <td>MICHAEL CAINE/MY COCAINE</td>\n      <td>WHAT IF I JUST SHOT EVERYBODY?</td>\n      <td>INTERNATIONAL SCIENCE FICTION</td>\n      <td>GOLAN-GLOBUS A-GO-GO: THE CANNON GROUP, INC.</td>\n      <td>D'YA LIKE DAGS</td>\n      <td>DOCUMENTARY! NOW!</td>\n      <td>[Default to Nicolas Cage]</td>\n      <td>KNOCKOFFS OF ANIMATED HITS</td>\n    </tr>\n    <tr>\n      <th>2</th>\n      <td>2/2/2021 17:09:00</td>\n      <td>Gods and Monsters (1998)</td>\n      <td>Pawn Shop Chronicles (2013)</td>\n      <td>Still Breathing (1997)</td>\n      <td>School Ties (1992)</td>\n      <td>Monkeybone (2001)</td>\n      <td>Furry Vengeance (2010)</td>\n      <td>With Honors (1994)</td>\n      <td>NaN</td>\n      <td>MICHAEL CAINE/MY COCAINE</td>\n      <td>D'YA LIKE DAGS</td>\n      <td>GOLAN-GLOBUS A-GO-GO: THE CANNON GROUP, INC.</td>\n      <td>INTERNATIONAL SCIENCE FICTION</td>\n      <td>DOCUMENTARY! NOW!</td>\n      <td>WHAT IF I JUST SHOT EVERYBODY?</td>\n      <td>KNOCKOFFS OF ANIMATED HITS</td>\n      <td>MEXICAN FILMS IN MEXICAN LANGUAGES</td>\n      <td>[Default to Nicolas Cage]</td>\n    </tr>\n    <tr>\n      <th>3</th>\n      <td>2/2/2021 17:09:57</td>\n      <td>Monkeybone (2001)</td>\n      <td>Gods and Monsters (1998)</td>\n      <td>NaN</td>\n      <td>NaN</td>\n      <td>NaN</td>\n      <td>NaN</td>\n      <td>NaN</td>\n      <td>NaN</td>\n      <td>GOLAN-GLOBUS A-GO-GO: THE CANNON GROUP, INC.</td>\n      <td>INTERNATIONAL SCIENCE FICTION</td>\n      <td>MEXICAN FILMS IN MEXICAN LANGUAGES</td>\n      <td>WHAT IF I JUST SHOT EVERYBODY?</td>\n      <td>NaN</td>\n      <td>NaN</td>\n      <td>NaN</td>\n      <td>NaN</td>\n      <td>NaN</td>\n    </tr>\n    <tr>\n      <th>4</th>\n      <td>2/2/2021 17:26:23</td>\n      <td>Monkeybone (2001)</td>\n      <td>Furry Vengeance (2010)</td>\n      <td>George of the Jungle (1997)</td>\n      <td>NaN</td>\n      <td>NaN</td>\n      <td>NaN</td>\n      <td>NaN</td>\n      <td>NaN</td>\n      <td>INTERNATIONAL SCIENCE FICTION</td>\n      <td>DOCUMENTARY! NOW!</td>\n      <td>MEXICAN FILMS IN MEXICAN LANGUAGES</td>\n      <td>WHAT IF I JUST SHOT EVERYBODY?</td>\n      <td>MICHAEL CAINE/MY COCAINE</td>\n      <td>GOLAN-GLOBUS A-GO-GO: THE CANNON GROUP, INC.</td>\n      <td>KNOCKOFFS OF ANIMATED HITS</td>\n      <td>NaN</td>\n      <td>NaN</td>\n    </tr>\n    <tr>\n      <th>5</th>\n      <td>2/2/2021 18:24:21</td>\n      <td>School Ties (1992)</td>\n      <td>With Honors (1994)</td>\n      <td>Monkeybone (2001)</td>\n      <td>Still Breathing (1997)</td>\n      <td>Gods and Monsters (1998)</td>\n      <td>Pawn Shop Chronicles (2013)</td>\n      <td>George of the Jungle (1997)</td>\n      <td>Furry Vengeance (2010)</td>\n      <td>D'YA LIKE DAGS</td>\n      <td>MEXICAN FILMS IN MEXICAN LANGUAGES</td>\n      <td>INTERNATIONAL SCIENCE FICTION</td>\n      <td>MICHAEL CAINE/MY COCAINE</td>\n      <td>WHAT IF I JUST SHOT EVERYBODY?</td>\n      <td>KNOCKOFFS OF ANIMATED HITS</td>\n      <td>[Default to Nicolas Cage]</td>\n      <td>DOCUMENTARY! NOW!</td>\n      <td>GOLAN-GLOBUS A-GO-GO: THE CANNON GROUP, INC.</td>\n    </tr>\n    <tr>\n      <th>6</th>\n      <td>2/2/2021 18:44:19</td>\n      <td>Monkeybone (2001)</td>\n      <td>Gods and Monsters (1998)</td>\n      <td>George of the Jungle (1997)</td>\n      <td>Still Breathing (1997)</td>\n      <td>With Honors (1994)</td>\n      <td>School Ties (1992)</td>\n      <td>Pawn Shop Chronicles (2013)</td>\n      <td>Furry Vengeance (2010)</td>\n      <td>DOCUMENTARY! NOW!</td>\n      <td>[Default to Nicolas Cage]</td>\n      <td>INTERNATIONAL SCIENCE FICTION</td>\n      <td>MEXICAN FILMS IN MEXICAN LANGUAGES</td>\n      <td>MICHAEL CAINE/MY COCAINE</td>\n      <td>WHAT IF I JUST SHOT EVERYBODY?</td>\n      <td>KNOCKOFFS OF ANIMATED HITS</td>\n      <td>D'YA LIKE DAGS</td>\n      <td>GOLAN-GLOBUS A-GO-GO: THE CANNON GROUP, INC.</td>\n    </tr>\n    <tr>\n      <th>7</th>\n      <td>2/2/2021 18:45:42</td>\n      <td>Monkeybone (2001)</td>\n      <td>George of the Jungle (1997)</td>\n      <td>Furry Vengeance (2010)</td>\n      <td>Gods and Monsters (1998)</td>\n      <td>NaN</td>\n      <td>NaN</td>\n      <td>NaN</td>\n      <td>NaN</td>\n      <td>DOCUMENTARY! NOW!</td>\n      <td>D'YA LIKE DAGS</td>\n      <td>GOLAN-GLOBUS A-GO-GO: THE CANNON GROUP, INC.</td>\n      <td>[Default to Nicolas Cage]</td>\n      <td>NaN</td>\n      <td>NaN</td>\n      <td>NaN</td>\n      <td>NaN</td>\n      <td>NaN</td>\n    </tr>\n    <tr>\n      <th>8</th>\n      <td>2/2/2021 20:17:35</td>\n      <td>Furry Vengeance (2010)</td>\n      <td>School Ties (1992)</td>\n      <td>With Honors (1994)</td>\n      <td>Monkeybone (2001)</td>\n      <td>Still Breathing (1997)</td>\n      <td>Gods and Monsters (1998)</td>\n      <td>Pawn Shop Chronicles (2013)</td>\n      <td>George of the Jungle (1997)</td>\n      <td>WHAT IF I JUST SHOT EVERYBODY?</td>\n      <td>KNOCKOFFS OF ANIMATED HITS</td>\n      <td>INTERNATIONAL SCIENCE FICTION</td>\n      <td>MEXICAN FILMS IN MEXICAN LANGUAGES</td>\n      <td>GOLAN-GLOBUS A-GO-GO: THE CANNON GROUP, INC.</td>\n      <td>DOCUMENTARY! NOW!</td>\n      <td>[Default to Nicolas Cage]</td>\n      <td>D'YA LIKE DAGS</td>\n      <td>MICHAEL CAINE/MY COCAINE</td>\n    </tr>\n    <tr>\n      <th>9</th>\n      <td>2/3/2021 8:38:51</td>\n      <td>Monkeybone (2001)</td>\n      <td>Gods and Monsters (1998)</td>\n      <td>Pawn Shop Chronicles (2013)</td>\n      <td>School Ties (1992)</td>\n      <td>With Honors (1994)</td>\n      <td>Still Breathing (1997)</td>\n      <td>George of the Jungle (1997)</td>\n      <td>Furry Vengeance (2010)</td>\n      <td>MEXICAN FILMS IN MEXICAN LANGUAGES</td>\n      <td>MICHAEL CAINE/MY COCAINE</td>\n      <td>WHAT IF I JUST SHOT EVERYBODY?</td>\n      <td>INTERNATIONAL SCIENCE FICTION</td>\n      <td>GOLAN-GLOBUS A-GO-GO: THE CANNON GROUP, INC.</td>\n      <td>KNOCKOFFS OF ANIMATED HITS</td>\n      <td>D'YA LIKE DAGS</td>\n      <td>DOCUMENTARY! NOW!</td>\n      <td>[Default to Nicolas Cage]</td>\n    </tr>\n  </tbody>\n</table>\n</div>"
     },
     "execution_count": 2,
     "metadata": {},
     "output_type": "execute_result"
    }
   ],
   "source": [
    "df = pd.read_csv(Path('./data/20210206.csv').resolve())\n",
    "df"
   ]
  },
  {
   "cell_type": "code",
   "execution_count": 3,
   "metadata": {},
   "outputs": [],
   "source": [
    "just_ballots = df.loc[:, df.columns.str.startswith('Rank')]\n",
    "next_week = df.loc[:, df.columns.str.startswith('What')]"
   ]
  },
  {
   "cell_type": "code",
   "execution_count": 4,
   "metadata": {},
   "outputs": [
    {
     "data": {
      "text/plain": "array(['Monkeybone (2001)', 'Pawn Shop Chronicles (2013)',\n       'With Honors (1994)', 'Gods and Monsters (1998)',\n       'School Ties (1992)', 'Furry Vengeance (2010)',\n       'Still Breathing (1997)', 'George of the Jungle (1997)'],\n      dtype=object)"
     },
     "execution_count": 4,
     "metadata": {},
     "output_type": "execute_result"
    }
   ],
   "source": [
    "submissions = just_ballots.loc[just_ballots.notna().all(axis=1).idxmax(),:].values\n",
    "submissions"
   ]
  },
  {
   "cell_type": "code",
   "execution_count": 5,
   "metadata": {},
   "outputs": [],
   "source": [
    "submission_dict = {submission: pyrankvote.Candidate(submission) for submission in submissions}"
   ]
  },
  {
   "cell_type": "code",
   "execution_count": 6,
   "metadata": {},
   "outputs": [],
   "source": [
    "balloted = just_ballots.applymap(lambda x: submission_dict[x] if isinstance(x, str) else x)"
   ]
  },
  {
   "cell_type": "code",
   "execution_count": 7,
   "metadata": {},
   "outputs": [
    {
     "data": {
      "text/plain": "{'Monkeybone (2001)': <Candidate('Monkeybone (2001)')>,\n 'Pawn Shop Chronicles (2013)': <Candidate('Pawn Shop Chronicles (2013)')>,\n 'With Honors (1994)': <Candidate('With Honors (1994)')>,\n 'Gods and Monsters (1998)': <Candidate('Gods and Monsters (1998)')>,\n 'School Ties (1992)': <Candidate('School Ties (1992)')>,\n 'Furry Vengeance (2010)': <Candidate('Furry Vengeance (2010)')>,\n 'Still Breathing (1997)': <Candidate('Still Breathing (1997)')>,\n 'George of the Jungle (1997)': <Candidate('George of the Jungle (1997)')>}"
     },
     "execution_count": 7,
     "metadata": {},
     "output_type": "execute_result"
    }
   ],
   "source": [
    "submission_dict"
   ]
  },
  {
   "cell_type": "code",
   "execution_count": 8,
   "metadata": {},
   "outputs": [],
   "source": [
    "ballots = []\n",
    "for ballot in balloted.itertuples():\n",
    "    ballots.append(pyrankvote.Ballot(ranked_candidates=[b for b in ballot if isinstance(b, pyrankvote.Candidate)]))"
   ]
  },
  {
   "cell_type": "code",
   "execution_count": 9,
   "metadata": {},
   "outputs": [
    {
     "data": {
      "text/plain": "[<Ballot(Monkeybone (2001), Pawn Shop Chronicles (2013), With Honors (1994), Gods and Monsters (1998), School Ties (1992), Furry Vengeance (2010), Still Breathing (1997), George of the Jungle (1997))>,\n <Ballot(School Ties (1992), Pawn Shop Chronicles (2013), Gods and Monsters (1998), Furry Vengeance (2010), George of the Jungle (1997), Monkeybone (2001), Still Breathing (1997), With Honors (1994))>,\n <Ballot(Gods and Monsters (1998), Pawn Shop Chronicles (2013), Still Breathing (1997), School Ties (1992), Monkeybone (2001), Furry Vengeance (2010), With Honors (1994))>,\n <Ballot(Monkeybone (2001), Gods and Monsters (1998))>,\n <Ballot(Monkeybone (2001), Furry Vengeance (2010), George of the Jungle (1997))>,\n <Ballot(School Ties (1992), With Honors (1994), Monkeybone (2001), Still Breathing (1997), Gods and Monsters (1998), Pawn Shop Chronicles (2013), George of the Jungle (1997), Furry Vengeance (2010))>,\n <Ballot(Monkeybone (2001), Gods and Monsters (1998), George of the Jungle (1997), Still Breathing (1997), With Honors (1994), School Ties (1992), Pawn Shop Chronicles (2013), Furry Vengeance (2010))>,\n <Ballot(Monkeybone (2001), George of the Jungle (1997), Furry Vengeance (2010), Gods and Monsters (1998))>,\n <Ballot(Furry Vengeance (2010), School Ties (1992), With Honors (1994), Monkeybone (2001), Still Breathing (1997), Gods and Monsters (1998), Pawn Shop Chronicles (2013), George of the Jungle (1997))>,\n <Ballot(Monkeybone (2001), Gods and Monsters (1998), Pawn Shop Chronicles (2013), School Ties (1992), With Honors (1994), Still Breathing (1997), George of the Jungle (1997), Furry Vengeance (2010))>]"
     },
     "execution_count": 9,
     "metadata": {},
     "output_type": "execute_result"
    }
   ],
   "source": [
    "ballots"
   ]
  },
  {
   "cell_type": "code",
   "execution_count": 10,
   "metadata": {},
   "outputs": [],
   "source": [
    "election_result = pyrankvote.instant_runoff_voting(submission_dict.values(), ballots,)"
   ]
  },
  {
   "cell_type": "code",
   "execution_count": 11,
   "metadata": {},
   "outputs": [
    {
     "name": "stdout",
     "output_type": "stream",
     "text": [
      "FINAL RESULT\n",
      "Candidate                      Votes  Status\n",
      "---------------------------  -------  --------\n",
      "Monkeybone (2001)                  6  Elected\n",
      "School Ties (1992)                 2  Rejected\n",
      "Gods and Monsters (1998)           1  Rejected\n",
      "Furry Vengeance (2010)             1  Rejected\n",
      "Pawn Shop Chronicles (2013)        0  Rejected\n",
      "With Honors (1994)                 0  Rejected\n",
      "George of the Jungle (1997)        0  Rejected\n",
      "Still Breathing (1997)             0  Rejected\n",
      "\n"
     ]
    }
   ],
   "source": [
    "print(election_result)"
   ]
  },
  {
   "cell_type": "code",
   "execution_count": 12,
   "metadata": {},
   "outputs": [
    {
     "name": "stdout",
     "output_type": "stream",
     "text": [
      "ROUND 1\n",
      "Candidate                                       Votes  Status\n",
      "--------------------------------------------  -------  --------\n",
      "MEXICAN FILMS IN MEXICAN LANGUAGES                  2  Hopeful\n",
      "DOCUMENTARY! NOW!                                   2  Hopeful\n",
      "GOLAN-GLOBUS A-GO-GO: THE CANNON GROUP, INC.        2  Hopeful\n",
      "MICHAEL CAINE/MY COCAINE                            1  Hopeful\n",
      "D'YA LIKE DAGS                                      1  Hopeful\n",
      "INTERNATIONAL SCIENCE FICTION                       1  Hopeful\n",
      "WHAT IF I JUST SHOT EVERYBODY?                      1  Rejected\n",
      "[Default to Nicolas Cage]                           0  Rejected\n",
      "KNOCKOFFS OF ANIMATED HITS                          0  Rejected\n",
      "\n",
      "ROUND 2\n",
      "Candidate                                       Votes  Status\n",
      "--------------------------------------------  -------  --------\n",
      "INTERNATIONAL SCIENCE FICTION                       2  Hopeful\n",
      "MEXICAN FILMS IN MEXICAN LANGUAGES                  2  Hopeful\n",
      "DOCUMENTARY! NOW!                                   2  Hopeful\n",
      "GOLAN-GLOBUS A-GO-GO: THE CANNON GROUP, INC.        2  Hopeful\n",
      "MICHAEL CAINE/MY COCAINE                            1  Rejected\n",
      "D'YA LIKE DAGS                                      1  Rejected\n",
      "WHAT IF I JUST SHOT EVERYBODY?                      0  Rejected\n",
      "[Default to Nicolas Cage]                           0  Rejected\n",
      "KNOCKOFFS OF ANIMATED HITS                          0  Rejected\n",
      "\n",
      "ROUND 3\n",
      "Candidate                                       Votes  Status\n",
      "--------------------------------------------  -------  --------\n",
      "MEXICAN FILMS IN MEXICAN LANGUAGES                  3  Hopeful\n",
      "GOLAN-GLOBUS A-GO-GO: THE CANNON GROUP, INC.        3  Hopeful\n",
      "INTERNATIONAL SCIENCE FICTION                       2  Hopeful\n",
      "DOCUMENTARY! NOW!                                   2  Rejected\n",
      "MICHAEL CAINE/MY COCAINE                            0  Rejected\n",
      "D'YA LIKE DAGS                                      0  Rejected\n",
      "WHAT IF I JUST SHOT EVERYBODY?                      0  Rejected\n",
      "[Default to Nicolas Cage]                           0  Rejected\n",
      "KNOCKOFFS OF ANIMATED HITS                          0  Rejected\n",
      "\n",
      "ROUND 4\n",
      "Candidate                                       Votes  Status\n",
      "--------------------------------------------  -------  --------\n",
      "GOLAN-GLOBUS A-GO-GO: THE CANNON GROUP, INC.        4  Hopeful\n",
      "INTERNATIONAL SCIENCE FICTION                       3  Hopeful\n",
      "MEXICAN FILMS IN MEXICAN LANGUAGES                  3  Rejected\n",
      "DOCUMENTARY! NOW!                                   0  Rejected\n",
      "MICHAEL CAINE/MY COCAINE                            0  Rejected\n",
      "D'YA LIKE DAGS                                      0  Rejected\n",
      "WHAT IF I JUST SHOT EVERYBODY?                      0  Rejected\n",
      "[Default to Nicolas Cage]                           0  Rejected\n",
      "KNOCKOFFS OF ANIMATED HITS                          0  Rejected\n",
      "\n",
      "FINAL RESULT\n",
      "Candidate                                       Votes  Status\n",
      "--------------------------------------------  -------  --------\n",
      "INTERNATIONAL SCIENCE FICTION                       6  Elected\n",
      "GOLAN-GLOBUS A-GO-GO: THE CANNON GROUP, INC.        4  Rejected\n",
      "MEXICAN FILMS IN MEXICAN LANGUAGES                  0  Rejected\n",
      "DOCUMENTARY! NOW!                                   0  Rejected\n",
      "MICHAEL CAINE/MY COCAINE                            0  Rejected\n",
      "D'YA LIKE DAGS                                      0  Rejected\n",
      "WHAT IF I JUST SHOT EVERYBODY?                      0  Rejected\n",
      "[Default to Nicolas Cage]                           0  Rejected\n",
      "KNOCKOFFS OF ANIMATED HITS                          0  Rejected\n",
      "\n"
     ]
    }
   ],
   "source": [
    "submissions = next_week.loc[next_week.notna().all(axis=1).idxmax(),:].values\n",
    "submission_dict = {submission: pyrankvote.Candidate(submission) for submission in submissions}\n",
    "balloted = next_week.applymap(lambda x: submission_dict[x] if isinstance(x, str) else x)\n",
    "ballots = []\n",
    "for ballot in balloted.itertuples():\n",
    "    ballots.append(pyrankvote.Ballot(ranked_candidates=[b for b in ballot if isinstance(b, pyrankvote.Candidate)]))\n",
    "print(pyrankvote.instant_runoff_voting(submission_dict.values(), ballots,))"
   ]
  }
 ],
 "metadata": {
  "kernelspec": {
   "display_name": "Python 3",
   "language": "python",
   "name": "python3"
  },
  "language_info": {
   "codemirror_mode": {
    "name": "ipython",
    "version": 3
   },
   "file_extension": ".py",
   "mimetype": "text/x-python",
   "name": "python",
   "nbconvert_exporter": "python",
   "pygments_lexer": "ipython3",
   "version": "3.7.4"
  }
 },
 "nbformat": 4,
 "nbformat_minor": 2
}