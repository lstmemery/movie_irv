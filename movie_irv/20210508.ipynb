{
 "cells": [
  {
   "cell_type": "code",
   "execution_count": 2,
   "metadata": {},
   "outputs": [],
   "source": [
    "import pandas as pd\n",
    "import pyrankvote\n",
    "from pathlib import Path\n",
    "from random import seed\n",
    "seed(252)"
   ]
  },
  {
   "cell_type": "code",
   "execution_count": 3,
   "metadata": {},
   "outputs": [
    {
     "data": {
      "text/plain": "             Timestamp  \\\n0  04/05/2021 20:57:38   \n1  04/05/2021 21:06:42   \n2  04/05/2021 21:07:51   \n3  04/05/2021 21:49:59   \n4  05/05/2021 08:54:20   \n5  05/05/2021 11:55:39   \n6  05/05/2021 12:36:21   \n\n  Rank your movie choices. You don't have to do a full ranking. [First Choice]  \\\n0                             Sixteen Candles (1984)                             \n1                                     Brother (1997)                             \n2                          A Clockwork Orange (1971)                             \n3                             Sixteen Candles (1984)                             \n4                                     Brother (1997)                             \n5                                     Brother (1997)                             \n6                                     Brother (1997)                             \n\n  Rank your movie choices. You don't have to do a full ranking. [Second Choice]  \\\n0                       The Battle of Algiers (1966)                              \n1                             Sixteen Candles (1984)                              \n2                       The Battle of Algiers (1966)                              \n3                       The Battle of Algiers (1966)                              \n4                       The Battle of Algiers (1966)                              \n5                       The Battle of Algiers (1966)                              \n6                       The Battle of Algiers (1966)                              \n\n  Rank your movie choices. You don't have to do a full ranking. [Third Choice]  \\\n0                                     Brother (1997)                             \n1                                                NaN                             \n2                                     Brother (1997)                             \n3                          A Clockwork Orange (1971)                             \n4                                                NaN                             \n5                          A Clockwork Orange (1971)                             \n6                          A Clockwork Orange (1971)                             \n\n  Rank your movie choices. You don't have to do a full ranking. [Fourth Choice]  \\\n0                          A Clockwork Orange (1971)                              \n1                                                NaN                              \n2                             Sixteen Candles (1984)                              \n3                                     Brother (1997)                              \n4                                                NaN                              \n5                             Sixteen Candles (1984)                              \n6                                                NaN                              \n\n  What theme should we explore next week? [First Choice]  \\\n0                                            MONTAGE       \n1                                       CUCKED BRITS       \n2                              BRAIN: FRIEND OR FOE?       \n3                                       CUCKED BRITS       \n4                                    GANBARE NIPPON!       \n5                                            MONTAGE       \n6                                       CUCKED BRITS       \n\n  What theme should we explore next week? [Second Choice]  \\\n0                          [Default to Nicolas Cage]        \n1                              BRAIN: FRIEND OR FOE?        \n2                                    GANBARE NIPPON!        \n3                                            MONTAGE        \n4                                       CUCKED BRITS        \n5                          [Default to Nicolas Cage]        \n6                              BRAIN: FRIEND OR FOE?        \n\n  What theme should we explore next week? [Third Choice]  \\\n0                              BRAIN: FRIEND OR FOE?       \n1                                            MONTAGE       \n2                                       CUCKED BRITS       \n3                              BRAIN: FRIEND OR FOE?       \n4                          [Default to Nicolas Cage]       \n5                              BRAIN: FRIEND OR FOE?       \n6                                    GANBARE NIPPON!       \n\n  What theme should we explore next week? [Fourth Choice]  \\\n0                                       CUCKED BRITS        \n1                                    GANBARE NIPPON!        \n2                                            MONTAGE        \n3                          [Default to Nicolas Cage]        \n4                              BRAIN: FRIEND OR FOE?        \n5                                    GANBARE NIPPON!        \n6                                            MONTAGE        \n\n  What theme should we explore next week? [Fifth Choice]  \n0                                    GANBARE NIPPON!      \n1                          [Default to Nicolas Cage]      \n2                          [Default to Nicolas Cage]      \n3                                    GANBARE NIPPON!      \n4                                            MONTAGE      \n5                                       CUCKED BRITS      \n6                          [Default to Nicolas Cage]      ",
      "text/html": "<div>\n<style scoped>\n    .dataframe tbody tr th:only-of-type {\n        vertical-align: middle;\n    }\n\n    .dataframe tbody tr th {\n        vertical-align: top;\n    }\n\n    .dataframe thead th {\n        text-align: right;\n    }\n</style>\n<table border=\"1\" class=\"dataframe\">\n  <thead>\n    <tr style=\"text-align: right;\">\n      <th></th>\n      <th>Timestamp</th>\n      <th>Rank your movie choices. You don't have to do a full ranking. [First Choice]</th>\n      <th>Rank your movie choices. You don't have to do a full ranking. [Second Choice]</th>\n      <th>Rank your movie choices. You don't have to do a full ranking. [Third Choice]</th>\n      <th>Rank your movie choices. You don't have to do a full ranking. [Fourth Choice]</th>\n      <th>What theme should we explore next week? [First Choice]</th>\n      <th>What theme should we explore next week? [Second Choice]</th>\n      <th>What theme should we explore next week? [Third Choice]</th>\n      <th>What theme should we explore next week? [Fourth Choice]</th>\n      <th>What theme should we explore next week? [Fifth Choice]</th>\n    </tr>\n  </thead>\n  <tbody>\n    <tr>\n      <th>0</th>\n      <td>04/05/2021 20:57:38</td>\n      <td>Sixteen Candles (1984)</td>\n      <td>The Battle of Algiers (1966)</td>\n      <td>Brother (1997)</td>\n      <td>A Clockwork Orange (1971)</td>\n      <td>MONTAGE</td>\n      <td>[Default to Nicolas Cage]</td>\n      <td>BRAIN: FRIEND OR FOE?</td>\n      <td>CUCKED BRITS</td>\n      <td>GANBARE NIPPON!</td>\n    </tr>\n    <tr>\n      <th>1</th>\n      <td>04/05/2021 21:06:42</td>\n      <td>Brother (1997)</td>\n      <td>Sixteen Candles (1984)</td>\n      <td>NaN</td>\n      <td>NaN</td>\n      <td>CUCKED BRITS</td>\n      <td>BRAIN: FRIEND OR FOE?</td>\n      <td>MONTAGE</td>\n      <td>GANBARE NIPPON!</td>\n      <td>[Default to Nicolas Cage]</td>\n    </tr>\n    <tr>\n      <th>2</th>\n      <td>04/05/2021 21:07:51</td>\n      <td>A Clockwork Orange (1971)</td>\n      <td>The Battle of Algiers (1966)</td>\n      <td>Brother (1997)</td>\n      <td>Sixteen Candles (1984)</td>\n      <td>BRAIN: FRIEND OR FOE?</td>\n      <td>GANBARE NIPPON!</td>\n      <td>CUCKED BRITS</td>\n      <td>MONTAGE</td>\n      <td>[Default to Nicolas Cage]</td>\n    </tr>\n    <tr>\n      <th>3</th>\n      <td>04/05/2021 21:49:59</td>\n      <td>Sixteen Candles (1984)</td>\n      <td>The Battle of Algiers (1966)</td>\n      <td>A Clockwork Orange (1971)</td>\n      <td>Brother (1997)</td>\n      <td>CUCKED BRITS</td>\n      <td>MONTAGE</td>\n      <td>BRAIN: FRIEND OR FOE?</td>\n      <td>[Default to Nicolas Cage]</td>\n      <td>GANBARE NIPPON!</td>\n    </tr>\n    <tr>\n      <th>4</th>\n      <td>05/05/2021 08:54:20</td>\n      <td>Brother (1997)</td>\n      <td>The Battle of Algiers (1966)</td>\n      <td>NaN</td>\n      <td>NaN</td>\n      <td>GANBARE NIPPON!</td>\n      <td>CUCKED BRITS</td>\n      <td>[Default to Nicolas Cage]</td>\n      <td>BRAIN: FRIEND OR FOE?</td>\n      <td>MONTAGE</td>\n    </tr>\n    <tr>\n      <th>5</th>\n      <td>05/05/2021 11:55:39</td>\n      <td>Brother (1997)</td>\n      <td>The Battle of Algiers (1966)</td>\n      <td>A Clockwork Orange (1971)</td>\n      <td>Sixteen Candles (1984)</td>\n      <td>MONTAGE</td>\n      <td>[Default to Nicolas Cage]</td>\n      <td>BRAIN: FRIEND OR FOE?</td>\n      <td>GANBARE NIPPON!</td>\n      <td>CUCKED BRITS</td>\n    </tr>\n    <tr>\n      <th>6</th>\n      <td>05/05/2021 12:36:21</td>\n      <td>Brother (1997)</td>\n      <td>The Battle of Algiers (1966)</td>\n      <td>A Clockwork Orange (1971)</td>\n      <td>NaN</td>\n      <td>CUCKED BRITS</td>\n      <td>BRAIN: FRIEND OR FOE?</td>\n      <td>GANBARE NIPPON!</td>\n      <td>MONTAGE</td>\n      <td>[Default to Nicolas Cage]</td>\n    </tr>\n  </tbody>\n</table>\n</div>"
     },
     "execution_count": 3,
     "metadata": {},
     "output_type": "execute_result"
    }
   ],
   "source": [
    "df = pd.read_csv(Path('./data/20210508.csv').resolve())\n",
    "df"
   ]
  },
  {
   "cell_type": "code",
   "execution_count": 4,
   "metadata": {},
   "outputs": [],
   "source": [
    "just_ballots = df.loc[:, df.columns.str.startswith('Rank')]\n",
    "next_week = df.loc[:, df.columns.str.startswith('What')]"
   ]
  },
  {
   "cell_type": "code",
   "execution_count": 5,
   "metadata": {},
   "outputs": [
    {
     "data": {
      "text/plain": "array(['Sixteen Candles (1984)', 'The Battle of Algiers (1966)',\n       'Brother (1997)', 'A Clockwork Orange (1971)'], dtype=object)"
     },
     "execution_count": 5,
     "metadata": {},
     "output_type": "execute_result"
    }
   ],
   "source": [
    "submissions = just_ballots.loc[just_ballots.notna().all(axis=1).idxmax(),:].values\n",
    "submissions"
   ]
  },
  {
   "cell_type": "code",
   "execution_count": 6,
   "metadata": {},
   "outputs": [],
   "source": [
    "submission_dict = {submission: pyrankvote.Candidate(submission) for submission in submissions}"
   ]
  },
  {
   "cell_type": "code",
   "execution_count": 7,
   "metadata": {},
   "outputs": [],
   "source": [
    "balloted = just_ballots.applymap(lambda x: submission_dict[x] if isinstance(x, str) else x)"
   ]
  },
  {
   "cell_type": "code",
   "execution_count": 8,
   "metadata": {},
   "outputs": [
    {
     "data": {
      "text/plain": "{'Sixteen Candles (1984)': <Candidate('Sixteen Candles (1984)')>,\n 'The Battle of Algiers (1966)': <Candidate('The Battle of Algiers (1966)')>,\n 'Brother (1997)': <Candidate('Brother (1997)')>,\n 'A Clockwork Orange (1971)': <Candidate('A Clockwork Orange (1971)')>}"
     },
     "execution_count": 8,
     "metadata": {},
     "output_type": "execute_result"
    }
   ],
   "source": [
    "submission_dict"
   ]
  },
  {
   "cell_type": "code",
   "execution_count": 9,
   "metadata": {},
   "outputs": [],
   "source": [
    "ballots = []\n",
    "for ballot in balloted.itertuples():\n",
    "    ballots.append(pyrankvote.Ballot(ranked_candidates=[b for b in ballot if isinstance(b, pyrankvote.Candidate)]))"
   ]
  },
  {
   "cell_type": "code",
   "execution_count": 10,
   "metadata": {},
   "outputs": [
    {
     "data": {
      "text/plain": "[<Ballot(Sixteen Candles (1984), The Battle of Algiers (1966), Brother (1997), A Clockwork Orange (1971))>,\n <Ballot(Brother (1997), Sixteen Candles (1984))>,\n <Ballot(A Clockwork Orange (1971), The Battle of Algiers (1966), Brother (1997), Sixteen Candles (1984))>,\n <Ballot(Sixteen Candles (1984), The Battle of Algiers (1966), A Clockwork Orange (1971), Brother (1997))>,\n <Ballot(Brother (1997), The Battle of Algiers (1966))>,\n <Ballot(Brother (1997), The Battle of Algiers (1966), A Clockwork Orange (1971), Sixteen Candles (1984))>,\n <Ballot(Brother (1997), The Battle of Algiers (1966), A Clockwork Orange (1971))>]"
     },
     "execution_count": 10,
     "metadata": {},
     "output_type": "execute_result"
    }
   ],
   "source": [
    "ballots"
   ]
  },
  {
   "cell_type": "code",
   "execution_count": 11,
   "metadata": {},
   "outputs": [],
   "source": [
    "election_result = pyrankvote.instant_runoff_voting(submission_dict.values(), ballots,)"
   ]
  },
  {
   "cell_type": "code",
   "execution_count": 12,
   "metadata": {},
   "outputs": [
    {
     "name": "stdout",
     "output_type": "stream",
     "text": [
      "FINAL RESULT\n",
      "Candidate                       Votes  Status\n",
      "----------------------------  -------  --------\n",
      "Brother (1997)                      4  Elected\n",
      "Sixteen Candles (1984)              2  Rejected\n",
      "A Clockwork Orange (1971)           1  Rejected\n",
      "The Battle of Algiers (1966)        0  Rejected\n",
      "\n"
     ]
    }
   ],
   "source": [
    "print(election_result)"
   ]
  },
  {
   "cell_type": "code",
   "execution_count": 13,
   "metadata": {},
   "outputs": [
    {
     "name": "stdout",
     "output_type": "stream",
     "text": [
      "ROUND 1\n",
      "Candidate                    Votes  Status\n",
      "-------------------------  -------  --------\n",
      "CUCKED BRITS                     3  Hopeful\n",
      "MONTAGE                          2  Hopeful\n",
      "BRAIN: FRIEND OR FOE?            1  Rejected\n",
      "GANBARE NIPPON!                  1  Rejected\n",
      "[Default to Nicolas Cage]        0  Rejected\n",
      "\n",
      "FINAL RESULT\n",
      "Candidate                    Votes  Status\n",
      "-------------------------  -------  --------\n",
      "CUCKED BRITS                     5  Elected\n",
      "MONTAGE                          2  Rejected\n",
      "BRAIN: FRIEND OR FOE?            0  Rejected\n",
      "GANBARE NIPPON!                  0  Rejected\n",
      "[Default to Nicolas Cage]        0  Rejected\n",
      "\n"
     ]
    }
   ],
   "source": [
    "submissions = next_week.loc[next_week.notna().all(axis=1).idxmax(),:].values\n",
    "submission_dict = {submission: pyrankvote.Candidate(submission) for submission in submissions}\n",
    "balloted = next_week.applymap(lambda x: submission_dict[x] if isinstance(x, str) else x)\n",
    "ballots = []\n",
    "for ballot in balloted.itertuples():\n",
    "    ballots.append(pyrankvote.Ballot(ranked_candidates=[b for b in ballot if isinstance(b, pyrankvote.Candidate)]))\n",
    "print(pyrankvote.instant_runoff_voting(submission_dict.values(), ballots,))"
   ]
  }
 ],
 "metadata": {
  "kernelspec": {
   "display_name": "Python 3",
   "language": "python",
   "name": "python3"
  },
  "language_info": {
   "codemirror_mode": {
    "name": "ipython",
    "version": 3
   },
   "file_extension": ".py",
   "mimetype": "text/x-python",
   "name": "python",
   "nbconvert_exporter": "python",
   "pygments_lexer": "ipython3",
   "version": "3.7.4"
  }
 },
 "nbformat": 4,
 "nbformat_minor": 2
}