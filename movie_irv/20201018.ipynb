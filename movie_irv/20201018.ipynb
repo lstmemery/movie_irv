{
 "cells": [
  {
   "cell_type": "code",
   "execution_count": 1,
   "metadata": {},
   "outputs": [],
   "source": [
    "import pandas as pd\n",
    "import pyrankvote\n",
    "from pathlib import Path"
   ]
  },
  {
   "cell_type": "code",
   "execution_count": 2,
   "metadata": {},
   "outputs": [
    {
     "data": {
      "text/plain": "             Timestamp  \\\n0  10/14/2020 10:19:39   \n1  10/14/2020 10:46:52   \n2  10/14/2020 14:50:42   \n3  10/14/2020 14:54:33   \n4  10/14/2020 16:34:43   \n5  10/14/2020 19:51:07   \n6  10/14/2020 19:53:16   \n7  10/15/2020 14:52:13   \n\n  Rank your movie choices. You don't have to do a full ranking. [First Choice]  \\\n0                            Fantastic Planet (1973)                             \n1                                 Dersu Uzala (1975)                             \n2                              The River Wild (1994)                             \n3                               Shin Godzilla (2016)                             \n4                                 Dersu Uzala (1975)                             \n5                               Shin Godzilla (2016)                             \n6                               Shin Godzilla (2016)                             \n7                               Shin Godzilla (2016)                             \n\n  Rank your movie choices. You don't have to do a full ranking. [Second Choice]  \\\n0                                   Walkabout (1971)                              \n1                                   Walkabout (1971)                              \n2                         Hell in the Pacific (1968)                              \n3                              The River Wild (1994)                              \n4                               Shin Godzilla (2016)                              \n5                         Hell in the Pacific (1968)                              \n6                                   Walkabout (1971)                              \n7                                   Walkabout (1971)                              \n\n  Rank your movie choices. You don't have to do a full ranking. [Third Choice]  \\\n0                              The River Wild (1994)                             \n1                            Fantastic Planet (1973)                             \n2                                 Dersu Uzala (1975)                             \n3                         Hell in the Pacific (1968)                             \n4                         Hell in the Pacific (1968)                             \n5                                   Walkabout (1971)                             \n6                              The River Wild (1994)                             \n7                              The River Wild (1994)                             \n\n  Rank your movie choices. You don't have to do a full ranking. [Fourth Choice]  \\\n0                                 Dersu Uzala (1975)                              \n1                         Hell in the Pacific (1968)                              \n2                            Fantastic Planet (1973)                              \n3                                 Dersu Uzala (1975)                              \n4                                   Walkabout (1971)                              \n5                                 Dersu Uzala (1975)                              \n6                                 Dersu Uzala (1975)                              \n7                         Hell in the Pacific (1968)                              \n\n  Rank your movie choices. You don't have to do a full ranking. [Fifth Choice]  \\\n0                         Hell in the Pacific (1968)                             \n1                              The River Wild (1994)                             \n2                               Shin Godzilla (2016)                             \n3                            Fantastic Planet (1973)                             \n4                              The River Wild (1994)                             \n5                              The River Wild (1994)                             \n6                         Hell in the Pacific (1968)                             \n7                                 Dersu Uzala (1975)                             \n\n  Rank your movie choices. You don't have to do a full ranking. [Sixth Choice]  \\\n0                               Shin Godzilla (2016)                             \n1                                                NaN                             \n2                                   Walkabout (1971)                             \n3                                                NaN                             \n4                            Fantastic Planet (1973)                             \n5                            Fantastic Planet (1973)                             \n6                            Fantastic Planet (1973)                             \n7                            Fantastic Planet (1973)                             \n\n  What theme should we explore next week? [First Choice]  \\\n0                               TICKLING THE IVORIES       \n1                                      HERZOGAPOOLZA       \n2                     ROMANCE IS DEAD: GOTHS ON FILM       \n3                                       IRON CURTAIN       \n4                           THE ARTIST IS AN ASSHOLE       \n5                     ROMANCE IS DEAD: GOTHS ON FILM       \n6                            THE MOST DANGEROUS GAME       \n7                                      HERZOGAPOOLZA       \n\n  What theme should we explore next week? [Second Choice]  \\\n0                                       IRON CURTAIN        \n1                                       IRON CURTAIN        \n2                            THE MOST DANGEROUS GAME        \n3                            THE MOST DANGEROUS GAME        \n4                                      HERZOGAPOOLZA        \n5                           THE ARTIST IS AN ASSHOLE        \n6                           THE ARTIST IS AN ASSHOLE        \n7                                       IRON CURTAIN        \n\n  What theme should we explore next week? [Third Choice]  \\\n0                           THE ARTIST IS AN ASSHOLE       \n1                           THE ARTIST IS AN ASSHOLE       \n2                                       IRON CURTAIN       \n3                     ROMANCE IS DEAD: GOTHS ON FILM       \n4                            THE MOST DANGEROUS GAME       \n5                               TICKLING THE IVORIES       \n6                                       IRON CURTAIN       \n7                            THE MOST DANGEROUS GAME       \n\n  What theme should we explore next week? [Fourth Choice]  \\\n0                                      HERZOGAPOOLZA        \n1                               TICKLING THE IVORIES        \n2                               TICKLING THE IVORIES        \n3                                      HERZOGAPOOLZA        \n4                     ROMANCE IS DEAD: GOTHS ON FILM        \n5                                       IRON CURTAIN        \n6                                      HERZOGAPOOLZA        \n7                     ROMANCE IS DEAD: GOTHS ON FILM        \n\n  What theme should we explore next week? [Fifth Choice]  \\\n0                     ROMANCE IS DEAD: GOTHS ON FILM       \n1                            THE MOST DANGEROUS GAME       \n2                                      HERZOGAPOOLZA       \n3                           THE ARTIST IS AN ASSHOLE       \n4                                       IRON CURTAIN       \n5                            THE MOST DANGEROUS GAME       \n6                     ROMANCE IS DEAD: GOTHS ON FILM       \n7                           THE ARTIST IS AN ASSHOLE       \n\n  What theme should we explore next week? [Sixth Choice]  \\\n0                            THE MOST DANGEROUS GAME       \n1                     ROMANCE IS DEAD: GOTHS ON FILM       \n2                           THE ARTIST IS AN ASSHOLE       \n3                               TICKLING THE IVORIES       \n4                               TICKLING THE IVORIES       \n5                                      HERZOGAPOOLZA       \n6                               TICKLING THE IVORIES       \n7                               TICKLING THE IVORIES       \n\n  What theme should we explore next week? [Seventh Choice]  \n0                                                NaN        \n1                              No Theme/Free-for-all        \n2                              No Theme/Free-for-all        \n3                                                NaN        \n4                              No Theme/Free-for-all        \n5                              No Theme/Free-for-all        \n6                              No Theme/Free-for-all        \n7                                                NaN        ",
      "text/html": "<div>\n<style scoped>\n    .dataframe tbody tr th:only-of-type {\n        vertical-align: middle;\n    }\n\n    .dataframe tbody tr th {\n        vertical-align: top;\n    }\n\n    .dataframe thead th {\n        text-align: right;\n    }\n</style>\n<table border=\"1\" class=\"dataframe\">\n  <thead>\n    <tr style=\"text-align: right;\">\n      <th></th>\n      <th>Timestamp</th>\n      <th>Rank your movie choices. You don't have to do a full ranking. [First Choice]</th>\n      <th>Rank your movie choices. You don't have to do a full ranking. [Second Choice]</th>\n      <th>Rank your movie choices. You don't have to do a full ranking. [Third Choice]</th>\n      <th>Rank your movie choices. You don't have to do a full ranking. [Fourth Choice]</th>\n      <th>Rank your movie choices. You don't have to do a full ranking. [Fifth Choice]</th>\n      <th>Rank your movie choices. You don't have to do a full ranking. [Sixth Choice]</th>\n      <th>What theme should we explore next week? [First Choice]</th>\n      <th>What theme should we explore next week? [Second Choice]</th>\n      <th>What theme should we explore next week? [Third Choice]</th>\n      <th>What theme should we explore next week? [Fourth Choice]</th>\n      <th>What theme should we explore next week? [Fifth Choice]</th>\n      <th>What theme should we explore next week? [Sixth Choice]</th>\n      <th>What theme should we explore next week? [Seventh Choice]</th>\n    </tr>\n  </thead>\n  <tbody>\n    <tr>\n      <th>0</th>\n      <td>10/14/2020 10:19:39</td>\n      <td>Fantastic Planet (1973)</td>\n      <td>Walkabout (1971)</td>\n      <td>The River Wild (1994)</td>\n      <td>Dersu Uzala (1975)</td>\n      <td>Hell in the Pacific (1968)</td>\n      <td>Shin Godzilla (2016)</td>\n      <td>TICKLING THE IVORIES</td>\n      <td>IRON CURTAIN</td>\n      <td>THE ARTIST IS AN ASSHOLE</td>\n      <td>HERZOGAPOOLZA</td>\n      <td>ROMANCE IS DEAD: GOTHS ON FILM</td>\n      <td>THE MOST DANGEROUS GAME</td>\n      <td>NaN</td>\n    </tr>\n    <tr>\n      <th>1</th>\n      <td>10/14/2020 10:46:52</td>\n      <td>Dersu Uzala (1975)</td>\n      <td>Walkabout (1971)</td>\n      <td>Fantastic Planet (1973)</td>\n      <td>Hell in the Pacific (1968)</td>\n      <td>The River Wild (1994)</td>\n      <td>NaN</td>\n      <td>HERZOGAPOOLZA</td>\n      <td>IRON CURTAIN</td>\n      <td>THE ARTIST IS AN ASSHOLE</td>\n      <td>TICKLING THE IVORIES</td>\n      <td>THE MOST DANGEROUS GAME</td>\n      <td>ROMANCE IS DEAD: GOTHS ON FILM</td>\n      <td>No Theme/Free-for-all</td>\n    </tr>\n    <tr>\n      <th>2</th>\n      <td>10/14/2020 14:50:42</td>\n      <td>The River Wild (1994)</td>\n      <td>Hell in the Pacific (1968)</td>\n      <td>Dersu Uzala (1975)</td>\n      <td>Fantastic Planet (1973)</td>\n      <td>Shin Godzilla (2016)</td>\n      <td>Walkabout (1971)</td>\n      <td>ROMANCE IS DEAD: GOTHS ON FILM</td>\n      <td>THE MOST DANGEROUS GAME</td>\n      <td>IRON CURTAIN</td>\n      <td>TICKLING THE IVORIES</td>\n      <td>HERZOGAPOOLZA</td>\n      <td>THE ARTIST IS AN ASSHOLE</td>\n      <td>No Theme/Free-for-all</td>\n    </tr>\n    <tr>\n      <th>3</th>\n      <td>10/14/2020 14:54:33</td>\n      <td>Shin Godzilla (2016)</td>\n      <td>The River Wild (1994)</td>\n      <td>Hell in the Pacific (1968)</td>\n      <td>Dersu Uzala (1975)</td>\n      <td>Fantastic Planet (1973)</td>\n      <td>NaN</td>\n      <td>IRON CURTAIN</td>\n      <td>THE MOST DANGEROUS GAME</td>\n      <td>ROMANCE IS DEAD: GOTHS ON FILM</td>\n      <td>HERZOGAPOOLZA</td>\n      <td>THE ARTIST IS AN ASSHOLE</td>\n      <td>TICKLING THE IVORIES</td>\n      <td>NaN</td>\n    </tr>\n    <tr>\n      <th>4</th>\n      <td>10/14/2020 16:34:43</td>\n      <td>Dersu Uzala (1975)</td>\n      <td>Shin Godzilla (2016)</td>\n      <td>Hell in the Pacific (1968)</td>\n      <td>Walkabout (1971)</td>\n      <td>The River Wild (1994)</td>\n      <td>Fantastic Planet (1973)</td>\n      <td>THE ARTIST IS AN ASSHOLE</td>\n      <td>HERZOGAPOOLZA</td>\n      <td>THE MOST DANGEROUS GAME</td>\n      <td>ROMANCE IS DEAD: GOTHS ON FILM</td>\n      <td>IRON CURTAIN</td>\n      <td>TICKLING THE IVORIES</td>\n      <td>No Theme/Free-for-all</td>\n    </tr>\n    <tr>\n      <th>5</th>\n      <td>10/14/2020 19:51:07</td>\n      <td>Shin Godzilla (2016)</td>\n      <td>Hell in the Pacific (1968)</td>\n      <td>Walkabout (1971)</td>\n      <td>Dersu Uzala (1975)</td>\n      <td>The River Wild (1994)</td>\n      <td>Fantastic Planet (1973)</td>\n      <td>ROMANCE IS DEAD: GOTHS ON FILM</td>\n      <td>THE ARTIST IS AN ASSHOLE</td>\n      <td>TICKLING THE IVORIES</td>\n      <td>IRON CURTAIN</td>\n      <td>THE MOST DANGEROUS GAME</td>\n      <td>HERZOGAPOOLZA</td>\n      <td>No Theme/Free-for-all</td>\n    </tr>\n    <tr>\n      <th>6</th>\n      <td>10/14/2020 19:53:16</td>\n      <td>Shin Godzilla (2016)</td>\n      <td>Walkabout (1971)</td>\n      <td>The River Wild (1994)</td>\n      <td>Dersu Uzala (1975)</td>\n      <td>Hell in the Pacific (1968)</td>\n      <td>Fantastic Planet (1973)</td>\n      <td>THE MOST DANGEROUS GAME</td>\n      <td>THE ARTIST IS AN ASSHOLE</td>\n      <td>IRON CURTAIN</td>\n      <td>HERZOGAPOOLZA</td>\n      <td>ROMANCE IS DEAD: GOTHS ON FILM</td>\n      <td>TICKLING THE IVORIES</td>\n      <td>No Theme/Free-for-all</td>\n    </tr>\n    <tr>\n      <th>7</th>\n      <td>10/15/2020 14:52:13</td>\n      <td>Shin Godzilla (2016)</td>\n      <td>Walkabout (1971)</td>\n      <td>The River Wild (1994)</td>\n      <td>Hell in the Pacific (1968)</td>\n      <td>Dersu Uzala (1975)</td>\n      <td>Fantastic Planet (1973)</td>\n      <td>HERZOGAPOOLZA</td>\n      <td>IRON CURTAIN</td>\n      <td>THE MOST DANGEROUS GAME</td>\n      <td>ROMANCE IS DEAD: GOTHS ON FILM</td>\n      <td>THE ARTIST IS AN ASSHOLE</td>\n      <td>TICKLING THE IVORIES</td>\n      <td>NaN</td>\n    </tr>\n  </tbody>\n</table>\n</div>"
     },
     "execution_count": 2,
     "metadata": {},
     "output_type": "execute_result"
    }
   ],
   "source": [
    "df = pd.read_csv(Path('./data/20201018.csv').resolve())\n",
    "df"
   ]
  },
  {
   "cell_type": "code",
   "execution_count": 3,
   "metadata": {},
   "outputs": [],
   "source": [
    "just_ballots = df.loc[:, df.columns.str.startswith('Rank')]\n",
    "next_week = df.loc[:, df.columns.str.startswith('What')]"
   ]
  },
  {
   "cell_type": "code",
   "execution_count": 4,
   "metadata": {},
   "outputs": [
    {
     "data": {
      "text/plain": "array(['Fantastic Planet (1973)', 'Walkabout (1971)',\n       'The River Wild (1994)', 'Dersu Uzala (1975)',\n       'Hell in the Pacific (1968)', 'Shin Godzilla (2016)'], dtype=object)"
     },
     "execution_count": 4,
     "metadata": {},
     "output_type": "execute_result"
    }
   ],
   "source": [
    "submissions = just_ballots.loc[just_ballots.notna().all(axis=1).idxmax(),:].values\n",
    "submissions"
   ]
  },
  {
   "cell_type": "code",
   "execution_count": 5,
   "metadata": {},
   "outputs": [],
   "source": [
    "submission_dict = {submission: pyrankvote.Candidate(submission) for submission in submissions}"
   ]
  },
  {
   "cell_type": "code",
   "execution_count": 6,
   "metadata": {},
   "outputs": [],
   "source": [
    "balloted = just_ballots.applymap(lambda x: submission_dict[x] if isinstance(x, str) else x)"
   ]
  },
  {
   "cell_type": "code",
   "execution_count": 7,
   "metadata": {},
   "outputs": [
    {
     "data": {
      "text/plain": "{'Fantastic Planet (1973)': <Candidate('Fantastic Planet (1973)')>,\n 'Walkabout (1971)': <Candidate('Walkabout (1971)')>,\n 'The River Wild (1994)': <Candidate('The River Wild (1994)')>,\n 'Dersu Uzala (1975)': <Candidate('Dersu Uzala (1975)')>,\n 'Hell in the Pacific (1968)': <Candidate('Hell in the Pacific (1968)')>,\n 'Shin Godzilla (2016)': <Candidate('Shin Godzilla (2016)')>}"
     },
     "execution_count": 7,
     "metadata": {},
     "output_type": "execute_result"
    }
   ],
   "source": [
    "submission_dict"
   ]
  },
  {
   "cell_type": "code",
   "execution_count": 8,
   "metadata": {},
   "outputs": [],
   "source": [
    "ballots = []\n",
    "for ballot in balloted.itertuples():\n",
    "    ballots.append(pyrankvote.Ballot(ranked_candidates=[b for b in ballot if isinstance(b, pyrankvote.Candidate)]))"
   ]
  },
  {
   "cell_type": "code",
   "execution_count": 9,
   "metadata": {},
   "outputs": [
    {
     "data": {
      "text/plain": "[<Ballot(Fantastic Planet (1973), Walkabout (1971), The River Wild (1994), Dersu Uzala (1975), Hell in the Pacific (1968), Shin Godzilla (2016))>,\n <Ballot(Dersu Uzala (1975), Walkabout (1971), Fantastic Planet (1973), Hell in the Pacific (1968), The River Wild (1994))>,\n <Ballot(The River Wild (1994), Hell in the Pacific (1968), Dersu Uzala (1975), Fantastic Planet (1973), Shin Godzilla (2016), Walkabout (1971))>,\n <Ballot(Shin Godzilla (2016), The River Wild (1994), Hell in the Pacific (1968), Dersu Uzala (1975), Fantastic Planet (1973))>,\n <Ballot(Dersu Uzala (1975), Shin Godzilla (2016), Hell in the Pacific (1968), Walkabout (1971), The River Wild (1994), Fantastic Planet (1973))>,\n <Ballot(Shin Godzilla (2016), Hell in the Pacific (1968), Walkabout (1971), Dersu Uzala (1975), The River Wild (1994), Fantastic Planet (1973))>,\n <Ballot(Shin Godzilla (2016), Walkabout (1971), The River Wild (1994), Dersu Uzala (1975), Hell in the Pacific (1968), Fantastic Planet (1973))>,\n <Ballot(Shin Godzilla (2016), Walkabout (1971), The River Wild (1994), Hell in the Pacific (1968), Dersu Uzala (1975), Fantastic Planet (1973))>]"
     },
     "execution_count": 9,
     "metadata": {},
     "output_type": "execute_result"
    }
   ],
   "source": [
    "ballots"
   ]
  },
  {
   "cell_type": "code",
   "execution_count": 10,
   "metadata": {},
   "outputs": [],
   "source": [
    "election_result = pyrankvote.instant_runoff_voting(submission_dict.values(), ballots,)"
   ]
  },
  {
   "cell_type": "code",
   "execution_count": 11,
   "metadata": {},
   "outputs": [
    {
     "name": "stdout",
     "output_type": "stream",
     "text": [
      "FINAL RESULT\n",
      "Candidate                     Votes  Status\n",
      "--------------------------  -------  --------\n",
      "Shin Godzilla (2016)              4  Elected\n",
      "Dersu Uzala (1975)                2  Rejected\n",
      "The River Wild (1994)             1  Rejected\n",
      "Fantastic Planet (1973)           1  Rejected\n",
      "Walkabout (1971)                  0  Rejected\n",
      "Hell in the Pacific (1968)        0  Rejected\n",
      "\n"
     ]
    }
   ],
   "source": [
    "print(election_result)"
   ]
  },
  {
   "cell_type": "code",
   "execution_count": 12,
   "metadata": {},
   "outputs": [
    {
     "name": "stdout",
     "output_type": "stream",
     "text": [
      "ROUND 1\n",
      "Candidate                         Votes  Status\n",
      "------------------------------  -------  --------\n",
      "HERZOGAPOOLZA                         2  Hopeful\n",
      "ROMANCE IS DEAD: GOTHS ON FILM        2  Hopeful\n",
      "IRON CURTAIN                          1  Hopeful\n",
      "THE ARTIST IS AN ASSHOLE              1  Hopeful\n",
      "THE MOST DANGEROUS GAME               1  Hopeful\n",
      "TICKLING THE IVORIES                  1  Rejected\n",
      "No Theme/Free-for-all                 0  Rejected\n",
      "\n",
      "ROUND 2\n",
      "Candidate                         Votes  Status\n",
      "------------------------------  -------  --------\n",
      "IRON CURTAIN                          2  Hopeful\n",
      "HERZOGAPOOLZA                         2  Hopeful\n",
      "ROMANCE IS DEAD: GOTHS ON FILM        2  Hopeful\n",
      "THE ARTIST IS AN ASSHOLE              1  Rejected\n",
      "THE MOST DANGEROUS GAME               1  Rejected\n",
      "TICKLING THE IVORIES                  0  Rejected\n",
      "No Theme/Free-for-all                 0  Rejected\n",
      "\n",
      "ROUND 3\n",
      "Candidate                         Votes  Status\n",
      "------------------------------  -------  --------\n",
      "IRON CURTAIN                          3  Hopeful\n",
      "HERZOGAPOOLZA                         3  Hopeful\n",
      "ROMANCE IS DEAD: GOTHS ON FILM        2  Rejected\n",
      "THE ARTIST IS AN ASSHOLE              0  Rejected\n",
      "THE MOST DANGEROUS GAME               0  Rejected\n",
      "TICKLING THE IVORIES                  0  Rejected\n",
      "No Theme/Free-for-all                 0  Rejected\n",
      "\n",
      "FINAL RESULT\n",
      "Candidate                         Votes  Status\n",
      "------------------------------  -------  --------\n",
      "IRON CURTAIN                          5  Elected\n",
      "HERZOGAPOOLZA                         3  Rejected\n",
      "ROMANCE IS DEAD: GOTHS ON FILM        0  Rejected\n",
      "THE ARTIST IS AN ASSHOLE              0  Rejected\n",
      "THE MOST DANGEROUS GAME               0  Rejected\n",
      "TICKLING THE IVORIES                  0  Rejected\n",
      "No Theme/Free-for-all                 0  Rejected\n",
      "\n"
     ]
    }
   ],
   "source": [
    "submissions = next_week.loc[next_week.notna().all(axis=1).idxmax(),:].values\n",
    "submission_dict = {submission: pyrankvote.Candidate(submission) for submission in submissions}\n",
    "balloted = next_week.applymap(lambda x: submission_dict[x] if isinstance(x, str) else x)\n",
    "ballots = []\n",
    "for ballot in balloted.itertuples():\n",
    "    ballots.append(pyrankvote.Ballot(ranked_candidates=[b for b in ballot if isinstance(b, pyrankvote.Candidate)]))\n",
    "print(pyrankvote.instant_runoff_voting(submission_dict.values(), ballots,))"
   ]
  }
 ],
 "metadata": {
  "kernelspec": {
   "display_name": "Python 3",
   "language": "python",
   "name": "python3"
  },
  "language_info": {
   "codemirror_mode": {
    "name": "ipython",
    "version": 3
   },
   "file_extension": ".py",
   "mimetype": "text/x-python",
   "name": "python",
   "nbconvert_exporter": "python",
   "pygments_lexer": "ipython3",
   "version": "3.7.4"
  }
 },
 "nbformat": 4,
 "nbformat_minor": 2
}