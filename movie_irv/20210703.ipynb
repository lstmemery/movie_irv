{
 "cells": [
  {
   "cell_type": "code",
   "execution_count": 1,
   "metadata": {},
   "outputs": [],
   "source": [
    "import pandas as pd\n",
    "import pyrankvote\n",
    "from pathlib import Path\n",
    "from random import seed\n",
    "seed(252)"
   ]
  },
  {
   "cell_type": "code",
   "execution_count": 2,
   "metadata": {},
   "outputs": [
    {
     "data": {
      "text/plain": "             Timestamp  \\\n0  30/06/2021 04:20:35   \n1  30/06/2021 05:53:33   \n2  30/06/2021 14:13:16   \n3  30/06/2021 21:02:24   \n4  01/07/2021 23:11:48   \n\n  Rank your movie choices. You don't have to do a full ranking. [First Choice]  \\\n0                                   Umberto D (1952)                             \n1                                   Umberto D (1952)                             \n2                           Dunston Checks In (1996)                             \n3                              Black Stallion (1979)                             \n4                              Black Stallion (1979)                             \n\n  Rank your movie choices. You don't have to do a full ranking. [Second Choice]  \\\n0                           Dunston Checks In (1996)                              \n1                              Black Stallion (1979)                              \n2                              Black Stallion (1979)                              \n3                                   Umberto D (1952)                              \n4                           Dunston Checks In (1996)                              \n\n  Rank your movie choices. You don't have to do a full ranking. [Third Choice]  \\\n0                              Black Stallion (1979)                             \n1                           Dunston Checks In (1996)                             \n2                                   Umberto D (1952)                             \n3                           Dunston Checks In (1996)                             \n4                                   Umberto D (1952)                             \n\n  What theme should we explore next week? [First Choice]  \\\n0                                      BAD PARENTING       \n1                                   IT WAS THE 90'S!       \n2               LIVING LIFE A QUARTER MILE AT A TIME       \n3                                      BAD PARENTING       \n4                                   IT WAS THE 90'S!       \n\n  What theme should we explore next week? [Second Choice]  \\\n0                                   IT WAS THE 90'S!        \n1                          [Default to Nicolas Cage]        \n2                                   IT WAS THE 90'S!        \n3                                   IT WAS THE 90'S!        \n4                                      BAD PARENTING        \n\n  What theme should we explore next week? [Third Choice]  \\\n0               LIVING LIFE A QUARTER MILE AT A TIME       \n1                                      BAD PARENTING       \n2                                      BAD PARENTING       \n3               LIVING LIFE A QUARTER MILE AT A TIME       \n4               LIVING LIFE A QUARTER MILE AT A TIME       \n\n  What theme should we explore next week? [Fourth Choice]  \n0                          [Default to Nicolas Cage]       \n1               LIVING LIFE A QUARTER MILE AT A TIME       \n2                          [Default to Nicolas Cage]       \n3                          [Default to Nicolas Cage]       \n4                          [Default to Nicolas Cage]       ",
      "text/html": "<div>\n<style scoped>\n    .dataframe tbody tr th:only-of-type {\n        vertical-align: middle;\n    }\n\n    .dataframe tbody tr th {\n        vertical-align: top;\n    }\n\n    .dataframe thead th {\n        text-align: right;\n    }\n</style>\n<table border=\"1\" class=\"dataframe\">\n  <thead>\n    <tr style=\"text-align: right;\">\n      <th></th>\n      <th>Timestamp</th>\n      <th>Rank your movie choices. You don't have to do a full ranking. [First Choice]</th>\n      <th>Rank your movie choices. You don't have to do a full ranking. [Second Choice]</th>\n      <th>Rank your movie choices. You don't have to do a full ranking. [Third Choice]</th>\n      <th>What theme should we explore next week? [First Choice]</th>\n      <th>What theme should we explore next week? [Second Choice]</th>\n      <th>What theme should we explore next week? [Third Choice]</th>\n      <th>What theme should we explore next week? [Fourth Choice]</th>\n    </tr>\n  </thead>\n  <tbody>\n    <tr>\n      <th>0</th>\n      <td>30/06/2021 04:20:35</td>\n      <td>Umberto D (1952)</td>\n      <td>Dunston Checks In (1996)</td>\n      <td>Black Stallion (1979)</td>\n      <td>BAD PARENTING</td>\n      <td>IT WAS THE 90'S!</td>\n      <td>LIVING LIFE A QUARTER MILE AT A TIME</td>\n      <td>[Default to Nicolas Cage]</td>\n    </tr>\n    <tr>\n      <th>1</th>\n      <td>30/06/2021 05:53:33</td>\n      <td>Umberto D (1952)</td>\n      <td>Black Stallion (1979)</td>\n      <td>Dunston Checks In (1996)</td>\n      <td>IT WAS THE 90'S!</td>\n      <td>[Default to Nicolas Cage]</td>\n      <td>BAD PARENTING</td>\n      <td>LIVING LIFE A QUARTER MILE AT A TIME</td>\n    </tr>\n    <tr>\n      <th>2</th>\n      <td>30/06/2021 14:13:16</td>\n      <td>Dunston Checks In (1996)</td>\n      <td>Black Stallion (1979)</td>\n      <td>Umberto D (1952)</td>\n      <td>LIVING LIFE A QUARTER MILE AT A TIME</td>\n      <td>IT WAS THE 90'S!</td>\n      <td>BAD PARENTING</td>\n      <td>[Default to Nicolas Cage]</td>\n    </tr>\n    <tr>\n      <th>3</th>\n      <td>30/06/2021 21:02:24</td>\n      <td>Black Stallion (1979)</td>\n      <td>Umberto D (1952)</td>\n      <td>Dunston Checks In (1996)</td>\n      <td>BAD PARENTING</td>\n      <td>IT WAS THE 90'S!</td>\n      <td>LIVING LIFE A QUARTER MILE AT A TIME</td>\n      <td>[Default to Nicolas Cage]</td>\n    </tr>\n    <tr>\n      <th>4</th>\n      <td>01/07/2021 23:11:48</td>\n      <td>Black Stallion (1979)</td>\n      <td>Dunston Checks In (1996)</td>\n      <td>Umberto D (1952)</td>\n      <td>IT WAS THE 90'S!</td>\n      <td>BAD PARENTING</td>\n      <td>LIVING LIFE A QUARTER MILE AT A TIME</td>\n      <td>[Default to Nicolas Cage]</td>\n    </tr>\n  </tbody>\n</table>\n</div>"
     },
     "execution_count": 2,
     "metadata": {},
     "output_type": "execute_result"
    }
   ],
   "source": [
    "df = pd.read_csv(Path('./data/20210703.csv').resolve())\n",
    "df"
   ]
  },
  {
   "cell_type": "code",
   "execution_count": 3,
   "metadata": {},
   "outputs": [],
   "source": [
    "just_ballots = df.loc[:, df.columns.str.startswith('Rank')]\n",
    "next_week = df.loc[:, df.columns.str.startswith('What')]"
   ]
  },
  {
   "cell_type": "code",
   "execution_count": 4,
   "metadata": {},
   "outputs": [
    {
     "data": {
      "text/plain": "array(['Umberto D (1952)', 'Dunston Checks In (1996)',\n       'Black Stallion (1979)'], dtype=object)"
     },
     "execution_count": 4,
     "metadata": {},
     "output_type": "execute_result"
    }
   ],
   "source": [
    "submissions = just_ballots.loc[just_ballots.notna().all(axis=1).idxmax(),:].values\n",
    "submissions"
   ]
  },
  {
   "cell_type": "code",
   "execution_count": 5,
   "metadata": {},
   "outputs": [],
   "source": [
    "submission_dict = {submission: pyrankvote.Candidate(submission) for submission in submissions}"
   ]
  },
  {
   "cell_type": "code",
   "execution_count": 6,
   "metadata": {},
   "outputs": [],
   "source": [
    "balloted = just_ballots.applymap(lambda x: submission_dict[x] if isinstance(x, str) else x)"
   ]
  },
  {
   "cell_type": "code",
   "execution_count": 7,
   "metadata": {},
   "outputs": [
    {
     "data": {
      "text/plain": "{'Umberto D (1952)': <Candidate('Umberto D (1952)')>,\n 'Dunston Checks In (1996)': <Candidate('Dunston Checks In (1996)')>,\n 'Black Stallion (1979)': <Candidate('Black Stallion (1979)')>}"
     },
     "execution_count": 7,
     "metadata": {},
     "output_type": "execute_result"
    }
   ],
   "source": [
    "submission_dict"
   ]
  },
  {
   "cell_type": "code",
   "execution_count": 8,
   "metadata": {},
   "outputs": [],
   "source": [
    "ballots = []\n",
    "for ballot in balloted.itertuples():\n",
    "    ballots.append(pyrankvote.Ballot(ranked_candidates=[b for b in ballot if isinstance(b, pyrankvote.Candidate)]))"
   ]
  },
  {
   "cell_type": "code",
   "execution_count": 9,
   "metadata": {},
   "outputs": [
    {
     "data": {
      "text/plain": "[<Ballot(Umberto D (1952), Dunston Checks In (1996), Black Stallion (1979))>,\n <Ballot(Umberto D (1952), Black Stallion (1979), Dunston Checks In (1996))>,\n <Ballot(Dunston Checks In (1996), Black Stallion (1979), Umberto D (1952))>,\n <Ballot(Black Stallion (1979), Umberto D (1952), Dunston Checks In (1996))>,\n <Ballot(Black Stallion (1979), Dunston Checks In (1996), Umberto D (1952))>]"
     },
     "execution_count": 9,
     "metadata": {},
     "output_type": "execute_result"
    }
   ],
   "source": [
    "ballots"
   ]
  },
  {
   "cell_type": "code",
   "execution_count": 10,
   "metadata": {},
   "outputs": [],
   "source": [
    "election_result = pyrankvote.instant_runoff_voting(submission_dict.values(), ballots,)"
   ]
  },
  {
   "cell_type": "code",
   "execution_count": 11,
   "metadata": {},
   "outputs": [
    {
     "name": "stdout",
     "output_type": "stream",
     "text": [
      "ROUND 1\n",
      "Candidate                   Votes  Status\n",
      "------------------------  -------  --------\n",
      "Black Stallion (1979)           2  Hopeful\n",
      "Umberto D (1952)                2  Hopeful\n",
      "Dunston Checks In (1996)        1  Rejected\n",
      "\n",
      "FINAL RESULT\n",
      "Candidate                   Votes  Status\n",
      "------------------------  -------  --------\n",
      "Black Stallion (1979)           3  Elected\n",
      "Umberto D (1952)                2  Rejected\n",
      "Dunston Checks In (1996)        0  Rejected\n",
      "\n"
     ]
    }
   ],
   "source": [
    "print(election_result)"
   ]
  },
  {
   "cell_type": "code",
   "execution_count": 12,
   "metadata": {},
   "outputs": [
    {
     "name": "stdout",
     "output_type": "stream",
     "text": [
      "ROUND 1\n",
      "Candidate                               Votes  Status\n",
      "------------------------------------  -------  --------\n",
      "IT WAS THE 90'S!                            2  Hopeful\n",
      "BAD PARENTING                               2  Hopeful\n",
      "LIVING LIFE A QUARTER MILE AT A TIME        1  Rejected\n",
      "[Default to Nicolas Cage]                   0  Rejected\n",
      "\n",
      "FINAL RESULT\n",
      "Candidate                               Votes  Status\n",
      "------------------------------------  -------  --------\n",
      "IT WAS THE 90'S!                            3  Elected\n",
      "BAD PARENTING                               2  Rejected\n",
      "LIVING LIFE A QUARTER MILE AT A TIME        0  Rejected\n",
      "[Default to Nicolas Cage]                   0  Rejected\n",
      "\n"
     ]
    }
   ],
   "source": [
    "submissions = next_week.loc[next_week.notna().all(axis=1).idxmax(),:].values\n",
    "submission_dict = {submission: pyrankvote.Candidate(submission) for submission in submissions}\n",
    "balloted = next_week.applymap(lambda x: submission_dict[x] if isinstance(x, str) else x)\n",
    "ballots = []\n",
    "for ballot in balloted.itertuples():\n",
    "    ballots.append(pyrankvote.Ballot(ranked_candidates=[b for b in ballot if isinstance(b, pyrankvote.Candidate)]))\n",
    "print(pyrankvote.instant_runoff_voting(submission_dict.values(), ballots,))"
   ]
  }
 ],
 "metadata": {
  "kernelspec": {
   "display_name": "Python 3",
   "language": "python",
   "name": "python3"
  },
  "language_info": {
   "codemirror_mode": {
    "name": "ipython",
    "version": 3
   },
   "file_extension": ".py",
   "mimetype": "text/x-python",
   "name": "python",
   "nbconvert_exporter": "python",
   "pygments_lexer": "ipython3",
   "version": "3.7.4"
  }
 },
 "nbformat": 4,
 "nbformat_minor": 2
}