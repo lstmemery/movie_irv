{
 "cells": [
  {
   "cell_type": "code",
   "execution_count": 1,
   "metadata": {},
   "outputs": [],
   "source": [
    "import pandas as pd\n",
    "import pyrankvote\n",
    "from pathlib import Path\n",
    "from random import seed\n",
    "seed(252)"
   ]
  },
  {
   "cell_type": "code",
   "execution_count": 2,
   "metadata": {},
   "outputs": [
    {
     "data": {
      "text/plain": "             Timestamp  \\\n0  09/03/2021 17:59:51   \n1  09/03/2021 18:02:23   \n2  09/03/2021 18:12:54   \n3  09/03/2021 18:16:57   \n4  09/03/2021 18:29:01   \n5  10/03/2021 09:34:09   \n\n  Rank your movie choices. You don't have to do a full ranking. [First Choice]  \\\n0                 Samurai I: Musashi Miyamoto (1954)                             \n1                                        Dick (1999)                             \n2                        La Grande Vadrouille (1966)                             \n3                        La Grande Vadrouille (1966)                             \n4                        La Grande Vadrouille (1966)                             \n5                                        Dick (1999)                             \n\n  Rank your movie choices. You don't have to do a full ranking. [Second Choice]  \\\n0                        La Grande Vadrouille (1966)                              \n1                   What We Do in the Shadows (2014)                              \n2                   What We Do in the Shadows (2014)                              \n3                   What We Do in the Shadows (2014)                              \n4                 Samurai I: Musashi Miyamoto (1954)                              \n5                   What We Do in the Shadows (2014)                              \n\n  Rank your movie choices. You don't have to do a full ranking. [Third Choice]  \\\n0                                        Dick (1999)                             \n1                 Samurai I: Musashi Miyamoto (1954)                             \n2                 Samurai I: Musashi Miyamoto (1954)                             \n3                 Samurai I: Musashi Miyamoto (1954)                             \n4                                        Dick (1999)                             \n5                        La Grande Vadrouille (1966)                             \n\n  Rank your movie choices. You don't have to do a full ranking. [Fourth Choice]  \\\n0                                                NaN                              \n1                        La Grande Vadrouille (1966)                              \n2                                        Dick (1999)                              \n3                                        Dick (1999)                              \n4                   What We Do in the Shadows (2014)                              \n5                 Samurai I: Musashi Miyamoto (1954)                              \n\n  What theme should we explore next week? [First Choice]  \\\n0                                    MR BEAN-A-LIKES       \n1                               ANOTHER DOCUMENTARY!       \n2                               ANOTHER DOCUMENTARY!       \n3                               ANOTHER DOCUMENTARY!       \n4                                   THE BLACK MARKET       \n5                                    MR BEAN-A-LIKES       \n\n  What theme should we explore next week? [Second Choice]  \\\n0                               ANOTHER DOCUMENTARY!        \n1                          [Default to Nicolas Cage]        \n2                                    MR BEAN-A-LIKES        \n3                                    MR BEAN-A-LIKES        \n4                               ANOTHER DOCUMENTARY!        \n5                                   THE BLACK MARKET        \n\n  What theme should we explore next week? [Third Choice]  \\\n0                                   THE BLACK MARKET       \n1                                   THE BLACK MARKET       \n2                                   THE BLACK MARKET       \n3                          [Default to Nicolas Cage]       \n4                          [Default to Nicolas Cage]       \n5                               ANOTHER DOCUMENTARY!       \n\n  What theme should we explore next week? [Fourth Choice]  \n0                          [Default to Nicolas Cage]       \n1                                    MR BEAN-A-LIKES       \n2                          [Default to Nicolas Cage]       \n3                                   THE BLACK MARKET       \n4                                    MR BEAN-A-LIKES       \n5                          [Default to Nicolas Cage]       ",
      "text/html": "<div>\n<style scoped>\n    .dataframe tbody tr th:only-of-type {\n        vertical-align: middle;\n    }\n\n    .dataframe tbody tr th {\n        vertical-align: top;\n    }\n\n    .dataframe thead th {\n        text-align: right;\n    }\n</style>\n<table border=\"1\" class=\"dataframe\">\n  <thead>\n    <tr style=\"text-align: right;\">\n      <th></th>\n      <th>Timestamp</th>\n      <th>Rank your movie choices. You don't have to do a full ranking. [First Choice]</th>\n      <th>Rank your movie choices. You don't have to do a full ranking. [Second Choice]</th>\n      <th>Rank your movie choices. You don't have to do a full ranking. [Third Choice]</th>\n      <th>Rank your movie choices. You don't have to do a full ranking. [Fourth Choice]</th>\n      <th>What theme should we explore next week? [First Choice]</th>\n      <th>What theme should we explore next week? [Second Choice]</th>\n      <th>What theme should we explore next week? [Third Choice]</th>\n      <th>What theme should we explore next week? [Fourth Choice]</th>\n    </tr>\n  </thead>\n  <tbody>\n    <tr>\n      <th>0</th>\n      <td>09/03/2021 17:59:51</td>\n      <td>Samurai I: Musashi Miyamoto (1954)</td>\n      <td>La Grande Vadrouille (1966)</td>\n      <td>Dick (1999)</td>\n      <td>NaN</td>\n      <td>MR BEAN-A-LIKES</td>\n      <td>ANOTHER DOCUMENTARY!</td>\n      <td>THE BLACK MARKET</td>\n      <td>[Default to Nicolas Cage]</td>\n    </tr>\n    <tr>\n      <th>1</th>\n      <td>09/03/2021 18:02:23</td>\n      <td>Dick (1999)</td>\n      <td>What We Do in the Shadows (2014)</td>\n      <td>Samurai I: Musashi Miyamoto (1954)</td>\n      <td>La Grande Vadrouille (1966)</td>\n      <td>ANOTHER DOCUMENTARY!</td>\n      <td>[Default to Nicolas Cage]</td>\n      <td>THE BLACK MARKET</td>\n      <td>MR BEAN-A-LIKES</td>\n    </tr>\n    <tr>\n      <th>2</th>\n      <td>09/03/2021 18:12:54</td>\n      <td>La Grande Vadrouille (1966)</td>\n      <td>What We Do in the Shadows (2014)</td>\n      <td>Samurai I: Musashi Miyamoto (1954)</td>\n      <td>Dick (1999)</td>\n      <td>ANOTHER DOCUMENTARY!</td>\n      <td>MR BEAN-A-LIKES</td>\n      <td>THE BLACK MARKET</td>\n      <td>[Default to Nicolas Cage]</td>\n    </tr>\n    <tr>\n      <th>3</th>\n      <td>09/03/2021 18:16:57</td>\n      <td>La Grande Vadrouille (1966)</td>\n      <td>What We Do in the Shadows (2014)</td>\n      <td>Samurai I: Musashi Miyamoto (1954)</td>\n      <td>Dick (1999)</td>\n      <td>ANOTHER DOCUMENTARY!</td>\n      <td>MR BEAN-A-LIKES</td>\n      <td>[Default to Nicolas Cage]</td>\n      <td>THE BLACK MARKET</td>\n    </tr>\n    <tr>\n      <th>4</th>\n      <td>09/03/2021 18:29:01</td>\n      <td>La Grande Vadrouille (1966)</td>\n      <td>Samurai I: Musashi Miyamoto (1954)</td>\n      <td>Dick (1999)</td>\n      <td>What We Do in the Shadows (2014)</td>\n      <td>THE BLACK MARKET</td>\n      <td>ANOTHER DOCUMENTARY!</td>\n      <td>[Default to Nicolas Cage]</td>\n      <td>MR BEAN-A-LIKES</td>\n    </tr>\n    <tr>\n      <th>5</th>\n      <td>10/03/2021 09:34:09</td>\n      <td>Dick (1999)</td>\n      <td>What We Do in the Shadows (2014)</td>\n      <td>La Grande Vadrouille (1966)</td>\n      <td>Samurai I: Musashi Miyamoto (1954)</td>\n      <td>MR BEAN-A-LIKES</td>\n      <td>THE BLACK MARKET</td>\n      <td>ANOTHER DOCUMENTARY!</td>\n      <td>[Default to Nicolas Cage]</td>\n    </tr>\n  </tbody>\n</table>\n</div>"
     },
     "execution_count": 2,
     "metadata": {},
     "output_type": "execute_result"
    }
   ],
   "source": [
    "df = pd.read_csv(Path('./data/20210313.csv').resolve())\n",
    "df"
   ]
  },
  {
   "cell_type": "code",
   "execution_count": 3,
   "metadata": {},
   "outputs": [],
   "source": [
    "just_ballots = df.loc[:, df.columns.str.startswith('Rank')]\n",
    "next_week = df.loc[:, df.columns.str.startswith('What')]"
   ]
  },
  {
   "cell_type": "code",
   "execution_count": 4,
   "metadata": {},
   "outputs": [
    {
     "data": {
      "text/plain": "array(['Dick (1999)', 'What We Do in the Shadows (2014)',\n       'Samurai I: Musashi Miyamoto (1954)',\n       'La Grande Vadrouille (1966)'], dtype=object)"
     },
     "execution_count": 4,
     "metadata": {},
     "output_type": "execute_result"
    }
   ],
   "source": [
    "submissions = just_ballots.loc[just_ballots.notna().all(axis=1).idxmax(),:].values\n",
    "submissions"
   ]
  },
  {
   "cell_type": "code",
   "execution_count": 5,
   "metadata": {},
   "outputs": [],
   "source": [
    "submission_dict = {submission: pyrankvote.Candidate(submission) for submission in submissions}"
   ]
  },
  {
   "cell_type": "code",
   "execution_count": 6,
   "metadata": {},
   "outputs": [],
   "source": [
    "balloted = just_ballots.applymap(lambda x: submission_dict[x] if isinstance(x, str) else x)"
   ]
  },
  {
   "cell_type": "code",
   "execution_count": 7,
   "metadata": {},
   "outputs": [
    {
     "data": {
      "text/plain": "{'Dick (1999)': <Candidate('Dick (1999)')>,\n 'What We Do in the Shadows (2014)': <Candidate('What We Do in the Shadows (2014)')>,\n 'Samurai I: Musashi Miyamoto (1954)': <Candidate('Samurai I: Musashi Miyamoto (1954)')>,\n 'La Grande Vadrouille (1966)': <Candidate('La Grande Vadrouille (1966)')>}"
     },
     "execution_count": 7,
     "metadata": {},
     "output_type": "execute_result"
    }
   ],
   "source": [
    "submission_dict"
   ]
  },
  {
   "cell_type": "code",
   "execution_count": 8,
   "metadata": {},
   "outputs": [],
   "source": [
    "ballots = []\n",
    "for ballot in balloted.itertuples():\n",
    "    ballots.append(pyrankvote.Ballot(ranked_candidates=[b for b in ballot if isinstance(b, pyrankvote.Candidate)]))"
   ]
  },
  {
   "cell_type": "code",
   "execution_count": 9,
   "metadata": {},
   "outputs": [
    {
     "data": {
      "text/plain": "[<Ballot(Samurai I: Musashi Miyamoto (1954), La Grande Vadrouille (1966), Dick (1999))>,\n <Ballot(Dick (1999), What We Do in the Shadows (2014), Samurai I: Musashi Miyamoto (1954), La Grande Vadrouille (1966))>,\n <Ballot(La Grande Vadrouille (1966), What We Do in the Shadows (2014), Samurai I: Musashi Miyamoto (1954), Dick (1999))>,\n <Ballot(La Grande Vadrouille (1966), What We Do in the Shadows (2014), Samurai I: Musashi Miyamoto (1954), Dick (1999))>,\n <Ballot(La Grande Vadrouille (1966), Samurai I: Musashi Miyamoto (1954), Dick (1999), What We Do in the Shadows (2014))>,\n <Ballot(Dick (1999), What We Do in the Shadows (2014), La Grande Vadrouille (1966), Samurai I: Musashi Miyamoto (1954))>]"
     },
     "execution_count": 9,
     "metadata": {},
     "output_type": "execute_result"
    }
   ],
   "source": [
    "ballots"
   ]
  },
  {
   "cell_type": "code",
   "execution_count": 10,
   "metadata": {},
   "outputs": [],
   "source": [
    "election_result = pyrankvote.instant_runoff_voting(submission_dict.values(), ballots,)"
   ]
  },
  {
   "cell_type": "code",
   "execution_count": 11,
   "metadata": {},
   "outputs": [
    {
     "name": "stdout",
     "output_type": "stream",
     "text": [
      "FINAL RESULT\n",
      "Candidate                             Votes  Status\n",
      "----------------------------------  -------  --------\n",
      "La Grande Vadrouille (1966)               3  Elected\n",
      "Dick (1999)                               2  Rejected\n",
      "Samurai I: Musashi Miyamoto (1954)        1  Rejected\n",
      "What We Do in the Shadows (2014)          0  Rejected\n",
      "\n"
     ]
    }
   ],
   "source": [
    "print(election_result)"
   ]
  },
  {
   "cell_type": "code",
   "execution_count": 12,
   "metadata": {},
   "outputs": [
    {
     "name": "stdout",
     "output_type": "stream",
     "text": [
      "FINAL RESULT\n",
      "Candidate                    Votes  Status\n",
      "-------------------------  -------  --------\n",
      "ANOTHER DOCUMENTARY!             3  Elected\n",
      "MR BEAN-A-LIKES                  2  Rejected\n",
      "THE BLACK MARKET                 1  Rejected\n",
      "[Default to Nicolas Cage]        0  Rejected\n",
      "\n"
     ]
    }
   ],
   "source": [
    "submissions = next_week.loc[next_week.notna().all(axis=1).idxmax(),:].values\n",
    "submission_dict = {submission: pyrankvote.Candidate(submission) for submission in submissions}\n",
    "balloted = next_week.applymap(lambda x: submission_dict[x] if isinstance(x, str) else x)\n",
    "ballots = []\n",
    "for ballot in balloted.itertuples():\n",
    "    ballots.append(pyrankvote.Ballot(ranked_candidates=[b for b in ballot if isinstance(b, pyrankvote.Candidate)]))\n",
    "print(pyrankvote.instant_runoff_voting(submission_dict.values(), ballots,))"
   ]
  }
 ],
 "metadata": {
  "kernelspec": {
   "display_name": "Python 3",
   "language": "python",
   "name": "python3"
  },
  "language_info": {
   "codemirror_mode": {
    "name": "ipython",
    "version": 3
   },
   "file_extension": ".py",
   "mimetype": "text/x-python",
   "name": "python",
   "nbconvert_exporter": "python",
   "pygments_lexer": "ipython3",
   "version": "3.7.4"
  }
 },
 "nbformat": 4,
 "nbformat_minor": 2
}