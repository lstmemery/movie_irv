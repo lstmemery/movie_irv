{
 "cells": [
  {
   "cell_type": "code",
   "execution_count": 1,
   "metadata": {},
   "outputs": [],
   "source": [
    "import pandas as pd\n",
    "import pyrankvote\n",
    "from pathlib import Path\n",
    "from random import seed\n",
    "seed(252)"
   ]
  },
  {
   "cell_type": "code",
   "execution_count": 2,
   "metadata": {},
   "outputs": [
    {
     "data": {
      "text/plain": "             Timestamp  \\\n0  01/06/2021 19:14:17   \n1  01/06/2021 19:16:54   \n2  01/06/2021 19:17:46   \n3  01/06/2021 19:30:11   \n4  02/06/2021 19:01:07   \n5  03/06/2021 08:19:16   \n6  03/06/2021 08:27:31   \n\n  Rank your movie choices. You don't have to do a full ranking. [First Choice]  \\\n0                                  Sexy Beast (2000)                             \n1                                  Sexy Beast (2000)                             \n2                                  Sexy Beast (2000)                             \n3                                 Vanilla Sky (2001)                             \n4                                  Sexy Beast (2000)                             \n5          The Life Aquatic with Steve Zissou (2004)                             \n6                                     Swimfan (2002)                             \n\n  Rank your movie choices. You don't have to do a full ranking. [Second Choice]  \\\n0                                 Vanilla Sky (2001)                              \n1                                     Swimfan (2002)                              \n2                                  Rollerball (2002)                              \n3                                     Swimfan (2002)                              \n4          The Life Aquatic with Steve Zissou (2004)                              \n5                                     Swimfan (2002)                              \n6                                  Sexy Beast (2000)                              \n\n  Rank your movie choices. You don't have to do a full ranking. [Third Choice]  \\\n0                                                NaN                             \n1                                 Vanilla Sky (2001)                             \n2          The Life Aquatic with Steve Zissou (2004)                             \n3                                  Sexy Beast (2000)                             \n4                                     Swimfan (2002)                             \n5                                  Rollerball (2002)                             \n6                                 Vanilla Sky (2001)                             \n\n  Rank your movie choices. You don't have to do a full ranking. [Fourth Choice]  \\\n0                                                NaN                              \n1                                  Rollerball (2002)                              \n2                                     Swimfan (2002)                              \n3                                  Rollerball (2002)                              \n4                                  Rollerball (2002)                              \n5                                 Vanilla Sky (2001)                              \n6          The Life Aquatic with Steve Zissou (2004)                              \n\n  Rank your movie choices. You don't have to do a full ranking. [Fifth Choice]  \\\n0                                                NaN                             \n1          The Life Aquatic with Steve Zissou (2004)                             \n2                                 Vanilla Sky (2001)                             \n3          The Life Aquatic with Steve Zissou (2004)                             \n4                                 Vanilla Sky (2001)                             \n5                                                NaN                             \n6                                  Rollerball (2002)                             \n\n  What theme should we explore next week? [First Choice]  \\\n0                             LOSE YOURSELF TO DANCE       \n1                                     TAKESHI KITANO       \n2                                              ANIME       \n3                                 PRIDE MONTH, BITCH       \n4                                              ANIME       \n5                                              1960s       \n6                                              ANIME       \n\n  What theme should we explore next week? [Second Choice]  \\\n0                                              1960s        \n1                    MAKING AN ASS OUT OF YOU AND ME        \n2                                     TAKESHI KITANO        \n3                    MAKING AN ASS OUT OF YOU AND ME        \n4                    MAKING AN ASS OUT OF YOU AND ME        \n5                                     TAKESHI KITANO        \n6                                 PRIDE MONTH, BITCH        \n\n  What theme should we explore next week? [Third Choice]  \\\n0                                              ANIME       \n1                                              ANIME       \n2                          [Default to Nicolas Cage]       \n3                          [Default to Nicolas Cage]       \n4                             LOSE YOURSELF TO DANCE       \n5                    MAKING AN ASS OUT OF YOU AND ME       \n6                             LOSE YOURSELF TO DANCE       \n\n  What theme should we explore next week? [Fourth Choice]  \\\n0                                     TAKESHI KITANO        \n1                                              1960s        \n2                    MAKING AN ASS OUT OF YOU AND ME        \n3                                              1960s        \n4                                              1960s        \n5                          [Default to Nicolas Cage]        \n6                                              1960s        \n\n  What theme should we explore next week? [Fifth Choice]  \\\n0                                 PRIDE MONTH, BITCH       \n1                             LOSE YOURSELF TO DANCE       \n2                             LOSE YOURSELF TO DANCE       \n3                                              ANIME       \n4                                     TAKESHI KITANO       \n5                                                NaN       \n6                                                NaN       \n\n  What theme should we explore next week? [Sixth Choice]  \\\n0                    MAKING AN ASS OUT OF YOU AND ME       \n1                                 PRIDE MONTH, BITCH       \n2                                              1960s       \n3                                     TAKESHI KITANO       \n4                                 PRIDE MONTH, BITCH       \n5                                                NaN       \n6                                                NaN       \n\n  What theme should we explore next week? [Seventh Choice]  \n0                          [Default to Nicolas Cage]        \n1                          [Default to Nicolas Cage]        \n2                                 PRIDE MONTH, BITCH        \n3                             LOSE YOURSELF TO DANCE        \n4                          [Default to Nicolas Cage]        \n5                                                NaN        \n6                                                NaN        ",
      "text/html": "<div>\n<style scoped>\n    .dataframe tbody tr th:only-of-type {\n        vertical-align: middle;\n    }\n\n    .dataframe tbody tr th {\n        vertical-align: top;\n    }\n\n    .dataframe thead th {\n        text-align: right;\n    }\n</style>\n<table border=\"1\" class=\"dataframe\">\n  <thead>\n    <tr style=\"text-align: right;\">\n      <th></th>\n      <th>Timestamp</th>\n      <th>Rank your movie choices. You don't have to do a full ranking. [First Choice]</th>\n      <th>Rank your movie choices. You don't have to do a full ranking. [Second Choice]</th>\n      <th>Rank your movie choices. You don't have to do a full ranking. [Third Choice]</th>\n      <th>Rank your movie choices. You don't have to do a full ranking. [Fourth Choice]</th>\n      <th>Rank your movie choices. You don't have to do a full ranking. [Fifth Choice]</th>\n      <th>What theme should we explore next week? [First Choice]</th>\n      <th>What theme should we explore next week? [Second Choice]</th>\n      <th>What theme should we explore next week? [Third Choice]</th>\n      <th>What theme should we explore next week? [Fourth Choice]</th>\n      <th>What theme should we explore next week? [Fifth Choice]</th>\n      <th>What theme should we explore next week? [Sixth Choice]</th>\n      <th>What theme should we explore next week? [Seventh Choice]</th>\n    </tr>\n  </thead>\n  <tbody>\n    <tr>\n      <th>0</th>\n      <td>01/06/2021 19:14:17</td>\n      <td>Sexy Beast (2000)</td>\n      <td>Vanilla Sky (2001)</td>\n      <td>NaN</td>\n      <td>NaN</td>\n      <td>NaN</td>\n      <td>LOSE YOURSELF TO DANCE</td>\n      <td>1960s</td>\n      <td>ANIME</td>\n      <td>TAKESHI KITANO</td>\n      <td>PRIDE MONTH, BITCH</td>\n      <td>MAKING AN ASS OUT OF YOU AND ME</td>\n      <td>[Default to Nicolas Cage]</td>\n    </tr>\n    <tr>\n      <th>1</th>\n      <td>01/06/2021 19:16:54</td>\n      <td>Sexy Beast (2000)</td>\n      <td>Swimfan (2002)</td>\n      <td>Vanilla Sky (2001)</td>\n      <td>Rollerball (2002)</td>\n      <td>The Life Aquatic with Steve Zissou (2004)</td>\n      <td>TAKESHI KITANO</td>\n      <td>MAKING AN ASS OUT OF YOU AND ME</td>\n      <td>ANIME</td>\n      <td>1960s</td>\n      <td>LOSE YOURSELF TO DANCE</td>\n      <td>PRIDE MONTH, BITCH</td>\n      <td>[Default to Nicolas Cage]</td>\n    </tr>\n    <tr>\n      <th>2</th>\n      <td>01/06/2021 19:17:46</td>\n      <td>Sexy Beast (2000)</td>\n      <td>Rollerball (2002)</td>\n      <td>The Life Aquatic with Steve Zissou (2004)</td>\n      <td>Swimfan (2002)</td>\n      <td>Vanilla Sky (2001)</td>\n      <td>ANIME</td>\n      <td>TAKESHI KITANO</td>\n      <td>[Default to Nicolas Cage]</td>\n      <td>MAKING AN ASS OUT OF YOU AND ME</td>\n      <td>LOSE YOURSELF TO DANCE</td>\n      <td>1960s</td>\n      <td>PRIDE MONTH, BITCH</td>\n    </tr>\n    <tr>\n      <th>3</th>\n      <td>01/06/2021 19:30:11</td>\n      <td>Vanilla Sky (2001)</td>\n      <td>Swimfan (2002)</td>\n      <td>Sexy Beast (2000)</td>\n      <td>Rollerball (2002)</td>\n      <td>The Life Aquatic with Steve Zissou (2004)</td>\n      <td>PRIDE MONTH, BITCH</td>\n      <td>MAKING AN ASS OUT OF YOU AND ME</td>\n      <td>[Default to Nicolas Cage]</td>\n      <td>1960s</td>\n      <td>ANIME</td>\n      <td>TAKESHI KITANO</td>\n      <td>LOSE YOURSELF TO DANCE</td>\n    </tr>\n    <tr>\n      <th>4</th>\n      <td>02/06/2021 19:01:07</td>\n      <td>Sexy Beast (2000)</td>\n      <td>The Life Aquatic with Steve Zissou (2004)</td>\n      <td>Swimfan (2002)</td>\n      <td>Rollerball (2002)</td>\n      <td>Vanilla Sky (2001)</td>\n      <td>ANIME</td>\n      <td>MAKING AN ASS OUT OF YOU AND ME</td>\n      <td>LOSE YOURSELF TO DANCE</td>\n      <td>1960s</td>\n      <td>TAKESHI KITANO</td>\n      <td>PRIDE MONTH, BITCH</td>\n      <td>[Default to Nicolas Cage]</td>\n    </tr>\n    <tr>\n      <th>5</th>\n      <td>03/06/2021 08:19:16</td>\n      <td>The Life Aquatic with Steve Zissou (2004)</td>\n      <td>Swimfan (2002)</td>\n      <td>Rollerball (2002)</td>\n      <td>Vanilla Sky (2001)</td>\n      <td>NaN</td>\n      <td>1960s</td>\n      <td>TAKESHI KITANO</td>\n      <td>MAKING AN ASS OUT OF YOU AND ME</td>\n      <td>[Default to Nicolas Cage]</td>\n      <td>NaN</td>\n      <td>NaN</td>\n      <td>NaN</td>\n    </tr>\n    <tr>\n      <th>6</th>\n      <td>03/06/2021 08:27:31</td>\n      <td>Swimfan (2002)</td>\n      <td>Sexy Beast (2000)</td>\n      <td>Vanilla Sky (2001)</td>\n      <td>The Life Aquatic with Steve Zissou (2004)</td>\n      <td>Rollerball (2002)</td>\n      <td>ANIME</td>\n      <td>PRIDE MONTH, BITCH</td>\n      <td>LOSE YOURSELF TO DANCE</td>\n      <td>1960s</td>\n      <td>NaN</td>\n      <td>NaN</td>\n      <td>NaN</td>\n    </tr>\n  </tbody>\n</table>\n</div>"
     },
     "execution_count": 2,
     "metadata": {},
     "output_type": "execute_result"
    }
   ],
   "source": [
    "df = pd.read_csv(Path('./data/20210605.csv').resolve())\n",
    "df"
   ]
  },
  {
   "cell_type": "code",
   "execution_count": 3,
   "metadata": {},
   "outputs": [],
   "source": [
    "just_ballots = df.loc[:, df.columns.str.startswith('Rank')]\n",
    "next_week = df.loc[:, df.columns.str.startswith('What')]"
   ]
  },
  {
   "cell_type": "code",
   "execution_count": 4,
   "metadata": {},
   "outputs": [
    {
     "data": {
      "text/plain": "array(['Sexy Beast (2000)', 'Swimfan (2002)', 'Vanilla Sky (2001)',\n       'Rollerball (2002)', 'The Life Aquatic with Steve Zissou (2004)'],\n      dtype=object)"
     },
     "execution_count": 4,
     "metadata": {},
     "output_type": "execute_result"
    }
   ],
   "source": [
    "submissions = just_ballots.loc[just_ballots.notna().all(axis=1).idxmax(),:].values\n",
    "submissions"
   ]
  },
  {
   "cell_type": "code",
   "execution_count": 5,
   "metadata": {},
   "outputs": [],
   "source": [
    "submission_dict = {submission: pyrankvote.Candidate(submission) for submission in submissions}"
   ]
  },
  {
   "cell_type": "code",
   "execution_count": 6,
   "metadata": {},
   "outputs": [],
   "source": [
    "balloted = just_ballots.applymap(lambda x: submission_dict[x] if isinstance(x, str) else x)"
   ]
  },
  {
   "cell_type": "code",
   "execution_count": 7,
   "metadata": {},
   "outputs": [
    {
     "data": {
      "text/plain": "{'Sexy Beast (2000)': <Candidate('Sexy Beast (2000)')>,\n 'Swimfan (2002)': <Candidate('Swimfan (2002)')>,\n 'Vanilla Sky (2001)': <Candidate('Vanilla Sky (2001)')>,\n 'Rollerball (2002)': <Candidate('Rollerball (2002)')>,\n 'The Life Aquatic with Steve Zissou (2004)': <Candidate('The Life Aquatic with Steve Zissou (2004)')>}"
     },
     "execution_count": 7,
     "metadata": {},
     "output_type": "execute_result"
    }
   ],
   "source": [
    "submission_dict"
   ]
  },
  {
   "cell_type": "code",
   "execution_count": 8,
   "metadata": {},
   "outputs": [],
   "source": [
    "ballots = []\n",
    "for ballot in balloted.itertuples():\n",
    "    ballots.append(pyrankvote.Ballot(ranked_candidates=[b for b in ballot if isinstance(b, pyrankvote.Candidate)]))"
   ]
  },
  {
   "cell_type": "code",
   "execution_count": 9,
   "metadata": {},
   "outputs": [
    {
     "data": {
      "text/plain": "[<Ballot(Sexy Beast (2000), Vanilla Sky (2001))>,\n <Ballot(Sexy Beast (2000), Swimfan (2002), Vanilla Sky (2001), Rollerball (2002), The Life Aquatic with Steve Zissou (2004))>,\n <Ballot(Sexy Beast (2000), Rollerball (2002), The Life Aquatic with Steve Zissou (2004), Swimfan (2002), Vanilla Sky (2001))>,\n <Ballot(Vanilla Sky (2001), Swimfan (2002), Sexy Beast (2000), Rollerball (2002), The Life Aquatic with Steve Zissou (2004))>,\n <Ballot(Sexy Beast (2000), The Life Aquatic with Steve Zissou (2004), Swimfan (2002), Rollerball (2002), Vanilla Sky (2001))>,\n <Ballot(The Life Aquatic with Steve Zissou (2004), Swimfan (2002), Rollerball (2002), Vanilla Sky (2001))>,\n <Ballot(Swimfan (2002), Sexy Beast (2000), Vanilla Sky (2001), The Life Aquatic with Steve Zissou (2004), Rollerball (2002))>]"
     },
     "execution_count": 9,
     "metadata": {},
     "output_type": "execute_result"
    }
   ],
   "source": [
    "ballots"
   ]
  },
  {
   "cell_type": "code",
   "execution_count": 10,
   "metadata": {},
   "outputs": [],
   "source": [
    "election_result = pyrankvote.instant_runoff_voting(submission_dict.values(), ballots,)"
   ]
  },
  {
   "cell_type": "code",
   "execution_count": 11,
   "metadata": {},
   "outputs": [
    {
     "name": "stdout",
     "output_type": "stream",
     "text": [
      "ROUND 1\n",
      "Candidate                                    Votes  Status\n",
      "-----------------------------------------  -------  --------\n",
      "Sexy Beast (2000)                                4  Hopeful\n",
      "Vanilla Sky (2001)                               1  Hopeful\n",
      "Swimfan (2002)                                   1  Rejected\n",
      "The Life Aquatic with Steve Zissou (2004)        1  Rejected\n",
      "Rollerball (2002)                                0  Rejected\n",
      "\n",
      "FINAL RESULT\n",
      "Candidate                                    Votes  Status\n",
      "-----------------------------------------  -------  --------\n",
      "Sexy Beast (2000)                                5  Elected\n",
      "Vanilla Sky (2001)                               2  Rejected\n",
      "Swimfan (2002)                                   0  Rejected\n",
      "The Life Aquatic with Steve Zissou (2004)        0  Rejected\n",
      "Rollerball (2002)                                0  Rejected\n",
      "\n"
     ]
    }
   ],
   "source": [
    "print(election_result)"
   ]
  },
  {
   "cell_type": "code",
   "execution_count": 12,
   "metadata": {},
   "outputs": [
    {
     "name": "stdout",
     "output_type": "stream",
     "text": [
      "ROUND 1\n",
      "Candidate                          Votes  Status\n",
      "-------------------------------  -------  --------\n",
      "ANIME                                  3  Hopeful\n",
      "TAKESHI KITANO                         1  Hopeful\n",
      "1960s                                  1  Hopeful\n",
      "PRIDE MONTH, BITCH                     1  Hopeful\n",
      "LOSE YOURSELF TO DANCE                 1  Rejected\n",
      "MAKING AN ASS OUT OF YOU AND ME        0  Rejected\n",
      "[Default to Nicolas Cage]              0  Rejected\n",
      "\n",
      "ROUND 2\n",
      "Candidate                          Votes  Status\n",
      "-------------------------------  -------  --------\n",
      "ANIME                                  3  Hopeful\n",
      "1960s                                  2  Hopeful\n",
      "TAKESHI KITANO                         1  Rejected\n",
      "PRIDE MONTH, BITCH                     1  Rejected\n",
      "LOSE YOURSELF TO DANCE                 0  Rejected\n",
      "MAKING AN ASS OUT OF YOU AND ME        0  Rejected\n",
      "[Default to Nicolas Cage]              0  Rejected\n",
      "\n",
      "FINAL RESULT\n",
      "Candidate                          Votes  Status\n",
      "-------------------------------  -------  --------\n",
      "ANIME                                  4  Elected\n",
      "1960s                                  3  Rejected\n",
      "TAKESHI KITANO                         0  Rejected\n",
      "PRIDE MONTH, BITCH                     0  Rejected\n",
      "LOSE YOURSELF TO DANCE                 0  Rejected\n",
      "MAKING AN ASS OUT OF YOU AND ME        0  Rejected\n",
      "[Default to Nicolas Cage]              0  Rejected\n",
      "\n"
     ]
    }
   ],
   "source": [
    "submissions = next_week.loc[next_week.notna().all(axis=1).idxmax(),:].values\n",
    "submission_dict = {submission: pyrankvote.Candidate(submission) for submission in submissions}\n",
    "balloted = next_week.applymap(lambda x: submission_dict[x] if isinstance(x, str) else x)\n",
    "ballots = []\n",
    "for ballot in balloted.itertuples():\n",
    "    ballots.append(pyrankvote.Ballot(ranked_candidates=[b for b in ballot if isinstance(b, pyrankvote.Candidate)]))\n",
    "print(pyrankvote.instant_runoff_voting(submission_dict.values(), ballots,))"
   ]
  }
 ],
 "metadata": {
  "kernelspec": {
   "display_name": "Python 3",
   "language": "python",
   "name": "python3"
  },
  "language_info": {
   "codemirror_mode": {
    "name": "ipython",
    "version": 3
   },
   "file_extension": ".py",
   "mimetype": "text/x-python",
   "name": "python",
   "nbconvert_exporter": "python",
   "pygments_lexer": "ipython3",
   "version": "3.7.4"
  }
 },
 "nbformat": 4,
 "nbformat_minor": 2
}