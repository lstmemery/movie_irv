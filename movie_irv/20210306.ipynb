{
 "cells": [
  {
   "cell_type": "code",
   "execution_count": 1,
   "metadata": {},
   "outputs": [],
   "source": [
    "import pandas as pd\n",
    "import pyrankvote\n",
    "from pathlib import Path\n",
    "from random import seed\n",
    "seed(252)"
   ]
  },
  {
   "cell_type": "code",
   "execution_count": 2,
   "metadata": {},
   "outputs": [
    {
     "data": {
      "text/plain": "           Timestamp  \\\n0  3/2/2021 19:42:41   \n1  3/2/2021 19:44:12   \n2  3/2/2021 19:56:36   \n3  3/2/2021 20:07:46   \n4  3/2/2021 20:26:42   \n5   3/3/2021 2:33:27   \n6  3/3/2021 10:59:33   \n7   3/4/2021 6:33:59   \n8   3/4/2021 8:34:15   \n\n  Rank your movie choices. You don't have to do a full ranking. [First Choice]  \\\n0                             Fantastic Fungi (2019)                             \n1  The Decline of Western Civilization Part II: T...                             \n2       Hands on A Hard Body: The Documentary (1997)                             \n3                                Pumping Iron (1977)                             \n4                                     Doglegs (2015)                             \n5                             Midnight Family (2019)                             \n6        My Brothers and Sisters in the North (2016)                             \n7                             Midnight Family (2019)                             \n8        My Brothers and Sisters in the North (2016)                             \n\n  Rank your movie choices. You don't have to do a full ranking. [Second Choice]  \\\n0  The Decline of Western Civilization Part II: T...                              \n1       Hands on A Hard Body: The Documentary (1997)                              \n2                             Fantastic Fungi (2019)                              \n3  The Decline of Western Civilization Part II: T...                              \n4       Hands on A Hard Body: The Documentary (1997)                              \n5                             Fantastic Fungi (2019)                              \n6                             Fantastic Fungi (2019)                              \n7                             Fantastic Fungi (2019)                              \n8                        Bobby Sands: 66 Days (2016)                              \n\n  Rank your movie choices. You don't have to do a full ranking. [Third Choice]  \\\n0                                Pumping Iron (1977)                             \n1                             Fantastic Fungi (2019)                             \n2        My Brothers and Sisters in the North (2016)                             \n3                        Bobby Sands: 66 Days (2016)                             \n4                        Bobby Sands: 66 Days (2016)                             \n5                                     Doglegs (2015)                             \n6                        Bobby Sands: 66 Days (2016)                             \n7                                     Doglegs (2015)                             \n8       Hands on A Hard Body: The Documentary (1997)                             \n\n  Rank your movie choices. You don't have to do a full ranking. [Fourth Choice]  \\\n0                        Bobby Sands: 66 Days (2016)                              \n1        My Brothers and Sisters in the North (2016)                              \n2                             Midnight Family (2019)                              \n3       Hands on A Hard Body: The Documentary (1997)                              \n4                             Fantastic Fungi (2019)                              \n5       Hands on A Hard Body: The Documentary (1997)                              \n6                                Pumping Iron (1977)                              \n7       Hands on A Hard Body: The Documentary (1997)                              \n8                                Pumping Iron (1977)                              \n\n  Rank your movie choices. You don't have to do a full ranking. [Fifth Choice]  \\\n0       Hands on A Hard Body: The Documentary (1997)                             \n1                                     Doglegs (2015)                             \n2                                Pumping Iron (1977)                             \n3                             Midnight Family (2019)                             \n4        My Brothers and Sisters in the North (2016)                             \n5  The Decline of Western Civilization Part II: T...                             \n6       Hands on A Hard Body: The Documentary (1997)                             \n7        My Brothers and Sisters in the North (2016)                             \n8                             Fantastic Fungi (2019)                             \n\n  Rank your movie choices. You don't have to do a full ranking. [Sixth Choice]  \\\n0                                     Doglegs (2015)                             \n1                        Bobby Sands: 66 Days (2016)                             \n2                                     Doglegs (2015)                             \n3                             Fantastic Fungi (2019)                             \n4  The Decline of Western Civilization Part II: T...                             \n5                        Bobby Sands: 66 Days (2016)                             \n6  The Decline of Western Civilization Part II: T...                             \n7                        Bobby Sands: 66 Days (2016)                             \n8                                     Doglegs (2015)                             \n\n  Rank your movie choices. You don't have to do a full ranking. [Seventh Choice]  \\\n0                             Midnight Family (2019)                               \n1                             Midnight Family (2019)                               \n2  The Decline of Western Civilization Part II: T...                               \n3        My Brothers and Sisters in the North (2016)                               \n4                             Midnight Family (2019)                               \n5                                Pumping Iron (1977)                               \n6                                                NaN                               \n7  The Decline of Western Civilization Part II: T...                               \n8                             Midnight Family (2019)                               \n\n  Rank your movie choices. You don't have to do a full ranking. [Eigth Choice]  \\\n0        My Brothers and Sisters in the North (2016)                             \n1                                                NaN                             \n2                        Bobby Sands: 66 Days (2016)                             \n3                                     Doglegs (2015)                             \n4                                Pumping Iron (1977)                             \n5        My Brothers and Sisters in the North (2016)                             \n6                                                NaN                             \n7                                Pumping Iron (1977)                             \n8  The Decline of Western Civilization Part II: T...                             \n\n  What theme should we explore next week? [First Choice]  \\\n0                          [Default to Nicolas Cage]       \n1                         IT HAPPENED (IN) ONE NIGHT       \n2               LET'S SETTLE THIS THROUGH DANCE/SONG       \n3                                        BUNGA BUNGA       \n4                                 HISTORICAL HIJINKS       \n5                        IT'S NOT A \"WAR MOVIE,\" BUT       \n6                                 HISTORICAL HIJINKS       \n7                                        BUNGA BUNGA       \n8                        IT'S NOT A \"WAR MOVIE,\" BUT       \n\n  What theme should we explore next week? [Second Choice]  \\\n0                             OOPS! ALL BEN KINGSLEY        \n1               LET'S SETTLE THIS THROUGH DANCE/SONG        \n2                          [Default to Nicolas Cage]        \n3                                    CANADIAN DRAMAS        \n4                                        BUNGA BUNGA        \n5                         IT HAPPENED (IN) ONE NIGHT        \n6                        IT'S NOT A \"WAR MOVIE,\" BUT        \n7                                 HISTORICAL HIJINKS        \n8                          WAIT, THIS ISN'T FOR KIDS        \n\n  What theme should we explore next week? [Third Choice]  \\\n0                                 HISTORICAL HIJINKS       \n1                        IT'S NOT A \"WAR MOVIE,\" BUT       \n2                                    CANADIAN DRAMAS       \n3                         IT HAPPENED (IN) ONE NIGHT       \n4                                      BUYER BEWARE!       \n5                          WAIT, THIS ISN'T FOR KIDS       \n6                          [Default to Nicolas Cage]       \n7                                      BUYER BEWARE!       \n8               LET'S SETTLE THIS THROUGH DANCE/SONG       \n\n  What theme should we explore next week? [Fourth Choice]  \\\n0                                        BUNGA BUNGA        \n1                                    CANADIAN DRAMAS        \n2                                      BUYER BEWARE!        \n3                        IT'S NOT A \"WAR MOVIE,\" BUT        \n4                        IT'S NOT A \"WAR MOVIE,\" BUT        \n5                             OOPS! ALL BEN KINGSLEY        \n6                                    CANADIAN DRAMAS        \n7               LET'S SETTLE THIS THROUGH DANCE/SONG        \n8                         IT HAPPENED (IN) ONE NIGHT        \n\n  What theme should we explore next week? [Fifth Choice]  \\\n0                                      BUYER BEWARE!       \n1                                      BUYER BEWARE!       \n2                                 HISTORICAL HIJINKS       \n3                          [Default to Nicolas Cage]       \n4                          [Default to Nicolas Cage]       \n5                                 HISTORICAL HIJINKS       \n6                                      BUYER BEWARE!       \n7                             OOPS! ALL BEN KINGSLEY       \n8                                 HISTORICAL HIJINKS       \n\n  What theme should we explore next week? [Sixth Choice]  \\\n0                                    CANADIAN DRAMAS       \n1                                 HISTORICAL HIJINKS       \n2                         IT HAPPENED (IN) ONE NIGHT       \n3                                      BUYER BEWARE!       \n4                         IT HAPPENED (IN) ONE NIGHT       \n5                                      BUYER BEWARE!       \n6                                        BUNGA BUNGA       \n7                        IT'S NOT A \"WAR MOVIE,\" BUT       \n8                                      BUYER BEWARE!       \n\n  What theme should we explore next week? [Seventh Choice]  \\\n0                         IT HAPPENED (IN) ONE NIGHT         \n1                          WAIT, THIS ISN'T FOR KIDS         \n2                        IT'S NOT A \"WAR MOVIE,\" BUT         \n3               LET'S SETTLE THIS THROUGH DANCE/SONG         \n4                          WAIT, THIS ISN'T FOR KIDS         \n5                                        BUNGA BUNGA         \n6                         IT HAPPENED (IN) ONE NIGHT         \n7                         IT HAPPENED (IN) ONE NIGHT         \n8                                        BUNGA BUNGA         \n\n  What theme should we explore next week? [Eigth Choice]  \\\n0                        IT'S NOT A \"WAR MOVIE,\" BUT       \n1                             OOPS! ALL BEN KINGSLEY       \n2                             OOPS! ALL BEN KINGSLEY       \n3                                 HISTORICAL HIJINKS       \n4               LET'S SETTLE THIS THROUGH DANCE/SONG       \n5                          [Default to Nicolas Cage]       \n6                                                NaN       \n7                                    CANADIAN DRAMAS       \n8                                    CANADIAN DRAMAS       \n\n  What theme should we explore next week? [Ninth Choice]  \\\n0               LET'S SETTLE THIS THROUGH DANCE/SONG       \n1                          [Default to Nicolas Cage]       \n2                          WAIT, THIS ISN'T FOR KIDS       \n3                          WAIT, THIS ISN'T FOR KIDS       \n4                             OOPS! ALL BEN KINGSLEY       \n5                                    CANADIAN DRAMAS       \n6                                                NaN       \n7                          WAIT, THIS ISN'T FOR KIDS       \n8                             OOPS! ALL BEN KINGSLEY       \n\n  What theme should we explore next week? [Tenth Choice]  \n0                          WAIT, THIS ISN'T FOR KIDS      \n1                                        BUNGA BUNGA      \n2                                        BUNGA BUNGA      \n3                             OOPS! ALL BEN KINGSLEY      \n4                                    CANADIAN DRAMAS      \n5               LET'S SETTLE THIS THROUGH DANCE/SONG      \n6                                                NaN      \n7                          [Default to Nicolas Cage]      \n8                          [Default to Nicolas Cage]      ",
      "text/html": "<div>\n<style scoped>\n    .dataframe tbody tr th:only-of-type {\n        vertical-align: middle;\n    }\n\n    .dataframe tbody tr th {\n        vertical-align: top;\n    }\n\n    .dataframe thead th {\n        text-align: right;\n    }\n</style>\n<table border=\"1\" class=\"dataframe\">\n  <thead>\n    <tr style=\"text-align: right;\">\n      <th></th>\n      <th>Timestamp</th>\n      <th>Rank your movie choices. You don't have to do a full ranking. [First Choice]</th>\n      <th>Rank your movie choices. You don't have to do a full ranking. [Second Choice]</th>\n      <th>Rank your movie choices. You don't have to do a full ranking. [Third Choice]</th>\n      <th>Rank your movie choices. You don't have to do a full ranking. [Fourth Choice]</th>\n      <th>Rank your movie choices. You don't have to do a full ranking. [Fifth Choice]</th>\n      <th>Rank your movie choices. You don't have to do a full ranking. [Sixth Choice]</th>\n      <th>Rank your movie choices. You don't have to do a full ranking. [Seventh Choice]</th>\n      <th>Rank your movie choices. You don't have to do a full ranking. [Eigth Choice]</th>\n      <th>What theme should we explore next week? [First Choice]</th>\n      <th>What theme should we explore next week? [Second Choice]</th>\n      <th>What theme should we explore next week? [Third Choice]</th>\n      <th>What theme should we explore next week? [Fourth Choice]</th>\n      <th>What theme should we explore next week? [Fifth Choice]</th>\n      <th>What theme should we explore next week? [Sixth Choice]</th>\n      <th>What theme should we explore next week? [Seventh Choice]</th>\n      <th>What theme should we explore next week? [Eigth Choice]</th>\n      <th>What theme should we explore next week? [Ninth Choice]</th>\n      <th>What theme should we explore next week? [Tenth Choice]</th>\n    </tr>\n  </thead>\n  <tbody>\n    <tr>\n      <th>0</th>\n      <td>3/2/2021 19:42:41</td>\n      <td>Fantastic Fungi (2019)</td>\n      <td>The Decline of Western Civilization Part II: T...</td>\n      <td>Pumping Iron (1977)</td>\n      <td>Bobby Sands: 66 Days (2016)</td>\n      <td>Hands on A Hard Body: The Documentary (1997)</td>\n      <td>Doglegs (2015)</td>\n      <td>Midnight Family (2019)</td>\n      <td>My Brothers and Sisters in the North (2016)</td>\n      <td>[Default to Nicolas Cage]</td>\n      <td>OOPS! ALL BEN KINGSLEY</td>\n      <td>HISTORICAL HIJINKS</td>\n      <td>BUNGA BUNGA</td>\n      <td>BUYER BEWARE!</td>\n      <td>CANADIAN DRAMAS</td>\n      <td>IT HAPPENED (IN) ONE NIGHT</td>\n      <td>IT'S NOT A \"WAR MOVIE,\" BUT</td>\n      <td>LET'S SETTLE THIS THROUGH DANCE/SONG</td>\n      <td>WAIT, THIS ISN'T FOR KIDS</td>\n    </tr>\n    <tr>\n      <th>1</th>\n      <td>3/2/2021 19:44:12</td>\n      <td>The Decline of Western Civilization Part II: T...</td>\n      <td>Hands on A Hard Body: The Documentary (1997)</td>\n      <td>Fantastic Fungi (2019)</td>\n      <td>My Brothers and Sisters in the North (2016)</td>\n      <td>Doglegs (2015)</td>\n      <td>Bobby Sands: 66 Days (2016)</td>\n      <td>Midnight Family (2019)</td>\n      <td>NaN</td>\n      <td>IT HAPPENED (IN) ONE NIGHT</td>\n      <td>LET'S SETTLE THIS THROUGH DANCE/SONG</td>\n      <td>IT'S NOT A \"WAR MOVIE,\" BUT</td>\n      <td>CANADIAN DRAMAS</td>\n      <td>BUYER BEWARE!</td>\n      <td>HISTORICAL HIJINKS</td>\n      <td>WAIT, THIS ISN'T FOR KIDS</td>\n      <td>OOPS! ALL BEN KINGSLEY</td>\n      <td>[Default to Nicolas Cage]</td>\n      <td>BUNGA BUNGA</td>\n    </tr>\n    <tr>\n      <th>2</th>\n      <td>3/2/2021 19:56:36</td>\n      <td>Hands on A Hard Body: The Documentary (1997)</td>\n      <td>Fantastic Fungi (2019)</td>\n      <td>My Brothers and Sisters in the North (2016)</td>\n      <td>Midnight Family (2019)</td>\n      <td>Pumping Iron (1977)</td>\n      <td>Doglegs (2015)</td>\n      <td>The Decline of Western Civilization Part II: T...</td>\n      <td>Bobby Sands: 66 Days (2016)</td>\n      <td>LET'S SETTLE THIS THROUGH DANCE/SONG</td>\n      <td>[Default to Nicolas Cage]</td>\n      <td>CANADIAN DRAMAS</td>\n      <td>BUYER BEWARE!</td>\n      <td>HISTORICAL HIJINKS</td>\n      <td>IT HAPPENED (IN) ONE NIGHT</td>\n      <td>IT'S NOT A \"WAR MOVIE,\" BUT</td>\n      <td>OOPS! ALL BEN KINGSLEY</td>\n      <td>WAIT, THIS ISN'T FOR KIDS</td>\n      <td>BUNGA BUNGA</td>\n    </tr>\n    <tr>\n      <th>3</th>\n      <td>3/2/2021 20:07:46</td>\n      <td>Pumping Iron (1977)</td>\n      <td>The Decline of Western Civilization Part II: T...</td>\n      <td>Bobby Sands: 66 Days (2016)</td>\n      <td>Hands on A Hard Body: The Documentary (1997)</td>\n      <td>Midnight Family (2019)</td>\n      <td>Fantastic Fungi (2019)</td>\n      <td>My Brothers and Sisters in the North (2016)</td>\n      <td>Doglegs (2015)</td>\n      <td>BUNGA BUNGA</td>\n      <td>CANADIAN DRAMAS</td>\n      <td>IT HAPPENED (IN) ONE NIGHT</td>\n      <td>IT'S NOT A \"WAR MOVIE,\" BUT</td>\n      <td>[Default to Nicolas Cage]</td>\n      <td>BUYER BEWARE!</td>\n      <td>LET'S SETTLE THIS THROUGH DANCE/SONG</td>\n      <td>HISTORICAL HIJINKS</td>\n      <td>WAIT, THIS ISN'T FOR KIDS</td>\n      <td>OOPS! ALL BEN KINGSLEY</td>\n    </tr>\n    <tr>\n      <th>4</th>\n      <td>3/2/2021 20:26:42</td>\n      <td>Doglegs (2015)</td>\n      <td>Hands on A Hard Body: The Documentary (1997)</td>\n      <td>Bobby Sands: 66 Days (2016)</td>\n      <td>Fantastic Fungi (2019)</td>\n      <td>My Brothers and Sisters in the North (2016)</td>\n      <td>The Decline of Western Civilization Part II: T...</td>\n      <td>Midnight Family (2019)</td>\n      <td>Pumping Iron (1977)</td>\n      <td>HISTORICAL HIJINKS</td>\n      <td>BUNGA BUNGA</td>\n      <td>BUYER BEWARE!</td>\n      <td>IT'S NOT A \"WAR MOVIE,\" BUT</td>\n      <td>[Default to Nicolas Cage]</td>\n      <td>IT HAPPENED (IN) ONE NIGHT</td>\n      <td>WAIT, THIS ISN'T FOR KIDS</td>\n      <td>LET'S SETTLE THIS THROUGH DANCE/SONG</td>\n      <td>OOPS! ALL BEN KINGSLEY</td>\n      <td>CANADIAN DRAMAS</td>\n    </tr>\n    <tr>\n      <th>5</th>\n      <td>3/3/2021 2:33:27</td>\n      <td>Midnight Family (2019)</td>\n      <td>Fantastic Fungi (2019)</td>\n      <td>Doglegs (2015)</td>\n      <td>Hands on A Hard Body: The Documentary (1997)</td>\n      <td>The Decline of Western Civilization Part II: T...</td>\n      <td>Bobby Sands: 66 Days (2016)</td>\n      <td>Pumping Iron (1977)</td>\n      <td>My Brothers and Sisters in the North (2016)</td>\n      <td>IT'S NOT A \"WAR MOVIE,\" BUT</td>\n      <td>IT HAPPENED (IN) ONE NIGHT</td>\n      <td>WAIT, THIS ISN'T FOR KIDS</td>\n      <td>OOPS! ALL BEN KINGSLEY</td>\n      <td>HISTORICAL HIJINKS</td>\n      <td>BUYER BEWARE!</td>\n      <td>BUNGA BUNGA</td>\n      <td>[Default to Nicolas Cage]</td>\n      <td>CANADIAN DRAMAS</td>\n      <td>LET'S SETTLE THIS THROUGH DANCE/SONG</td>\n    </tr>\n    <tr>\n      <th>6</th>\n      <td>3/3/2021 10:59:33</td>\n      <td>My Brothers and Sisters in the North (2016)</td>\n      <td>Fantastic Fungi (2019)</td>\n      <td>Bobby Sands: 66 Days (2016)</td>\n      <td>Pumping Iron (1977)</td>\n      <td>Hands on A Hard Body: The Documentary (1997)</td>\n      <td>The Decline of Western Civilization Part II: T...</td>\n      <td>NaN</td>\n      <td>NaN</td>\n      <td>HISTORICAL HIJINKS</td>\n      <td>IT'S NOT A \"WAR MOVIE,\" BUT</td>\n      <td>[Default to Nicolas Cage]</td>\n      <td>CANADIAN DRAMAS</td>\n      <td>BUYER BEWARE!</td>\n      <td>BUNGA BUNGA</td>\n      <td>IT HAPPENED (IN) ONE NIGHT</td>\n      <td>NaN</td>\n      <td>NaN</td>\n      <td>NaN</td>\n    </tr>\n    <tr>\n      <th>7</th>\n      <td>3/4/2021 6:33:59</td>\n      <td>Midnight Family (2019)</td>\n      <td>Fantastic Fungi (2019)</td>\n      <td>Doglegs (2015)</td>\n      <td>Hands on A Hard Body: The Documentary (1997)</td>\n      <td>My Brothers and Sisters in the North (2016)</td>\n      <td>Bobby Sands: 66 Days (2016)</td>\n      <td>The Decline of Western Civilization Part II: T...</td>\n      <td>Pumping Iron (1977)</td>\n      <td>BUNGA BUNGA</td>\n      <td>HISTORICAL HIJINKS</td>\n      <td>BUYER BEWARE!</td>\n      <td>LET'S SETTLE THIS THROUGH DANCE/SONG</td>\n      <td>OOPS! ALL BEN KINGSLEY</td>\n      <td>IT'S NOT A \"WAR MOVIE,\" BUT</td>\n      <td>IT HAPPENED (IN) ONE NIGHT</td>\n      <td>CANADIAN DRAMAS</td>\n      <td>WAIT, THIS ISN'T FOR KIDS</td>\n      <td>[Default to Nicolas Cage]</td>\n    </tr>\n    <tr>\n      <th>8</th>\n      <td>3/4/2021 8:34:15</td>\n      <td>My Brothers and Sisters in the North (2016)</td>\n      <td>Bobby Sands: 66 Days (2016)</td>\n      <td>Hands on A Hard Body: The Documentary (1997)</td>\n      <td>Pumping Iron (1977)</td>\n      <td>Fantastic Fungi (2019)</td>\n      <td>Doglegs (2015)</td>\n      <td>Midnight Family (2019)</td>\n      <td>The Decline of Western Civilization Part II: T...</td>\n      <td>IT'S NOT A \"WAR MOVIE,\" BUT</td>\n      <td>WAIT, THIS ISN'T FOR KIDS</td>\n      <td>LET'S SETTLE THIS THROUGH DANCE/SONG</td>\n      <td>IT HAPPENED (IN) ONE NIGHT</td>\n      <td>HISTORICAL HIJINKS</td>\n      <td>BUYER BEWARE!</td>\n      <td>BUNGA BUNGA</td>\n      <td>CANADIAN DRAMAS</td>\n      <td>OOPS! ALL BEN KINGSLEY</td>\n      <td>[Default to Nicolas Cage]</td>\n    </tr>\n  </tbody>\n</table>\n</div>"
     },
     "execution_count": 2,
     "metadata": {},
     "output_type": "execute_result"
    }
   ],
   "source": [
    "df = pd.read_csv(Path('./data/20210306.csv').resolve())\n",
    "df"
   ]
  },
  {
   "cell_type": "code",
   "execution_count": 3,
   "metadata": {},
   "outputs": [],
   "source": [
    "just_ballots = df.loc[:, df.columns.str.startswith('Rank')]\n",
    "next_week = df.loc[:, df.columns.str.startswith('What')]"
   ]
  },
  {
   "cell_type": "code",
   "execution_count": 4,
   "metadata": {},
   "outputs": [
    {
     "data": {
      "text/plain": "array(['Fantastic Fungi (2019)',\n       'The Decline of Western Civilization Part II: The Metal Years (1988)',\n       'Pumping Iron (1977)', 'Bobby Sands: 66 Days (2016)',\n       'Hands on A Hard Body: The Documentary (1997)', 'Doglegs (2015)',\n       'Midnight Family (2019)',\n       'My Brothers and Sisters in the North (2016)'], dtype=object)"
     },
     "execution_count": 4,
     "metadata": {},
     "output_type": "execute_result"
    }
   ],
   "source": [
    "submissions = just_ballots.loc[just_ballots.notna().all(axis=1).idxmax(),:].values\n",
    "submissions"
   ]
  },
  {
   "cell_type": "code",
   "execution_count": 5,
   "metadata": {},
   "outputs": [],
   "source": [
    "submission_dict = {submission: pyrankvote.Candidate(submission) for submission in submissions}"
   ]
  },
  {
   "cell_type": "code",
   "execution_count": 6,
   "metadata": {},
   "outputs": [],
   "source": [
    "balloted = just_ballots.applymap(lambda x: submission_dict[x] if isinstance(x, str) else x)"
   ]
  },
  {
   "cell_type": "code",
   "execution_count": 7,
   "metadata": {},
   "outputs": [
    {
     "data": {
      "text/plain": "{'Fantastic Fungi (2019)': <Candidate('Fantastic Fungi (2019)')>,\n 'The Decline of Western Civilization Part II: The Metal Years (1988)': <Candidate('The Decline of Western Civilization Part II: The Metal Years (1988)')>,\n 'Pumping Iron (1977)': <Candidate('Pumping Iron (1977)')>,\n 'Bobby Sands: 66 Days (2016)': <Candidate('Bobby Sands: 66 Days (2016)')>,\n 'Hands on A Hard Body: The Documentary (1997)': <Candidate('Hands on A Hard Body: The Documentary (1997)')>,\n 'Doglegs (2015)': <Candidate('Doglegs (2015)')>,\n 'Midnight Family (2019)': <Candidate('Midnight Family (2019)')>,\n 'My Brothers and Sisters in the North (2016)': <Candidate('My Brothers and Sisters in the North (2016)')>}"
     },
     "execution_count": 7,
     "metadata": {},
     "output_type": "execute_result"
    }
   ],
   "source": [
    "submission_dict"
   ]
  },
  {
   "cell_type": "code",
   "execution_count": 8,
   "metadata": {},
   "outputs": [],
   "source": [
    "ballots = []\n",
    "for ballot in balloted.itertuples():\n",
    "    ballots.append(pyrankvote.Ballot(ranked_candidates=[b for b in ballot if isinstance(b, pyrankvote.Candidate)]))"
   ]
  },
  {
   "cell_type": "code",
   "execution_count": 9,
   "metadata": {},
   "outputs": [
    {
     "data": {
      "text/plain": "[<Ballot(Fantastic Fungi (2019), The Decline of Western Civilization Part II: The Metal Years (1988), Pumping Iron (1977), Bobby Sands: 66 Days (2016), Hands on A Hard Body: The Documentary (1997), Doglegs (2015), Midnight Family (2019), My Brothers and Sisters in the North (2016))>,\n <Ballot(The Decline of Western Civilization Part II: The Metal Years (1988), Hands on A Hard Body: The Documentary (1997), Fantastic Fungi (2019), My Brothers and Sisters in the North (2016), Doglegs (2015), Bobby Sands: 66 Days (2016), Midnight Family (2019))>,\n <Ballot(Hands on A Hard Body: The Documentary (1997), Fantastic Fungi (2019), My Brothers and Sisters in the North (2016), Midnight Family (2019), Pumping Iron (1977), Doglegs (2015), The Decline of Western Civilization Part II: The Metal Years (1988), Bobby Sands: 66 Days (2016))>,\n <Ballot(Pumping Iron (1977), The Decline of Western Civilization Part II: The Metal Years (1988), Bobby Sands: 66 Days (2016), Hands on A Hard Body: The Documentary (1997), Midnight Family (2019), Fantastic Fungi (2019), My Brothers and Sisters in the North (2016), Doglegs (2015))>,\n <Ballot(Doglegs (2015), Hands on A Hard Body: The Documentary (1997), Bobby Sands: 66 Days (2016), Fantastic Fungi (2019), My Brothers and Sisters in the North (2016), The Decline of Western Civilization Part II: The Metal Years (1988), Midnight Family (2019), Pumping Iron (1977))>,\n <Ballot(Midnight Family (2019), Fantastic Fungi (2019), Doglegs (2015), Hands on A Hard Body: The Documentary (1997), The Decline of Western Civilization Part II: The Metal Years (1988), Bobby Sands: 66 Days (2016), Pumping Iron (1977), My Brothers and Sisters in the North (2016))>,\n <Ballot(My Brothers and Sisters in the North (2016), Fantastic Fungi (2019), Bobby Sands: 66 Days (2016), Pumping Iron (1977), Hands on A Hard Body: The Documentary (1997), The Decline of Western Civilization Part II: The Metal Years (1988))>,\n <Ballot(Midnight Family (2019), Fantastic Fungi (2019), Doglegs (2015), Hands on A Hard Body: The Documentary (1997), My Brothers and Sisters in the North (2016), Bobby Sands: 66 Days (2016), The Decline of Western Civilization Part II: The Metal Years (1988), Pumping Iron (1977))>,\n <Ballot(My Brothers and Sisters in the North (2016), Bobby Sands: 66 Days (2016), Hands on A Hard Body: The Documentary (1997), Pumping Iron (1977), Fantastic Fungi (2019), Doglegs (2015), Midnight Family (2019), The Decline of Western Civilization Part II: The Metal Years (1988))>]"
     },
     "execution_count": 9,
     "metadata": {},
     "output_type": "execute_result"
    }
   ],
   "source": [
    "ballots"
   ]
  },
  {
   "cell_type": "code",
   "execution_count": 10,
   "metadata": {},
   "outputs": [],
   "source": [
    "election_result = pyrankvote.instant_runoff_voting(submission_dict.values(), ballots,)"
   ]
  },
  {
   "cell_type": "code",
   "execution_count": 11,
   "metadata": {},
   "outputs": [
    {
     "name": "stdout",
     "output_type": "stream",
     "text": [
      "ROUND 1\n",
      "Candidate                                                              Votes  Status\n",
      "-------------------------------------------------------------------  -------  --------\n",
      "My Brothers and Sisters in the North (2016)                                2  Hopeful\n",
      "Midnight Family (2019)                                                     2  Hopeful\n",
      "Fantastic Fungi (2019)                                                     1  Hopeful\n",
      "Hands on A Hard Body: The Documentary (1997)                               1  Hopeful\n",
      "The Decline of Western Civilization Part II: The Metal Years (1988)        1  Hopeful\n",
      "Doglegs (2015)                                                             1  Hopeful\n",
      "Pumping Iron (1977)                                                        1  Rejected\n",
      "Bobby Sands: 66 Days (2016)                                                0  Rejected\n",
      "\n",
      "ROUND 2\n",
      "Candidate                                                              Votes  Status\n",
      "-------------------------------------------------------------------  -------  --------\n",
      "The Decline of Western Civilization Part II: The Metal Years (1988)        2  Hopeful\n",
      "My Brothers and Sisters in the North (2016)                                2  Hopeful\n",
      "Midnight Family (2019)                                                     2  Hopeful\n",
      "Fantastic Fungi (2019)                                                     1  Hopeful\n",
      "Hands on A Hard Body: The Documentary (1997)                               1  Hopeful\n",
      "Doglegs (2015)                                                             1  Rejected\n",
      "Pumping Iron (1977)                                                        0  Rejected\n",
      "Bobby Sands: 66 Days (2016)                                                0  Rejected\n",
      "\n",
      "ROUND 3\n",
      "Candidate                                                              Votes  Status\n",
      "-------------------------------------------------------------------  -------  --------\n",
      "Hands on A Hard Body: The Documentary (1997)                               2  Hopeful\n",
      "The Decline of Western Civilization Part II: The Metal Years (1988)        2  Hopeful\n",
      "My Brothers and Sisters in the North (2016)                                2  Hopeful\n",
      "Midnight Family (2019)                                                     2  Hopeful\n",
      "Fantastic Fungi (2019)                                                     1  Rejected\n",
      "Doglegs (2015)                                                             0  Rejected\n",
      "Pumping Iron (1977)                                                        0  Rejected\n",
      "Bobby Sands: 66 Days (2016)                                                0  Rejected\n",
      "\n",
      "ROUND 4\n",
      "Candidate                                                              Votes  Status\n",
      "-------------------------------------------------------------------  -------  --------\n",
      "The Decline of Western Civilization Part II: The Metal Years (1988)        3  Hopeful\n",
      "Hands on A Hard Body: The Documentary (1997)                               2  Hopeful\n",
      "My Brothers and Sisters in the North (2016)                                2  Hopeful\n",
      "Midnight Family (2019)                                                     2  Rejected\n",
      "Fantastic Fungi (2019)                                                     0  Rejected\n",
      "Doglegs (2015)                                                             0  Rejected\n",
      "Pumping Iron (1977)                                                        0  Rejected\n",
      "Bobby Sands: 66 Days (2016)                                                0  Rejected\n",
      "\n",
      "ROUND 5\n",
      "Candidate                                                              Votes  Status\n",
      "-------------------------------------------------------------------  -------  --------\n",
      "Hands on A Hard Body: The Documentary (1997)                               4  Hopeful\n",
      "The Decline of Western Civilization Part II: The Metal Years (1988)        3  Hopeful\n",
      "My Brothers and Sisters in the North (2016)                                2  Rejected\n",
      "Midnight Family (2019)                                                     0  Rejected\n",
      "Fantastic Fungi (2019)                                                     0  Rejected\n",
      "Doglegs (2015)                                                             0  Rejected\n",
      "Pumping Iron (1977)                                                        0  Rejected\n",
      "Bobby Sands: 66 Days (2016)                                                0  Rejected\n",
      "\n",
      "FINAL RESULT\n",
      "Candidate                                                              Votes  Status\n",
      "-------------------------------------------------------------------  -------  --------\n",
      "Hands on A Hard Body: The Documentary (1997)                               6  Elected\n",
      "The Decline of Western Civilization Part II: The Metal Years (1988)        3  Rejected\n",
      "My Brothers and Sisters in the North (2016)                                0  Rejected\n",
      "Midnight Family (2019)                                                     0  Rejected\n",
      "Fantastic Fungi (2019)                                                     0  Rejected\n",
      "Doglegs (2015)                                                             0  Rejected\n",
      "Pumping Iron (1977)                                                        0  Rejected\n",
      "Bobby Sands: 66 Days (2016)                                                0  Rejected\n",
      "\n"
     ]
    }
   ],
   "source": [
    "print(election_result)"
   ]
  },
  {
   "cell_type": "code",
   "execution_count": 12,
   "metadata": {},
   "outputs": [
    {
     "name": "stdout",
     "output_type": "stream",
     "text": [
      "ROUND 1\n",
      "Candidate                               Votes  Status\n",
      "------------------------------------  -------  --------\n",
      "IT'S NOT A \"WAR MOVIE,\" BUT                 2  Hopeful\n",
      "HISTORICAL HIJINKS                          2  Hopeful\n",
      "BUNGA BUNGA                                 2  Hopeful\n",
      "IT HAPPENED (IN) ONE NIGHT                  1  Hopeful\n",
      "LET'S SETTLE THIS THROUGH DANCE/SONG        1  Hopeful\n",
      "[Default to Nicolas Cage]                   1  Rejected\n",
      "CANADIAN DRAMAS                             0  Rejected\n",
      "WAIT, THIS ISN'T FOR KIDS                   0  Rejected\n",
      "OOPS! ALL BEN KINGSLEY                      0  Rejected\n",
      "BUYER BEWARE!                               0  Rejected\n",
      "\n",
      "ROUND 2\n",
      "Candidate                               Votes  Status\n",
      "------------------------------------  -------  --------\n",
      "HISTORICAL HIJINKS                          3  Hopeful\n",
      "BUNGA BUNGA                                 2  Hopeful\n",
      "IT'S NOT A \"WAR MOVIE,\" BUT                 2  Hopeful\n",
      "IT HAPPENED (IN) ONE NIGHT                  1  Rejected\n",
      "LET'S SETTLE THIS THROUGH DANCE/SONG        1  Rejected\n",
      "[Default to Nicolas Cage]                   0  Rejected\n",
      "CANADIAN DRAMAS                             0  Rejected\n",
      "WAIT, THIS ISN'T FOR KIDS                   0  Rejected\n",
      "OOPS! ALL BEN KINGSLEY                      0  Rejected\n",
      "BUYER BEWARE!                               0  Rejected\n",
      "\n",
      "ROUND 3\n",
      "Candidate                               Votes  Status\n",
      "------------------------------------  -------  --------\n",
      "HISTORICAL HIJINKS                          4  Hopeful\n",
      "IT'S NOT A \"WAR MOVIE,\" BUT                 3  Hopeful\n",
      "BUNGA BUNGA                                 2  Rejected\n",
      "IT HAPPENED (IN) ONE NIGHT                  0  Rejected\n",
      "LET'S SETTLE THIS THROUGH DANCE/SONG        0  Rejected\n",
      "[Default to Nicolas Cage]                   0  Rejected\n",
      "CANADIAN DRAMAS                             0  Rejected\n",
      "WAIT, THIS ISN'T FOR KIDS                   0  Rejected\n",
      "OOPS! ALL BEN KINGSLEY                      0  Rejected\n",
      "BUYER BEWARE!                               0  Rejected\n",
      "\n",
      "FINAL RESULT\n",
      "Candidate                               Votes  Status\n",
      "------------------------------------  -------  --------\n",
      "HISTORICAL HIJINKS                          5  Elected\n",
      "IT'S NOT A \"WAR MOVIE,\" BUT                 4  Rejected\n",
      "BUNGA BUNGA                                 0  Rejected\n",
      "IT HAPPENED (IN) ONE NIGHT                  0  Rejected\n",
      "LET'S SETTLE THIS THROUGH DANCE/SONG        0  Rejected\n",
      "[Default to Nicolas Cage]                   0  Rejected\n",
      "CANADIAN DRAMAS                             0  Rejected\n",
      "WAIT, THIS ISN'T FOR KIDS                   0  Rejected\n",
      "OOPS! ALL BEN KINGSLEY                      0  Rejected\n",
      "BUYER BEWARE!                               0  Rejected\n",
      "\n"
     ]
    }
   ],
   "source": [
    "submissions = next_week.loc[next_week.notna().all(axis=1).idxmax(),:].values\n",
    "submission_dict = {submission: pyrankvote.Candidate(submission) for submission in submissions}\n",
    "balloted = next_week.applymap(lambda x: submission_dict[x] if isinstance(x, str) else x)\n",
    "ballots = []\n",
    "for ballot in balloted.itertuples():\n",
    "    ballots.append(pyrankvote.Ballot(ranked_candidates=[b for b in ballot if isinstance(b, pyrankvote.Candidate)]))\n",
    "print(pyrankvote.instant_runoff_voting(submission_dict.values(), ballots,))"
   ]
  }
 ],
 "metadata": {
  "kernelspec": {
   "display_name": "Python 3",
   "language": "python",
   "name": "python3"
  },
  "language_info": {
   "codemirror_mode": {
    "name": "ipython",
    "version": 3
   },
   "file_extension": ".py",
   "mimetype": "text/x-python",
   "name": "python",
   "nbconvert_exporter": "python",
   "pygments_lexer": "ipython3",
   "version": "3.7.4"
  }
 },
 "nbformat": 4,
 "nbformat_minor": 2
}