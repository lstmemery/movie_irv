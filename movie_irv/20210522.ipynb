{
 "cells": [
  {
   "cell_type": "code",
   "execution_count": 1,
   "metadata": {},
   "outputs": [],
   "source": [
    "import pandas as pd\n",
    "import pyrankvote\n",
    "from pathlib import Path\n",
    "from random import seed\n",
    "seed(252)"
   ]
  },
  {
   "cell_type": "code",
   "execution_count": 2,
   "metadata": {},
   "outputs": [
    {
     "data": {
      "text/plain": "             Timestamp  \\\n0  18/05/2021 19:28:53   \n1  18/05/2021 19:36:24   \n2  18/05/2021 19:39:12   \n3  18/05/2021 21:03:26   \n4  19/05/2021 05:38:43   \n5  20/05/2021 14:28:03   \n6  20/05/2021 14:57:58   \n\n  Rank your movie choices. You don't have to do a full ranking. [First Choice]  \\\n0                           Death Becomes Her (1992)                             \n1                4 Months, 3 Weeks and 2 Days (2007)                             \n2                                   Showgirls (1995)                             \n3                                   Showgirls (1995)                             \n4                           Death Becomes Her (1992)                             \n5                             Les Diaboliques (1955)                             \n6               Faster, Pussycat! Kill! Kill! (1965)                             \n\n  Rank your movie choices. You don't have to do a full ranking. [Second Choice]  \\\n0                4 Months, 3 Weeks and 2 Days (2007)                              \n1               Faster, Pussycat! Kill! Kill! (1965)                              \n2               Faster, Pussycat! Kill! Kill! (1965)                              \n3                           Death Becomes Her (1992)                              \n4                                   Showgirls (1995)                              \n5                           Death Becomes Her (1992)                              \n6                             Les Diaboliques (1955)                              \n\n  Rank your movie choices. You don't have to do a full ranking. [Third Choice]  \\\n0             Charlie's Angels: Full Throttle (2003)                             \n1                           Death Becomes Her (1992)                             \n2                             Les Diaboliques (1955)                             \n3               Faster, Pussycat! Kill! Kill! (1965)                             \n4                             Les Diaboliques (1955)                             \n5             Charlie's Angels: Full Throttle (2003)                             \n6                           Death Becomes Her (1992)                             \n\n  Rank your movie choices. You don't have to do a full ranking. [Fourth Choice]  \\\n0               Faster, Pussycat! Kill! Kill! (1965)                              \n1                                                NaN                              \n2                           Death Becomes Her (1992)                              \n3                4 Months, 3 Weeks and 2 Days (2007)                              \n4             Charlie's Angels: Full Throttle (2003)                              \n5                                   Showgirls (1995)                              \n6                                   Showgirls (1995)                              \n\n  Rank your movie choices. You don't have to do a full ranking. [Fifth Choice]  \\\n0                                   Showgirls (1995)                             \n1                                                NaN                             \n2                                                NaN                             \n3                                                NaN                             \n4                4 Months, 3 Weeks and 2 Days (2007)                             \n5               Faster, Pussycat! Kill! Kill! (1965)                             \n6                4 Months, 3 Weeks and 2 Days (2007)                             \n\n  Rank your movie choices. You don't have to do a full ranking. [Sixth Choice]  \\\n0                             Les Diaboliques (1955)                             \n1                                                NaN                             \n2                4 Months, 3 Weeks and 2 Days (2007)                             \n3                                                NaN                             \n4               Faster, Pussycat! Kill! Kill! (1965)                             \n5                                                NaN                             \n6             Charlie's Angels: Full Throttle (2003)                             \n\n  What theme should we explore next week? [First Choice]  \\\n0                          BEST MOVIE IN WORST GENRE       \n1                      ALL AUSTRALIANS ARE CRIMINALS       \n2                               SOUNDTRACK IS A BOP!       \n3                               SOUNDTRACK IS A BOP!       \n4                          BEST MOVIE IN WORST GENRE       \n5                               OOPS! ALL CARY GRANT       \n6                                BLOOD SOAKED SUMMER       \n\n  What theme should we explore next week? [Second Choice]  \\\n0                               OOPS! ALL CARY GRANT        \n1  ROMANTIC COMEDIES, THE 1970S, SPANISH CINEMA, ...        \n2  ROMANTIC COMEDIES, THE 1970S, SPANISH CINEMA, ...        \n3                                                NaN        \n4                               SOUNDTRACK IS A BOP!        \n5                               SOUNDTRACK IS A BOP!        \n6                          BEST MOVIE IN WORST GENRE        \n\n  What theme should we explore next week? [Third Choice]  \\\n0                                BLOOD SOAKED SUMMER       \n1                               SOUNDTRACK IS A BOP!       \n2                                BLOOD SOAKED SUMMER       \n3                                                NaN       \n4                      ALL AUSTRALIANS ARE CRIMINALS       \n5                      ALL AUSTRALIANS ARE CRIMINALS       \n6  ROMANTIC COMEDIES, THE 1970S, SPANISH CINEMA, ...       \n\n  What theme should we explore next week? [Fourth Choice]  \\\n0                          [Default to Nicolas Cage]        \n1                               OOPS! ALL CARY GRANT        \n2                          BEST MOVIE IN WORST GENRE        \n3                                                NaN        \n4                                BLOOD SOAKED SUMMER        \n5                          BEST MOVIE IN WORST GENRE        \n6                               SOUNDTRACK IS A BOP!        \n\n  What theme should we explore next week? [Fifth Choice]  \\\n0                               SOUNDTRACK IS A BOP!       \n1                                BLOOD SOAKED SUMMER       \n2                      ALL AUSTRALIANS ARE CRIMINALS       \n3                                                NaN       \n4                               OOPS! ALL CARY GRANT       \n5                                BLOOD SOAKED SUMMER       \n6                               OOPS! ALL CARY GRANT       \n\n  What theme should we explore next week? [Sixth Choice]  \\\n0  ROMANTIC COMEDIES, THE 1970S, SPANISH CINEMA, ...       \n1                          BEST MOVIE IN WORST GENRE       \n2                          [Default to Nicolas Cage]       \n3                                                NaN       \n4  ROMANTIC COMEDIES, THE 1970S, SPANISH CINEMA, ...       \n5                          [Default to Nicolas Cage]       \n6                      ALL AUSTRALIANS ARE CRIMINALS       \n\n  What theme should we explore next week? [Seventh Choice]  \n0                      ALL AUSTRALIANS ARE CRIMINALS        \n1                          [Default to Nicolas Cage]        \n2                               OOPS! ALL CARY GRANT        \n3                                                NaN        \n4                          [Default to Nicolas Cage]        \n5  ROMANTIC COMEDIES, THE 1970S, SPANISH CINEMA, ...        \n6                          [Default to Nicolas Cage]        ",
      "text/html": "<div>\n<style scoped>\n    .dataframe tbody tr th:only-of-type {\n        vertical-align: middle;\n    }\n\n    .dataframe tbody tr th {\n        vertical-align: top;\n    }\n\n    .dataframe thead th {\n        text-align: right;\n    }\n</style>\n<table border=\"1\" class=\"dataframe\">\n  <thead>\n    <tr style=\"text-align: right;\">\n      <th></th>\n      <th>Timestamp</th>\n      <th>Rank your movie choices. You don't have to do a full ranking. [First Choice]</th>\n      <th>Rank your movie choices. You don't have to do a full ranking. [Second Choice]</th>\n      <th>Rank your movie choices. You don't have to do a full ranking. [Third Choice]</th>\n      <th>Rank your movie choices. You don't have to do a full ranking. [Fourth Choice]</th>\n      <th>Rank your movie choices. You don't have to do a full ranking. [Fifth Choice]</th>\n      <th>Rank your movie choices. You don't have to do a full ranking. [Sixth Choice]</th>\n      <th>What theme should we explore next week? [First Choice]</th>\n      <th>What theme should we explore next week? [Second Choice]</th>\n      <th>What theme should we explore next week? [Third Choice]</th>\n      <th>What theme should we explore next week? [Fourth Choice]</th>\n      <th>What theme should we explore next week? [Fifth Choice]</th>\n      <th>What theme should we explore next week? [Sixth Choice]</th>\n      <th>What theme should we explore next week? [Seventh Choice]</th>\n    </tr>\n  </thead>\n  <tbody>\n    <tr>\n      <th>0</th>\n      <td>18/05/2021 19:28:53</td>\n      <td>Death Becomes Her (1992)</td>\n      <td>4 Months, 3 Weeks and 2 Days (2007)</td>\n      <td>Charlie's Angels: Full Throttle (2003)</td>\n      <td>Faster, Pussycat! Kill! Kill! (1965)</td>\n      <td>Showgirls (1995)</td>\n      <td>Les Diaboliques (1955)</td>\n      <td>BEST MOVIE IN WORST GENRE</td>\n      <td>OOPS! ALL CARY GRANT</td>\n      <td>BLOOD SOAKED SUMMER</td>\n      <td>[Default to Nicolas Cage]</td>\n      <td>SOUNDTRACK IS A BOP!</td>\n      <td>ROMANTIC COMEDIES, THE 1970S, SPANISH CINEMA, ...</td>\n      <td>ALL AUSTRALIANS ARE CRIMINALS</td>\n    </tr>\n    <tr>\n      <th>1</th>\n      <td>18/05/2021 19:36:24</td>\n      <td>4 Months, 3 Weeks and 2 Days (2007)</td>\n      <td>Faster, Pussycat! Kill! Kill! (1965)</td>\n      <td>Death Becomes Her (1992)</td>\n      <td>NaN</td>\n      <td>NaN</td>\n      <td>NaN</td>\n      <td>ALL AUSTRALIANS ARE CRIMINALS</td>\n      <td>ROMANTIC COMEDIES, THE 1970S, SPANISH CINEMA, ...</td>\n      <td>SOUNDTRACK IS A BOP!</td>\n      <td>OOPS! ALL CARY GRANT</td>\n      <td>BLOOD SOAKED SUMMER</td>\n      <td>BEST MOVIE IN WORST GENRE</td>\n      <td>[Default to Nicolas Cage]</td>\n    </tr>\n    <tr>\n      <th>2</th>\n      <td>18/05/2021 19:39:12</td>\n      <td>Showgirls (1995)</td>\n      <td>Faster, Pussycat! Kill! Kill! (1965)</td>\n      <td>Les Diaboliques (1955)</td>\n      <td>Death Becomes Her (1992)</td>\n      <td>NaN</td>\n      <td>4 Months, 3 Weeks and 2 Days (2007)</td>\n      <td>SOUNDTRACK IS A BOP!</td>\n      <td>ROMANTIC COMEDIES, THE 1970S, SPANISH CINEMA, ...</td>\n      <td>BLOOD SOAKED SUMMER</td>\n      <td>BEST MOVIE IN WORST GENRE</td>\n      <td>ALL AUSTRALIANS ARE CRIMINALS</td>\n      <td>[Default to Nicolas Cage]</td>\n      <td>OOPS! ALL CARY GRANT</td>\n    </tr>\n    <tr>\n      <th>3</th>\n      <td>18/05/2021 21:03:26</td>\n      <td>Showgirls (1995)</td>\n      <td>Death Becomes Her (1992)</td>\n      <td>Faster, Pussycat! Kill! Kill! (1965)</td>\n      <td>4 Months, 3 Weeks and 2 Days (2007)</td>\n      <td>NaN</td>\n      <td>NaN</td>\n      <td>SOUNDTRACK IS A BOP!</td>\n      <td>NaN</td>\n      <td>NaN</td>\n      <td>NaN</td>\n      <td>NaN</td>\n      <td>NaN</td>\n      <td>NaN</td>\n    </tr>\n    <tr>\n      <th>4</th>\n      <td>19/05/2021 05:38:43</td>\n      <td>Death Becomes Her (1992)</td>\n      <td>Showgirls (1995)</td>\n      <td>Les Diaboliques (1955)</td>\n      <td>Charlie's Angels: Full Throttle (2003)</td>\n      <td>4 Months, 3 Weeks and 2 Days (2007)</td>\n      <td>Faster, Pussycat! Kill! Kill! (1965)</td>\n      <td>BEST MOVIE IN WORST GENRE</td>\n      <td>SOUNDTRACK IS A BOP!</td>\n      <td>ALL AUSTRALIANS ARE CRIMINALS</td>\n      <td>BLOOD SOAKED SUMMER</td>\n      <td>OOPS! ALL CARY GRANT</td>\n      <td>ROMANTIC COMEDIES, THE 1970S, SPANISH CINEMA, ...</td>\n      <td>[Default to Nicolas Cage]</td>\n    </tr>\n    <tr>\n      <th>5</th>\n      <td>20/05/2021 14:28:03</td>\n      <td>Les Diaboliques (1955)</td>\n      <td>Death Becomes Her (1992)</td>\n      <td>Charlie's Angels: Full Throttle (2003)</td>\n      <td>Showgirls (1995)</td>\n      <td>Faster, Pussycat! Kill! Kill! (1965)</td>\n      <td>NaN</td>\n      <td>OOPS! ALL CARY GRANT</td>\n      <td>SOUNDTRACK IS A BOP!</td>\n      <td>ALL AUSTRALIANS ARE CRIMINALS</td>\n      <td>BEST MOVIE IN WORST GENRE</td>\n      <td>BLOOD SOAKED SUMMER</td>\n      <td>[Default to Nicolas Cage]</td>\n      <td>ROMANTIC COMEDIES, THE 1970S, SPANISH CINEMA, ...</td>\n    </tr>\n    <tr>\n      <th>6</th>\n      <td>20/05/2021 14:57:58</td>\n      <td>Faster, Pussycat! Kill! Kill! (1965)</td>\n      <td>Les Diaboliques (1955)</td>\n      <td>Death Becomes Her (1992)</td>\n      <td>Showgirls (1995)</td>\n      <td>4 Months, 3 Weeks and 2 Days (2007)</td>\n      <td>Charlie's Angels: Full Throttle (2003)</td>\n      <td>BLOOD SOAKED SUMMER</td>\n      <td>BEST MOVIE IN WORST GENRE</td>\n      <td>ROMANTIC COMEDIES, THE 1970S, SPANISH CINEMA, ...</td>\n      <td>SOUNDTRACK IS A BOP!</td>\n      <td>OOPS! ALL CARY GRANT</td>\n      <td>ALL AUSTRALIANS ARE CRIMINALS</td>\n      <td>[Default to Nicolas Cage]</td>\n    </tr>\n  </tbody>\n</table>\n</div>"
     },
     "execution_count": 2,
     "metadata": {},
     "output_type": "execute_result"
    }
   ],
   "source": [
    "df = pd.read_csv(Path('./data/20210522.csv').resolve())\n",
    "df"
   ]
  },
  {
   "cell_type": "code",
   "execution_count": 3,
   "metadata": {},
   "outputs": [],
   "source": [
    "just_ballots = df.loc[:, df.columns.str.startswith('Rank')]\n",
    "next_week = df.loc[:, df.columns.str.startswith('What')]"
   ]
  },
  {
   "cell_type": "code",
   "execution_count": 4,
   "metadata": {},
   "outputs": [
    {
     "data": {
      "text/plain": "array(['Death Becomes Her (1992)', '4 Months, 3 Weeks and 2 Days (2007)',\n       \"Charlie's Angels: Full Throttle (2003)\",\n       'Faster, Pussycat! Kill! Kill! (1965)', 'Showgirls (1995)',\n       'Les Diaboliques (1955)'], dtype=object)"
     },
     "execution_count": 4,
     "metadata": {},
     "output_type": "execute_result"
    }
   ],
   "source": [
    "submissions = just_ballots.loc[just_ballots.notna().all(axis=1).idxmax(),:].values\n",
    "submissions"
   ]
  },
  {
   "cell_type": "code",
   "execution_count": 5,
   "metadata": {},
   "outputs": [],
   "source": [
    "submission_dict = {submission: pyrankvote.Candidate(submission) for submission in submissions}"
   ]
  },
  {
   "cell_type": "code",
   "execution_count": 6,
   "metadata": {},
   "outputs": [],
   "source": [
    "balloted = just_ballots.applymap(lambda x: submission_dict[x] if isinstance(x, str) else x)"
   ]
  },
  {
   "cell_type": "code",
   "execution_count": 7,
   "metadata": {},
   "outputs": [
    {
     "data": {
      "text/plain": "{'Death Becomes Her (1992)': <Candidate('Death Becomes Her (1992)')>,\n '4 Months, 3 Weeks and 2 Days (2007)': <Candidate('4 Months, 3 Weeks and 2 Days (2007)')>,\n \"Charlie's Angels: Full Throttle (2003)\": <Candidate('Charlie's Angels: Full Throttle (2003)')>,\n 'Faster, Pussycat! Kill! Kill! (1965)': <Candidate('Faster, Pussycat! Kill! Kill! (1965)')>,\n 'Showgirls (1995)': <Candidate('Showgirls (1995)')>,\n 'Les Diaboliques (1955)': <Candidate('Les Diaboliques (1955)')>}"
     },
     "execution_count": 7,
     "metadata": {},
     "output_type": "execute_result"
    }
   ],
   "source": [
    "submission_dict"
   ]
  },
  {
   "cell_type": "code",
   "execution_count": 8,
   "metadata": {},
   "outputs": [],
   "source": [
    "ballots = []\n",
    "for ballot in balloted.itertuples():\n",
    "    ballots.append(pyrankvote.Ballot(ranked_candidates=[b for b in ballot if isinstance(b, pyrankvote.Candidate)]))"
   ]
  },
  {
   "cell_type": "code",
   "execution_count": 9,
   "metadata": {},
   "outputs": [
    {
     "data": {
      "text/plain": "[<Ballot(Death Becomes Her (1992), 4 Months, 3 Weeks and 2 Days (2007), Charlie's Angels: Full Throttle (2003), Faster, Pussycat! Kill! Kill! (1965), Showgirls (1995), Les Diaboliques (1955))>,\n <Ballot(4 Months, 3 Weeks and 2 Days (2007), Faster, Pussycat! Kill! Kill! (1965), Death Becomes Her (1992))>,\n <Ballot(Showgirls (1995), Faster, Pussycat! Kill! Kill! (1965), Les Diaboliques (1955), Death Becomes Her (1992), 4 Months, 3 Weeks and 2 Days (2007))>,\n <Ballot(Showgirls (1995), Death Becomes Her (1992), Faster, Pussycat! Kill! Kill! (1965), 4 Months, 3 Weeks and 2 Days (2007))>,\n <Ballot(Death Becomes Her (1992), Showgirls (1995), Les Diaboliques (1955), Charlie's Angels: Full Throttle (2003), 4 Months, 3 Weeks and 2 Days (2007), Faster, Pussycat! Kill! Kill! (1965))>,\n <Ballot(Les Diaboliques (1955), Death Becomes Her (1992), Charlie's Angels: Full Throttle (2003), Showgirls (1995), Faster, Pussycat! Kill! Kill! (1965))>,\n <Ballot(Faster, Pussycat! Kill! Kill! (1965), Les Diaboliques (1955), Death Becomes Her (1992), Showgirls (1995), 4 Months, 3 Weeks and 2 Days (2007), Charlie's Angels: Full Throttle (2003))>]"
     },
     "execution_count": 9,
     "metadata": {},
     "output_type": "execute_result"
    }
   ],
   "source": [
    "ballots"
   ]
  },
  {
   "cell_type": "code",
   "execution_count": 10,
   "metadata": {},
   "outputs": [],
   "source": [
    "election_result = pyrankvote.instant_runoff_voting(submission_dict.values(), ballots,)"
   ]
  },
  {
   "cell_type": "code",
   "execution_count": 11,
   "metadata": {},
   "outputs": [
    {
     "name": "stdout",
     "output_type": "stream",
     "text": [
      "ROUND 1\n",
      "Candidate                                 Votes  Status\n",
      "--------------------------------------  -------  --------\n",
      "Death Becomes Her (1992)                      2  Hopeful\n",
      "Showgirls (1995)                              2  Hopeful\n",
      "Faster, Pussycat! Kill! Kill! (1965)          1  Hopeful\n",
      "Les Diaboliques (1955)                        1  Hopeful\n",
      "4 Months, 3 Weeks and 2 Days (2007)           1  Rejected\n",
      "Charlie's Angels: Full Throttle (2003)        0  Rejected\n",
      "\n",
      "ROUND 2\n",
      "Candidate                                 Votes  Status\n",
      "--------------------------------------  -------  --------\n",
      "Death Becomes Her (1992)                      2  Hopeful\n",
      "Faster, Pussycat! Kill! Kill! (1965)          2  Hopeful\n",
      "Showgirls (1995)                              2  Hopeful\n",
      "Les Diaboliques (1955)                        1  Rejected\n",
      "4 Months, 3 Weeks and 2 Days (2007)           0  Rejected\n",
      "Charlie's Angels: Full Throttle (2003)        0  Rejected\n",
      "\n",
      "ROUND 3\n",
      "Candidate                                 Votes  Status\n",
      "--------------------------------------  -------  --------\n",
      "Death Becomes Her (1992)                      3  Hopeful\n",
      "Faster, Pussycat! Kill! Kill! (1965)          2  Hopeful\n",
      "Showgirls (1995)                              2  Rejected\n",
      "Les Diaboliques (1955)                        0  Rejected\n",
      "4 Months, 3 Weeks and 2 Days (2007)           0  Rejected\n",
      "Charlie's Angels: Full Throttle (2003)        0  Rejected\n",
      "\n",
      "FINAL RESULT\n",
      "Candidate                                 Votes  Status\n",
      "--------------------------------------  -------  --------\n",
      "Death Becomes Her (1992)                      4  Elected\n",
      "Faster, Pussycat! Kill! Kill! (1965)          3  Rejected\n",
      "Showgirls (1995)                              0  Rejected\n",
      "Les Diaboliques (1955)                        0  Rejected\n",
      "4 Months, 3 Weeks and 2 Days (2007)           0  Rejected\n",
      "Charlie's Angels: Full Throttle (2003)        0  Rejected\n",
      "\n"
     ]
    }
   ],
   "source": [
    "print(election_result)"
   ]
  },
  {
   "cell_type": "code",
   "execution_count": 12,
   "metadata": {},
   "outputs": [
    {
     "name": "stdout",
     "output_type": "stream",
     "text": [
      "ROUND 1\n",
      "Candidate                                                         Votes  Status\n",
      "--------------------------------------------------------------  -------  --------\n",
      "SOUNDTRACK IS A BOP!                                                  2  Hopeful\n",
      "BEST MOVIE IN WORST GENRE                                             2  Hopeful\n",
      "OOPS! ALL CARY GRANT                                                  1  Hopeful\n",
      "BLOOD SOAKED SUMMER                                                   1  Hopeful\n",
      "ALL AUSTRALIANS ARE CRIMINALS                                         1  Rejected\n",
      "ROMANTIC COMEDIES, THE 1970S, SPANISH CINEMA, SCORSESE CONTENT        0  Rejected\n",
      "[Default to Nicolas Cage]                                             0  Rejected\n",
      "\n",
      "ROUND 2\n",
      "Candidate                                                         Votes  Status\n",
      "--------------------------------------------------------------  -------  --------\n",
      "SOUNDTRACK IS A BOP!                                                  3  Hopeful\n",
      "BEST MOVIE IN WORST GENRE                                             2  Hopeful\n",
      "OOPS! ALL CARY GRANT                                                  1  Rejected\n",
      "BLOOD SOAKED SUMMER                                                   1  Rejected\n",
      "ALL AUSTRALIANS ARE CRIMINALS                                         0  Rejected\n",
      "ROMANTIC COMEDIES, THE 1970S, SPANISH CINEMA, SCORSESE CONTENT        0  Rejected\n",
      "[Default to Nicolas Cage]                                             0  Rejected\n",
      "\n",
      "FINAL RESULT\n",
      "Candidate                                                         Votes  Status\n",
      "--------------------------------------------------------------  -------  --------\n",
      "SOUNDTRACK IS A BOP!                                                  4  Elected\n",
      "BEST MOVIE IN WORST GENRE                                             3  Rejected\n",
      "OOPS! ALL CARY GRANT                                                  0  Rejected\n",
      "BLOOD SOAKED SUMMER                                                   0  Rejected\n",
      "ALL AUSTRALIANS ARE CRIMINALS                                         0  Rejected\n",
      "ROMANTIC COMEDIES, THE 1970S, SPANISH CINEMA, SCORSESE CONTENT        0  Rejected\n",
      "[Default to Nicolas Cage]                                             0  Rejected\n",
      "\n"
     ]
    }
   ],
   "source": [
    "submissions = next_week.loc[next_week.notna().all(axis=1).idxmax(),:].values\n",
    "submission_dict = {submission: pyrankvote.Candidate(submission) for submission in submissions}\n",
    "balloted = next_week.applymap(lambda x: submission_dict[x] if isinstance(x, str) else x)\n",
    "ballots = []\n",
    "for ballot in balloted.itertuples():\n",
    "    ballots.append(pyrankvote.Ballot(ranked_candidates=[b for b in ballot if isinstance(b, pyrankvote.Candidate)]))\n",
    "print(pyrankvote.instant_runoff_voting(submission_dict.values(), ballots,))"
   ]
  }
 ],
 "metadata": {
  "kernelspec": {
   "display_name": "Python 3",
   "language": "python",
   "name": "python3"
  },
  "language_info": {
   "codemirror_mode": {
    "name": "ipython",
    "version": 3
   },
   "file_extension": ".py",
   "mimetype": "text/x-python",
   "name": "python",
   "nbconvert_exporter": "python",
   "pygments_lexer": "ipython3",
   "version": "3.7.4"
  }
 },
 "nbformat": 4,
 "nbformat_minor": 2
}