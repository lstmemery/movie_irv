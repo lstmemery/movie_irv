{
 "cells": [
  {
   "cell_type": "code",
   "execution_count": 1,
   "metadata": {},
   "outputs": [],
   "source": [
    "import pandas as pd\n",
    "import pyrankvote\n",
    "from pathlib import Path\n",
    "from random import seed\n",
    "seed(252)"
   ]
  },
  {
   "cell_type": "code",
   "execution_count": 2,
   "metadata": {},
   "outputs": [
    {
     "data": {
      "text/plain": "             Timestamp  \\\n0  22/06/2021 17:18:09   \n1  22/06/2021 17:21:38   \n2  22/06/2021 17:28:08   \n3  23/06/2021 08:47:33   \n4  24/06/2021 10:29:19   \n\n  Rank your movie choices. You don't have to do a full ranking. [First Choice]  \\\n0                           A Fantastic Woman (2017)                             \n1                             Taste of Cherry (1997)                             \n2                                      Hyenas (1992)                             \n3                                      Hyenas (1992)                             \n4                                      Hyenas (1992)                             \n\n  Rank your movie choices. You don't have to do a full ranking. [Second Choice]  \\\n0                             Taste of Cherry (1997)                              \n1                           A Fantastic Woman (2017)                              \n2                             Taste of Cherry (1997)                              \n3                           A Fantastic Woman (2017)                              \n4                             Taste of Cherry (1997)                              \n\n  Rank your movie choices. You don't have to do a full ranking. [Third Choice]  \\\n0                                      Hyenas (1992)                             \n1                                      Hyenas (1992)                             \n2                           A Fantastic Woman (2017)                             \n3                             Taste of Cherry (1997)                             \n4                           A Fantastic Woman (2017)                             \n\n  What theme should we explore next week? [First Choice]  \\\n0                                            ANIMALS       \n1     ACTUALLY, BASEBALL IS THE GREATEST MOVIE SPORT       \n2                                     ANIMAL CO-STAR       \n3                                     ANIMAL CO-STAR       \n4                                     ANIMAL CO-STAR       \n\n  What theme should we explore next week? [Second Choice]  \\\n0                                     ANIMAL CO-STAR        \n1                                     ANIMAL CO-STAR        \n2                                            ANIMALS        \n3     ACTUALLY, BASEBALL IS THE GREATEST MOVIE SPORT        \n4     ACTUALLY, BASEBALL IS THE GREATEST MOVIE SPORT        \n\n  What theme should we explore next week? [Third Choice]  \\\n0                          [Default to Nicolas Cage]       \n1                                            ANIMALS       \n2                          [Default to Nicolas Cage]       \n3                          [Default to Nicolas Cage]       \n4                                            ANIMALS       \n\n  What theme should we explore next week? [Fourth Choice]  \n0     ACTUALLY, BASEBALL IS THE GREATEST MOVIE SPORT       \n1                          [Default to Nicolas Cage]       \n2     ACTUALLY, BASEBALL IS THE GREATEST MOVIE SPORT       \n3                                            ANIMALS       \n4                          [Default to Nicolas Cage]       ",
      "text/html": "<div>\n<style scoped>\n    .dataframe tbody tr th:only-of-type {\n        vertical-align: middle;\n    }\n\n    .dataframe tbody tr th {\n        vertical-align: top;\n    }\n\n    .dataframe thead th {\n        text-align: right;\n    }\n</style>\n<table border=\"1\" class=\"dataframe\">\n  <thead>\n    <tr style=\"text-align: right;\">\n      <th></th>\n      <th>Timestamp</th>\n      <th>Rank your movie choices. You don't have to do a full ranking. [First Choice]</th>\n      <th>Rank your movie choices. You don't have to do a full ranking. [Second Choice]</th>\n      <th>Rank your movie choices. You don't have to do a full ranking. [Third Choice]</th>\n      <th>What theme should we explore next week? [First Choice]</th>\n      <th>What theme should we explore next week? [Second Choice]</th>\n      <th>What theme should we explore next week? [Third Choice]</th>\n      <th>What theme should we explore next week? [Fourth Choice]</th>\n    </tr>\n  </thead>\n  <tbody>\n    <tr>\n      <th>0</th>\n      <td>22/06/2021 17:18:09</td>\n      <td>A Fantastic Woman (2017)</td>\n      <td>Taste of Cherry (1997)</td>\n      <td>Hyenas (1992)</td>\n      <td>ANIMALS</td>\n      <td>ANIMAL CO-STAR</td>\n      <td>[Default to Nicolas Cage]</td>\n      <td>ACTUALLY, BASEBALL IS THE GREATEST MOVIE SPORT</td>\n    </tr>\n    <tr>\n      <th>1</th>\n      <td>22/06/2021 17:21:38</td>\n      <td>Taste of Cherry (1997)</td>\n      <td>A Fantastic Woman (2017)</td>\n      <td>Hyenas (1992)</td>\n      <td>ACTUALLY, BASEBALL IS THE GREATEST MOVIE SPORT</td>\n      <td>ANIMAL CO-STAR</td>\n      <td>ANIMALS</td>\n      <td>[Default to Nicolas Cage]</td>\n    </tr>\n    <tr>\n      <th>2</th>\n      <td>22/06/2021 17:28:08</td>\n      <td>Hyenas (1992)</td>\n      <td>Taste of Cherry (1997)</td>\n      <td>A Fantastic Woman (2017)</td>\n      <td>ANIMAL CO-STAR</td>\n      <td>ANIMALS</td>\n      <td>[Default to Nicolas Cage]</td>\n      <td>ACTUALLY, BASEBALL IS THE GREATEST MOVIE SPORT</td>\n    </tr>\n    <tr>\n      <th>3</th>\n      <td>23/06/2021 08:47:33</td>\n      <td>Hyenas (1992)</td>\n      <td>A Fantastic Woman (2017)</td>\n      <td>Taste of Cherry (1997)</td>\n      <td>ANIMAL CO-STAR</td>\n      <td>ACTUALLY, BASEBALL IS THE GREATEST MOVIE SPORT</td>\n      <td>[Default to Nicolas Cage]</td>\n      <td>ANIMALS</td>\n    </tr>\n    <tr>\n      <th>4</th>\n      <td>24/06/2021 10:29:19</td>\n      <td>Hyenas (1992)</td>\n      <td>Taste of Cherry (1997)</td>\n      <td>A Fantastic Woman (2017)</td>\n      <td>ANIMAL CO-STAR</td>\n      <td>ACTUALLY, BASEBALL IS THE GREATEST MOVIE SPORT</td>\n      <td>ANIMALS</td>\n      <td>[Default to Nicolas Cage]</td>\n    </tr>\n  </tbody>\n</table>\n</div>"
     },
     "execution_count": 2,
     "metadata": {},
     "output_type": "execute_result"
    }
   ],
   "source": [
    "df = pd.read_csv(Path('./data/20210626.csv').resolve())\n",
    "df"
   ]
  },
  {
   "cell_type": "code",
   "execution_count": 3,
   "metadata": {},
   "outputs": [],
   "source": [
    "just_ballots = df.loc[:, df.columns.str.startswith('Rank')]\n",
    "next_week = df.loc[:, df.columns.str.startswith('What')]"
   ]
  },
  {
   "cell_type": "code",
   "execution_count": 4,
   "metadata": {},
   "outputs": [
    {
     "data": {
      "text/plain": "array(['A Fantastic Woman (2017)', 'Taste of Cherry (1997)',\n       'Hyenas (1992)'], dtype=object)"
     },
     "execution_count": 4,
     "metadata": {},
     "output_type": "execute_result"
    }
   ],
   "source": [
    "submissions = just_ballots.loc[just_ballots.notna().all(axis=1).idxmax(),:].values\n",
    "submissions"
   ]
  },
  {
   "cell_type": "code",
   "execution_count": 5,
   "metadata": {},
   "outputs": [],
   "source": [
    "submission_dict = {submission: pyrankvote.Candidate(submission) for submission in submissions}"
   ]
  },
  {
   "cell_type": "code",
   "execution_count": 6,
   "metadata": {},
   "outputs": [],
   "source": [
    "balloted = just_ballots.applymap(lambda x: submission_dict[x] if isinstance(x, str) else x)"
   ]
  },
  {
   "cell_type": "code",
   "execution_count": 7,
   "metadata": {},
   "outputs": [
    {
     "data": {
      "text/plain": "{'A Fantastic Woman (2017)': <Candidate('A Fantastic Woman (2017)')>,\n 'Taste of Cherry (1997)': <Candidate('Taste of Cherry (1997)')>,\n 'Hyenas (1992)': <Candidate('Hyenas (1992)')>}"
     },
     "execution_count": 7,
     "metadata": {},
     "output_type": "execute_result"
    }
   ],
   "source": [
    "submission_dict"
   ]
  },
  {
   "cell_type": "code",
   "execution_count": 8,
   "metadata": {},
   "outputs": [],
   "source": [
    "ballots = []\n",
    "for ballot in balloted.itertuples():\n",
    "    ballots.append(pyrankvote.Ballot(ranked_candidates=[b for b in ballot if isinstance(b, pyrankvote.Candidate)]))"
   ]
  },
  {
   "cell_type": "code",
   "execution_count": 9,
   "metadata": {},
   "outputs": [
    {
     "data": {
      "text/plain": "[<Ballot(A Fantastic Woman (2017), Taste of Cherry (1997), Hyenas (1992))>,\n <Ballot(Taste of Cherry (1997), A Fantastic Woman (2017), Hyenas (1992))>,\n <Ballot(Hyenas (1992), Taste of Cherry (1997), A Fantastic Woman (2017))>,\n <Ballot(Hyenas (1992), A Fantastic Woman (2017), Taste of Cherry (1997))>,\n <Ballot(Hyenas (1992), Taste of Cherry (1997), A Fantastic Woman (2017))>]"
     },
     "execution_count": 9,
     "metadata": {},
     "output_type": "execute_result"
    }
   ],
   "source": [
    "ballots"
   ]
  },
  {
   "cell_type": "code",
   "execution_count": 10,
   "metadata": {},
   "outputs": [],
   "source": [
    "election_result = pyrankvote.instant_runoff_voting(submission_dict.values(), ballots,)"
   ]
  },
  {
   "cell_type": "code",
   "execution_count": 11,
   "metadata": {},
   "outputs": [
    {
     "name": "stdout",
     "output_type": "stream",
     "text": [
      "FINAL RESULT\n",
      "Candidate                   Votes  Status\n",
      "------------------------  -------  --------\n",
      "Hyenas (1992)                   3  Elected\n",
      "Taste of Cherry (1997)          1  Rejected\n",
      "A Fantastic Woman (2017)        1  Rejected\n",
      "\n"
     ]
    }
   ],
   "source": [
    "print(election_result)"
   ]
  },
  {
   "cell_type": "code",
   "execution_count": 12,
   "metadata": {},
   "outputs": [
    {
     "name": "stdout",
     "output_type": "stream",
     "text": [
      "FINAL RESULT\n",
      "Candidate                                         Votes  Status\n",
      "----------------------------------------------  -------  --------\n",
      "ANIMAL CO-STAR                                        3  Elected\n",
      "ACTUALLY, BASEBALL IS THE GREATEST MOVIE SPORT        1  Rejected\n",
      "ANIMALS                                               1  Rejected\n",
      "[Default to Nicolas Cage]                             0  Rejected\n",
      "\n"
     ]
    }
   ],
   "source": [
    "submissions = next_week.loc[next_week.notna().all(axis=1).idxmax(),:].values\n",
    "submission_dict = {submission: pyrankvote.Candidate(submission) for submission in submissions}\n",
    "balloted = next_week.applymap(lambda x: submission_dict[x] if isinstance(x, str) else x)\n",
    "ballots = []\n",
    "for ballot in balloted.itertuples():\n",
    "    ballots.append(pyrankvote.Ballot(ranked_candidates=[b for b in ballot if isinstance(b, pyrankvote.Candidate)]))\n",
    "print(pyrankvote.instant_runoff_voting(submission_dict.values(), ballots,))"
   ]
  }
 ],
 "metadata": {
  "kernelspec": {
   "display_name": "Python 3",
   "language": "python",
   "name": "python3"
  },
  "language_info": {
   "codemirror_mode": {
    "name": "ipython",
    "version": 3
   },
   "file_extension": ".py",
   "mimetype": "text/x-python",
   "name": "python",
   "nbconvert_exporter": "python",
   "pygments_lexer": "ipython3",
   "version": "3.7.4"
  }
 },
 "nbformat": 4,
 "nbformat_minor": 2
}