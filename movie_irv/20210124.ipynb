{
 "cells": [
  {
   "cell_type": "code",
   "execution_count": 1,
   "metadata": {},
   "outputs": [],
   "source": [
    "import pandas as pd\n",
    "import pyrankvote\n",
    "from pathlib import Path\n",
    "from random import seed\n",
    "seed(252)"
   ]
  },
  {
   "cell_type": "code",
   "execution_count": 2,
   "metadata": {},
   "outputs": [
    {
     "data": {
      "text/plain": "            Timestamp  \\\n0  1/19/2021 20:36:40   \n1  1/19/2021 20:56:16   \n2  1/19/2021 20:56:36   \n3  1/19/2021 20:57:16   \n4  1/19/2021 21:20:44   \n5   1/20/2021 9:19:50   \n6  1/20/2021 18:09:19   \n7   1/21/2021 8:54:50   \n8   1/21/2021 9:05:49   \n\n  Rank your movie choices. You don't have to do a full ranking. [First Choice]  \\\n0                                 The General (1926)                             \n1          The Taking of Pelham One Two Three (1974)                             \n2                                   The Train (1964)                             \n3          The Taking of Pelham One Two Three (1974)                             \n4                              Train to Busan (2016)                             \n5                Murder on the Orient Express (1974)                             \n6                Murder on the Orient Express (1974)                             \n7                Murder on the Orient Express (1974)                             \n8                                 The General (1926)                             \n\n  Rank your movie choices. You don't have to do a full ranking. [Second Choice]  \\\n0                                   The Train (1964)                              \n1                        Strangers On A Train (1951)                              \n2          The Taking of Pelham One Two Three (1974)                              \n3                        Strangers On A Train (1951)                              \n4                Murder on the Orient Express (1974)                              \n5                              Train to Busan (2016)                              \n6                              Train to Busan (2016)                              \n7          The Taking of Pelham One Two Three (1974)                              \n8          The Taking of Pelham One Two Three (1974)                              \n\n  Rank your movie choices. You don't have to do a full ranking. [Third Choice]  \\\n0          The Taking of Pelham One Two Three (1974)                             \n1                                 The General (1926)                             \n2                Murder on the Orient Express (1974)                             \n3                              Train to Busan (2016)                             \n4                        Strangers On A Train (1951)                             \n5          The Taking of Pelham One Two Three (1974)                             \n6          The Taking of Pelham One Two Three (1974)                             \n7                                   The Train (1964)                             \n8                Murder on the Orient Express (1974)                             \n\n  Rank your movie choices. You don't have to do a full ranking. [Fourth Choice]  \\\n0                        Strangers On A Train (1951)                              \n1                                   The Train (1964)                              \n2                                                NaN                              \n3                                   The Train (1964)                              \n4                                                NaN                              \n5                        Strangers On A Train (1951)                              \n6                        Strangers On A Train (1951)                              \n7                                 The General (1926)                              \n8                                   The Train (1964)                              \n\n  Rank your movie choices. You don't have to do a full ranking. [Fifth Choice]  \\\n0                Murder on the Orient Express (1974)                             \n1                              Train to Busan (2016)                             \n2                                                NaN                             \n3                Murder on the Orient Express (1974)                             \n4                                                NaN                             \n5                                 The General (1926)                             \n6                                 The General (1926)                             \n7                        Strangers On A Train (1951)                             \n8                              Train to Busan (2016)                             \n\n  Rank your movie choices. You don't have to do a full ranking. [Sixth Choice]  \\\n0                              Train to Busan (2016)                             \n1                Murder on the Orient Express (1974)                             \n2                                                NaN                             \n3                                 The General (1926)                             \n4                                                NaN                             \n5                                   The Train (1964)                             \n6                                                NaN                             \n7                              Train to Busan (2016)                             \n8                        Strangers On A Train (1951)                             \n\n  What theme should we explore next week? [First Choice]  \\\n0                   THE WOLVES ARE AT OL' GIL'S DOOR       \n1      GOLAN-GLOBUS A GO-GO!: THE CANNON GROUP, INC.       \n2                   THE WOLVES ARE AT OL' GIL'S DOOR       \n3                     SUGGESTED ON A PODCAST EPISODE       \n4                                      PAUL GIAMATTI       \n5                     THIS CARTOON AINT FOR CHILDREN       \n6                   THE WOLVES ARE AT OL' GIL'S DOOR       \n7                          [Default to Nicolas Cage]       \n8                                      PAUL GIAMATTI       \n\n  What theme should we explore next week? [Second Choice]  \\\n0                     THIS CARTOON AINT FOR CHILDREN        \n1                   THE WOLVES ARE AT OL' GIL'S DOOR        \n2      GOLAN-GLOBUS A GO-GO!: THE CANNON GROUP, INC.        \n3                     THIS CARTOON AINT FOR CHILDREN        \n4   IF YOU AIN’T GOT NO MONEY TAKE YO BROKE ASS HOME        \n5                                      PAUL GIAMATTI        \n6      GOLAN-GLOBUS A GO-GO!: THE CANNON GROUP, INC.        \n7                   THE WOLVES ARE AT OL' GIL'S DOOR        \n8                          [Default to Nicolas Cage]        \n\n  What theme should we explore next week? [Third Choice]  \\\n0                          [Default to Nicolas Cage]       \n1                     THIS CARTOON AINT FOR CHILDREN       \n2                     SUGGESTED ON A PODCAST EPISODE       \n3      GOLAN-GLOBUS A GO-GO!: THE CANNON GROUP, INC.       \n4                          [Default to Nicolas Cage]       \n5   IF YOU AIN’T GOT NO MONEY TAKE YO BROKE ASS HOME       \n6                     THIS CARTOON AINT FOR CHILDREN       \n7                     THIS CARTOON AINT FOR CHILDREN       \n8                     THIS CARTOON AINT FOR CHILDREN       \n\n  What theme should we explore next week? [Fourth Choice]  \\\n0                                      PAUL GIAMATTI        \n1   IF YOU AIN’T GOT NO MONEY TAKE YO BROKE ASS HOME        \n2   IF YOU AIN’T GOT NO MONEY TAKE YO BROKE ASS HOME        \n3                   THE WOLVES ARE AT OL' GIL'S DOOR        \n4                     THIS CARTOON AINT FOR CHILDREN        \n5                          [Default to Nicolas Cage]        \n6                                      PAUL GIAMATTI        \n7   IF YOU AIN’T GOT NO MONEY TAKE YO BROKE ASS HOME        \n8                     SUGGESTED ON A PODCAST EPISODE        \n\n  What theme should we explore next week? [Fifth Choice]  \\\n0                     SUGGESTED ON A PODCAST EPISODE       \n1                     SUGGESTED ON A PODCAST EPISODE       \n2                     THIS CARTOON AINT FOR CHILDREN       \n3   IF YOU AIN’T GOT NO MONEY TAKE YO BROKE ASS HOME       \n4                                                NaN       \n5                   THE WOLVES ARE AT OL' GIL'S DOOR       \n6                          [Default to Nicolas Cage]       \n7      GOLAN-GLOBUS A GO-GO!: THE CANNON GROUP, INC.       \n8                   THE WOLVES ARE AT OL' GIL'S DOOR       \n\n  What theme should we explore next week? [Sixth Choice]  \\\n0   IF YOU AIN’T GOT NO MONEY TAKE YO BROKE ASS HOME       \n1                                      PAUL GIAMATTI       \n2                          [Default to Nicolas Cage]       \n3                                      PAUL GIAMATTI       \n4                                                NaN       \n5      GOLAN-GLOBUS A GO-GO!: THE CANNON GROUP, INC.       \n6                                                NaN       \n7                                      PAUL GIAMATTI       \n8   IF YOU AIN’T GOT NO MONEY TAKE YO BROKE ASS HOME       \n\n  What theme should we explore next week? [Seventh Choice]  \n0      GOLAN-GLOBUS A GO-GO!: THE CANNON GROUP, INC.        \n1                          [Default to Nicolas Cage]        \n2                                      PAUL GIAMATTI        \n3                          [Default to Nicolas Cage]        \n4                                                NaN        \n5                     SUGGESTED ON A PODCAST EPISODE        \n6                                                NaN        \n7                     SUGGESTED ON A PODCAST EPISODE        \n8      GOLAN-GLOBUS A GO-GO!: THE CANNON GROUP, INC.        ",
      "text/html": "<div>\n<style scoped>\n    .dataframe tbody tr th:only-of-type {\n        vertical-align: middle;\n    }\n\n    .dataframe tbody tr th {\n        vertical-align: top;\n    }\n\n    .dataframe thead th {\n        text-align: right;\n    }\n</style>\n<table border=\"1\" class=\"dataframe\">\n  <thead>\n    <tr style=\"text-align: right;\">\n      <th></th>\n      <th>Timestamp</th>\n      <th>Rank your movie choices. You don't have to do a full ranking. [First Choice]</th>\n      <th>Rank your movie choices. You don't have to do a full ranking. [Second Choice]</th>\n      <th>Rank your movie choices. You don't have to do a full ranking. [Third Choice]</th>\n      <th>Rank your movie choices. You don't have to do a full ranking. [Fourth Choice]</th>\n      <th>Rank your movie choices. You don't have to do a full ranking. [Fifth Choice]</th>\n      <th>Rank your movie choices. You don't have to do a full ranking. [Sixth Choice]</th>\n      <th>What theme should we explore next week? [First Choice]</th>\n      <th>What theme should we explore next week? [Second Choice]</th>\n      <th>What theme should we explore next week? [Third Choice]</th>\n      <th>What theme should we explore next week? [Fourth Choice]</th>\n      <th>What theme should we explore next week? [Fifth Choice]</th>\n      <th>What theme should we explore next week? [Sixth Choice]</th>\n      <th>What theme should we explore next week? [Seventh Choice]</th>\n    </tr>\n  </thead>\n  <tbody>\n    <tr>\n      <th>0</th>\n      <td>1/19/2021 20:36:40</td>\n      <td>The General (1926)</td>\n      <td>The Train (1964)</td>\n      <td>The Taking of Pelham One Two Three (1974)</td>\n      <td>Strangers On A Train (1951)</td>\n      <td>Murder on the Orient Express (1974)</td>\n      <td>Train to Busan (2016)</td>\n      <td>THE WOLVES ARE AT OL' GIL'S DOOR</td>\n      <td>THIS CARTOON AINT FOR CHILDREN</td>\n      <td>[Default to Nicolas Cage]</td>\n      <td>PAUL GIAMATTI</td>\n      <td>SUGGESTED ON A PODCAST EPISODE</td>\n      <td>IF YOU AIN’T GOT NO MONEY TAKE YO BROKE ASS HOME</td>\n      <td>GOLAN-GLOBUS A GO-GO!: THE CANNON GROUP, INC.</td>\n    </tr>\n    <tr>\n      <th>1</th>\n      <td>1/19/2021 20:56:16</td>\n      <td>The Taking of Pelham One Two Three (1974)</td>\n      <td>Strangers On A Train (1951)</td>\n      <td>The General (1926)</td>\n      <td>The Train (1964)</td>\n      <td>Train to Busan (2016)</td>\n      <td>Murder on the Orient Express (1974)</td>\n      <td>GOLAN-GLOBUS A GO-GO!: THE CANNON GROUP, INC.</td>\n      <td>THE WOLVES ARE AT OL' GIL'S DOOR</td>\n      <td>THIS CARTOON AINT FOR CHILDREN</td>\n      <td>IF YOU AIN’T GOT NO MONEY TAKE YO BROKE ASS HOME</td>\n      <td>SUGGESTED ON A PODCAST EPISODE</td>\n      <td>PAUL GIAMATTI</td>\n      <td>[Default to Nicolas Cage]</td>\n    </tr>\n    <tr>\n      <th>2</th>\n      <td>1/19/2021 20:56:36</td>\n      <td>The Train (1964)</td>\n      <td>The Taking of Pelham One Two Three (1974)</td>\n      <td>Murder on the Orient Express (1974)</td>\n      <td>NaN</td>\n      <td>NaN</td>\n      <td>NaN</td>\n      <td>THE WOLVES ARE AT OL' GIL'S DOOR</td>\n      <td>GOLAN-GLOBUS A GO-GO!: THE CANNON GROUP, INC.</td>\n      <td>SUGGESTED ON A PODCAST EPISODE</td>\n      <td>IF YOU AIN’T GOT NO MONEY TAKE YO BROKE ASS HOME</td>\n      <td>THIS CARTOON AINT FOR CHILDREN</td>\n      <td>[Default to Nicolas Cage]</td>\n      <td>PAUL GIAMATTI</td>\n    </tr>\n    <tr>\n      <th>3</th>\n      <td>1/19/2021 20:57:16</td>\n      <td>The Taking of Pelham One Two Three (1974)</td>\n      <td>Strangers On A Train (1951)</td>\n      <td>Train to Busan (2016)</td>\n      <td>The Train (1964)</td>\n      <td>Murder on the Orient Express (1974)</td>\n      <td>The General (1926)</td>\n      <td>SUGGESTED ON A PODCAST EPISODE</td>\n      <td>THIS CARTOON AINT FOR CHILDREN</td>\n      <td>GOLAN-GLOBUS A GO-GO!: THE CANNON GROUP, INC.</td>\n      <td>THE WOLVES ARE AT OL' GIL'S DOOR</td>\n      <td>IF YOU AIN’T GOT NO MONEY TAKE YO BROKE ASS HOME</td>\n      <td>PAUL GIAMATTI</td>\n      <td>[Default to Nicolas Cage]</td>\n    </tr>\n    <tr>\n      <th>4</th>\n      <td>1/19/2021 21:20:44</td>\n      <td>Train to Busan (2016)</td>\n      <td>Murder on the Orient Express (1974)</td>\n      <td>Strangers On A Train (1951)</td>\n      <td>NaN</td>\n      <td>NaN</td>\n      <td>NaN</td>\n      <td>PAUL GIAMATTI</td>\n      <td>IF YOU AIN’T GOT NO MONEY TAKE YO BROKE ASS HOME</td>\n      <td>[Default to Nicolas Cage]</td>\n      <td>THIS CARTOON AINT FOR CHILDREN</td>\n      <td>NaN</td>\n      <td>NaN</td>\n      <td>NaN</td>\n    </tr>\n    <tr>\n      <th>5</th>\n      <td>1/20/2021 9:19:50</td>\n      <td>Murder on the Orient Express (1974)</td>\n      <td>Train to Busan (2016)</td>\n      <td>The Taking of Pelham One Two Three (1974)</td>\n      <td>Strangers On A Train (1951)</td>\n      <td>The General (1926)</td>\n      <td>The Train (1964)</td>\n      <td>THIS CARTOON AINT FOR CHILDREN</td>\n      <td>PAUL GIAMATTI</td>\n      <td>IF YOU AIN’T GOT NO MONEY TAKE YO BROKE ASS HOME</td>\n      <td>[Default to Nicolas Cage]</td>\n      <td>THE WOLVES ARE AT OL' GIL'S DOOR</td>\n      <td>GOLAN-GLOBUS A GO-GO!: THE CANNON GROUP, INC.</td>\n      <td>SUGGESTED ON A PODCAST EPISODE</td>\n    </tr>\n    <tr>\n      <th>6</th>\n      <td>1/20/2021 18:09:19</td>\n      <td>Murder on the Orient Express (1974)</td>\n      <td>Train to Busan (2016)</td>\n      <td>The Taking of Pelham One Two Three (1974)</td>\n      <td>Strangers On A Train (1951)</td>\n      <td>The General (1926)</td>\n      <td>NaN</td>\n      <td>THE WOLVES ARE AT OL' GIL'S DOOR</td>\n      <td>GOLAN-GLOBUS A GO-GO!: THE CANNON GROUP, INC.</td>\n      <td>THIS CARTOON AINT FOR CHILDREN</td>\n      <td>PAUL GIAMATTI</td>\n      <td>[Default to Nicolas Cage]</td>\n      <td>NaN</td>\n      <td>NaN</td>\n    </tr>\n    <tr>\n      <th>7</th>\n      <td>1/21/2021 8:54:50</td>\n      <td>Murder on the Orient Express (1974)</td>\n      <td>The Taking of Pelham One Two Three (1974)</td>\n      <td>The Train (1964)</td>\n      <td>The General (1926)</td>\n      <td>Strangers On A Train (1951)</td>\n      <td>Train to Busan (2016)</td>\n      <td>[Default to Nicolas Cage]</td>\n      <td>THE WOLVES ARE AT OL' GIL'S DOOR</td>\n      <td>THIS CARTOON AINT FOR CHILDREN</td>\n      <td>IF YOU AIN’T GOT NO MONEY TAKE YO BROKE ASS HOME</td>\n      <td>GOLAN-GLOBUS A GO-GO!: THE CANNON GROUP, INC.</td>\n      <td>PAUL GIAMATTI</td>\n      <td>SUGGESTED ON A PODCAST EPISODE</td>\n    </tr>\n    <tr>\n      <th>8</th>\n      <td>1/21/2021 9:05:49</td>\n      <td>The General (1926)</td>\n      <td>The Taking of Pelham One Two Three (1974)</td>\n      <td>Murder on the Orient Express (1974)</td>\n      <td>The Train (1964)</td>\n      <td>Train to Busan (2016)</td>\n      <td>Strangers On A Train (1951)</td>\n      <td>PAUL GIAMATTI</td>\n      <td>[Default to Nicolas Cage]</td>\n      <td>THIS CARTOON AINT FOR CHILDREN</td>\n      <td>SUGGESTED ON A PODCAST EPISODE</td>\n      <td>THE WOLVES ARE AT OL' GIL'S DOOR</td>\n      <td>IF YOU AIN’T GOT NO MONEY TAKE YO BROKE ASS HOME</td>\n      <td>GOLAN-GLOBUS A GO-GO!: THE CANNON GROUP, INC.</td>\n    </tr>\n  </tbody>\n</table>\n</div>"
     },
     "execution_count": 2,
     "metadata": {},
     "output_type": "execute_result"
    }
   ],
   "source": [
    "df = pd.read_csv(Path('./data/20210124.csv').resolve())\n",
    "df"
   ]
  },
  {
   "cell_type": "code",
   "execution_count": 3,
   "metadata": {},
   "outputs": [],
   "source": [
    "just_ballots = df.loc[:, df.columns.str.startswith('Rank')]\n",
    "next_week = df.loc[:, df.columns.str.startswith('What')]"
   ]
  },
  {
   "cell_type": "code",
   "execution_count": 4,
   "metadata": {},
   "outputs": [
    {
     "data": {
      "text/plain": "array(['The General (1926)', 'The Train (1964)',\n       'The Taking of Pelham One Two Three (1974)',\n       'Strangers On A Train (1951)',\n       'Murder on the Orient Express (1974)', 'Train to Busan (2016)'],\n      dtype=object)"
     },
     "execution_count": 4,
     "metadata": {},
     "output_type": "execute_result"
    }
   ],
   "source": [
    "submissions = just_ballots.loc[just_ballots.notna().all(axis=1).idxmax(),:].values\n",
    "submissions"
   ]
  },
  {
   "cell_type": "code",
   "execution_count": 5,
   "metadata": {},
   "outputs": [],
   "source": [
    "submission_dict = {submission: pyrankvote.Candidate(submission) for submission in submissions}"
   ]
  },
  {
   "cell_type": "code",
   "execution_count": 6,
   "metadata": {},
   "outputs": [],
   "source": [
    "balloted = just_ballots.applymap(lambda x: submission_dict[x] if isinstance(x, str) else x)"
   ]
  },
  {
   "cell_type": "code",
   "execution_count": 7,
   "metadata": {},
   "outputs": [
    {
     "data": {
      "text/plain": "{'The General (1926)': <Candidate('The General (1926)')>,\n 'The Train (1964)': <Candidate('The Train (1964)')>,\n 'The Taking of Pelham One Two Three (1974)': <Candidate('The Taking of Pelham One Two Three (1974)')>,\n 'Strangers On A Train (1951)': <Candidate('Strangers On A Train (1951)')>,\n 'Murder on the Orient Express (1974)': <Candidate('Murder on the Orient Express (1974)')>,\n 'Train to Busan (2016)': <Candidate('Train to Busan (2016)')>}"
     },
     "execution_count": 7,
     "metadata": {},
     "output_type": "execute_result"
    }
   ],
   "source": [
    "submission_dict"
   ]
  },
  {
   "cell_type": "code",
   "execution_count": 8,
   "metadata": {},
   "outputs": [],
   "source": [
    "ballots = []\n",
    "for ballot in balloted.itertuples():\n",
    "    ballots.append(pyrankvote.Ballot(ranked_candidates=[b for b in ballot if isinstance(b, pyrankvote.Candidate)]))"
   ]
  },
  {
   "cell_type": "code",
   "execution_count": 9,
   "metadata": {},
   "outputs": [
    {
     "data": {
      "text/plain": "[<Ballot(The General (1926), The Train (1964), The Taking of Pelham One Two Three (1974), Strangers On A Train (1951), Murder on the Orient Express (1974), Train to Busan (2016))>,\n <Ballot(The Taking of Pelham One Two Three (1974), Strangers On A Train (1951), The General (1926), The Train (1964), Train to Busan (2016), Murder on the Orient Express (1974))>,\n <Ballot(The Train (1964), The Taking of Pelham One Two Three (1974), Murder on the Orient Express (1974))>,\n <Ballot(The Taking of Pelham One Two Three (1974), Strangers On A Train (1951), Train to Busan (2016), The Train (1964), Murder on the Orient Express (1974), The General (1926))>,\n <Ballot(Train to Busan (2016), Murder on the Orient Express (1974), Strangers On A Train (1951))>,\n <Ballot(Murder on the Orient Express (1974), Train to Busan (2016), The Taking of Pelham One Two Three (1974), Strangers On A Train (1951), The General (1926), The Train (1964))>,\n <Ballot(Murder on the Orient Express (1974), Train to Busan (2016), The Taking of Pelham One Two Three (1974), Strangers On A Train (1951), The General (1926))>,\n <Ballot(Murder on the Orient Express (1974), The Taking of Pelham One Two Three (1974), The Train (1964), The General (1926), Strangers On A Train (1951), Train to Busan (2016))>,\n <Ballot(The General (1926), The Taking of Pelham One Two Three (1974), Murder on the Orient Express (1974), The Train (1964), Train to Busan (2016), Strangers On A Train (1951))>]"
     },
     "execution_count": 9,
     "metadata": {},
     "output_type": "execute_result"
    }
   ],
   "source": [
    "ballots"
   ]
  },
  {
   "cell_type": "code",
   "execution_count": 10,
   "metadata": {},
   "outputs": [],
   "source": [
    "election_result = pyrankvote.instant_runoff_voting(submission_dict.values(), ballots,)"
   ]
  },
  {
   "cell_type": "code",
   "execution_count": 11,
   "metadata": {},
   "outputs": [
    {
     "name": "stdout",
     "output_type": "stream",
     "text": [
      "ROUND 1\n",
      "Candidate                                    Votes  Status\n",
      "-----------------------------------------  -------  --------\n",
      "Murder on the Orient Express (1974)              3  Hopeful\n",
      "The Taking of Pelham One Two Three (1974)        2  Hopeful\n",
      "The General (1926)                               2  Hopeful\n",
      "Train to Busan (2016)                            1  Rejected\n",
      "The Train (1964)                                 1  Rejected\n",
      "Strangers On A Train (1951)                      0  Rejected\n",
      "\n",
      "ROUND 2\n",
      "Candidate                                    Votes  Status\n",
      "-----------------------------------------  -------  --------\n",
      "Murder on the Orient Express (1974)              4  Hopeful\n",
      "The Taking of Pelham One Two Three (1974)        3  Hopeful\n",
      "The General (1926)                               2  Rejected\n",
      "Train to Busan (2016)                            0  Rejected\n",
      "The Train (1964)                                 0  Rejected\n",
      "Strangers On A Train (1951)                      0  Rejected\n",
      "\n",
      "FINAL RESULT\n",
      "Candidate                                    Votes  Status\n",
      "-----------------------------------------  -------  --------\n",
      "The Taking of Pelham One Two Three (1974)        5  Elected\n",
      "Murder on the Orient Express (1974)              4  Rejected\n",
      "The General (1926)                               0  Rejected\n",
      "Train to Busan (2016)                            0  Rejected\n",
      "The Train (1964)                                 0  Rejected\n",
      "Strangers On A Train (1951)                      0  Rejected\n",
      "\n"
     ]
    }
   ],
   "source": [
    "print(election_result)"
   ]
  },
  {
   "cell_type": "code",
   "execution_count": 12,
   "metadata": {},
   "outputs": [
    {
     "name": "stdout",
     "output_type": "stream",
     "text": [
      "ROUND 1\n",
      "Candidate                                           Votes  Status\n",
      "------------------------------------------------  -------  --------\n",
      "THE WOLVES ARE AT OL' GIL'S DOOR                        3  Hopeful\n",
      "PAUL GIAMATTI                                           2  Hopeful\n",
      "THIS CARTOON AINT FOR CHILDREN                          1  Hopeful\n",
      "GOLAN-GLOBUS A GO-GO!: THE CANNON GROUP, INC.           1  Hopeful\n",
      "[Default to Nicolas Cage]                               1  Hopeful\n",
      "SUGGESTED ON A PODCAST EPISODE                          1  Rejected\n",
      "IF YOU AIN’T GOT NO MONEY TAKE YO BROKE ASS HOME        0  Rejected\n",
      "\n",
      "ROUND 2\n",
      "Candidate                                           Votes  Status\n",
      "------------------------------------------------  -------  --------\n",
      "THE WOLVES ARE AT OL' GIL'S DOOR                        3  Hopeful\n",
      "THIS CARTOON AINT FOR CHILDREN                          2  Hopeful\n",
      "PAUL GIAMATTI                                           2  Hopeful\n",
      "GOLAN-GLOBUS A GO-GO!: THE CANNON GROUP, INC.           1  Rejected\n",
      "[Default to Nicolas Cage]                               1  Rejected\n",
      "SUGGESTED ON A PODCAST EPISODE                          0  Rejected\n",
      "IF YOU AIN’T GOT NO MONEY TAKE YO BROKE ASS HOME        0  Rejected\n",
      "\n",
      "FINAL RESULT\n",
      "Candidate                                           Votes  Status\n",
      "------------------------------------------------  -------  --------\n",
      "THE WOLVES ARE AT OL' GIL'S DOOR                        5  Elected\n",
      "THIS CARTOON AINT FOR CHILDREN                          2  Rejected\n",
      "PAUL GIAMATTI                                           2  Rejected\n",
      "GOLAN-GLOBUS A GO-GO!: THE CANNON GROUP, INC.           0  Rejected\n",
      "[Default to Nicolas Cage]                               0  Rejected\n",
      "SUGGESTED ON A PODCAST EPISODE                          0  Rejected\n",
      "IF YOU AIN’T GOT NO MONEY TAKE YO BROKE ASS HOME        0  Rejected\n",
      "\n"
     ]
    }
   ],
   "source": [
    "submissions = next_week.loc[next_week.notna().all(axis=1).idxmax(),:].values\n",
    "submission_dict = {submission: pyrankvote.Candidate(submission) for submission in submissions}\n",
    "balloted = next_week.applymap(lambda x: submission_dict[x] if isinstance(x, str) else x)\n",
    "ballots = []\n",
    "for ballot in balloted.itertuples():\n",
    "    ballots.append(pyrankvote.Ballot(ranked_candidates=[b for b in ballot if isinstance(b, pyrankvote.Candidate)]))\n",
    "print(pyrankvote.instant_runoff_voting(submission_dict.values(), ballots,))"
   ]
  }
 ],
 "metadata": {
  "kernelspec": {
   "display_name": "Python 3",
   "language": "python",
   "name": "python3"
  },
  "language_info": {
   "codemirror_mode": {
    "name": "ipython",
    "version": 3
   },
   "file_extension": ".py",
   "mimetype": "text/x-python",
   "name": "python",
   "nbconvert_exporter": "python",
   "pygments_lexer": "ipython3",
   "version": "3.7.4"
  }
 },
 "nbformat": 4,
 "nbformat_minor": 2
}