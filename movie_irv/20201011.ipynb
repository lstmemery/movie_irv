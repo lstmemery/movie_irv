{
 "cells": [
  {
   "cell_type": "code",
   "execution_count": 1,
   "metadata": {},
   "outputs": [],
   "source": [
    "import pandas as pd\n",
    "import pyrankvote\n",
    "from pathlib import Path"
   ]
  },
  {
   "cell_type": "code",
   "execution_count": 2,
   "metadata": {},
   "outputs": [
    {
     "data": {
      "text/plain": "            Timestamp  \\\n0  10/6/2020 19:05:29   \n1  10/6/2020 19:23:20   \n2  10/6/2020 19:31:12   \n3  10/6/2020 20:56:07   \n4  10/7/2020 21:30:24   \n5   10/8/2020 9:21:17   \n6  10/8/2020 17:05:25   \n7  10/8/2020 17:07:14   \n\n  Rank your movie choices. You don't have to do a full ranking. [First Choice]  \\\n0                               The 400 Blows (1959)                             \n1                                River's Edge (1986)                             \n2                               Winter's Bone (2010)                             \n3                   Adventures in Babysitting (1987)                             \n4                                    Girlhood (2014)                             \n5                               Winter's Bone (2010)                             \n6                   Adventures in Babysitting (1987)                             \n7                                    Girlhood (2014)                             \n\n  Rank your movie choices. You don't have to do a full ranking. [Second Choice]  \\\n0                                    Girlhood (2014)                              \n1                               The 400 Blows (1959)                              \n2                                River's Edge (1986)                              \n3                                River's Edge (1986)                              \n4                               Winter's Bone (2010)                              \n5                                River's Edge (1986)                              \n6                               Winter's Bone (2010)                              \n7                   Adventures in Babysitting (1987)                              \n\n  Rank your movie choices. You don't have to do a full ranking. [Third Choice]  \\\n0                                River's Edge (1986)                             \n1                               Winter's Bone (2010)                             \n2                               The 400 Blows (1959)                             \n3                               Winter's Bone (2010)                             \n4                               The 400 Blows (1959)                             \n5                   Adventures in Babysitting (1987)                             \n6                                    Girlhood (2014)                             \n7                               Winter's Bone (2010)                             \n\n  Rank your movie choices. You don't have to do a full ranking. [Fourth Choice]  \\\n0                   Adventures in Babysitting (1987)                              \n1                   Adventures in Babysitting (1987)                              \n2                   Adventures in Babysitting (1987)                              \n3                                    Girlhood (2014)                              \n4                   Adventures in Babysitting (1987)                              \n5                               The 400 Blows (1959)                              \n6                                River's Edge (1986)                              \n7                                River's Edge (1986)                              \n\n  Rank your movie choices. You don't have to do a full ranking. [Fifth Choice]  \\\n0                                                NaN                             \n1                                    Girlhood (2014)                             \n2                                    Girlhood (2014)                             \n3                               The 400 Blows (1959)                             \n4                                River's Edge (1986)                             \n5                                    Girlhood (2014)                             \n6                                                NaN                             \n7                               The 400 Blows (1959)                             \n\n  What theme should we explore next week? [First Choice]  \\\n0                           CREEPY CHILDREN FUCK OFF       \n1            THE POWER OF NATURE/THE NATURE OF POWER       \n2            THE POWER OF NATURE/THE NATURE OF POWER       \n3            THE NATURAL ENVIRONMENT: FRIEND OR FOE?       \n4                               HIGH STRESS THRILLER       \n5            THE POWER OF NATURE/THE NATURE OF POWER       \n6                               HIGH STRESS THRILLER       \n7                                         OLD PEOPLE       \n\n  What theme should we explore next week? [Second Choice]  \\\n0                                         OLD PEOPLE        \n1                               HIGH STRESS THRILLER        \n2            THE NATURAL ENVIRONMENT: FRIEND OR FOE?        \n3                           CREEPY CHILDREN FUCK OFF        \n4            THE NATURAL ENVIRONMENT: FRIEND OR FOE?        \n5            THE NATURAL ENVIRONMENT: FRIEND OR FOE?        \n6            THE POWER OF NATURE/THE NATURE OF POWER        \n7            THE POWER OF NATURE/THE NATURE OF POWER        \n\n  What theme should we explore next week? [Third Choice]  \\\n0                               HIGH STRESS THRILLER       \n1            THE NATURAL ENVIRONMENT: FRIEND OR FOE?       \n2                               HIGH STRESS THRILLER       \n3                               HIGH STRESS THRILLER       \n4                           CREEPY CHILDREN FUCK OFF       \n5                                         OLD PEOPLE       \n6            THE NATURAL ENVIRONMENT: FRIEND OR FOE?       \n7            THE NATURAL ENVIRONMENT: FRIEND OR FOE?       \n\n  What theme should we explore next week? [Fourth Choice]  \\\n0            THE POWER OF NATURE/THE NATURE OF POWER        \n1                           CREEPY CHILDREN FUCK OFF        \n2                           CREEPY CHILDREN FUCK OFF        \n3            THE POWER OF NATURE/THE NATURE OF POWER        \n4                                         OLD PEOPLE        \n5                               HIGH STRESS THRILLER        \n6                                         OLD PEOPLE        \n7                           CREEPY CHILDREN FUCK OFF        \n\n  What theme should we explore next week? [Fifth Choice]  \\\n0            THE NATURAL ENVIRONMENT: FRIEND OR FOE?       \n1                                         OLD PEOPLE       \n2                                         OLD PEOPLE       \n3                                         OLD PEOPLE       \n4            THE POWER OF NATURE/THE NATURE OF POWER       \n5                           CREEPY CHILDREN FUCK OFF       \n6                           CREEPY CHILDREN FUCK OFF       \n7                               HIGH STRESS THRILLER       \n\n  What theme should we explore next week? [Sixth Choice]  \n0                              No Theme/Free-for-all      \n1                              No Theme/Free-for-all      \n2                              No Theme/Free-for-all      \n3                              No Theme/Free-for-all      \n4                                                NaN      \n5                              No Theme/Free-for-all      \n6                                                NaN      \n7                              No Theme/Free-for-all      ",
      "text/html": "<div>\n<style scoped>\n    .dataframe tbody tr th:only-of-type {\n        vertical-align: middle;\n    }\n\n    .dataframe tbody tr th {\n        vertical-align: top;\n    }\n\n    .dataframe thead th {\n        text-align: right;\n    }\n</style>\n<table border=\"1\" class=\"dataframe\">\n  <thead>\n    <tr style=\"text-align: right;\">\n      <th></th>\n      <th>Timestamp</th>\n      <th>Rank your movie choices. You don't have to do a full ranking. [First Choice]</th>\n      <th>Rank your movie choices. You don't have to do a full ranking. [Second Choice]</th>\n      <th>Rank your movie choices. You don't have to do a full ranking. [Third Choice]</th>\n      <th>Rank your movie choices. You don't have to do a full ranking. [Fourth Choice]</th>\n      <th>Rank your movie choices. You don't have to do a full ranking. [Fifth Choice]</th>\n      <th>What theme should we explore next week? [First Choice]</th>\n      <th>What theme should we explore next week? [Second Choice]</th>\n      <th>What theme should we explore next week? [Third Choice]</th>\n      <th>What theme should we explore next week? [Fourth Choice]</th>\n      <th>What theme should we explore next week? [Fifth Choice]</th>\n      <th>What theme should we explore next week? [Sixth Choice]</th>\n    </tr>\n  </thead>\n  <tbody>\n    <tr>\n      <th>0</th>\n      <td>10/6/2020 19:05:29</td>\n      <td>The 400 Blows (1959)</td>\n      <td>Girlhood (2014)</td>\n      <td>River's Edge (1986)</td>\n      <td>Adventures in Babysitting (1987)</td>\n      <td>NaN</td>\n      <td>CREEPY CHILDREN FUCK OFF</td>\n      <td>OLD PEOPLE</td>\n      <td>HIGH STRESS THRILLER</td>\n      <td>THE POWER OF NATURE/THE NATURE OF POWER</td>\n      <td>THE NATURAL ENVIRONMENT: FRIEND OR FOE?</td>\n      <td>No Theme/Free-for-all</td>\n    </tr>\n    <tr>\n      <th>1</th>\n      <td>10/6/2020 19:23:20</td>\n      <td>River's Edge (1986)</td>\n      <td>The 400 Blows (1959)</td>\n      <td>Winter's Bone (2010)</td>\n      <td>Adventures in Babysitting (1987)</td>\n      <td>Girlhood (2014)</td>\n      <td>THE POWER OF NATURE/THE NATURE OF POWER</td>\n      <td>HIGH STRESS THRILLER</td>\n      <td>THE NATURAL ENVIRONMENT: FRIEND OR FOE?</td>\n      <td>CREEPY CHILDREN FUCK OFF</td>\n      <td>OLD PEOPLE</td>\n      <td>No Theme/Free-for-all</td>\n    </tr>\n    <tr>\n      <th>2</th>\n      <td>10/6/2020 19:31:12</td>\n      <td>Winter's Bone (2010)</td>\n      <td>River's Edge (1986)</td>\n      <td>The 400 Blows (1959)</td>\n      <td>Adventures in Babysitting (1987)</td>\n      <td>Girlhood (2014)</td>\n      <td>THE POWER OF NATURE/THE NATURE OF POWER</td>\n      <td>THE NATURAL ENVIRONMENT: FRIEND OR FOE?</td>\n      <td>HIGH STRESS THRILLER</td>\n      <td>CREEPY CHILDREN FUCK OFF</td>\n      <td>OLD PEOPLE</td>\n      <td>No Theme/Free-for-all</td>\n    </tr>\n    <tr>\n      <th>3</th>\n      <td>10/6/2020 20:56:07</td>\n      <td>Adventures in Babysitting (1987)</td>\n      <td>River's Edge (1986)</td>\n      <td>Winter's Bone (2010)</td>\n      <td>Girlhood (2014)</td>\n      <td>The 400 Blows (1959)</td>\n      <td>THE NATURAL ENVIRONMENT: FRIEND OR FOE?</td>\n      <td>CREEPY CHILDREN FUCK OFF</td>\n      <td>HIGH STRESS THRILLER</td>\n      <td>THE POWER OF NATURE/THE NATURE OF POWER</td>\n      <td>OLD PEOPLE</td>\n      <td>No Theme/Free-for-all</td>\n    </tr>\n    <tr>\n      <th>4</th>\n      <td>10/7/2020 21:30:24</td>\n      <td>Girlhood (2014)</td>\n      <td>Winter's Bone (2010)</td>\n      <td>The 400 Blows (1959)</td>\n      <td>Adventures in Babysitting (1987)</td>\n      <td>River's Edge (1986)</td>\n      <td>HIGH STRESS THRILLER</td>\n      <td>THE NATURAL ENVIRONMENT: FRIEND OR FOE?</td>\n      <td>CREEPY CHILDREN FUCK OFF</td>\n      <td>OLD PEOPLE</td>\n      <td>THE POWER OF NATURE/THE NATURE OF POWER</td>\n      <td>NaN</td>\n    </tr>\n    <tr>\n      <th>5</th>\n      <td>10/8/2020 9:21:17</td>\n      <td>Winter's Bone (2010)</td>\n      <td>River's Edge (1986)</td>\n      <td>Adventures in Babysitting (1987)</td>\n      <td>The 400 Blows (1959)</td>\n      <td>Girlhood (2014)</td>\n      <td>THE POWER OF NATURE/THE NATURE OF POWER</td>\n      <td>THE NATURAL ENVIRONMENT: FRIEND OR FOE?</td>\n      <td>OLD PEOPLE</td>\n      <td>HIGH STRESS THRILLER</td>\n      <td>CREEPY CHILDREN FUCK OFF</td>\n      <td>No Theme/Free-for-all</td>\n    </tr>\n    <tr>\n      <th>6</th>\n      <td>10/8/2020 17:05:25</td>\n      <td>Adventures in Babysitting (1987)</td>\n      <td>Winter's Bone (2010)</td>\n      <td>Girlhood (2014)</td>\n      <td>River's Edge (1986)</td>\n      <td>NaN</td>\n      <td>HIGH STRESS THRILLER</td>\n      <td>THE POWER OF NATURE/THE NATURE OF POWER</td>\n      <td>THE NATURAL ENVIRONMENT: FRIEND OR FOE?</td>\n      <td>OLD PEOPLE</td>\n      <td>CREEPY CHILDREN FUCK OFF</td>\n      <td>NaN</td>\n    </tr>\n    <tr>\n      <th>7</th>\n      <td>10/8/2020 17:07:14</td>\n      <td>Girlhood (2014)</td>\n      <td>Adventures in Babysitting (1987)</td>\n      <td>Winter's Bone (2010)</td>\n      <td>River's Edge (1986)</td>\n      <td>The 400 Blows (1959)</td>\n      <td>OLD PEOPLE</td>\n      <td>THE POWER OF NATURE/THE NATURE OF POWER</td>\n      <td>THE NATURAL ENVIRONMENT: FRIEND OR FOE?</td>\n      <td>CREEPY CHILDREN FUCK OFF</td>\n      <td>HIGH STRESS THRILLER</td>\n      <td>No Theme/Free-for-all</td>\n    </tr>\n  </tbody>\n</table>\n</div>"
     },
     "execution_count": 2,
     "metadata": {},
     "output_type": "execute_result"
    }
   ],
   "source": [
    "df = pd.read_csv(Path('./data/20201011.csv').resolve())\n",
    "df"
   ]
  },
  {
   "cell_type": "code",
   "execution_count": 3,
   "metadata": {},
   "outputs": [],
   "source": [
    "just_ballots = df.loc[:, df.columns.str.startswith('Rank')]\n",
    "next_week = df.loc[:, df.columns.str.startswith('What')]"
   ]
  },
  {
   "cell_type": "code",
   "execution_count": 4,
   "metadata": {},
   "outputs": [
    {
     "data": {
      "text/plain": "array([\"River's Edge (1986)\", 'The 400 Blows (1959)',\n       \"Winter's Bone (2010)\", 'Adventures in Babysitting (1987)',\n       'Girlhood (2014)'], dtype=object)"
     },
     "execution_count": 4,
     "metadata": {},
     "output_type": "execute_result"
    }
   ],
   "source": [
    "submissions = just_ballots.loc[just_ballots.notna().all(axis=1).idxmax(),:].values\n",
    "submissions"
   ]
  },
  {
   "cell_type": "code",
   "execution_count": 5,
   "metadata": {},
   "outputs": [],
   "source": [
    "submission_dict = {submission: pyrankvote.Candidate(submission) for submission in submissions}"
   ]
  },
  {
   "cell_type": "code",
   "execution_count": 6,
   "metadata": {},
   "outputs": [],
   "source": [
    "balloted = just_ballots.applymap(lambda x: submission_dict[x] if isinstance(x, str) else x)"
   ]
  },
  {
   "cell_type": "code",
   "execution_count": 7,
   "metadata": {},
   "outputs": [
    {
     "data": {
      "text/plain": "{\"River's Edge (1986)\": <Candidate('River's Edge (1986)')>,\n 'The 400 Blows (1959)': <Candidate('The 400 Blows (1959)')>,\n \"Winter's Bone (2010)\": <Candidate('Winter's Bone (2010)')>,\n 'Adventures in Babysitting (1987)': <Candidate('Adventures in Babysitting (1987)')>,\n 'Girlhood (2014)': <Candidate('Girlhood (2014)')>}"
     },
     "execution_count": 7,
     "metadata": {},
     "output_type": "execute_result"
    }
   ],
   "source": [
    "submission_dict"
   ]
  },
  {
   "cell_type": "code",
   "execution_count": 8,
   "metadata": {},
   "outputs": [],
   "source": [
    "ballots = []\n",
    "for ballot in balloted.itertuples():\n",
    "    ballots.append(pyrankvote.Ballot(ranked_candidates=[b for b in ballot if isinstance(b, pyrankvote.Candidate)]))"
   ]
  },
  {
   "cell_type": "code",
   "execution_count": 9,
   "metadata": {},
   "outputs": [
    {
     "data": {
      "text/plain": "[<Ballot(The 400 Blows (1959), Girlhood (2014), River's Edge (1986), Adventures in Babysitting (1987))>,\n <Ballot(River's Edge (1986), The 400 Blows (1959), Winter's Bone (2010), Adventures in Babysitting (1987), Girlhood (2014))>,\n <Ballot(Winter's Bone (2010), River's Edge (1986), The 400 Blows (1959), Adventures in Babysitting (1987), Girlhood (2014))>,\n <Ballot(Adventures in Babysitting (1987), River's Edge (1986), Winter's Bone (2010), Girlhood (2014), The 400 Blows (1959))>,\n <Ballot(Girlhood (2014), Winter's Bone (2010), The 400 Blows (1959), Adventures in Babysitting (1987), River's Edge (1986))>,\n <Ballot(Winter's Bone (2010), River's Edge (1986), Adventures in Babysitting (1987), The 400 Blows (1959), Girlhood (2014))>,\n <Ballot(Adventures in Babysitting (1987), Winter's Bone (2010), Girlhood (2014), River's Edge (1986))>,\n <Ballot(Girlhood (2014), Adventures in Babysitting (1987), Winter's Bone (2010), River's Edge (1986), The 400 Blows (1959))>]"
     },
     "execution_count": 9,
     "metadata": {},
     "output_type": "execute_result"
    }
   ],
   "source": [
    "ballots"
   ]
  },
  {
   "cell_type": "code",
   "execution_count": 10,
   "metadata": {},
   "outputs": [],
   "source": [
    "election_result = pyrankvote.instant_runoff_voting(submission_dict.values(), ballots,)"
   ]
  },
  {
   "cell_type": "code",
   "execution_count": 11,
   "metadata": {},
   "outputs": [
    {
     "name": "stdout",
     "output_type": "stream",
     "text": [
      "ROUND 1\n",
      "Candidate                           Votes  Status\n",
      "--------------------------------  -------  --------\n",
      "Winter's Bone (2010)                    2  Hopeful\n",
      "Adventures in Babysitting (1987)        2  Hopeful\n",
      "Girlhood (2014)                         2  Hopeful\n",
      "River's Edge (1986)                     1  Rejected\n",
      "The 400 Blows (1959)                    1  Rejected\n",
      "\n",
      "ROUND 2\n",
      "Candidate                           Votes  Status\n",
      "--------------------------------  -------  --------\n",
      "Winter's Bone (2010)                    3  Hopeful\n",
      "Girlhood (2014)                         3  Hopeful\n",
      "Adventures in Babysitting (1987)        2  Rejected\n",
      "River's Edge (1986)                     0  Rejected\n",
      "The 400 Blows (1959)                    0  Rejected\n",
      "\n",
      "FINAL RESULT\n",
      "Candidate                           Votes  Status\n",
      "--------------------------------  -------  --------\n",
      "Winter's Bone (2010)                    5  Elected\n",
      "Girlhood (2014)                         3  Rejected\n",
      "Adventures in Babysitting (1987)        0  Rejected\n",
      "River's Edge (1986)                     0  Rejected\n",
      "The 400 Blows (1959)                    0  Rejected\n",
      "\n"
     ]
    }
   ],
   "source": [
    "print(election_result)"
   ]
  },
  {
   "cell_type": "code",
   "execution_count": 12,
   "metadata": {},
   "outputs": [
    {
     "name": "stdout",
     "output_type": "stream",
     "text": [
      "ROUND 1\n",
      "Candidate                                  Votes  Status\n",
      "---------------------------------------  -------  --------\n",
      "THE POWER OF NATURE/THE NATURE OF POWER        3  Hopeful\n",
      "HIGH STRESS THRILLER                           2  Hopeful\n",
      "THE NATURAL ENVIRONMENT: FRIEND OR FOE?        1  Hopeful\n",
      "CREEPY CHILDREN FUCK OFF                       1  Hopeful\n",
      "OLD PEOPLE                                     1  Rejected\n",
      "No Theme/Free-for-all                          0  Rejected\n",
      "\n",
      "FINAL RESULT\n",
      "Candidate                                  Votes  Status\n",
      "---------------------------------------  -------  --------\n",
      "THE POWER OF NATURE/THE NATURE OF POWER        4  Elected\n",
      "HIGH STRESS THRILLER                           2  Rejected\n",
      "THE NATURAL ENVIRONMENT: FRIEND OR FOE?        1  Rejected\n",
      "CREEPY CHILDREN FUCK OFF                       1  Rejected\n",
      "OLD PEOPLE                                     0  Rejected\n",
      "No Theme/Free-for-all                          0  Rejected\n",
      "\n"
     ]
    }
   ],
   "source": [
    "submissions = next_week.loc[next_week.notna().all(axis=1).idxmax(),:].values\n",
    "submission_dict = {submission: pyrankvote.Candidate(submission) for submission in submissions}\n",
    "balloted = next_week.applymap(lambda x: submission_dict[x] if isinstance(x, str) else x)\n",
    "ballots = []\n",
    "for ballot in balloted.itertuples():\n",
    "    ballots.append(pyrankvote.Ballot(ranked_candidates=[b for b in ballot if isinstance(b, pyrankvote.Candidate)]))\n",
    "print(pyrankvote.instant_runoff_voting(submission_dict.values(), ballots,))"
   ]
  }
 ],
 "metadata": {
  "kernelspec": {
   "display_name": "Python 3",
   "language": "python",
   "name": "python3"
  },
  "language_info": {
   "codemirror_mode": {
    "name": "ipython",
    "version": 3
   },
   "file_extension": ".py",
   "mimetype": "text/x-python",
   "name": "python",
   "nbconvert_exporter": "python",
   "pygments_lexer": "ipython3",
   "version": "3.7.4"
  }
 },
 "nbformat": 4,
 "nbformat_minor": 2
}