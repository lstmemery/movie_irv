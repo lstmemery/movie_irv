{
 "cells": [
  {
   "cell_type": "code",
   "execution_count": 1,
   "metadata": {},
   "outputs": [],
   "source": [
    "import pandas as pd\n",
    "import pyrankvote\n",
    "from pathlib import Path\n",
    "from random import seed\n",
    "seed(252)"
   ]
  },
  {
   "cell_type": "code",
   "execution_count": 2,
   "metadata": {},
   "outputs": [
    {
     "data": {
      "text/plain": "            Timestamp  \\\n0  1/12/2021 17:46:10   \n1  1/12/2021 18:45:16   \n2   1/13/2021 8:48:10   \n3  1/13/2021 17:22:57   \n4  1/13/2021 19:04:00   \n5   1/14/2021 8:27:39   \n6  1/14/2021 15:33:54   \n\n  Rank your movie choices. You don't have to do a full ranking. [First Choice]  \\\n0                               Atlantic City (1980)                             \n1                                     Tickled (2016)                             \n2                               Atlantic City (1980)                             \n3                                     Tickled (2016)                             \n4                                     Tickled (2016)                             \n5                            Fatal Attraction (1987)                             \n6                                     Tickled (2016)                             \n\n  Rank your movie choices. You don't have to do a full ranking. [Second Choice]  \\\n0                            Fatal Attraction (1987)                              \n1                            Fatal Attraction (1987)                              \n2                            Fatal Attraction (1987)                              \n3                               Atlantic City (1980)                              \n4                            Fatal Attraction (1987)                              \n5                               Atlantic City (1980)                              \n6                            Fatal Attraction (1987)                              \n\n  Rank your movie choices. You don't have to do a full ranking. [Third Choice]  \\\n0                                     Tickled (2016)                             \n1                               Atlantic City (1980)                             \n2                                                NaN                             \n3                            Fatal Attraction (1987)                             \n4                               Atlantic City (1980)                             \n5                                     Tickled (2016)                             \n6                               Atlantic City (1980)                             \n\n  What theme should we explore next week? [First Choice]  \\\n0                          [Default to Nicolas Cage]       \n1                                    VAMPIRES! SHIT!       \n2                              THE TRAIN IS THE STAR       \n3                              THE TRAIN IS THE STAR       \n4                              THE TRAIN IS THE STAR       \n5                    WONG KAR- WHY? BECAUSE I GOTTA.       \n6                                    VAMPIRES! SHIT!       \n\n  What theme should we explore next week? [Second Choice]  \\\n0                              THE TRAIN IS THE STAR        \n1                          [Default to Nicolas Cage]        \n2                    WONG KAR- WHY? BECAUSE I GOTTA.        \n3                    WONG KAR- WHY? BECAUSE I GOTTA.        \n4                          [Default to Nicolas Cage]        \n5                          [Default to Nicolas Cage]        \n6                    WONG KAR- WHY? BECAUSE I GOTTA.        \n\n  What theme should we explore next week? [Third Choice]  \\\n0                                    VAMPIRES! SHIT!       \n1                    WONG KAR- WHY? BECAUSE I GOTTA.       \n2                                    VAMPIRES! SHIT!       \n3                                    VAMPIRES! SHIT!       \n4                                    VAMPIRES! SHIT!       \n5                              THE TRAIN IS THE STAR       \n6                              THE TRAIN IS THE STAR       \n\n  What theme should we explore next week? [Fourth Choice]  \n0                    WONG KAR- WHY? BECAUSE I GOTTA.       \n1                              THE TRAIN IS THE STAR       \n2                          [Default to Nicolas Cage]       \n3                          [Default to Nicolas Cage]       \n4                    WONG KAR- WHY? BECAUSE I GOTTA.       \n5                                    VAMPIRES! SHIT!       \n6                          [Default to Nicolas Cage]       ",
      "text/html": "<div>\n<style scoped>\n    .dataframe tbody tr th:only-of-type {\n        vertical-align: middle;\n    }\n\n    .dataframe tbody tr th {\n        vertical-align: top;\n    }\n\n    .dataframe thead th {\n        text-align: right;\n    }\n</style>\n<table border=\"1\" class=\"dataframe\">\n  <thead>\n    <tr style=\"text-align: right;\">\n      <th></th>\n      <th>Timestamp</th>\n      <th>Rank your movie choices. You don't have to do a full ranking. [First Choice]</th>\n      <th>Rank your movie choices. You don't have to do a full ranking. [Second Choice]</th>\n      <th>Rank your movie choices. You don't have to do a full ranking. [Third Choice]</th>\n      <th>What theme should we explore next week? [First Choice]</th>\n      <th>What theme should we explore next week? [Second Choice]</th>\n      <th>What theme should we explore next week? [Third Choice]</th>\n      <th>What theme should we explore next week? [Fourth Choice]</th>\n    </tr>\n  </thead>\n  <tbody>\n    <tr>\n      <th>0</th>\n      <td>1/12/2021 17:46:10</td>\n      <td>Atlantic City (1980)</td>\n      <td>Fatal Attraction (1987)</td>\n      <td>Tickled (2016)</td>\n      <td>[Default to Nicolas Cage]</td>\n      <td>THE TRAIN IS THE STAR</td>\n      <td>VAMPIRES! SHIT!</td>\n      <td>WONG KAR- WHY? BECAUSE I GOTTA.</td>\n    </tr>\n    <tr>\n      <th>1</th>\n      <td>1/12/2021 18:45:16</td>\n      <td>Tickled (2016)</td>\n      <td>Fatal Attraction (1987)</td>\n      <td>Atlantic City (1980)</td>\n      <td>VAMPIRES! SHIT!</td>\n      <td>[Default to Nicolas Cage]</td>\n      <td>WONG KAR- WHY? BECAUSE I GOTTA.</td>\n      <td>THE TRAIN IS THE STAR</td>\n    </tr>\n    <tr>\n      <th>2</th>\n      <td>1/13/2021 8:48:10</td>\n      <td>Atlantic City (1980)</td>\n      <td>Fatal Attraction (1987)</td>\n      <td>NaN</td>\n      <td>THE TRAIN IS THE STAR</td>\n      <td>WONG KAR- WHY? BECAUSE I GOTTA.</td>\n      <td>VAMPIRES! SHIT!</td>\n      <td>[Default to Nicolas Cage]</td>\n    </tr>\n    <tr>\n      <th>3</th>\n      <td>1/13/2021 17:22:57</td>\n      <td>Tickled (2016)</td>\n      <td>Atlantic City (1980)</td>\n      <td>Fatal Attraction (1987)</td>\n      <td>THE TRAIN IS THE STAR</td>\n      <td>WONG KAR- WHY? BECAUSE I GOTTA.</td>\n      <td>VAMPIRES! SHIT!</td>\n      <td>[Default to Nicolas Cage]</td>\n    </tr>\n    <tr>\n      <th>4</th>\n      <td>1/13/2021 19:04:00</td>\n      <td>Tickled (2016)</td>\n      <td>Fatal Attraction (1987)</td>\n      <td>Atlantic City (1980)</td>\n      <td>THE TRAIN IS THE STAR</td>\n      <td>[Default to Nicolas Cage]</td>\n      <td>VAMPIRES! SHIT!</td>\n      <td>WONG KAR- WHY? BECAUSE I GOTTA.</td>\n    </tr>\n    <tr>\n      <th>5</th>\n      <td>1/14/2021 8:27:39</td>\n      <td>Fatal Attraction (1987)</td>\n      <td>Atlantic City (1980)</td>\n      <td>Tickled (2016)</td>\n      <td>WONG KAR- WHY? BECAUSE I GOTTA.</td>\n      <td>[Default to Nicolas Cage]</td>\n      <td>THE TRAIN IS THE STAR</td>\n      <td>VAMPIRES! SHIT!</td>\n    </tr>\n    <tr>\n      <th>6</th>\n      <td>1/14/2021 15:33:54</td>\n      <td>Tickled (2016)</td>\n      <td>Fatal Attraction (1987)</td>\n      <td>Atlantic City (1980)</td>\n      <td>VAMPIRES! SHIT!</td>\n      <td>WONG KAR- WHY? BECAUSE I GOTTA.</td>\n      <td>THE TRAIN IS THE STAR</td>\n      <td>[Default to Nicolas Cage]</td>\n    </tr>\n  </tbody>\n</table>\n</div>"
     },
     "execution_count": 2,
     "metadata": {},
     "output_type": "execute_result"
    }
   ],
   "source": [
    "df = pd.read_csv(Path('./data/20210116.csv').resolve())\n",
    "df"
   ]
  },
  {
   "cell_type": "code",
   "execution_count": 3,
   "metadata": {},
   "outputs": [],
   "source": [
    "just_ballots = df.loc[:, df.columns.str.startswith('Rank')]\n",
    "next_week = df.loc[:, df.columns.str.startswith('What')]"
   ]
  },
  {
   "cell_type": "code",
   "execution_count": 4,
   "metadata": {},
   "outputs": [
    {
     "data": {
      "text/plain": "array(['Atlantic City (1980)', 'Fatal Attraction (1987)',\n       'Tickled (2016)'], dtype=object)"
     },
     "execution_count": 4,
     "metadata": {},
     "output_type": "execute_result"
    }
   ],
   "source": [
    "submissions = just_ballots.loc[just_ballots.notna().all(axis=1).idxmax(),:].values\n",
    "submissions"
   ]
  },
  {
   "cell_type": "code",
   "execution_count": 5,
   "metadata": {},
   "outputs": [],
   "source": [
    "submission_dict = {submission: pyrankvote.Candidate(submission) for submission in submissions}"
   ]
  },
  {
   "cell_type": "code",
   "execution_count": 6,
   "metadata": {},
   "outputs": [],
   "source": [
    "balloted = just_ballots.applymap(lambda x: submission_dict[x] if isinstance(x, str) else x)"
   ]
  },
  {
   "cell_type": "code",
   "execution_count": 7,
   "metadata": {},
   "outputs": [
    {
     "data": {
      "text/plain": "{'Atlantic City (1980)': <Candidate('Atlantic City (1980)')>,\n 'Fatal Attraction (1987)': <Candidate('Fatal Attraction (1987)')>,\n 'Tickled (2016)': <Candidate('Tickled (2016)')>}"
     },
     "execution_count": 7,
     "metadata": {},
     "output_type": "execute_result"
    }
   ],
   "source": [
    "submission_dict"
   ]
  },
  {
   "cell_type": "code",
   "execution_count": 8,
   "metadata": {},
   "outputs": [],
   "source": [
    "ballots = []\n",
    "for ballot in balloted.itertuples():\n",
    "    ballots.append(pyrankvote.Ballot(ranked_candidates=[b for b in ballot if isinstance(b, pyrankvote.Candidate)]))"
   ]
  },
  {
   "cell_type": "code",
   "execution_count": 9,
   "metadata": {},
   "outputs": [
    {
     "data": {
      "text/plain": "[<Ballot(Atlantic City (1980), Fatal Attraction (1987), Tickled (2016))>,\n <Ballot(Tickled (2016), Fatal Attraction (1987), Atlantic City (1980))>,\n <Ballot(Atlantic City (1980), Fatal Attraction (1987))>,\n <Ballot(Tickled (2016), Atlantic City (1980), Fatal Attraction (1987))>,\n <Ballot(Tickled (2016), Fatal Attraction (1987), Atlantic City (1980))>,\n <Ballot(Fatal Attraction (1987), Atlantic City (1980), Tickled (2016))>,\n <Ballot(Tickled (2016), Fatal Attraction (1987), Atlantic City (1980))>]"
     },
     "execution_count": 9,
     "metadata": {},
     "output_type": "execute_result"
    }
   ],
   "source": [
    "ballots"
   ]
  },
  {
   "cell_type": "code",
   "execution_count": 10,
   "metadata": {},
   "outputs": [],
   "source": [
    "election_result = pyrankvote.instant_runoff_voting(submission_dict.values(), ballots,)"
   ]
  },
  {
   "cell_type": "code",
   "execution_count": 11,
   "metadata": {},
   "outputs": [
    {
     "name": "stdout",
     "output_type": "stream",
     "text": [
      "FINAL RESULT\n",
      "Candidate                  Votes  Status\n",
      "-----------------------  -------  --------\n",
      "Tickled (2016)                 4  Elected\n",
      "Atlantic City (1980)           2  Rejected\n",
      "Fatal Attraction (1987)        1  Rejected\n",
      "\n"
     ]
    }
   ],
   "source": [
    "print(election_result)"
   ]
  },
  {
   "cell_type": "code",
   "execution_count": 12,
   "metadata": {},
   "outputs": [
    {
     "name": "stdout",
     "output_type": "stream",
     "text": [
      "ROUND 1\n",
      "Candidate                          Votes  Status\n",
      "-------------------------------  -------  --------\n",
      "THE TRAIN IS THE STAR                  3  Hopeful\n",
      "VAMPIRES! SHIT!                        2  Hopeful\n",
      "WONG KAR- WHY? BECAUSE I GOTTA.        1  Rejected\n",
      "[Default to Nicolas Cage]              1  Rejected\n",
      "\n",
      "FINAL RESULT\n",
      "Candidate                          Votes  Status\n",
      "-------------------------------  -------  --------\n",
      "THE TRAIN IS THE STAR                  5  Elected\n",
      "VAMPIRES! SHIT!                        2  Rejected\n",
      "WONG KAR- WHY? BECAUSE I GOTTA.        0  Rejected\n",
      "[Default to Nicolas Cage]              0  Rejected\n",
      "\n"
     ]
    }
   ],
   "source": [
    "submissions = next_week.loc[next_week.notna().all(axis=1).idxmax(),:].values\n",
    "submission_dict = {submission: pyrankvote.Candidate(submission) for submission in submissions}\n",
    "balloted = next_week.applymap(lambda x: submission_dict[x] if isinstance(x, str) else x)\n",
    "ballots = []\n",
    "for ballot in balloted.itertuples():\n",
    "    ballots.append(pyrankvote.Ballot(ranked_candidates=[b for b in ballot if isinstance(b, pyrankvote.Candidate)]))\n",
    "print(pyrankvote.instant_runoff_voting(submission_dict.values(), ballots,))"
   ]
  }
 ],
 "metadata": {
  "kernelspec": {
   "display_name": "Python 3",
   "language": "python",
   "name": "python3"
  },
  "language_info": {
   "codemirror_mode": {
    "name": "ipython",
    "version": 3
   },
   "file_extension": ".py",
   "mimetype": "text/x-python",
   "name": "python",
   "nbconvert_exporter": "python",
   "pygments_lexer": "ipython3",
   "version": "3.7.4"
  }
 },
 "nbformat": 4,
 "nbformat_minor": 2
}