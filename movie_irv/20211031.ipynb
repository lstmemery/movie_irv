{
 "cells": [
  {
   "cell_type": "code",
   "execution_count": 13,
   "metadata": {},
   "outputs": [],
   "source": [
    "import pandas as pd\n",
    "import pyrankvote\n",
    "from pathlib import Path\n",
    "from random import seed\n",
    "seed(252)"
   ]
  },
  {
   "cell_type": "code",
   "execution_count": 14,
   "metadata": {},
   "outputs": [
    {
     "data": {
      "text/plain": "             Timestamp What theme should we explore next week? [First Choice]  \\\n0  24/10/2021 13:57:51                               OOPS! ALL CRONENBERG       \n1  24/10/2021 13:58:05                                HALLOWEEN OBVIOUSLY       \n2  24/10/2021 14:29:14                               OOPS! ALL CRONENBERG       \n3  24/10/2021 14:57:02                                HALLOWEEN OBVIOUSLY       \n4  24/10/2021 16:32:20                               OOPS! ALL ZACK BRAFF       \n5  24/10/2021 16:40:30                                HALLOWEEN OBVIOUSLY       \n6  24/10/2021 17:18:18                                      HORROR-COMEDY       \n\n  What theme should we explore next week? [Second Choice]  \\\n0                                HALLOWEEN OBVIOUSLY        \n1                                      HORROR-COMEDY        \n2                                             LONERS        \n3                                      HORROR-COMEDY        \n4                                             LONERS        \n5                                      HORROR-COMEDY        \n6                                HALLOWEEN OBVIOUSLY        \n\n  What theme should we explore next week? [Third Choice]  \\\n0                                      HORROR-COMEDY       \n1                                             LONERS       \n2                                      HORROR-COMEDY       \n3                               OOPS! ALL ZACK BRAFF       \n4                                                NaN       \n5                             [Default to Trish Pic]       \n6                                             LONERS       \n\n  What theme should we explore next week? [Fourth Choice]  \\\n0                                             LONERS        \n1                               OOPS! ALL CRONENBERG        \n2                             [Default to Trish Pic]        \n3                               OOPS! ALL CRONENBERG        \n4                                                NaN        \n5                                                NaN        \n6                               OOPS! ALL CRONENBERG        \n\n  What theme should we explore next week? [Fifth Choice]  \\\n0                             [Default to Trish Pic]       \n1                             [Default to Trish Pic]       \n2                                HALLOWEEN OBVIOUSLY       \n3                                             LONERS       \n4                                                NaN       \n5                                                NaN       \n6                             [Default to Trish Pic]       \n\n  What theme should we explore next week? [Sixth Choice]  \n0                               OOPS! ALL ZACK BRAFF      \n1                               OOPS! ALL ZACK BRAFF      \n2                               OOPS! ALL ZACK BRAFF      \n3                             [Default to Trish Pic]      \n4                                                NaN      \n5                                                NaN      \n6                                                NaN      ",
      "text/html": "<div>\n<style scoped>\n    .dataframe tbody tr th:only-of-type {\n        vertical-align: middle;\n    }\n\n    .dataframe tbody tr th {\n        vertical-align: top;\n    }\n\n    .dataframe thead th {\n        text-align: right;\n    }\n</style>\n<table border=\"1\" class=\"dataframe\">\n  <thead>\n    <tr style=\"text-align: right;\">\n      <th></th>\n      <th>Timestamp</th>\n      <th>What theme should we explore next week? [First Choice]</th>\n      <th>What theme should we explore next week? [Second Choice]</th>\n      <th>What theme should we explore next week? [Third Choice]</th>\n      <th>What theme should we explore next week? [Fourth Choice]</th>\n      <th>What theme should we explore next week? [Fifth Choice]</th>\n      <th>What theme should we explore next week? [Sixth Choice]</th>\n    </tr>\n  </thead>\n  <tbody>\n    <tr>\n      <th>0</th>\n      <td>24/10/2021 13:57:51</td>\n      <td>OOPS! ALL CRONENBERG</td>\n      <td>HALLOWEEN OBVIOUSLY</td>\n      <td>HORROR-COMEDY</td>\n      <td>LONERS</td>\n      <td>[Default to Trish Pic]</td>\n      <td>OOPS! ALL ZACK BRAFF</td>\n    </tr>\n    <tr>\n      <th>1</th>\n      <td>24/10/2021 13:58:05</td>\n      <td>HALLOWEEN OBVIOUSLY</td>\n      <td>HORROR-COMEDY</td>\n      <td>LONERS</td>\n      <td>OOPS! ALL CRONENBERG</td>\n      <td>[Default to Trish Pic]</td>\n      <td>OOPS! ALL ZACK BRAFF</td>\n    </tr>\n    <tr>\n      <th>2</th>\n      <td>24/10/2021 14:29:14</td>\n      <td>OOPS! ALL CRONENBERG</td>\n      <td>LONERS</td>\n      <td>HORROR-COMEDY</td>\n      <td>[Default to Trish Pic]</td>\n      <td>HALLOWEEN OBVIOUSLY</td>\n      <td>OOPS! ALL ZACK BRAFF</td>\n    </tr>\n    <tr>\n      <th>3</th>\n      <td>24/10/2021 14:57:02</td>\n      <td>HALLOWEEN OBVIOUSLY</td>\n      <td>HORROR-COMEDY</td>\n      <td>OOPS! ALL ZACK BRAFF</td>\n      <td>OOPS! ALL CRONENBERG</td>\n      <td>LONERS</td>\n      <td>[Default to Trish Pic]</td>\n    </tr>\n    <tr>\n      <th>4</th>\n      <td>24/10/2021 16:32:20</td>\n      <td>OOPS! ALL ZACK BRAFF</td>\n      <td>LONERS</td>\n      <td>NaN</td>\n      <td>NaN</td>\n      <td>NaN</td>\n      <td>NaN</td>\n    </tr>\n    <tr>\n      <th>5</th>\n      <td>24/10/2021 16:40:30</td>\n      <td>HALLOWEEN OBVIOUSLY</td>\n      <td>HORROR-COMEDY</td>\n      <td>[Default to Trish Pic]</td>\n      <td>NaN</td>\n      <td>NaN</td>\n      <td>NaN</td>\n    </tr>\n    <tr>\n      <th>6</th>\n      <td>24/10/2021 17:18:18</td>\n      <td>HORROR-COMEDY</td>\n      <td>HALLOWEEN OBVIOUSLY</td>\n      <td>LONERS</td>\n      <td>OOPS! ALL CRONENBERG</td>\n      <td>[Default to Trish Pic]</td>\n      <td>NaN</td>\n    </tr>\n  </tbody>\n</table>\n</div>"
     },
     "execution_count": 14,
     "metadata": {},
     "output_type": "execute_result"
    }
   ],
   "source": [
    "df = pd.read_csv(Path('./data/20211031.csv').resolve())\n",
    "df"
   ]
  },
  {
   "cell_type": "code",
   "execution_count": 15,
   "metadata": {},
   "outputs": [],
   "source": [
    "just_ballots = df.loc[:, df.columns.str.startswith('Rank')]\n",
    "next_week = df.loc[:, df.columns.str.startswith('What')]"
   ]
  },
  {
   "cell_type": "code",
   "execution_count": 16,
   "metadata": {},
   "outputs": [
    {
     "data": {
      "text/plain": "array([], dtype=float64)"
     },
     "execution_count": 16,
     "metadata": {},
     "output_type": "execute_result"
    }
   ],
   "source": [
    "submissions = just_ballots.loc[just_ballots.notna().all(axis=1).idxmax(),:].values\n",
    "submissions"
   ]
  },
  {
   "cell_type": "code",
   "execution_count": 17,
   "metadata": {},
   "outputs": [],
   "source": [
    "submission_dict = {submission: pyrankvote.Candidate(submission) for submission in submissions}"
   ]
  },
  {
   "cell_type": "code",
   "execution_count": 18,
   "metadata": {},
   "outputs": [],
   "source": [
    "balloted = just_ballots.applymap(lambda x: submission_dict[x] if isinstance(x, str) else x)"
   ]
  },
  {
   "cell_type": "code",
   "execution_count": 19,
   "metadata": {},
   "outputs": [
    {
     "data": {
      "text/plain": "{}"
     },
     "execution_count": 19,
     "metadata": {},
     "output_type": "execute_result"
    }
   ],
   "source": [
    "submission_dict"
   ]
  },
  {
   "cell_type": "code",
   "execution_count": 20,
   "metadata": {},
   "outputs": [],
   "source": [
    "ballots = []\n",
    "for ballot in balloted.itertuples():\n",
    "    ballots.append(pyrankvote.Ballot(ranked_candidates=[b for b in ballot if isinstance(b, pyrankvote.Candidate)]))"
   ]
  },
  {
   "cell_type": "code",
   "execution_count": 21,
   "metadata": {},
   "outputs": [
    {
     "data": {
      "text/plain": "[<Ballot()>,\n <Ballot()>,\n <Ballot()>,\n <Ballot()>,\n <Ballot()>,\n <Ballot()>,\n <Ballot()>]"
     },
     "execution_count": 21,
     "metadata": {},
     "output_type": "execute_result"
    }
   ],
   "source": [
    "ballots"
   ]
  },
  {
   "cell_type": "code",
   "execution_count": 22,
   "metadata": {},
   "outputs": [],
   "source": [
    "election_result = pyrankvote.instant_runoff_voting(submission_dict.values(), ballots,)"
   ]
  },
  {
   "cell_type": "code",
   "execution_count": 23,
   "metadata": {},
   "outputs": [
    {
     "name": "stdout",
     "output_type": "stream",
     "text": [
      "FINAL RESULT\n",
      "Candidate      Votes  Status\n",
      "-----------  -------  --------\n",
      "Blank votes        7  Rejected\n",
      "\n"
     ]
    }
   ],
   "source": [
    "print(election_result)"
   ]
  },
  {
   "cell_type": "code",
   "execution_count": 24,
   "metadata": {},
   "outputs": [
    {
     "name": "stdout",
     "output_type": "stream",
     "text": [
      "ROUND 1\n",
      "Candidate                 Votes  Status\n",
      "----------------------  -------  --------\n",
      "HALLOWEEN OBVIOUSLY           3  Hopeful\n",
      "OOPS! ALL CRONENBERG          2  Hopeful\n",
      "HORROR-COMEDY                 1  Rejected\n",
      "OOPS! ALL ZACK BRAFF          1  Rejected\n",
      "LONERS                        0  Rejected\n",
      "[Default to Trish Pic]        0  Rejected\n",
      "\n",
      "FINAL RESULT\n",
      "Candidate                 Votes  Status\n",
      "----------------------  -------  --------\n",
      "HALLOWEEN OBVIOUSLY           4  Elected\n",
      "OOPS! ALL CRONENBERG          2  Rejected\n",
      "HORROR-COMEDY                 0  Rejected\n",
      "OOPS! ALL ZACK BRAFF          0  Rejected\n",
      "LONERS                        0  Rejected\n",
      "[Default to Trish Pic]        0  Rejected\n",
      "Blank votes                   1  Rejected\n",
      "\n"
     ]
    }
   ],
   "source": [
    "submissions = next_week.loc[next_week.notna().all(axis=1).idxmax(),:].values\n",
    "submission_dict = {submission: pyrankvote.Candidate(submission) for submission in submissions}\n",
    "balloted = next_week.applymap(lambda x: submission_dict[x] if isinstance(x, str) else x)\n",
    "ballots = []\n",
    "for ballot in balloted.itertuples():\n",
    "    ballots.append(pyrankvote.Ballot(ranked_candidates=[b for b in ballot if isinstance(b, pyrankvote.Candidate)]))\n",
    "print(pyrankvote.instant_runoff_voting(submission_dict.values(), ballots,))"
   ]
  }
 ],
 "metadata": {
  "kernelspec": {
   "display_name": "Python 3",
   "language": "python",
   "name": "python3"
  },
  "language_info": {
   "codemirror_mode": {
    "name": "ipython",
    "version": 3
   },
   "file_extension": ".py",
   "mimetype": "text/x-python",
   "name": "python",
   "nbconvert_exporter": "python",
   "pygments_lexer": "ipython3",
   "version": "3.7.4"
  }
 },
 "nbformat": 4,
 "nbformat_minor": 2
}