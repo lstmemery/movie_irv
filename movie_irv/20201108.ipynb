{
 "cells": [
  {
   "cell_type": "code",
   "execution_count": 1,
   "metadata": {},
   "outputs": [],
   "source": [
    "import pandas as pd\n",
    "import pyrankvote\n",
    "from pathlib import Path\n",
    "from random import seed\n",
    "seed(252)"
   ]
  },
  {
   "cell_type": "code",
   "execution_count": 2,
   "metadata": {},
   "outputs": [
    {
     "data": {
      "text/plain": "            Timestamp  \\\n0   11/4/2020 7:19:45   \n1   11/4/2020 7:20:18   \n2   11/4/2020 7:23:36   \n3   11/4/2020 8:34:55   \n4  11/4/2020 15:34:10   \n5  11/4/2020 17:11:20   \n6   11/6/2020 8:19:18   \n7  11/6/2020 10:04:41   \n\n  Rank your movie choices. You don't have to do a full ranking. [First Choice]  \\\n0                                      Zardoz (1974)                             \n1                                     Solaris (1972)                             \n2                                    Face/Off (1997)                             \n3                                       Alien (1979)                             \n4                                       Alien (1979)                             \n5                                      Zardoz (1974)                             \n6                                    Face/Off (1997)                             \n7                                      Zardoz (1974)                             \n\n  Rank your movie choices. You don't have to do a full ranking. [Second Choice]  \\\n0                                     Solaris (1972)                              \n1                                    Phase IV (1974)                              \n2                                     Solaris (1972)                              \n3                                      Zardoz (1974)                              \n4                                      Zardoz (1974)                              \n5                                    Face/Off (1997)                              \n6                                      Zardoz (1974)                              \n7                                    Phase IV (1974)                              \n\n  Rank your movie choices. You don't have to do a full ranking. [Third Choice]  \\\n0                                    Face/Off (1997)                             \n1                                      Zardoz (1974)                             \n2                                    Phase IV (1974)                             \n3                                    Face/Off (1997)                             \n4                                    Face/Off (1997)                             \n5                                                NaN                             \n6                                    Phase IV (1974)                             \n7                                    Face/Off (1997)                             \n\n  Rank your movie choices. You don't have to do a full ranking. [Fourth Choice]  \\\n0                                    Phase IV (1974)                              \n1                                                NaN                              \n2                                       Alien (1979)                              \n3                                    Phase IV (1974)                              \n4                                    Phase IV (1974)                              \n5                                                NaN                              \n6                                     Solaris (1972)                              \n7                                     Solaris (1972)                              \n\n  Rank your movie choices. You don't have to do a full ranking. [Fifth Choice]  \\\n0                                       Alien (1979)                             \n1                                                NaN                             \n2                                      Zardoz (1974)                             \n3                                                NaN                             \n4                                     Solaris (1972)                             \n5                                                NaN                             \n6                                       Alien (1979)                             \n7                                       Alien (1979)                             \n\n  What theme should we explore next week? [First Choice]  \\\n0                     OOPS! ALL NICOLAS CAGE...AGAIN       \n1                     OOPS! ALL NICOLAS CAGE...AGAIN       \n2  WHERE ACTORS, PERHAPS NICHOLAS CAGE AND JOHN T...       \n3                             OOPS! ALL RICK MORANIS       \n4                             OOPS! ALL RICK MORANIS       \n5                             OOPS! ALL RICK MORANIS       \n6                     OOPS! ALL NICOLAS CAGE...AGAIN       \n7                     OOPS! ALL NICOLAS CAGE...AGAIN       \n\n  What theme should we explore next week? [Second Choice]  \\\n0                                          DISGUISES        \n1                                    MID-LIFE CRISIS        \n2                     OOPS! ALL NICOLAS CAGE...AGAIN        \n3                                          DISGUISES        \n4                     OOPS! ALL NICOLAS CAGE...AGAIN        \n5                                                NaN        \n6                                    MID-LIFE CRISIS        \n7                             OOPS! ALL RICK MORANIS        \n\n  What theme should we explore next week? [Third Choice]  \\\n0                                    MID-LIFE CRISIS       \n1                                          DISGUISES       \n2                                          DISGUISES       \n3                     OOPS! ALL NICOLAS CAGE...AGAIN       \n4  WHERE ACTORS, PERHAPS NICHOLAS CAGE AND JOHN T...       \n5                                                NaN       \n6                                          DISGUISES       \n7                                    MID-LIFE CRISIS       \n\n  What theme should we explore next week? [Fourth Choice]  \\\n0  WHERE ACTORS, PERHAPS NICHOLAS CAGE AND JOHN T...        \n1  WHERE ACTORS, PERHAPS NICHOLAS CAGE AND JOHN T...        \n2                                    MID-LIFE CRISIS        \n3                                                NaN        \n4                                          DISGUISES        \n5                                                NaN        \n6                             OOPS! ALL RICK MORANIS        \n7  WHERE ACTORS, PERHAPS NICHOLAS CAGE AND JOHN T...        \n\n  What theme should we explore next week? [Fifth Choice]  \\\n0                             OOPS! ALL RICK MORANIS       \n1                             OOPS! ALL RICK MORANIS       \n2                             OOPS! ALL RICK MORANIS       \n3                                                NaN       \n4                                    MID-LIFE CRISIS       \n5                                                NaN       \n6  WHERE ACTORS, PERHAPS NICHOLAS CAGE AND JOHN T...       \n7                              No Theme/Free-for-all       \n\n  What theme should we explore next week? [Sixth Choice]  \n0                              No Theme/Free-for-all      \n1                              No Theme/Free-for-all      \n2                              No Theme/Free-for-all      \n3                                                NaN      \n4                              No Theme/Free-for-all      \n5                                                NaN      \n6                              No Theme/Free-for-all      \n7                                          DISGUISES      ",
      "text/html": "<div>\n<style scoped>\n    .dataframe tbody tr th:only-of-type {\n        vertical-align: middle;\n    }\n\n    .dataframe tbody tr th {\n        vertical-align: top;\n    }\n\n    .dataframe thead th {\n        text-align: right;\n    }\n</style>\n<table border=\"1\" class=\"dataframe\">\n  <thead>\n    <tr style=\"text-align: right;\">\n      <th></th>\n      <th>Timestamp</th>\n      <th>Rank your movie choices. You don't have to do a full ranking. [First Choice]</th>\n      <th>Rank your movie choices. You don't have to do a full ranking. [Second Choice]</th>\n      <th>Rank your movie choices. You don't have to do a full ranking. [Third Choice]</th>\n      <th>Rank your movie choices. You don't have to do a full ranking. [Fourth Choice]</th>\n      <th>Rank your movie choices. You don't have to do a full ranking. [Fifth Choice]</th>\n      <th>What theme should we explore next week? [First Choice]</th>\n      <th>What theme should we explore next week? [Second Choice]</th>\n      <th>What theme should we explore next week? [Third Choice]</th>\n      <th>What theme should we explore next week? [Fourth Choice]</th>\n      <th>What theme should we explore next week? [Fifth Choice]</th>\n      <th>What theme should we explore next week? [Sixth Choice]</th>\n    </tr>\n  </thead>\n  <tbody>\n    <tr>\n      <th>0</th>\n      <td>11/4/2020 7:19:45</td>\n      <td>Zardoz (1974)</td>\n      <td>Solaris (1972)</td>\n      <td>Face/Off (1997)</td>\n      <td>Phase IV (1974)</td>\n      <td>Alien (1979)</td>\n      <td>OOPS! ALL NICOLAS CAGE...AGAIN</td>\n      <td>DISGUISES</td>\n      <td>MID-LIFE CRISIS</td>\n      <td>WHERE ACTORS, PERHAPS NICHOLAS CAGE AND JOHN T...</td>\n      <td>OOPS! ALL RICK MORANIS</td>\n      <td>No Theme/Free-for-all</td>\n    </tr>\n    <tr>\n      <th>1</th>\n      <td>11/4/2020 7:20:18</td>\n      <td>Solaris (1972)</td>\n      <td>Phase IV (1974)</td>\n      <td>Zardoz (1974)</td>\n      <td>NaN</td>\n      <td>NaN</td>\n      <td>OOPS! ALL NICOLAS CAGE...AGAIN</td>\n      <td>MID-LIFE CRISIS</td>\n      <td>DISGUISES</td>\n      <td>WHERE ACTORS, PERHAPS NICHOLAS CAGE AND JOHN T...</td>\n      <td>OOPS! ALL RICK MORANIS</td>\n      <td>No Theme/Free-for-all</td>\n    </tr>\n    <tr>\n      <th>2</th>\n      <td>11/4/2020 7:23:36</td>\n      <td>Face/Off (1997)</td>\n      <td>Solaris (1972)</td>\n      <td>Phase IV (1974)</td>\n      <td>Alien (1979)</td>\n      <td>Zardoz (1974)</td>\n      <td>WHERE ACTORS, PERHAPS NICHOLAS CAGE AND JOHN T...</td>\n      <td>OOPS! ALL NICOLAS CAGE...AGAIN</td>\n      <td>DISGUISES</td>\n      <td>MID-LIFE CRISIS</td>\n      <td>OOPS! ALL RICK MORANIS</td>\n      <td>No Theme/Free-for-all</td>\n    </tr>\n    <tr>\n      <th>3</th>\n      <td>11/4/2020 8:34:55</td>\n      <td>Alien (1979)</td>\n      <td>Zardoz (1974)</td>\n      <td>Face/Off (1997)</td>\n      <td>Phase IV (1974)</td>\n      <td>NaN</td>\n      <td>OOPS! ALL RICK MORANIS</td>\n      <td>DISGUISES</td>\n      <td>OOPS! ALL NICOLAS CAGE...AGAIN</td>\n      <td>NaN</td>\n      <td>NaN</td>\n      <td>NaN</td>\n    </tr>\n    <tr>\n      <th>4</th>\n      <td>11/4/2020 15:34:10</td>\n      <td>Alien (1979)</td>\n      <td>Zardoz (1974)</td>\n      <td>Face/Off (1997)</td>\n      <td>Phase IV (1974)</td>\n      <td>Solaris (1972)</td>\n      <td>OOPS! ALL RICK MORANIS</td>\n      <td>OOPS! ALL NICOLAS CAGE...AGAIN</td>\n      <td>WHERE ACTORS, PERHAPS NICHOLAS CAGE AND JOHN T...</td>\n      <td>DISGUISES</td>\n      <td>MID-LIFE CRISIS</td>\n      <td>No Theme/Free-for-all</td>\n    </tr>\n    <tr>\n      <th>5</th>\n      <td>11/4/2020 17:11:20</td>\n      <td>Zardoz (1974)</td>\n      <td>Face/Off (1997)</td>\n      <td>NaN</td>\n      <td>NaN</td>\n      <td>NaN</td>\n      <td>OOPS! ALL RICK MORANIS</td>\n      <td>NaN</td>\n      <td>NaN</td>\n      <td>NaN</td>\n      <td>NaN</td>\n      <td>NaN</td>\n    </tr>\n    <tr>\n      <th>6</th>\n      <td>11/6/2020 8:19:18</td>\n      <td>Face/Off (1997)</td>\n      <td>Zardoz (1974)</td>\n      <td>Phase IV (1974)</td>\n      <td>Solaris (1972)</td>\n      <td>Alien (1979)</td>\n      <td>OOPS! ALL NICOLAS CAGE...AGAIN</td>\n      <td>MID-LIFE CRISIS</td>\n      <td>DISGUISES</td>\n      <td>OOPS! ALL RICK MORANIS</td>\n      <td>WHERE ACTORS, PERHAPS NICHOLAS CAGE AND JOHN T...</td>\n      <td>No Theme/Free-for-all</td>\n    </tr>\n    <tr>\n      <th>7</th>\n      <td>11/6/2020 10:04:41</td>\n      <td>Zardoz (1974)</td>\n      <td>Phase IV (1974)</td>\n      <td>Face/Off (1997)</td>\n      <td>Solaris (1972)</td>\n      <td>Alien (1979)</td>\n      <td>OOPS! ALL NICOLAS CAGE...AGAIN</td>\n      <td>OOPS! ALL RICK MORANIS</td>\n      <td>MID-LIFE CRISIS</td>\n      <td>WHERE ACTORS, PERHAPS NICHOLAS CAGE AND JOHN T...</td>\n      <td>No Theme/Free-for-all</td>\n      <td>DISGUISES</td>\n    </tr>\n  </tbody>\n</table>\n</div>"
     },
     "execution_count": 2,
     "metadata": {},
     "output_type": "execute_result"
    }
   ],
   "source": [
    "df = pd.read_csv(Path('./data/20201108.csv').resolve())\n",
    "df"
   ]
  },
  {
   "cell_type": "code",
   "execution_count": 3,
   "metadata": {},
   "outputs": [],
   "source": [
    "just_ballots = df.loc[:, df.columns.str.startswith('Rank')]\n",
    "next_week = df.loc[:, df.columns.str.startswith('What')]"
   ]
  },
  {
   "cell_type": "code",
   "execution_count": 4,
   "metadata": {},
   "outputs": [
    {
     "data": {
      "text/plain": "array(['Zardoz (1974)', 'Solaris (1972)', 'Face/Off (1997)',\n       'Phase IV (1974)', 'Alien (1979)'], dtype=object)"
     },
     "execution_count": 4,
     "metadata": {},
     "output_type": "execute_result"
    }
   ],
   "source": [
    "submissions = just_ballots.loc[just_ballots.notna().all(axis=1).idxmax(),:].values\n",
    "submissions"
   ]
  },
  {
   "cell_type": "code",
   "execution_count": 5,
   "metadata": {},
   "outputs": [],
   "source": [
    "submission_dict = {submission: pyrankvote.Candidate(submission) for submission in submissions}"
   ]
  },
  {
   "cell_type": "code",
   "execution_count": 6,
   "metadata": {},
   "outputs": [],
   "source": [
    "balloted = just_ballots.applymap(lambda x: submission_dict[x] if isinstance(x, str) else x)"
   ]
  },
  {
   "cell_type": "code",
   "execution_count": 7,
   "metadata": {},
   "outputs": [
    {
     "data": {
      "text/plain": "{'Zardoz (1974)': <Candidate('Zardoz (1974)')>,\n 'Solaris (1972)': <Candidate('Solaris (1972)')>,\n 'Face/Off (1997)': <Candidate('Face/Off (1997)')>,\n 'Phase IV (1974)': <Candidate('Phase IV (1974)')>,\n 'Alien (1979)': <Candidate('Alien (1979)')>}"
     },
     "execution_count": 7,
     "metadata": {},
     "output_type": "execute_result"
    }
   ],
   "source": [
    "submission_dict"
   ]
  },
  {
   "cell_type": "code",
   "execution_count": 8,
   "metadata": {},
   "outputs": [],
   "source": [
    "ballots = []\n",
    "for ballot in balloted.itertuples():\n",
    "    ballots.append(pyrankvote.Ballot(ranked_candidates=[b for b in ballot if isinstance(b, pyrankvote.Candidate)]))"
   ]
  },
  {
   "cell_type": "code",
   "execution_count": 9,
   "metadata": {},
   "outputs": [
    {
     "data": {
      "text/plain": "[<Ballot(Zardoz (1974), Solaris (1972), Face/Off (1997), Phase IV (1974), Alien (1979))>,\n <Ballot(Solaris (1972), Phase IV (1974), Zardoz (1974))>,\n <Ballot(Face/Off (1997), Solaris (1972), Phase IV (1974), Alien (1979), Zardoz (1974))>,\n <Ballot(Alien (1979), Zardoz (1974), Face/Off (1997), Phase IV (1974))>,\n <Ballot(Alien (1979), Zardoz (1974), Face/Off (1997), Phase IV (1974), Solaris (1972))>,\n <Ballot(Zardoz (1974), Face/Off (1997))>,\n <Ballot(Face/Off (1997), Zardoz (1974), Phase IV (1974), Solaris (1972), Alien (1979))>,\n <Ballot(Zardoz (1974), Phase IV (1974), Face/Off (1997), Solaris (1972), Alien (1979))>]"
     },
     "execution_count": 9,
     "metadata": {},
     "output_type": "execute_result"
    }
   ],
   "source": [
    "ballots"
   ]
  },
  {
   "cell_type": "code",
   "execution_count": 10,
   "metadata": {},
   "outputs": [],
   "source": [
    "election_result = pyrankvote.instant_runoff_voting(submission_dict.values(), ballots,)"
   ]
  },
  {
   "cell_type": "code",
   "execution_count": 11,
   "metadata": {},
   "outputs": [
    {
     "name": "stdout",
     "output_type": "stream",
     "text": [
      "ROUND 1\n",
      "Candidate          Votes  Status\n",
      "---------------  -------  --------\n",
      "Zardoz (1974)          3  Hopeful\n",
      "Face/Off (1997)        2  Hopeful\n",
      "Alien (1979)           2  Hopeful\n",
      "Solaris (1972)         1  Rejected\n",
      "Phase IV (1974)        0  Rejected\n",
      "\n",
      "FINAL RESULT\n",
      "Candidate          Votes  Status\n",
      "---------------  -------  --------\n",
      "Zardoz (1974)          4  Elected\n",
      "Face/Off (1997)        2  Rejected\n",
      "Alien (1979)           2  Rejected\n",
      "Solaris (1972)         0  Rejected\n",
      "Phase IV (1974)        0  Rejected\n",
      "\n"
     ]
    }
   ],
   "source": [
    "print(election_result)"
   ]
  },
  {
   "cell_type": "code",
   "execution_count": 12,
   "metadata": {},
   "outputs": [
    {
     "name": "stdout",
     "output_type": "stream",
     "text": [
      "FINAL RESULT\n",
      "Candidate                                                              Votes  Status\n",
      "-------------------------------------------------------------------  -------  --------\n",
      "OOPS! ALL NICOLAS CAGE...AGAIN                                             4  Elected\n",
      "OOPS! ALL RICK MORANIS                                                     3  Rejected\n",
      "WHERE ACTORS, PERHAPS NICHOLAS CAGE AND JOHN TRAVOLTA, TRADE FACES.        1  Rejected\n",
      "DISGUISES                                                                  0  Rejected\n",
      "MID-LIFE CRISIS                                                            0  Rejected\n",
      "No Theme/Free-for-all                                                      0  Rejected\n",
      "\n"
     ]
    }
   ],
   "source": [
    "submissions = next_week.loc[next_week.notna().all(axis=1).idxmax(),:].values\n",
    "submission_dict = {submission: pyrankvote.Candidate(submission) for submission in submissions}\n",
    "balloted = next_week.applymap(lambda x: submission_dict[x] if isinstance(x, str) else x)\n",
    "ballots = []\n",
    "for ballot in balloted.itertuples():\n",
    "    ballots.append(pyrankvote.Ballot(ranked_candidates=[b for b in ballot if isinstance(b, pyrankvote.Candidate)]))\n",
    "print(pyrankvote.instant_runoff_voting(submission_dict.values(), ballots,))"
   ]
  }
 ],
 "metadata": {
  "kernelspec": {
   "display_name": "Python 3",
   "language": "python",
   "name": "python3"
  },
  "language_info": {
   "codemirror_mode": {
    "name": "ipython",
    "version": 3
   },
   "file_extension": ".py",
   "mimetype": "text/x-python",
   "name": "python",
   "nbconvert_exporter": "python",
   "pygments_lexer": "ipython3",
   "version": "3.7.4"
  }
 },
 "nbformat": 4,
 "nbformat_minor": 2
}