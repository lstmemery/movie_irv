{
 "cells": [
  {
   "cell_type": "code",
   "execution_count": 1,
   "metadata": {},
   "outputs": [],
   "source": [
    "import pandas as pd\n",
    "import pyrankvote\n",
    "from pathlib import Path\n",
    "from random import seed\n",
    "seed(252)"
   ]
  },
  {
   "cell_type": "code",
   "execution_count": 2,
   "metadata": {},
   "outputs": [
    {
     "data": {
      "text/plain": "             Timestamp  \\\n0  30/03/2021 18:30:19   \n1  30/03/2021 18:30:22   \n2  30/03/2021 18:32:49   \n3  30/03/2021 18:33:26   \n4  30/03/2021 22:14:23   \n5  31/03/2021 19:26:27   \n6  31/03/2021 21:29:44   \n7  01/04/2021 17:25:04   \n\n  Rank your movie choices. You don't have to do a full ranking. [First Choice]  \\\n0    Bad Lieutenant: Port of Call New Orleans (2009)                             \n1    Bad Lieutenant: Port of Call New Orleans (2009)                             \n2                  Big Deal on Madonna Street (1958)                             \n3    Bad Lieutenant: Port of Call New Orleans (2009)                             \n4                                   Moby Dick (1956)                             \n5                                   Bad Santa (2003)                             \n6    Bad Lieutenant: Port of Call New Orleans (2009)                             \n7                  Big Deal on Madonna Street (1958)                             \n\n  Rank your movie choices. You don't have to do a full ranking. [Second Choice]  \\\n0                                   Moby Dick (1956)                              \n1                                   Moby Dick (1956)                              \n2                                   Moby Dick (1956)                              \n3                                   Moby Dick (1956)                              \n4                  Big Deal on Madonna Street (1958)                              \n5    Bad Lieutenant: Port of Call New Orleans (2009)                              \n6                  Big Deal on Madonna Street (1958)                              \n7                                   Moby Dick (1956)                              \n\n  Rank your movie choices. You don't have to do a full ranking. [Third Choice]  \\\n0                  Big Deal on Madonna Street (1958)                             \n1                  Big Deal on Madonna Street (1958)                             \n2    Bad Lieutenant: Port of Call New Orleans (2009)                             \n3                  Big Deal on Madonna Street (1958)                             \n4                                   Bad Santa (2003)                             \n5                  Big Deal on Madonna Street (1958)                             \n6                                   Moby Dick (1956)                             \n7                                                NaN                             \n\n  Rank your movie choices. You don't have to do a full ranking. [Fourth Choice]  \\\n0                                   Bad Santa (2003)                              \n1                                   Bad Santa (2003)                              \n2                                   Bad Santa (2003)                              \n3                                   Bad Santa (2003)                              \n4    Bad Lieutenant: Port of Call New Orleans (2009)                              \n5                                   Moby Dick (1956)                              \n6                                   Bad Santa (2003)                              \n7                                                NaN                              \n\n  What theme should we explore next week? [First Choice]  \\\n0                                        IT'S FRENCH       \n1                          [Default to Nicolas Cage]       \n2                                         BIG MONKEY       \n3                           I REALLY HATE THESE GUYS       \n4                           I REALLY HATE THESE GUYS       \n5                                        IT'S FRENCH       \n6                                         BIG MONKEY       \n7                                         BIG MONKEY       \n\n  What theme should we explore next week? [Second Choice]  \\\n0                          [Default to Nicolas Cage]        \n1                           I REALLY HATE THESE GUYS        \n2         PREDICTING THE INTERNET FOR FUN AND PROFIT        \n3         PREDICTING THE INTERNET FOR FUN AND PROFIT        \n4                                         BIG MONKEY        \n5                                         BIG MONKEY        \n6                                        IT'S FRENCH        \n7                                        IT'S FRENCH        \n\n  What theme should we explore next week? [Third Choice]  \\\n0                                         BIG MONKEY       \n1                                         BIG MONKEY       \n2                                        IT'S FRENCH       \n3                          [Default to Nicolas Cage]       \n4                                        IT'S FRENCH       \n5                           I REALLY HATE THESE GUYS       \n6         PREDICTING THE INTERNET FOR FUN AND PROFIT       \n7                           I REALLY HATE THESE GUYS       \n\n  What theme should we explore next week? [Fourth Choice]  \\\n0                           I REALLY HATE THESE GUYS        \n1         PREDICTING THE INTERNET FOR FUN AND PROFIT        \n2                           I REALLY HATE THESE GUYS        \n3                                         BIG MONKEY        \n4         PREDICTING THE INTERNET FOR FUN AND PROFIT        \n5         PREDICTING THE INTERNET FOR FUN AND PROFIT        \n6                          [Default to Nicolas Cage]        \n7                          [Default to Nicolas Cage]        \n\n  What theme should we explore next week? [Fifth Choice]  \n0         PREDICTING THE INTERNET FOR FUN AND PROFIT      \n1                                        IT'S FRENCH      \n2                                                NaN      \n3                                        IT'S FRENCH      \n4                          [Default to Nicolas Cage]      \n5                          [Default to Nicolas Cage]      \n6                           I REALLY HATE THESE GUYS      \n7         PREDICTING THE INTERNET FOR FUN AND PROFIT      ",
      "text/html": "<div>\n<style scoped>\n    .dataframe tbody tr th:only-of-type {\n        vertical-align: middle;\n    }\n\n    .dataframe tbody tr th {\n        vertical-align: top;\n    }\n\n    .dataframe thead th {\n        text-align: right;\n    }\n</style>\n<table border=\"1\" class=\"dataframe\">\n  <thead>\n    <tr style=\"text-align: right;\">\n      <th></th>\n      <th>Timestamp</th>\n      <th>Rank your movie choices. You don't have to do a full ranking. [First Choice]</th>\n      <th>Rank your movie choices. You don't have to do a full ranking. [Second Choice]</th>\n      <th>Rank your movie choices. You don't have to do a full ranking. [Third Choice]</th>\n      <th>Rank your movie choices. You don't have to do a full ranking. [Fourth Choice]</th>\n      <th>What theme should we explore next week? [First Choice]</th>\n      <th>What theme should we explore next week? [Second Choice]</th>\n      <th>What theme should we explore next week? [Third Choice]</th>\n      <th>What theme should we explore next week? [Fourth Choice]</th>\n      <th>What theme should we explore next week? [Fifth Choice]</th>\n    </tr>\n  </thead>\n  <tbody>\n    <tr>\n      <th>0</th>\n      <td>30/03/2021 18:30:19</td>\n      <td>Bad Lieutenant: Port of Call New Orleans (2009)</td>\n      <td>Moby Dick (1956)</td>\n      <td>Big Deal on Madonna Street (1958)</td>\n      <td>Bad Santa (2003)</td>\n      <td>IT'S FRENCH</td>\n      <td>[Default to Nicolas Cage]</td>\n      <td>BIG MONKEY</td>\n      <td>I REALLY HATE THESE GUYS</td>\n      <td>PREDICTING THE INTERNET FOR FUN AND PROFIT</td>\n    </tr>\n    <tr>\n      <th>1</th>\n      <td>30/03/2021 18:30:22</td>\n      <td>Bad Lieutenant: Port of Call New Orleans (2009)</td>\n      <td>Moby Dick (1956)</td>\n      <td>Big Deal on Madonna Street (1958)</td>\n      <td>Bad Santa (2003)</td>\n      <td>[Default to Nicolas Cage]</td>\n      <td>I REALLY HATE THESE GUYS</td>\n      <td>BIG MONKEY</td>\n      <td>PREDICTING THE INTERNET FOR FUN AND PROFIT</td>\n      <td>IT'S FRENCH</td>\n    </tr>\n    <tr>\n      <th>2</th>\n      <td>30/03/2021 18:32:49</td>\n      <td>Big Deal on Madonna Street (1958)</td>\n      <td>Moby Dick (1956)</td>\n      <td>Bad Lieutenant: Port of Call New Orleans (2009)</td>\n      <td>Bad Santa (2003)</td>\n      <td>BIG MONKEY</td>\n      <td>PREDICTING THE INTERNET FOR FUN AND PROFIT</td>\n      <td>IT'S FRENCH</td>\n      <td>I REALLY HATE THESE GUYS</td>\n      <td>NaN</td>\n    </tr>\n    <tr>\n      <th>3</th>\n      <td>30/03/2021 18:33:26</td>\n      <td>Bad Lieutenant: Port of Call New Orleans (2009)</td>\n      <td>Moby Dick (1956)</td>\n      <td>Big Deal on Madonna Street (1958)</td>\n      <td>Bad Santa (2003)</td>\n      <td>I REALLY HATE THESE GUYS</td>\n      <td>PREDICTING THE INTERNET FOR FUN AND PROFIT</td>\n      <td>[Default to Nicolas Cage]</td>\n      <td>BIG MONKEY</td>\n      <td>IT'S FRENCH</td>\n    </tr>\n    <tr>\n      <th>4</th>\n      <td>30/03/2021 22:14:23</td>\n      <td>Moby Dick (1956)</td>\n      <td>Big Deal on Madonna Street (1958)</td>\n      <td>Bad Santa (2003)</td>\n      <td>Bad Lieutenant: Port of Call New Orleans (2009)</td>\n      <td>I REALLY HATE THESE GUYS</td>\n      <td>BIG MONKEY</td>\n      <td>IT'S FRENCH</td>\n      <td>PREDICTING THE INTERNET FOR FUN AND PROFIT</td>\n      <td>[Default to Nicolas Cage]</td>\n    </tr>\n    <tr>\n      <th>5</th>\n      <td>31/03/2021 19:26:27</td>\n      <td>Bad Santa (2003)</td>\n      <td>Bad Lieutenant: Port of Call New Orleans (2009)</td>\n      <td>Big Deal on Madonna Street (1958)</td>\n      <td>Moby Dick (1956)</td>\n      <td>IT'S FRENCH</td>\n      <td>BIG MONKEY</td>\n      <td>I REALLY HATE THESE GUYS</td>\n      <td>PREDICTING THE INTERNET FOR FUN AND PROFIT</td>\n      <td>[Default to Nicolas Cage]</td>\n    </tr>\n    <tr>\n      <th>6</th>\n      <td>31/03/2021 21:29:44</td>\n      <td>Bad Lieutenant: Port of Call New Orleans (2009)</td>\n      <td>Big Deal on Madonna Street (1958)</td>\n      <td>Moby Dick (1956)</td>\n      <td>Bad Santa (2003)</td>\n      <td>BIG MONKEY</td>\n      <td>IT'S FRENCH</td>\n      <td>PREDICTING THE INTERNET FOR FUN AND PROFIT</td>\n      <td>[Default to Nicolas Cage]</td>\n      <td>I REALLY HATE THESE GUYS</td>\n    </tr>\n    <tr>\n      <th>7</th>\n      <td>01/04/2021 17:25:04</td>\n      <td>Big Deal on Madonna Street (1958)</td>\n      <td>Moby Dick (1956)</td>\n      <td>NaN</td>\n      <td>NaN</td>\n      <td>BIG MONKEY</td>\n      <td>IT'S FRENCH</td>\n      <td>I REALLY HATE THESE GUYS</td>\n      <td>[Default to Nicolas Cage]</td>\n      <td>PREDICTING THE INTERNET FOR FUN AND PROFIT</td>\n    </tr>\n  </tbody>\n</table>\n</div>"
     },
     "execution_count": 2,
     "metadata": {},
     "output_type": "execute_result"
    }
   ],
   "source": [
    "df = pd.read_csv(Path('./data/20210403.csv').resolve())\n",
    "df"
   ]
  },
  {
   "cell_type": "code",
   "execution_count": 3,
   "metadata": {},
   "outputs": [],
   "source": [
    "just_ballots = df.loc[:, df.columns.str.startswith('Rank')]\n",
    "next_week = df.loc[:, df.columns.str.startswith('What')]"
   ]
  },
  {
   "cell_type": "code",
   "execution_count": 4,
   "metadata": {},
   "outputs": [
    {
     "data": {
      "text/plain": "array(['Bad Lieutenant: Port of Call New Orleans (2009)',\n       'Moby Dick (1956)', 'Big Deal on Madonna Street (1958)',\n       'Bad Santa (2003)'], dtype=object)"
     },
     "execution_count": 4,
     "metadata": {},
     "output_type": "execute_result"
    }
   ],
   "source": [
    "submissions = just_ballots.loc[just_ballots.notna().all(axis=1).idxmax(),:].values\n",
    "submissions"
   ]
  },
  {
   "cell_type": "code",
   "execution_count": 5,
   "metadata": {},
   "outputs": [],
   "source": [
    "submission_dict = {submission: pyrankvote.Candidate(submission) for submission in submissions}"
   ]
  },
  {
   "cell_type": "code",
   "execution_count": 6,
   "metadata": {},
   "outputs": [],
   "source": [
    "balloted = just_ballots.applymap(lambda x: submission_dict[x] if isinstance(x, str) else x)"
   ]
  },
  {
   "cell_type": "code",
   "execution_count": 7,
   "metadata": {},
   "outputs": [
    {
     "data": {
      "text/plain": "{'Bad Lieutenant: Port of Call New Orleans (2009)': <Candidate('Bad Lieutenant: Port of Call New Orleans (2009)')>,\n 'Moby Dick (1956)': <Candidate('Moby Dick (1956)')>,\n 'Big Deal on Madonna Street (1958)': <Candidate('Big Deal on Madonna Street (1958)')>,\n 'Bad Santa (2003)': <Candidate('Bad Santa (2003)')>}"
     },
     "execution_count": 7,
     "metadata": {},
     "output_type": "execute_result"
    }
   ],
   "source": [
    "submission_dict"
   ]
  },
  {
   "cell_type": "code",
   "execution_count": 8,
   "metadata": {},
   "outputs": [],
   "source": [
    "ballots = []\n",
    "for ballot in balloted.itertuples():\n",
    "    ballots.append(pyrankvote.Ballot(ranked_candidates=[b for b in ballot if isinstance(b, pyrankvote.Candidate)]))"
   ]
  },
  {
   "cell_type": "code",
   "execution_count": 9,
   "metadata": {},
   "outputs": [
    {
     "data": {
      "text/plain": "[<Ballot(Bad Lieutenant: Port of Call New Orleans (2009), Moby Dick (1956), Big Deal on Madonna Street (1958), Bad Santa (2003))>,\n <Ballot(Bad Lieutenant: Port of Call New Orleans (2009), Moby Dick (1956), Big Deal on Madonna Street (1958), Bad Santa (2003))>,\n <Ballot(Big Deal on Madonna Street (1958), Moby Dick (1956), Bad Lieutenant: Port of Call New Orleans (2009), Bad Santa (2003))>,\n <Ballot(Bad Lieutenant: Port of Call New Orleans (2009), Moby Dick (1956), Big Deal on Madonna Street (1958), Bad Santa (2003))>,\n <Ballot(Moby Dick (1956), Big Deal on Madonna Street (1958), Bad Santa (2003), Bad Lieutenant: Port of Call New Orleans (2009))>,\n <Ballot(Bad Santa (2003), Bad Lieutenant: Port of Call New Orleans (2009), Big Deal on Madonna Street (1958), Moby Dick (1956))>,\n <Ballot(Bad Lieutenant: Port of Call New Orleans (2009), Big Deal on Madonna Street (1958), Moby Dick (1956), Bad Santa (2003))>,\n <Ballot(Big Deal on Madonna Street (1958), Moby Dick (1956))>]"
     },
     "execution_count": 9,
     "metadata": {},
     "output_type": "execute_result"
    }
   ],
   "source": [
    "ballots"
   ]
  },
  {
   "cell_type": "code",
   "execution_count": 10,
   "metadata": {},
   "outputs": [],
   "source": [
    "election_result = pyrankvote.instant_runoff_voting(submission_dict.values(), ballots,)"
   ]
  },
  {
   "cell_type": "code",
   "execution_count": 11,
   "metadata": {},
   "outputs": [
    {
     "name": "stdout",
     "output_type": "stream",
     "text": [
      "FINAL RESULT\n",
      "Candidate                                          Votes  Status\n",
      "-----------------------------------------------  -------  --------\n",
      "Bad Lieutenant: Port of Call New Orleans (2009)        4  Elected\n",
      "Big Deal on Madonna Street (1958)                      2  Rejected\n",
      "Moby Dick (1956)                                       1  Rejected\n",
      "Bad Santa (2003)                                       1  Rejected\n",
      "\n"
     ]
    }
   ],
   "source": [
    "print(election_result)"
   ]
  },
  {
   "cell_type": "code",
   "execution_count": 12,
   "metadata": {},
   "outputs": [
    {
     "name": "stdout",
     "output_type": "stream",
     "text": [
      "ROUND 1\n",
      "Candidate                                     Votes  Status\n",
      "------------------------------------------  -------  --------\n",
      "BIG MONKEY                                        3  Hopeful\n",
      "IT'S FRENCH                                       2  Hopeful\n",
      "I REALLY HATE THESE GUYS                          2  Hopeful\n",
      "[Default to Nicolas Cage]                         1  Rejected\n",
      "PREDICTING THE INTERNET FOR FUN AND PROFIT        0  Rejected\n",
      "\n",
      "ROUND 2\n",
      "Candidate                                     Votes  Status\n",
      "------------------------------------------  -------  --------\n",
      "BIG MONKEY                                        3  Hopeful\n",
      "I REALLY HATE THESE GUYS                          3  Hopeful\n",
      "IT'S FRENCH                                       2  Rejected\n",
      "[Default to Nicolas Cage]                         0  Rejected\n",
      "PREDICTING THE INTERNET FOR FUN AND PROFIT        0  Rejected\n",
      "\n",
      "FINAL RESULT\n",
      "Candidate                                     Votes  Status\n",
      "------------------------------------------  -------  --------\n",
      "BIG MONKEY                                        5  Elected\n",
      "I REALLY HATE THESE GUYS                          3  Rejected\n",
      "IT'S FRENCH                                       0  Rejected\n",
      "[Default to Nicolas Cage]                         0  Rejected\n",
      "PREDICTING THE INTERNET FOR FUN AND PROFIT        0  Rejected\n",
      "\n"
     ]
    }
   ],
   "source": [
    "submissions = next_week.loc[next_week.notna().all(axis=1).idxmax(),:].values\n",
    "submission_dict = {submission: pyrankvote.Candidate(submission) for submission in submissions}\n",
    "balloted = next_week.applymap(lambda x: submission_dict[x] if isinstance(x, str) else x)\n",
    "ballots = []\n",
    "for ballot in balloted.itertuples():\n",
    "    ballots.append(pyrankvote.Ballot(ranked_candidates=[b for b in ballot if isinstance(b, pyrankvote.Candidate)]))\n",
    "print(pyrankvote.instant_runoff_voting(submission_dict.values(), ballots,))"
   ]
  }
 ],
 "metadata": {
  "kernelspec": {
   "display_name": "Python 3",
   "language": "python",
   "name": "python3"
  },
  "language_info": {
   "codemirror_mode": {
    "name": "ipython",
    "version": 3
   },
   "file_extension": ".py",
   "mimetype": "text/x-python",
   "name": "python",
   "nbconvert_exporter": "python",
   "pygments_lexer": "ipython3",
   "version": "3.7.4"
  }
 },
 "nbformat": 4,
 "nbformat_minor": 2
}