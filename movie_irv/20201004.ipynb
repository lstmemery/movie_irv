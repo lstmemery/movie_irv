{
 "cells": [
  {
   "cell_type": "code",
   "execution_count": 1,
   "metadata": {},
   "outputs": [],
   "source": [
    "import pandas as pd\n",
    "import pyrankvote\n",
    "from pathlib import Path"
   ]
  },
  {
   "cell_type": "code",
   "execution_count": 2,
   "metadata": {},
   "outputs": [
    {
     "data": {
      "text/plain": "            Timestamp  \\\n0  9/29/2020 20:24:00   \n1  9/29/2020 20:37:22   \n2  9/29/2020 21:40:55   \n3  9/29/2020 22:26:10   \n4  9/30/2020 16:19:15   \n5   10/1/2020 1:06:38   \n6  10/1/2020 10:51:45   \n7  10/1/2020 11:09:07   \n\n  Rank your movie choices. You don't have to do a full ranking. [First Choice]  \\\n0                               Touch of Evil (1958)                             \n1                                  Metropolis (1927)                             \n2                Mr. Smith Goes to Washington (1939)                             \n3                Mr. Smith Goes to Washington (1939)                             \n4                               Touch of Evil (1958)                             \n5                Mr. Smith Goes to Washington (1939)                             \n6                               Touch of Evil (1958)                             \n7             The Killing Of A Chinese Bookie (1976)                             \n\n  Rank your movie choices. You don't have to do a full ranking. [Second Choice]  \\\n0             The Killing Of A Chinese Bookie (1976)                              \n1                Mr. Smith Goes to Washington (1939)                              \n2                                  Metropolis (1927)                              \n3             The Killing Of A Chinese Bookie (1976)                              \n4             The Killing Of A Chinese Bookie (1976)                              \n5                               Touch of Evil (1958)                              \n6                                  Metropolis (1927)                              \n7                                  Metropolis (1927)                              \n\n  Rank your movie choices. You don't have to do a full ranking. [Third Choice]  \\\n0                Mr. Smith Goes to Washington (1939)                             \n1                                                NaN                             \n2                               Touch of Evil (1958)                             \n3                                  Metropolis (1927)                             \n4                                                NaN                             \n5                                  Metropolis (1927)                             \n6                Mr. Smith Goes to Washington (1939)                             \n7                Mr. Smith Goes to Washington (1939)                             \n\n  Rank your movie choices. You don't have to do a full ranking. [Fourth Choice]  \\\n0                                  Metropolis (1927)                              \n1                                                NaN                              \n2             The Killing Of A Chinese Bookie (1976)                              \n3                               Touch of Evil (1958)                              \n4                                                NaN                              \n5             The Killing Of A Chinese Bookie (1976)                              \n6             The Killing Of A Chinese Bookie (1976)                              \n7                               Touch of Evil (1958)                              \n\n  What theme should we explore next week? [First Choice]  \\\n0                                        SEX + DEATH       \n1                                        SEX + DEATH       \n2                                             INDIA!       \n3                                        SEX + DEATH       \n4                                      WEIRD SCIENCE       \n5                              UNSUPERVISED CHILDREN       \n6                              UNSUPERVISED CHILDREN       \n7                              UNSUPERVISED CHILDREN       \n\n  What theme should we explore next week? [Second Choice]  \\\n0                              UNSUPERVISED CHILDREN        \n1                              UNSUPERVISED CHILDREN        \n2                              UNSUPERVISED CHILDREN        \n3                              UNSUPERVISED CHILDREN        \n4                                             INDIA!        \n5                                        SEX + DEATH        \n6                                      WEIRD SCIENCE        \n7                                        SEX + DEATH        \n\n  What theme should we explore next week? [Third Choice]  \\\n0                                      WEIRD SCIENCE       \n1                                      WEIRD SCIENCE       \n2                                        SEX + DEATH       \n3                                             INDIA!       \n4                              UNSUPERVISED CHILDREN       \n5                                             INDIA!       \n6                                             INDIA!       \n7                                      WEIRD SCIENCE       \n\n  What theme should we explore next week? [Fourth Choice]  \\\n0                                             INDIA!        \n1                                             INDIA!        \n2                                      WEIRD SCIENCE        \n3                                      WEIRD SCIENCE        \n4                                        SEX + DEATH        \n5                                      WEIRD SCIENCE        \n6                                        SEX + DEATH        \n7                              No Theme/Free-for-all        \n\n  What theme should we explore next week? [Fifth Choice]  \n0                              No Theme/Free-for-all      \n1                              No Theme/Free-for-all      \n2                                                NaN      \n3                              No Theme/Free-for-all      \n4                                                NaN      \n5                              No Theme/Free-for-all      \n6                              No Theme/Free-for-all      \n7                                             INDIA!      ",
      "text/html": "<div>\n<style scoped>\n    .dataframe tbody tr th:only-of-type {\n        vertical-align: middle;\n    }\n\n    .dataframe tbody tr th {\n        vertical-align: top;\n    }\n\n    .dataframe thead th {\n        text-align: right;\n    }\n</style>\n<table border=\"1\" class=\"dataframe\">\n  <thead>\n    <tr style=\"text-align: right;\">\n      <th></th>\n      <th>Timestamp</th>\n      <th>Rank your movie choices. You don't have to do a full ranking. [First Choice]</th>\n      <th>Rank your movie choices. You don't have to do a full ranking. [Second Choice]</th>\n      <th>Rank your movie choices. You don't have to do a full ranking. [Third Choice]</th>\n      <th>Rank your movie choices. You don't have to do a full ranking. [Fourth Choice]</th>\n      <th>What theme should we explore next week? [First Choice]</th>\n      <th>What theme should we explore next week? [Second Choice]</th>\n      <th>What theme should we explore next week? [Third Choice]</th>\n      <th>What theme should we explore next week? [Fourth Choice]</th>\n      <th>What theme should we explore next week? [Fifth Choice]</th>\n    </tr>\n  </thead>\n  <tbody>\n    <tr>\n      <th>0</th>\n      <td>9/29/2020 20:24:00</td>\n      <td>Touch of Evil (1958)</td>\n      <td>The Killing Of A Chinese Bookie (1976)</td>\n      <td>Mr. Smith Goes to Washington (1939)</td>\n      <td>Metropolis (1927)</td>\n      <td>SEX + DEATH</td>\n      <td>UNSUPERVISED CHILDREN</td>\n      <td>WEIRD SCIENCE</td>\n      <td>INDIA!</td>\n      <td>No Theme/Free-for-all</td>\n    </tr>\n    <tr>\n      <th>1</th>\n      <td>9/29/2020 20:37:22</td>\n      <td>Metropolis (1927)</td>\n      <td>Mr. Smith Goes to Washington (1939)</td>\n      <td>NaN</td>\n      <td>NaN</td>\n      <td>SEX + DEATH</td>\n      <td>UNSUPERVISED CHILDREN</td>\n      <td>WEIRD SCIENCE</td>\n      <td>INDIA!</td>\n      <td>No Theme/Free-for-all</td>\n    </tr>\n    <tr>\n      <th>2</th>\n      <td>9/29/2020 21:40:55</td>\n      <td>Mr. Smith Goes to Washington (1939)</td>\n      <td>Metropolis (1927)</td>\n      <td>Touch of Evil (1958)</td>\n      <td>The Killing Of A Chinese Bookie (1976)</td>\n      <td>INDIA!</td>\n      <td>UNSUPERVISED CHILDREN</td>\n      <td>SEX + DEATH</td>\n      <td>WEIRD SCIENCE</td>\n      <td>NaN</td>\n    </tr>\n    <tr>\n      <th>3</th>\n      <td>9/29/2020 22:26:10</td>\n      <td>Mr. Smith Goes to Washington (1939)</td>\n      <td>The Killing Of A Chinese Bookie (1976)</td>\n      <td>Metropolis (1927)</td>\n      <td>Touch of Evil (1958)</td>\n      <td>SEX + DEATH</td>\n      <td>UNSUPERVISED CHILDREN</td>\n      <td>INDIA!</td>\n      <td>WEIRD SCIENCE</td>\n      <td>No Theme/Free-for-all</td>\n    </tr>\n    <tr>\n      <th>4</th>\n      <td>9/30/2020 16:19:15</td>\n      <td>Touch of Evil (1958)</td>\n      <td>The Killing Of A Chinese Bookie (1976)</td>\n      <td>NaN</td>\n      <td>NaN</td>\n      <td>WEIRD SCIENCE</td>\n      <td>INDIA!</td>\n      <td>UNSUPERVISED CHILDREN</td>\n      <td>SEX + DEATH</td>\n      <td>NaN</td>\n    </tr>\n    <tr>\n      <th>5</th>\n      <td>10/1/2020 1:06:38</td>\n      <td>Mr. Smith Goes to Washington (1939)</td>\n      <td>Touch of Evil (1958)</td>\n      <td>Metropolis (1927)</td>\n      <td>The Killing Of A Chinese Bookie (1976)</td>\n      <td>UNSUPERVISED CHILDREN</td>\n      <td>SEX + DEATH</td>\n      <td>INDIA!</td>\n      <td>WEIRD SCIENCE</td>\n      <td>No Theme/Free-for-all</td>\n    </tr>\n    <tr>\n      <th>6</th>\n      <td>10/1/2020 10:51:45</td>\n      <td>Touch of Evil (1958)</td>\n      <td>Metropolis (1927)</td>\n      <td>Mr. Smith Goes to Washington (1939)</td>\n      <td>The Killing Of A Chinese Bookie (1976)</td>\n      <td>UNSUPERVISED CHILDREN</td>\n      <td>WEIRD SCIENCE</td>\n      <td>INDIA!</td>\n      <td>SEX + DEATH</td>\n      <td>No Theme/Free-for-all</td>\n    </tr>\n    <tr>\n      <th>7</th>\n      <td>10/1/2020 11:09:07</td>\n      <td>The Killing Of A Chinese Bookie (1976)</td>\n      <td>Metropolis (1927)</td>\n      <td>Mr. Smith Goes to Washington (1939)</td>\n      <td>Touch of Evil (1958)</td>\n      <td>UNSUPERVISED CHILDREN</td>\n      <td>SEX + DEATH</td>\n      <td>WEIRD SCIENCE</td>\n      <td>No Theme/Free-for-all</td>\n      <td>INDIA!</td>\n    </tr>\n  </tbody>\n</table>\n</div>"
     },
     "execution_count": 2,
     "metadata": {},
     "output_type": "execute_result"
    }
   ],
   "source": [
    "df = pd.read_csv(Path('./data/20201004.csv').resolve())\n",
    "df"
   ]
  },
  {
   "cell_type": "code",
   "execution_count": 3,
   "metadata": {},
   "outputs": [],
   "source": [
    "just_ballots = df.loc[:, df.columns.str.startswith('Rank')]\n",
    "next_week = df.loc[:, df.columns.str.startswith('What')]"
   ]
  },
  {
   "cell_type": "code",
   "execution_count": 4,
   "metadata": {},
   "outputs": [
    {
     "data": {
      "text/plain": "array(['Touch of Evil (1958)', 'The Killing Of A Chinese Bookie (1976)',\n       'Mr. Smith Goes to Washington (1939)', 'Metropolis (1927)'],\n      dtype=object)"
     },
     "execution_count": 4,
     "metadata": {},
     "output_type": "execute_result"
    }
   ],
   "source": [
    "submissions = just_ballots.loc[just_ballots.notna().all(axis=1).idxmax(),:].values\n",
    "submissions"
   ]
  },
  {
   "cell_type": "code",
   "execution_count": 5,
   "metadata": {},
   "outputs": [],
   "source": [
    "submission_dict = {submission: pyrankvote.Candidate(submission) for submission in submissions}"
   ]
  },
  {
   "cell_type": "code",
   "execution_count": 6,
   "metadata": {},
   "outputs": [],
   "source": [
    "balloted = just_ballots.applymap(lambda x: submission_dict[x] if isinstance(x, str) else x)"
   ]
  },
  {
   "cell_type": "code",
   "execution_count": 7,
   "metadata": {},
   "outputs": [
    {
     "data": {
      "text/plain": "{'Touch of Evil (1958)': <Candidate('Touch of Evil (1958)')>,\n 'The Killing Of A Chinese Bookie (1976)': <Candidate('The Killing Of A Chinese Bookie (1976)')>,\n 'Mr. Smith Goes to Washington (1939)': <Candidate('Mr. Smith Goes to Washington (1939)')>,\n 'Metropolis (1927)': <Candidate('Metropolis (1927)')>}"
     },
     "execution_count": 7,
     "metadata": {},
     "output_type": "execute_result"
    }
   ],
   "source": [
    "submission_dict"
   ]
  },
  {
   "cell_type": "code",
   "execution_count": 8,
   "metadata": {},
   "outputs": [],
   "source": [
    "ballots = []\n",
    "for ballot in balloted.itertuples():\n",
    "    ballots.append(pyrankvote.Ballot(ranked_candidates=[b for b in ballot if isinstance(b, pyrankvote.Candidate)]))"
   ]
  },
  {
   "cell_type": "code",
   "execution_count": 9,
   "metadata": {},
   "outputs": [
    {
     "data": {
      "text/plain": "[<Ballot(Touch of Evil (1958), The Killing Of A Chinese Bookie (1976), Mr. Smith Goes to Washington (1939), Metropolis (1927))>,\n <Ballot(Metropolis (1927), Mr. Smith Goes to Washington (1939))>,\n <Ballot(Mr. Smith Goes to Washington (1939), Metropolis (1927), Touch of Evil (1958), The Killing Of A Chinese Bookie (1976))>,\n <Ballot(Mr. Smith Goes to Washington (1939), The Killing Of A Chinese Bookie (1976), Metropolis (1927), Touch of Evil (1958))>,\n <Ballot(Touch of Evil (1958), The Killing Of A Chinese Bookie (1976))>,\n <Ballot(Mr. Smith Goes to Washington (1939), Touch of Evil (1958), Metropolis (1927), The Killing Of A Chinese Bookie (1976))>,\n <Ballot(Touch of Evil (1958), Metropolis (1927), Mr. Smith Goes to Washington (1939), The Killing Of A Chinese Bookie (1976))>,\n <Ballot(The Killing Of A Chinese Bookie (1976), Metropolis (1927), Mr. Smith Goes to Washington (1939), Touch of Evil (1958))>]"
     },
     "execution_count": 9,
     "metadata": {},
     "output_type": "execute_result"
    }
   ],
   "source": [
    "ballots"
   ]
  },
  {
   "cell_type": "code",
   "execution_count": 10,
   "metadata": {},
   "outputs": [],
   "source": [
    "election_result = pyrankvote.instant_runoff_voting(submission_dict.values(), ballots,)"
   ]
  },
  {
   "cell_type": "code",
   "execution_count": 11,
   "metadata": {},
   "outputs": [
    {
     "name": "stdout",
     "output_type": "stream",
     "text": [
      "ROUND 1\n",
      "Candidate                                 Votes  Status\n",
      "--------------------------------------  -------  --------\n",
      "Mr. Smith Goes to Washington (1939)           3  Hopeful\n",
      "Touch of Evil (1958)                          3  Hopeful\n",
      "Metropolis (1927)                             1  Rejected\n",
      "The Killing Of A Chinese Bookie (1976)        1  Rejected\n",
      "\n",
      "FINAL RESULT\n",
      "Candidate                                 Votes  Status\n",
      "--------------------------------------  -------  --------\n",
      "Mr. Smith Goes to Washington (1939)           5  Elected\n",
      "Touch of Evil (1958)                          3  Rejected\n",
      "Metropolis (1927)                             0  Rejected\n",
      "The Killing Of A Chinese Bookie (1976)        0  Rejected\n",
      "\n"
     ]
    }
   ],
   "source": [
    "print(election_result)"
   ]
  },
  {
   "cell_type": "code",
   "execution_count": 12,
   "metadata": {},
   "outputs": [
    {
     "name": "stdout",
     "output_type": "stream",
     "text": [
      "ROUND 1\n",
      "Candidate                Votes  Status\n",
      "---------------------  -------  --------\n",
      "UNSUPERVISED CHILDREN        3  Hopeful\n",
      "SEX + DEATH                  3  Hopeful\n",
      "WEIRD SCIENCE                1  Rejected\n",
      "INDIA!                       1  Rejected\n",
      "No Theme/Free-for-all        0  Rejected\n",
      "\n",
      "FINAL RESULT\n",
      "Candidate                Votes  Status\n",
      "---------------------  -------  --------\n",
      "UNSUPERVISED CHILDREN        5  Elected\n",
      "SEX + DEATH                  3  Rejected\n",
      "WEIRD SCIENCE                0  Rejected\n",
      "INDIA!                       0  Rejected\n",
      "No Theme/Free-for-all        0  Rejected\n",
      "\n"
     ]
    }
   ],
   "source": [
    "submissions = next_week.loc[next_week.notna().all(axis=1).idxmax(),:].values\n",
    "submission_dict = {submission: pyrankvote.Candidate(submission) for submission in submissions}\n",
    "balloted = next_week.applymap(lambda x: submission_dict[x] if isinstance(x, str) else x)\n",
    "ballots = []\n",
    "for ballot in balloted.itertuples():\n",
    "    ballots.append(pyrankvote.Ballot(ranked_candidates=[b for b in ballot if isinstance(b, pyrankvote.Candidate)]))\n",
    "print(pyrankvote.instant_runoff_voting(submission_dict.values(), ballots,))"
   ]
  }
 ],
 "metadata": {
  "kernelspec": {
   "display_name": "Python 3",
   "language": "python",
   "name": "python3"
  },
  "language_info": {
   "codemirror_mode": {
    "name": "ipython",
    "version": 3
   },
   "file_extension": ".py",
   "mimetype": "text/x-python",
   "name": "python",
   "nbconvert_exporter": "python",
   "pygments_lexer": "ipython3",
   "version": "3.7.4"
  }
 },
 "nbformat": 4,
 "nbformat_minor": 2
}