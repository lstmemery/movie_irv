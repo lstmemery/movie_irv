{
 "cells": [
  {
   "cell_type": "code",
   "execution_count": 1,
   "metadata": {},
   "outputs": [],
   "source": [
    "import pandas as pd\n",
    "import pyrankvote\n",
    "from pathlib import Path"
   ]
  },
  {
   "cell_type": "code",
   "execution_count": 2,
   "metadata": {},
   "outputs": [
    {
     "data": {
      "text/plain": "            Timestamp  \\\n0  8/12/2020 20:39:34   \n1  8/12/2020 20:43:56   \n2  8/15/2020 12:31:33   \n3  8/12/2020 21:43:31   \n4   8/13/2020 6:54:33   \n5  8/13/2020 11:00:56   \n6   8/15/2020 9:45:37   \n\n  Rank your movie choices. You don't have to do a full ranking. [First Choice]  \\\n0                        The Diary of a Teenage Girl                             \n1                                              Bound                             \n2                                 They Came Together                             \n3                                             Junior                             \n4                                             Junior                             \n5                                             Junior                             \n6                                              Bound                             \n\n  Rank your movie choices. You don't have to do a full ranking. [Second Choice]  \\\n0                                              Bound                              \n1                                             Junior                              \n2                                              Bound                              \n3                                 They Came Together                              \n4                                              Bound                              \n5                                 They Came Together                              \n6                        The Diary of a Teenage Girl                              \n\n  Rank your movie choices. You don't have to do a full ranking. [Third Choice]  \\\n0                                             Junior                             \n1                                 They Came Together                             \n2                                             Junior                             \n3                                              Bound                             \n4                                 They Came Together                             \n5                        The Diary of a Teenage Girl                             \n6                                 They Came Together                             \n\n  Rank your movie choices. You don't have to do a full ranking. [Fourth Choice]  \\\n0                                                NaN                              \n1                        The Diary of a Teenage Girl                              \n2                        The Diary of a Teenage Girl                              \n3                        The Diary of a Teenage Girl                              \n4                        The Diary of a Teenage Girl                              \n5                                              Bound                              \n6                                             Junior                              \n\n  What theme should we explore next week? [First Choice]  \\\n0                                    WWII (NO YANKS)       \n1                                SON: FRIEND OR FOE?       \n2                                        WHODUNNIT?!       \n3                                SON: FRIEND OR FOE?       \n4                                    WWII (NO YANKS)       \n5                              No Theme/Free-for-all       \n6  SOMETHING OF A \"FLOWERS OF ALGERNON\" TYPE SITU...       \n\n  What theme should we explore next week? [Second Choice]  \\\n0                              No Theme/Free-for-all        \n1  SOMETHING OF A \"FLOWERS OF ALGERNON\" TYPE SITU...        \n2                                SON: FRIEND OR FOE?        \n3  SOMETHING OF A \"FLOWERS OF ALGERNON\" TYPE SITU...        \n4                                        WHODUNNIT?!        \n5                                SON: FRIEND OR FOE?        \n6                                SON: FRIEND OR FOE?        \n\n  What theme should we explore next week? [Third Choice]  \\\n0                                SON: FRIEND OR FOE?       \n1                                    WWII (NO YANKS)       \n2                                    WWII (NO YANKS)       \n3                                    WWII (NO YANKS)       \n4                                SON: FRIEND OR FOE?       \n5                                    WWII (NO YANKS)       \n6                                        WHODUNNIT?!       \n\n  What theme should we explore next week? [Fourth Choice]  \\\n0  SOMETHING OF A \"FLOWERS OF ALGERNON\" TYPE SITU...        \n1                                        WHODUNNIT?!        \n2                              No Theme/Free-for-all        \n3                                        WHODUNNIT?!        \n4  SOMETHING OF A \"FLOWERS OF ALGERNON\" TYPE SITU...        \n5                                        WHODUNNIT?!        \n6                                    WWII (NO YANKS)        \n\n  What theme should we explore next week? [Fifth Choice]  \n0                                        WHODUNNIT?!      \n1                              No Theme/Free-for-all      \n2                                                NaN      \n3                              No Theme/Free-for-all      \n4                                                NaN      \n5  SOMETHING OF A \"FLOWERS OF ALGERNON\" TYPE SITU...      \n6                              No Theme/Free-for-all      ",
      "text/html": "<div>\n<style scoped>\n    .dataframe tbody tr th:only-of-type {\n        vertical-align: middle;\n    }\n\n    .dataframe tbody tr th {\n        vertical-align: top;\n    }\n\n    .dataframe thead th {\n        text-align: right;\n    }\n</style>\n<table border=\"1\" class=\"dataframe\">\n  <thead>\n    <tr style=\"text-align: right;\">\n      <th></th>\n      <th>Timestamp</th>\n      <th>Rank your movie choices. You don't have to do a full ranking. [First Choice]</th>\n      <th>Rank your movie choices. You don't have to do a full ranking. [Second Choice]</th>\n      <th>Rank your movie choices. You don't have to do a full ranking. [Third Choice]</th>\n      <th>Rank your movie choices. You don't have to do a full ranking. [Fourth Choice]</th>\n      <th>What theme should we explore next week? [First Choice]</th>\n      <th>What theme should we explore next week? [Second Choice]</th>\n      <th>What theme should we explore next week? [Third Choice]</th>\n      <th>What theme should we explore next week? [Fourth Choice]</th>\n      <th>What theme should we explore next week? [Fifth Choice]</th>\n    </tr>\n  </thead>\n  <tbody>\n    <tr>\n      <th>0</th>\n      <td>8/12/2020 20:39:34</td>\n      <td>The Diary of a Teenage Girl</td>\n      <td>Bound</td>\n      <td>Junior</td>\n      <td>NaN</td>\n      <td>WWII (NO YANKS)</td>\n      <td>No Theme/Free-for-all</td>\n      <td>SON: FRIEND OR FOE?</td>\n      <td>SOMETHING OF A \"FLOWERS OF ALGERNON\" TYPE SITU...</td>\n      <td>WHODUNNIT?!</td>\n    </tr>\n    <tr>\n      <th>1</th>\n      <td>8/12/2020 20:43:56</td>\n      <td>Bound</td>\n      <td>Junior</td>\n      <td>They Came Together</td>\n      <td>The Diary of a Teenage Girl</td>\n      <td>SON: FRIEND OR FOE?</td>\n      <td>SOMETHING OF A \"FLOWERS OF ALGERNON\" TYPE SITU...</td>\n      <td>WWII (NO YANKS)</td>\n      <td>WHODUNNIT?!</td>\n      <td>No Theme/Free-for-all</td>\n    </tr>\n    <tr>\n      <th>2</th>\n      <td>8/15/2020 12:31:33</td>\n      <td>They Came Together</td>\n      <td>Bound</td>\n      <td>Junior</td>\n      <td>The Diary of a Teenage Girl</td>\n      <td>WHODUNNIT?!</td>\n      <td>SON: FRIEND OR FOE?</td>\n      <td>WWII (NO YANKS)</td>\n      <td>No Theme/Free-for-all</td>\n      <td>NaN</td>\n    </tr>\n    <tr>\n      <th>3</th>\n      <td>8/12/2020 21:43:31</td>\n      <td>Junior</td>\n      <td>They Came Together</td>\n      <td>Bound</td>\n      <td>The Diary of a Teenage Girl</td>\n      <td>SON: FRIEND OR FOE?</td>\n      <td>SOMETHING OF A \"FLOWERS OF ALGERNON\" TYPE SITU...</td>\n      <td>WWII (NO YANKS)</td>\n      <td>WHODUNNIT?!</td>\n      <td>No Theme/Free-for-all</td>\n    </tr>\n    <tr>\n      <th>4</th>\n      <td>8/13/2020 6:54:33</td>\n      <td>Junior</td>\n      <td>Bound</td>\n      <td>They Came Together</td>\n      <td>The Diary of a Teenage Girl</td>\n      <td>WWII (NO YANKS)</td>\n      <td>WHODUNNIT?!</td>\n      <td>SON: FRIEND OR FOE?</td>\n      <td>SOMETHING OF A \"FLOWERS OF ALGERNON\" TYPE SITU...</td>\n      <td>NaN</td>\n    </tr>\n    <tr>\n      <th>5</th>\n      <td>8/13/2020 11:00:56</td>\n      <td>Junior</td>\n      <td>They Came Together</td>\n      <td>The Diary of a Teenage Girl</td>\n      <td>Bound</td>\n      <td>No Theme/Free-for-all</td>\n      <td>SON: FRIEND OR FOE?</td>\n      <td>WWII (NO YANKS)</td>\n      <td>WHODUNNIT?!</td>\n      <td>SOMETHING OF A \"FLOWERS OF ALGERNON\" TYPE SITU...</td>\n    </tr>\n    <tr>\n      <th>6</th>\n      <td>8/15/2020 9:45:37</td>\n      <td>Bound</td>\n      <td>The Diary of a Teenage Girl</td>\n      <td>They Came Together</td>\n      <td>Junior</td>\n      <td>SOMETHING OF A \"FLOWERS OF ALGERNON\" TYPE SITU...</td>\n      <td>SON: FRIEND OR FOE?</td>\n      <td>WHODUNNIT?!</td>\n      <td>WWII (NO YANKS)</td>\n      <td>No Theme/Free-for-all</td>\n    </tr>\n  </tbody>\n</table>\n</div>"
     },
     "execution_count": 2,
     "metadata": {},
     "output_type": "execute_result"
    }
   ],
   "source": [
    "df = pd.read_csv(Path('./data/20200817.csv').resolve())\n",
    "df"
   ]
  },
  {
   "cell_type": "code",
   "execution_count": 3,
   "metadata": {},
   "outputs": [],
   "source": [
    "just_ballots = df.loc[:, df.columns.str.startswith('Rank')]\n",
    "next_week = df.loc[:, df.columns.str.startswith('What')]"
   ]
  },
  {
   "cell_type": "code",
   "execution_count": 4,
   "metadata": {},
   "outputs": [
    {
     "data": {
      "text/plain": "array(['Bound', 'Junior', 'They Came Together',\n       'The Diary of a Teenage Girl'], dtype=object)"
     },
     "execution_count": 4,
     "metadata": {},
     "output_type": "execute_result"
    }
   ],
   "source": [
    "submissions = just_ballots.loc[just_ballots.notna().all(axis=1).idxmax(),:].values\n",
    "submissions"
   ]
  },
  {
   "cell_type": "code",
   "execution_count": 5,
   "metadata": {},
   "outputs": [],
   "source": [
    "submission_dict = {submission: pyrankvote.Candidate(submission) for submission in submissions}"
   ]
  },
  {
   "cell_type": "code",
   "execution_count": 6,
   "metadata": {},
   "outputs": [],
   "source": [
    "balloted = just_ballots.applymap(lambda x: submission_dict[x] if isinstance(x, str) else x)"
   ]
  },
  {
   "cell_type": "code",
   "execution_count": 7,
   "metadata": {},
   "outputs": [
    {
     "data": {
      "text/plain": "{'Bound': <Candidate('Bound')>,\n 'Junior': <Candidate('Junior')>,\n 'They Came Together': <Candidate('They Came Together')>,\n 'The Diary of a Teenage Girl': <Candidate('The Diary of a Teenage Girl')>}"
     },
     "execution_count": 7,
     "metadata": {},
     "output_type": "execute_result"
    }
   ],
   "source": [
    "submission_dict"
   ]
  },
  {
   "cell_type": "code",
   "execution_count": 8,
   "metadata": {},
   "outputs": [],
   "source": [
    "ballots = []\n",
    "for ballot in balloted.itertuples():\n",
    "    ballots.append(pyrankvote.Ballot(ranked_candidates=[b for b in ballot if isinstance(b, pyrankvote.Candidate)]))"
   ]
  },
  {
   "cell_type": "code",
   "execution_count": 9,
   "metadata": {},
   "outputs": [
    {
     "data": {
      "text/plain": "[<Ballot(The Diary of a Teenage Girl, Bound, Junior)>,\n <Ballot(Bound, Junior, They Came Together, The Diary of a Teenage Girl)>,\n <Ballot(They Came Together, Bound, Junior, The Diary of a Teenage Girl)>,\n <Ballot(Junior, They Came Together, Bound, The Diary of a Teenage Girl)>,\n <Ballot(Junior, Bound, They Came Together, The Diary of a Teenage Girl)>,\n <Ballot(Junior, They Came Together, The Diary of a Teenage Girl, Bound)>,\n <Ballot(Bound, The Diary of a Teenage Girl, They Came Together, Junior)>]"
     },
     "execution_count": 9,
     "metadata": {},
     "output_type": "execute_result"
    }
   ],
   "source": [
    "ballots"
   ]
  },
  {
   "cell_type": "code",
   "execution_count": 10,
   "metadata": {},
   "outputs": [],
   "source": [
    "election_result = pyrankvote.instant_runoff_voting(submission_dict.values(), ballots,)"
   ]
  },
  {
   "cell_type": "code",
   "execution_count": 11,
   "metadata": {},
   "outputs": [
    {
     "name": "stdout",
     "output_type": "stream",
     "text": [
      "ROUND 1\n",
      "Candidate                      Votes  Status\n",
      "---------------------------  -------  --------\n",
      "Junior                             3  Hopeful\n",
      "Bound                              2  Hopeful\n",
      "They Came Together                 1  Rejected\n",
      "The Diary of a Teenage Girl        1  Rejected\n",
      "\n",
      "FINAL RESULT\n",
      "Candidate                      Votes  Status\n",
      "---------------------------  -------  --------\n",
      "Bound                              4  Elected\n",
      "Junior                             3  Rejected\n",
      "They Came Together                 0  Rejected\n",
      "The Diary of a Teenage Girl        0  Rejected\n",
      "\n"
     ]
    }
   ],
   "source": [
    "print(election_result)"
   ]
  },
  {
   "cell_type": "code",
   "execution_count": 12,
   "metadata": {},
   "outputs": [
    {
     "name": "stdout",
     "output_type": "stream",
     "text": [
      "ROUND 1\n",
      "Candidate                                                                    Votes  Status\n",
      "-------------------------------------------------------------------------  -------  --------\n",
      "SON: FRIEND OR FOE?                                                              2  Hopeful\n",
      "WWII (NO YANKS)                                                                  2  Hopeful\n",
      "SOMETHING OF A \"FLOWERS OF ALGERNON\" TYPE SITUATION IF YOU CATCH MY DRIFT        1  Hopeful\n",
      "WHODUNNIT?!                                                                      1  Hopeful\n",
      "No Theme/Free-for-all                                                            1  Rejected\n",
      "\n",
      "ROUND 2\n",
      "Candidate                                                                    Votes  Status\n",
      "-------------------------------------------------------------------------  -------  --------\n",
      "SON: FRIEND OR FOE?                                                              3  Hopeful\n",
      "WWII (NO YANKS)                                                                  2  Hopeful\n",
      "SOMETHING OF A \"FLOWERS OF ALGERNON\" TYPE SITUATION IF YOU CATCH MY DRIFT        1  Rejected\n",
      "WHODUNNIT?!                                                                      1  Rejected\n",
      "No Theme/Free-for-all                                                            0  Rejected\n",
      "\n",
      "FINAL RESULT\n",
      "Candidate                                                                    Votes  Status\n",
      "-------------------------------------------------------------------------  -------  --------\n",
      "SON: FRIEND OR FOE?                                                              5  Elected\n",
      "WWII (NO YANKS)                                                                  2  Rejected\n",
      "SOMETHING OF A \"FLOWERS OF ALGERNON\" TYPE SITUATION IF YOU CATCH MY DRIFT        0  Rejected\n",
      "WHODUNNIT?!                                                                      0  Rejected\n",
      "No Theme/Free-for-all                                                            0  Rejected\n",
      "\n"
     ]
    }
   ],
   "source": [
    "submissions = next_week.loc[next_week.notna().all(axis=1).idxmax(),:].values\n",
    "submission_dict = {submission: pyrankvote.Candidate(submission) for submission in submissions}\n",
    "balloted = next_week.applymap(lambda x: submission_dict[x] if isinstance(x, str) else x)\n",
    "ballots = []\n",
    "for ballot in balloted.itertuples():\n",
    "    ballots.append(pyrankvote.Ballot(ranked_candidates=[b for b in ballot if isinstance(b, pyrankvote.Candidate)]))\n",
    "print(pyrankvote.instant_runoff_voting(submission_dict.values(), ballots,))"
   ]
  }
 ],
 "metadata": {
  "kernelspec": {
   "display_name": "Python 3",
   "language": "python",
   "name": "python3"
  },
  "language_info": {
   "codemirror_mode": {
    "name": "ipython",
    "version": 3
   },
   "file_extension": ".py",
   "mimetype": "text/x-python",
   "name": "python",
   "nbconvert_exporter": "python",
   "pygments_lexer": "ipython3",
   "version": "3.7.4"
  }
 },
 "nbformat": 4,
 "nbformat_minor": 2
}