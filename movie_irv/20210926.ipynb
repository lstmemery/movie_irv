{
 "cells": [
  {
   "cell_type": "code",
   "execution_count": 15,
   "metadata": {},
   "outputs": [],
   "source": [
    "import pandas as pd\n",
    "import pyrankvote\n",
    "from pathlib import Path\n",
    "from random import seed\n",
    "seed(252)"
   ]
  },
  {
   "cell_type": "code",
   "execution_count": 16,
   "metadata": {},
   "outputs": [
    {
     "data": {
      "text/plain": "             Timestamp  \\\n0  21/09/2021 20:48:32   \n1  21/09/2021 20:51:12   \n2  22/09/2021 15:33:41   \n3  23/09/2021 08:27:54   \n\n  Rank your movie choices. You don't have to do a full ranking. [First Choice]  \\\n0                              Wendy and Lucy (2010)                             \n1                              Wendy and Lucy (2010)                             \n2                                Best in Show (2000)                             \n3                     Beverly Hills Chihuahua (2008)                             \n\n  Rank your movie choices. You don't have to do a full ranking. [Second Choice]  \\\n0                                Best in Show (2000)                              \n1                     Beverly Hills Chihuahua (2008)                              \n2                                                NaN                              \n3                              Wendy and Lucy (2010)                              \n\n  Rank your movie choices. You don't have to do a full ranking. [Third Choice]  \\\n0                     Beverly Hills Chihuahua (2008)                             \n1                                                NaN                             \n2                                                NaN                             \n3                                Best in Show (2000)                             \n\n  What theme should we explore next week? [First Choice]  \\\n0                               OOPS ALL JOHN WATERS       \n1                               OOPS ALL JOHN WATERS       \n2                                     CENTRAL EUROPE       \n3                                     CENTRAL EUROPE       \n\n  What theme should we explore next week? [Second Choice]  \\\n0                             [Default to Trish Pic]        \n1                                     CENTRAL EUROPE        \n2                               OOPS ALL JOHN WATERS        \n3                               OOPS ALL JOHN WATERS        \n\n  What theme should we explore next week? [Third Choice]  \n0                                     CENTRAL EUROPE      \n1                             [Default to Trish Pic]      \n2                             [Default to Trish Pic]      \n3                             [Default to Trish Pic]      ",
      "text/html": "<div>\n<style scoped>\n    .dataframe tbody tr th:only-of-type {\n        vertical-align: middle;\n    }\n\n    .dataframe tbody tr th {\n        vertical-align: top;\n    }\n\n    .dataframe thead th {\n        text-align: right;\n    }\n</style>\n<table border=\"1\" class=\"dataframe\">\n  <thead>\n    <tr style=\"text-align: right;\">\n      <th></th>\n      <th>Timestamp</th>\n      <th>Rank your movie choices. You don't have to do a full ranking. [First Choice]</th>\n      <th>Rank your movie choices. You don't have to do a full ranking. [Second Choice]</th>\n      <th>Rank your movie choices. You don't have to do a full ranking. [Third Choice]</th>\n      <th>What theme should we explore next week? [First Choice]</th>\n      <th>What theme should we explore next week? [Second Choice]</th>\n      <th>What theme should we explore next week? [Third Choice]</th>\n    </tr>\n  </thead>\n  <tbody>\n    <tr>\n      <th>0</th>\n      <td>21/09/2021 20:48:32</td>\n      <td>Wendy and Lucy (2010)</td>\n      <td>Best in Show (2000)</td>\n      <td>Beverly Hills Chihuahua (2008)</td>\n      <td>OOPS ALL JOHN WATERS</td>\n      <td>[Default to Trish Pic]</td>\n      <td>CENTRAL EUROPE</td>\n    </tr>\n    <tr>\n      <th>1</th>\n      <td>21/09/2021 20:51:12</td>\n      <td>Wendy and Lucy (2010)</td>\n      <td>Beverly Hills Chihuahua (2008)</td>\n      <td>NaN</td>\n      <td>OOPS ALL JOHN WATERS</td>\n      <td>CENTRAL EUROPE</td>\n      <td>[Default to Trish Pic]</td>\n    </tr>\n    <tr>\n      <th>2</th>\n      <td>22/09/2021 15:33:41</td>\n      <td>Best in Show (2000)</td>\n      <td>NaN</td>\n      <td>NaN</td>\n      <td>CENTRAL EUROPE</td>\n      <td>OOPS ALL JOHN WATERS</td>\n      <td>[Default to Trish Pic]</td>\n    </tr>\n    <tr>\n      <th>3</th>\n      <td>23/09/2021 08:27:54</td>\n      <td>Beverly Hills Chihuahua (2008)</td>\n      <td>Wendy and Lucy (2010)</td>\n      <td>Best in Show (2000)</td>\n      <td>CENTRAL EUROPE</td>\n      <td>OOPS ALL JOHN WATERS</td>\n      <td>[Default to Trish Pic]</td>\n    </tr>\n  </tbody>\n</table>\n</div>"
     },
     "execution_count": 16,
     "metadata": {},
     "output_type": "execute_result"
    }
   ],
   "source": [
    "df = pd.read_csv(Path('./data/20210926.csv').resolve())\n",
    "df"
   ]
  },
  {
   "cell_type": "code",
   "execution_count": 17,
   "metadata": {},
   "outputs": [],
   "source": [
    "just_ballots = df.loc[:, df.columns.str.startswith('Rank')]\n",
    "next_week = df.loc[:, df.columns.str.startswith('What')]"
   ]
  },
  {
   "cell_type": "code",
   "execution_count": 18,
   "metadata": {},
   "outputs": [
    {
     "data": {
      "text/plain": "array(['Wendy and Lucy (2010)', 'Best in Show (2000)',\n       'Beverly Hills Chihuahua (2008)'], dtype=object)"
     },
     "execution_count": 18,
     "metadata": {},
     "output_type": "execute_result"
    }
   ],
   "source": [
    "submissions = just_ballots.loc[just_ballots.notna().all(axis=1).idxmax(),:].values\n",
    "submissions"
   ]
  },
  {
   "cell_type": "code",
   "execution_count": 19,
   "metadata": {},
   "outputs": [],
   "source": [
    "submission_dict = {submission: pyrankvote.Candidate(submission) for submission in submissions}"
   ]
  },
  {
   "cell_type": "code",
   "execution_count": 20,
   "metadata": {},
   "outputs": [],
   "source": [
    "balloted = just_ballots.applymap(lambda x: submission_dict[x] if isinstance(x, str) else x)"
   ]
  },
  {
   "cell_type": "code",
   "execution_count": 21,
   "metadata": {},
   "outputs": [
    {
     "data": {
      "text/plain": "{'Wendy and Lucy (2010)': <Candidate('Wendy and Lucy (2010)')>,\n 'Best in Show (2000)': <Candidate('Best in Show (2000)')>,\n 'Beverly Hills Chihuahua (2008)': <Candidate('Beverly Hills Chihuahua (2008)')>}"
     },
     "execution_count": 21,
     "metadata": {},
     "output_type": "execute_result"
    }
   ],
   "source": [
    "submission_dict"
   ]
  },
  {
   "cell_type": "code",
   "execution_count": 22,
   "metadata": {},
   "outputs": [],
   "source": [
    "ballots = []\n",
    "for ballot in balloted.itertuples():\n",
    "    ballots.append(pyrankvote.Ballot(ranked_candidates=[b for b in ballot if isinstance(b, pyrankvote.Candidate)]))"
   ]
  },
  {
   "cell_type": "code",
   "execution_count": 23,
   "metadata": {},
   "outputs": [
    {
     "data": {
      "text/plain": "[<Ballot(Wendy and Lucy (2010), Best in Show (2000), Beverly Hills Chihuahua (2008))>,\n <Ballot(Wendy and Lucy (2010), Beverly Hills Chihuahua (2008))>,\n <Ballot(Best in Show (2000))>,\n <Ballot(Beverly Hills Chihuahua (2008), Wendy and Lucy (2010), Best in Show (2000))>]"
     },
     "execution_count": 23,
     "metadata": {},
     "output_type": "execute_result"
    }
   ],
   "source": [
    "ballots"
   ]
  },
  {
   "cell_type": "code",
   "execution_count": 24,
   "metadata": {},
   "outputs": [],
   "source": [
    "election_result = pyrankvote.instant_runoff_voting(submission_dict.values(), ballots,)"
   ]
  },
  {
   "cell_type": "code",
   "execution_count": 25,
   "metadata": {},
   "outputs": [
    {
     "name": "stdout",
     "output_type": "stream",
     "text": [
      "FINAL RESULT\n",
      "Candidate                         Votes  Status\n",
      "------------------------------  -------  --------\n",
      "Wendy and Lucy (2010)                 2  Elected\n",
      "Best in Show (2000)                   1  Rejected\n",
      "Beverly Hills Chihuahua (2008)        1  Rejected\n",
      "\n"
     ]
    }
   ],
   "source": [
    "print(election_result)"
   ]
  },
  {
   "cell_type": "code",
   "execution_count": 26,
   "metadata": {},
   "outputs": [
    {
     "name": "stdout",
     "output_type": "stream",
     "text": [
      "FINAL RESULT\n",
      "Candidate                 Votes  Status\n",
      "----------------------  -------  --------\n",
      "OOPS ALL JOHN WATERS          2  Elected\n",
      "CENTRAL EUROPE                2  Rejected\n",
      "[Default to Trish Pic]        0  Rejected\n",
      "\n"
     ]
    }
   ],
   "source": [
    "submissions = next_week.loc[next_week.notna().all(axis=1).idxmax(),:].values\n",
    "submission_dict = {submission: pyrankvote.Candidate(submission) for submission in submissions}\n",
    "balloted = next_week.applymap(lambda x: submission_dict[x] if isinstance(x, str) else x)\n",
    "ballots = []\n",
    "for ballot in balloted.itertuples():\n",
    "    ballots.append(pyrankvote.Ballot(ranked_candidates=[b for b in ballot if isinstance(b, pyrankvote.Candidate)]))\n",
    "print(pyrankvote.instant_runoff_voting(submission_dict.values(), ballots,))"
   ]
  }
 ],
 "metadata": {
  "kernelspec": {
   "display_name": "Python 3",
   "language": "python",
   "name": "python3"
  },
  "language_info": {
   "codemirror_mode": {
    "name": "ipython",
    "version": 3
   },
   "file_extension": ".py",
   "mimetype": "text/x-python",
   "name": "python",
   "nbconvert_exporter": "python",
   "pygments_lexer": "ipython3",
   "version": "3.7.4"
  }
 },
 "nbformat": 4,
 "nbformat_minor": 2
}