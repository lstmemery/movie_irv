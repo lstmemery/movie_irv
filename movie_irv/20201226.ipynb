{
 "cells": [
  {
   "cell_type": "code",
   "execution_count": 1,
   "metadata": {},
   "outputs": [],
   "source": [
    "import pandas as pd\n",
    "import pyrankvote\n",
    "from pathlib import Path\n",
    "from random import seed\n",
    "seed(252)"
   ]
  },
  {
   "cell_type": "code",
   "execution_count": 2,
   "metadata": {},
   "outputs": [
    {
     "data": {
      "text/plain": "             Timestamp  \\\n0  12/22/2020 20:31:49   \n1  12/22/2020 20:46:01   \n2  12/22/2020 20:59:14   \n3  12/22/2020 22:34:43   \n4  12/23/2020 12:13:19   \n5   12/24/2020 6:27:33   \n6   12/24/2020 6:41:27   \n7   12/24/2020 9:03:22   \n\n  Rank your movie choices. You don't have to do a full ranking. [First Choice]  \\\n0                               The Duellists (1977)                             \n1                           The Sword of Doom (1966)                             \n2                              Lady Vengeance (2005)                             \n3                             Valhalla Rising (2009)                             \n4                             Valhalla Rising (2009)                             \n5                                 Le Samouraï (1967)                             \n6                              Lady Vengeance (2005)                             \n7                         One-Armed Swordsman (1967)                             \n\n  Rank your movie choices. You don't have to do a full ranking. [Second Choice]  \\\n0                           The Sword of Doom (1966)                              \n1                              Lady Vengeance (2005)                              \n2                                 Le Samouraï (1967)                              \n3                           The Sword of Doom (1966)                              \n4                               The Duellists (1977)                              \n5                         One-Armed Swordsman (1967)                              \n6                               The Duellists (1977)                              \n7                           The Sword of Doom (1966)                              \n\n  Rank your movie choices. You don't have to do a full ranking. [Third Choice]  \\\n0                             Valhalla Rising (2009)                             \n1                         One-Armed Swordsman (1967)                             \n2                             Valhalla Rising (2009)                             \n3                               The Duellists (1977)                             \n4                           The Sword of Doom (1966)                             \n5                               The Duellists (1977)                             \n6                                 Le Samouraï (1967)                             \n7                                 Le Samouraï (1967)                             \n\n  Rank your movie choices. You don't have to do a full ranking. [Fourth Choice]  \\\n0                         One-Armed Swordsman (1967)                              \n1                             Valhalla Rising (2009)                              \n2                               The Duellists (1977)                              \n3                              Lady Vengeance (2005)                              \n4                         One-Armed Swordsman (1967)                              \n5                             Valhalla Rising (2009)                              \n6                         One-Armed Swordsman (1967)                              \n7                             Valhalla Rising (2009)                              \n\n  Rank your movie choices. You don't have to do a full ranking. [Fifth Choice]  \\\n0                                 Le Samouraï (1967)                             \n1                                                NaN                             \n2                         One-Armed Swordsman (1967)                             \n3                                 Le Samouraï (1967)                             \n4                              Lady Vengeance (2005)                             \n5                              Lady Vengeance (2005)                             \n6                             Valhalla Rising (2009)                             \n7                              Lady Vengeance (2005)                             \n\n  Rank your movie choices. You don't have to do a full ranking. [Sixth Choice]  \\\n0                              Lady Vengeance (2005)                             \n1                                                NaN                             \n2                           The Sword of Doom (1966)                             \n3                         One-Armed Swordsman (1967)                             \n4                                 Le Samouraï (1967)                             \n5                           The Sword of Doom (1966)                             \n6                           The Sword of Doom (1966)                             \n7                               The Duellists (1977)                             \n\n  What theme should we explore next week? [First Choice]  \\\n0                                  TOXIC MASCULINITY       \n1                           BOXING DAYS/FIGHT NIGHTS       \n2                     OOPS ALL JEAN-CLAUDE VAN DAMME       \n3                                  TOXIC MASCULINITY       \n4                                  TOXIC MASCULINITY       \n5                                           BUSH ERA       \n6                                         DADDY CITY       \n7                     OOPS ALL JEAN-CLAUDE VAN DAMME       \n\n  What theme should we explore next week? [Second Choice]  \\\n0                                 JUST FUCK ALREADY!        \n1                                 JUST FUCK ALREADY!        \n2                          [Default to Nicolas Cage]        \n3                                 JUST FUCK ALREADY!        \n4                           BOXING DAYS/FIGHT NIGHTS        \n5                                         DADDY CITY        \n6                                           BUSH ERA        \n7                          [Default to Nicolas Cage]        \n\n  What theme should we explore next week? [Third Choice]  \\\n0                                           BUSH ERA       \n1                                           BUSH ERA       \n2                                  TOXIC MASCULINITY       \n3                                         DADDY CITY       \n4                                         DADDY CITY       \n5                                  TOXIC MASCULINITY       \n6                          [Default to Nicolas Cage]       \n7                                           BUSH ERA       \n\n  What theme should we explore next week? [Fourth Choice]  \\\n0                           BOXING DAYS/FIGHT NIGHTS        \n1                                         DADDY CITY        \n2                                           BUSH ERA        \n3                                           BUSH ERA        \n4                                           BUSH ERA        \n5                     OOPS ALL JEAN-CLAUDE VAN DAMME        \n6                                 JUST FUCK ALREADY!        \n7                                         DADDY CITY        \n\n  What theme should we explore next week? [Fifth Choice]  \\\n0                                         DADDY CITY       \n1                          [Default to Nicolas Cage]       \n2                                 JUST FUCK ALREADY!       \n3                          [Default to Nicolas Cage]       \n4                     OOPS ALL JEAN-CLAUDE VAN DAMME       \n5                           BOXING DAYS/FIGHT NIGHTS       \n6                     OOPS ALL JEAN-CLAUDE VAN DAMME       \n7                                  TOXIC MASCULINITY       \n\n  What theme should we explore next week? [Sixth Choice]  \\\n0                     OOPS ALL JEAN-CLAUDE VAN DAMME       \n1                                  TOXIC MASCULINITY       \n2                                         DADDY CITY       \n3                           BOXING DAYS/FIGHT NIGHTS       \n4                                 JUST FUCK ALREADY!       \n5                                 JUST FUCK ALREADY!       \n6                                  TOXIC MASCULINITY       \n7                                 JUST FUCK ALREADY!       \n\n  What theme should we explore next week? [Seventh Choice]  \n0                          [Default to Nicolas Cage]        \n1                     OOPS ALL JEAN-CLAUDE VAN DAMME        \n2                           BOXING DAYS/FIGHT NIGHTS        \n3                     OOPS ALL JEAN-CLAUDE VAN DAMME        \n4                          [Default to Nicolas Cage]        \n5                                                NaN        \n6                           BOXING DAYS/FIGHT NIGHTS        \n7                           BOXING DAYS/FIGHT NIGHTS        ",
      "text/html": "<div>\n<style scoped>\n    .dataframe tbody tr th:only-of-type {\n        vertical-align: middle;\n    }\n\n    .dataframe tbody tr th {\n        vertical-align: top;\n    }\n\n    .dataframe thead th {\n        text-align: right;\n    }\n</style>\n<table border=\"1\" class=\"dataframe\">\n  <thead>\n    <tr style=\"text-align: right;\">\n      <th></th>\n      <th>Timestamp</th>\n      <th>Rank your movie choices. You don't have to do a full ranking. [First Choice]</th>\n      <th>Rank your movie choices. You don't have to do a full ranking. [Second Choice]</th>\n      <th>Rank your movie choices. You don't have to do a full ranking. [Third Choice]</th>\n      <th>Rank your movie choices. You don't have to do a full ranking. [Fourth Choice]</th>\n      <th>Rank your movie choices. You don't have to do a full ranking. [Fifth Choice]</th>\n      <th>Rank your movie choices. You don't have to do a full ranking. [Sixth Choice]</th>\n      <th>What theme should we explore next week? [First Choice]</th>\n      <th>What theme should we explore next week? [Second Choice]</th>\n      <th>What theme should we explore next week? [Third Choice]</th>\n      <th>What theme should we explore next week? [Fourth Choice]</th>\n      <th>What theme should we explore next week? [Fifth Choice]</th>\n      <th>What theme should we explore next week? [Sixth Choice]</th>\n      <th>What theme should we explore next week? [Seventh Choice]</th>\n    </tr>\n  </thead>\n  <tbody>\n    <tr>\n      <th>0</th>\n      <td>12/22/2020 20:31:49</td>\n      <td>The Duellists (1977)</td>\n      <td>The Sword of Doom (1966)</td>\n      <td>Valhalla Rising (2009)</td>\n      <td>One-Armed Swordsman (1967)</td>\n      <td>Le Samouraï (1967)</td>\n      <td>Lady Vengeance (2005)</td>\n      <td>TOXIC MASCULINITY</td>\n      <td>JUST FUCK ALREADY!</td>\n      <td>BUSH ERA</td>\n      <td>BOXING DAYS/FIGHT NIGHTS</td>\n      <td>DADDY CITY</td>\n      <td>OOPS ALL JEAN-CLAUDE VAN DAMME</td>\n      <td>[Default to Nicolas Cage]</td>\n    </tr>\n    <tr>\n      <th>1</th>\n      <td>12/22/2020 20:46:01</td>\n      <td>The Sword of Doom (1966)</td>\n      <td>Lady Vengeance (2005)</td>\n      <td>One-Armed Swordsman (1967)</td>\n      <td>Valhalla Rising (2009)</td>\n      <td>NaN</td>\n      <td>NaN</td>\n      <td>BOXING DAYS/FIGHT NIGHTS</td>\n      <td>JUST FUCK ALREADY!</td>\n      <td>BUSH ERA</td>\n      <td>DADDY CITY</td>\n      <td>[Default to Nicolas Cage]</td>\n      <td>TOXIC MASCULINITY</td>\n      <td>OOPS ALL JEAN-CLAUDE VAN DAMME</td>\n    </tr>\n    <tr>\n      <th>2</th>\n      <td>12/22/2020 20:59:14</td>\n      <td>Lady Vengeance (2005)</td>\n      <td>Le Samouraï (1967)</td>\n      <td>Valhalla Rising (2009)</td>\n      <td>The Duellists (1977)</td>\n      <td>One-Armed Swordsman (1967)</td>\n      <td>The Sword of Doom (1966)</td>\n      <td>OOPS ALL JEAN-CLAUDE VAN DAMME</td>\n      <td>[Default to Nicolas Cage]</td>\n      <td>TOXIC MASCULINITY</td>\n      <td>BUSH ERA</td>\n      <td>JUST FUCK ALREADY!</td>\n      <td>DADDY CITY</td>\n      <td>BOXING DAYS/FIGHT NIGHTS</td>\n    </tr>\n    <tr>\n      <th>3</th>\n      <td>12/22/2020 22:34:43</td>\n      <td>Valhalla Rising (2009)</td>\n      <td>The Sword of Doom (1966)</td>\n      <td>The Duellists (1977)</td>\n      <td>Lady Vengeance (2005)</td>\n      <td>Le Samouraï (1967)</td>\n      <td>One-Armed Swordsman (1967)</td>\n      <td>TOXIC MASCULINITY</td>\n      <td>JUST FUCK ALREADY!</td>\n      <td>DADDY CITY</td>\n      <td>BUSH ERA</td>\n      <td>[Default to Nicolas Cage]</td>\n      <td>BOXING DAYS/FIGHT NIGHTS</td>\n      <td>OOPS ALL JEAN-CLAUDE VAN DAMME</td>\n    </tr>\n    <tr>\n      <th>4</th>\n      <td>12/23/2020 12:13:19</td>\n      <td>Valhalla Rising (2009)</td>\n      <td>The Duellists (1977)</td>\n      <td>The Sword of Doom (1966)</td>\n      <td>One-Armed Swordsman (1967)</td>\n      <td>Lady Vengeance (2005)</td>\n      <td>Le Samouraï (1967)</td>\n      <td>TOXIC MASCULINITY</td>\n      <td>BOXING DAYS/FIGHT NIGHTS</td>\n      <td>DADDY CITY</td>\n      <td>BUSH ERA</td>\n      <td>OOPS ALL JEAN-CLAUDE VAN DAMME</td>\n      <td>JUST FUCK ALREADY!</td>\n      <td>[Default to Nicolas Cage]</td>\n    </tr>\n    <tr>\n      <th>5</th>\n      <td>12/24/2020 6:27:33</td>\n      <td>Le Samouraï (1967)</td>\n      <td>One-Armed Swordsman (1967)</td>\n      <td>The Duellists (1977)</td>\n      <td>Valhalla Rising (2009)</td>\n      <td>Lady Vengeance (2005)</td>\n      <td>The Sword of Doom (1966)</td>\n      <td>BUSH ERA</td>\n      <td>DADDY CITY</td>\n      <td>TOXIC MASCULINITY</td>\n      <td>OOPS ALL JEAN-CLAUDE VAN DAMME</td>\n      <td>BOXING DAYS/FIGHT NIGHTS</td>\n      <td>JUST FUCK ALREADY!</td>\n      <td>NaN</td>\n    </tr>\n    <tr>\n      <th>6</th>\n      <td>12/24/2020 6:41:27</td>\n      <td>Lady Vengeance (2005)</td>\n      <td>The Duellists (1977)</td>\n      <td>Le Samouraï (1967)</td>\n      <td>One-Armed Swordsman (1967)</td>\n      <td>Valhalla Rising (2009)</td>\n      <td>The Sword of Doom (1966)</td>\n      <td>DADDY CITY</td>\n      <td>BUSH ERA</td>\n      <td>[Default to Nicolas Cage]</td>\n      <td>JUST FUCK ALREADY!</td>\n      <td>OOPS ALL JEAN-CLAUDE VAN DAMME</td>\n      <td>TOXIC MASCULINITY</td>\n      <td>BOXING DAYS/FIGHT NIGHTS</td>\n    </tr>\n    <tr>\n      <th>7</th>\n      <td>12/24/2020 9:03:22</td>\n      <td>One-Armed Swordsman (1967)</td>\n      <td>The Sword of Doom (1966)</td>\n      <td>Le Samouraï (1967)</td>\n      <td>Valhalla Rising (2009)</td>\n      <td>Lady Vengeance (2005)</td>\n      <td>The Duellists (1977)</td>\n      <td>OOPS ALL JEAN-CLAUDE VAN DAMME</td>\n      <td>[Default to Nicolas Cage]</td>\n      <td>BUSH ERA</td>\n      <td>DADDY CITY</td>\n      <td>TOXIC MASCULINITY</td>\n      <td>JUST FUCK ALREADY!</td>\n      <td>BOXING DAYS/FIGHT NIGHTS</td>\n    </tr>\n  </tbody>\n</table>\n</div>"
     },
     "execution_count": 2,
     "metadata": {},
     "output_type": "execute_result"
    }
   ],
   "source": [
    "df = pd.read_csv(Path('./data/20201226.csv').resolve())\n",
    "df"
   ]
  },
  {
   "cell_type": "code",
   "execution_count": 3,
   "metadata": {},
   "outputs": [],
   "source": [
    "just_ballots = df.loc[:, df.columns.str.startswith('Rank')]\n",
    "next_week = df.loc[:, df.columns.str.startswith('What')]"
   ]
  },
  {
   "cell_type": "code",
   "execution_count": 4,
   "metadata": {},
   "outputs": [
    {
     "data": {
      "text/plain": "array(['The Duellists (1977)', 'The Sword of Doom (1966)',\n       'Valhalla Rising (2009)', 'One-Armed Swordsman (1967)',\n       'Le Samouraï (1967)', 'Lady Vengeance (2005)'], dtype=object)"
     },
     "execution_count": 4,
     "metadata": {},
     "output_type": "execute_result"
    }
   ],
   "source": [
    "submissions = just_ballots.loc[just_ballots.notna().all(axis=1).idxmax(),:].values\n",
    "submissions"
   ]
  },
  {
   "cell_type": "code",
   "execution_count": 5,
   "metadata": {},
   "outputs": [],
   "source": [
    "submission_dict = {submission: pyrankvote.Candidate(submission) for submission in submissions}"
   ]
  },
  {
   "cell_type": "code",
   "execution_count": 6,
   "metadata": {},
   "outputs": [],
   "source": [
    "balloted = just_ballots.applymap(lambda x: submission_dict[x] if isinstance(x, str) else x)"
   ]
  },
  {
   "cell_type": "code",
   "execution_count": 7,
   "metadata": {},
   "outputs": [
    {
     "data": {
      "text/plain": "{'The Duellists (1977)': <Candidate('The Duellists (1977)')>,\n 'The Sword of Doom (1966)': <Candidate('The Sword of Doom (1966)')>,\n 'Valhalla Rising (2009)': <Candidate('Valhalla Rising (2009)')>,\n 'One-Armed Swordsman (1967)': <Candidate('One-Armed Swordsman (1967)')>,\n 'Le Samouraï (1967)': <Candidate('Le Samouraï (1967)')>,\n 'Lady Vengeance (2005)': <Candidate('Lady Vengeance (2005)')>}"
     },
     "execution_count": 7,
     "metadata": {},
     "output_type": "execute_result"
    }
   ],
   "source": [
    "submission_dict"
   ]
  },
  {
   "cell_type": "code",
   "execution_count": 8,
   "metadata": {},
   "outputs": [],
   "source": [
    "ballots = []\n",
    "for ballot in balloted.itertuples():\n",
    "    ballots.append(pyrankvote.Ballot(ranked_candidates=[b for b in ballot if isinstance(b, pyrankvote.Candidate)]))"
   ]
  },
  {
   "cell_type": "code",
   "execution_count": 9,
   "metadata": {},
   "outputs": [
    {
     "data": {
      "text/plain": "[<Ballot(The Duellists (1977), The Sword of Doom (1966), Valhalla Rising (2009), One-Armed Swordsman (1967), Le Samouraï (1967), Lady Vengeance (2005))>,\n <Ballot(The Sword of Doom (1966), Lady Vengeance (2005), One-Armed Swordsman (1967), Valhalla Rising (2009))>,\n <Ballot(Lady Vengeance (2005), Le Samouraï (1967), Valhalla Rising (2009), The Duellists (1977), One-Armed Swordsman (1967), The Sword of Doom (1966))>,\n <Ballot(Valhalla Rising (2009), The Sword of Doom (1966), The Duellists (1977), Lady Vengeance (2005), Le Samouraï (1967), One-Armed Swordsman (1967))>,\n <Ballot(Valhalla Rising (2009), The Duellists (1977), The Sword of Doom (1966), One-Armed Swordsman (1967), Lady Vengeance (2005), Le Samouraï (1967))>,\n <Ballot(Le Samouraï (1967), One-Armed Swordsman (1967), The Duellists (1977), Valhalla Rising (2009), Lady Vengeance (2005), The Sword of Doom (1966))>,\n <Ballot(Lady Vengeance (2005), The Duellists (1977), Le Samouraï (1967), One-Armed Swordsman (1967), Valhalla Rising (2009), The Sword of Doom (1966))>,\n <Ballot(One-Armed Swordsman (1967), The Sword of Doom (1966), Le Samouraï (1967), Valhalla Rising (2009), Lady Vengeance (2005), The Duellists (1977))>]"
     },
     "execution_count": 9,
     "metadata": {},
     "output_type": "execute_result"
    }
   ],
   "source": [
    "ballots"
   ]
  },
  {
   "cell_type": "code",
   "execution_count": 10,
   "metadata": {},
   "outputs": [],
   "source": [
    "election_result = pyrankvote.instant_runoff_voting(submission_dict.values(), ballots,)"
   ]
  },
  {
   "cell_type": "code",
   "execution_count": 11,
   "metadata": {},
   "outputs": [
    {
     "name": "stdout",
     "output_type": "stream",
     "text": [
      "ROUND 1\n",
      "Candidate                     Votes  Status\n",
      "--------------------------  -------  --------\n",
      "Lady Vengeance (2005)             2  Hopeful\n",
      "Valhalla Rising (2009)            2  Hopeful\n",
      "The Sword of Doom (1966)          1  Hopeful\n",
      "The Duellists (1977)              1  Hopeful\n",
      "Le Samouraï (1967)                1  Hopeful\n",
      "One-Armed Swordsman (1967)        1  Rejected\n",
      "\n",
      "ROUND 2\n",
      "Candidate                     Votes  Status\n",
      "--------------------------  -------  --------\n",
      "The Sword of Doom (1966)          2  Hopeful\n",
      "Lady Vengeance (2005)             2  Hopeful\n",
      "Valhalla Rising (2009)            2  Hopeful\n",
      "The Duellists (1977)              1  Rejected\n",
      "Le Samouraï (1967)                1  Rejected\n",
      "One-Armed Swordsman (1967)        0  Rejected\n",
      "\n",
      "ROUND 3\n",
      "Candidate                     Votes  Status\n",
      "--------------------------  -------  --------\n",
      "Valhalla Rising (2009)            3  Hopeful\n",
      "The Sword of Doom (1966)          3  Hopeful\n",
      "Lady Vengeance (2005)             2  Rejected\n",
      "The Duellists (1977)              0  Rejected\n",
      "Le Samouraï (1967)                0  Rejected\n",
      "One-Armed Swordsman (1967)        0  Rejected\n",
      "\n",
      "FINAL RESULT\n",
      "Candidate                     Votes  Status\n",
      "--------------------------  -------  --------\n",
      "Valhalla Rising (2009)            5  Elected\n",
      "The Sword of Doom (1966)          3  Rejected\n",
      "Lady Vengeance (2005)             0  Rejected\n",
      "The Duellists (1977)              0  Rejected\n",
      "Le Samouraï (1967)                0  Rejected\n",
      "One-Armed Swordsman (1967)        0  Rejected\n",
      "\n"
     ]
    }
   ],
   "source": [
    "print(election_result)"
   ]
  },
  {
   "cell_type": "code",
   "execution_count": 12,
   "metadata": {},
   "outputs": [
    {
     "name": "stdout",
     "output_type": "stream",
     "text": [
      "ROUND 1\n",
      "Candidate                         Votes  Status\n",
      "------------------------------  -------  --------\n",
      "TOXIC MASCULINITY                     3  Hopeful\n",
      "OOPS ALL JEAN-CLAUDE VAN DAMME        2  Hopeful\n",
      "BUSH ERA                              1  Hopeful\n",
      "DADDY CITY                            1  Hopeful\n",
      "BOXING DAYS/FIGHT NIGHTS              1  Rejected\n",
      "JUST FUCK ALREADY!                    0  Rejected\n",
      "[Default to Nicolas Cage]             0  Rejected\n",
      "\n",
      "ROUND 2\n",
      "Candidate                         Votes  Status\n",
      "------------------------------  -------  --------\n",
      "TOXIC MASCULINITY                     3  Hopeful\n",
      "BUSH ERA                              2  Hopeful\n",
      "OOPS ALL JEAN-CLAUDE VAN DAMME        2  Hopeful\n",
      "DADDY CITY                            1  Rejected\n",
      "BOXING DAYS/FIGHT NIGHTS              0  Rejected\n",
      "JUST FUCK ALREADY!                    0  Rejected\n",
      "[Default to Nicolas Cage]             0  Rejected\n",
      "\n",
      "ROUND 3\n",
      "Candidate                         Votes  Status\n",
      "------------------------------  -------  --------\n",
      "BUSH ERA                              3  Hopeful\n",
      "TOXIC MASCULINITY                     3  Hopeful\n",
      "OOPS ALL JEAN-CLAUDE VAN DAMME        2  Rejected\n",
      "DADDY CITY                            0  Rejected\n",
      "BOXING DAYS/FIGHT NIGHTS              0  Rejected\n",
      "JUST FUCK ALREADY!                    0  Rejected\n",
      "[Default to Nicolas Cage]             0  Rejected\n",
      "\n",
      "FINAL RESULT\n",
      "Candidate                         Votes  Status\n",
      "------------------------------  -------  --------\n",
      "TOXIC MASCULINITY                     4  Elected\n",
      "BUSH ERA                              4  Rejected\n",
      "OOPS ALL JEAN-CLAUDE VAN DAMME        0  Rejected\n",
      "DADDY CITY                            0  Rejected\n",
      "BOXING DAYS/FIGHT NIGHTS              0  Rejected\n",
      "JUST FUCK ALREADY!                    0  Rejected\n",
      "[Default to Nicolas Cage]             0  Rejected\n",
      "\n"
     ]
    }
   ],
   "source": [
    "submissions = next_week.loc[next_week.notna().all(axis=1).idxmax(),:].values\n",
    "submission_dict = {submission: pyrankvote.Candidate(submission) for submission in submissions}\n",
    "balloted = next_week.applymap(lambda x: submission_dict[x] if isinstance(x, str) else x)\n",
    "ballots = []\n",
    "for ballot in balloted.itertuples():\n",
    "    ballots.append(pyrankvote.Ballot(ranked_candidates=[b for b in ballot if isinstance(b, pyrankvote.Candidate)]))\n",
    "print(pyrankvote.instant_runoff_voting(submission_dict.values(), ballots,))"
   ]
  }
 ],
 "metadata": {
  "kernelspec": {
   "display_name": "Python 3",
   "language": "python",
   "name": "python3"
  },
  "language_info": {
   "codemirror_mode": {
    "name": "ipython",
    "version": 3
   },
   "file_extension": ".py",
   "mimetype": "text/x-python",
   "name": "python",
   "nbconvert_exporter": "python",
   "pygments_lexer": "ipython3",
   "version": "3.7.4"
  }
 },
 "nbformat": 4,
 "nbformat_minor": 2
}