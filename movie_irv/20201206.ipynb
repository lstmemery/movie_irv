{
 "cells": [
  {
   "cell_type": "code",
   "execution_count": 1,
   "metadata": {},
   "outputs": [],
   "source": [
    "import pandas as pd\n",
    "import pyrankvote\n",
    "from pathlib import Path\n",
    "from random import seed\n",
    "seed(252)"
   ]
  },
  {
   "cell_type": "code",
   "execution_count": 2,
   "metadata": {},
   "outputs": [
    {
     "data": {
      "text/plain": "            Timestamp  \\\n0  12/1/2020 22:42:51   \n1  12/1/2020 22:58:50   \n2  12/1/2020 23:06:32   \n3   12/2/2020 8:02:35   \n4   12/2/2020 8:21:25   \n5  12/3/2020 11:54:00   \n\n  Rank your movie choices. You don't have to do a full ranking. [First Choice]  \\\n0                                    Gremlins (1984)                             \n1                               The Apartment (1960)                             \n2                          My Night at Maud's (1969)                             \n3                            Blast of Silence (1961)                             \n4                    Three Days of the Condor (1975)                             \n5                          My Night at Maud's (1969)                             \n\n  Rank your movie choices. You don't have to do a full ranking. [Second Choice]  \\\n0                            Blast of Silence (1961)                              \n1                    Three Days of the Condor (1975)                              \n2                            Blast of Silence (1961)                              \n3                               The Apartment (1960)                              \n4                                    Gremlins (1984)                              \n5                                   The Tower (2012)                              \n\n  Rank your movie choices. You don't have to do a full ranking. [Third Choice]  \\\n0                    Three Days of the Condor (1975)                             \n1                                    Gremlins (1984)                             \n2                    Three Days of the Condor (1975)                             \n3                          My Night at Maud's (1969)                             \n4                            Blast of Silence (1961)                             \n5                            Blast of Silence (1961)                             \n\n  Rank your movie choices. You don't have to do a full ranking. [Fourth Choice]  \\\n0                               The Apartment (1960)                              \n1                            Blast of Silence (1961)                              \n2                                   The Tower (2012)                              \n3                    Three Days of the Condor (1975)                              \n4                                   The Tower (2012)                              \n5                               The Apartment (1960)                              \n\n  Rank your movie choices. You don't have to do a full ranking. [Fifth Choice]  \\\n0                          My Night at Maud's (1969)                             \n1                          My Night at Maud's (1969)                             \n2                                                NaN                             \n3                                    Gremlins (1984)                             \n4                                                NaN                             \n5                                    Gremlins (1984)                             \n\n  Rank your movie choices. You don't have to do a full ranking. [Sixth Choice]  \\\n0                                   The Tower (2012)                             \n1                                   The Tower (2012)                             \n2                                                NaN                             \n3                                   The Tower (2012)                             \n4                                                NaN                             \n5                                                NaN                             \n\n  What theme should we explore next week? [First Choice]  \\\n0          BAH GOD IS THAT RIP TORN'S MUSIC I HEAR!?       \n1                YES IT'S A MUSICAL BUT BEAR WITH ME       \n2                                  UNLIKELY PARTNERS       \n3  NEON NOIR: \"HI, MY NAME IS DRIVE. WELCOME TO C...       \n4                             CULTURAL APPROPRIATION       \n5                           OLD-TIMEY PERFECT MURDER       \n\n  What theme should we explore next week? [Second Choice]  \\\n0                          [Default to Nicolas Cage]        \n1                           OLD-TIMEY PERFECT MURDER        \n2                           OLD-TIMEY PERFECT MURDER        \n3                YES IT'S A MUSICAL BUT BEAR WITH ME        \n4  NEON NOIR: \"HI, MY NAME IS DRIVE. WELCOME TO C...        \n5                                  UNLIKELY PARTNERS        \n\n  What theme should we explore next week? [Third Choice]  \\\n0  NEON NOIR: \"HI, MY NAME IS DRIVE. WELCOME TO C...       \n1                                  UNLIKELY PARTNERS       \n2  NEON NOIR: \"HI, MY NAME IS DRIVE. WELCOME TO C...       \n3                          [Default to Nicolas Cage]       \n4                           OLD-TIMEY PERFECT MURDER       \n5  NEON NOIR: \"HI, MY NAME IS DRIVE. WELCOME TO C...       \n\n  What theme should we explore next week? [Fourth Choice]  \\\n0                           OLD-TIMEY PERFECT MURDER        \n1                             CULTURAL APPROPRIATION        \n2                YES IT'S A MUSICAL BUT BEAR WITH ME        \n3          BAH GOD IS THAT RIP TORN'S MUSIC I HEAR!?        \n4                                  UNLIKELY PARTNERS        \n5                YES IT'S A MUSICAL BUT BEAR WITH ME        \n\n  What theme should we explore next week? [Fifth Choice]  \\\n0                YES IT'S A MUSICAL BUT BEAR WITH ME       \n1  NEON NOIR: \"HI, MY NAME IS DRIVE. WELCOME TO C...       \n2                          [Default to Nicolas Cage]       \n3                             CULTURAL APPROPRIATION       \n4                                                NaN       \n5                             CULTURAL APPROPRIATION       \n\n  What theme should we explore next week? [Sixth Choice]  \\\n0                                  UNLIKELY PARTNERS       \n1                          [Default to Nicolas Cage]       \n2          BAH GOD IS THAT RIP TORN'S MUSIC I HEAR!?       \n3                                  UNLIKELY PARTNERS       \n4                                                NaN       \n5          BAH GOD IS THAT RIP TORN'S MUSIC I HEAR!?       \n\n  What theme should we explore next week? [Seventh Choice]  \n0                             CULTURAL APPROPRIATION        \n1          BAH GOD IS THAT RIP TORN'S MUSIC I HEAR!?        \n2                             CULTURAL APPROPRIATION        \n3                           OLD-TIMEY PERFECT MURDER        \n4                                                NaN        \n5                                                NaN        ",
      "text/html": "<div>\n<style scoped>\n    .dataframe tbody tr th:only-of-type {\n        vertical-align: middle;\n    }\n\n    .dataframe tbody tr th {\n        vertical-align: top;\n    }\n\n    .dataframe thead th {\n        text-align: right;\n    }\n</style>\n<table border=\"1\" class=\"dataframe\">\n  <thead>\n    <tr style=\"text-align: right;\">\n      <th></th>\n      <th>Timestamp</th>\n      <th>Rank your movie choices. You don't have to do a full ranking. [First Choice]</th>\n      <th>Rank your movie choices. You don't have to do a full ranking. [Second Choice]</th>\n      <th>Rank your movie choices. You don't have to do a full ranking. [Third Choice]</th>\n      <th>Rank your movie choices. You don't have to do a full ranking. [Fourth Choice]</th>\n      <th>Rank your movie choices. You don't have to do a full ranking. [Fifth Choice]</th>\n      <th>Rank your movie choices. You don't have to do a full ranking. [Sixth Choice]</th>\n      <th>What theme should we explore next week? [First Choice]</th>\n      <th>What theme should we explore next week? [Second Choice]</th>\n      <th>What theme should we explore next week? [Third Choice]</th>\n      <th>What theme should we explore next week? [Fourth Choice]</th>\n      <th>What theme should we explore next week? [Fifth Choice]</th>\n      <th>What theme should we explore next week? [Sixth Choice]</th>\n      <th>What theme should we explore next week? [Seventh Choice]</th>\n    </tr>\n  </thead>\n  <tbody>\n    <tr>\n      <th>0</th>\n      <td>12/1/2020 22:42:51</td>\n      <td>Gremlins (1984)</td>\n      <td>Blast of Silence (1961)</td>\n      <td>Three Days of the Condor (1975)</td>\n      <td>The Apartment (1960)</td>\n      <td>My Night at Maud's (1969)</td>\n      <td>The Tower (2012)</td>\n      <td>BAH GOD IS THAT RIP TORN'S MUSIC I HEAR!?</td>\n      <td>[Default to Nicolas Cage]</td>\n      <td>NEON NOIR: \"HI, MY NAME IS DRIVE. WELCOME TO C...</td>\n      <td>OLD-TIMEY PERFECT MURDER</td>\n      <td>YES IT'S A MUSICAL BUT BEAR WITH ME</td>\n      <td>UNLIKELY PARTNERS</td>\n      <td>CULTURAL APPROPRIATION</td>\n    </tr>\n    <tr>\n      <th>1</th>\n      <td>12/1/2020 22:58:50</td>\n      <td>The Apartment (1960)</td>\n      <td>Three Days of the Condor (1975)</td>\n      <td>Gremlins (1984)</td>\n      <td>Blast of Silence (1961)</td>\n      <td>My Night at Maud's (1969)</td>\n      <td>The Tower (2012)</td>\n      <td>YES IT'S A MUSICAL BUT BEAR WITH ME</td>\n      <td>OLD-TIMEY PERFECT MURDER</td>\n      <td>UNLIKELY PARTNERS</td>\n      <td>CULTURAL APPROPRIATION</td>\n      <td>NEON NOIR: \"HI, MY NAME IS DRIVE. WELCOME TO C...</td>\n      <td>[Default to Nicolas Cage]</td>\n      <td>BAH GOD IS THAT RIP TORN'S MUSIC I HEAR!?</td>\n    </tr>\n    <tr>\n      <th>2</th>\n      <td>12/1/2020 23:06:32</td>\n      <td>My Night at Maud's (1969)</td>\n      <td>Blast of Silence (1961)</td>\n      <td>Three Days of the Condor (1975)</td>\n      <td>The Tower (2012)</td>\n      <td>NaN</td>\n      <td>NaN</td>\n      <td>UNLIKELY PARTNERS</td>\n      <td>OLD-TIMEY PERFECT MURDER</td>\n      <td>NEON NOIR: \"HI, MY NAME IS DRIVE. WELCOME TO C...</td>\n      <td>YES IT'S A MUSICAL BUT BEAR WITH ME</td>\n      <td>[Default to Nicolas Cage]</td>\n      <td>BAH GOD IS THAT RIP TORN'S MUSIC I HEAR!?</td>\n      <td>CULTURAL APPROPRIATION</td>\n    </tr>\n    <tr>\n      <th>3</th>\n      <td>12/2/2020 8:02:35</td>\n      <td>Blast of Silence (1961)</td>\n      <td>The Apartment (1960)</td>\n      <td>My Night at Maud's (1969)</td>\n      <td>Three Days of the Condor (1975)</td>\n      <td>Gremlins (1984)</td>\n      <td>The Tower (2012)</td>\n      <td>NEON NOIR: \"HI, MY NAME IS DRIVE. WELCOME TO C...</td>\n      <td>YES IT'S A MUSICAL BUT BEAR WITH ME</td>\n      <td>[Default to Nicolas Cage]</td>\n      <td>BAH GOD IS THAT RIP TORN'S MUSIC I HEAR!?</td>\n      <td>CULTURAL APPROPRIATION</td>\n      <td>UNLIKELY PARTNERS</td>\n      <td>OLD-TIMEY PERFECT MURDER</td>\n    </tr>\n    <tr>\n      <th>4</th>\n      <td>12/2/2020 8:21:25</td>\n      <td>Three Days of the Condor (1975)</td>\n      <td>Gremlins (1984)</td>\n      <td>Blast of Silence (1961)</td>\n      <td>The Tower (2012)</td>\n      <td>NaN</td>\n      <td>NaN</td>\n      <td>CULTURAL APPROPRIATION</td>\n      <td>NEON NOIR: \"HI, MY NAME IS DRIVE. WELCOME TO C...</td>\n      <td>OLD-TIMEY PERFECT MURDER</td>\n      <td>UNLIKELY PARTNERS</td>\n      <td>NaN</td>\n      <td>NaN</td>\n      <td>NaN</td>\n    </tr>\n    <tr>\n      <th>5</th>\n      <td>12/3/2020 11:54:00</td>\n      <td>My Night at Maud's (1969)</td>\n      <td>The Tower (2012)</td>\n      <td>Blast of Silence (1961)</td>\n      <td>The Apartment (1960)</td>\n      <td>Gremlins (1984)</td>\n      <td>NaN</td>\n      <td>OLD-TIMEY PERFECT MURDER</td>\n      <td>UNLIKELY PARTNERS</td>\n      <td>NEON NOIR: \"HI, MY NAME IS DRIVE. WELCOME TO C...</td>\n      <td>YES IT'S A MUSICAL BUT BEAR WITH ME</td>\n      <td>CULTURAL APPROPRIATION</td>\n      <td>BAH GOD IS THAT RIP TORN'S MUSIC I HEAR!?</td>\n      <td>NaN</td>\n    </tr>\n  </tbody>\n</table>\n</div>"
     },
     "execution_count": 2,
     "metadata": {},
     "output_type": "execute_result"
    }
   ],
   "source": [
    "df = pd.read_csv(Path('./data/20201206.csv').resolve())\n",
    "df"
   ]
  },
  {
   "cell_type": "code",
   "execution_count": 3,
   "metadata": {},
   "outputs": [],
   "source": [
    "just_ballots = df.loc[:, df.columns.str.startswith('Rank')]\n",
    "next_week = df.loc[:, df.columns.str.startswith('What')]"
   ]
  },
  {
   "cell_type": "code",
   "execution_count": 4,
   "metadata": {},
   "outputs": [
    {
     "data": {
      "text/plain": "array(['Gremlins (1984)', 'Blast of Silence (1961)',\n       'Three Days of the Condor (1975)', 'The Apartment (1960)',\n       \"My Night at Maud's (1969)\", 'The Tower (2012)'], dtype=object)"
     },
     "execution_count": 4,
     "metadata": {},
     "output_type": "execute_result"
    }
   ],
   "source": [
    "submissions = just_ballots.loc[just_ballots.notna().all(axis=1).idxmax(),:].values\n",
    "submissions"
   ]
  },
  {
   "cell_type": "code",
   "execution_count": 5,
   "metadata": {},
   "outputs": [],
   "source": [
    "submission_dict = {submission: pyrankvote.Candidate(submission) for submission in submissions}"
   ]
  },
  {
   "cell_type": "code",
   "execution_count": 6,
   "metadata": {},
   "outputs": [],
   "source": [
    "balloted = just_ballots.applymap(lambda x: submission_dict[x] if isinstance(x, str) else x)"
   ]
  },
  {
   "cell_type": "code",
   "execution_count": 7,
   "metadata": {},
   "outputs": [
    {
     "data": {
      "text/plain": "{'Gremlins (1984)': <Candidate('Gremlins (1984)')>,\n 'Blast of Silence (1961)': <Candidate('Blast of Silence (1961)')>,\n 'Three Days of the Condor (1975)': <Candidate('Three Days of the Condor (1975)')>,\n 'The Apartment (1960)': <Candidate('The Apartment (1960)')>,\n \"My Night at Maud's (1969)\": <Candidate('My Night at Maud's (1969)')>,\n 'The Tower (2012)': <Candidate('The Tower (2012)')>}"
     },
     "execution_count": 7,
     "metadata": {},
     "output_type": "execute_result"
    }
   ],
   "source": [
    "submission_dict"
   ]
  },
  {
   "cell_type": "code",
   "execution_count": 8,
   "metadata": {},
   "outputs": [],
   "source": [
    "ballots = []\n",
    "for ballot in balloted.itertuples():\n",
    "    ballots.append(pyrankvote.Ballot(ranked_candidates=[b for b in ballot if isinstance(b, pyrankvote.Candidate)]))"
   ]
  },
  {
   "cell_type": "code",
   "execution_count": 9,
   "metadata": {},
   "outputs": [
    {
     "data": {
      "text/plain": "[<Ballot(Gremlins (1984), Blast of Silence (1961), Three Days of the Condor (1975), The Apartment (1960), My Night at Maud's (1969), The Tower (2012))>,\n <Ballot(The Apartment (1960), Three Days of the Condor (1975), Gremlins (1984), Blast of Silence (1961), My Night at Maud's (1969), The Tower (2012))>,\n <Ballot(My Night at Maud's (1969), Blast of Silence (1961), Three Days of the Condor (1975), The Tower (2012))>,\n <Ballot(Blast of Silence (1961), The Apartment (1960), My Night at Maud's (1969), Three Days of the Condor (1975), Gremlins (1984), The Tower (2012))>,\n <Ballot(Three Days of the Condor (1975), Gremlins (1984), Blast of Silence (1961), The Tower (2012))>,\n <Ballot(My Night at Maud's (1969), The Tower (2012), Blast of Silence (1961), The Apartment (1960), Gremlins (1984))>]"
     },
     "execution_count": 9,
     "metadata": {},
     "output_type": "execute_result"
    }
   ],
   "source": [
    "ballots"
   ]
  },
  {
   "cell_type": "code",
   "execution_count": 10,
   "metadata": {},
   "outputs": [],
   "source": [
    "election_result = pyrankvote.instant_runoff_voting(submission_dict.values(), ballots,)"
   ]
  },
  {
   "cell_type": "code",
   "execution_count": 11,
   "metadata": {},
   "outputs": [
    {
     "name": "stdout",
     "output_type": "stream",
     "text": [
      "ROUND 1\n",
      "Candidate                          Votes  Status\n",
      "-------------------------------  -------  --------\n",
      "My Night at Maud's (1969)              2  Hopeful\n",
      "Blast of Silence (1961)                1  Hopeful\n",
      "Three Days of the Condor (1975)        1  Hopeful\n",
      "Gremlins (1984)                        1  Hopeful\n",
      "The Apartment (1960)                   1  Rejected\n",
      "The Tower (2012)                       0  Rejected\n",
      "\n",
      "ROUND 2\n",
      "Candidate                          Votes  Status\n",
      "-------------------------------  -------  --------\n",
      "My Night at Maud's (1969)              2  Hopeful\n",
      "Three Days of the Condor (1975)        2  Hopeful\n",
      "Blast of Silence (1961)                1  Rejected\n",
      "Gremlins (1984)                        1  Rejected\n",
      "The Apartment (1960)                   0  Rejected\n",
      "The Tower (2012)                       0  Rejected\n",
      "\n",
      "FINAL RESULT\n",
      "Candidate                          Votes  Status\n",
      "-------------------------------  -------  --------\n",
      "Three Days of the Condor (1975)        3  Elected\n",
      "My Night at Maud's (1969)              3  Rejected\n",
      "Blast of Silence (1961)                0  Rejected\n",
      "Gremlins (1984)                        0  Rejected\n",
      "The Apartment (1960)                   0  Rejected\n",
      "The Tower (2012)                       0  Rejected\n",
      "\n"
     ]
    }
   ],
   "source": [
    "print(election_result)"
   ]
  },
  {
   "cell_type": "code",
   "execution_count": 12,
   "metadata": {},
   "outputs": [
    {
     "name": "stdout",
     "output_type": "stream",
     "text": [
      "ROUND 1\n",
      "Candidate                                                    Votes  Status\n",
      "---------------------------------------------------------  -------  --------\n",
      "OLD-TIMEY PERFECT MURDER                                         1  Hopeful\n",
      "NEON NOIR: \"HI, MY NAME IS DRIVE. WELCOME TO CRIME CITY.\"        1  Hopeful\n",
      "UNLIKELY PARTNERS                                                1  Hopeful\n",
      "YES IT'S A MUSICAL BUT BEAR WITH ME                              1  Hopeful\n",
      "CULTURAL APPROPRIATION                                           1  Hopeful\n",
      "BAH GOD IS THAT RIP TORN'S MUSIC I HEAR!?                        1  Rejected\n",
      "[Default to Nicolas Cage]                                        0  Rejected\n",
      "\n",
      "ROUND 2\n",
      "Candidate                                                    Votes  Status\n",
      "---------------------------------------------------------  -------  --------\n",
      "NEON NOIR: \"HI, MY NAME IS DRIVE. WELCOME TO CRIME CITY.\"        2  Hopeful\n",
      "OLD-TIMEY PERFECT MURDER                                         1  Hopeful\n",
      "UNLIKELY PARTNERS                                                1  Hopeful\n",
      "YES IT'S A MUSICAL BUT BEAR WITH ME                              1  Hopeful\n",
      "CULTURAL APPROPRIATION                                           1  Rejected\n",
      "BAH GOD IS THAT RIP TORN'S MUSIC I HEAR!?                        0  Rejected\n",
      "[Default to Nicolas Cage]                                        0  Rejected\n",
      "\n",
      "ROUND 3\n",
      "Candidate                                                    Votes  Status\n",
      "---------------------------------------------------------  -------  --------\n",
      "NEON NOIR: \"HI, MY NAME IS DRIVE. WELCOME TO CRIME CITY.\"        3  Hopeful\n",
      "UNLIKELY PARTNERS                                                1  Hopeful\n",
      "OLD-TIMEY PERFECT MURDER                                         1  Rejected\n",
      "YES IT'S A MUSICAL BUT BEAR WITH ME                              1  Rejected\n",
      "CULTURAL APPROPRIATION                                           0  Rejected\n",
      "BAH GOD IS THAT RIP TORN'S MUSIC I HEAR!?                        0  Rejected\n",
      "[Default to Nicolas Cage]                                        0  Rejected\n",
      "\n",
      "FINAL RESULT\n",
      "Candidate                                                    Votes  Status\n",
      "---------------------------------------------------------  -------  --------\n",
      "NEON NOIR: \"HI, MY NAME IS DRIVE. WELCOME TO CRIME CITY.\"        3  Elected\n",
      "UNLIKELY PARTNERS                                                3  Rejected\n",
      "OLD-TIMEY PERFECT MURDER                                         0  Rejected\n",
      "YES IT'S A MUSICAL BUT BEAR WITH ME                              0  Rejected\n",
      "CULTURAL APPROPRIATION                                           0  Rejected\n",
      "BAH GOD IS THAT RIP TORN'S MUSIC I HEAR!?                        0  Rejected\n",
      "[Default to Nicolas Cage]                                        0  Rejected\n",
      "\n"
     ]
    }
   ],
   "source": [
    "submissions = next_week.loc[next_week.notna().all(axis=1).idxmax(),:].values\n",
    "submission_dict = {submission: pyrankvote.Candidate(submission) for submission in submissions}\n",
    "balloted = next_week.applymap(lambda x: submission_dict[x] if isinstance(x, str) else x)\n",
    "ballots = []\n",
    "for ballot in balloted.itertuples():\n",
    "    ballots.append(pyrankvote.Ballot(ranked_candidates=[b for b in ballot if isinstance(b, pyrankvote.Candidate)]))\n",
    "print(pyrankvote.instant_runoff_voting(submission_dict.values(), ballots,))"
   ]
  }
 ],
 "metadata": {
  "kernelspec": {
   "display_name": "Python 3",
   "language": "python",
   "name": "python3"
  },
  "language_info": {
   "codemirror_mode": {
    "name": "ipython",
    "version": 3
   },
   "file_extension": ".py",
   "mimetype": "text/x-python",
   "name": "python",
   "nbconvert_exporter": "python",
   "pygments_lexer": "ipython3",
   "version": "3.7.4"
  }
 },
 "nbformat": 4,
 "nbformat_minor": 2
}