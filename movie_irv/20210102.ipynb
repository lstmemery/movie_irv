{
 "cells": [
  {
   "cell_type": "code",
   "execution_count": 1,
   "metadata": {},
   "outputs": [],
   "source": [
    "import pandas as pd\n",
    "import pyrankvote\n",
    "from pathlib import Path\n",
    "from random import seed\n",
    "seed(252)"
   ]
  },
  {
   "cell_type": "code",
   "execution_count": 2,
   "metadata": {},
   "outputs": [
    {
     "data": {
      "text/plain": "             Timestamp  \\\n0  12/29/2020 20:24:05   \n1  12/29/2020 20:34:26   \n2  12/29/2020 20:37:40   \n3  12/29/2020 21:39:56   \n4  12/29/2020 21:41:47   \n5   12/30/2020 4:51:01   \n6  12/30/2020 11:17:33   \n7  12/30/2020 14:30:50   \n8  12/30/2020 14:43:00   \n9  12/31/2020 10:11:02   \n\n  Rank your movie choices. You don't have to do a full ranking. [First Choice]  \\\n0                           Leaving Las Vegas (1995)                             \n1                           Leaving Las Vegas (1995)                             \n2                       In the Company of Men (1997)                             \n3                                   Chevalier (2016)                             \n4                                   Chevalier (2016)                             \n5                       In the Company of Men (1997)                             \n6                           Leaving Las Vegas (1995)                             \n7                             Vanishing Point (1971)                             \n8                                   Chevalier (2016)                             \n9                                   Chevalier (2016)                             \n\n  Rank your movie choices. You don't have to do a full ranking. [Second Choice]  \\\n0                       In the Company of Men (1997)                              \n1                             Vanishing Point (1971)                              \n2                                  Starred Up (2013)                              \n3                           Leaving Las Vegas (1995)                              \n4                           Leaving Las Vegas (1995)                              \n5                                   Chevalier (2016)                              \n6                                   Chevalier (2016)                              \n7                                   Chevalier (2016)                              \n8                             Vanishing Point (1971)                              \n9                           Leaving Las Vegas (1995)                              \n\n  Rank your movie choices. You don't have to do a full ranking. [Third Choice]  \\\n0                                   Chevalier (2016)                             \n1                                  Starred Up (2013)                             \n2                             Vanishing Point (1971)                             \n3                              Love and Mercy (2014)                             \n4                       In the Company of Men (1997)                             \n5                           Leaving Las Vegas (1995)                             \n6                       In the Company of Men (1997)                             \n7                                  Starred Up (2013)                             \n8                              Love and Mercy (2014)                             \n9                       In the Company of Men (1997)                             \n\n  Rank your movie choices. You don't have to do a full ranking. [Fourth Choice]  \\\n0                              Love and Mercy (2014)                              \n1                              Love and Mercy (2014)                              \n2                           Leaving Las Vegas (1995)                              \n3                                  Starred Up (2013)                              \n4                              Love and Mercy (2014)                              \n5                             Vanishing Point (1971)                              \n6                             Vanishing Point (1971)                              \n7                              Love and Mercy (2014)                              \n8                           Leaving Las Vegas (1995)                              \n9                             Vanishing Point (1971)                              \n\n  Rank your movie choices. You don't have to do a full ranking. [Fifth Choice]  \\\n0                                  Starred Up (2013)                             \n1                                   Chevalier (2016)                             \n2                              Love and Mercy (2014)                             \n3                             Vanishing Point (1971)                             \n4                                  Starred Up (2013)                             \n5                                  Starred Up (2013)                             \n6                                  Starred Up (2013)                             \n7                                                NaN                             \n8                                  Starred Up (2013)                             \n9                              Love and Mercy (2014)                             \n\n  Rank your movie choices. You don't have to do a full ranking. [Sixth Choice]  \\\n0                             Vanishing Point (1971)                             \n1                       In the Company of Men (1997)                             \n2                                   Chevalier (2016)                             \n3                       In the Company of Men (1997)                             \n4                             Vanishing Point (1971)                             \n5                              Love and Mercy (2014)                             \n6                              Love and Mercy (2014)                             \n7                                                NaN                             \n8                       In the Company of Men (1997)                             \n9                                  Starred Up (2013)                             \n\n  What theme should we explore next week? [First Choice]  \\\n0                            I AM NOT A GOOD DOCTOR.       \n1                          [Default to Nicolas Cage]       \n2                                          LESBIANS!       \n3                            I AM NOT A GOOD DOCTOR.       \n4                         OOPS ALL FRANCES MCDORMAND       \n5                         OOPS ALL FRANCES MCDORMAND       \n6                                          LESBIANS!       \n7                                      LATE EIGHTIES       \n8                               THEY GROW UP SO FAST       \n9                            I AM NOT A GOOD DOCTOR.       \n\n  What theme should we explore next week? [Second Choice]  \\\n0                                          LESBIANS!        \n1                                      LATE EIGHTIES        \n2                                      LATE EIGHTIES        \n3                               RETURN TO DADDY CITY        \n4                               RETURN TO DADDY CITY        \n5                                          LESBIANS!        \n6                         OOPS ALL FRANCES MCDORMAND        \n7                         OOPS ALL FRANCES MCDORMAND        \n8                         OOPS ALL FRANCES MCDORMAND        \n9                               RETURN TO DADDY CITY        \n\n  What theme should we explore next week? [Third Choice]  \\\n0                         OOPS ALL FRANCES MCDORMAND       \n1                            I AM NOT A GOOD DOCTOR.       \n2                               RETURN TO DADDY CITY       \n3                                          LESBIANS!       \n4                            I AM NOT A GOOD DOCTOR.       \n5                          [Default to Nicolas Cage]       \n6                               RETURN TO DADDY CITY       \n7                            I AM NOT A GOOD DOCTOR.       \n8                               RETURN TO DADDY CITY       \n9                          [Default to Nicolas Cage]       \n\n  What theme should we explore next week? [Fourth Choice]  \\\n0                               RETURN TO DADDY CITY        \n1                               RETURN TO DADDY CITY        \n2                               THEY GROW UP SO FAST        \n3                         OOPS ALL FRANCES MCDORMAND        \n4                                          LESBIANS!        \n5                                      LATE EIGHTIES        \n6                            I AM NOT A GOOD DOCTOR.        \n7                               THEY GROW UP SO FAST        \n8                            I AM NOT A GOOD DOCTOR.        \n9                               THEY GROW UP SO FAST        \n\n  What theme should we explore next week? [Fifth Choice]  \\\n0                               THEY GROW UP SO FAST       \n1                               THEY GROW UP SO FAST       \n2                          [Default to Nicolas Cage]       \n3                               THEY GROW UP SO FAST       \n4                                      LATE EIGHTIES       \n5                            I AM NOT A GOOD DOCTOR.       \n6                                      LATE EIGHTIES       \n7                          [Default to Nicolas Cage]       \n8                                      LATE EIGHTIES       \n9                                          LESBIANS!       \n\n  What theme should we explore next week? [Sixth Choice]  \\\n0                                      LATE EIGHTIES       \n1                         OOPS ALL FRANCES MCDORMAND       \n2                         OOPS ALL FRANCES MCDORMAND       \n3                                      LATE EIGHTIES       \n4                          [Default to Nicolas Cage]       \n5                               THEY GROW UP SO FAST       \n6                               THEY GROW UP SO FAST       \n7                                                NaN       \n8                                          LESBIANS!       \n9                         OOPS ALL FRANCES MCDORMAND       \n\n  What theme should we explore next week? [Seventh Choice]  \n0                                                NaN        \n1                                          LESBIANS!        \n2                            I AM NOT A GOOD DOCTOR.        \n3                          [Default to Nicolas Cage]        \n4                               THEY GROW UP SO FAST        \n5                               RETURN TO DADDY CITY        \n6                          [Default to Nicolas Cage]        \n7                                                NaN        \n8                                                NaN        \n9                                      LATE EIGHTIES        ",
      "text/html": "<div>\n<style scoped>\n    .dataframe tbody tr th:only-of-type {\n        vertical-align: middle;\n    }\n\n    .dataframe tbody tr th {\n        vertical-align: top;\n    }\n\n    .dataframe thead th {\n        text-align: right;\n    }\n</style>\n<table border=\"1\" class=\"dataframe\">\n  <thead>\n    <tr style=\"text-align: right;\">\n      <th></th>\n      <th>Timestamp</th>\n      <th>Rank your movie choices. You don't have to do a full ranking. [First Choice]</th>\n      <th>Rank your movie choices. You don't have to do a full ranking. [Second Choice]</th>\n      <th>Rank your movie choices. You don't have to do a full ranking. [Third Choice]</th>\n      <th>Rank your movie choices. You don't have to do a full ranking. [Fourth Choice]</th>\n      <th>Rank your movie choices. You don't have to do a full ranking. [Fifth Choice]</th>\n      <th>Rank your movie choices. You don't have to do a full ranking. [Sixth Choice]</th>\n      <th>What theme should we explore next week? [First Choice]</th>\n      <th>What theme should we explore next week? [Second Choice]</th>\n      <th>What theme should we explore next week? [Third Choice]</th>\n      <th>What theme should we explore next week? [Fourth Choice]</th>\n      <th>What theme should we explore next week? [Fifth Choice]</th>\n      <th>What theme should we explore next week? [Sixth Choice]</th>\n      <th>What theme should we explore next week? [Seventh Choice]</th>\n    </tr>\n  </thead>\n  <tbody>\n    <tr>\n      <th>0</th>\n      <td>12/29/2020 20:24:05</td>\n      <td>Leaving Las Vegas (1995)</td>\n      <td>In the Company of Men (1997)</td>\n      <td>Chevalier (2016)</td>\n      <td>Love and Mercy (2014)</td>\n      <td>Starred Up (2013)</td>\n      <td>Vanishing Point (1971)</td>\n      <td>I AM NOT A GOOD DOCTOR.</td>\n      <td>LESBIANS!</td>\n      <td>OOPS ALL FRANCES MCDORMAND</td>\n      <td>RETURN TO DADDY CITY</td>\n      <td>THEY GROW UP SO FAST</td>\n      <td>LATE EIGHTIES</td>\n      <td>NaN</td>\n    </tr>\n    <tr>\n      <th>1</th>\n      <td>12/29/2020 20:34:26</td>\n      <td>Leaving Las Vegas (1995)</td>\n      <td>Vanishing Point (1971)</td>\n      <td>Starred Up (2013)</td>\n      <td>Love and Mercy (2014)</td>\n      <td>Chevalier (2016)</td>\n      <td>In the Company of Men (1997)</td>\n      <td>[Default to Nicolas Cage]</td>\n      <td>LATE EIGHTIES</td>\n      <td>I AM NOT A GOOD DOCTOR.</td>\n      <td>RETURN TO DADDY CITY</td>\n      <td>THEY GROW UP SO FAST</td>\n      <td>OOPS ALL FRANCES MCDORMAND</td>\n      <td>LESBIANS!</td>\n    </tr>\n    <tr>\n      <th>2</th>\n      <td>12/29/2020 20:37:40</td>\n      <td>In the Company of Men (1997)</td>\n      <td>Starred Up (2013)</td>\n      <td>Vanishing Point (1971)</td>\n      <td>Leaving Las Vegas (1995)</td>\n      <td>Love and Mercy (2014)</td>\n      <td>Chevalier (2016)</td>\n      <td>LESBIANS!</td>\n      <td>LATE EIGHTIES</td>\n      <td>RETURN TO DADDY CITY</td>\n      <td>THEY GROW UP SO FAST</td>\n      <td>[Default to Nicolas Cage]</td>\n      <td>OOPS ALL FRANCES MCDORMAND</td>\n      <td>I AM NOT A GOOD DOCTOR.</td>\n    </tr>\n    <tr>\n      <th>3</th>\n      <td>12/29/2020 21:39:56</td>\n      <td>Chevalier (2016)</td>\n      <td>Leaving Las Vegas (1995)</td>\n      <td>Love and Mercy (2014)</td>\n      <td>Starred Up (2013)</td>\n      <td>Vanishing Point (1971)</td>\n      <td>In the Company of Men (1997)</td>\n      <td>I AM NOT A GOOD DOCTOR.</td>\n      <td>RETURN TO DADDY CITY</td>\n      <td>LESBIANS!</td>\n      <td>OOPS ALL FRANCES MCDORMAND</td>\n      <td>THEY GROW UP SO FAST</td>\n      <td>LATE EIGHTIES</td>\n      <td>[Default to Nicolas Cage]</td>\n    </tr>\n    <tr>\n      <th>4</th>\n      <td>12/29/2020 21:41:47</td>\n      <td>Chevalier (2016)</td>\n      <td>Leaving Las Vegas (1995)</td>\n      <td>In the Company of Men (1997)</td>\n      <td>Love and Mercy (2014)</td>\n      <td>Starred Up (2013)</td>\n      <td>Vanishing Point (1971)</td>\n      <td>OOPS ALL FRANCES MCDORMAND</td>\n      <td>RETURN TO DADDY CITY</td>\n      <td>I AM NOT A GOOD DOCTOR.</td>\n      <td>LESBIANS!</td>\n      <td>LATE EIGHTIES</td>\n      <td>[Default to Nicolas Cage]</td>\n      <td>THEY GROW UP SO FAST</td>\n    </tr>\n    <tr>\n      <th>5</th>\n      <td>12/30/2020 4:51:01</td>\n      <td>In the Company of Men (1997)</td>\n      <td>Chevalier (2016)</td>\n      <td>Leaving Las Vegas (1995)</td>\n      <td>Vanishing Point (1971)</td>\n      <td>Starred Up (2013)</td>\n      <td>Love and Mercy (2014)</td>\n      <td>OOPS ALL FRANCES MCDORMAND</td>\n      <td>LESBIANS!</td>\n      <td>[Default to Nicolas Cage]</td>\n      <td>LATE EIGHTIES</td>\n      <td>I AM NOT A GOOD DOCTOR.</td>\n      <td>THEY GROW UP SO FAST</td>\n      <td>RETURN TO DADDY CITY</td>\n    </tr>\n    <tr>\n      <th>6</th>\n      <td>12/30/2020 11:17:33</td>\n      <td>Leaving Las Vegas (1995)</td>\n      <td>Chevalier (2016)</td>\n      <td>In the Company of Men (1997)</td>\n      <td>Vanishing Point (1971)</td>\n      <td>Starred Up (2013)</td>\n      <td>Love and Mercy (2014)</td>\n      <td>LESBIANS!</td>\n      <td>OOPS ALL FRANCES MCDORMAND</td>\n      <td>RETURN TO DADDY CITY</td>\n      <td>I AM NOT A GOOD DOCTOR.</td>\n      <td>LATE EIGHTIES</td>\n      <td>THEY GROW UP SO FAST</td>\n      <td>[Default to Nicolas Cage]</td>\n    </tr>\n    <tr>\n      <th>7</th>\n      <td>12/30/2020 14:30:50</td>\n      <td>Vanishing Point (1971)</td>\n      <td>Chevalier (2016)</td>\n      <td>Starred Up (2013)</td>\n      <td>Love and Mercy (2014)</td>\n      <td>NaN</td>\n      <td>NaN</td>\n      <td>LATE EIGHTIES</td>\n      <td>OOPS ALL FRANCES MCDORMAND</td>\n      <td>I AM NOT A GOOD DOCTOR.</td>\n      <td>THEY GROW UP SO FAST</td>\n      <td>[Default to Nicolas Cage]</td>\n      <td>NaN</td>\n      <td>NaN</td>\n    </tr>\n    <tr>\n      <th>8</th>\n      <td>12/30/2020 14:43:00</td>\n      <td>Chevalier (2016)</td>\n      <td>Vanishing Point (1971)</td>\n      <td>Love and Mercy (2014)</td>\n      <td>Leaving Las Vegas (1995)</td>\n      <td>Starred Up (2013)</td>\n      <td>In the Company of Men (1997)</td>\n      <td>THEY GROW UP SO FAST</td>\n      <td>OOPS ALL FRANCES MCDORMAND</td>\n      <td>RETURN TO DADDY CITY</td>\n      <td>I AM NOT A GOOD DOCTOR.</td>\n      <td>LATE EIGHTIES</td>\n      <td>LESBIANS!</td>\n      <td>NaN</td>\n    </tr>\n    <tr>\n      <th>9</th>\n      <td>12/31/2020 10:11:02</td>\n      <td>Chevalier (2016)</td>\n      <td>Leaving Las Vegas (1995)</td>\n      <td>In the Company of Men (1997)</td>\n      <td>Vanishing Point (1971)</td>\n      <td>Love and Mercy (2014)</td>\n      <td>Starred Up (2013)</td>\n      <td>I AM NOT A GOOD DOCTOR.</td>\n      <td>RETURN TO DADDY CITY</td>\n      <td>[Default to Nicolas Cage]</td>\n      <td>THEY GROW UP SO FAST</td>\n      <td>LESBIANS!</td>\n      <td>OOPS ALL FRANCES MCDORMAND</td>\n      <td>LATE EIGHTIES</td>\n    </tr>\n  </tbody>\n</table>\n</div>"
     },
     "execution_count": 2,
     "metadata": {},
     "output_type": "execute_result"
    }
   ],
   "source": [
    "df = pd.read_csv(Path('./data/20210102.csv').resolve())\n",
    "df"
   ]
  },
  {
   "cell_type": "code",
   "execution_count": 3,
   "metadata": {},
   "outputs": [],
   "source": [
    "just_ballots = df.loc[:, df.columns.str.startswith('Rank')]\n",
    "next_week = df.loc[:, df.columns.str.startswith('What')]"
   ]
  },
  {
   "cell_type": "code",
   "execution_count": 4,
   "metadata": {},
   "outputs": [
    {
     "data": {
      "text/plain": "array(['Leaving Las Vegas (1995)', 'In the Company of Men (1997)',\n       'Chevalier (2016)', 'Love and Mercy (2014)', 'Starred Up (2013)',\n       'Vanishing Point (1971)'], dtype=object)"
     },
     "execution_count": 4,
     "metadata": {},
     "output_type": "execute_result"
    }
   ],
   "source": [
    "submissions = just_ballots.loc[just_ballots.notna().all(axis=1).idxmax(),:].values\n",
    "submissions"
   ]
  },
  {
   "cell_type": "code",
   "execution_count": 5,
   "metadata": {},
   "outputs": [],
   "source": [
    "submission_dict = {submission: pyrankvote.Candidate(submission) for submission in submissions}"
   ]
  },
  {
   "cell_type": "code",
   "execution_count": 6,
   "metadata": {},
   "outputs": [],
   "source": [
    "balloted = just_ballots.applymap(lambda x: submission_dict[x] if isinstance(x, str) else x)"
   ]
  },
  {
   "cell_type": "code",
   "execution_count": 7,
   "metadata": {},
   "outputs": [
    {
     "data": {
      "text/plain": "{'Leaving Las Vegas (1995)': <Candidate('Leaving Las Vegas (1995)')>,\n 'In the Company of Men (1997)': <Candidate('In the Company of Men (1997)')>,\n 'Chevalier (2016)': <Candidate('Chevalier (2016)')>,\n 'Love and Mercy (2014)': <Candidate('Love and Mercy (2014)')>,\n 'Starred Up (2013)': <Candidate('Starred Up (2013)')>,\n 'Vanishing Point (1971)': <Candidate('Vanishing Point (1971)')>}"
     },
     "execution_count": 7,
     "metadata": {},
     "output_type": "execute_result"
    }
   ],
   "source": [
    "submission_dict"
   ]
  },
  {
   "cell_type": "code",
   "execution_count": 8,
   "metadata": {},
   "outputs": [],
   "source": [
    "ballots = []\n",
    "for ballot in balloted.itertuples():\n",
    "    ballots.append(pyrankvote.Ballot(ranked_candidates=[b for b in ballot if isinstance(b, pyrankvote.Candidate)]))"
   ]
  },
  {
   "cell_type": "code",
   "execution_count": 9,
   "metadata": {},
   "outputs": [
    {
     "data": {
      "text/plain": "[<Ballot(Leaving Las Vegas (1995), In the Company of Men (1997), Chevalier (2016), Love and Mercy (2014), Starred Up (2013), Vanishing Point (1971))>,\n <Ballot(Leaving Las Vegas (1995), Vanishing Point (1971), Starred Up (2013), Love and Mercy (2014), Chevalier (2016), In the Company of Men (1997))>,\n <Ballot(In the Company of Men (1997), Starred Up (2013), Vanishing Point (1971), Leaving Las Vegas (1995), Love and Mercy (2014), Chevalier (2016))>,\n <Ballot(Chevalier (2016), Leaving Las Vegas (1995), Love and Mercy (2014), Starred Up (2013), Vanishing Point (1971), In the Company of Men (1997))>,\n <Ballot(Chevalier (2016), Leaving Las Vegas (1995), In the Company of Men (1997), Love and Mercy (2014), Starred Up (2013), Vanishing Point (1971))>,\n <Ballot(In the Company of Men (1997), Chevalier (2016), Leaving Las Vegas (1995), Vanishing Point (1971), Starred Up (2013), Love and Mercy (2014))>,\n <Ballot(Leaving Las Vegas (1995), Chevalier (2016), In the Company of Men (1997), Vanishing Point (1971), Starred Up (2013), Love and Mercy (2014))>,\n <Ballot(Vanishing Point (1971), Chevalier (2016), Starred Up (2013), Love and Mercy (2014))>,\n <Ballot(Chevalier (2016), Vanishing Point (1971), Love and Mercy (2014), Leaving Las Vegas (1995), Starred Up (2013), In the Company of Men (1997))>,\n <Ballot(Chevalier (2016), Leaving Las Vegas (1995), In the Company of Men (1997), Vanishing Point (1971), Love and Mercy (2014), Starred Up (2013))>]"
     },
     "execution_count": 9,
     "metadata": {},
     "output_type": "execute_result"
    }
   ],
   "source": [
    "ballots"
   ]
  },
  {
   "cell_type": "code",
   "execution_count": 10,
   "metadata": {},
   "outputs": [],
   "source": [
    "election_result = pyrankvote.instant_runoff_voting(submission_dict.values(), ballots,)"
   ]
  },
  {
   "cell_type": "code",
   "execution_count": 11,
   "metadata": {},
   "outputs": [
    {
     "name": "stdout",
     "output_type": "stream",
     "text": [
      "ROUND 1\n",
      "Candidate                       Votes  Status\n",
      "----------------------------  -------  --------\n",
      "Chevalier (2016)                    4  Hopeful\n",
      "Leaving Las Vegas (1995)            3  Hopeful\n",
      "In the Company of Men (1997)        2  Rejected\n",
      "Vanishing Point (1971)              1  Rejected\n",
      "Starred Up (2013)                   0  Rejected\n",
      "Love and Mercy (2014)               0  Rejected\n",
      "\n",
      "FINAL RESULT\n",
      "Candidate                       Votes  Status\n",
      "----------------------------  -------  --------\n",
      "Chevalier (2016)                    6  Elected\n",
      "Leaving Las Vegas (1995)            4  Rejected\n",
      "In the Company of Men (1997)        0  Rejected\n",
      "Vanishing Point (1971)              0  Rejected\n",
      "Starred Up (2013)                   0  Rejected\n",
      "Love and Mercy (2014)               0  Rejected\n",
      "\n"
     ]
    }
   ],
   "source": [
    "print(election_result)"
   ]
  },
  {
   "cell_type": "code",
   "execution_count": 12,
   "metadata": {},
   "outputs": [
    {
     "name": "stdout",
     "output_type": "stream",
     "text": [
      "ROUND 1\n",
      "Candidate                     Votes  Status\n",
      "--------------------------  -------  --------\n",
      "I AM NOT A GOOD DOCTOR.           3  Hopeful\n",
      "OOPS ALL FRANCES MCDORMAND        2  Hopeful\n",
      "LESBIANS!                         2  Hopeful\n",
      "LATE EIGHTIES                     1  Hopeful\n",
      "[Default to Nicolas Cage]         1  Hopeful\n",
      "THEY GROW UP SO FAST              1  Rejected\n",
      "RETURN TO DADDY CITY              0  Rejected\n",
      "\n",
      "ROUND 2\n",
      "Candidate                     Votes  Status\n",
      "--------------------------  -------  --------\n",
      "I AM NOT A GOOD DOCTOR.           3  Hopeful\n",
      "OOPS ALL FRANCES MCDORMAND        3  Hopeful\n",
      "LESBIANS!                         2  Hopeful\n",
      "LATE EIGHTIES                     1  Rejected\n",
      "[Default to Nicolas Cage]         1  Rejected\n",
      "THEY GROW UP SO FAST              0  Rejected\n",
      "RETURN TO DADDY CITY              0  Rejected\n",
      "\n",
      "ROUND 3\n",
      "Candidate                     Votes  Status\n",
      "--------------------------  -------  --------\n",
      "I AM NOT A GOOD DOCTOR.           4  Hopeful\n",
      "OOPS ALL FRANCES MCDORMAND        4  Hopeful\n",
      "LESBIANS!                         2  Rejected\n",
      "LATE EIGHTIES                     0  Rejected\n",
      "[Default to Nicolas Cage]         0  Rejected\n",
      "THEY GROW UP SO FAST              0  Rejected\n",
      "RETURN TO DADDY CITY              0  Rejected\n",
      "\n",
      "FINAL RESULT\n",
      "Candidate                     Votes  Status\n",
      "--------------------------  -------  --------\n",
      "OOPS ALL FRANCES MCDORMAND        6  Elected\n",
      "I AM NOT A GOOD DOCTOR.           4  Rejected\n",
      "LESBIANS!                         0  Rejected\n",
      "LATE EIGHTIES                     0  Rejected\n",
      "[Default to Nicolas Cage]         0  Rejected\n",
      "THEY GROW UP SO FAST              0  Rejected\n",
      "RETURN TO DADDY CITY              0  Rejected\n",
      "\n"
     ]
    }
   ],
   "source": [
    "submissions = next_week.loc[next_week.notna().all(axis=1).idxmax(),:].values\n",
    "submission_dict = {submission: pyrankvote.Candidate(submission) for submission in submissions}\n",
    "balloted = next_week.applymap(lambda x: submission_dict[x] if isinstance(x, str) else x)\n",
    "ballots = []\n",
    "for ballot in balloted.itertuples():\n",
    "    ballots.append(pyrankvote.Ballot(ranked_candidates=[b for b in ballot if isinstance(b, pyrankvote.Candidate)]))\n",
    "print(pyrankvote.instant_runoff_voting(submission_dict.values(), ballots,))"
   ]
  }
 ],
 "metadata": {
  "kernelspec": {
   "display_name": "Python 3",
   "language": "python",
   "name": "python3"
  },
  "language_info": {
   "codemirror_mode": {
    "name": "ipython",
    "version": 3
   },
   "file_extension": ".py",
   "mimetype": "text/x-python",
   "name": "python",
   "nbconvert_exporter": "python",
   "pygments_lexer": "ipython3",
   "version": "3.7.4"
  }
 },
 "nbformat": 4,
 "nbformat_minor": 2
}