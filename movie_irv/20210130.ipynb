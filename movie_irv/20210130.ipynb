{
 "cells": [
  {
   "cell_type": "code",
   "execution_count": 1,
   "metadata": {},
   "outputs": [],
   "source": [
    "import pandas as pd\n",
    "import pyrankvote\n",
    "from pathlib import Path\n",
    "from random import seed\n",
    "seed(252)"
   ]
  },
  {
   "cell_type": "code",
   "execution_count": 2,
   "metadata": {},
   "outputs": [
    {
     "data": {
      "text/plain": "            Timestamp  \\\n0  1/26/2021 17:36:52   \n1  1/26/2021 17:38:38   \n2  1/26/2021 17:47:02   \n3  1/26/2021 17:50:20   \n4  1/26/2021 17:52:56   \n5   1/27/2021 5:56:41   \n6  1/27/2021 18:28:41   \n\n  Rank your movie choices. You don't have to do a full ranking. [First Choice]  \\\n0          Before the Devil Knows You're Dead (2007)                             \n1                                    Salesman (1969)                             \n2                     The Wolf of Snow Hollow (2020)                             \n3          Rocket Singh: Salesman of the Year (2009)                             \n4                     The Wolf of Snow Hollow (2020)                             \n5                               Hold the Dark (2018)                             \n6          Before the Devil Knows You're Dead (2007)                             \n\n  Rank your movie choices. You don't have to do a full ranking. [Second Choice]  \\\n0          Rocket Singh: Salesman of the Year (2009)                              \n1          Before the Devil Knows You're Dead (2007)                              \n2                                    Salesman (1969)                              \n3          Before the Devil Knows You're Dead (2007)                              \n4                                    Salesman (1969)                              \n5                     The Wolf of Snow Hollow (2020)                              \n6                               Hold the Dark (2018)                              \n\n  Rank your movie choices. You don't have to do a full ranking. [Third Choice]  \\\n0                               Hold the Dark (2018)                             \n1          Rocket Singh: Salesman of the Year (2009)                             \n2          Before the Devil Knows You're Dead (2007)                             \n3                     The Wolf of Snow Hollow (2020)                             \n4          Rocket Singh: Salesman of the Year (2009)                             \n5          Before the Devil Knows You're Dead (2007)                             \n6                                    Salesman (1969)                             \n\n  Rank your movie choices. You don't have to do a full ranking. [Fourth Choice]  \\\n0                     The Wolf of Snow Hollow (2020)                              \n1                               Hold the Dark (2018)                              \n2          Rocket Singh: Salesman of the Year (2009)                              \n3                                    Salesman (1969)                              \n4                               Hold the Dark (2018)                              \n5                                    Salesman (1969)                              \n6                     The Wolf of Snow Hollow (2020)                              \n\n  Rank your movie choices. You don't have to do a full ranking. [Fifth Choice]  \\\n0                                    Salesman (1969)                             \n1                     The Wolf of Snow Hollow (2020)                             \n2                               Hold the Dark (2018)                             \n3                               Hold the Dark (2018)                             \n4          Before the Devil Knows You're Dead (2007)                             \n5          Rocket Singh: Salesman of the Year (2009)                             \n6          Rocket Singh: Salesman of the Year (2009)                             \n\n  What theme should we explore next week? [First Choice]  \\\n0                               OOPS ALL GLENN CLOSE       \n1                               A CINEMATIC SHITPOST       \n2                                         DOWN UNDAH       \n3                           OOPS! ALL BRENDAN FRASER       \n4                    MY BAD HABIT IS MY PERSONALITY.       \n5                           OOPS! ALL BRENDAN FRASER       \n6                               A CINEMATIC SHITPOST       \n\n  What theme should we explore next week? [Second Choice]  \\\n0                           OOPS! ALL BRENDAN FRASER        \n1                                         DOWN UNDAH        \n2                    MY BAD HABIT IS MY PERSONALITY.        \n3                                         DOWN UNDAH        \n4                               A CINEMATIC SHITPOST        \n5                                         DOWN UNDAH        \n6                                         DOWN UNDAH        \n\n  What theme should we explore next week? [Third Choice]  \\\n0                    MY BAD HABIT IS MY PERSONALITY.       \n1                    MY BAD HABIT IS MY PERSONALITY.       \n2                           OOPS! ALL BRENDAN FRASER       \n3                    MY BAD HABIT IS MY PERSONALITY.       \n4                                         DOWN UNDAH       \n5                               A CINEMATIC SHITPOST       \n6                    MY BAD HABIT IS MY PERSONALITY.       \n\n  What theme should we explore next week? [Fourth Choice]  \\\n0                                         DOWN UNDAH        \n1                          [Default to Nicolas Cage]        \n2                               OOPS ALL GLENN CLOSE        \n3                               OOPS ALL GLENN CLOSE        \n4                           OOPS! ALL BRENDAN FRASER        \n5                          [Default to Nicolas Cage]        \n6                           OOPS! ALL BRENDAN FRASER        \n\n  What theme should we explore next week? [Fifth Choice]  \\\n0                          [Default to Nicolas Cage]       \n1                               OOPS ALL GLENN CLOSE       \n2                               A CINEMATIC SHITPOST       \n3                          [Default to Nicolas Cage]       \n4                               OOPS ALL GLENN CLOSE       \n5                                                NaN       \n6                               OOPS ALL GLENN CLOSE       \n\n  What theme should we explore next week? [Sixth Choice]  \n0                               A CINEMATIC SHITPOST      \n1                           OOPS! ALL BRENDAN FRASER      \n2                          [Default to Nicolas Cage]      \n3                               A CINEMATIC SHITPOST      \n4                          [Default to Nicolas Cage]      \n5                                                NaN      \n6                                                NaN      ",
      "text/html": "<div>\n<style scoped>\n    .dataframe tbody tr th:only-of-type {\n        vertical-align: middle;\n    }\n\n    .dataframe tbody tr th {\n        vertical-align: top;\n    }\n\n    .dataframe thead th {\n        text-align: right;\n    }\n</style>\n<table border=\"1\" class=\"dataframe\">\n  <thead>\n    <tr style=\"text-align: right;\">\n      <th></th>\n      <th>Timestamp</th>\n      <th>Rank your movie choices. You don't have to do a full ranking. [First Choice]</th>\n      <th>Rank your movie choices. You don't have to do a full ranking. [Second Choice]</th>\n      <th>Rank your movie choices. You don't have to do a full ranking. [Third Choice]</th>\n      <th>Rank your movie choices. You don't have to do a full ranking. [Fourth Choice]</th>\n      <th>Rank your movie choices. You don't have to do a full ranking. [Fifth Choice]</th>\n      <th>What theme should we explore next week? [First Choice]</th>\n      <th>What theme should we explore next week? [Second Choice]</th>\n      <th>What theme should we explore next week? [Third Choice]</th>\n      <th>What theme should we explore next week? [Fourth Choice]</th>\n      <th>What theme should we explore next week? [Fifth Choice]</th>\n      <th>What theme should we explore next week? [Sixth Choice]</th>\n    </tr>\n  </thead>\n  <tbody>\n    <tr>\n      <th>0</th>\n      <td>1/26/2021 17:36:52</td>\n      <td>Before the Devil Knows You're Dead (2007)</td>\n      <td>Rocket Singh: Salesman of the Year (2009)</td>\n      <td>Hold the Dark (2018)</td>\n      <td>The Wolf of Snow Hollow (2020)</td>\n      <td>Salesman (1969)</td>\n      <td>OOPS ALL GLENN CLOSE</td>\n      <td>OOPS! ALL BRENDAN FRASER</td>\n      <td>MY BAD HABIT IS MY PERSONALITY.</td>\n      <td>DOWN UNDAH</td>\n      <td>[Default to Nicolas Cage]</td>\n      <td>A CINEMATIC SHITPOST</td>\n    </tr>\n    <tr>\n      <th>1</th>\n      <td>1/26/2021 17:38:38</td>\n      <td>Salesman (1969)</td>\n      <td>Before the Devil Knows You're Dead (2007)</td>\n      <td>Rocket Singh: Salesman of the Year (2009)</td>\n      <td>Hold the Dark (2018)</td>\n      <td>The Wolf of Snow Hollow (2020)</td>\n      <td>A CINEMATIC SHITPOST</td>\n      <td>DOWN UNDAH</td>\n      <td>MY BAD HABIT IS MY PERSONALITY.</td>\n      <td>[Default to Nicolas Cage]</td>\n      <td>OOPS ALL GLENN CLOSE</td>\n      <td>OOPS! ALL BRENDAN FRASER</td>\n    </tr>\n    <tr>\n      <th>2</th>\n      <td>1/26/2021 17:47:02</td>\n      <td>The Wolf of Snow Hollow (2020)</td>\n      <td>Salesman (1969)</td>\n      <td>Before the Devil Knows You're Dead (2007)</td>\n      <td>Rocket Singh: Salesman of the Year (2009)</td>\n      <td>Hold the Dark (2018)</td>\n      <td>DOWN UNDAH</td>\n      <td>MY BAD HABIT IS MY PERSONALITY.</td>\n      <td>OOPS! ALL BRENDAN FRASER</td>\n      <td>OOPS ALL GLENN CLOSE</td>\n      <td>A CINEMATIC SHITPOST</td>\n      <td>[Default to Nicolas Cage]</td>\n    </tr>\n    <tr>\n      <th>3</th>\n      <td>1/26/2021 17:50:20</td>\n      <td>Rocket Singh: Salesman of the Year (2009)</td>\n      <td>Before the Devil Knows You're Dead (2007)</td>\n      <td>The Wolf of Snow Hollow (2020)</td>\n      <td>Salesman (1969)</td>\n      <td>Hold the Dark (2018)</td>\n      <td>OOPS! ALL BRENDAN FRASER</td>\n      <td>DOWN UNDAH</td>\n      <td>MY BAD HABIT IS MY PERSONALITY.</td>\n      <td>OOPS ALL GLENN CLOSE</td>\n      <td>[Default to Nicolas Cage]</td>\n      <td>A CINEMATIC SHITPOST</td>\n    </tr>\n    <tr>\n      <th>4</th>\n      <td>1/26/2021 17:52:56</td>\n      <td>The Wolf of Snow Hollow (2020)</td>\n      <td>Salesman (1969)</td>\n      <td>Rocket Singh: Salesman of the Year (2009)</td>\n      <td>Hold the Dark (2018)</td>\n      <td>Before the Devil Knows You're Dead (2007)</td>\n      <td>MY BAD HABIT IS MY PERSONALITY.</td>\n      <td>A CINEMATIC SHITPOST</td>\n      <td>DOWN UNDAH</td>\n      <td>OOPS! ALL BRENDAN FRASER</td>\n      <td>OOPS ALL GLENN CLOSE</td>\n      <td>[Default to Nicolas Cage]</td>\n    </tr>\n    <tr>\n      <th>5</th>\n      <td>1/27/2021 5:56:41</td>\n      <td>Hold the Dark (2018)</td>\n      <td>The Wolf of Snow Hollow (2020)</td>\n      <td>Before the Devil Knows You're Dead (2007)</td>\n      <td>Salesman (1969)</td>\n      <td>Rocket Singh: Salesman of the Year (2009)</td>\n      <td>OOPS! ALL BRENDAN FRASER</td>\n      <td>DOWN UNDAH</td>\n      <td>A CINEMATIC SHITPOST</td>\n      <td>[Default to Nicolas Cage]</td>\n      <td>NaN</td>\n      <td>NaN</td>\n    </tr>\n    <tr>\n      <th>6</th>\n      <td>1/27/2021 18:28:41</td>\n      <td>Before the Devil Knows You're Dead (2007)</td>\n      <td>Hold the Dark (2018)</td>\n      <td>Salesman (1969)</td>\n      <td>The Wolf of Snow Hollow (2020)</td>\n      <td>Rocket Singh: Salesman of the Year (2009)</td>\n      <td>A CINEMATIC SHITPOST</td>\n      <td>DOWN UNDAH</td>\n      <td>MY BAD HABIT IS MY PERSONALITY.</td>\n      <td>OOPS! ALL BRENDAN FRASER</td>\n      <td>OOPS ALL GLENN CLOSE</td>\n      <td>NaN</td>\n    </tr>\n  </tbody>\n</table>\n</div>"
     },
     "execution_count": 2,
     "metadata": {},
     "output_type": "execute_result"
    }
   ],
   "source": [
    "df = pd.read_csv(Path('./data/20210130.csv').resolve())\n",
    "df"
   ]
  },
  {
   "cell_type": "code",
   "execution_count": 3,
   "metadata": {},
   "outputs": [],
   "source": [
    "just_ballots = df.loc[:, df.columns.str.startswith('Rank')]\n",
    "next_week = df.loc[:, df.columns.str.startswith('What')]"
   ]
  },
  {
   "cell_type": "code",
   "execution_count": 4,
   "metadata": {},
   "outputs": [
    {
     "data": {
      "text/plain": "array([\"Before the Devil Knows You're Dead (2007)\",\n       'Rocket Singh: Salesman of the Year (2009)',\n       'Hold the Dark (2018)', 'The Wolf of Snow Hollow (2020)',\n       'Salesman (1969)'], dtype=object)"
     },
     "execution_count": 4,
     "metadata": {},
     "output_type": "execute_result"
    }
   ],
   "source": [
    "submissions = just_ballots.loc[just_ballots.notna().all(axis=1).idxmax(),:].values\n",
    "submissions"
   ]
  },
  {
   "cell_type": "code",
   "execution_count": 5,
   "metadata": {},
   "outputs": [],
   "source": [
    "submission_dict = {submission: pyrankvote.Candidate(submission) for submission in submissions}"
   ]
  },
  {
   "cell_type": "code",
   "execution_count": 6,
   "metadata": {},
   "outputs": [],
   "source": [
    "balloted = just_ballots.applymap(lambda x: submission_dict[x] if isinstance(x, str) else x)"
   ]
  },
  {
   "cell_type": "code",
   "execution_count": 7,
   "metadata": {},
   "outputs": [
    {
     "data": {
      "text/plain": "{\"Before the Devil Knows You're Dead (2007)\": <Candidate('Before the Devil Knows You're Dead (2007)')>,\n 'Rocket Singh: Salesman of the Year (2009)': <Candidate('Rocket Singh: Salesman of the Year (2009)')>,\n 'Hold the Dark (2018)': <Candidate('Hold the Dark (2018)')>,\n 'The Wolf of Snow Hollow (2020)': <Candidate('The Wolf of Snow Hollow (2020)')>,\n 'Salesman (1969)': <Candidate('Salesman (1969)')>}"
     },
     "execution_count": 7,
     "metadata": {},
     "output_type": "execute_result"
    }
   ],
   "source": [
    "submission_dict"
   ]
  },
  {
   "cell_type": "code",
   "execution_count": 8,
   "metadata": {},
   "outputs": [],
   "source": [
    "ballots = []\n",
    "for ballot in balloted.itertuples():\n",
    "    ballots.append(pyrankvote.Ballot(ranked_candidates=[b for b in ballot if isinstance(b, pyrankvote.Candidate)]))"
   ]
  },
  {
   "cell_type": "code",
   "execution_count": 9,
   "metadata": {},
   "outputs": [
    {
     "data": {
      "text/plain": "[<Ballot(Before the Devil Knows You're Dead (2007), Rocket Singh: Salesman of the Year (2009), Hold the Dark (2018), The Wolf of Snow Hollow (2020), Salesman (1969))>,\n <Ballot(Salesman (1969), Before the Devil Knows You're Dead (2007), Rocket Singh: Salesman of the Year (2009), Hold the Dark (2018), The Wolf of Snow Hollow (2020))>,\n <Ballot(The Wolf of Snow Hollow (2020), Salesman (1969), Before the Devil Knows You're Dead (2007), Rocket Singh: Salesman of the Year (2009), Hold the Dark (2018))>,\n <Ballot(Rocket Singh: Salesman of the Year (2009), Before the Devil Knows You're Dead (2007), The Wolf of Snow Hollow (2020), Salesman (1969), Hold the Dark (2018))>,\n <Ballot(The Wolf of Snow Hollow (2020), Salesman (1969), Rocket Singh: Salesman of the Year (2009), Hold the Dark (2018), Before the Devil Knows You're Dead (2007))>,\n <Ballot(Hold the Dark (2018), The Wolf of Snow Hollow (2020), Before the Devil Knows You're Dead (2007), Salesman (1969), Rocket Singh: Salesman of the Year (2009))>,\n <Ballot(Before the Devil Knows You're Dead (2007), Hold the Dark (2018), Salesman (1969), The Wolf of Snow Hollow (2020), Rocket Singh: Salesman of the Year (2009))>]"
     },
     "execution_count": 9,
     "metadata": {},
     "output_type": "execute_result"
    }
   ],
   "source": [
    "ballots"
   ]
  },
  {
   "cell_type": "code",
   "execution_count": 10,
   "metadata": {},
   "outputs": [],
   "source": [
    "election_result = pyrankvote.instant_runoff_voting(submission_dict.values(), ballots,)"
   ]
  },
  {
   "cell_type": "code",
   "execution_count": 11,
   "metadata": {},
   "outputs": [
    {
     "name": "stdout",
     "output_type": "stream",
     "text": [
      "ROUND 1\n",
      "Candidate                                    Votes  Status\n",
      "-----------------------------------------  -------  --------\n",
      "Before the Devil Knows You're Dead (2007)        2  Hopeful\n",
      "The Wolf of Snow Hollow (2020)                   2  Hopeful\n",
      "Salesman (1969)                                  1  Hopeful\n",
      "Rocket Singh: Salesman of the Year (2009)        1  Hopeful\n",
      "Hold the Dark (2018)                             1  Rejected\n",
      "\n",
      "ROUND 2\n",
      "Candidate                                    Votes  Status\n",
      "-----------------------------------------  -------  --------\n",
      "The Wolf of Snow Hollow (2020)                   3  Hopeful\n",
      "Before the Devil Knows You're Dead (2007)        2  Hopeful\n",
      "Salesman (1969)                                  1  Rejected\n",
      "Rocket Singh: Salesman of the Year (2009)        1  Rejected\n",
      "Hold the Dark (2018)                             0  Rejected\n",
      "\n",
      "FINAL RESULT\n",
      "Candidate                                    Votes  Status\n",
      "-----------------------------------------  -------  --------\n",
      "Before the Devil Knows You're Dead (2007)        4  Elected\n",
      "The Wolf of Snow Hollow (2020)                   3  Rejected\n",
      "Salesman (1969)                                  0  Rejected\n",
      "Rocket Singh: Salesman of the Year (2009)        0  Rejected\n",
      "Hold the Dark (2018)                             0  Rejected\n",
      "\n"
     ]
    }
   ],
   "source": [
    "print(election_result)"
   ]
  },
  {
   "cell_type": "code",
   "execution_count": 12,
   "metadata": {},
   "outputs": [
    {
     "name": "stdout",
     "output_type": "stream",
     "text": [
      "ROUND 1\n",
      "Candidate                          Votes  Status\n",
      "-------------------------------  -------  --------\n",
      "OOPS! ALL BRENDAN FRASER               2  Hopeful\n",
      "A CINEMATIC SHITPOST                   2  Hopeful\n",
      "DOWN UNDAH                             1  Hopeful\n",
      "MY BAD HABIT IS MY PERSONALITY.        1  Hopeful\n",
      "OOPS ALL GLENN CLOSE                   1  Rejected\n",
      "[Default to Nicolas Cage]              0  Rejected\n",
      "\n",
      "ROUND 2\n",
      "Candidate                          Votes  Status\n",
      "-------------------------------  -------  --------\n",
      "OOPS! ALL BRENDAN FRASER               3  Hopeful\n",
      "A CINEMATIC SHITPOST                   2  Hopeful\n",
      "DOWN UNDAH                             1  Rejected\n",
      "MY BAD HABIT IS MY PERSONALITY.        1  Rejected\n",
      "OOPS ALL GLENN CLOSE                   0  Rejected\n",
      "[Default to Nicolas Cage]              0  Rejected\n",
      "\n",
      "FINAL RESULT\n",
      "Candidate                          Votes  Status\n",
      "-------------------------------  -------  --------\n",
      "OOPS! ALL BRENDAN FRASER               4  Elected\n",
      "A CINEMATIC SHITPOST                   3  Rejected\n",
      "DOWN UNDAH                             0  Rejected\n",
      "MY BAD HABIT IS MY PERSONALITY.        0  Rejected\n",
      "OOPS ALL GLENN CLOSE                   0  Rejected\n",
      "[Default to Nicolas Cage]              0  Rejected\n",
      "\n"
     ]
    }
   ],
   "source": [
    "submissions = next_week.loc[next_week.notna().all(axis=1).idxmax(),:].values\n",
    "submission_dict = {submission: pyrankvote.Candidate(submission) for submission in submissions}\n",
    "balloted = next_week.applymap(lambda x: submission_dict[x] if isinstance(x, str) else x)\n",
    "ballots = []\n",
    "for ballot in balloted.itertuples():\n",
    "    ballots.append(pyrankvote.Ballot(ranked_candidates=[b for b in ballot if isinstance(b, pyrankvote.Candidate)]))\n",
    "print(pyrankvote.instant_runoff_voting(submission_dict.values(), ballots,))"
   ]
  }
 ],
 "metadata": {
  "kernelspec": {
   "display_name": "Python 3",
   "language": "python",
   "name": "python3"
  },
  "language_info": {
   "codemirror_mode": {
    "name": "ipython",
    "version": 3
   },
   "file_extension": ".py",
   "mimetype": "text/x-python",
   "name": "python",
   "nbconvert_exporter": "python",
   "pygments_lexer": "ipython3",
   "version": "3.7.4"
  }
 },
 "nbformat": 4,
 "nbformat_minor": 2
}