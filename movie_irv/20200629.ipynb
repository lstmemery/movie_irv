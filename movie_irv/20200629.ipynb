{
 "cells": [
  {
   "cell_type": "code",
   "execution_count": 1,
   "metadata": {},
   "outputs": [],
   "source": [
    "import pandas as pd\n",
    "import pyrankvote\n",
    "from pathlib import Path"
   ]
  },
  {
   "cell_type": "code",
   "execution_count": 2,
   "metadata": {},
   "outputs": [
    {
     "data": {
      "text/plain": "             Timestamp  \\\n0   6/25/2020 20:01:08   \n1   6/25/2020 20:05:55   \n2   6/25/2020 20:20:04   \n3   6/25/2020 20:28:10   \n4   6/25/2020 20:55:12   \n5   6/25/2020 21:11:17   \n6    6/26/2020 7:20:06   \n7    6/26/2020 8:45:28   \n8    6/26/2020 9:52:15   \n9   6/27/2020 18:00:08   \n10  6/27/2020 22:07:32   \n11  6/27/2020 22:07:38   \n\n   Rank your movie choices. You don't have to do a full ranking. [First Choice]  \\\n0                                         End of Days                             \n1                                         End of Days                             \n2                                               Faust                             \n3                                    Petey Wheatstraw                             \n4                                               Faust                             \n5                                               Häxan                             \n6                                         Angel Heart                             \n7                                         End of Days                             \n8                                         Angel Heart                             \n9                                 Simon of the Desert                             \n10                                        End of Days                             \n11                                        End of Days                             \n\n   Rank your movie choices. You don't have to do a full ranking. [Second Choice]  \\\n0                                               Faust                              \n1                                               Faust                              \n2                                 Simon of the Desert                              \n3                                         Angel Heart                              \n4                                               Häxan                              \n5                                               Faust                              \n6                                    Petey Wheatstraw                              \n7                                 Simon of the Desert                              \n8                                    Petey Wheatstraw                              \n9                                               Faust                              \n10                                        Angel Heart                              \n11                                                NaN                              \n\n   Rank your movie choices. You don't have to do a full ranking. [Third Choice]  \\\n0                                         Angel Heart                             \n1                                         Angel Heart                             \n2                                               Häxan                             \n3                                               Faust                             \n4                                 Simon of the Desert                             \n5                                 Simon of the Desert                             \n6                                 Simon of the Desert                             \n7                                    Petey Wheatstraw                             \n8                                               Faust                             \n9                                               Häxan                             \n10                                Simon of the Desert                             \n11                                                NaN                             \n\n   Rank your movie choices. You don't have to do a full ranking. [Fourth Choice]  \\\n0                                               Häxan                              \n1                                    Petey Wheatstraw                              \n2                                         Angel Heart                              \n3                                                 NaN                              \n4                                         Angel Heart                              \n5                                         Angel Heart                              \n6                                               Faust                              \n7                                         Angel Heart                              \n8                                         End of Days                              \n9                                                 NaN                              \n10                                                NaN                              \n11                                                NaN                              \n\n   Rank your movie choices. You don't have to do a full ranking. [Fifth Choice]  \\\n0                                 Simon of the Desert                             \n1                                               Häxan                             \n2                                    Petey Wheatstraw                             \n3                                                 NaN                             \n4                                    Petey Wheatstraw                             \n5                                    Petey Wheatstraw                             \n6                                                 NaN                             \n7                                               Häxan                             \n8                                 Simon of the Desert                             \n9                                                 NaN                             \n10                                                NaN                             \n11                                                NaN                             \n\n   Rank your movie choices. You don't have to do a full ranking. [Sixth Choice]  \\\n0                                    Petey Wheatstraw                             \n1                                 Simon of the Desert                             \n2                                         End of Days                             \n3                                                 NaN                             \n4                                         End of Days                             \n5                                         End of Days                             \n6                                                 NaN                             \n7                                               Faust                             \n8                                               Häxan                             \n9                                                 NaN                             \n10                                                NaN                             \n11                                                NaN                             \n\n   What theme should we explore next week? [First Choice]  \\\n0                                         Heist Movie       \n1                                       Steven Seagal       \n2                               No Theme/Free-for-all       \n3                                              TEENS!       \n4                             Budget under $1 million       \n5                                              TEENS!       \n6                             Budget under $1 million       \n7                             Budget under $1 million       \n8                                  Woman-led Westerns       \n9                                              TEENS!       \n10                                             TEENS!       \n11                                             TEENS!       \n\n   What theme should we explore next week? [Second Choice]  \\\n0                                    Set on an island        \n1                                         Heist Movie        \n2                                  Woman-led Westerns        \n3                                    Set on an island        \n4                                         Heist Movie        \n5                                         Heist Movie        \n6                                  Woman-led Westerns        \n7                                              TEENS!        \n8                                    Set on an island        \n9                             Budget under $1 million        \n10                                        Heist Movie        \n11                              No Theme/Free-for-all        \n\n   What theme should we explore next week? [Third Choice]  \\\n0                               No Theme/Free-for-all       \n1                                  Woman-led Westerns       \n2                                    Set on an island       \n3                             Budget under $1 million       \n4                                    Set on an island       \n5                             Budget under $1 million       \n6                                         Heist Movie       \n7                                    Set on an island       \n8                                              TEENS!       \n9                                    Set on an island       \n10                            Budget under $1 million       \n11                                                NaN       \n\n   What theme should we explore next week? [Fourth Choice]  \\\n0                                       Steven Seagal        \n1                               No Theme/Free-for-all        \n2                                              TEENS!        \n3                                                 NaN        \n4                                              TEENS!        \n5                                       Steven Seagal        \n6                                              TEENS!        \n7                                         Heist Movie        \n8                                         Heist Movie        \n9                                                 NaN        \n10                                   Set on an island        \n11                                                NaN        \n\n   What theme should we explore next week? [Fifth Choice]  \\\n0                                  Woman-led Westerns       \n1                                              TEENS!       \n2                                         Heist Movie       \n3                                                 NaN       \n4                                  Woman-led Westerns       \n5                                                 NaN       \n6                                    Set on an island       \n7                                       Steven Seagal       \n8                             Budget under $1 million       \n9                                                 NaN       \n10                              No Theme/Free-for-all       \n11                                                NaN       \n\n   What theme should we explore next week? [Sixth Choice]  \\\n0                                              TEENS!       \n1                                    Set on an island       \n2                             Budget under $1 million       \n3                                                 NaN       \n4                                       Steven Seagal       \n5                                                 NaN       \n6                                       Steven Seagal       \n7                                  Woman-led Westerns       \n8                                       Steven Seagal       \n9                                                 NaN       \n10                                                NaN       \n11                                                NaN       \n\n   What theme should we explore next week? [Seventh Choice]  \n0                             Budget under $1 million        \n1                             Budget under $1 million        \n2                                       Steven Seagal        \n3                                                 NaN        \n4                               No Theme/Free-for-all        \n5                                                 NaN        \n6                               No Theme/Free-for-all        \n7                               No Theme/Free-for-all        \n8                               No Theme/Free-for-all        \n9                                                 NaN        \n10                                                NaN        \n11                                                NaN        ",
      "text/html": "<div>\n<style scoped>\n    .dataframe tbody tr th:only-of-type {\n        vertical-align: middle;\n    }\n\n    .dataframe tbody tr th {\n        vertical-align: top;\n    }\n\n    .dataframe thead th {\n        text-align: right;\n    }\n</style>\n<table border=\"1\" class=\"dataframe\">\n  <thead>\n    <tr style=\"text-align: right;\">\n      <th></th>\n      <th>Timestamp</th>\n      <th>Rank your movie choices. You don't have to do a full ranking. [First Choice]</th>\n      <th>Rank your movie choices. You don't have to do a full ranking. [Second Choice]</th>\n      <th>Rank your movie choices. You don't have to do a full ranking. [Third Choice]</th>\n      <th>Rank your movie choices. You don't have to do a full ranking. [Fourth Choice]</th>\n      <th>Rank your movie choices. You don't have to do a full ranking. [Fifth Choice]</th>\n      <th>Rank your movie choices. You don't have to do a full ranking. [Sixth Choice]</th>\n      <th>What theme should we explore next week? [First Choice]</th>\n      <th>What theme should we explore next week? [Second Choice]</th>\n      <th>What theme should we explore next week? [Third Choice]</th>\n      <th>What theme should we explore next week? [Fourth Choice]</th>\n      <th>What theme should we explore next week? [Fifth Choice]</th>\n      <th>What theme should we explore next week? [Sixth Choice]</th>\n      <th>What theme should we explore next week? [Seventh Choice]</th>\n    </tr>\n  </thead>\n  <tbody>\n    <tr>\n      <th>0</th>\n      <td>6/25/2020 20:01:08</td>\n      <td>End of Days</td>\n      <td>Faust</td>\n      <td>Angel Heart</td>\n      <td>Häxan</td>\n      <td>Simon of the Desert</td>\n      <td>Petey Wheatstraw</td>\n      <td>Heist Movie</td>\n      <td>Set on an island</td>\n      <td>No Theme/Free-for-all</td>\n      <td>Steven Seagal</td>\n      <td>Woman-led Westerns</td>\n      <td>TEENS!</td>\n      <td>Budget under $1 million</td>\n    </tr>\n    <tr>\n      <th>1</th>\n      <td>6/25/2020 20:05:55</td>\n      <td>End of Days</td>\n      <td>Faust</td>\n      <td>Angel Heart</td>\n      <td>Petey Wheatstraw</td>\n      <td>Häxan</td>\n      <td>Simon of the Desert</td>\n      <td>Steven Seagal</td>\n      <td>Heist Movie</td>\n      <td>Woman-led Westerns</td>\n      <td>No Theme/Free-for-all</td>\n      <td>TEENS!</td>\n      <td>Set on an island</td>\n      <td>Budget under $1 million</td>\n    </tr>\n    <tr>\n      <th>2</th>\n      <td>6/25/2020 20:20:04</td>\n      <td>Faust</td>\n      <td>Simon of the Desert</td>\n      <td>Häxan</td>\n      <td>Angel Heart</td>\n      <td>Petey Wheatstraw</td>\n      <td>End of Days</td>\n      <td>No Theme/Free-for-all</td>\n      <td>Woman-led Westerns</td>\n      <td>Set on an island</td>\n      <td>TEENS!</td>\n      <td>Heist Movie</td>\n      <td>Budget under $1 million</td>\n      <td>Steven Seagal</td>\n    </tr>\n    <tr>\n      <th>3</th>\n      <td>6/25/2020 20:28:10</td>\n      <td>Petey Wheatstraw</td>\n      <td>Angel Heart</td>\n      <td>Faust</td>\n      <td>NaN</td>\n      <td>NaN</td>\n      <td>NaN</td>\n      <td>TEENS!</td>\n      <td>Set on an island</td>\n      <td>Budget under $1 million</td>\n      <td>NaN</td>\n      <td>NaN</td>\n      <td>NaN</td>\n      <td>NaN</td>\n    </tr>\n    <tr>\n      <th>4</th>\n      <td>6/25/2020 20:55:12</td>\n      <td>Faust</td>\n      <td>Häxan</td>\n      <td>Simon of the Desert</td>\n      <td>Angel Heart</td>\n      <td>Petey Wheatstraw</td>\n      <td>End of Days</td>\n      <td>Budget under $1 million</td>\n      <td>Heist Movie</td>\n      <td>Set on an island</td>\n      <td>TEENS!</td>\n      <td>Woman-led Westerns</td>\n      <td>Steven Seagal</td>\n      <td>No Theme/Free-for-all</td>\n    </tr>\n    <tr>\n      <th>5</th>\n      <td>6/25/2020 21:11:17</td>\n      <td>Häxan</td>\n      <td>Faust</td>\n      <td>Simon of the Desert</td>\n      <td>Angel Heart</td>\n      <td>Petey Wheatstraw</td>\n      <td>End of Days</td>\n      <td>TEENS!</td>\n      <td>Heist Movie</td>\n      <td>Budget under $1 million</td>\n      <td>Steven Seagal</td>\n      <td>NaN</td>\n      <td>NaN</td>\n      <td>NaN</td>\n    </tr>\n    <tr>\n      <th>6</th>\n      <td>6/26/2020 7:20:06</td>\n      <td>Angel Heart</td>\n      <td>Petey Wheatstraw</td>\n      <td>Simon of the Desert</td>\n      <td>Faust</td>\n      <td>NaN</td>\n      <td>NaN</td>\n      <td>Budget under $1 million</td>\n      <td>Woman-led Westerns</td>\n      <td>Heist Movie</td>\n      <td>TEENS!</td>\n      <td>Set on an island</td>\n      <td>Steven Seagal</td>\n      <td>No Theme/Free-for-all</td>\n    </tr>\n    <tr>\n      <th>7</th>\n      <td>6/26/2020 8:45:28</td>\n      <td>End of Days</td>\n      <td>Simon of the Desert</td>\n      <td>Petey Wheatstraw</td>\n      <td>Angel Heart</td>\n      <td>Häxan</td>\n      <td>Faust</td>\n      <td>Budget under $1 million</td>\n      <td>TEENS!</td>\n      <td>Set on an island</td>\n      <td>Heist Movie</td>\n      <td>Steven Seagal</td>\n      <td>Woman-led Westerns</td>\n      <td>No Theme/Free-for-all</td>\n    </tr>\n    <tr>\n      <th>8</th>\n      <td>6/26/2020 9:52:15</td>\n      <td>Angel Heart</td>\n      <td>Petey Wheatstraw</td>\n      <td>Faust</td>\n      <td>End of Days</td>\n      <td>Simon of the Desert</td>\n      <td>Häxan</td>\n      <td>Woman-led Westerns</td>\n      <td>Set on an island</td>\n      <td>TEENS!</td>\n      <td>Heist Movie</td>\n      <td>Budget under $1 million</td>\n      <td>Steven Seagal</td>\n      <td>No Theme/Free-for-all</td>\n    </tr>\n    <tr>\n      <th>9</th>\n      <td>6/27/2020 18:00:08</td>\n      <td>Simon of the Desert</td>\n      <td>Faust</td>\n      <td>Häxan</td>\n      <td>NaN</td>\n      <td>NaN</td>\n      <td>NaN</td>\n      <td>TEENS!</td>\n      <td>Budget under $1 million</td>\n      <td>Set on an island</td>\n      <td>NaN</td>\n      <td>NaN</td>\n      <td>NaN</td>\n      <td>NaN</td>\n    </tr>\n    <tr>\n      <th>10</th>\n      <td>6/27/2020 22:07:32</td>\n      <td>End of Days</td>\n      <td>Angel Heart</td>\n      <td>Simon of the Desert</td>\n      <td>NaN</td>\n      <td>NaN</td>\n      <td>NaN</td>\n      <td>TEENS!</td>\n      <td>Heist Movie</td>\n      <td>Budget under $1 million</td>\n      <td>Set on an island</td>\n      <td>No Theme/Free-for-all</td>\n      <td>NaN</td>\n      <td>NaN</td>\n    </tr>\n    <tr>\n      <th>11</th>\n      <td>6/27/2020 22:07:38</td>\n      <td>End of Days</td>\n      <td>NaN</td>\n      <td>NaN</td>\n      <td>NaN</td>\n      <td>NaN</td>\n      <td>NaN</td>\n      <td>TEENS!</td>\n      <td>No Theme/Free-for-all</td>\n      <td>NaN</td>\n      <td>NaN</td>\n      <td>NaN</td>\n      <td>NaN</td>\n      <td>NaN</td>\n    </tr>\n  </tbody>\n</table>\n</div>"
     },
     "execution_count": 2,
     "metadata": {},
     "output_type": "execute_result"
    }
   ],
   "source": [
    "df = pd.read_csv(Path('./data/20200629.csv').resolve())\n",
    "df"
   ]
  },
  {
   "cell_type": "code",
   "execution_count": 3,
   "metadata": {},
   "outputs": [],
   "source": [
    "just_ballots = df.loc[:, df.columns.str.startswith('Rank')]\n",
    "next_week = df.loc[:, df.columns.str.startswith('What')]"
   ]
  },
  {
   "cell_type": "code",
   "execution_count": 4,
   "metadata": {},
   "outputs": [
    {
     "data": {
      "text/plain": "array(['End of Days', 'Faust', 'Angel Heart', 'Häxan',\n       'Simon of the Desert', 'Petey Wheatstraw'], dtype=object)"
     },
     "execution_count": 4,
     "metadata": {},
     "output_type": "execute_result"
    }
   ],
   "source": [
    "submissions = just_ballots.loc[just_ballots.notna().all(axis=1).idxmax(),:].values\n",
    "submissions"
   ]
  },
  {
   "cell_type": "code",
   "execution_count": 5,
   "metadata": {},
   "outputs": [],
   "source": [
    "submission_dict = {submission: pyrankvote.Candidate(submission) for submission in submissions}"
   ]
  },
  {
   "cell_type": "code",
   "execution_count": 6,
   "metadata": {},
   "outputs": [],
   "source": [
    "balloted = just_ballots.applymap(lambda x: submission_dict[x] if isinstance(x, str) else x)"
   ]
  },
  {
   "cell_type": "code",
   "execution_count": 7,
   "metadata": {},
   "outputs": [
    {
     "data": {
      "text/plain": "{'End of Days': <Candidate('End of Days')>,\n 'Faust': <Candidate('Faust')>,\n 'Angel Heart': <Candidate('Angel Heart')>,\n 'Häxan': <Candidate('Häxan')>,\n 'Simon of the Desert': <Candidate('Simon of the Desert')>,\n 'Petey Wheatstraw': <Candidate('Petey Wheatstraw')>}"
     },
     "execution_count": 7,
     "metadata": {},
     "output_type": "execute_result"
    }
   ],
   "source": [
    "submission_dict"
   ]
  },
  {
   "cell_type": "code",
   "execution_count": 8,
   "metadata": {},
   "outputs": [],
   "source": [
    "ballots = []\n",
    "for ballot in balloted.itertuples():\n",
    "    ballots.append(pyrankvote.Ballot(ranked_candidates=[b for b in ballot if isinstance(b, pyrankvote.Candidate)]))"
   ]
  },
  {
   "cell_type": "code",
   "execution_count": 9,
   "metadata": {},
   "outputs": [
    {
     "data": {
      "text/plain": "[<Ballot(End of Days, Faust, Angel Heart, Häxan, Simon of the Desert, Petey Wheatstraw)>,\n <Ballot(End of Days, Faust, Angel Heart, Petey Wheatstraw, Häxan, Simon of the Desert)>,\n <Ballot(Faust, Simon of the Desert, Häxan, Angel Heart, Petey Wheatstraw, End of Days)>,\n <Ballot(Petey Wheatstraw, Angel Heart, Faust)>,\n <Ballot(Faust, Häxan, Simon of the Desert, Angel Heart, Petey Wheatstraw, End of Days)>,\n <Ballot(Häxan, Faust, Simon of the Desert, Angel Heart, Petey Wheatstraw, End of Days)>,\n <Ballot(Angel Heart, Petey Wheatstraw, Simon of the Desert, Faust)>,\n <Ballot(End of Days, Simon of the Desert, Petey Wheatstraw, Angel Heart, Häxan, Faust)>,\n <Ballot(Angel Heart, Petey Wheatstraw, Faust, End of Days, Simon of the Desert, Häxan)>,\n <Ballot(Simon of the Desert, Faust, Häxan)>,\n <Ballot(End of Days, Angel Heart, Simon of the Desert)>,\n <Ballot(End of Days)>]"
     },
     "execution_count": 9,
     "metadata": {},
     "output_type": "execute_result"
    }
   ],
   "source": [
    "ballots"
   ]
  },
  {
   "cell_type": "code",
   "execution_count": 10,
   "metadata": {},
   "outputs": [],
   "source": [
    "election_result = pyrankvote.instant_runoff_voting(submission_dict.values(), ballots,)"
   ]
  },
  {
   "cell_type": "code",
   "execution_count": 11,
   "metadata": {},
   "outputs": [
    {
     "name": "stdout",
     "output_type": "stream",
     "text": [
      "ROUND 1\n",
      "Candidate              Votes  Status\n",
      "-------------------  -------  --------\n",
      "End of Days                5  Hopeful\n",
      "Faust                      2  Hopeful\n",
      "Angel Heart                2  Hopeful\n",
      "Simon of the Desert        1  Hopeful\n",
      "Petey Wheatstraw           1  Hopeful\n",
      "Häxan                      1  Rejected\n",
      "\n",
      "ROUND 2\n",
      "Candidate              Votes  Status\n",
      "-------------------  -------  --------\n",
      "End of Days                5  Hopeful\n",
      "Faust                      3  Hopeful\n",
      "Angel Heart                2  Hopeful\n",
      "Simon of the Desert        1  Rejected\n",
      "Petey Wheatstraw           1  Rejected\n",
      "Häxan                      0  Rejected\n",
      "\n",
      "ROUND 3\n",
      "Candidate              Votes  Status\n",
      "-------------------  -------  --------\n",
      "End of Days                5  Hopeful\n",
      "Faust                      4  Hopeful\n",
      "Angel Heart                3  Rejected\n",
      "Simon of the Desert        0  Rejected\n",
      "Petey Wheatstraw           0  Rejected\n",
      "Häxan                      0  Rejected\n",
      "\n",
      "FINAL RESULT\n",
      "Candidate              Votes  Status\n",
      "-------------------  -------  --------\n",
      "Faust                      7  Elected\n",
      "End of Days                5  Rejected\n",
      "Angel Heart                0  Rejected\n",
      "Simon of the Desert        0  Rejected\n",
      "Petey Wheatstraw           0  Rejected\n",
      "Häxan                      0  Rejected\n",
      "\n"
     ]
    }
   ],
   "source": [
    "print(election_result)"
   ]
  },
  {
   "cell_type": "code",
   "execution_count": 12,
   "metadata": {},
   "outputs": [
    {
     "name": "stdout",
     "output_type": "stream",
     "text": [
      "ROUND 1\n",
      "Candidate                  Votes  Status\n",
      "-----------------------  -------  --------\n",
      "TEENS!                         5  Hopeful\n",
      "Budget under $1 million        3  Hopeful\n",
      "Heist Movie                    1  Hopeful\n",
      "Woman-led Westerns             1  Hopeful\n",
      "No Theme/Free-for-all          1  Hopeful\n",
      "Steven Seagal                  1  Rejected\n",
      "Set on an island               0  Rejected\n",
      "\n",
      "ROUND 2\n",
      "Candidate                  Votes  Status\n",
      "-----------------------  -------  --------\n",
      "TEENS!                         5  Hopeful\n",
      "Budget under $1 million        3  Hopeful\n",
      "Heist Movie                    2  Hopeful\n",
      "Woman-led Westerns             1  Rejected\n",
      "No Theme/Free-for-all          1  Rejected\n",
      "Steven Seagal                  0  Rejected\n",
      "Set on an island               0  Rejected\n",
      "\n",
      "FINAL RESULT\n",
      "Candidate                  Votes  Status\n",
      "-----------------------  -------  --------\n",
      "TEENS!                         7  Elected\n",
      "Budget under $1 million        3  Rejected\n",
      "Heist Movie                    2  Rejected\n",
      "Woman-led Westerns             0  Rejected\n",
      "No Theme/Free-for-all          0  Rejected\n",
      "Steven Seagal                  0  Rejected\n",
      "Set on an island               0  Rejected\n",
      "\n"
     ]
    }
   ],
   "source": [
    "submissions = next_week.loc[next_week.notna().all(axis=1).idxmax(),:].values\n",
    "submission_dict = {submission: pyrankvote.Candidate(submission) for submission in submissions}\n",
    "balloted = next_week.applymap(lambda x: submission_dict[x] if isinstance(x, str) else x)\n",
    "ballots = []\n",
    "for ballot in balloted.itertuples():\n",
    "    ballots.append(pyrankvote.Ballot(ranked_candidates=[b for b in ballot if isinstance(b, pyrankvote.Candidate)]))\n",
    "print(pyrankvote.instant_runoff_voting(submission_dict.values(), ballots,))"
   ]
  }
 ],
 "metadata": {
  "kernelspec": {
   "display_name": "Python 3",
   "language": "python",
   "name": "python3"
  },
  "language_info": {
   "codemirror_mode": {
    "name": "ipython",
    "version": 3
   },
   "file_extension": ".py",
   "mimetype": "text/x-python",
   "name": "python",
   "nbconvert_exporter": "python",
   "pygments_lexer": "ipython3",
   "version": "3.7.4"
  }
 },
 "nbformat": 4,
 "nbformat_minor": 2
}