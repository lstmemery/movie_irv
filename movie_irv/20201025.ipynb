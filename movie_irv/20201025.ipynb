{
 "cells": [
  {
   "cell_type": "code",
   "execution_count": 1,
   "metadata": {},
   "outputs": [],
   "source": [
    "import pandas as pd\n",
    "import pyrankvote\n",
    "from pathlib import Path\n",
    "from random import seed\n",
    "seed(0)"
   ]
  },
  {
   "cell_type": "code",
   "execution_count": 2,
   "metadata": {},
   "outputs": [
    {
     "data": {
      "text/plain": "             Timestamp  \\\n0  10/20/2020 17:33:32   \n1  10/20/2020 17:48:23   \n2  10/20/2020 17:51:34   \n3  10/20/2020 18:07:53   \n4  10/20/2020 18:08:57   \n5  10/20/2020 22:11:49   \n6   10/21/2020 8:00:59   \n\n  Rank your movie choices. You don't have to do a full ranking. [First Choice]  \\\n0                                                NaN                             \n1                                  The Ascent (1976)                             \n2                                  The Ascent (1976)                             \n3                               For Eyes Only (1963)                             \n4                               For Eyes Only (1963)                             \n5                                 The Witness (1969)                             \n6             Valerie and her Week of Wonders (1970)                             \n\n  Rank your movie choices. You don't have to do a full ranking. [Second Choice]  \\\n0                                                NaN                              \n1                              Heart of a Dog (1988)                              \n2                                 The Witness (1969)                              \n3                                  The Ascent (1976)                              \n4                                  The Ascent (1976)                              \n5                                  The Ascent (1976)                              \n6                               For Eyes Only (1963)                              \n\n  Rank your movie choices. You don't have to do a full ranking. [Third Choice]  \\\n0                                                NaN                             \n1             Valerie and her Week of Wonders (1970)                             \n2             Valerie and her Week of Wonders (1970)                             \n3             Valerie and her Week of Wonders (1970)                             \n4             Valerie and her Week of Wonders (1970)                             \n5                              Heart of a Dog (1988)                             \n6                                  The Ascent (1976)                             \n\n  Rank your movie choices. You don't have to do a full ranking. [Fourth Choice]  \\\n0                                                NaN                              \n1                                 The Witness (1969)                              \n2                              Heart of a Dog (1988)                              \n3                                                NaN                              \n4                                 The Witness (1969)                              \n5             Valerie and her Week of Wonders (1970)                              \n6                              Heart of a Dog (1988)                              \n\n  Rank your movie choices. You don't have to do a full ranking. [Fifth Choice]  \\\n0                                                NaN                             \n1                               For Eyes Only (1963)                             \n2                               For Eyes Only (1963)                             \n3                                                NaN                             \n4                              Heart of a Dog (1988)                             \n5                               For Eyes Only (1963)                             \n6                                 The Witness (1969)                             \n\n  What theme should we explore next week? [First Choice]  \\\n0                              OOPS ALL NICOLAS CAGE       \n1                                 HALLOWEEN HANGOVER       \n2                              OOPS ALL NICOLAS CAGE       \n3                                 FROM SOUTH AMERICA       \n4                              OOPS ALL NICOLAS CAGE       \n5                  FUCKING VAMPIRES/VAMPIRES FUCKING       \n6                              OOPS ALL NICOLAS CAGE       \n\n  What theme should we explore next week? [Second Choice]  \\\n0                           PERVERTS: FRIEND OF FOE?        \n1                           PERVERTS: FRIEND OF FOE?        \n2                           PERVERTS: FRIEND OF FOE?        \n3                              OOPS ALL NICOLAS CAGE        \n4                           PERVERTS: FRIEND OF FOE?        \n5                           PERVERTS: FRIEND OF FOE?        \n6                           PERVERTS: FRIEND OF FOE?        \n\n  What theme should we explore next week? [Third Choice]  \\\n0                                                NaN       \n1                                 FROM SOUTH AMERICA       \n2                                 HALLOWEEN HANGOVER       \n3                           PERVERTS: FRIEND OF FOE?       \n4                                 HALLOWEEN HANGOVER       \n5                              OOPS ALL NICOLAS CAGE       \n6                                 HALLOWEEN HANGOVER       \n\n  What theme should we explore next week? [Fourth Choice]  \\\n0                                                NaN        \n1                  FUCKING VAMPIRES/VAMPIRES FUCKING        \n2                  FUCKING VAMPIRES/VAMPIRES FUCKING        \n3                  FUCKING VAMPIRES/VAMPIRES FUCKING        \n4                  FUCKING VAMPIRES/VAMPIRES FUCKING        \n5                                 HALLOWEEN HANGOVER        \n6                  FUCKING VAMPIRES/VAMPIRES FUCKING        \n\n  What theme should we explore next week? [Fifth Choice]  \\\n0                                                NaN       \n1                              OOPS ALL NICOLAS CAGE       \n2                                 FROM SOUTH AMERICA       \n3                                 HALLOWEEN HANGOVER       \n4                                 FROM SOUTH AMERICA       \n5                                 FROM SOUTH AMERICA       \n6                                 FROM SOUTH AMERICA       \n\n  What theme should we explore next week? [Sixth Choice]  \n0                                                NaN      \n1                              No Theme/Free-for-all      \n2                              No Theme/Free-for-all      \n3                                                NaN      \n4                              No Theme/Free-for-all      \n5                              No Theme/Free-for-all      \n6                                                NaN      ",
      "text/html": "<div>\n<style scoped>\n    .dataframe tbody tr th:only-of-type {\n        vertical-align: middle;\n    }\n\n    .dataframe tbody tr th {\n        vertical-align: top;\n    }\n\n    .dataframe thead th {\n        text-align: right;\n    }\n</style>\n<table border=\"1\" class=\"dataframe\">\n  <thead>\n    <tr style=\"text-align: right;\">\n      <th></th>\n      <th>Timestamp</th>\n      <th>Rank your movie choices. You don't have to do a full ranking. [First Choice]</th>\n      <th>Rank your movie choices. You don't have to do a full ranking. [Second Choice]</th>\n      <th>Rank your movie choices. You don't have to do a full ranking. [Third Choice]</th>\n      <th>Rank your movie choices. You don't have to do a full ranking. [Fourth Choice]</th>\n      <th>Rank your movie choices. You don't have to do a full ranking. [Fifth Choice]</th>\n      <th>What theme should we explore next week? [First Choice]</th>\n      <th>What theme should we explore next week? [Second Choice]</th>\n      <th>What theme should we explore next week? [Third Choice]</th>\n      <th>What theme should we explore next week? [Fourth Choice]</th>\n      <th>What theme should we explore next week? [Fifth Choice]</th>\n      <th>What theme should we explore next week? [Sixth Choice]</th>\n    </tr>\n  </thead>\n  <tbody>\n    <tr>\n      <th>0</th>\n      <td>10/20/2020 17:33:32</td>\n      <td>NaN</td>\n      <td>NaN</td>\n      <td>NaN</td>\n      <td>NaN</td>\n      <td>NaN</td>\n      <td>OOPS ALL NICOLAS CAGE</td>\n      <td>PERVERTS: FRIEND OF FOE?</td>\n      <td>NaN</td>\n      <td>NaN</td>\n      <td>NaN</td>\n      <td>NaN</td>\n    </tr>\n    <tr>\n      <th>1</th>\n      <td>10/20/2020 17:48:23</td>\n      <td>The Ascent (1976)</td>\n      <td>Heart of a Dog (1988)</td>\n      <td>Valerie and her Week of Wonders (1970)</td>\n      <td>The Witness (1969)</td>\n      <td>For Eyes Only (1963)</td>\n      <td>HALLOWEEN HANGOVER</td>\n      <td>PERVERTS: FRIEND OF FOE?</td>\n      <td>FROM SOUTH AMERICA</td>\n      <td>FUCKING VAMPIRES/VAMPIRES FUCKING</td>\n      <td>OOPS ALL NICOLAS CAGE</td>\n      <td>No Theme/Free-for-all</td>\n    </tr>\n    <tr>\n      <th>2</th>\n      <td>10/20/2020 17:51:34</td>\n      <td>The Ascent (1976)</td>\n      <td>The Witness (1969)</td>\n      <td>Valerie and her Week of Wonders (1970)</td>\n      <td>Heart of a Dog (1988)</td>\n      <td>For Eyes Only (1963)</td>\n      <td>OOPS ALL NICOLAS CAGE</td>\n      <td>PERVERTS: FRIEND OF FOE?</td>\n      <td>HALLOWEEN HANGOVER</td>\n      <td>FUCKING VAMPIRES/VAMPIRES FUCKING</td>\n      <td>FROM SOUTH AMERICA</td>\n      <td>No Theme/Free-for-all</td>\n    </tr>\n    <tr>\n      <th>3</th>\n      <td>10/20/2020 18:07:53</td>\n      <td>For Eyes Only (1963)</td>\n      <td>The Ascent (1976)</td>\n      <td>Valerie and her Week of Wonders (1970)</td>\n      <td>NaN</td>\n      <td>NaN</td>\n      <td>FROM SOUTH AMERICA</td>\n      <td>OOPS ALL NICOLAS CAGE</td>\n      <td>PERVERTS: FRIEND OF FOE?</td>\n      <td>FUCKING VAMPIRES/VAMPIRES FUCKING</td>\n      <td>HALLOWEEN HANGOVER</td>\n      <td>NaN</td>\n    </tr>\n    <tr>\n      <th>4</th>\n      <td>10/20/2020 18:08:57</td>\n      <td>For Eyes Only (1963)</td>\n      <td>The Ascent (1976)</td>\n      <td>Valerie and her Week of Wonders (1970)</td>\n      <td>The Witness (1969)</td>\n      <td>Heart of a Dog (1988)</td>\n      <td>OOPS ALL NICOLAS CAGE</td>\n      <td>PERVERTS: FRIEND OF FOE?</td>\n      <td>HALLOWEEN HANGOVER</td>\n      <td>FUCKING VAMPIRES/VAMPIRES FUCKING</td>\n      <td>FROM SOUTH AMERICA</td>\n      <td>No Theme/Free-for-all</td>\n    </tr>\n    <tr>\n      <th>5</th>\n      <td>10/20/2020 22:11:49</td>\n      <td>The Witness (1969)</td>\n      <td>The Ascent (1976)</td>\n      <td>Heart of a Dog (1988)</td>\n      <td>Valerie and her Week of Wonders (1970)</td>\n      <td>For Eyes Only (1963)</td>\n      <td>FUCKING VAMPIRES/VAMPIRES FUCKING</td>\n      <td>PERVERTS: FRIEND OF FOE?</td>\n      <td>OOPS ALL NICOLAS CAGE</td>\n      <td>HALLOWEEN HANGOVER</td>\n      <td>FROM SOUTH AMERICA</td>\n      <td>No Theme/Free-for-all</td>\n    </tr>\n    <tr>\n      <th>6</th>\n      <td>10/21/2020 8:00:59</td>\n      <td>Valerie and her Week of Wonders (1970)</td>\n      <td>For Eyes Only (1963)</td>\n      <td>The Ascent (1976)</td>\n      <td>Heart of a Dog (1988)</td>\n      <td>The Witness (1969)</td>\n      <td>OOPS ALL NICOLAS CAGE</td>\n      <td>PERVERTS: FRIEND OF FOE?</td>\n      <td>HALLOWEEN HANGOVER</td>\n      <td>FUCKING VAMPIRES/VAMPIRES FUCKING</td>\n      <td>FROM SOUTH AMERICA</td>\n      <td>NaN</td>\n    </tr>\n  </tbody>\n</table>\n</div>"
     },
     "execution_count": 2,
     "metadata": {},
     "output_type": "execute_result"
    }
   ],
   "source": [
    "df = pd.read_csv(Path('./data/20201025.csv').resolve())\n",
    "df"
   ]
  },
  {
   "cell_type": "code",
   "execution_count": 3,
   "metadata": {},
   "outputs": [],
   "source": [
    "just_ballots = df.loc[:, df.columns.str.startswith('Rank')]\n",
    "next_week = df.loc[:, df.columns.str.startswith('What')]"
   ]
  },
  {
   "cell_type": "code",
   "execution_count": 4,
   "metadata": {},
   "outputs": [
    {
     "data": {
      "text/plain": "array(['The Ascent (1976)', 'Heart of a Dog (1988)',\n       'Valerie and her Week of Wonders (1970)', 'The Witness (1969)',\n       'For Eyes Only (1963)'], dtype=object)"
     },
     "execution_count": 4,
     "metadata": {},
     "output_type": "execute_result"
    }
   ],
   "source": [
    "submissions = just_ballots.loc[just_ballots.notna().all(axis=1).idxmax(),:].values\n",
    "submissions"
   ]
  },
  {
   "cell_type": "code",
   "execution_count": 5,
   "metadata": {},
   "outputs": [],
   "source": [
    "submission_dict = {submission: pyrankvote.Candidate(submission) for submission in submissions}"
   ]
  },
  {
   "cell_type": "code",
   "execution_count": 6,
   "metadata": {},
   "outputs": [],
   "source": [
    "balloted = just_ballots.applymap(lambda x: submission_dict[x] if isinstance(x, str) else x)"
   ]
  },
  {
   "cell_type": "code",
   "execution_count": 7,
   "metadata": {},
   "outputs": [
    {
     "data": {
      "text/plain": "{'The Ascent (1976)': <Candidate('The Ascent (1976)')>,\n 'Heart of a Dog (1988)': <Candidate('Heart of a Dog (1988)')>,\n 'Valerie and her Week of Wonders (1970)': <Candidate('Valerie and her Week of Wonders (1970)')>,\n 'The Witness (1969)': <Candidate('The Witness (1969)')>,\n 'For Eyes Only (1963)': <Candidate('For Eyes Only (1963)')>}"
     },
     "execution_count": 7,
     "metadata": {},
     "output_type": "execute_result"
    }
   ],
   "source": [
    "submission_dict"
   ]
  },
  {
   "cell_type": "code",
   "execution_count": 8,
   "metadata": {},
   "outputs": [],
   "source": [
    "ballots = []\n",
    "for ballot in balloted.itertuples():\n",
    "    ballots.append(pyrankvote.Ballot(ranked_candidates=[b for b in ballot if isinstance(b, pyrankvote.Candidate)]))"
   ]
  },
  {
   "cell_type": "code",
   "execution_count": 9,
   "metadata": {},
   "outputs": [
    {
     "data": {
      "text/plain": "[<Ballot()>,\n <Ballot(The Ascent (1976), Heart of a Dog (1988), Valerie and her Week of Wonders (1970), The Witness (1969), For Eyes Only (1963))>,\n <Ballot(The Ascent (1976), The Witness (1969), Valerie and her Week of Wonders (1970), Heart of a Dog (1988), For Eyes Only (1963))>,\n <Ballot(For Eyes Only (1963), The Ascent (1976), Valerie and her Week of Wonders (1970))>,\n <Ballot(For Eyes Only (1963), The Ascent (1976), Valerie and her Week of Wonders (1970), The Witness (1969), Heart of a Dog (1988))>,\n <Ballot(The Witness (1969), The Ascent (1976), Heart of a Dog (1988), Valerie and her Week of Wonders (1970), For Eyes Only (1963))>,\n <Ballot(Valerie and her Week of Wonders (1970), For Eyes Only (1963), The Ascent (1976), Heart of a Dog (1988), The Witness (1969))>]"
     },
     "execution_count": 9,
     "metadata": {},
     "output_type": "execute_result"
    }
   ],
   "source": [
    "ballots"
   ]
  },
  {
   "cell_type": "code",
   "execution_count": 10,
   "metadata": {},
   "outputs": [],
   "source": [
    "election_result = pyrankvote.instant_runoff_voting(submission_dict.values(), ballots,)"
   ]
  },
  {
   "cell_type": "code",
   "execution_count": 11,
   "metadata": {},
   "outputs": [
    {
     "name": "stdout",
     "output_type": "stream",
     "text": [
      "ROUND 1\n",
      "Candidate                                 Votes  Status\n",
      "--------------------------------------  -------  --------\n",
      "The Ascent (1976)                             2  Hopeful\n",
      "For Eyes Only (1963)                          2  Hopeful\n",
      "The Witness (1969)                            1  Rejected\n",
      "Valerie and her Week of Wonders (1970)        1  Rejected\n",
      "Heart of a Dog (1988)                         0  Rejected\n",
      "Blank votes                                   1  Rejected\n",
      "\n",
      "FINAL RESULT\n",
      "Candidate                                 Votes  Status\n",
      "--------------------------------------  -------  --------\n",
      "The Ascent (1976)                             3  Elected\n",
      "For Eyes Only (1963)                          3  Rejected\n",
      "The Witness (1969)                            0  Rejected\n",
      "Valerie and her Week of Wonders (1970)        0  Rejected\n",
      "Heart of a Dog (1988)                         0  Rejected\n",
      "Blank votes                                   1  Rejected\n",
      "\n"
     ]
    }
   ],
   "source": [
    "print(election_result)"
   ]
  },
  {
   "cell_type": "code",
   "execution_count": 12,
   "metadata": {},
   "outputs": [
    {
     "name": "stdout",
     "output_type": "stream",
     "text": [
      "ROUND 1\n",
      "Candidate                            Votes  Status\n",
      "---------------------------------  -------  --------\n",
      "OOPS ALL NICOLAS CAGE                    4  Hopeful\n",
      "FROM SOUTH AMERICA                       1  Hopeful\n",
      "HALLOWEEN HANGOVER                       1  Rejected\n",
      "FUCKING VAMPIRES/VAMPIRES FUCKING        1  Rejected\n",
      "PERVERTS: FRIEND OF FOE?                 0  Rejected\n",
      "No Theme/Free-for-all                    0  Rejected\n",
      "\n",
      "FINAL RESULT\n",
      "Candidate                            Votes  Status\n",
      "---------------------------------  -------  --------\n",
      "OOPS ALL NICOLAS CAGE                    5  Elected\n",
      "FROM SOUTH AMERICA                       2  Rejected\n",
      "HALLOWEEN HANGOVER                       0  Rejected\n",
      "FUCKING VAMPIRES/VAMPIRES FUCKING        0  Rejected\n",
      "PERVERTS: FRIEND OF FOE?                 0  Rejected\n",
      "No Theme/Free-for-all                    0  Rejected\n",
      "\n"
     ]
    }
   ],
   "source": [
    "submissions = next_week.loc[next_week.notna().all(axis=1).idxmax(),:].values\n",
    "submission_dict = {submission: pyrankvote.Candidate(submission) for submission in submissions}\n",
    "balloted = next_week.applymap(lambda x: submission_dict[x] if isinstance(x, str) else x)\n",
    "ballots = []\n",
    "for ballot in balloted.itertuples():\n",
    "    ballots.append(pyrankvote.Ballot(ranked_candidates=[b for b in ballot if isinstance(b, pyrankvote.Candidate)]))\n",
    "print(pyrankvote.instant_runoff_voting(submission_dict.values(), ballots,))"
   ]
  }
 ],
 "metadata": {
  "kernelspec": {
   "display_name": "Python 3",
   "language": "python",
   "name": "python3"
  },
  "language_info": {
   "codemirror_mode": {
    "name": "ipython",
    "version": 3
   },
   "file_extension": ".py",
   "mimetype": "text/x-python",
   "name": "python",
   "nbconvert_exporter": "python",
   "pygments_lexer": "ipython3",
   "version": "3.7.4"
  }
 },
 "nbformat": 4,
 "nbformat_minor": 2
}