{
 "cells": [
  {
   "cell_type": "code",
   "execution_count": 1,
   "metadata": {},
   "outputs": [],
   "source": [
    "import pandas as pd\n",
    "import pyrankvote\n",
    "from pathlib import Path\n",
    "from random import seed\n",
    "seed(252)"
   ]
  },
  {
   "cell_type": "code",
   "execution_count": 2,
   "metadata": {},
   "outputs": [
    {
     "data": {
      "text/plain": "             Timestamp  \\\n0  13/04/2021 17:43:41   \n1  13/04/2021 17:46:09   \n2  13/04/2021 17:55:57   \n3  13/04/2021 19:02:47   \n4  15/04/2021 09:04:30   \n5  15/04/2021 15:13:28   \n\n  Rank your movie choices. You don't have to do a full ranking. [First Choice]  \\\n0                                  The Beyond (1981)                             \n1                        McCabe & Mrs. Miller (1971)                             \n2                                  Hard Times (1975)                             \n3                        McCabe & Mrs. Miller (1971)                             \n4                                  Hard Times (1975)                             \n5                                  The Beyond (1981)                             \n\n  Rank your movie choices. You don't have to do a full ranking. [Second Choice]  \\\n0                                  Hard Times (1975)                              \n1                                  Hard Times (1975)                              \n2                                                NaN                              \n3                                  Hard Times (1975)                              \n4                        McCabe & Mrs. Miller (1971)                              \n5                                  Hard Times (1975)                              \n\n  Rank your movie choices. You don't have to do a full ranking. [Third Choice]  \\\n0                        McCabe & Mrs. Miller (1971)                             \n1                                  The Beyond (1981)                             \n2                                                NaN                             \n3                                  The Beyond (1981)                             \n4                                  The Beyond (1981)                             \n5                        McCabe & Mrs. Miller (1971)                             \n\n  What theme should we explore next week? [First Choice]  \\\n0         YOUR FAVORITE DIRECTOR'S FAVORITE DIRECTOR       \n1         YOUR FAVORITE DIRECTOR'S FAVORITE DIRECTOR       \n2                                     ETHICAL INCELS       \n3                             I FUCKING HATE SCIENCE       \n4                          [Default to Nicolas Cage]       \n5                                     ETHICAL INCELS       \n\n  What theme should we explore next week? [Second Choice]  \\\n0                             I FUCKING HATE SCIENCE        \n1                                     ETHICAL INCELS        \n2                                                NaN        \n3         YOUR FAVORITE DIRECTOR'S FAVORITE DIRECTOR        \n4         YOUR FAVORITE DIRECTOR'S FAVORITE DIRECTOR        \n5                             I FUCKING HATE SCIENCE        \n\n  What theme should we explore next week? [Third Choice]  \\\n0                                     ETHICAL INCELS       \n1                             I FUCKING HATE SCIENCE       \n2                                                NaN       \n3                          [Default to Nicolas Cage]       \n4                             I FUCKING HATE SCIENCE       \n5         YOUR FAVORITE DIRECTOR'S FAVORITE DIRECTOR       \n\n  What theme should we explore next week? [Fourth Choice]  \n0                          [Default to Nicolas Cage]       \n1                          [Default to Nicolas Cage]       \n2                                                NaN       \n3                                                NaN       \n4                                     ETHICAL INCELS       \n5                          [Default to Nicolas Cage]       ",
      "text/html": "<div>\n<style scoped>\n    .dataframe tbody tr th:only-of-type {\n        vertical-align: middle;\n    }\n\n    .dataframe tbody tr th {\n        vertical-align: top;\n    }\n\n    .dataframe thead th {\n        text-align: right;\n    }\n</style>\n<table border=\"1\" class=\"dataframe\">\n  <thead>\n    <tr style=\"text-align: right;\">\n      <th></th>\n      <th>Timestamp</th>\n      <th>Rank your movie choices. You don't have to do a full ranking. [First Choice]</th>\n      <th>Rank your movie choices. You don't have to do a full ranking. [Second Choice]</th>\n      <th>Rank your movie choices. You don't have to do a full ranking. [Third Choice]</th>\n      <th>What theme should we explore next week? [First Choice]</th>\n      <th>What theme should we explore next week? [Second Choice]</th>\n      <th>What theme should we explore next week? [Third Choice]</th>\n      <th>What theme should we explore next week? [Fourth Choice]</th>\n    </tr>\n  </thead>\n  <tbody>\n    <tr>\n      <th>0</th>\n      <td>13/04/2021 17:43:41</td>\n      <td>The Beyond (1981)</td>\n      <td>Hard Times (1975)</td>\n      <td>McCabe &amp; Mrs. Miller (1971)</td>\n      <td>YOUR FAVORITE DIRECTOR'S FAVORITE DIRECTOR</td>\n      <td>I FUCKING HATE SCIENCE</td>\n      <td>ETHICAL INCELS</td>\n      <td>[Default to Nicolas Cage]</td>\n    </tr>\n    <tr>\n      <th>1</th>\n      <td>13/04/2021 17:46:09</td>\n      <td>McCabe &amp; Mrs. Miller (1971)</td>\n      <td>Hard Times (1975)</td>\n      <td>The Beyond (1981)</td>\n      <td>YOUR FAVORITE DIRECTOR'S FAVORITE DIRECTOR</td>\n      <td>ETHICAL INCELS</td>\n      <td>I FUCKING HATE SCIENCE</td>\n      <td>[Default to Nicolas Cage]</td>\n    </tr>\n    <tr>\n      <th>2</th>\n      <td>13/04/2021 17:55:57</td>\n      <td>Hard Times (1975)</td>\n      <td>NaN</td>\n      <td>NaN</td>\n      <td>ETHICAL INCELS</td>\n      <td>NaN</td>\n      <td>NaN</td>\n      <td>NaN</td>\n    </tr>\n    <tr>\n      <th>3</th>\n      <td>13/04/2021 19:02:47</td>\n      <td>McCabe &amp; Mrs. Miller (1971)</td>\n      <td>Hard Times (1975)</td>\n      <td>The Beyond (1981)</td>\n      <td>I FUCKING HATE SCIENCE</td>\n      <td>YOUR FAVORITE DIRECTOR'S FAVORITE DIRECTOR</td>\n      <td>[Default to Nicolas Cage]</td>\n      <td>NaN</td>\n    </tr>\n    <tr>\n      <th>4</th>\n      <td>15/04/2021 09:04:30</td>\n      <td>Hard Times (1975)</td>\n      <td>McCabe &amp; Mrs. Miller (1971)</td>\n      <td>The Beyond (1981)</td>\n      <td>[Default to Nicolas Cage]</td>\n      <td>YOUR FAVORITE DIRECTOR'S FAVORITE DIRECTOR</td>\n      <td>I FUCKING HATE SCIENCE</td>\n      <td>ETHICAL INCELS</td>\n    </tr>\n    <tr>\n      <th>5</th>\n      <td>15/04/2021 15:13:28</td>\n      <td>The Beyond (1981)</td>\n      <td>Hard Times (1975)</td>\n      <td>McCabe &amp; Mrs. Miller (1971)</td>\n      <td>ETHICAL INCELS</td>\n      <td>I FUCKING HATE SCIENCE</td>\n      <td>YOUR FAVORITE DIRECTOR'S FAVORITE DIRECTOR</td>\n      <td>[Default to Nicolas Cage]</td>\n    </tr>\n  </tbody>\n</table>\n</div>"
     },
     "execution_count": 2,
     "metadata": {},
     "output_type": "execute_result"
    }
   ],
   "source": [
    "df = pd.read_csv(Path('./data/20210417.csv').resolve())\n",
    "df"
   ]
  },
  {
   "cell_type": "code",
   "execution_count": 3,
   "metadata": {},
   "outputs": [],
   "source": [
    "just_ballots = df.loc[:, df.columns.str.startswith('Rank')]\n",
    "next_week = df.loc[:, df.columns.str.startswith('What')]"
   ]
  },
  {
   "cell_type": "code",
   "execution_count": 4,
   "metadata": {},
   "outputs": [
    {
     "data": {
      "text/plain": "array(['The Beyond (1981)', 'Hard Times (1975)',\n       'McCabe & Mrs. Miller (1971)'], dtype=object)"
     },
     "execution_count": 4,
     "metadata": {},
     "output_type": "execute_result"
    }
   ],
   "source": [
    "submissions = just_ballots.loc[just_ballots.notna().all(axis=1).idxmax(),:].values\n",
    "submissions"
   ]
  },
  {
   "cell_type": "code",
   "execution_count": 5,
   "metadata": {},
   "outputs": [],
   "source": [
    "submission_dict = {submission: pyrankvote.Candidate(submission) for submission in submissions}"
   ]
  },
  {
   "cell_type": "code",
   "execution_count": 6,
   "metadata": {},
   "outputs": [],
   "source": [
    "balloted = just_ballots.applymap(lambda x: submission_dict[x] if isinstance(x, str) else x)"
   ]
  },
  {
   "cell_type": "code",
   "execution_count": 7,
   "metadata": {},
   "outputs": [
    {
     "data": {
      "text/plain": "{'The Beyond (1981)': <Candidate('The Beyond (1981)')>,\n 'Hard Times (1975)': <Candidate('Hard Times (1975)')>,\n 'McCabe & Mrs. Miller (1971)': <Candidate('McCabe & Mrs. Miller (1971)')>}"
     },
     "execution_count": 7,
     "metadata": {},
     "output_type": "execute_result"
    }
   ],
   "source": [
    "submission_dict"
   ]
  },
  {
   "cell_type": "code",
   "execution_count": 8,
   "metadata": {},
   "outputs": [],
   "source": [
    "ballots = []\n",
    "for ballot in balloted.itertuples():\n",
    "    ballots.append(pyrankvote.Ballot(ranked_candidates=[b for b in ballot if isinstance(b, pyrankvote.Candidate)]))"
   ]
  },
  {
   "cell_type": "code",
   "execution_count": 9,
   "metadata": {},
   "outputs": [
    {
     "data": {
      "text/plain": "[<Ballot(The Beyond (1981), Hard Times (1975), McCabe & Mrs. Miller (1971))>,\n <Ballot(McCabe & Mrs. Miller (1971), Hard Times (1975), The Beyond (1981))>,\n <Ballot(Hard Times (1975))>,\n <Ballot(McCabe & Mrs. Miller (1971), Hard Times (1975), The Beyond (1981))>,\n <Ballot(Hard Times (1975), McCabe & Mrs. Miller (1971), The Beyond (1981))>,\n <Ballot(The Beyond (1981), Hard Times (1975), McCabe & Mrs. Miller (1971))>]"
     },
     "execution_count": 9,
     "metadata": {},
     "output_type": "execute_result"
    }
   ],
   "source": [
    "ballots"
   ]
  },
  {
   "cell_type": "code",
   "execution_count": 10,
   "metadata": {},
   "outputs": [],
   "source": [
    "election_result = pyrankvote.instant_runoff_voting(submission_dict.values(), ballots,)"
   ]
  },
  {
   "cell_type": "code",
   "execution_count": 11,
   "metadata": {},
   "outputs": [
    {
     "name": "stdout",
     "output_type": "stream",
     "text": [
      "ROUND 1\n",
      "Candidate                      Votes  Status\n",
      "---------------------------  -------  --------\n",
      "Hard Times (1975)                  2  Hopeful\n",
      "McCabe & Mrs. Miller (1971)        2  Hopeful\n",
      "The Beyond (1981)                  2  Rejected\n",
      "\n",
      "FINAL RESULT\n",
      "Candidate                      Votes  Status\n",
      "---------------------------  -------  --------\n",
      "Hard Times (1975)                  4  Elected\n",
      "McCabe & Mrs. Miller (1971)        2  Rejected\n",
      "The Beyond (1981)                  0  Rejected\n",
      "\n"
     ]
    }
   ],
   "source": [
    "print(election_result)"
   ]
  },
  {
   "cell_type": "code",
   "execution_count": 12,
   "metadata": {},
   "outputs": [
    {
     "name": "stdout",
     "output_type": "stream",
     "text": [
      "ROUND 1\n",
      "Candidate                                     Votes  Status\n",
      "------------------------------------------  -------  --------\n",
      "YOUR FAVORITE DIRECTOR'S FAVORITE DIRECTOR        2  Hopeful\n",
      "ETHICAL INCELS                                    2  Hopeful\n",
      "I FUCKING HATE SCIENCE                            1  Rejected\n",
      "[Default to Nicolas Cage]                         1  Rejected\n",
      "\n",
      "FINAL RESULT\n",
      "Candidate                                     Votes  Status\n",
      "------------------------------------------  -------  --------\n",
      "YOUR FAVORITE DIRECTOR'S FAVORITE DIRECTOR        4  Elected\n",
      "ETHICAL INCELS                                    2  Rejected\n",
      "I FUCKING HATE SCIENCE                            0  Rejected\n",
      "[Default to Nicolas Cage]                         0  Rejected\n",
      "\n"
     ]
    }
   ],
   "source": [
    "submissions = next_week.loc[next_week.notna().all(axis=1).idxmax(),:].values\n",
    "submission_dict = {submission: pyrankvote.Candidate(submission) for submission in submissions}\n",
    "balloted = next_week.applymap(lambda x: submission_dict[x] if isinstance(x, str) else x)\n",
    "ballots = []\n",
    "for ballot in balloted.itertuples():\n",
    "    ballots.append(pyrankvote.Ballot(ranked_candidates=[b for b in ballot if isinstance(b, pyrankvote.Candidate)]))\n",
    "print(pyrankvote.instant_runoff_voting(submission_dict.values(), ballots,))"
   ]
  }
 ],
 "metadata": {
  "kernelspec": {
   "display_name": "Python 3",
   "language": "python",
   "name": "python3"
  },
  "language_info": {
   "codemirror_mode": {
    "name": "ipython",
    "version": 3
   },
   "file_extension": ".py",
   "mimetype": "text/x-python",
   "name": "python",
   "nbconvert_exporter": "python",
   "pygments_lexer": "ipython3",
   "version": "3.7.4"
  }
 },
 "nbformat": 4,
 "nbformat_minor": 2
}