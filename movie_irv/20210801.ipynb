{
 "cells": [
  {
   "cell_type": "code",
   "execution_count": 1,
   "metadata": {},
   "outputs": [],
   "source": [
    "import pandas as pd\n",
    "import pyrankvote\n",
    "from pathlib import Path\n",
    "from random import seed\n",
    "seed(252)"
   ]
  },
  {
   "cell_type": "code",
   "execution_count": 2,
   "metadata": {},
   "outputs": [
    {
     "data": {
      "text/plain": "             Timestamp  \\\n0  28/07/2021 08:41:04   \n1  28/07/2021 08:45:22   \n2  28/07/2021 10:58:52   \n3  29/07/2021 15:26:29   \n\n  Rank your movie choices. You don't have to do a full ranking. [First Choice]  \\\n0                              Mommie Dearest (1981)                             \n1                             The Celebration (1998)                             \n2                    Honey, I Shrunk the Kids (1989)                             \n3                    Honey, I Shrunk the Kids (1989)                             \n\n  Rank your movie choices. You don't have to do a full ranking. [Second Choice]  \\\n0                             The Celebration (1998)                              \n1                              Mommie Dearest (1981)                              \n2                             The Celebration (1998)                              \n3                              Mommie Dearest (1981)                              \n\n  Rank your movie choices. You don't have to do a full ranking. [Third Choice]  \\\n0                    Honey, I Shrunk the Kids (1989)                             \n1                                                NaN                             \n2                              Mommie Dearest (1981)                             \n3                             The Celebration (1998)                             \n\n  What theme should we explore next week? [First Choice]  \\\n0                                            MEXICO.       \n1                                     CUMMING OF AGE       \n2                                            MEXICO.       \n3                                     CUMMING OF AGE       \n\n  What theme should we explore next week? [Second Choice]  \\\n0                          [Default to Nicolas Cage]        \n1                                      IN THE DESERT        \n2                                      IN THE DESERT        \n3                                            MEXICO.        \n\n  What theme should we explore next week? [Third Choice]  \\\n0                                      IN THE DESERT       \n1                                            MEXICO.       \n2                          [Default to Nicolas Cage]       \n3                                      IN THE DESERT       \n\n  What theme should we explore next week? [Fourth Choice]  \n0                                     CUMMING OF AGE       \n1                          [Default to Nicolas Cage]       \n2                                     CUMMING OF AGE       \n3                          [Default to Nicolas Cage]       ",
      "text/html": "<div>\n<style scoped>\n    .dataframe tbody tr th:only-of-type {\n        vertical-align: middle;\n    }\n\n    .dataframe tbody tr th {\n        vertical-align: top;\n    }\n\n    .dataframe thead th {\n        text-align: right;\n    }\n</style>\n<table border=\"1\" class=\"dataframe\">\n  <thead>\n    <tr style=\"text-align: right;\">\n      <th></th>\n      <th>Timestamp</th>\n      <th>Rank your movie choices. You don't have to do a full ranking. [First Choice]</th>\n      <th>Rank your movie choices. You don't have to do a full ranking. [Second Choice]</th>\n      <th>Rank your movie choices. You don't have to do a full ranking. [Third Choice]</th>\n      <th>What theme should we explore next week? [First Choice]</th>\n      <th>What theme should we explore next week? [Second Choice]</th>\n      <th>What theme should we explore next week? [Third Choice]</th>\n      <th>What theme should we explore next week? [Fourth Choice]</th>\n    </tr>\n  </thead>\n  <tbody>\n    <tr>\n      <th>0</th>\n      <td>28/07/2021 08:41:04</td>\n      <td>Mommie Dearest (1981)</td>\n      <td>The Celebration (1998)</td>\n      <td>Honey, I Shrunk the Kids (1989)</td>\n      <td>MEXICO.</td>\n      <td>[Default to Nicolas Cage]</td>\n      <td>IN THE DESERT</td>\n      <td>CUMMING OF AGE</td>\n    </tr>\n    <tr>\n      <th>1</th>\n      <td>28/07/2021 08:45:22</td>\n      <td>The Celebration (1998)</td>\n      <td>Mommie Dearest (1981)</td>\n      <td>NaN</td>\n      <td>CUMMING OF AGE</td>\n      <td>IN THE DESERT</td>\n      <td>MEXICO.</td>\n      <td>[Default to Nicolas Cage]</td>\n    </tr>\n    <tr>\n      <th>2</th>\n      <td>28/07/2021 10:58:52</td>\n      <td>Honey, I Shrunk the Kids (1989)</td>\n      <td>The Celebration (1998)</td>\n      <td>Mommie Dearest (1981)</td>\n      <td>MEXICO.</td>\n      <td>IN THE DESERT</td>\n      <td>[Default to Nicolas Cage]</td>\n      <td>CUMMING OF AGE</td>\n    </tr>\n    <tr>\n      <th>3</th>\n      <td>29/07/2021 15:26:29</td>\n      <td>Honey, I Shrunk the Kids (1989)</td>\n      <td>Mommie Dearest (1981)</td>\n      <td>The Celebration (1998)</td>\n      <td>CUMMING OF AGE</td>\n      <td>MEXICO.</td>\n      <td>IN THE DESERT</td>\n      <td>[Default to Nicolas Cage]</td>\n    </tr>\n  </tbody>\n</table>\n</div>"
     },
     "execution_count": 2,
     "metadata": {},
     "output_type": "execute_result"
    }
   ],
   "source": [
    "df = pd.read_csv(Path('./data/20210801.csv').resolve())\n",
    "df"
   ]
  },
  {
   "cell_type": "code",
   "execution_count": 3,
   "metadata": {},
   "outputs": [],
   "source": [
    "just_ballots = df.loc[:, df.columns.str.startswith('Rank')]\n",
    "next_week = df.loc[:, df.columns.str.startswith('What')]"
   ]
  },
  {
   "cell_type": "code",
   "execution_count": 4,
   "metadata": {},
   "outputs": [
    {
     "data": {
      "text/plain": "array(['Mommie Dearest (1981)', 'The Celebration (1998)',\n       'Honey, I Shrunk the Kids (1989)'], dtype=object)"
     },
     "execution_count": 4,
     "metadata": {},
     "output_type": "execute_result"
    }
   ],
   "source": [
    "submissions = just_ballots.loc[just_ballots.notna().all(axis=1).idxmax(),:].values\n",
    "submissions"
   ]
  },
  {
   "cell_type": "code",
   "execution_count": 5,
   "metadata": {},
   "outputs": [],
   "source": [
    "submission_dict = {submission: pyrankvote.Candidate(submission) for submission in submissions}"
   ]
  },
  {
   "cell_type": "code",
   "execution_count": 6,
   "metadata": {},
   "outputs": [],
   "source": [
    "balloted = just_ballots.applymap(lambda x: submission_dict[x] if isinstance(x, str) else x)"
   ]
  },
  {
   "cell_type": "code",
   "execution_count": 7,
   "metadata": {},
   "outputs": [
    {
     "data": {
      "text/plain": "{'Mommie Dearest (1981)': <Candidate('Mommie Dearest (1981)')>,\n 'The Celebration (1998)': <Candidate('The Celebration (1998)')>,\n 'Honey, I Shrunk the Kids (1989)': <Candidate('Honey, I Shrunk the Kids (1989)')>}"
     },
     "execution_count": 7,
     "metadata": {},
     "output_type": "execute_result"
    }
   ],
   "source": [
    "submission_dict"
   ]
  },
  {
   "cell_type": "code",
   "execution_count": 8,
   "metadata": {},
   "outputs": [],
   "source": [
    "ballots = []\n",
    "for ballot in balloted.itertuples():\n",
    "    ballots.append(pyrankvote.Ballot(ranked_candidates=[b for b in ballot if isinstance(b, pyrankvote.Candidate)]))"
   ]
  },
  {
   "cell_type": "code",
   "execution_count": 9,
   "metadata": {},
   "outputs": [
    {
     "data": {
      "text/plain": "[<Ballot(Mommie Dearest (1981), The Celebration (1998), Honey, I Shrunk the Kids (1989))>,\n <Ballot(The Celebration (1998), Mommie Dearest (1981))>,\n <Ballot(Honey, I Shrunk the Kids (1989), The Celebration (1998), Mommie Dearest (1981))>,\n <Ballot(Honey, I Shrunk the Kids (1989), Mommie Dearest (1981), The Celebration (1998))>]"
     },
     "execution_count": 9,
     "metadata": {},
     "output_type": "execute_result"
    }
   ],
   "source": [
    "ballots"
   ]
  },
  {
   "cell_type": "code",
   "execution_count": 10,
   "metadata": {},
   "outputs": [],
   "source": [
    "election_result = pyrankvote.instant_runoff_voting(submission_dict.values(), ballots,)"
   ]
  },
  {
   "cell_type": "code",
   "execution_count": 11,
   "metadata": {},
   "outputs": [
    {
     "name": "stdout",
     "output_type": "stream",
     "text": [
      "FINAL RESULT\n",
      "Candidate                          Votes  Status\n",
      "-------------------------------  -------  --------\n",
      "Honey, I Shrunk the Kids (1989)        2  Elected\n",
      "The Celebration (1998)                 1  Rejected\n",
      "Mommie Dearest (1981)                  1  Rejected\n",
      "\n"
     ]
    }
   ],
   "source": [
    "print(election_result)"
   ]
  },
  {
   "cell_type": "code",
   "execution_count": 12,
   "metadata": {},
   "outputs": [
    {
     "name": "stdout",
     "output_type": "stream",
     "text": [
      "FINAL RESULT\n",
      "Candidate                    Votes  Status\n",
      "-------------------------  -------  --------\n",
      "MEXICO.                          2  Elected\n",
      "CUMMING OF AGE                   2  Rejected\n",
      "IN THE DESERT                    0  Rejected\n",
      "[Default to Nicolas Cage]        0  Rejected\n",
      "\n"
     ]
    }
   ],
   "source": [
    "submissions = next_week.loc[next_week.notna().all(axis=1).idxmax(),:].values\n",
    "submission_dict = {submission: pyrankvote.Candidate(submission) for submission in submissions}\n",
    "balloted = next_week.applymap(lambda x: submission_dict[x] if isinstance(x, str) else x)\n",
    "ballots = []\n",
    "for ballot in balloted.itertuples():\n",
    "    ballots.append(pyrankvote.Ballot(ranked_candidates=[b for b in ballot if isinstance(b, pyrankvote.Candidate)]))\n",
    "print(pyrankvote.instant_runoff_voting(submission_dict.values(), ballots,))"
   ]
  }
 ],
 "metadata": {
  "kernelspec": {
   "display_name": "Python 3",
   "language": "python",
   "name": "python3"
  },
  "language_info": {
   "codemirror_mode": {
    "name": "ipython",
    "version": 3
   },
   "file_extension": ".py",
   "mimetype": "text/x-python",
   "name": "python",
   "nbconvert_exporter": "python",
   "pygments_lexer": "ipython3",
   "version": "3.7.4"
  }
 },
 "nbformat": 4,
 "nbformat_minor": 2
}