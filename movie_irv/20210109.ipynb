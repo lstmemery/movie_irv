{
 "cells": [
  {
   "cell_type": "code",
   "execution_count": 1,
   "metadata": {},
   "outputs": [],
   "source": [
    "import pandas as pd\n",
    "import pyrankvote\n",
    "from pathlib import Path\n",
    "from random import seed\n",
    "seed(252)"
   ]
  },
  {
   "cell_type": "code",
   "execution_count": 2,
   "metadata": {},
   "outputs": [
    {
     "data": {
      "text/plain": "           Timestamp  \\\n0   1/6/2021 9:28:28   \n1   1/6/2021 9:40:40   \n2  1/6/2021 10:36:44   \n3  1/6/2021 12:00:31   \n4   1/7/2021 8:52:24   \n\n  Rank your movie choices. You don't have to do a full ranking. [First Choice]  \\\n0                                   Nomadland (2020)                             \n1                                   Lone Star (1996)                             \n2                               Hidden Agenda (1990)                             \n3                             Raising Arizona (1987)                             \n4                                   Lone Star (1996)                             \n\n  Rank your movie choices. You don't have to do a full ranking. [Second Choice]  \\\n0                             Raising Arizona (1987)                              \n1                                   Nomadland (2020)                              \n2                                   Nomadland (2020)                              \n3                      This Must Be The Place (2011)                              \n4                      This Must Be The Place (2011)                              \n\n  Rank your movie choices. You don't have to do a full ranking. [Third Choice]  \\\n0                      This Must Be The Place (2011)                             \n1                               Hidden Agenda (1990)                             \n2                      This Must Be The Place (2011)                             \n3                                   Lone Star (1996)                             \n4                             Raising Arizona (1987)                             \n\n  Rank your movie choices. You don't have to do a full ranking. [Fourth Choice]  \\\n0                               Hidden Agenda (1990)                              \n1                      This Must Be The Place (2011)                              \n2                             Raising Arizona (1987)                              \n3                               Hidden Agenda (1990)                              \n4                                   Nomadland (2020)                              \n\n  Rank your movie choices. You don't have to do a full ranking. [Fifth Choice]  \\\n0                                   Lone Star (1996)                             \n1                                                NaN                             \n2                                   Lone Star (1996)                             \n3                                   Nomadland (2020)                             \n4                               Hidden Agenda (1990)                             \n\n  What theme should we explore next week? [First Choice]  \\\n0                                            ANIMALS       \n1                       ALEC BALDWIN: THE SEXY YEARS       \n2                                    VAMPIRES! FUCK!       \n3                           HORNINESS IS NOT A CRIME       \n4                          [Default to Nicolas Cage]       \n\n  What theme should we explore next week? [Second Choice]  \\\n0                          [Default to Nicolas Cage]        \n1                           HORNINESS IS NOT A CRIME        \n2                           HORNINESS IS NOT A CRIME        \n3                          [Default to Nicolas Cage]        \n4                                    VAMPIRES! FUCK!        \n\n  What theme should we explore next week? [Third Choice]  \\\n0                       ALEC BALDWIN: THE SEXY YEARS       \n1                                    VAMPIRES! FUCK!       \n2                                            ANIMALS       \n3                       ALEC BALDWIN: THE SEXY YEARS       \n4                           HORNINESS IS NOT A CRIME       \n\n  What theme should we explore next week? [Fourth Choice]  \\\n0                                    VAMPIRES! FUCK!        \n1                                            ANIMALS        \n2                       ALEC BALDWIN: THE SEXY YEARS        \n3                                    VAMPIRES! FUCK!        \n4                                            ANIMALS        \n\n  What theme should we explore next week? [Fifth Choice]  \n0                           HORNINESS IS NOT A CRIME      \n1                          [Default to Nicolas Cage]      \n2                          [Default to Nicolas Cage]      \n3                                            ANIMALS      \n4                       ALEC BALDWIN: THE SEXY YEARS      ",
      "text/html": "<div>\n<style scoped>\n    .dataframe tbody tr th:only-of-type {\n        vertical-align: middle;\n    }\n\n    .dataframe tbody tr th {\n        vertical-align: top;\n    }\n\n    .dataframe thead th {\n        text-align: right;\n    }\n</style>\n<table border=\"1\" class=\"dataframe\">\n  <thead>\n    <tr style=\"text-align: right;\">\n      <th></th>\n      <th>Timestamp</th>\n      <th>Rank your movie choices. You don't have to do a full ranking. [First Choice]</th>\n      <th>Rank your movie choices. You don't have to do a full ranking. [Second Choice]</th>\n      <th>Rank your movie choices. You don't have to do a full ranking. [Third Choice]</th>\n      <th>Rank your movie choices. You don't have to do a full ranking. [Fourth Choice]</th>\n      <th>Rank your movie choices. You don't have to do a full ranking. [Fifth Choice]</th>\n      <th>What theme should we explore next week? [First Choice]</th>\n      <th>What theme should we explore next week? [Second Choice]</th>\n      <th>What theme should we explore next week? [Third Choice]</th>\n      <th>What theme should we explore next week? [Fourth Choice]</th>\n      <th>What theme should we explore next week? [Fifth Choice]</th>\n    </tr>\n  </thead>\n  <tbody>\n    <tr>\n      <th>0</th>\n      <td>1/6/2021 9:28:28</td>\n      <td>Nomadland (2020)</td>\n      <td>Raising Arizona (1987)</td>\n      <td>This Must Be The Place (2011)</td>\n      <td>Hidden Agenda (1990)</td>\n      <td>Lone Star (1996)</td>\n      <td>ANIMALS</td>\n      <td>[Default to Nicolas Cage]</td>\n      <td>ALEC BALDWIN: THE SEXY YEARS</td>\n      <td>VAMPIRES! FUCK!</td>\n      <td>HORNINESS IS NOT A CRIME</td>\n    </tr>\n    <tr>\n      <th>1</th>\n      <td>1/6/2021 9:40:40</td>\n      <td>Lone Star (1996)</td>\n      <td>Nomadland (2020)</td>\n      <td>Hidden Agenda (1990)</td>\n      <td>This Must Be The Place (2011)</td>\n      <td>NaN</td>\n      <td>ALEC BALDWIN: THE SEXY YEARS</td>\n      <td>HORNINESS IS NOT A CRIME</td>\n      <td>VAMPIRES! FUCK!</td>\n      <td>ANIMALS</td>\n      <td>[Default to Nicolas Cage]</td>\n    </tr>\n    <tr>\n      <th>2</th>\n      <td>1/6/2021 10:36:44</td>\n      <td>Hidden Agenda (1990)</td>\n      <td>Nomadland (2020)</td>\n      <td>This Must Be The Place (2011)</td>\n      <td>Raising Arizona (1987)</td>\n      <td>Lone Star (1996)</td>\n      <td>VAMPIRES! FUCK!</td>\n      <td>HORNINESS IS NOT A CRIME</td>\n      <td>ANIMALS</td>\n      <td>ALEC BALDWIN: THE SEXY YEARS</td>\n      <td>[Default to Nicolas Cage]</td>\n    </tr>\n    <tr>\n      <th>3</th>\n      <td>1/6/2021 12:00:31</td>\n      <td>Raising Arizona (1987)</td>\n      <td>This Must Be The Place (2011)</td>\n      <td>Lone Star (1996)</td>\n      <td>Hidden Agenda (1990)</td>\n      <td>Nomadland (2020)</td>\n      <td>HORNINESS IS NOT A CRIME</td>\n      <td>[Default to Nicolas Cage]</td>\n      <td>ALEC BALDWIN: THE SEXY YEARS</td>\n      <td>VAMPIRES! FUCK!</td>\n      <td>ANIMALS</td>\n    </tr>\n    <tr>\n      <th>4</th>\n      <td>1/7/2021 8:52:24</td>\n      <td>Lone Star (1996)</td>\n      <td>This Must Be The Place (2011)</td>\n      <td>Raising Arizona (1987)</td>\n      <td>Nomadland (2020)</td>\n      <td>Hidden Agenda (1990)</td>\n      <td>[Default to Nicolas Cage]</td>\n      <td>VAMPIRES! FUCK!</td>\n      <td>HORNINESS IS NOT A CRIME</td>\n      <td>ANIMALS</td>\n      <td>ALEC BALDWIN: THE SEXY YEARS</td>\n    </tr>\n  </tbody>\n</table>\n</div>"
     },
     "execution_count": 2,
     "metadata": {},
     "output_type": "execute_result"
    }
   ],
   "source": [
    "df = pd.read_csv(Path('./data/20210109.csv').resolve())\n",
    "df"
   ]
  },
  {
   "cell_type": "code",
   "execution_count": 3,
   "metadata": {},
   "outputs": [],
   "source": [
    "just_ballots = df.loc[:, df.columns.str.startswith('Rank')]\n",
    "next_week = df.loc[:, df.columns.str.startswith('What')]"
   ]
  },
  {
   "cell_type": "code",
   "execution_count": 4,
   "metadata": {},
   "outputs": [
    {
     "data": {
      "text/plain": "array(['Nomadland (2020)', 'Raising Arizona (1987)',\n       'This Must Be The Place (2011)', 'Hidden Agenda (1990)',\n       'Lone Star (1996)'], dtype=object)"
     },
     "execution_count": 4,
     "metadata": {},
     "output_type": "execute_result"
    }
   ],
   "source": [
    "submissions = just_ballots.loc[just_ballots.notna().all(axis=1).idxmax(),:].values\n",
    "submissions"
   ]
  },
  {
   "cell_type": "code",
   "execution_count": 5,
   "metadata": {},
   "outputs": [],
   "source": [
    "submission_dict = {submission: pyrankvote.Candidate(submission) for submission in submissions}"
   ]
  },
  {
   "cell_type": "code",
   "execution_count": 6,
   "metadata": {},
   "outputs": [],
   "source": [
    "balloted = just_ballots.applymap(lambda x: submission_dict[x] if isinstance(x, str) else x)"
   ]
  },
  {
   "cell_type": "code",
   "execution_count": 7,
   "metadata": {},
   "outputs": [
    {
     "data": {
      "text/plain": "{'Nomadland (2020)': <Candidate('Nomadland (2020)')>,\n 'Raising Arizona (1987)': <Candidate('Raising Arizona (1987)')>,\n 'This Must Be The Place (2011)': <Candidate('This Must Be The Place (2011)')>,\n 'Hidden Agenda (1990)': <Candidate('Hidden Agenda (1990)')>,\n 'Lone Star (1996)': <Candidate('Lone Star (1996)')>}"
     },
     "execution_count": 7,
     "metadata": {},
     "output_type": "execute_result"
    }
   ],
   "source": [
    "submission_dict"
   ]
  },
  {
   "cell_type": "code",
   "execution_count": 8,
   "metadata": {},
   "outputs": [],
   "source": [
    "ballots = []\n",
    "for ballot in balloted.itertuples():\n",
    "    ballots.append(pyrankvote.Ballot(ranked_candidates=[b for b in ballot if isinstance(b, pyrankvote.Candidate)]))"
   ]
  },
  {
   "cell_type": "code",
   "execution_count": 9,
   "metadata": {},
   "outputs": [
    {
     "data": {
      "text/plain": "[<Ballot(Nomadland (2020), Raising Arizona (1987), This Must Be The Place (2011), Hidden Agenda (1990), Lone Star (1996))>,\n <Ballot(Lone Star (1996), Nomadland (2020), Hidden Agenda (1990), This Must Be The Place (2011))>,\n <Ballot(Hidden Agenda (1990), Nomadland (2020), This Must Be The Place (2011), Raising Arizona (1987), Lone Star (1996))>,\n <Ballot(Raising Arizona (1987), This Must Be The Place (2011), Lone Star (1996), Hidden Agenda (1990), Nomadland (2020))>,\n <Ballot(Lone Star (1996), This Must Be The Place (2011), Raising Arizona (1987), Nomadland (2020), Hidden Agenda (1990))>]"
     },
     "execution_count": 9,
     "metadata": {},
     "output_type": "execute_result"
    }
   ],
   "source": [
    "ballots"
   ]
  },
  {
   "cell_type": "code",
   "execution_count": 10,
   "metadata": {},
   "outputs": [],
   "source": [
    "election_result = pyrankvote.instant_runoff_voting(submission_dict.values(), ballots,)"
   ]
  },
  {
   "cell_type": "code",
   "execution_count": 11,
   "metadata": {},
   "outputs": [
    {
     "name": "stdout",
     "output_type": "stream",
     "text": [
      "ROUND 1\n",
      "Candidate                        Votes  Status\n",
      "-----------------------------  -------  --------\n",
      "Lone Star (1996)                     2  Hopeful\n",
      "Nomadland (2020)                     1  Hopeful\n",
      "Raising Arizona (1987)               1  Hopeful\n",
      "Hidden Agenda (1990)                 1  Rejected\n",
      "This Must Be The Place (2011)        0  Rejected\n",
      "\n",
      "ROUND 2\n",
      "Candidate                        Votes  Status\n",
      "-----------------------------  -------  --------\n",
      "Nomadland (2020)                     2  Hopeful\n",
      "Lone Star (1996)                     2  Hopeful\n",
      "Raising Arizona (1987)               1  Rejected\n",
      "Hidden Agenda (1990)                 0  Rejected\n",
      "This Must Be The Place (2011)        0  Rejected\n",
      "\n",
      "FINAL RESULT\n",
      "Candidate                        Votes  Status\n",
      "-----------------------------  -------  --------\n",
      "Lone Star (1996)                     3  Elected\n",
      "Nomadland (2020)                     2  Rejected\n",
      "Raising Arizona (1987)               0  Rejected\n",
      "Hidden Agenda (1990)                 0  Rejected\n",
      "This Must Be The Place (2011)        0  Rejected\n",
      "\n"
     ]
    }
   ],
   "source": [
    "print(election_result)"
   ]
  },
  {
   "cell_type": "code",
   "execution_count": 12,
   "metadata": {},
   "outputs": [
    {
     "name": "stdout",
     "output_type": "stream",
     "text": [
      "ROUND 1\n",
      "Candidate                       Votes  Status\n",
      "----------------------------  -------  --------\n",
      "HORNINESS IS NOT A CRIME            1  Hopeful\n",
      "[Default to Nicolas Cage]           1  Hopeful\n",
      "VAMPIRES! FUCK!                     1  Hopeful\n",
      "ALEC BALDWIN: THE SEXY YEARS        1  Hopeful\n",
      "ANIMALS                             1  Rejected\n",
      "\n",
      "ROUND 2\n",
      "Candidate                       Votes  Status\n",
      "----------------------------  -------  --------\n",
      "[Default to Nicolas Cage]           2  Hopeful\n",
      "HORNINESS IS NOT A CRIME            1  Hopeful\n",
      "VAMPIRES! FUCK!                     1  Hopeful\n",
      "ALEC BALDWIN: THE SEXY YEARS        1  Rejected\n",
      "ANIMALS                             0  Rejected\n",
      "\n",
      "ROUND 3\n",
      "Candidate                       Votes  Status\n",
      "----------------------------  -------  --------\n",
      "HORNINESS IS NOT A CRIME            2  Hopeful\n",
      "[Default to Nicolas Cage]           2  Hopeful\n",
      "VAMPIRES! FUCK!                     1  Rejected\n",
      "ALEC BALDWIN: THE SEXY YEARS        0  Rejected\n",
      "ANIMALS                             0  Rejected\n",
      "\n",
      "FINAL RESULT\n",
      "Candidate                       Votes  Status\n",
      "----------------------------  -------  --------\n",
      "HORNINESS IS NOT A CRIME            3  Elected\n",
      "[Default to Nicolas Cage]           2  Rejected\n",
      "VAMPIRES! FUCK!                     0  Rejected\n",
      "ALEC BALDWIN: THE SEXY YEARS        0  Rejected\n",
      "ANIMALS                             0  Rejected\n",
      "\n"
     ]
    }
   ],
   "source": [
    "submissions = next_week.loc[next_week.notna().all(axis=1).idxmax(),:].values\n",
    "submission_dict = {submission: pyrankvote.Candidate(submission) for submission in submissions}\n",
    "balloted = next_week.applymap(lambda x: submission_dict[x] if isinstance(x, str) else x)\n",
    "ballots = []\n",
    "for ballot in balloted.itertuples():\n",
    "    ballots.append(pyrankvote.Ballot(ranked_candidates=[b for b in ballot if isinstance(b, pyrankvote.Candidate)]))\n",
    "print(pyrankvote.instant_runoff_voting(submission_dict.values(), ballots,))"
   ]
  }
 ],
 "metadata": {
  "kernelspec": {
   "display_name": "Python 3",
   "language": "python",
   "name": "python3"
  },
  "language_info": {
   "codemirror_mode": {
    "name": "ipython",
    "version": 3
   },
   "file_extension": ".py",
   "mimetype": "text/x-python",
   "name": "python",
   "nbconvert_exporter": "python",
   "pygments_lexer": "ipython3",
   "version": "3.7.4"
  }
 },
 "nbformat": 4,
 "nbformat_minor": 2
}