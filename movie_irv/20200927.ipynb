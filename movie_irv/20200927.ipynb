{
 "cells": [
  {
   "cell_type": "code",
   "execution_count": 2,
   "metadata": {},
   "outputs": [],
   "source": [
    "import pandas as pd\n",
    "import pyrankvote\n",
    "from pathlib import Path"
   ]
  },
  {
   "cell_type": "code",
   "execution_count": 3,
   "metadata": {},
   "outputs": [
    {
     "data": {
      "text/plain": "            Timestamp  \\\n0  9/22/2020 18:11:07   \n1  9/22/2020 18:12:58   \n2  9/22/2020 18:14:00   \n3  9/22/2020 18:38:24   \n4  9/22/2020 19:02:45   \n5  9/22/2020 22:14:24   \n6  9/24/2020 11:02:16   \n\n  Rank your movie choices. You don't have to do a full ranking. [First Choice]  \\\n0                       A Moment of Innocence (1996)                             \n1                           A Dragon Arrives! (2016)                             \n2                           A Dragon Arrives! (2016)                             \n3            A Girl Walks Home Alone At Night (2014)                             \n4                           A Dragon Arrives! (2016)                             \n5            A Girl Walks Home Alone At Night (2014)                             \n6            A Girl Walks Home Alone At Night (2014)                             \n\n  Rank your movie choices. You don't have to do a full ranking. [Second Choice]  \\\n0            A Girl Walks Home Alone At Night (2014)                              \n1            A Girl Walks Home Alone At Night (2014)                              \n2            A Girl Walks Home Alone At Night (2014)                              \n3                           A Dragon Arrives! (2016)                              \n4                       A Moment of Innocence (1996)                              \n5                           A Dragon Arrives! (2016)                              \n6                           A Dragon Arrives! (2016)                              \n\n  Rank your movie choices. You don't have to do a full ranking. [Third Choice]  \\\n0                           A Dragon Arrives! (2016)                             \n1                       A Moment of Innocence (1996)                             \n2                       A Moment of Innocence (1996)                             \n3                       A Moment of Innocence (1996)                             \n4            A Girl Walks Home Alone At Night (2014)                             \n5                       A Moment of Innocence (1996)                             \n6                       A Moment of Innocence (1996)                             \n\n  What theme should we explore next week? [First Choice]  \\\n0                                JACKIE FUCKING CHAN       \n1                               FROM A SMALL COUNTRY       \n2                                    IT’S A CLASSIC!       \n3                                    IT’S A CLASSIC!       \n4                                JACKIE FUCKING CHAN       \n5                                    IT’S A CLASSIC!       \n6                                    IT’S A CLASSIC!       \n\n  What theme should we explore next week? [Second Choice]  \\\n0                               FROM A SMALL COUNTRY        \n1                                    IT’S A CLASSIC!        \n2                               FROM A SMALL COUNTRY        \n3                               FROM A SMALL COUNTRY        \n4                               FROM A SMALL COUNTRY        \n5                               FROM A SMALL COUNTRY        \n6                               FROM A SMALL COUNTRY        \n\n  What theme should we explore next week? [Third Choice]  \\\n0                                    IT’S A CLASSIC!       \n1                                JACKIE FUCKING CHAN       \n2                                JACKIE FUCKING CHAN       \n3                              No Theme/Free-for-all       \n4                                    IT’S A CLASSIC!       \n5                                JACKIE FUCKING CHAN       \n6                                JACKIE FUCKING CHAN       \n\n  What theme should we explore next week? [Fourth Choice]  \n0                              No Theme/Free-for-all       \n1                                                NaN       \n2                              No Theme/Free-for-all       \n3                                JACKIE FUCKING CHAN       \n4                              No Theme/Free-for-all       \n5                                                NaN       \n6                              No Theme/Free-for-all       ",
      "text/html": "<div>\n<style scoped>\n    .dataframe tbody tr th:only-of-type {\n        vertical-align: middle;\n    }\n\n    .dataframe tbody tr th {\n        vertical-align: top;\n    }\n\n    .dataframe thead th {\n        text-align: right;\n    }\n</style>\n<table border=\"1\" class=\"dataframe\">\n  <thead>\n    <tr style=\"text-align: right;\">\n      <th></th>\n      <th>Timestamp</th>\n      <th>Rank your movie choices. You don't have to do a full ranking. [First Choice]</th>\n      <th>Rank your movie choices. You don't have to do a full ranking. [Second Choice]</th>\n      <th>Rank your movie choices. You don't have to do a full ranking. [Third Choice]</th>\n      <th>What theme should we explore next week? [First Choice]</th>\n      <th>What theme should we explore next week? [Second Choice]</th>\n      <th>What theme should we explore next week? [Third Choice]</th>\n      <th>What theme should we explore next week? [Fourth Choice]</th>\n    </tr>\n  </thead>\n  <tbody>\n    <tr>\n      <th>0</th>\n      <td>9/22/2020 18:11:07</td>\n      <td>A Moment of Innocence (1996)</td>\n      <td>A Girl Walks Home Alone At Night (2014)</td>\n      <td>A Dragon Arrives! (2016)</td>\n      <td>JACKIE FUCKING CHAN</td>\n      <td>FROM A SMALL COUNTRY</td>\n      <td>IT’S A CLASSIC!</td>\n      <td>No Theme/Free-for-all</td>\n    </tr>\n    <tr>\n      <th>1</th>\n      <td>9/22/2020 18:12:58</td>\n      <td>A Dragon Arrives! (2016)</td>\n      <td>A Girl Walks Home Alone At Night (2014)</td>\n      <td>A Moment of Innocence (1996)</td>\n      <td>FROM A SMALL COUNTRY</td>\n      <td>IT’S A CLASSIC!</td>\n      <td>JACKIE FUCKING CHAN</td>\n      <td>NaN</td>\n    </tr>\n    <tr>\n      <th>2</th>\n      <td>9/22/2020 18:14:00</td>\n      <td>A Dragon Arrives! (2016)</td>\n      <td>A Girl Walks Home Alone At Night (2014)</td>\n      <td>A Moment of Innocence (1996)</td>\n      <td>IT’S A CLASSIC!</td>\n      <td>FROM A SMALL COUNTRY</td>\n      <td>JACKIE FUCKING CHAN</td>\n      <td>No Theme/Free-for-all</td>\n    </tr>\n    <tr>\n      <th>3</th>\n      <td>9/22/2020 18:38:24</td>\n      <td>A Girl Walks Home Alone At Night (2014)</td>\n      <td>A Dragon Arrives! (2016)</td>\n      <td>A Moment of Innocence (1996)</td>\n      <td>IT’S A CLASSIC!</td>\n      <td>FROM A SMALL COUNTRY</td>\n      <td>No Theme/Free-for-all</td>\n      <td>JACKIE FUCKING CHAN</td>\n    </tr>\n    <tr>\n      <th>4</th>\n      <td>9/22/2020 19:02:45</td>\n      <td>A Dragon Arrives! (2016)</td>\n      <td>A Moment of Innocence (1996)</td>\n      <td>A Girl Walks Home Alone At Night (2014)</td>\n      <td>JACKIE FUCKING CHAN</td>\n      <td>FROM A SMALL COUNTRY</td>\n      <td>IT’S A CLASSIC!</td>\n      <td>No Theme/Free-for-all</td>\n    </tr>\n    <tr>\n      <th>5</th>\n      <td>9/22/2020 22:14:24</td>\n      <td>A Girl Walks Home Alone At Night (2014)</td>\n      <td>A Dragon Arrives! (2016)</td>\n      <td>A Moment of Innocence (1996)</td>\n      <td>IT’S A CLASSIC!</td>\n      <td>FROM A SMALL COUNTRY</td>\n      <td>JACKIE FUCKING CHAN</td>\n      <td>NaN</td>\n    </tr>\n    <tr>\n      <th>6</th>\n      <td>9/24/2020 11:02:16</td>\n      <td>A Girl Walks Home Alone At Night (2014)</td>\n      <td>A Dragon Arrives! (2016)</td>\n      <td>A Moment of Innocence (1996)</td>\n      <td>IT’S A CLASSIC!</td>\n      <td>FROM A SMALL COUNTRY</td>\n      <td>JACKIE FUCKING CHAN</td>\n      <td>No Theme/Free-for-all</td>\n    </tr>\n  </tbody>\n</table>\n</div>"
     },
     "execution_count": 3,
     "metadata": {},
     "output_type": "execute_result"
    }
   ],
   "source": [
    "df = pd.read_csv(Path('./data/20200927.csv').resolve())\n",
    "df"
   ]
  },
  {
   "cell_type": "code",
   "execution_count": 4,
   "metadata": {},
   "outputs": [],
   "source": [
    "just_ballots = df.loc[:, df.columns.str.startswith('Rank')]\n",
    "next_week = df.loc[:, df.columns.str.startswith('What')]"
   ]
  },
  {
   "cell_type": "code",
   "execution_count": 5,
   "metadata": {},
   "outputs": [
    {
     "data": {
      "text/plain": "array(['A Moment of Innocence (1996)',\n       'A Girl Walks Home Alone At Night (2014)',\n       'A Dragon Arrives! (2016)'], dtype=object)"
     },
     "execution_count": 5,
     "metadata": {},
     "output_type": "execute_result"
    }
   ],
   "source": [
    "submissions = just_ballots.loc[just_ballots.notna().all(axis=1).idxmax(),:].values\n",
    "submissions"
   ]
  },
  {
   "cell_type": "code",
   "execution_count": 6,
   "metadata": {},
   "outputs": [],
   "source": [
    "submission_dict = {submission: pyrankvote.Candidate(submission) for submission in submissions}"
   ]
  },
  {
   "cell_type": "code",
   "execution_count": 7,
   "metadata": {},
   "outputs": [],
   "source": [
    "balloted = just_ballots.applymap(lambda x: submission_dict[x] if isinstance(x, str) else x)"
   ]
  },
  {
   "cell_type": "code",
   "execution_count": 8,
   "metadata": {},
   "outputs": [
    {
     "data": {
      "text/plain": "{'A Moment of Innocence (1996)': <Candidate('A Moment of Innocence (1996)')>,\n 'A Girl Walks Home Alone At Night (2014)': <Candidate('A Girl Walks Home Alone At Night (2014)')>,\n 'A Dragon Arrives! (2016)': <Candidate('A Dragon Arrives! (2016)')>}"
     },
     "execution_count": 8,
     "metadata": {},
     "output_type": "execute_result"
    }
   ],
   "source": [
    "submission_dict"
   ]
  },
  {
   "cell_type": "code",
   "execution_count": 9,
   "metadata": {},
   "outputs": [],
   "source": [
    "ballots = []\n",
    "for ballot in balloted.itertuples():\n",
    "    ballots.append(pyrankvote.Ballot(ranked_candidates=[b for b in ballot if isinstance(b, pyrankvote.Candidate)]))"
   ]
  },
  {
   "cell_type": "code",
   "execution_count": 10,
   "metadata": {},
   "outputs": [
    {
     "data": {
      "text/plain": "[<Ballot(A Moment of Innocence (1996), A Girl Walks Home Alone At Night (2014), A Dragon Arrives! (2016))>,\n <Ballot(A Dragon Arrives! (2016), A Girl Walks Home Alone At Night (2014), A Moment of Innocence (1996))>,\n <Ballot(A Dragon Arrives! (2016), A Girl Walks Home Alone At Night (2014), A Moment of Innocence (1996))>,\n <Ballot(A Girl Walks Home Alone At Night (2014), A Dragon Arrives! (2016), A Moment of Innocence (1996))>,\n <Ballot(A Dragon Arrives! (2016), A Moment of Innocence (1996), A Girl Walks Home Alone At Night (2014))>,\n <Ballot(A Girl Walks Home Alone At Night (2014), A Dragon Arrives! (2016), A Moment of Innocence (1996))>,\n <Ballot(A Girl Walks Home Alone At Night (2014), A Dragon Arrives! (2016), A Moment of Innocence (1996))>]"
     },
     "execution_count": 10,
     "metadata": {},
     "output_type": "execute_result"
    }
   ],
   "source": [
    "ballots"
   ]
  },
  {
   "cell_type": "code",
   "execution_count": 11,
   "metadata": {},
   "outputs": [],
   "source": [
    "election_result = pyrankvote.instant_runoff_voting(submission_dict.values(), ballots,)"
   ]
  },
  {
   "cell_type": "code",
   "execution_count": 12,
   "metadata": {},
   "outputs": [
    {
     "name": "stdout",
     "output_type": "stream",
     "text": [
      "ROUND 1\n",
      "Candidate                                  Votes  Status\n",
      "---------------------------------------  -------  --------\n",
      "A Dragon Arrives! (2016)                       3  Hopeful\n",
      "A Girl Walks Home Alone At Night (2014)        3  Hopeful\n",
      "A Moment of Innocence (1996)                   1  Rejected\n",
      "\n",
      "FINAL RESULT\n",
      "Candidate                                  Votes  Status\n",
      "---------------------------------------  -------  --------\n",
      "A Girl Walks Home Alone At Night (2014)        4  Elected\n",
      "A Dragon Arrives! (2016)                       3  Rejected\n",
      "A Moment of Innocence (1996)                   0  Rejected\n",
      "\n"
     ]
    }
   ],
   "source": [
    "print(election_result)"
   ]
  },
  {
   "cell_type": "code",
   "execution_count": 13,
   "metadata": {},
   "outputs": [
    {
     "name": "stdout",
     "output_type": "stream",
     "text": [
      "FINAL RESULT\n",
      "Candidate                Votes  Status\n",
      "---------------------  -------  --------\n",
      "IT’S A CLASSIC!              4  Elected\n",
      "JACKIE FUCKING CHAN          2  Rejected\n",
      "FROM A SMALL COUNTRY         1  Rejected\n",
      "No Theme/Free-for-all        0  Rejected\n",
      "\n"
     ]
    }
   ],
   "source": [
    "submissions = next_week.loc[next_week.notna().all(axis=1).idxmax(),:].values\n",
    "submission_dict = {submission: pyrankvote.Candidate(submission) for submission in submissions}\n",
    "balloted = next_week.applymap(lambda x: submission_dict[x] if isinstance(x, str) else x)\n",
    "ballots = []\n",
    "for ballot in balloted.itertuples():\n",
    "    ballots.append(pyrankvote.Ballot(ranked_candidates=[b for b in ballot if isinstance(b, pyrankvote.Candidate)]))\n",
    "print(pyrankvote.instant_runoff_voting(submission_dict.values(), ballots,))"
   ]
  }
 ],
 "metadata": {
  "kernelspec": {
   "display_name": "Python 3",
   "language": "python",
   "name": "python3"
  },
  "language_info": {
   "codemirror_mode": {
    "name": "ipython",
    "version": 3
   },
   "file_extension": ".py",
   "mimetype": "text/x-python",
   "name": "python",
   "nbconvert_exporter": "python",
   "pygments_lexer": "ipython3",
   "version": "3.7.4"
  }
 },
 "nbformat": 4,
 "nbformat_minor": 2
}