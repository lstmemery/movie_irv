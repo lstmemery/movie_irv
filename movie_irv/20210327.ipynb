{
 "cells": [
  {
   "cell_type": "code",
   "execution_count": 1,
   "metadata": {},
   "outputs": [],
   "source": [
    "import pandas as pd\n",
    "import pyrankvote\n",
    "from pathlib import Path\n",
    "from random import seed\n",
    "seed(252)"
   ]
  },
  {
   "cell_type": "code",
   "execution_count": 2,
   "metadata": {},
   "outputs": [
    {
     "data": {
      "text/plain": "             Timestamp  \\\n0  24/03/2021 10:43:33   \n1  24/03/2021 10:51:15   \n2  24/03/2021 10:57:20   \n3  24/03/2021 11:14:56   \n4  24/03/2021 11:23:31   \n5  25/03/2021 08:21:13   \n6  25/03/2021 08:27:29   \n7  25/03/2021 08:28:13   \n\n  Rank your movie choices. You don't have to do a full ranking. [First Choice]  \\\n0                                     RoboCop (1987)                             \n1                                     RoboCop (1987)                             \n2                                     RoboCop (1987)                             \n3                               Cross of Iron (1977)                             \n4                                     RoboCop (1987)                             \n5                                     RoboCop (1987)                             \n6                                River's Edge (1986)                             \n7                               Cross of Iron (1977)                             \n\n  Rank your movie choices. You don't have to do a full ranking. [Second Choice]  \\\n0                               Cross of Iron (1977)                              \n1                               Cross of Iron (1977)                              \n2                                   The Thing (1982)                              \n3                                River's Edge (1986)                              \n4                                   The Thing (1982)                              \n5                                   The Thing (1982)                              \n6                                     RoboCop (1987)                              \n7                                River's Edge (1986)                              \n\n  Rank your movie choices. You don't have to do a full ranking. [Third Choice]  \\\n0                                River's Edge (1986)                             \n1                                   The Thing (1982)                             \n2                                River's Edge (1986)                             \n3                                     RoboCop (1987)                             \n4                               Cross of Iron (1977)                             \n5                                River's Edge (1986)                             \n6                               Cross of Iron (1977)                             \n7                                                NaN                             \n\n  Rank your movie choices. You don't have to do a full ranking. [Fourth Choice]  \\\n0                                   The Thing (1982)                              \n1                                River's Edge (1986)                              \n2                               Cross of Iron (1977)                              \n3                                   The Thing (1982)                              \n4                                River's Edge (1986)                              \n5                               Cross of Iron (1977)                              \n6                                   The Thing (1982)                              \n7                                                NaN                              \n\n  What theme should we explore next week? [First Choice]  \\\n0                                         BASKETBALL       \n1                          [Default to Nicolas Cage]       \n2                                  PRACTICAL EFFECTS       \n3                           I AM TERRIBLE AT MY JOB.       \n4                                         BASKETBALL       \n5                          [Default to Nicolas Cage]       \n6                           I AM TERRIBLE AT MY JOB.       \n7                             ACADEMY AWARD HOMEWORK       \n\n  What theme should we explore next week? [Second Choice]  \\\n0                             ACADEMY AWARD HOMEWORK        \n1                           I AM TERRIBLE AT MY JOB.        \n2                                         BASKETBALL        \n3                                  PRACTICAL EFFECTS        \n4                                  PRACTICAL EFFECTS        \n5                                  PRACTICAL EFFECTS        \n6                                  PRACTICAL EFFECTS        \n7                           I AM TERRIBLE AT MY JOB.        \n\n  What theme should we explore next week? [Third Choice]  \\\n0                          [Default to Nicolas Cage]       \n1                                         BASKETBALL       \n2                             ACADEMY AWARD HOMEWORK       \n3                             ACADEMY AWARD HOMEWORK       \n4                           I AM TERRIBLE AT MY JOB.       \n5                           I AM TERRIBLE AT MY JOB.       \n6                                         BASKETBALL       \n7                                  PRACTICAL EFFECTS       \n\n  What theme should we explore next week? [Fourth Choice]  \\\n0                           I AM TERRIBLE AT MY JOB.        \n1                                  PRACTICAL EFFECTS        \n2                           I AM TERRIBLE AT MY JOB.        \n3                          [Default to Nicolas Cage]        \n4                             ACADEMY AWARD HOMEWORK        \n5                             ACADEMY AWARD HOMEWORK        \n6                             ACADEMY AWARD HOMEWORK        \n7                                         BASKETBALL        \n\n  What theme should we explore next week? [Fifth Choice]  \n0                                  PRACTICAL EFFECTS      \n1                             ACADEMY AWARD HOMEWORK      \n2                          [Default to Nicolas Cage]      \n3                                         BASKETBALL      \n4                          [Default to Nicolas Cage]      \n5                                         BASKETBALL      \n6                          [Default to Nicolas Cage]      \n7                          [Default to Nicolas Cage]      ",
      "text/html": "<div>\n<style scoped>\n    .dataframe tbody tr th:only-of-type {\n        vertical-align: middle;\n    }\n\n    .dataframe tbody tr th {\n        vertical-align: top;\n    }\n\n    .dataframe thead th {\n        text-align: right;\n    }\n</style>\n<table border=\"1\" class=\"dataframe\">\n  <thead>\n    <tr style=\"text-align: right;\">\n      <th></th>\n      <th>Timestamp</th>\n      <th>Rank your movie choices. You don't have to do a full ranking. [First Choice]</th>\n      <th>Rank your movie choices. You don't have to do a full ranking. [Second Choice]</th>\n      <th>Rank your movie choices. You don't have to do a full ranking. [Third Choice]</th>\n      <th>Rank your movie choices. You don't have to do a full ranking. [Fourth Choice]</th>\n      <th>What theme should we explore next week? [First Choice]</th>\n      <th>What theme should we explore next week? [Second Choice]</th>\n      <th>What theme should we explore next week? [Third Choice]</th>\n      <th>What theme should we explore next week? [Fourth Choice]</th>\n      <th>What theme should we explore next week? [Fifth Choice]</th>\n    </tr>\n  </thead>\n  <tbody>\n    <tr>\n      <th>0</th>\n      <td>24/03/2021 10:43:33</td>\n      <td>RoboCop (1987)</td>\n      <td>Cross of Iron (1977)</td>\n      <td>River's Edge (1986)</td>\n      <td>The Thing (1982)</td>\n      <td>BASKETBALL</td>\n      <td>ACADEMY AWARD HOMEWORK</td>\n      <td>[Default to Nicolas Cage]</td>\n      <td>I AM TERRIBLE AT MY JOB.</td>\n      <td>PRACTICAL EFFECTS</td>\n    </tr>\n    <tr>\n      <th>1</th>\n      <td>24/03/2021 10:51:15</td>\n      <td>RoboCop (1987)</td>\n      <td>Cross of Iron (1977)</td>\n      <td>The Thing (1982)</td>\n      <td>River's Edge (1986)</td>\n      <td>[Default to Nicolas Cage]</td>\n      <td>I AM TERRIBLE AT MY JOB.</td>\n      <td>BASKETBALL</td>\n      <td>PRACTICAL EFFECTS</td>\n      <td>ACADEMY AWARD HOMEWORK</td>\n    </tr>\n    <tr>\n      <th>2</th>\n      <td>24/03/2021 10:57:20</td>\n      <td>RoboCop (1987)</td>\n      <td>The Thing (1982)</td>\n      <td>River's Edge (1986)</td>\n      <td>Cross of Iron (1977)</td>\n      <td>PRACTICAL EFFECTS</td>\n      <td>BASKETBALL</td>\n      <td>ACADEMY AWARD HOMEWORK</td>\n      <td>I AM TERRIBLE AT MY JOB.</td>\n      <td>[Default to Nicolas Cage]</td>\n    </tr>\n    <tr>\n      <th>3</th>\n      <td>24/03/2021 11:14:56</td>\n      <td>Cross of Iron (1977)</td>\n      <td>River's Edge (1986)</td>\n      <td>RoboCop (1987)</td>\n      <td>The Thing (1982)</td>\n      <td>I AM TERRIBLE AT MY JOB.</td>\n      <td>PRACTICAL EFFECTS</td>\n      <td>ACADEMY AWARD HOMEWORK</td>\n      <td>[Default to Nicolas Cage]</td>\n      <td>BASKETBALL</td>\n    </tr>\n    <tr>\n      <th>4</th>\n      <td>24/03/2021 11:23:31</td>\n      <td>RoboCop (1987)</td>\n      <td>The Thing (1982)</td>\n      <td>Cross of Iron (1977)</td>\n      <td>River's Edge (1986)</td>\n      <td>BASKETBALL</td>\n      <td>PRACTICAL EFFECTS</td>\n      <td>I AM TERRIBLE AT MY JOB.</td>\n      <td>ACADEMY AWARD HOMEWORK</td>\n      <td>[Default to Nicolas Cage]</td>\n    </tr>\n    <tr>\n      <th>5</th>\n      <td>25/03/2021 08:21:13</td>\n      <td>RoboCop (1987)</td>\n      <td>The Thing (1982)</td>\n      <td>River's Edge (1986)</td>\n      <td>Cross of Iron (1977)</td>\n      <td>[Default to Nicolas Cage]</td>\n      <td>PRACTICAL EFFECTS</td>\n      <td>I AM TERRIBLE AT MY JOB.</td>\n      <td>ACADEMY AWARD HOMEWORK</td>\n      <td>BASKETBALL</td>\n    </tr>\n    <tr>\n      <th>6</th>\n      <td>25/03/2021 08:27:29</td>\n      <td>River's Edge (1986)</td>\n      <td>RoboCop (1987)</td>\n      <td>Cross of Iron (1977)</td>\n      <td>The Thing (1982)</td>\n      <td>I AM TERRIBLE AT MY JOB.</td>\n      <td>PRACTICAL EFFECTS</td>\n      <td>BASKETBALL</td>\n      <td>ACADEMY AWARD HOMEWORK</td>\n      <td>[Default to Nicolas Cage]</td>\n    </tr>\n    <tr>\n      <th>7</th>\n      <td>25/03/2021 08:28:13</td>\n      <td>Cross of Iron (1977)</td>\n      <td>River's Edge (1986)</td>\n      <td>NaN</td>\n      <td>NaN</td>\n      <td>ACADEMY AWARD HOMEWORK</td>\n      <td>I AM TERRIBLE AT MY JOB.</td>\n      <td>PRACTICAL EFFECTS</td>\n      <td>BASKETBALL</td>\n      <td>[Default to Nicolas Cage]</td>\n    </tr>\n  </tbody>\n</table>\n</div>"
     },
     "execution_count": 2,
     "metadata": {},
     "output_type": "execute_result"
    }
   ],
   "source": [
    "df = pd.read_csv(Path('./data/20210327.csv').resolve())\n",
    "df"
   ]
  },
  {
   "cell_type": "code",
   "execution_count": 3,
   "metadata": {},
   "outputs": [],
   "source": [
    "just_ballots = df.loc[:, df.columns.str.startswith('Rank')]\n",
    "next_week = df.loc[:, df.columns.str.startswith('What')]"
   ]
  },
  {
   "cell_type": "code",
   "execution_count": 4,
   "metadata": {},
   "outputs": [
    {
     "data": {
      "text/plain": "array(['RoboCop (1987)', 'Cross of Iron (1977)', \"River's Edge (1986)\",\n       'The Thing (1982)'], dtype=object)"
     },
     "execution_count": 4,
     "metadata": {},
     "output_type": "execute_result"
    }
   ],
   "source": [
    "submissions = just_ballots.loc[just_ballots.notna().all(axis=1).idxmax(),:].values\n",
    "submissions"
   ]
  },
  {
   "cell_type": "code",
   "execution_count": 5,
   "metadata": {},
   "outputs": [],
   "source": [
    "submission_dict = {submission: pyrankvote.Candidate(submission) for submission in submissions}"
   ]
  },
  {
   "cell_type": "code",
   "execution_count": 6,
   "metadata": {},
   "outputs": [],
   "source": [
    "balloted = just_ballots.applymap(lambda x: submission_dict[x] if isinstance(x, str) else x)"
   ]
  },
  {
   "cell_type": "code",
   "execution_count": 7,
   "metadata": {},
   "outputs": [
    {
     "data": {
      "text/plain": "{'RoboCop (1987)': <Candidate('RoboCop (1987)')>,\n 'Cross of Iron (1977)': <Candidate('Cross of Iron (1977)')>,\n \"River's Edge (1986)\": <Candidate('River's Edge (1986)')>,\n 'The Thing (1982)': <Candidate('The Thing (1982)')>}"
     },
     "execution_count": 7,
     "metadata": {},
     "output_type": "execute_result"
    }
   ],
   "source": [
    "submission_dict"
   ]
  },
  {
   "cell_type": "code",
   "execution_count": 8,
   "metadata": {},
   "outputs": [],
   "source": [
    "ballots = []\n",
    "for ballot in balloted.itertuples():\n",
    "    ballots.append(pyrankvote.Ballot(ranked_candidates=[b for b in ballot if isinstance(b, pyrankvote.Candidate)]))"
   ]
  },
  {
   "cell_type": "code",
   "execution_count": 9,
   "metadata": {},
   "outputs": [
    {
     "data": {
      "text/plain": "[<Ballot(RoboCop (1987), Cross of Iron (1977), River's Edge (1986), The Thing (1982))>,\n <Ballot(RoboCop (1987), Cross of Iron (1977), The Thing (1982), River's Edge (1986))>,\n <Ballot(RoboCop (1987), The Thing (1982), River's Edge (1986), Cross of Iron (1977))>,\n <Ballot(Cross of Iron (1977), River's Edge (1986), RoboCop (1987), The Thing (1982))>,\n <Ballot(RoboCop (1987), The Thing (1982), Cross of Iron (1977), River's Edge (1986))>,\n <Ballot(RoboCop (1987), The Thing (1982), River's Edge (1986), Cross of Iron (1977))>,\n <Ballot(River's Edge (1986), RoboCop (1987), Cross of Iron (1977), The Thing (1982))>,\n <Ballot(Cross of Iron (1977), River's Edge (1986))>]"
     },
     "execution_count": 9,
     "metadata": {},
     "output_type": "execute_result"
    }
   ],
   "source": [
    "ballots"
   ]
  },
  {
   "cell_type": "code",
   "execution_count": 10,
   "metadata": {},
   "outputs": [],
   "source": [
    "election_result = pyrankvote.instant_runoff_voting(submission_dict.values(), ballots,)"
   ]
  },
  {
   "cell_type": "code",
   "execution_count": 11,
   "metadata": {},
   "outputs": [
    {
     "name": "stdout",
     "output_type": "stream",
     "text": [
      "FINAL RESULT\n",
      "Candidate               Votes  Status\n",
      "--------------------  -------  --------\n",
      "RoboCop (1987)              5  Elected\n",
      "Cross of Iron (1977)        2  Rejected\n",
      "River's Edge (1986)         1  Rejected\n",
      "The Thing (1982)            0  Rejected\n",
      "\n"
     ]
    }
   ],
   "source": [
    "print(election_result)"
   ]
  },
  {
   "cell_type": "code",
   "execution_count": 12,
   "metadata": {},
   "outputs": [
    {
     "name": "stdout",
     "output_type": "stream",
     "text": [
      "ROUND 1\n",
      "Candidate                    Votes  Status\n",
      "-------------------------  -------  --------\n",
      "I AM TERRIBLE AT MY JOB.         2  Hopeful\n",
      "BASKETBALL                       2  Hopeful\n",
      "[Default to Nicolas Cage]        2  Hopeful\n",
      "PRACTICAL EFFECTS                1  Rejected\n",
      "ACADEMY AWARD HOMEWORK           1  Rejected\n",
      "\n",
      "ROUND 2\n",
      "Candidate                    Votes  Status\n",
      "-------------------------  -------  --------\n",
      "I AM TERRIBLE AT MY JOB.         3  Hopeful\n",
      "BASKETBALL                       3  Hopeful\n",
      "[Default to Nicolas Cage]        2  Rejected\n",
      "PRACTICAL EFFECTS                0  Rejected\n",
      "ACADEMY AWARD HOMEWORK           0  Rejected\n",
      "\n",
      "FINAL RESULT\n",
      "Candidate                    Votes  Status\n",
      "-------------------------  -------  --------\n",
      "I AM TERRIBLE AT MY JOB.         5  Elected\n",
      "BASKETBALL                       3  Rejected\n",
      "[Default to Nicolas Cage]        0  Rejected\n",
      "PRACTICAL EFFECTS                0  Rejected\n",
      "ACADEMY AWARD HOMEWORK           0  Rejected\n",
      "\n"
     ]
    }
   ],
   "source": [
    "submissions = next_week.loc[next_week.notna().all(axis=1).idxmax(),:].values\n",
    "submission_dict = {submission: pyrankvote.Candidate(submission) for submission in submissions}\n",
    "balloted = next_week.applymap(lambda x: submission_dict[x] if isinstance(x, str) else x)\n",
    "ballots = []\n",
    "for ballot in balloted.itertuples():\n",
    "    ballots.append(pyrankvote.Ballot(ranked_candidates=[b for b in ballot if isinstance(b, pyrankvote.Candidate)]))\n",
    "print(pyrankvote.instant_runoff_voting(submission_dict.values(), ballots,))"
   ]
  }
 ],
 "metadata": {
  "kernelspec": {
   "display_name": "Python 3",
   "language": "python",
   "name": "python3"
  },
  "language_info": {
   "codemirror_mode": {
    "name": "ipython",
    "version": 3
   },
   "file_extension": ".py",
   "mimetype": "text/x-python",
   "name": "python",
   "nbconvert_exporter": "python",
   "pygments_lexer": "ipython3",
   "version": "3.7.4"
  }
 },
 "nbformat": 4,
 "nbformat_minor": 2
}