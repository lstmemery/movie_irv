{
 "cells": [
  {
   "cell_type": "code",
   "execution_count": 1,
   "metadata": {},
   "outputs": [],
   "source": [
    "import pandas as pd\n",
    "import pyrankvote\n",
    "from pathlib import Path"
   ]
  },
  {
   "cell_type": "code",
   "execution_count": 2,
   "metadata": {},
   "outputs": [
    {
     "data": {
      "text/plain": "            Timestamp  \\\n0   7/9/2020 21:31:14   \n1   7/9/2020 21:32:30   \n2   7/9/2020 21:47:29   \n3   7/9/2020 21:52:29   \n4   7/9/2020 22:01:00   \n5   7/9/2020 22:05:06   \n6   7/9/2020 22:33:30   \n7  7/10/2020 14:27:51   \n8  7/10/2020 16:08:37   \n9  7/10/2020 17:13:08   \n\n  Rank your movie choices. You don't have to do a full ranking. [First Choice]  \\\n0                             But I'm a Cheerleader!                             \n1                             But I'm a Cheerleader!                             \n2                                     Happy Together                             \n3                             But I'm a Cheerleader!                             \n4                                     The Living End                             \n5   The Adventures of Priscilla, Queen of the Desert                             \n6                                     Happy Together                             \n7   The Adventures of Priscilla, Queen of the Desert                             \n8                                     The Living End                             \n9                                     The Living End                             \n\n  Rank your movie choices. You don't have to do a full ranking. [Second Choice]  \\\n0                                     Happy Together                              \n1   To Wong Foo, Thanks for Everything! Julie Newmar                              \n2                                     The Living End                              \n3   The Adventures of Priscilla, Queen of the Desert                              \n4                             But I'm a Cheerleader!                              \n5   To Wong Foo, Thanks for Everything! Julie Newmar                              \n6   To Wong Foo, Thanks for Everything! Julie Newmar                              \n7   To Wong Foo, Thanks for Everything! Julie Newmar                              \n8                             But I'm a Cheerleader!                              \n9                             But I'm a Cheerleader!                              \n\n  Rank your movie choices. You don't have to do a full ranking. [Third Choice]  \\\n0   The Adventures of Priscilla, Queen of the Desert                             \n1                                     Happy Together                             \n2                                          Hairspray                             \n3                                          Hairspray                             \n4   The Adventures of Priscilla, Queen of the Desert                             \n5                                     Happy Together                             \n6   The Adventures of Priscilla, Queen of the Desert                             \n7                             But I'm a Cheerleader!                             \n8   The Adventures of Priscilla, Queen of the Desert                             \n9                                          Hairspray                             \n\n  Rank your movie choices. You don't have to do a full ranking. [Fourth Choice]  \\\n0                                          Hairspray                              \n1                                     The Living End                              \n2                             But I'm a Cheerleader!                              \n3   To Wong Foo, Thanks for Everything! Julie Newmar                              \n4                                          Hairspray                              \n5                                     The Living End                              \n6                             But I'm a Cheerleader!                              \n7                                     The Living End                              \n8                                          Hairspray                              \n9   The Adventures of Priscilla, Queen of the Desert                              \n\n  Rank your movie choices. You don't have to do a full ranking. [Fifth Choice]  \\\n0                                     The Living End                             \n1   The Adventures of Priscilla, Queen of the Desert                             \n2   The Adventures of Priscilla, Queen of the Desert                             \n3                                     Happy Together                             \n4                                     Happy Together                             \n5                             But I'm a Cheerleader!                             \n6                                     The Living End                             \n7                                     Happy Together                             \n8   To Wong Foo, Thanks for Everything! Julie Newmar                             \n9   To Wong Foo, Thanks for Everything! Julie Newmar                             \n\n  Rank your movie choices. You don't have to do a full ranking. [Sixth Choice]  \\\n0   To Wong Foo, Thanks for Everything! Julie Newmar                             \n1                                          Hairspray                             \n2   To Wong Foo, Thanks for Everything! Julie Newmar                             \n3                                     The Living End                             \n4   To Wong Foo, Thanks for Everything! Julie Newmar                             \n5                                          Hairspray                             \n6                                          Hairspray                             \n7                                          Hairspray                             \n8                                     Happy Together                             \n9                                     Happy Together                             \n\n  What theme should we explore next week? [First Choice]  \\\n0                                      LOTS OF SLIME       \n1                                      LOTS OF SLIME       \n2                              No Theme/Free-for-all       \n3                          TECHNICALLY, FOR CHILDREN       \n4                         TOXIC MASCULINITY A GO-GO!       \n5                          TECHNICALLY, FOR CHILDREN       \n6                              THIS SOUNDTRACK BANGS       \n7                      ENNIO MORRICONE REST IN PEACE       \n8                      ENNIO MORRICONE REST IN PEACE       \n9                          TECHNICALLY, FOR CHILDREN       \n\n  What theme should we explore next week? [Second Choice]  \\\n0                              No Theme/Free-for-all        \n1                              THIS SOUNDTRACK BANGS        \n2                                       LADIES NIGHT        \n3                                       LADIES NIGHT        \n4                                       LADIES NIGHT        \n5                                       LADIES NIGHT        \n6                      ENNIO MORRICONE REST IN PEACE        \n7                                      LOTS OF SLIME        \n8                         TOXIC MASCULINITY A GO-GO!        \n9                      ENNIO MORRICONE REST IN PEACE        \n\n  What theme should we explore next week? [Third Choice]  \\\n0                                       LADIES NIGHT       \n1                          TECHNICALLY, FOR CHILDREN       \n2                          TECHNICALLY, FOR CHILDREN       \n3                              No Theme/Free-for-all       \n4                              THIS SOUNDTRACK BANGS       \n5                                      LOTS OF SLIME       \n6                         TOXIC MASCULINITY A GO-GO!       \n7                                       LADIES NIGHT       \n8                                      LOTS OF SLIME       \n9                                       LADIES NIGHT       \n\n  What theme should we explore next week? [Fourth Choice]  \\\n0                              THIS SOUNDTRACK BANGS        \n1                      ENNIO MORRICONE REST IN PEACE        \n2                              THIS SOUNDTRACK BANGS        \n3                                                NaN        \n4                                      LOTS OF SLIME        \n5                              THIS SOUNDTRACK BANGS        \n6                          TECHNICALLY, FOR CHILDREN        \n7                         TOXIC MASCULINITY A GO-GO!        \n8                          TECHNICALLY, FOR CHILDREN        \n9                              THIS SOUNDTRACK BANGS        \n\n  What theme should we explore next week? [Fifth Choice]  \\\n0                          TECHNICALLY, FOR CHILDREN       \n1                         TOXIC MASCULINITY A GO-GO!       \n2                      ENNIO MORRICONE REST IN PEACE       \n3                                                NaN       \n4                          TECHNICALLY, FOR CHILDREN       \n5                                                NaN       \n6                                       LADIES NIGHT       \n7                              THIS SOUNDTRACK BANGS       \n8                                       LADIES NIGHT       \n9                         TOXIC MASCULINITY A GO-GO!       \n\n  What theme should we explore next week? [Sixth Choice]  \\\n0                         TOXIC MASCULINITY A GO-GO!       \n1                                       LADIES NIGHT       \n2                                      LOTS OF SLIME       \n3                                                NaN       \n4                      ENNIO MORRICONE REST IN PEACE       \n5                                                NaN       \n6                                      LOTS OF SLIME       \n7                          TECHNICALLY, FOR CHILDREN       \n8                              THIS SOUNDTRACK BANGS       \n9                                      LOTS OF SLIME       \n\n  What theme should we explore next week? [Seventh Choice]  \n0                      ENNIO MORRICONE REST IN PEACE        \n1                              No Theme/Free-for-all        \n2                         TOXIC MASCULINITY A GO-GO!        \n3                                                NaN        \n4                              No Theme/Free-for-all        \n5                                                NaN        \n6                              No Theme/Free-for-all        \n7                              No Theme/Free-for-all        \n8                                                NaN        \n9                              No Theme/Free-for-all        ",
      "text/html": "<div>\n<style scoped>\n    .dataframe tbody tr th:only-of-type {\n        vertical-align: middle;\n    }\n\n    .dataframe tbody tr th {\n        vertical-align: top;\n    }\n\n    .dataframe thead th {\n        text-align: right;\n    }\n</style>\n<table border=\"1\" class=\"dataframe\">\n  <thead>\n    <tr style=\"text-align: right;\">\n      <th></th>\n      <th>Timestamp</th>\n      <th>Rank your movie choices. You don't have to do a full ranking. [First Choice]</th>\n      <th>Rank your movie choices. You don't have to do a full ranking. [Second Choice]</th>\n      <th>Rank your movie choices. You don't have to do a full ranking. [Third Choice]</th>\n      <th>Rank your movie choices. You don't have to do a full ranking. [Fourth Choice]</th>\n      <th>Rank your movie choices. You don't have to do a full ranking. [Fifth Choice]</th>\n      <th>Rank your movie choices. You don't have to do a full ranking. [Sixth Choice]</th>\n      <th>What theme should we explore next week? [First Choice]</th>\n      <th>What theme should we explore next week? [Second Choice]</th>\n      <th>What theme should we explore next week? [Third Choice]</th>\n      <th>What theme should we explore next week? [Fourth Choice]</th>\n      <th>What theme should we explore next week? [Fifth Choice]</th>\n      <th>What theme should we explore next week? [Sixth Choice]</th>\n      <th>What theme should we explore next week? [Seventh Choice]</th>\n    </tr>\n  </thead>\n  <tbody>\n    <tr>\n      <th>0</th>\n      <td>7/9/2020 21:31:14</td>\n      <td>But I'm a Cheerleader!</td>\n      <td>Happy Together</td>\n      <td>The Adventures of Priscilla, Queen of the Desert</td>\n      <td>Hairspray</td>\n      <td>The Living End</td>\n      <td>To Wong Foo, Thanks for Everything! Julie Newmar</td>\n      <td>LOTS OF SLIME</td>\n      <td>No Theme/Free-for-all</td>\n      <td>LADIES NIGHT</td>\n      <td>THIS SOUNDTRACK BANGS</td>\n      <td>TECHNICALLY, FOR CHILDREN</td>\n      <td>TOXIC MASCULINITY A GO-GO!</td>\n      <td>ENNIO MORRICONE REST IN PEACE</td>\n    </tr>\n    <tr>\n      <th>1</th>\n      <td>7/9/2020 21:32:30</td>\n      <td>But I'm a Cheerleader!</td>\n      <td>To Wong Foo, Thanks for Everything! Julie Newmar</td>\n      <td>Happy Together</td>\n      <td>The Living End</td>\n      <td>The Adventures of Priscilla, Queen of the Desert</td>\n      <td>Hairspray</td>\n      <td>LOTS OF SLIME</td>\n      <td>THIS SOUNDTRACK BANGS</td>\n      <td>TECHNICALLY, FOR CHILDREN</td>\n      <td>ENNIO MORRICONE REST IN PEACE</td>\n      <td>TOXIC MASCULINITY A GO-GO!</td>\n      <td>LADIES NIGHT</td>\n      <td>No Theme/Free-for-all</td>\n    </tr>\n    <tr>\n      <th>2</th>\n      <td>7/9/2020 21:47:29</td>\n      <td>Happy Together</td>\n      <td>The Living End</td>\n      <td>Hairspray</td>\n      <td>But I'm a Cheerleader!</td>\n      <td>The Adventures of Priscilla, Queen of the Desert</td>\n      <td>To Wong Foo, Thanks for Everything! Julie Newmar</td>\n      <td>No Theme/Free-for-all</td>\n      <td>LADIES NIGHT</td>\n      <td>TECHNICALLY, FOR CHILDREN</td>\n      <td>THIS SOUNDTRACK BANGS</td>\n      <td>ENNIO MORRICONE REST IN PEACE</td>\n      <td>LOTS OF SLIME</td>\n      <td>TOXIC MASCULINITY A GO-GO!</td>\n    </tr>\n    <tr>\n      <th>3</th>\n      <td>7/9/2020 21:52:29</td>\n      <td>But I'm a Cheerleader!</td>\n      <td>The Adventures of Priscilla, Queen of the Desert</td>\n      <td>Hairspray</td>\n      <td>To Wong Foo, Thanks for Everything! Julie Newmar</td>\n      <td>Happy Together</td>\n      <td>The Living End</td>\n      <td>TECHNICALLY, FOR CHILDREN</td>\n      <td>LADIES NIGHT</td>\n      <td>No Theme/Free-for-all</td>\n      <td>NaN</td>\n      <td>NaN</td>\n      <td>NaN</td>\n      <td>NaN</td>\n    </tr>\n    <tr>\n      <th>4</th>\n      <td>7/9/2020 22:01:00</td>\n      <td>The Living End</td>\n      <td>But I'm a Cheerleader!</td>\n      <td>The Adventures of Priscilla, Queen of the Desert</td>\n      <td>Hairspray</td>\n      <td>Happy Together</td>\n      <td>To Wong Foo, Thanks for Everything! Julie Newmar</td>\n      <td>TOXIC MASCULINITY A GO-GO!</td>\n      <td>LADIES NIGHT</td>\n      <td>THIS SOUNDTRACK BANGS</td>\n      <td>LOTS OF SLIME</td>\n      <td>TECHNICALLY, FOR CHILDREN</td>\n      <td>ENNIO MORRICONE REST IN PEACE</td>\n      <td>No Theme/Free-for-all</td>\n    </tr>\n    <tr>\n      <th>5</th>\n      <td>7/9/2020 22:05:06</td>\n      <td>The Adventures of Priscilla, Queen of the Desert</td>\n      <td>To Wong Foo, Thanks for Everything! Julie Newmar</td>\n      <td>Happy Together</td>\n      <td>The Living End</td>\n      <td>But I'm a Cheerleader!</td>\n      <td>Hairspray</td>\n      <td>TECHNICALLY, FOR CHILDREN</td>\n      <td>LADIES NIGHT</td>\n      <td>LOTS OF SLIME</td>\n      <td>THIS SOUNDTRACK BANGS</td>\n      <td>NaN</td>\n      <td>NaN</td>\n      <td>NaN</td>\n    </tr>\n    <tr>\n      <th>6</th>\n      <td>7/9/2020 22:33:30</td>\n      <td>Happy Together</td>\n      <td>To Wong Foo, Thanks for Everything! Julie Newmar</td>\n      <td>The Adventures of Priscilla, Queen of the Desert</td>\n      <td>But I'm a Cheerleader!</td>\n      <td>The Living End</td>\n      <td>Hairspray</td>\n      <td>THIS SOUNDTRACK BANGS</td>\n      <td>ENNIO MORRICONE REST IN PEACE</td>\n      <td>TOXIC MASCULINITY A GO-GO!</td>\n      <td>TECHNICALLY, FOR CHILDREN</td>\n      <td>LADIES NIGHT</td>\n      <td>LOTS OF SLIME</td>\n      <td>No Theme/Free-for-all</td>\n    </tr>\n    <tr>\n      <th>7</th>\n      <td>7/10/2020 14:27:51</td>\n      <td>The Adventures of Priscilla, Queen of the Desert</td>\n      <td>To Wong Foo, Thanks for Everything! Julie Newmar</td>\n      <td>But I'm a Cheerleader!</td>\n      <td>The Living End</td>\n      <td>Happy Together</td>\n      <td>Hairspray</td>\n      <td>ENNIO MORRICONE REST IN PEACE</td>\n      <td>LOTS OF SLIME</td>\n      <td>LADIES NIGHT</td>\n      <td>TOXIC MASCULINITY A GO-GO!</td>\n      <td>THIS SOUNDTRACK BANGS</td>\n      <td>TECHNICALLY, FOR CHILDREN</td>\n      <td>No Theme/Free-for-all</td>\n    </tr>\n    <tr>\n      <th>8</th>\n      <td>7/10/2020 16:08:37</td>\n      <td>The Living End</td>\n      <td>But I'm a Cheerleader!</td>\n      <td>The Adventures of Priscilla, Queen of the Desert</td>\n      <td>Hairspray</td>\n      <td>To Wong Foo, Thanks for Everything! Julie Newmar</td>\n      <td>Happy Together</td>\n      <td>ENNIO MORRICONE REST IN PEACE</td>\n      <td>TOXIC MASCULINITY A GO-GO!</td>\n      <td>LOTS OF SLIME</td>\n      <td>TECHNICALLY, FOR CHILDREN</td>\n      <td>LADIES NIGHT</td>\n      <td>THIS SOUNDTRACK BANGS</td>\n      <td>NaN</td>\n    </tr>\n    <tr>\n      <th>9</th>\n      <td>7/10/2020 17:13:08</td>\n      <td>The Living End</td>\n      <td>But I'm a Cheerleader!</td>\n      <td>Hairspray</td>\n      <td>The Adventures of Priscilla, Queen of the Desert</td>\n      <td>To Wong Foo, Thanks for Everything! Julie Newmar</td>\n      <td>Happy Together</td>\n      <td>TECHNICALLY, FOR CHILDREN</td>\n      <td>ENNIO MORRICONE REST IN PEACE</td>\n      <td>LADIES NIGHT</td>\n      <td>THIS SOUNDTRACK BANGS</td>\n      <td>TOXIC MASCULINITY A GO-GO!</td>\n      <td>LOTS OF SLIME</td>\n      <td>No Theme/Free-for-all</td>\n    </tr>\n  </tbody>\n</table>\n</div>"
     },
     "execution_count": 2,
     "metadata": {},
     "output_type": "execute_result"
    }
   ],
   "source": [
    "df = pd.read_csv(Path('./data/20200713.csv').resolve())\n",
    "df"
   ]
  },
  {
   "cell_type": "code",
   "execution_count": 3,
   "metadata": {},
   "outputs": [],
   "source": [
    "just_ballots = df.loc[:, df.columns.str.startswith('Rank')]\n",
    "next_week = df.loc[:, df.columns.str.startswith('What')]"
   ]
  },
  {
   "cell_type": "code",
   "execution_count": 4,
   "metadata": {},
   "outputs": [
    {
     "data": {
      "text/plain": "array([\"But I'm a Cheerleader!\", 'Happy Together',\n       'The Adventures of Priscilla, Queen of the Desert', 'Hairspray',\n       'The Living End',\n       'To Wong Foo, Thanks for Everything! Julie Newmar'], dtype=object)"
     },
     "execution_count": 4,
     "metadata": {},
     "output_type": "execute_result"
    }
   ],
   "source": [
    "submissions = just_ballots.loc[just_ballots.notna().all(axis=1).idxmax(),:].values\n",
    "submissions"
   ]
  },
  {
   "cell_type": "code",
   "execution_count": 5,
   "metadata": {},
   "outputs": [],
   "source": [
    "submission_dict = {submission: pyrankvote.Candidate(submission) for submission in submissions}"
   ]
  },
  {
   "cell_type": "code",
   "execution_count": 6,
   "metadata": {},
   "outputs": [],
   "source": [
    "balloted = just_ballots.applymap(lambda x: submission_dict[x] if isinstance(x, str) else x)"
   ]
  },
  {
   "cell_type": "code",
   "execution_count": 7,
   "metadata": {},
   "outputs": [
    {
     "data": {
      "text/plain": "{\"But I'm a Cheerleader!\": <Candidate('But I'm a Cheerleader!')>,\n 'Happy Together': <Candidate('Happy Together')>,\n 'The Adventures of Priscilla, Queen of the Desert': <Candidate('The Adventures of Priscilla, Queen of the Desert')>,\n 'Hairspray': <Candidate('Hairspray')>,\n 'The Living End': <Candidate('The Living End')>,\n 'To Wong Foo, Thanks for Everything! Julie Newmar': <Candidate('To Wong Foo, Thanks for Everything! Julie Newmar')>}"
     },
     "execution_count": 7,
     "metadata": {},
     "output_type": "execute_result"
    }
   ],
   "source": [
    "submission_dict"
   ]
  },
  {
   "cell_type": "code",
   "execution_count": 8,
   "metadata": {},
   "outputs": [],
   "source": [
    "ballots = []\n",
    "for ballot in balloted.itertuples():\n",
    "    ballots.append(pyrankvote.Ballot(ranked_candidates=[b for b in ballot if isinstance(b, pyrankvote.Candidate)]))"
   ]
  },
  {
   "cell_type": "code",
   "execution_count": 9,
   "metadata": {},
   "outputs": [
    {
     "data": {
      "text/plain": "[<Ballot(But I'm a Cheerleader!, Happy Together, The Adventures of Priscilla, Queen of the Desert, Hairspray, The Living End, To Wong Foo, Thanks for Everything! Julie Newmar)>,\n <Ballot(But I'm a Cheerleader!, To Wong Foo, Thanks for Everything! Julie Newmar, Happy Together, The Living End, The Adventures of Priscilla, Queen of the Desert, Hairspray)>,\n <Ballot(Happy Together, The Living End, Hairspray, But I'm a Cheerleader!, The Adventures of Priscilla, Queen of the Desert, To Wong Foo, Thanks for Everything! Julie Newmar)>,\n <Ballot(But I'm a Cheerleader!, The Adventures of Priscilla, Queen of the Desert, Hairspray, To Wong Foo, Thanks for Everything! Julie Newmar, Happy Together, The Living End)>,\n <Ballot(The Living End, But I'm a Cheerleader!, The Adventures of Priscilla, Queen of the Desert, Hairspray, Happy Together, To Wong Foo, Thanks for Everything! Julie Newmar)>,\n <Ballot(The Adventures of Priscilla, Queen of the Desert, To Wong Foo, Thanks for Everything! Julie Newmar, Happy Together, The Living End, But I'm a Cheerleader!, Hairspray)>,\n <Ballot(Happy Together, To Wong Foo, Thanks for Everything! Julie Newmar, The Adventures of Priscilla, Queen of the Desert, But I'm a Cheerleader!, The Living End, Hairspray)>,\n <Ballot(The Adventures of Priscilla, Queen of the Desert, To Wong Foo, Thanks for Everything! Julie Newmar, But I'm a Cheerleader!, The Living End, Happy Together, Hairspray)>,\n <Ballot(The Living End, But I'm a Cheerleader!, The Adventures of Priscilla, Queen of the Desert, Hairspray, To Wong Foo, Thanks for Everything! Julie Newmar, Happy Together)>,\n <Ballot(The Living End, But I'm a Cheerleader!, Hairspray, The Adventures of Priscilla, Queen of the Desert, To Wong Foo, Thanks for Everything! Julie Newmar, Happy Together)>]"
     },
     "execution_count": 9,
     "metadata": {},
     "output_type": "execute_result"
    }
   ],
   "source": [
    "ballots"
   ]
  },
  {
   "cell_type": "code",
   "execution_count": 10,
   "metadata": {},
   "outputs": [],
   "source": [
    "election_result = pyrankvote.instant_runoff_voting(submission_dict.values(), ballots,)"
   ]
  },
  {
   "cell_type": "code",
   "execution_count": 11,
   "metadata": {},
   "outputs": [
    {
     "name": "stdout",
     "output_type": "stream",
     "text": [
      "ROUND 1\n",
      "Candidate                                           Votes  Status\n",
      "------------------------------------------------  -------  --------\n",
      "But I'm a Cheerleader!                                  3  Hopeful\n",
      "The Living End                                          3  Hopeful\n",
      "The Adventures of Priscilla, Queen of the Desert        2  Hopeful\n",
      "Happy Together                                          2  Rejected\n",
      "To Wong Foo, Thanks for Everything! Julie Newmar        0  Rejected\n",
      "Hairspray                                               0  Rejected\n",
      "\n",
      "ROUND 2\n",
      "Candidate                                           Votes  Status\n",
      "------------------------------------------------  -------  --------\n",
      "The Living End                                          4  Hopeful\n",
      "But I'm a Cheerleader!                                  3  Hopeful\n",
      "The Adventures of Priscilla, Queen of the Desert        3  Rejected\n",
      "Happy Together                                          0  Rejected\n",
      "To Wong Foo, Thanks for Everything! Julie Newmar        0  Rejected\n",
      "Hairspray                                               0  Rejected\n",
      "\n",
      "FINAL RESULT\n",
      "Candidate                                           Votes  Status\n",
      "------------------------------------------------  -------  --------\n",
      "The Living End                                          5  Elected\n",
      "But I'm a Cheerleader!                                  5  Rejected\n",
      "The Adventures of Priscilla, Queen of the Desert        0  Rejected\n",
      "Happy Together                                          0  Rejected\n",
      "To Wong Foo, Thanks for Everything! Julie Newmar        0  Rejected\n",
      "Hairspray                                               0  Rejected\n",
      "\n"
     ]
    }
   ],
   "source": [
    "print(election_result)"
   ]
  },
  {
   "cell_type": "code",
   "execution_count": 12,
   "metadata": {},
   "outputs": [
    {
     "name": "stdout",
     "output_type": "stream",
     "text": [
      "ROUND 1\n",
      "Candidate                        Votes  Status\n",
      "-----------------------------  -------  --------\n",
      "TECHNICALLY, FOR CHILDREN            3  Hopeful\n",
      "ENNIO MORRICONE REST IN PEACE        2  Hopeful\n",
      "LOTS OF SLIME                        2  Hopeful\n",
      "THIS SOUNDTRACK BANGS                1  Hopeful\n",
      "TOXIC MASCULINITY A GO-GO!           1  Hopeful\n",
      "No Theme/Free-for-all                1  Rejected\n",
      "LADIES NIGHT                         0  Rejected\n",
      "\n",
      "ROUND 2\n",
      "Candidate                        Votes  Status\n",
      "-----------------------------  -------  --------\n",
      "TECHNICALLY, FOR CHILDREN            4  Hopeful\n",
      "LOTS OF SLIME                        2  Hopeful\n",
      "ENNIO MORRICONE REST IN PEACE        2  Hopeful\n",
      "THIS SOUNDTRACK BANGS                1  Rejected\n",
      "TOXIC MASCULINITY A GO-GO!           1  Rejected\n",
      "No Theme/Free-for-all                0  Rejected\n",
      "LADIES NIGHT                         0  Rejected\n",
      "\n",
      "ROUND 3\n",
      "Candidate                        Votes  Status\n",
      "-----------------------------  -------  --------\n",
      "TECHNICALLY, FOR CHILDREN            4  Hopeful\n",
      "LOTS OF SLIME                        3  Hopeful\n",
      "ENNIO MORRICONE REST IN PEACE        3  Rejected\n",
      "THIS SOUNDTRACK BANGS                0  Rejected\n",
      "TOXIC MASCULINITY A GO-GO!           0  Rejected\n",
      "No Theme/Free-for-all                0  Rejected\n",
      "LADIES NIGHT                         0  Rejected\n",
      "\n",
      "FINAL RESULT\n",
      "Candidate                        Votes  Status\n",
      "-----------------------------  -------  --------\n",
      "TECHNICALLY, FOR CHILDREN            5  Elected\n",
      "LOTS OF SLIME                        5  Rejected\n",
      "ENNIO MORRICONE REST IN PEACE        0  Rejected\n",
      "THIS SOUNDTRACK BANGS                0  Rejected\n",
      "TOXIC MASCULINITY A GO-GO!           0  Rejected\n",
      "No Theme/Free-for-all                0  Rejected\n",
      "LADIES NIGHT                         0  Rejected\n",
      "\n"
     ]
    }
   ],
   "source": [
    "submissions = next_week.loc[next_week.notna().all(axis=1).idxmax(),:].values\n",
    "submission_dict = {submission: pyrankvote.Candidate(submission) for submission in submissions}\n",
    "balloted = next_week.applymap(lambda x: submission_dict[x] if isinstance(x, str) else x)\n",
    "ballots = []\n",
    "for ballot in balloted.itertuples():\n",
    "    ballots.append(pyrankvote.Ballot(ranked_candidates=[b for b in ballot if isinstance(b, pyrankvote.Candidate)]))\n",
    "print(pyrankvote.instant_runoff_voting(submission_dict.values(), ballots,))"
   ]
  }
 ],
 "metadata": {
  "kernelspec": {
   "display_name": "Python 3",
   "language": "python",
   "name": "python3"
  },
  "language_info": {
   "codemirror_mode": {
    "name": "ipython",
    "version": 3
   },
   "file_extension": ".py",
   "mimetype": "text/x-python",
   "name": "python",
   "nbconvert_exporter": "python",
   "pygments_lexer": "ipython3",
   "version": "3.7.4"
  }
 },
 "nbformat": 4,
 "nbformat_minor": 2
}